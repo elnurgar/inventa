{
 "cells": [
  {
   "cell_type": "markdown",
   "metadata": {},
   "source": [
    "# INVENTA - Prioritization of natural extracts for chemical originality discovery\n"
   ]
  },
  {
   "cell_type": "code",
   "execution_count": 12,
   "metadata": {},
   "outputs": [
    {
     "name": "stdout",
     "output_type": "stream",
     "text": [
      "Enabling notebook extension lineup_widget/extension...\n",
      "      - Validating: \u001b[32mOK\u001b[0m\n"
     ]
    }
   ],
   "source": [
    "from __future__ import print_function\n",
    "from IPython.core.display import HTML\n",
    "HTML(\"<script>Jupyter.notebook.kernel.restart()</script>\")\n",
    "import numpy as np\n",
    "import pandas as pd\n",
    "import sys \n",
    "import lineup_widget\n",
    "from ipywidgets import *\n",
    "!jupyter nbextension enable --py --sys-prefix lineup_widget\n",
    "\n",
    "sys.path.append('../src')\n",
    "sys.path.append('../gnps_postprocessing/src') \n",
    "sys.path.append('../gnps_postprocessing/lib')\n",
    "\n",
    "from import_data import*\n",
    "from inventa import *\n",
    "from plot import *\n",
    "\n",
    "from gnps_download_results import *\n",
    "from consolidates_structures import *\n",
    "from gnps_results_postprocess import *"
   ]
  },
  {
   "cell_type": "markdown",
   "metadata": {},
   "source": [
    "![title](../src/Priority_rank.png)"
   ]
  },
  {
   "cell_type": "markdown",
   "metadata": {},
   "source": [
    "# Paths and parameters to define"
   ]
  },
  {
   "cell_type": "code",
   "execution_count": 84,
   "metadata": {},
   "outputs": [],
   "source": [
    "#paths:\n",
    "\n",
    "metadata_filename = '../data/Celastraceae_Set_metadata_pos.tsv'                      # The path were you want your folder to be placed\n",
    "quantitative_data_filename = '../data/Celastraceae_pos_quant.csv'                    # The path were you want your GNPS job folder to be placed\n",
    "tima_results_filename = '../data/Celastraceae_pos_spectral_match_results_repond.tsv' # ISDB_annot_LP_plantfungi_set # The name you want to give to your project, output resulst in data_out/project_name\n",
    "vectorized_data_filename = '../data/Celastraceae_memomatrix.csv'                     # the path for your output to be stored in\n",
    "canopus_npc_summary_filename = '../data/canopus_npc_summary.tsv'                     # Path to your spectral library file\n",
    "sirius_annotations_filename = '../data/compound_identifications.tsv'                 # Path to the metadata of the spectral file\n",
    "\n",
    "\n",
    "job_id= '4c919fcbc83d487493a487012afb920a'  #\"yourjobidgoeshere\"  \n",
    "\n",
    "# parameters\n",
    "\n",
    "#For cleaning-up annotations from GNPS \n",
    "\n",
    "max_ppm_error = 5                 # min error in ppm to consider an annotation valable\n",
    "shared_peaks = 10                 # min number of shared peaks between the MS2 experimental and MS2 from the database, to consider an annotation valable\n",
    "min_cosine = 0.6                  # min cosine score to consider an annotation valable\n",
    "ionisation_mode = 'pos'           # ionisation mode according to experimental conditions\n",
    "\n",
    "#Feature_component\n",
    "\n",
    "min_specificity = 90               # minimun feature specificity to consider\n",
    "only_feature_specificity = False   # True if annotations should be ignore and the FC should be calculated based on the features specificity. If False it will compute both The Sample specifity adn the FC\n",
    "\n",
    "## inputs to use: \n",
    "isdb_annotations = True          # True: the tima_results_filename will be considered in the calculations\n",
    "sirius_annotations = True         #True: the sirius_annotations_filename will be considered in the calculations\n",
    "\n",
    "## cut-offs: \n",
    "min_score_final = 0.3             #cut-off filter for considering an isdb annotation valable. You must be extremenly carefull with this parameter, '0.0' as default.\n",
    "min_ZodiacScore = 0.9             #cut-off filter for considering a sirius annotation valable. It is used in combination with min_ConfidenceScore.\n",
    "min_ConfidenceScore = 0.1         #cut-off filter for considering a sirius annotation valable. '0.0' as default.\n",
    "\n",
    "## other: \n",
    "only_ms2_annotations = False       # False to considere both, MS1 & MS2 annotations, False will only considerer MS2 annotations\n",
    "annotation_preference = 0          # Only Annotated nodes: '1' \n",
    "                                   # Only Not annotated: '0'\n",
    "\n",
    "#Literature_component\n",
    "\n",
    "LC_component = True               # LC will be calculated\n",
    "max_comp_reported = 40             # more than this value, the plant is considered no interesting LC =0\n",
    "min_comp_reported = 10             # less than this value, the plant is consireded very interesintg LC =1\n",
    "                                   # a sample with x between both values gets a LC=0.5\n",
    "\n",
    "#Similarity_component\n",
    "\n",
    "SC_component = True                # SC will be calculated\n",
    "\n",
    "#Class_component\n",
    "\n",
    "CC_component = True               # CC will be calculated\n",
    "min_class_confidence = 0.8       #cut-off filter for considering a sirius class valable. It is used in combination with min_recurrence.\n",
    "min_recurrence = 5               # minimum recurrence of a chemical class to consider it acceptable\n",
    "\n",
    "\n",
    "#specify the weight to modulate each component \n",
    "w1 = 1           # 1 means the value itself is taken into account. A 0.5 means onle half of the calculated value is taken into account\n",
    "w2 = 1\n",
    "w3 = 1\n",
    "w4 = 1"
   ]
  },
  {
   "cell_type": "markdown",
   "metadata": {},
   "source": [
    "# Prepare input files\n",
    "\n",
    "### Download and clean the GNPS results"
   ]
  },
  {
   "cell_type": "code",
   "execution_count": 14,
   "metadata": {},
   "outputs": [
    {
     "name": "stdout",
     "output_type": "stream",
     "text": [
      "==================\n",
      "This is the GNPS job link: https://gnps.ucsd.edu/ProteoSAFe/status.jsp?task=4c919fcbc83d487493a487012afb920a\n",
      "Downloading the following content: https://gnps.ucsd.edu/ProteoSAFe/DownloadResult?task=4c919fcbc83d487493a487012afb920a&view=view_all_annotations_DB\n"
     ]
    },
    {
     "name": "stderr",
     "output_type": "stream",
     "text": [
      "  % Total    % Received % Xferd  Average Speed   Time    Time     Time  Current\n",
      "                                 Dload  Upload   Total   Spent    Left  Speed\n",
      "100 38.9M    0 38.9M    0     0  1776k      0 --:--:--  0:00:22 --:--:-- 4137k\n"
     ]
    },
    {
     "name": "stdout",
     "output_type": "stream",
     "text": [
      "GNPS job results were succesfully downloaded as: ../data/all_annotations.zip\n",
      "GNPS job results were succesfully extracted into the folder: ../data/all_annotations\n",
      "==================\n",
      "==================\n",
      "   FEATURE-BASED MOLECULAR NETWORKING job detected - Version > 28\n",
      "==================\n",
      "      1835 spectral library annotations in the job.\n",
      "==================\n",
      "      14969 nodes in the network (including single nodes).\n"
     ]
    }
   ],
   "source": [
    "df_annotations= gnps_download_results(job_id, output_folder ='../data/all_annotations', return_annotation_table=True)"
   ]
  },
  {
   "cell_type": "markdown",
   "metadata": {},
   "source": [
    "##### Consolidate structure identifiers"
   ]
  },
  {
   "cell_type": "code",
   "execution_count": 15,
   "metadata": {},
   "outputs": [
    {
     "name": "stdout",
     "output_type": "stream",
     "text": [
      "Both SMILES and InChI were inputted\n",
      "Converting SMILES to mol object\n",
      "Succesfully converted to mol object: 1399\n",
      "Exception to the parsing: 0\n",
      "Not available: 437\n",
      "Converting INCHI to mol object\n"
     ]
    },
    {
     "name": "stderr",
     "output_type": "stream",
     "text": [
      "RDKit ERROR: [08:27:22] ERROR: \n",
      "ERROR: \n",
      "[08:27:22] ERROR: \n",
      "[08:27:22] ERROR: \n",
      "[08:27:22] ERROR: \n",
      "[08:27:22] ERROR: \n",
      "[08:27:22] ERROR: \n",
      "[08:27:22] ERROR: \n",
      "[08:27:22] ERROR: \n",
      "[08:27:22] ERROR: \n",
      "[08:27:22] ERROR: \n",
      "[08:27:22] ERROR: \n",
      "[08:27:22] ERROR: \n",
      "[08:27:22] ERROR: \n",
      "[08:27:22] ERROR: \n",
      "[08:27:22] ERROR: \n",
      "[08:27:22] ERROR: \n",
      "[08:27:22] ERROR: \n",
      "[08:27:22] ERROR: \n",
      "[08:27:22] ERROR: \n",
      "[08:27:22] ERROR: \n",
      "[08:27:22] ERROR: \n",
      "[08:27:22] ERROR: \n",
      "[08:27:22] ERROR: \n",
      "[08:27:22] ERROR: \n",
      "[08:27:22] ERROR: \n",
      "[08:27:22] ERROR: \n",
      "[08:27:22] ERROR: \n",
      "[08:27:22] ERROR: \n",
      "[08:27:22] ERROR: \n",
      "[08:27:22] ERROR: \n",
      "[08:27:22] ERROR: \n",
      "[08:27:22] ERROR: \n",
      "[08:27:22] ERROR: \n",
      "[08:27:22] ERROR: \n",
      "[08:27:22] ERROR: \n",
      "[08:27:22] ERROR: \n",
      "[08:27:22] ERROR: \n",
      "[08:27:22] ERROR: \n",
      "[08:27:22] ERROR: \n",
      "[08:27:22] ERROR: \n",
      "[08:27:22] ERROR: \n",
      "[08:27:22] ERROR: \n",
      "[08:27:22] ERROR: \n",
      "[08:41:22] ERROR: \n",
      "[08:41:22] ERROR: \n",
      "[08:41:22] ERROR: \n",
      "[08:41:22] ERROR: \n",
      "[08:41:22] ERROR: \n",
      "[08:41:22] ERROR: \n",
      "[08:41:22] ERROR: \n",
      "[08:41:22] ERROR: \n",
      "[08:41:22] ERROR: \n",
      "[08:41:22] ERROR: \n",
      "[08:41:22] ERROR: \n",
      "[08:41:22] ERROR: \n",
      "[08:41:22] ERROR: \n",
      "[08:41:22] ERROR: \n",
      "[08:41:22] ERROR: \n",
      "[08:41:22] ERROR: \n",
      "[08:41:22] ERROR: \n",
      "[08:41:22] ERROR: \n",
      "[08:41:22] ERROR: \n",
      "[08:41:22] ERROR: \n",
      "[08:41:22] ERROR: \n",
      "[08:41:22] ERROR: \n",
      "[08:41:22] ERROR: \n",
      "[08:41:22] ERROR: \n",
      "[08:41:22] ERROR: \n",
      "[08:41:22] ERROR: \n",
      "[08:41:22] ERROR: \n",
      "[08:41:22] ERROR: \n",
      "[08:41:22] ERROR: \n",
      "[08:41:22] ERROR: \n",
      "[08:41:22] ERROR: \n",
      "[08:41:22] ERROR: \n",
      "[08:41:22] ERROR: \n",
      "[08:41:22] ERROR: \n",
      "[08:41:22] ERROR: \n",
      "[08:41:22] ERROR: \n",
      "[08:41:22] ERROR: \n",
      "[08:41:22] ERROR: \n",
      "[08:41:22] ERROR: \n",
      "[08:41:22] ERROR: \n",
      "[08:41:22] ERROR: \n",
      "[08:41:22] ERROR: \n",
      "[08:41:22] ERROR: \n",
      "[08:41:22] ERROR: \n",
      "[08:41:22] ERROR: \n",
      "[08:41:22] ERROR: \n",
      "[08:41:22] ERROR: \n",
      "[08:41:22] ERROR: \n",
      "[08:41:22] ERROR: \n",
      "[08:41:22] ERROR: \n",
      "[08:41:22] ERROR: \n",
      "[08:41:22] ERROR: \n",
      "[08:41:22] ERROR: \n",
      "[08:41:22] ERROR: \n",
      "[08:41:22] ERROR: \n",
      "[08:41:22] ERROR: \n",
      "[08:41:22] ERROR: \n",
      "[08:41:22] ERROR: \n",
      "[08:41:22] ERROR: \n",
      "[08:41:22] ERROR: \n",
      "[08:41:22] ERROR: \n",
      "[08:41:22] ERROR: \n",
      "[08:41:22] ERROR: \n",
      "[08:41:22] ERROR: \n",
      "[08:41:22] ERROR: \n",
      "[08:41:22] ERROR: \n",
      "[08:41:22] ERROR: \n",
      "[08:41:22] ERROR: \n",
      "[08:41:22] ERROR: \n",
      "[08:41:22] ERROR: \n",
      "[08:41:22] ERROR: \n",
      "[08:41:22] ERROR: \n",
      "[08:41:22] ERROR: \n",
      "[08:41:22] ERROR: \n",
      "[08:41:22] ERROR: \n",
      "[08:41:22] ERROR: \n",
      "[08:41:22] ERROR: \n",
      "[08:41:22] ERROR: \n",
      "[08:41:22] ERROR: \n",
      "[08:41:22] ERROR: \n",
      "[08:41:22] ERROR: \n",
      "[08:41:22] ERROR: \n",
      "[08:41:22] ERROR: \n",
      "[08:41:22] ERROR: \n",
      "[08:41:22] ERROR: \n",
      "[08:41:22] ERROR: \n",
      "[08:41:22] ERROR: \n",
      "[08:41:22] ERROR: \n",
      "[08:41:22] ERROR: \n",
      "[08:41:22] ERROR: \n",
      "[08:41:22] ERROR: \n",
      "[08:41:22] ERROR: \n",
      "[08:41:22] ERROR: \n",
      "[08:41:22] ERROR: \n",
      "[08:41:22] ERROR: \n",
      "[08:41:22] ERROR: \n",
      "[08:41:22] ERROR: \n",
      "[08:41:22] ERROR: \n",
      "[08:41:22] ERROR: \n",
      "[08:41:22] ERROR: \n",
      "[08:41:22] ERROR: \n",
      "[08:41:22] ERROR: \n",
      "[08:41:22] ERROR: \n",
      "[08:41:22] ERROR: \n",
      "[08:41:22] ERROR: \n",
      "[08:41:22] ERROR: \n",
      "[08:41:22] ERROR: \n",
      "[08:41:22] ERROR: \n",
      "[08:41:22] ERROR: \n",
      "[08:41:22] ERROR: \n",
      "[08:41:22] ERROR: \n",
      "[08:41:22] ERROR: \n",
      "[08:41:22] ERROR: \n",
      "[08:41:22] ERROR: \n",
      "[08:41:22] ERROR: \n",
      "[08:41:22RDKit ERROR: [08:27:22] ERROR: \n",
      "RDKit ERROR: [08:27:22] ERROR: \n",
      "RDKit ERROR: [08:27:22] ERROR: \n",
      "RDKit ERROR: [08:27:22] ERROR: \n",
      "RDKit ERROR: [08:27:22] ERROR: \n",
      "RDKit ERROR: [08:27:22] ERROR: \n",
      "RDKit ERROR: [08:27:22] ERROR: \n",
      "RDKit ERROR: [08:27:22] ERROR: \n",
      "RDKit ERROR: [08:27:22] ERROR: \n",
      "RDKit ERROR: [08:27:22] ERROR: \n",
      "RDKit ERROR: [08:27:22] ERROR: \n",
      "RDKit ERROR: [08:27:22] ERROR: \n",
      "RDKit ERROR: [08:27:22] ERROR: \n",
      "RDKit ERROR: [08:27:22] ERROR: \n",
      "RDKit ERROR: [08:27:22] ERROR: \n",
      "] ERROR: \n",
      "[08:41:22] ERROR: \n",
      "[08:41:22] ERROR: \n",
      "[08:41:22] ERROR: \n",
      "[08:41:22] ERROR: \n",
      "[08:41:22] ERROR: \n",
      "[08:41:22] ERROR: \n",
      "[08:41:22] ERROR: \n",
      "[08:41:22] ERROR: \n",
      "[08:41:22] ERROR: \n",
      "[08:41:22] ERROR: \n",
      "[08:41:22] ERROR: \n",
      "[08:41:22] ERROR: \n",
      "[08:41:22] ERROR: \n",
      "[08:41:22] ERROR: \n",
      "[08:41:22] ERROR: \n",
      "[08:41:22] ERROR: \n",
      "[08:41:22] ERROR: \n",
      "[08:41:22] ERROR: \n",
      "[08:41:22] ERROR: \n",
      "[08:41:22] ERROR: \n",
      "[08:41:22] ERROR: \n",
      "[08:41:22] ERROR: \n",
      "[08:41:22] ERROR: \n",
      "[08:41:22] ERROR: \n",
      "[08:41:22] ERROR: \n",
      "[08:41:22] ERROR: \n",
      "[08:41:22] ERROR: \n",
      "[08:41:22] ERROR: \n",
      "[08:41:22] ERROR: \n",
      "[08:41:22] ERROR: \n",
      "[08:41:22] ERROR: \n",
      "[08:41:22] ERROR: \n",
      "[08:41:22] ERROR: \n",
      "[08:41:22] ERROR: \n",
      "[08:41:22] ERROR: \n",
      "[08:41:22] ERROR: \n",
      "[08:41:22] ERROR: \n",
      "[08:41:22] ERROR: \n",
      "[08:41:22] ERROR: \n",
      "[08:41:22] ERROR: \n",
      "[08:41:22] ERROR: \n",
      "[08:41:22] ERROR: \n",
      "[08:41:22] ERROR: \n",
      "[08:41:22] ERROR: \n",
      "[08:41:22] ERROR: \n",
      "[08:41:22] ERROR: \n",
      "[08:41:22] ERROR: \n",
      "[08:41:22] ERROR: \n",
      "[08:41:22] ERROR: \n",
      "[08:41:22] ERROR: \n",
      "[08:41:22] ERROR: \n",
      "[08:41:22] ERROR: \n",
      "[08:41:22] ERROR: \n",
      "[08:41:22] ERROR: \n",
      "[08:41:22] ERROR: \n",
      "[08:41:22] ERROR: \n",
      "[08:41:22] ERROR: \n",
      "[08RDKit ERROR: [08:27:22] ERROR: \n",
      "RDKit ERROR: [08:27:22] ERROR: \n",
      "RDKit ERROR: [08:27:22] ERROR: \n",
      "RDKit ERROR: [08:27:22] ERROR: \n",
      "RDKit ERROR: [08:27:22] ERROR: \n",
      "RDKit ERROR: [08:27:22] ERROR: \n",
      "RDKit ERROR: [08:27:22] ERROR: \n",
      "RDKit ERROR: [08:27:22] ERROR: \n",
      "RDKit ERROR: [08:27:22] ERROR: \n",
      "RDKit ERROR: [08:27:22] ERROR: \n",
      "RDKit ERROR: [08:27:22] ERROR: \n",
      "RDKit ERROR: [08:27:22] ERROR: \n",
      "RDKit ERROR: [08:27:22] ERROR: \n",
      "RDKit ERROR: [08:27:22] ERROR: \n",
      "RDKit ERROR: [08:27:22] ERROR: \n",
      "RDKit ERROR: [08:27:22] ERROR: \n",
      "RDKit ERROR: [08:27:22] ERROR: \n",
      "RDKit ERROR: [08:27:22] ERROR: \n",
      "RDKit ERROR: [08:27:22] ERROR: \n",
      "RDKit ERROR: [08:27:22] ERROR: \n",
      "RDKit ERROR: [08:27:22] ERROR: \n",
      "RDKit ERROR: [08:27:22] ERROR: \n",
      "RDKit ERROR: [08:27:22] ERROR: \n",
      "RDKit ERROR: [08:27:22] ERROR: \n",
      "RDKit ERROR: [08:27:22] ERROR: \n",
      "RDKit ERROR: [08:27:22] ERROR: \n",
      "RDKit ERROR: [08:27:22] ERROR: \n",
      "RDKit ERROR: [08:41:22] ERROR: \n",
      "RDKit ERROR: [08:41:22] ERROR: \n",
      "RDKit ERROR: [08:41:22] ERROR: \n",
      "RDKit ERROR: [08:41:22] ERROR: \n",
      "RDKit ERROR: [08:41:22] ERROR: \n",
      "RDKit ERROR: [08:41:22] ERROR: \n",
      "RDKit ERROR: [08:41:22] ERROR: \n",
      "RDKit ERROR: [08:41:22] ERROR: \n",
      "RDKit ERROR: [08:41:22] ERROR: \n",
      "RDKit ERROR: [08:41:22] ERROR: \n",
      "RDKit ERROR: [08:41:22] ERROR: \n",
      "RDKit ERROR: [08:41:22] ERROR: \n",
      "RDKit ERROR: [08:41:22] ERROR: \n",
      "RDKit ERROR: [08:41:22] ERROR: \n",
      "RDKit ERROR: [08:41:22] ERROR: \n",
      "RDKit ERROR: [08:41:22] ERROR: \n",
      "RDKit ERROR: [08:41:22] ERROR: \n",
      "RDKit ERROR: [08:41:22] ERROR: \n",
      "RDKit ERROR: [08:41:22] ERROR: \n",
      "RDKit ERROR: [08:41:22] ERROR: \n",
      "RDKit ERROR: [08:41:22] ERROR: \n",
      "RDKit ERROR: [08:41:22] ERROR: \n",
      "RDKit ERROR: [08:41:22] ERROR: \n",
      "RDKit ERROR: [08:41:22] ERROR: \n",
      "RDKit ERROR: [08:41:22] ERROR: \n",
      "RDKit ERROR: [08:41:22] ERROR: \n",
      "RDKit ERROR: [08:41:22] ERROR: \n",
      "RDKit ERROR: [08:41:22] ERROR: \n",
      "RDKit ERROR: [08:41:22] ERROR: \n",
      "RDKit ERROR: [08:41:22] ERROR: \n",
      "RDKit ERROR: [08:41:22] ERROR: \n",
      "RDKit ERROR: [08:41:22] ERROR: \n",
      "RDKit ERROR: [08:41:22] ERROR: \n",
      "RDKit ERROR: [08:41:22] ERROR: \n",
      "RDKit ERROR: [08:41:22] ERROR: \n",
      "RDKit ERROR: [08:41:22] ERROR: \n",
      "RDKit ERROR: [08:41:22] ERROR: \n",
      "RDKit ERROR: [08:41:22] ERROR: \n",
      "RDKit ERROR: [08:41:22] ERROR: \n",
      "RDKit ERROR: [08:41:22] ERROR: \n",
      "RDKit ERROR: [08:41:22] ERROR: \n",
      "RDKit ERROR: [08:41:22] ERROR: \n",
      "RDKit ERROR: [08:41:22] ERROR: \n",
      "RDKit ERROR: [08:41:22] ERROR: \n",
      "RDKit ERROR: [08:41:22] ERROR: \n",
      "RDKit ERROR: [08:41:22] ERROR: \n",
      "RDKit ERROR: [08:41:22] ERROR: \n",
      "RDKit ERROR: [08:41:22] ERROR: \n",
      "RDKit ERROR: [08:41:22] ERROR: \n",
      "RDKit ERROR: [08:41:22] ERROR: \n",
      "RDKit ERROR: [08:41:22] ERROR: \n",
      "RDKit ERROR: [08:41:22] ERROR: \n",
      "RDKit ERROR: [08:41:22] ERROR: \n",
      "RDKit ERROR: [08:41:22] ERROR: \n",
      "RDKit ERROR: [08:41:22] ERROR: \n",
      "RDKit ERROR: [08:41:22] ERROR: \n",
      "RDKit ERROR: [08:41:22] ERROR: \n",
      "RDKit ERROR: [08:41:22] ERROR: \n",
      "RDKit ERROR: [08:41:22] ERROR: \n",
      "RDKit ERROR: [08:41:22] ERROR: \n",
      "RDKit ERROR: [08:41:22] ERROR: \n",
      "RDKit ERROR: [08:41:22] ERROR: \n",
      "RDKit ERROR: [08:41:22] ERROR: \n",
      "RDKit ERROR: [08:41:22] ERROR: \n",
      "RDKit ERROR: [08:41:22] ERROR: \n",
      "RDKit ERROR: [08:41:22] ERROR: \n",
      "RDKit ERROR: [08:41:22] ERROR: \n",
      "RDKit ERROR: [08:41:22] ERROR: \n",
      "RDKit ERROR: [08:41:22] ERROR: \n",
      "RDKit ERROR: [08:41:22] ERROR: \n",
      "RDKit ERROR: [08:41:22] ERROR: \n",
      "RDKit ERROR: [08:41:22] ERROR: \n",
      "RDKit ERROR: [08:41:22] ERROR: \n",
      "RDKit ERROR: [08:41:22] ERROR: \n",
      "RDKit ERROR: [08:41:22] ERROR: \n",
      "RDKit ERROR: [08:41:22] ERROR: \n",
      "RDKit ERROR: [08:41:22] ERROR: \n",
      "RDKit ERROR: [08:41:22] ERROR: \n",
      "RDKit ERROR: [08:41:22] ERROR: \n",
      "RDKit ERROR: [08:41:22] ERROR: \n",
      "RDKit ERROR: [08:41:22] ERROR: \n",
      "RDKit ERROR: [08:41:22] ERROR: \n",
      "RDKit ERROR: [08:41:22] ERROR: \n",
      "RDKit ERROR: [08:41:22] ERROR: \n",
      "RDKit ERROR: [08:41:22] ERROR: \n",
      "RDKit ERROR: [08:41:22] ERROR: \n",
      "RDKit ERROR: [08:41:22] ERROR: \n",
      "RDKit ERROR: [08:41:22] ERROR: \n",
      "RDKit ERROR: [08:41:22] ERROR: \n",
      "RDKit ERROR: [08:41:22] ERROR: \n",
      "RDKit ERROR: [08:41:22] ERROR: \n",
      "RDKit ERROR: [08:41:22] ERROR: \n",
      "RDKit ERROR: [08:41:22] ERROR: \n",
      "RDKit ERROR: [08:41:22] ERROR: \n",
      "RDKit ERROR: [08:41:22] ERROR: \n",
      "RDKit ERROR: [08:41:22] ERROR: \n",
      "RDKit ERROR: [08:41:22] ERROR: \n",
      "RDKit ERROR: [08:41:22] ERROR: \n",
      "RDKit ERROR: [08:41:22] ERROR: \n",
      "RDKit ERROR: [08:41:22] ERROR: \n",
      "RDKit ERROR: [08:41:22] ERROR: \n",
      "RDKit ERROR: [08:41:22] ERROR: \n",
      "RDKit ERROR: [08:41:22] ERROR: \n",
      "RDKit ERROR: [08:41:22] ERROR: \n",
      "RDKit ERROR: [08:41:22] ERROR: \n",
      "RDKit ERROR: [08:41:22] ERROR: \n",
      "RDKit ERROR: [08:41:22] ERROR: \n",
      "RDKit ERROR: [08:41:22] ERROR: \n",
      "RDKit ERROR: [08:41:22] ERROR: \n",
      "RDKit ERROR: [08:41:22] ERROR: \n",
      "RDKit ERROR: [08:41:22] ERROR: \n",
      "RDKit ERROR: [08:41:22] ERROR: \n",
      "RDKit ERROR: [08:41:22] ERROR: \n",
      "RDKit ERROR: [08:41:22] ERROR: \n",
      "RDKit ERROR: [08:41:22] ERROR: \n",
      "RDKit ERROR: [08:41:22] ERROR: \n",
      "RDKit ERROR: [08:41:22] ERROR: \n",
      "RDKit ERROR: [08:41:22] ERROR: \n",
      "RDKit ERROR: [08:41:22] ERROR: \n",
      "RDKit ERROR: [08:41:22] ERROR: \n",
      "RDKit ERROR: [08:41:22] ERROR: \n",
      "RDKit ERROR: [08:41:22] ERROR: \n",
      "RDKit ERROR: [08:41:22] ERROR: \n",
      "RDKit ERROR: [08:41:22] ERROR: \n",
      "RDKit ERROR: [08:41:22] ERROR: \n",
      "RDKit ERROR: [08:41:22] ERROR: \n",
      "RDKit ERROR: [08:41:22] ERROR: \n",
      "RDKit ERROR: [08:41:22] ERROR: \n",
      "RDKit ERROR: [08:41:22] ERROR: \n",
      "RDKit ERROR: [08:41:22] ERROR: \n",
      "RDKit ERROR: [08:41:22] ERROR: \n",
      "RDKit ERROR: [08:41:22] ERROR: \n",
      "RDKit ERROR: [08:41:22] ERROR: \n",
      "RDKit ERROR: [08:41:22] ERROR: \n",
      "RDKit ERROR: [08:41:22] ERROR: \n",
      "RDKit ERROR: [08:41:22] ERROR: \n",
      "RDKit ERROR: [08:41:22] ERROR: \n",
      "RDKit ERROR: [08:41:22] ERROR: \n",
      "RDKit ERROR: [08:41:22] ERROR: \n",
      "RDKit ERROR: [08:41:22] ERROR: \n",
      "RDKit ERROR: [08:41:22] ERROR: \n",
      "RDKit ERROR: [08:41:22] ERROR: \n",
      "RDKit ERROR: [08:41:22] ERROR: \n",
      "RDKit ERROR: [08:41:22] ERROR: \n",
      "RDKit ERROR: [08:41:22] ERROR: \n",
      "RDKit ERROR: [08:41:22] ERROR: \n",
      "RDKit ERROR: [08:41:22] ERROR: \n",
      "RDKit ERROR: [08:41:22] ERROR: \n",
      "RDKit ERROR: [08:41:22] ERROR: \n",
      "RDKit ERROR: [08:41:22] ERROR: \n",
      "RDKit ERROR: [08:41:22] ERROR: \n",
      "RDKit ERROR: [08:41:22] ERROR: \n",
      "RDKit ERROR: [08:41:22] ERROR: \n",
      "RDKit ERROR: [08:41:22] ERROR: \n",
      "RDKit ERROR: [08:41:22] ERROR: \n",
      "RDKit ERROR: [08:41:22] ERROR: \n",
      "RDKit ERROR: [08:41:22] ERROR: \n",
      "RDKit ERROR: [08:41:22] ERROR: \n",
      "RDKit ERROR: [08:41:22] ERROR: \n",
      "RDKit ERROR: [08:41:22] ERROR: \n",
      "RDKit ERROR: [08:41:22] ERROR: \n",
      "RDKit ERROR: [08:41:22] ERROR: \n",
      "RDKit ERROR: [08:41:22] ERROR: \n",
      "RDKit ERROR: [08:41:22] ERROR: \n",
      "RDKit ERROR: [08:41:22] ERROR: \n",
      "RDKit ERROR: [08:41:22] ERROR: \n",
      "RDKit ERROR: [08:41:22] ERROR: \n",
      "RDKit ERROR: [08:41:22] ERROR: \n",
      "RDKit ERROR: [08:41:22] ERROR: \n",
      "RDKit ERROR: [08:41:22] ERROR: \n",
      "RDKit ERROR: [08:41:22] ERROR: \n",
      "RDKit ERROR: [08:41:22] ERROR: \n",
      "RDKit ERROR: [08:41:22] ERROR: \n"
     ]
    },
    {
     "name": "stdout",
     "output_type": "stream",
     "text": [
      "Succesfully converted to mol object: 1513\n",
      "Exception to the parsing: 0\n",
      "Not available: 323\n",
      "Consolidating the lists\n",
      "Total mol object from the list 1 = 1399\n",
      "Mol object consolidated from list 2 = 174\n",
      "Consolidated structures = 1573\n",
      "Converting mol objects to SMILES iso\n",
      "Converting mol objects to SMILES\n",
      "Converting mol objects to InChI\n",
      "Converting mol objects to InChIKey\n",
      "End\n"
     ]
    }
   ],
   "source": [
    "gnps_annotations_consolidated  = consolidate_and_convert_structures(df_annotations, prefix='', smiles='Smiles', inchi='INCHI')"
   ]
  },
  {
   "cell_type": "markdown",
   "metadata": {},
   "source": [
    "##### Filter GNPS annotations"
   ]
  },
  {
   "cell_type": "code",
   "execution_count": 16,
   "metadata": {},
   "outputs": [
    {
     "name": "stdout",
     "output_type": "stream",
     "text": [
      "Initial number of annotations: 1836\n",
      "Remaining after ionisation mode filtering: 1787\n",
      "Remaining after max_ppm_error filtering: 1419\n",
      "Remaining after min_cosine filtering: 1419\n",
      "Remaining after number of shared_peaks filtering: 1419\n",
      "Remaining after number of spectrum charge filtering: 1419\n"
     ]
    }
   ],
   "source": [
    "gnps_annotations_filtered = gnps_filter_annotations(gnps_annotations_consolidated, 'Consol_InChI', ionisation_mode, max_ppm_error, min_cosine=0.6, shared_peaks = 4, max_spec_charge = 2)"
   ]
  },
  {
   "cell_type": "markdown",
   "metadata": {},
   "source": [
    "##### Generate annotation attributes"
   ]
  },
  {
   "cell_type": "code",
   "execution_count": 17,
   "metadata": {},
   "outputs": [
    {
     "name": "stdout",
     "output_type": "stream",
     "text": [
      "Initial number of annotations filtering: 1836\n",
      "After carbon containing adducts filtering: 1836\n",
      "Valid molecular formula: 1573\n"
     ]
    }
   ],
   "source": [
    "# Get the number of C per mol formula\n",
    "gnps_annotations_consolidated = get_molecular_formula_from_inchi(gnps_annotations_consolidated, 'Consol_InChI')\n",
    "#gnps_annotations_consolidated.head(2)"
   ]
  },
  {
   "cell_type": "code",
   "execution_count": 18,
   "metadata": {},
   "outputs": [],
   "source": [
    "annot_gnps_df = get_gnps_annotations(gnps_annotations_consolidated)\n",
    "#annot_gnps_df.head(2)"
   ]
  },
  {
   "cell_type": "markdown",
   "metadata": {},
   "source": [
    "### Load in-silico files "
   ]
  },
  {
   "cell_type": "code",
   "execution_count": 19,
   "metadata": {},
   "outputs": [],
   "source": [
    "annot_is_df       = get_isdb_annotations(tima_results_filename, isdb_annotations)\n",
    "annot_sirius_df   = get_sirius_annotations(sirius_annotations_filename, sirius_annotations) \n",
    "canopus_npc_df    = get_canopus_pred_classes(canopus_npc_summary_filename, CC_component)"
   ]
  },
  {
   "cell_type": "markdown",
   "metadata": {},
   "source": [
    "### Metadata table"
   ]
  },
  {
   "cell_type": "code",
   "execution_count": 20,
   "metadata": {},
   "outputs": [
    {
     "data": {
      "text/html": [
       "<div>\n",
       "<style scoped>\n",
       "    .dataframe tbody tr th:only-of-type {\n",
       "        vertical-align: middle;\n",
       "    }\n",
       "\n",
       "    .dataframe tbody tr th {\n",
       "        vertical-align: top;\n",
       "    }\n",
       "\n",
       "    .dataframe thead th {\n",
       "        text-align: right;\n",
       "    }\n",
       "</style>\n",
       "<table border=\"1\" class=\"dataframe\">\n",
       "  <thead>\n",
       "    <tr style=\"text-align: right;\">\n",
       "      <th></th>\n",
       "      <th>filename</th>\n",
       "      <th>ATTRIBUTE_Code</th>\n",
       "      <th>ATTRIBUTE_Type</th>\n",
       "      <th>ATTRIBUTE_Family</th>\n",
       "      <th>ATTRIBUTE_Genus</th>\n",
       "      <th>ATTRIBUTE_Species</th>\n",
       "      <th>ATTRIBUTE_Organe</th>\n",
       "      <th>ATTRIBUTE_Broad_organ</th>\n",
       "      <th>ATTRIBUTE_Tissue</th>\n",
       "      <th>ATTRIBUTE_Subsystem</th>\n",
       "      <th>ATTRIBUTE_Sppart</th>\n",
       "    </tr>\n",
       "  </thead>\n",
       "  <tbody>\n",
       "    <tr>\n",
       "      <th>0</th>\n",
       "      <td>LQ-01-61-01_pos.mzXML</td>\n",
       "      <td>V107694</td>\n",
       "      <td>Sample</td>\n",
       "      <td>Celastraceae</td>\n",
       "      <td>Catha</td>\n",
       "      <td>Catha edulis</td>\n",
       "      <td>Leaves</td>\n",
       "      <td>photosynthetic</td>\n",
       "      <td>green tissue</td>\n",
       "      <td>aboveground</td>\n",
       "      <td>Catha edulis|Leaves</td>\n",
       "    </tr>\n",
       "    <tr>\n",
       "      <th>1</th>\n",
       "      <td>LQ-01-61-02_pos.mzXML</td>\n",
       "      <td>V107695</td>\n",
       "      <td>Sample</td>\n",
       "      <td>Celastraceae</td>\n",
       "      <td>Catha</td>\n",
       "      <td>Catha edulis</td>\n",
       "      <td>Stems</td>\n",
       "      <td>woody vegetative</td>\n",
       "      <td>woody tissue</td>\n",
       "      <td>aboveground</td>\n",
       "      <td>Catha edulis|Stems</td>\n",
       "    </tr>\n",
       "    <tr>\n",
       "      <th>2</th>\n",
       "      <td>LQ-01-61-03_pos.mzXML</td>\n",
       "      <td>V107696</td>\n",
       "      <td>Sample</td>\n",
       "      <td>Celastraceae</td>\n",
       "      <td>Catha</td>\n",
       "      <td>Catha edulis</td>\n",
       "      <td>Roots</td>\n",
       "      <td>roots</td>\n",
       "      <td>root tissue</td>\n",
       "      <td>belowground</td>\n",
       "      <td>Catha edulis|Roots</td>\n",
       "    </tr>\n",
       "  </tbody>\n",
       "</table>\n",
       "</div>"
      ],
      "text/plain": [
       "                filename ATTRIBUTE_Code ATTRIBUTE_Type ATTRIBUTE_Family  \\\n",
       "0  LQ-01-61-01_pos.mzXML        V107694         Sample     Celastraceae   \n",
       "1  LQ-01-61-02_pos.mzXML        V107695         Sample     Celastraceae   \n",
       "2  LQ-01-61-03_pos.mzXML        V107696         Sample     Celastraceae   \n",
       "\n",
       "  ATTRIBUTE_Genus ATTRIBUTE_Species ATTRIBUTE_Organe ATTRIBUTE_Broad_organ  \\\n",
       "0           Catha      Catha edulis           Leaves        photosynthetic   \n",
       "1           Catha      Catha edulis            Stems      woody vegetative   \n",
       "2           Catha      Catha edulis            Roots                 roots   \n",
       "\n",
       "  ATTRIBUTE_Tissue ATTRIBUTE_Subsystem     ATTRIBUTE_Sppart  \n",
       "0     green tissue         aboveground  Catha edulis|Leaves  \n",
       "1     woody tissue         aboveground   Catha edulis|Stems  \n",
       "2      root tissue         belowground   Catha edulis|Roots  "
      ]
     },
     "execution_count": 20,
     "metadata": {},
     "output_type": "execute_result"
    }
   ],
   "source": [
    "#metadata \n",
    "metadata_df = pd.read_csv(metadata_filename, sep='\\t')\n",
    "\n",
    "col_id_unique = 'ATTRIBUTE_Sppart'      #column containing an unique identifier for each sample, like Species_plantpart, Species_solvent. It could be the filename\n",
    "                                        #this column SHOULD be \n",
    "\n",
    "#if you need to create an unique identifier column like Species\\part, use as model the followin line. IF the colum is PRESENT, then don't run it.\n",
    "metadata_df['ATTRIBUTE_Sppart'] = metadata_df[\"ATTRIBUTE_Species\"]+ \"|\" + metadata_df[\"ATTRIBUTE_Organe\"].map(str)\n",
    "\n",
    "metadata_df.head(3)"
   ]
  },
  {
   "cell_type": "markdown",
   "metadata": {},
   "source": [
    "### Quantification table"
   ]
  },
  {
   "cell_type": "code",
   "execution_count": 21,
   "metadata": {},
   "outputs": [
    {
     "data": {
      "text/html": [
       "<div>\n",
       "<style scoped>\n",
       "    .dataframe tbody tr th:only-of-type {\n",
       "        vertical-align: middle;\n",
       "    }\n",
       "\n",
       "    .dataframe tbody tr th {\n",
       "        vertical-align: top;\n",
       "    }\n",
       "\n",
       "    .dataframe thead th {\n",
       "        text-align: right;\n",
       "    }\n",
       "</style>\n",
       "<table border=\"1\" class=\"dataframe\">\n",
       "  <thead>\n",
       "    <tr style=\"text-align: right;\">\n",
       "      <th></th>\n",
       "      <th>LQ-01-61-01_pos.mzXML</th>\n",
       "      <th>LQ-01-61-02_pos.mzXML</th>\n",
       "      <th>LQ-01-61-03_pos.mzXML</th>\n",
       "      <th>LQ-01-61-04_pos.mzXML</th>\n",
       "      <th>LQ-01-61-05_pos.mzXML</th>\n",
       "      <th>LQ-01-61-06_pos.mzXML</th>\n",
       "      <th>LQ-01-61-07_pos.mzXML</th>\n",
       "      <th>LQ-01-61-08_pos.mzXML</th>\n",
       "      <th>LQ-01-61-09_pos.mzXML</th>\n",
       "      <th>LQ-01-61-10_pos.mzXML</th>\n",
       "      <th>...</th>\n",
       "      <th>LQ-01-61-69_pos.mzXML</th>\n",
       "      <th>LQ-01-61-70_pos.mzXML</th>\n",
       "      <th>LQ-01-61-71_pos.mzXML</th>\n",
       "      <th>LQ-01-61-72_pos.mzXML</th>\n",
       "      <th>LQ-01-61-73_pos.mzXML</th>\n",
       "      <th>LQ-01-61-74_pos.mzXML</th>\n",
       "      <th>LQ-01-61-75_pos.mzXML</th>\n",
       "      <th>LQ-01-61-76_pos.mzXML</th>\n",
       "      <th>LQ-01-61-77_pos.mzXML</th>\n",
       "      <th>LQ-01-61-78_pos.mzXML</th>\n",
       "    </tr>\n",
       "    <tr>\n",
       "      <th>row ID</th>\n",
       "      <th></th>\n",
       "      <th></th>\n",
       "      <th></th>\n",
       "      <th></th>\n",
       "      <th></th>\n",
       "      <th></th>\n",
       "      <th></th>\n",
       "      <th></th>\n",
       "      <th></th>\n",
       "      <th></th>\n",
       "      <th></th>\n",
       "      <th></th>\n",
       "      <th></th>\n",
       "      <th></th>\n",
       "      <th></th>\n",
       "      <th></th>\n",
       "      <th></th>\n",
       "      <th></th>\n",
       "      <th></th>\n",
       "      <th></th>\n",
       "      <th></th>\n",
       "    </tr>\n",
       "  </thead>\n",
       "  <tbody>\n",
       "    <tr>\n",
       "      <th>1</th>\n",
       "      <td>2.600773e+09</td>\n",
       "      <td>3.134767e+07</td>\n",
       "      <td>8.413720e+07</td>\n",
       "      <td>6.925458e+07</td>\n",
       "      <td>0.0</td>\n",
       "      <td>0.0</td>\n",
       "      <td>0.0</td>\n",
       "      <td>0.0</td>\n",
       "      <td>3.256476e+06</td>\n",
       "      <td>0.0</td>\n",
       "      <td>...</td>\n",
       "      <td>0.0</td>\n",
       "      <td>0.0</td>\n",
       "      <td>0.0</td>\n",
       "      <td>0.0</td>\n",
       "      <td>0.0</td>\n",
       "      <td>0.0</td>\n",
       "      <td>0.0</td>\n",
       "      <td>0.0</td>\n",
       "      <td>0.0</td>\n",
       "      <td>0.0</td>\n",
       "    </tr>\n",
       "    <tr>\n",
       "      <th>2</th>\n",
       "      <td>8.860196e+08</td>\n",
       "      <td>1.964781e+07</td>\n",
       "      <td>8.688867e+06</td>\n",
       "      <td>2.214498e+09</td>\n",
       "      <td>0.0</td>\n",
       "      <td>0.0</td>\n",
       "      <td>0.0</td>\n",
       "      <td>0.0</td>\n",
       "      <td>1.639854e+06</td>\n",
       "      <td>0.0</td>\n",
       "      <td>...</td>\n",
       "      <td>0.0</td>\n",
       "      <td>0.0</td>\n",
       "      <td>0.0</td>\n",
       "      <td>0.0</td>\n",
       "      <td>0.0</td>\n",
       "      <td>0.0</td>\n",
       "      <td>0.0</td>\n",
       "      <td>0.0</td>\n",
       "      <td>0.0</td>\n",
       "      <td>0.0</td>\n",
       "    </tr>\n",
       "    <tr>\n",
       "      <th>3</th>\n",
       "      <td>8.544583e+08</td>\n",
       "      <td>2.594163e+07</td>\n",
       "      <td>0.000000e+00</td>\n",
       "      <td>4.612163e+08</td>\n",
       "      <td>0.0</td>\n",
       "      <td>0.0</td>\n",
       "      <td>0.0</td>\n",
       "      <td>0.0</td>\n",
       "      <td>0.000000e+00</td>\n",
       "      <td>0.0</td>\n",
       "      <td>...</td>\n",
       "      <td>0.0</td>\n",
       "      <td>0.0</td>\n",
       "      <td>0.0</td>\n",
       "      <td>0.0</td>\n",
       "      <td>0.0</td>\n",
       "      <td>0.0</td>\n",
       "      <td>0.0</td>\n",
       "      <td>0.0</td>\n",
       "      <td>0.0</td>\n",
       "      <td>0.0</td>\n",
       "    </tr>\n",
       "  </tbody>\n",
       "</table>\n",
       "<p>3 rows × 78 columns</p>\n",
       "</div>"
      ],
      "text/plain": [
       "        LQ-01-61-01_pos.mzXML  LQ-01-61-02_pos.mzXML  LQ-01-61-03_pos.mzXML  \\\n",
       "row ID                                                                        \n",
       "1                2.600773e+09           3.134767e+07           8.413720e+07   \n",
       "2                8.860196e+08           1.964781e+07           8.688867e+06   \n",
       "3                8.544583e+08           2.594163e+07           0.000000e+00   \n",
       "\n",
       "        LQ-01-61-04_pos.mzXML  LQ-01-61-05_pos.mzXML  LQ-01-61-06_pos.mzXML  \\\n",
       "row ID                                                                        \n",
       "1                6.925458e+07                    0.0                    0.0   \n",
       "2                2.214498e+09                    0.0                    0.0   \n",
       "3                4.612163e+08                    0.0                    0.0   \n",
       "\n",
       "        LQ-01-61-07_pos.mzXML  LQ-01-61-08_pos.mzXML  LQ-01-61-09_pos.mzXML  \\\n",
       "row ID                                                                        \n",
       "1                         0.0                    0.0           3.256476e+06   \n",
       "2                         0.0                    0.0           1.639854e+06   \n",
       "3                         0.0                    0.0           0.000000e+00   \n",
       "\n",
       "        LQ-01-61-10_pos.mzXML  ...  LQ-01-61-69_pos.mzXML  \\\n",
       "row ID                         ...                          \n",
       "1                         0.0  ...                    0.0   \n",
       "2                         0.0  ...                    0.0   \n",
       "3                         0.0  ...                    0.0   \n",
       "\n",
       "        LQ-01-61-70_pos.mzXML  LQ-01-61-71_pos.mzXML  LQ-01-61-72_pos.mzXML  \\\n",
       "row ID                                                                        \n",
       "1                         0.0                    0.0                    0.0   \n",
       "2                         0.0                    0.0                    0.0   \n",
       "3                         0.0                    0.0                    0.0   \n",
       "\n",
       "        LQ-01-61-73_pos.mzXML  LQ-01-61-74_pos.mzXML  LQ-01-61-75_pos.mzXML  \\\n",
       "row ID                                                                        \n",
       "1                         0.0                    0.0                    0.0   \n",
       "2                         0.0                    0.0                    0.0   \n",
       "3                         0.0                    0.0                    0.0   \n",
       "\n",
       "        LQ-01-61-76_pos.mzXML  LQ-01-61-77_pos.mzXML  LQ-01-61-78_pos.mzXML  \n",
       "row ID                                                                       \n",
       "1                         0.0                    0.0                    0.0  \n",
       "2                         0.0                    0.0                    0.0  \n",
       "3                         0.0                    0.0                    0.0  \n",
       "\n",
       "[3 rows x 78 columns]"
      ]
     },
     "execution_count": 21,
     "metadata": {},
     "output_type": "execute_result"
    }
   ],
   "source": [
    "#Quantitative table\n",
    "quant_df = pd.read_csv(quantitative_data_filename, sep=',',  index_col='row ID')\n",
    "quant_df = quant_table(quant_df)\n",
    "quant_df.head(3)"
   ]
  },
  {
   "cell_type": "markdown",
   "metadata": {},
   "source": [
    "#### Combined and remove experimental controls \n"
   ]
  },
  {
   "cell_type": "code",
   "execution_count": 22,
   "metadata": {},
   "outputs": [],
   "source": [
    "# merge tables\n",
    "full_df = full_data(metadata_df,quant_df)\n",
    "#full_df.head(2)"
   ]
  },
  {
   "cell_type": "code",
   "execution_count": 23,
   "metadata": {},
   "outputs": [
    {
     "name": "stdout",
     "output_type": "stream",
     "text": [
      "(78, 14981)\n",
      "(76, 14981)\n",
      "(77, 11)\n",
      "(76, 11)\n"
     ]
    }
   ],
   "source": [
    "#erase all the blanks and QC's - Change the string as needed\n",
    "list_of_strings_for_QC_Blank_filter = ['Blank', 'QC']\n",
    "column_to_use_for_filtering = 'ATTRIBUTE_Type' #this information should be included in the metadata table\n",
    "\n",
    "full_df = drop_samples_based_on_string(full_df,list_of_strings_for_QC_Blank_filter, column_to_use_for_filtering)\n",
    "metadata_df = drop_samples_based_on_string(metadata_df,list_of_strings_for_QC_Blank_filter, column_to_use_for_filtering)"
   ]
  },
  {
   "cell_type": "markdown",
   "metadata": {},
   "source": [
    "##### Make a minimal table for further processing"
   ]
  },
  {
   "cell_type": "code",
   "execution_count": 24,
   "metadata": {},
   "outputs": [
    {
     "data": {
      "text/html": [
       "<div>\n",
       "<style scoped>\n",
       "    .dataframe tbody tr th:only-of-type {\n",
       "        vertical-align: middle;\n",
       "    }\n",
       "\n",
       "    .dataframe tbody tr th {\n",
       "        vertical-align: top;\n",
       "    }\n",
       "\n",
       "    .dataframe thead th {\n",
       "        text-align: right;\n",
       "    }\n",
       "</style>\n",
       "<table border=\"1\" class=\"dataframe\">\n",
       "  <thead>\n",
       "    <tr style=\"text-align: right;\">\n",
       "      <th></th>\n",
       "      <th>1</th>\n",
       "      <th>2</th>\n",
       "      <th>3</th>\n",
       "      <th>4</th>\n",
       "      <th>5</th>\n",
       "      <th>6</th>\n",
       "      <th>7</th>\n",
       "      <th>8</th>\n",
       "      <th>9</th>\n",
       "      <th>10</th>\n",
       "      <th>...</th>\n",
       "      <th>14961</th>\n",
       "      <th>14962</th>\n",
       "      <th>14963</th>\n",
       "      <th>14964</th>\n",
       "      <th>14965</th>\n",
       "      <th>14966</th>\n",
       "      <th>14967</th>\n",
       "      <th>14968</th>\n",
       "      <th>14969</th>\n",
       "      <th>14970</th>\n",
       "    </tr>\n",
       "    <tr>\n",
       "      <th>ATTRIBUTE_Sppart</th>\n",
       "      <th></th>\n",
       "      <th></th>\n",
       "      <th></th>\n",
       "      <th></th>\n",
       "      <th></th>\n",
       "      <th></th>\n",
       "      <th></th>\n",
       "      <th></th>\n",
       "      <th></th>\n",
       "      <th></th>\n",
       "      <th></th>\n",
       "      <th></th>\n",
       "      <th></th>\n",
       "      <th></th>\n",
       "      <th></th>\n",
       "      <th></th>\n",
       "      <th></th>\n",
       "      <th></th>\n",
       "      <th></th>\n",
       "      <th></th>\n",
       "      <th></th>\n",
       "    </tr>\n",
       "  </thead>\n",
       "  <tbody>\n",
       "    <tr>\n",
       "      <th>Catha edulis|Leaves</th>\n",
       "      <td>2.600773e+09</td>\n",
       "      <td>8.860196e+08</td>\n",
       "      <td>8.544583e+08</td>\n",
       "      <td>6.320161e+08</td>\n",
       "      <td>5.282800e+08</td>\n",
       "      <td>5.227184e+08</td>\n",
       "      <td>5.122110e+08</td>\n",
       "      <td>3.936131e+08</td>\n",
       "      <td>4.722463e+08</td>\n",
       "      <td>2.347275e+08</td>\n",
       "      <td>...</td>\n",
       "      <td>0.0</td>\n",
       "      <td>0.0</td>\n",
       "      <td>0.0</td>\n",
       "      <td>0.0</td>\n",
       "      <td>0.0</td>\n",
       "      <td>0.0</td>\n",
       "      <td>0.0</td>\n",
       "      <td>0.0</td>\n",
       "      <td>0.0</td>\n",
       "      <td>0.0</td>\n",
       "    </tr>\n",
       "    <tr>\n",
       "      <th>Catha edulis|Stems</th>\n",
       "      <td>3.134767e+07</td>\n",
       "      <td>1.964781e+07</td>\n",
       "      <td>2.594163e+07</td>\n",
       "      <td>0.000000e+00</td>\n",
       "      <td>7.494122e+06</td>\n",
       "      <td>2.107071e+08</td>\n",
       "      <td>0.000000e+00</td>\n",
       "      <td>5.018283e+07</td>\n",
       "      <td>1.859377e+07</td>\n",
       "      <td>3.222927e+08</td>\n",
       "      <td>...</td>\n",
       "      <td>0.0</td>\n",
       "      <td>0.0</td>\n",
       "      <td>0.0</td>\n",
       "      <td>0.0</td>\n",
       "      <td>0.0</td>\n",
       "      <td>0.0</td>\n",
       "      <td>0.0</td>\n",
       "      <td>0.0</td>\n",
       "      <td>0.0</td>\n",
       "      <td>0.0</td>\n",
       "    </tr>\n",
       "  </tbody>\n",
       "</table>\n",
       "<p>2 rows × 14970 columns</p>\n",
       "</div>"
      ],
      "text/plain": [
       "                            1             2             3             4      \\\n",
       "ATTRIBUTE_Sppart                                                              \n",
       "Catha edulis|Leaves  2.600773e+09  8.860196e+08  8.544583e+08  6.320161e+08   \n",
       "Catha edulis|Stems   3.134767e+07  1.964781e+07  2.594163e+07  0.000000e+00   \n",
       "\n",
       "                            5             6             7             8      \\\n",
       "ATTRIBUTE_Sppart                                                              \n",
       "Catha edulis|Leaves  5.282800e+08  5.227184e+08  5.122110e+08  3.936131e+08   \n",
       "Catha edulis|Stems   7.494122e+06  2.107071e+08  0.000000e+00  5.018283e+07   \n",
       "\n",
       "                            9             10     ...  14961  14962  14963  \\\n",
       "ATTRIBUTE_Sppart                                 ...                        \n",
       "Catha edulis|Leaves  4.722463e+08  2.347275e+08  ...    0.0    0.0    0.0   \n",
       "Catha edulis|Stems   1.859377e+07  3.222927e+08  ...    0.0    0.0    0.0   \n",
       "\n",
       "                     14964  14965  14966  14967  14968  14969  14970  \n",
       "ATTRIBUTE_Sppart                                                      \n",
       "Catha edulis|Leaves    0.0    0.0    0.0    0.0    0.0    0.0    0.0  \n",
       "Catha edulis|Stems     0.0    0.0    0.0    0.0    0.0    0.0    0.0  \n",
       "\n",
       "[2 rows x 14970 columns]"
      ]
     },
     "execution_count": 24,
     "metadata": {},
     "output_type": "execute_result"
    }
   ],
   "source": [
    "reduced_df = reduce_df(full_df, metadata_df, col_id_unique)\n",
    "reduced_df.head(2)"
   ]
  },
  {
   "cell_type": "markdown",
   "metadata": {},
   "source": [
    "# Start calculation the diferent components\n",
    "\n",
    "# Feature component (FC)"
   ]
  },
  {
   "cell_type": "markdown",
   "metadata": {},
   "source": [
    "#### FC.1. Feature Specifificty"
   ]
  },
  {
   "cell_type": "code",
   "execution_count": 25,
   "metadata": {},
   "outputs": [
    {
     "data": {
      "text/html": [
       "<div>\n",
       "<style scoped>\n",
       "    .dataframe tbody tr th:only-of-type {\n",
       "        vertical-align: middle;\n",
       "    }\n",
       "\n",
       "    .dataframe tbody tr th {\n",
       "        vertical-align: top;\n",
       "    }\n",
       "\n",
       "    .dataframe thead th {\n",
       "        text-align: right;\n",
       "    }\n",
       "</style>\n",
       "<table border=\"1\" class=\"dataframe\">\n",
       "  <thead>\n",
       "    <tr style=\"text-align: right;\">\n",
       "      <th></th>\n",
       "      <th>row ID</th>\n",
       "      <th>ATTRIBUTE_Sppart</th>\n",
       "      <th>Feature_specificity</th>\n",
       "      <th>filename</th>\n",
       "    </tr>\n",
       "  </thead>\n",
       "  <tbody>\n",
       "    <tr>\n",
       "      <th>0</th>\n",
       "      <td>1</td>\n",
       "      <td>Catha edulis|Leaves</td>\n",
       "      <td>93.258820</td>\n",
       "      <td>LQ-01-61-01_pos.mzXML</td>\n",
       "    </tr>\n",
       "    <tr>\n",
       "      <th>1</th>\n",
       "      <td>2</td>\n",
       "      <td>Catha edulis|Aerial_parts</td>\n",
       "      <td>69.662011</td>\n",
       "      <td>LQ-01-61-04_pos.mzXML</td>\n",
       "    </tr>\n",
       "  </tbody>\n",
       "</table>\n",
       "</div>"
      ],
      "text/plain": [
       "   row ID           ATTRIBUTE_Sppart  Feature_specificity  \\\n",
       "0       1        Catha edulis|Leaves            93.258820   \n",
       "1       2  Catha edulis|Aerial_parts            69.662011   \n",
       "\n",
       "                filename  \n",
       "0  LQ-01-61-01_pos.mzXML  \n",
       "1  LQ-01-61-04_pos.mzXML  "
      ]
     },
     "execution_count": 25,
     "metadata": {},
     "output_type": "execute_result"
    }
   ],
   "source": [
    "specificity_df = top_ions(reduced_df, quant_df, col_id_unique)\n",
    "specificity_df.head(2)"
   ]
  },
  {
   "cell_type": "markdown",
   "metadata": {},
   "source": [
    "#### FC.2. Annotation Rate"
   ]
  },
  {
   "cell_type": "code",
   "execution_count": 26,
   "metadata": {},
   "outputs": [
    {
     "data": {
      "text/html": [
       "<div>\n",
       "<style scoped>\n",
       "    .dataframe tbody tr th:only-of-type {\n",
       "        vertical-align: middle;\n",
       "    }\n",
       "\n",
       "    .dataframe tbody tr th {\n",
       "        vertical-align: top;\n",
       "    }\n",
       "\n",
       "    .dataframe thead th {\n",
       "        text-align: right;\n",
       "    }\n",
       "</style>\n",
       "<table border=\"1\" class=\"dataframe\">\n",
       "  <thead>\n",
       "    <tr style=\"text-align: right;\">\n",
       "      <th></th>\n",
       "      <th>cluster index</th>\n",
       "      <th>componentindex</th>\n",
       "      <th>Annotated_GNPS</th>\n",
       "      <th>Annotated_ISDB</th>\n",
       "      <th>Annotated_Sirius</th>\n",
       "      <th>annotation</th>\n",
       "    </tr>\n",
       "  </thead>\n",
       "  <tbody>\n",
       "    <tr>\n",
       "      <th>0</th>\n",
       "      <td>1</td>\n",
       "      <td>113</td>\n",
       "      <td>0</td>\n",
       "      <td>1</td>\n",
       "      <td>0</td>\n",
       "      <td>0</td>\n",
       "    </tr>\n",
       "    <tr>\n",
       "      <th>1</th>\n",
       "      <td>2</td>\n",
       "      <td>136</td>\n",
       "      <td>0</td>\n",
       "      <td>1</td>\n",
       "      <td>0</td>\n",
       "      <td>0</td>\n",
       "    </tr>\n",
       "  </tbody>\n",
       "</table>\n",
       "</div>"
      ],
      "text/plain": [
       "   cluster index  componentindex Annotated_GNPS  Annotated_ISDB  \\\n",
       "0              1             113              0               1   \n",
       "1              2             136              0               1   \n",
       "\n",
       "   Annotated_Sirius  annotation  \n",
       "0                 0           0  \n",
       "1                 0           0  "
      ]
     },
     "execution_count": 26,
     "metadata": {},
     "output_type": "execute_result"
    }
   ],
   "source": [
    "annotation_df = annotations(annot_gnps_df, annot_is_df, annot_sirius_df,only_ms2_annotations, sirius_annotations, isdb_annotations,\n",
    "                min_score_final, min_ConfidenceScore, min_ZodiacScore)\n",
    "annotation_df.head(2)"
   ]
  },
  {
   "cell_type": "markdown",
   "metadata": {},
   "source": [
    "#### FC.3. FC computation"
   ]
  },
  {
   "cell_type": "code",
   "execution_count": 27,
   "metadata": {},
   "outputs": [
    {
     "data": {
      "text/html": [
       "<div>\n",
       "<style scoped>\n",
       "    .dataframe tbody tr th:only-of-type {\n",
       "        vertical-align: middle;\n",
       "    }\n",
       "\n",
       "    .dataframe tbody tr th {\n",
       "        vertical-align: top;\n",
       "    }\n",
       "\n",
       "    .dataframe thead th {\n",
       "        text-align: right;\n",
       "    }\n",
       "</style>\n",
       "<table border=\"1\" class=\"dataframe\">\n",
       "  <thead>\n",
       "    <tr style=\"text-align: right;\">\n",
       "      <th></th>\n",
       "      <th>filename</th>\n",
       "      <th>ATTRIBUTE_Species</th>\n",
       "      <th>ATTRIBUTE_Sppart</th>\n",
       "      <th>Sample_specificity</th>\n",
       "      <th>FC</th>\n",
       "    </tr>\n",
       "  </thead>\n",
       "  <tbody>\n",
       "    <tr>\n",
       "      <th>5</th>\n",
       "      <td>LQ-01-61-06_pos.mzXML</td>\n",
       "      <td>Celastrus orbiculatus</td>\n",
       "      <td>Celastrus orbiculatus|Roots</td>\n",
       "      <td>0.863281</td>\n",
       "      <td>0.828125</td>\n",
       "    </tr>\n",
       "    <tr>\n",
       "      <th>75</th>\n",
       "      <td>LQ-01-61-78_pos.mzXML</td>\n",
       "      <td>Pristimera indica</td>\n",
       "      <td>Pristimera indica|Roots</td>\n",
       "      <td>0.841667</td>\n",
       "      <td>0.816667</td>\n",
       "    </tr>\n",
       "    <tr>\n",
       "      <th>59</th>\n",
       "      <td>LQ-01-61-60_pos.mzXML</td>\n",
       "      <td>Mystroxylon aethiopicum</td>\n",
       "      <td>Mystroxylon aethiopicum|Bark</td>\n",
       "      <td>0.821053</td>\n",
       "      <td>0.805263</td>\n",
       "    </tr>\n",
       "    <tr>\n",
       "      <th>26</th>\n",
       "      <td>LQ-01-61-27_pos.mzXML</td>\n",
       "      <td>Euonymus fortunei</td>\n",
       "      <td>Euonymus fortunei|Aerial_parts</td>\n",
       "      <td>0.903226</td>\n",
       "      <td>0.790323</td>\n",
       "    </tr>\n",
       "    <tr>\n",
       "      <th>22</th>\n",
       "      <td>LQ-01-61-23_pos.mzXML</td>\n",
       "      <td>Euonymus cochinchinensis</td>\n",
       "      <td>Euonymus cochinchinensis|Leaves</td>\n",
       "      <td>0.805031</td>\n",
       "      <td>0.770440</td>\n",
       "    </tr>\n",
       "  </tbody>\n",
       "</table>\n",
       "</div>"
      ],
      "text/plain": [
       "                 filename         ATTRIBUTE_Species  \\\n",
       "5   LQ-01-61-06_pos.mzXML     Celastrus orbiculatus   \n",
       "75  LQ-01-61-78_pos.mzXML         Pristimera indica   \n",
       "59  LQ-01-61-60_pos.mzXML   Mystroxylon aethiopicum   \n",
       "26  LQ-01-61-27_pos.mzXML         Euonymus fortunei   \n",
       "22  LQ-01-61-23_pos.mzXML  Euonymus cochinchinensis   \n",
       "\n",
       "                   ATTRIBUTE_Sppart  Sample_specificity        FC  \n",
       "5       Celastrus orbiculatus|Roots            0.863281  0.828125  \n",
       "75          Pristimera indica|Roots            0.841667  0.816667  \n",
       "59     Mystroxylon aethiopicum|Bark            0.821053  0.805263  \n",
       "26   Euonymus fortunei|Aerial_parts            0.903226  0.790323  \n",
       "22  Euonymus cochinchinensis|Leaves            0.805031  0.770440  "
      ]
     },
     "execution_count": 27,
     "metadata": {},
     "output_type": "execute_result"
    }
   ],
   "source": [
    "FC = feature_component(specificity_df, annotation_df, metadata_df, \n",
    "                            only_feature_specificity, min_specificity, annotation_preference, col_id_unique)\n",
    "FC = FC.sort_values(by=['FC'], ascending=False)\n",
    "FC.head(5)"
   ]
  },
  {
   "cell_type": "markdown",
   "metadata": {},
   "source": [
    "# Literature component (LC)\n"
   ]
  },
  {
   "cell_type": "markdown",
   "metadata": {},
   "source": [
    "#### LC.1. LC computation"
   ]
  },
  {
   "cell_type": "code",
   "execution_count": 44,
   "metadata": {},
   "outputs": [
    {
     "data": {
      "text/html": [
       "<div>\n",
       "<style scoped>\n",
       "    .dataframe tbody tr th:only-of-type {\n",
       "        vertical-align: middle;\n",
       "    }\n",
       "\n",
       "    .dataframe tbody tr th {\n",
       "        vertical-align: top;\n",
       "    }\n",
       "\n",
       "    .dataframe thead th {\n",
       "        text-align: right;\n",
       "    }\n",
       "</style>\n",
       "<table border=\"1\" class=\"dataframe\">\n",
       "  <thead>\n",
       "    <tr style=\"text-align: right;\">\n",
       "      <th></th>\n",
       "      <th>filename</th>\n",
       "      <th>ATTRIBUTE_Family</th>\n",
       "      <th>ATTRIBUTE_Genus</th>\n",
       "      <th>ATTRIBUTE_Species</th>\n",
       "      <th>Reported_comp_Family</th>\n",
       "      <th>Reported_comp_Genus</th>\n",
       "      <th>Reported_comp_Species</th>\n",
       "      <th>LC</th>\n",
       "    </tr>\n",
       "  </thead>\n",
       "  <tbody>\n",
       "    <tr>\n",
       "      <th>0</th>\n",
       "      <td>LQ-01-61-01_pos.mzXML</td>\n",
       "      <td>Celastraceae</td>\n",
       "      <td>Catha</td>\n",
       "      <td>Catha edulis</td>\n",
       "      <td>6064.0</td>\n",
       "      <td>126.0</td>\n",
       "      <td>126</td>\n",
       "      <td>0</td>\n",
       "    </tr>\n",
       "    <tr>\n",
       "      <th>1</th>\n",
       "      <td>LQ-01-61-02_pos.mzXML</td>\n",
       "      <td>Celastraceae</td>\n",
       "      <td>Catha</td>\n",
       "      <td>Catha edulis</td>\n",
       "      <td>6064.0</td>\n",
       "      <td>126.0</td>\n",
       "      <td>126</td>\n",
       "      <td>0</td>\n",
       "    </tr>\n",
       "    <tr>\n",
       "      <th>2</th>\n",
       "      <td>LQ-01-61-03_pos.mzXML</td>\n",
       "      <td>Celastraceae</td>\n",
       "      <td>Catha</td>\n",
       "      <td>Catha edulis</td>\n",
       "      <td>6064.0</td>\n",
       "      <td>126.0</td>\n",
       "      <td>126</td>\n",
       "      <td>0</td>\n",
       "    </tr>\n",
       "    <tr>\n",
       "      <th>3</th>\n",
       "      <td>LQ-01-61-04_pos.mzXML</td>\n",
       "      <td>Celastraceae</td>\n",
       "      <td>Catha</td>\n",
       "      <td>Catha edulis</td>\n",
       "      <td>6064.0</td>\n",
       "      <td>126.0</td>\n",
       "      <td>126</td>\n",
       "      <td>0</td>\n",
       "    </tr>\n",
       "    <tr>\n",
       "      <th>4</th>\n",
       "      <td>LQ-01-61-05_pos.mzXML</td>\n",
       "      <td>Celastraceae</td>\n",
       "      <td>Celastrus</td>\n",
       "      <td>Celastrus orbiculatus</td>\n",
       "      <td>6064.0</td>\n",
       "      <td>732.0</td>\n",
       "      <td>212</td>\n",
       "      <td>0</td>\n",
       "    </tr>\n",
       "    <tr>\n",
       "      <th>...</th>\n",
       "      <td>...</td>\n",
       "      <td>...</td>\n",
       "      <td>...</td>\n",
       "      <td>...</td>\n",
       "      <td>...</td>\n",
       "      <td>...</td>\n",
       "      <td>...</td>\n",
       "      <td>...</td>\n",
       "    </tr>\n",
       "    <tr>\n",
       "      <th>80</th>\n",
       "      <td>LQ-01-61-72_pos.mzXML</td>\n",
       "      <td>Celastraceae</td>\n",
       "      <td>Salacia</td>\n",
       "      <td>Salacighia letestuana</td>\n",
       "      <td>0.0</td>\n",
       "      <td>0.0</td>\n",
       "      <td>0</td>\n",
       "      <td>1</td>\n",
       "    </tr>\n",
       "    <tr>\n",
       "      <th>81</th>\n",
       "      <td>LQ-01-61-73_pos.mzXML</td>\n",
       "      <td>Celastraceae</td>\n",
       "      <td>Tripterygium</td>\n",
       "      <td>Tripterygium hypoglaucum</td>\n",
       "      <td>6064.0</td>\n",
       "      <td>1353.0</td>\n",
       "      <td>162</td>\n",
       "      <td>0</td>\n",
       "    </tr>\n",
       "    <tr>\n",
       "      <th>82</th>\n",
       "      <td>LQ-01-61-74_pos.mzXML</td>\n",
       "      <td>Celastraceae</td>\n",
       "      <td>Tripterygium</td>\n",
       "      <td>Tripterygium wilfordii</td>\n",
       "      <td>6064.0</td>\n",
       "      <td>1353.0</td>\n",
       "      <td>1011</td>\n",
       "      <td>0</td>\n",
       "    </tr>\n",
       "    <tr>\n",
       "      <th>83</th>\n",
       "      <td>LQ-01-61-75_pos.mzXML</td>\n",
       "      <td>Celastraceae</td>\n",
       "      <td>Tripterygium</td>\n",
       "      <td>Tripterygium wilfordii</td>\n",
       "      <td>6064.0</td>\n",
       "      <td>1353.0</td>\n",
       "      <td>1011</td>\n",
       "      <td>0</td>\n",
       "    </tr>\n",
       "    <tr>\n",
       "      <th>84</th>\n",
       "      <td>LQ-01-61-78_pos.mzXML</td>\n",
       "      <td>Celastraceae</td>\n",
       "      <td>Pristimera</td>\n",
       "      <td>Pristimera indica</td>\n",
       "      <td>6064.0</td>\n",
       "      <td>8.0</td>\n",
       "      <td>2</td>\n",
       "      <td>1</td>\n",
       "    </tr>\n",
       "  </tbody>\n",
       "</table>\n",
       "<p>76 rows × 8 columns</p>\n",
       "</div>"
      ],
      "text/plain": [
       "                 filename ATTRIBUTE_Family ATTRIBUTE_Genus  \\\n",
       "0   LQ-01-61-01_pos.mzXML     Celastraceae           Catha   \n",
       "1   LQ-01-61-02_pos.mzXML     Celastraceae           Catha   \n",
       "2   LQ-01-61-03_pos.mzXML     Celastraceae           Catha   \n",
       "3   LQ-01-61-04_pos.mzXML     Celastraceae           Catha   \n",
       "4   LQ-01-61-05_pos.mzXML     Celastraceae       Celastrus   \n",
       "..                    ...              ...             ...   \n",
       "80  LQ-01-61-72_pos.mzXML     Celastraceae         Salacia   \n",
       "81  LQ-01-61-73_pos.mzXML     Celastraceae    Tripterygium   \n",
       "82  LQ-01-61-74_pos.mzXML     Celastraceae    Tripterygium   \n",
       "83  LQ-01-61-75_pos.mzXML     Celastraceae    Tripterygium   \n",
       "84  LQ-01-61-78_pos.mzXML     Celastraceae      Pristimera   \n",
       "\n",
       "           ATTRIBUTE_Species  Reported_comp_Family  Reported_comp_Genus  \\\n",
       "0               Catha edulis                6064.0                126.0   \n",
       "1               Catha edulis                6064.0                126.0   \n",
       "2               Catha edulis                6064.0                126.0   \n",
       "3               Catha edulis                6064.0                126.0   \n",
       "4      Celastrus orbiculatus                6064.0                732.0   \n",
       "..                       ...                   ...                  ...   \n",
       "80     Salacighia letestuana                   0.0                  0.0   \n",
       "81  Tripterygium hypoglaucum                6064.0               1353.0   \n",
       "82    Tripterygium wilfordii                6064.0               1353.0   \n",
       "83    Tripterygium wilfordii                6064.0               1353.0   \n",
       "84         Pristimera indica                6064.0                  8.0   \n",
       "\n",
       "    Reported_comp_Species  LC  \n",
       "0                     126   0  \n",
       "1                     126   0  \n",
       "2                     126   0  \n",
       "3                     126   0  \n",
       "4                     212   0  \n",
       "..                    ...  ..  \n",
       "80                      0   1  \n",
       "81                    162   0  \n",
       "82                   1011   0  \n",
       "83                   1011   0  \n",
       "84                      2   1  \n",
       "\n",
       "[76 rows x 8 columns]"
      ]
     },
     "execution_count": 44,
     "metadata": {},
     "output_type": "execute_result"
    }
   ],
   "source": [
    "\n",
    "LC = literature_component(metadata_df, LC_component, min_comp_reported, max_comp_reported)\n",
    "LC"
   ]
  },
  {
   "cell_type": "markdown",
   "metadata": {},
   "source": [
    "# Similarity component (SC)"
   ]
  },
  {
   "cell_type": "markdown",
   "metadata": {},
   "source": [
    "#### SC.1. SC computation"
   ]
  },
  {
   "cell_type": "code",
   "execution_count": 45,
   "metadata": {},
   "outputs": [
    {
     "name": "stderr",
     "output_type": "stream",
     "text": [
      "/home/quirosgu/anaconda3/envs/inventa/lib/python3.7/site-packages/sklearn/base.py:451: UserWarning:\n",
      "\n",
      "X does not have valid feature names, but IsolationForest was fitted with feature names\n",
      "\n"
     ]
    },
    {
     "data": {
      "text/html": [
       "<div>\n",
       "<style scoped>\n",
       "    .dataframe tbody tr th:only-of-type {\n",
       "        vertical-align: middle;\n",
       "    }\n",
       "\n",
       "    .dataframe tbody tr th {\n",
       "        vertical-align: top;\n",
       "    }\n",
       "\n",
       "    .dataframe thead th {\n",
       "        text-align: right;\n",
       "    }\n",
       "</style>\n",
       "<table border=\"1\" class=\"dataframe\">\n",
       "  <thead>\n",
       "    <tr style=\"text-align: right;\">\n",
       "      <th></th>\n",
       "      <th>filename</th>\n",
       "      <th>anomaly_IF</th>\n",
       "      <th>anomaly_LOF</th>\n",
       "      <th>anomaly_OCSVM</th>\n",
       "      <th>SC</th>\n",
       "    </tr>\n",
       "  </thead>\n",
       "  <tbody>\n",
       "    <tr>\n",
       "      <th>0</th>\n",
       "      <td>LQ-01-61-01_pos.mzXML</td>\n",
       "      <td>1</td>\n",
       "      <td>1</td>\n",
       "      <td>1</td>\n",
       "      <td>0</td>\n",
       "    </tr>\n",
       "    <tr>\n",
       "      <th>1</th>\n",
       "      <td>LQ-01-61-02_pos.mzXML</td>\n",
       "      <td>-1</td>\n",
       "      <td>1</td>\n",
       "      <td>1</td>\n",
       "      <td>1</td>\n",
       "    </tr>\n",
       "    <tr>\n",
       "      <th>2</th>\n",
       "      <td>LQ-01-61-03_pos.mzXML</td>\n",
       "      <td>-1</td>\n",
       "      <td>1</td>\n",
       "      <td>1</td>\n",
       "      <td>1</td>\n",
       "    </tr>\n",
       "    <tr>\n",
       "      <th>3</th>\n",
       "      <td>LQ-01-61-04_pos.mzXML</td>\n",
       "      <td>-1</td>\n",
       "      <td>1</td>\n",
       "      <td>1</td>\n",
       "      <td>1</td>\n",
       "    </tr>\n",
       "    <tr>\n",
       "      <th>4</th>\n",
       "      <td>LQ-01-61-05_pos.mzXML</td>\n",
       "      <td>-1</td>\n",
       "      <td>1</td>\n",
       "      <td>1</td>\n",
       "      <td>1</td>\n",
       "    </tr>\n",
       "    <tr>\n",
       "      <th>...</th>\n",
       "      <td>...</td>\n",
       "      <td>...</td>\n",
       "      <td>...</td>\n",
       "      <td>...</td>\n",
       "      <td>...</td>\n",
       "    </tr>\n",
       "    <tr>\n",
       "      <th>71</th>\n",
       "      <td>LQ-01-61-72_pos.mzXML</td>\n",
       "      <td>1</td>\n",
       "      <td>-1</td>\n",
       "      <td>1</td>\n",
       "      <td>1</td>\n",
       "    </tr>\n",
       "    <tr>\n",
       "      <th>72</th>\n",
       "      <td>LQ-01-61-73_pos.mzXML</td>\n",
       "      <td>-1</td>\n",
       "      <td>1</td>\n",
       "      <td>1</td>\n",
       "      <td>1</td>\n",
       "    </tr>\n",
       "    <tr>\n",
       "      <th>73</th>\n",
       "      <td>LQ-01-61-74_pos.mzXML</td>\n",
       "      <td>-1</td>\n",
       "      <td>1</td>\n",
       "      <td>1</td>\n",
       "      <td>1</td>\n",
       "    </tr>\n",
       "    <tr>\n",
       "      <th>74</th>\n",
       "      <td>LQ-01-61-75_pos.mzXML</td>\n",
       "      <td>1</td>\n",
       "      <td>1</td>\n",
       "      <td>1</td>\n",
       "      <td>0</td>\n",
       "    </tr>\n",
       "    <tr>\n",
       "      <th>75</th>\n",
       "      <td>LQ-01-61-78_pos.mzXML</td>\n",
       "      <td>-1</td>\n",
       "      <td>-1</td>\n",
       "      <td>-1</td>\n",
       "      <td>1</td>\n",
       "    </tr>\n",
       "  </tbody>\n",
       "</table>\n",
       "<p>76 rows × 5 columns</p>\n",
       "</div>"
      ],
      "text/plain": [
       "                 filename  anomaly_IF  anomaly_LOF  anomaly_OCSVM  SC\n",
       "0   LQ-01-61-01_pos.mzXML           1            1              1   0\n",
       "1   LQ-01-61-02_pos.mzXML          -1            1              1   1\n",
       "2   LQ-01-61-03_pos.mzXML          -1            1              1   1\n",
       "3   LQ-01-61-04_pos.mzXML          -1            1              1   1\n",
       "4   LQ-01-61-05_pos.mzXML          -1            1              1   1\n",
       "..                    ...         ...          ...            ...  ..\n",
       "71  LQ-01-61-72_pos.mzXML           1           -1              1   1\n",
       "72  LQ-01-61-73_pos.mzXML          -1            1              1   1\n",
       "73  LQ-01-61-74_pos.mzXML          -1            1              1   1\n",
       "74  LQ-01-61-75_pos.mzXML           1            1              1   0\n",
       "75  LQ-01-61-78_pos.mzXML          -1           -1             -1   1\n",
       "\n",
       "[76 rows x 5 columns]"
      ]
     },
     "execution_count": 45,
     "metadata": {},
     "output_type": "execute_result"
    }
   ],
   "source": [
    "metric_df = pd.read_csv(vectorized_data_filename,\n",
    "                        sep=',', encoding= 'unicode_escape')\n",
    "SC = similarity_component(metric_df, SC_component)\n",
    "SC"
   ]
  },
  {
   "cell_type": "markdown",
   "metadata": {},
   "source": [
    "#### SC.2. Visualizing the similarity results"
   ]
  },
  {
   "cell_type": "code",
   "execution_count": 46,
   "metadata": {},
   "outputs": [
    {
     "name": "stderr",
     "output_type": "stream",
     "text": [
      "/home/quirosgu/anaconda3/envs/inventa/lib/python3.7/site-packages/skbio/stats/ordination/_principal_coordinate_analysis.py:152: RuntimeWarning:\n",
      "\n",
      "The result contains negative eigenvalues. Please compare their magnitude with the magnitude of some of the largest positive eigenvalues. If the negative ones are smaller, it's probably safe to ignore them, but if they are large in magnitude, the results won't be useful. See the Notes section for more details. The smallest eigenvalue is -0.0016647020911529113 and the largest is 0.9032327317957184.\n",
      "\n"
     ]
    },
    {
     "data": {
      "application/vnd.plotly.v1+json": {
       "config": {
        "plotlyServerURL": "https://plot.ly"
       },
       "data": [
        {
         "hovertemplate": "<b>%{hovertext}</b><br><br>anomaly_IF=1<br>PC1 (25.5 %)=%{x}<br>PC2 (14.9 %)=%{y}<extra></extra>",
         "hovertext": [
          "LQ-01-61-01_pos.mzXML",
          "LQ-01-61-08_pos.mzXML",
          "LQ-01-61-09_pos.mzXML",
          "LQ-01-61-10_pos.mzXML",
          "LQ-01-61-11_pos.mzXML",
          "LQ-01-61-12_pos.mzXML",
          "LQ-01-61-13_pos.mzXML",
          "LQ-01-61-15_pos.mzXML",
          "LQ-01-61-16_pos.mzXML",
          "LQ-01-61-17_pos.mzXML",
          "LQ-01-61-18_pos.mzXML",
          "LQ-01-61-20_pos.mzXML",
          "LQ-01-61-21_pos.mzXML",
          "LQ-01-61-22_pos.mzXML",
          "LQ-01-61-23_pos.mzXML",
          "LQ-01-61-24_pos.mzXML",
          "LQ-01-61-25_pos.mzXML",
          "LQ-01-61-26_pos.mzXML",
          "LQ-01-61-27_pos.mzXML",
          "LQ-01-61-28_pos.mzXML",
          "LQ-01-61-29_pos.mzXML",
          "LQ-01-61-30_pos.mzXML",
          "LQ-01-61-31_pos.mzXML",
          "LQ-01-61-32_pos.mzXML",
          "LQ-01-61-33_pos.mzXML",
          "LQ-01-61-34_pos.mzXML",
          "LQ-01-61-35_pos.mzXML",
          "LQ-01-61-36_pos.mzXML",
          "LQ-01-61-38_pos.mzXML",
          "LQ-01-61-39_pos.mzXML",
          "LQ-01-61-40_pos.mzXML",
          "LQ-01-61-41_pos.mzXML",
          "LQ-01-61-42_pos.mzXML",
          "LQ-01-61-43_pos.mzXML",
          "LQ-01-61-44_pos.mzXML",
          "LQ-01-61-45_pos.mzXML",
          "LQ-01-61-46_pos.mzXML",
          "LQ-01-61-47_pos.mzXML",
          "LQ-01-61-48_pos.mzXML",
          "LQ-01-61-49_pos.mzXML",
          "LQ-01-61-50_pos.mzXML",
          "LQ-01-61-51_pos.mzXML",
          "LQ-01-61-52_pos.mzXML",
          "LQ-01-61-53_pos.mzXML",
          "LQ-01-61-54_pos.mzXML",
          "LQ-01-61-55_pos.mzXML",
          "LQ-01-61-56_pos.mzXML",
          "LQ-01-61-57_pos.mzXML",
          "LQ-01-61-58_pos.mzXML",
          "LQ-01-61-59_pos.mzXML",
          "LQ-01-61-60_pos.mzXML",
          "LQ-01-61-61_pos.mzXML",
          "LQ-01-61-62_pos.mzXML",
          "LQ-01-61-63_pos.mzXML",
          "LQ-01-61-64_pos.mzXML",
          "LQ-01-61-65_pos.mzXML",
          "LQ-01-61-66_pos.mzXML",
          "LQ-01-61-67_pos.mzXML",
          "LQ-01-61-68_pos.mzXML",
          "LQ-01-61-69_pos.mzXML",
          "LQ-01-61-70_pos.mzXML",
          "LQ-01-61-71_pos.mzXML",
          "LQ-01-61-72_pos.mzXML",
          "LQ-01-61-75_pos.mzXML"
         ],
         "legendgroup": "1",
         "marker": {
          "color": "#1F77B4",
          "line": {
           "color": "DarkSlateGrey",
           "width": 1
          },
          "size": 10,
          "symbol": "circle"
         },
         "mode": "markers",
         "name": "1",
         "orientation": "v",
         "showlegend": true,
         "type": "scatter",
         "x": [
          -0.08918355178765879,
          -0.25744229773297483,
          -0.21435646816718698,
          -0.005230987336226259,
          0.10250038364223248,
          -0.049670310017576505,
          -0.0050168479911067996,
          -0.016498516684313975,
          0.02378746867102314,
          0.02869089270547618,
          -0.024945403220246045,
          0.07693796295723032,
          -0.0693857505188175,
          -0.10184810091363972,
          -0.1825446422614421,
          0.06654602423133428,
          0.08259182673020317,
          0.025247659123797356,
          -0.00829340752025201,
          -0.18754308841791312,
          -0.12227999014692434,
          -0.06946097766338848,
          0.21181622419470722,
          0.14096041207590576,
          0.01772383640751301,
          0.06481572076040075,
          0.1233712802490425,
          -0.020338701889247815,
          0.016976274655669348,
          -0.012839907490866482,
          0.03839951163137525,
          0.06012031300007019,
          -0.060255586195807634,
          -0.12420843329346003,
          0.06874456328254946,
          0.09484597645323409,
          -0.01052226521932343,
          -0.09101072044252391,
          0.06243855455014494,
          0.08265815519853868,
          0.09473428434819542,
          -0.038664484317756286,
          -0.05035840684430088,
          0.03587226868580299,
          0.08773001484347917,
          0.170300726702345,
          0.16664629026691485,
          -0.08331298324761234,
          0.1353803546654774,
          -0.07115189896547354,
          -0.21730189296850053,
          -0.07011255197958509,
          -0.17813588880808884,
          -0.01379134450257949,
          -0.046051467189010965,
          -0.18435454122384226,
          -0.13100261753558384,
          -0.099072014385107,
          -0.17574606548785138,
          -0.10622282909548689,
          0.015015440729744345,
          -0.09730472166512119,
          -0.09938432429691398,
          0.12361816998472006
         ],
         "xaxis": "x",
         "y": [
          0.09175078320306772,
          0.04031238127971293,
          0.05774975660771846,
          -0.06862257674118173,
          -0.03297526219169022,
          -0.08340728517017211,
          -0.027966507517742087,
          -0.0706555495276861,
          -0.050702553312651985,
          0.09868992446150912,
          0.012268515819546766,
          -0.07859795560502685,
          -0.016687157587653923,
          -0.00010188871275284172,
          0.019889333652861527,
          -0.014229764700351824,
          -0.10505109664885275,
          -0.13191425937220255,
          -0.0825124194771222,
          0.03735321803100696,
          0.07423159917680246,
          -0.03570859555294326,
          0.060491577316500345,
          -0.024525141435679337,
          -0.117144495985395,
          -0.019090005583186166,
          -0.09287627598688568,
          -0.08694841354417553,
          -0.02088071150367258,
          -0.13094078291397113,
          -0.10429750877457862,
          0.08952193079615232,
          -0.03335330636070258,
          0.018634852736587514,
          -0.006605753855655602,
          -0.059684999725601234,
          -0.11012940589955002,
          -0.04838748021750625,
          -0.05063151761505773,
          -0.04181993360178863,
          -0.017392200397837343,
          -0.05901745002862598,
          -0.08583731145985393,
          -0.037785954746057795,
          0.07399083555729681,
          0.10827983916610477,
          0.1157425144541338,
          0.038131613476871315,
          -0.06035575767070539,
          -0.09247374346220015,
          0.08650687837938295,
          -0.031502166817151234,
          0.009543165883456297,
          -0.11553369359048768,
          -0.0754691461484837,
          -0.05495619530417842,
          0.05272671024037432,
          0.14611531805493952,
          -0.004433649690324741,
          0.07719531423509972,
          0.16466511310855064,
          0.03464541556477928,
          -0.0835057935146747,
          -0.023016360296202538
         ],
         "yaxis": "y"
        },
        {
         "hovertemplate": "<b>%{hovertext}</b><br><br>anomaly_IF=-1<br>PC1 (25.5 %)=%{x}<br>PC2 (14.9 %)=%{y}<extra></extra>",
         "hovertext": [
          "LQ-01-61-02_pos.mzXML",
          "LQ-01-61-03_pos.mzXML",
          "LQ-01-61-04_pos.mzXML",
          "LQ-01-61-05_pos.mzXML",
          "LQ-01-61-06_pos.mzXML",
          "LQ-01-61-07_pos.mzXML",
          "LQ-01-61-14_pos.mzXML",
          "LQ-01-61-19_pos.mzXML",
          "LQ-01-61-37_pos.mzXML",
          "LQ-01-61-73_pos.mzXML",
          "LQ-01-61-74_pos.mzXML",
          "LQ-01-61-78_pos.mzXML"
         ],
         "legendgroup": "-1",
         "marker": {
          "color": "#FF7F0E",
          "line": {
           "color": "DarkSlateGrey",
           "width": 1
          },
          "size": 10,
          "symbol": "circle"
         },
         "mode": "markers",
         "name": "-1",
         "orientation": "v",
         "showlegend": true,
         "type": "scatter",
         "x": [
          0.06846954955605393,
          0.1344873476207129,
          0.11819384542770661,
          0.05980371741364595,
          0.10816117510221494,
          0.19466715006192134,
          0.0655985990337102,
          0.17115168955406687,
          0.04035613439455286,
          0.12446326655808124,
          0.15649570604986648,
          -0.0754747840959486
         ],
         "xaxis": "x",
         "y": [
          0.08129934184719603,
          0.14078347628064758,
          0.11228567743165624,
          -0.05688954414766626,
          0.11915704076409861,
          -0.06121297613072468,
          0.2246102235840271,
          -0.08189635175239697,
          0.1421378807217934,
          0.09171484855687391,
          0.09157318272586314,
          0.17572863716439632
         ],
         "yaxis": "y"
        }
       ],
       "layout": {
        "legend": {
         "title": {
          "text": "anomaly_IF"
         },
         "tracegroupgap": 0
        },
        "template": {
         "data": {
          "bar": [
           {
            "error_x": {
             "color": "rgb(36,36,36)"
            },
            "error_y": {
             "color": "rgb(36,36,36)"
            },
            "marker": {
             "line": {
              "color": "white",
              "width": 0.5
             },
             "pattern": {
              "fillmode": "overlay",
              "size": 10,
              "solidity": 0.2
             }
            },
            "type": "bar"
           }
          ],
          "barpolar": [
           {
            "marker": {
             "line": {
              "color": "white",
              "width": 0.5
             },
             "pattern": {
              "fillmode": "overlay",
              "size": 10,
              "solidity": 0.2
             }
            },
            "type": "barpolar"
           }
          ],
          "carpet": [
           {
            "aaxis": {
             "endlinecolor": "rgb(36,36,36)",
             "gridcolor": "white",
             "linecolor": "white",
             "minorgridcolor": "white",
             "startlinecolor": "rgb(36,36,36)"
            },
            "baxis": {
             "endlinecolor": "rgb(36,36,36)",
             "gridcolor": "white",
             "linecolor": "white",
             "minorgridcolor": "white",
             "startlinecolor": "rgb(36,36,36)"
            },
            "type": "carpet"
           }
          ],
          "choropleth": [
           {
            "colorbar": {
             "outlinewidth": 1,
             "tickcolor": "rgb(36,36,36)",
             "ticks": "outside"
            },
            "type": "choropleth"
           }
          ],
          "contour": [
           {
            "colorbar": {
             "outlinewidth": 1,
             "tickcolor": "rgb(36,36,36)",
             "ticks": "outside"
            },
            "colorscale": [
             [
              0,
              "#440154"
             ],
             [
              0.1111111111111111,
              "#482878"
             ],
             [
              0.2222222222222222,
              "#3e4989"
             ],
             [
              0.3333333333333333,
              "#31688e"
             ],
             [
              0.4444444444444444,
              "#26828e"
             ],
             [
              0.5555555555555556,
              "#1f9e89"
             ],
             [
              0.6666666666666666,
              "#35b779"
             ],
             [
              0.7777777777777778,
              "#6ece58"
             ],
             [
              0.8888888888888888,
              "#b5de2b"
             ],
             [
              1,
              "#fde725"
             ]
            ],
            "type": "contour"
           }
          ],
          "contourcarpet": [
           {
            "colorbar": {
             "outlinewidth": 1,
             "tickcolor": "rgb(36,36,36)",
             "ticks": "outside"
            },
            "type": "contourcarpet"
           }
          ],
          "heatmap": [
           {
            "colorbar": {
             "outlinewidth": 1,
             "tickcolor": "rgb(36,36,36)",
             "ticks": "outside"
            },
            "colorscale": [
             [
              0,
              "#440154"
             ],
             [
              0.1111111111111111,
              "#482878"
             ],
             [
              0.2222222222222222,
              "#3e4989"
             ],
             [
              0.3333333333333333,
              "#31688e"
             ],
             [
              0.4444444444444444,
              "#26828e"
             ],
             [
              0.5555555555555556,
              "#1f9e89"
             ],
             [
              0.6666666666666666,
              "#35b779"
             ],
             [
              0.7777777777777778,
              "#6ece58"
             ],
             [
              0.8888888888888888,
              "#b5de2b"
             ],
             [
              1,
              "#fde725"
             ]
            ],
            "type": "heatmap"
           }
          ],
          "heatmapgl": [
           {
            "colorbar": {
             "outlinewidth": 1,
             "tickcolor": "rgb(36,36,36)",
             "ticks": "outside"
            },
            "colorscale": [
             [
              0,
              "#440154"
             ],
             [
              0.1111111111111111,
              "#482878"
             ],
             [
              0.2222222222222222,
              "#3e4989"
             ],
             [
              0.3333333333333333,
              "#31688e"
             ],
             [
              0.4444444444444444,
              "#26828e"
             ],
             [
              0.5555555555555556,
              "#1f9e89"
             ],
             [
              0.6666666666666666,
              "#35b779"
             ],
             [
              0.7777777777777778,
              "#6ece58"
             ],
             [
              0.8888888888888888,
              "#b5de2b"
             ],
             [
              1,
              "#fde725"
             ]
            ],
            "type": "heatmapgl"
           }
          ],
          "histogram": [
           {
            "marker": {
             "line": {
              "color": "white",
              "width": 0.6
             }
            },
            "type": "histogram"
           }
          ],
          "histogram2d": [
           {
            "colorbar": {
             "outlinewidth": 1,
             "tickcolor": "rgb(36,36,36)",
             "ticks": "outside"
            },
            "colorscale": [
             [
              0,
              "#440154"
             ],
             [
              0.1111111111111111,
              "#482878"
             ],
             [
              0.2222222222222222,
              "#3e4989"
             ],
             [
              0.3333333333333333,
              "#31688e"
             ],
             [
              0.4444444444444444,
              "#26828e"
             ],
             [
              0.5555555555555556,
              "#1f9e89"
             ],
             [
              0.6666666666666666,
              "#35b779"
             ],
             [
              0.7777777777777778,
              "#6ece58"
             ],
             [
              0.8888888888888888,
              "#b5de2b"
             ],
             [
              1,
              "#fde725"
             ]
            ],
            "type": "histogram2d"
           }
          ],
          "histogram2dcontour": [
           {
            "colorbar": {
             "outlinewidth": 1,
             "tickcolor": "rgb(36,36,36)",
             "ticks": "outside"
            },
            "colorscale": [
             [
              0,
              "#440154"
             ],
             [
              0.1111111111111111,
              "#482878"
             ],
             [
              0.2222222222222222,
              "#3e4989"
             ],
             [
              0.3333333333333333,
              "#31688e"
             ],
             [
              0.4444444444444444,
              "#26828e"
             ],
             [
              0.5555555555555556,
              "#1f9e89"
             ],
             [
              0.6666666666666666,
              "#35b779"
             ],
             [
              0.7777777777777778,
              "#6ece58"
             ],
             [
              0.8888888888888888,
              "#b5de2b"
             ],
             [
              1,
              "#fde725"
             ]
            ],
            "type": "histogram2dcontour"
           }
          ],
          "mesh3d": [
           {
            "colorbar": {
             "outlinewidth": 1,
             "tickcolor": "rgb(36,36,36)",
             "ticks": "outside"
            },
            "type": "mesh3d"
           }
          ],
          "parcoords": [
           {
            "line": {
             "colorbar": {
              "outlinewidth": 1,
              "tickcolor": "rgb(36,36,36)",
              "ticks": "outside"
             }
            },
            "type": "parcoords"
           }
          ],
          "pie": [
           {
            "automargin": true,
            "type": "pie"
           }
          ],
          "scatter": [
           {
            "marker": {
             "colorbar": {
              "outlinewidth": 1,
              "tickcolor": "rgb(36,36,36)",
              "ticks": "outside"
             }
            },
            "type": "scatter"
           }
          ],
          "scatter3d": [
           {
            "line": {
             "colorbar": {
              "outlinewidth": 1,
              "tickcolor": "rgb(36,36,36)",
              "ticks": "outside"
             }
            },
            "marker": {
             "colorbar": {
              "outlinewidth": 1,
              "tickcolor": "rgb(36,36,36)",
              "ticks": "outside"
             }
            },
            "type": "scatter3d"
           }
          ],
          "scattercarpet": [
           {
            "marker": {
             "colorbar": {
              "outlinewidth": 1,
              "tickcolor": "rgb(36,36,36)",
              "ticks": "outside"
             }
            },
            "type": "scattercarpet"
           }
          ],
          "scattergeo": [
           {
            "marker": {
             "colorbar": {
              "outlinewidth": 1,
              "tickcolor": "rgb(36,36,36)",
              "ticks": "outside"
             }
            },
            "type": "scattergeo"
           }
          ],
          "scattergl": [
           {
            "marker": {
             "colorbar": {
              "outlinewidth": 1,
              "tickcolor": "rgb(36,36,36)",
              "ticks": "outside"
             }
            },
            "type": "scattergl"
           }
          ],
          "scattermapbox": [
           {
            "marker": {
             "colorbar": {
              "outlinewidth": 1,
              "tickcolor": "rgb(36,36,36)",
              "ticks": "outside"
             }
            },
            "type": "scattermapbox"
           }
          ],
          "scatterpolar": [
           {
            "marker": {
             "colorbar": {
              "outlinewidth": 1,
              "tickcolor": "rgb(36,36,36)",
              "ticks": "outside"
             }
            },
            "type": "scatterpolar"
           }
          ],
          "scatterpolargl": [
           {
            "marker": {
             "colorbar": {
              "outlinewidth": 1,
              "tickcolor": "rgb(36,36,36)",
              "ticks": "outside"
             }
            },
            "type": "scatterpolargl"
           }
          ],
          "scatterternary": [
           {
            "marker": {
             "colorbar": {
              "outlinewidth": 1,
              "tickcolor": "rgb(36,36,36)",
              "ticks": "outside"
             }
            },
            "type": "scatterternary"
           }
          ],
          "surface": [
           {
            "colorbar": {
             "outlinewidth": 1,
             "tickcolor": "rgb(36,36,36)",
             "ticks": "outside"
            },
            "colorscale": [
             [
              0,
              "#440154"
             ],
             [
              0.1111111111111111,
              "#482878"
             ],
             [
              0.2222222222222222,
              "#3e4989"
             ],
             [
              0.3333333333333333,
              "#31688e"
             ],
             [
              0.4444444444444444,
              "#26828e"
             ],
             [
              0.5555555555555556,
              "#1f9e89"
             ],
             [
              0.6666666666666666,
              "#35b779"
             ],
             [
              0.7777777777777778,
              "#6ece58"
             ],
             [
              0.8888888888888888,
              "#b5de2b"
             ],
             [
              1,
              "#fde725"
             ]
            ],
            "type": "surface"
           }
          ],
          "table": [
           {
            "cells": {
             "fill": {
              "color": "rgb(237,237,237)"
             },
             "line": {
              "color": "white"
             }
            },
            "header": {
             "fill": {
              "color": "rgb(217,217,217)"
             },
             "line": {
              "color": "white"
             }
            },
            "type": "table"
           }
          ]
         },
         "layout": {
          "annotationdefaults": {
           "arrowhead": 0,
           "arrowwidth": 1
          },
          "autotypenumbers": "strict",
          "coloraxis": {
           "colorbar": {
            "outlinewidth": 1,
            "tickcolor": "rgb(36,36,36)",
            "ticks": "outside"
           }
          },
          "colorscale": {
           "diverging": [
            [
             0,
             "rgb(103,0,31)"
            ],
            [
             0.1,
             "rgb(178,24,43)"
            ],
            [
             0.2,
             "rgb(214,96,77)"
            ],
            [
             0.3,
             "rgb(244,165,130)"
            ],
            [
             0.4,
             "rgb(253,219,199)"
            ],
            [
             0.5,
             "rgb(247,247,247)"
            ],
            [
             0.6,
             "rgb(209,229,240)"
            ],
            [
             0.7,
             "rgb(146,197,222)"
            ],
            [
             0.8,
             "rgb(67,147,195)"
            ],
            [
             0.9,
             "rgb(33,102,172)"
            ],
            [
             1,
             "rgb(5,48,97)"
            ]
           ],
           "sequential": [
            [
             0,
             "#440154"
            ],
            [
             0.1111111111111111,
             "#482878"
            ],
            [
             0.2222222222222222,
             "#3e4989"
            ],
            [
             0.3333333333333333,
             "#31688e"
            ],
            [
             0.4444444444444444,
             "#26828e"
            ],
            [
             0.5555555555555556,
             "#1f9e89"
            ],
            [
             0.6666666666666666,
             "#35b779"
            ],
            [
             0.7777777777777778,
             "#6ece58"
            ],
            [
             0.8888888888888888,
             "#b5de2b"
            ],
            [
             1,
             "#fde725"
            ]
           ],
           "sequentialminus": [
            [
             0,
             "#440154"
            ],
            [
             0.1111111111111111,
             "#482878"
            ],
            [
             0.2222222222222222,
             "#3e4989"
            ],
            [
             0.3333333333333333,
             "#31688e"
            ],
            [
             0.4444444444444444,
             "#26828e"
            ],
            [
             0.5555555555555556,
             "#1f9e89"
            ],
            [
             0.6666666666666666,
             "#35b779"
            ],
            [
             0.7777777777777778,
             "#6ece58"
            ],
            [
             0.8888888888888888,
             "#b5de2b"
            ],
            [
             1,
             "#fde725"
            ]
           ]
          },
          "colorway": [
           "#1F77B4",
           "#FF7F0E",
           "#2CA02C",
           "#D62728",
           "#9467BD",
           "#8C564B",
           "#E377C2",
           "#7F7F7F",
           "#BCBD22",
           "#17BECF"
          ],
          "font": {
           "color": "rgb(36,36,36)"
          },
          "geo": {
           "bgcolor": "white",
           "lakecolor": "white",
           "landcolor": "white",
           "showlakes": true,
           "showland": true,
           "subunitcolor": "white"
          },
          "hoverlabel": {
           "align": "left"
          },
          "hovermode": "closest",
          "mapbox": {
           "style": "light"
          },
          "paper_bgcolor": "white",
          "plot_bgcolor": "white",
          "polar": {
           "angularaxis": {
            "gridcolor": "rgb(232,232,232)",
            "linecolor": "rgb(36,36,36)",
            "showgrid": false,
            "showline": true,
            "ticks": "outside"
           },
           "bgcolor": "white",
           "radialaxis": {
            "gridcolor": "rgb(232,232,232)",
            "linecolor": "rgb(36,36,36)",
            "showgrid": false,
            "showline": true,
            "ticks": "outside"
           }
          },
          "scene": {
           "xaxis": {
            "backgroundcolor": "white",
            "gridcolor": "rgb(232,232,232)",
            "gridwidth": 2,
            "linecolor": "rgb(36,36,36)",
            "showbackground": true,
            "showgrid": false,
            "showline": true,
            "ticks": "outside",
            "zeroline": false,
            "zerolinecolor": "rgb(36,36,36)"
           },
           "yaxis": {
            "backgroundcolor": "white",
            "gridcolor": "rgb(232,232,232)",
            "gridwidth": 2,
            "linecolor": "rgb(36,36,36)",
            "showbackground": true,
            "showgrid": false,
            "showline": true,
            "ticks": "outside",
            "zeroline": false,
            "zerolinecolor": "rgb(36,36,36)"
           },
           "zaxis": {
            "backgroundcolor": "white",
            "gridcolor": "rgb(232,232,232)",
            "gridwidth": 2,
            "linecolor": "rgb(36,36,36)",
            "showbackground": true,
            "showgrid": false,
            "showline": true,
            "ticks": "outside",
            "zeroline": false,
            "zerolinecolor": "rgb(36,36,36)"
           }
          },
          "shapedefaults": {
           "fillcolor": "black",
           "line": {
            "width": 0
           },
           "opacity": 0.3
          },
          "ternary": {
           "aaxis": {
            "gridcolor": "rgb(232,232,232)",
            "linecolor": "rgb(36,36,36)",
            "showgrid": false,
            "showline": true,
            "ticks": "outside"
           },
           "baxis": {
            "gridcolor": "rgb(232,232,232)",
            "linecolor": "rgb(36,36,36)",
            "showgrid": false,
            "showline": true,
            "ticks": "outside"
           },
           "bgcolor": "white",
           "caxis": {
            "gridcolor": "rgb(232,232,232)",
            "linecolor": "rgb(36,36,36)",
            "showgrid": false,
            "showline": true,
            "ticks": "outside"
           }
          },
          "title": {
           "x": 0.05
          },
          "xaxis": {
           "automargin": true,
           "gridcolor": "rgb(232,232,232)",
           "linecolor": "rgb(36,36,36)",
           "showgrid": false,
           "showline": true,
           "ticks": "outside",
           "title": {
            "standoff": 15
           },
           "zeroline": false,
           "zerolinecolor": "rgb(36,36,36)"
          },
          "yaxis": {
           "automargin": true,
           "gridcolor": "rgb(232,232,232)",
           "linecolor": "rgb(36,36,36)",
           "showgrid": false,
           "showline": true,
           "ticks": "outside",
           "title": {
            "standoff": 15
           },
           "zeroline": false,
           "zerolinecolor": "rgb(36,36,36)"
          }
         }
        },
        "title": {
         "text": "\"Isolation Forest & PCoA (bray-curtis) based on the feature matrix\""
        },
        "xaxis": {
         "anchor": "y",
         "domain": [
          0,
          1
         ],
         "title": {
          "text": "PC1 (25.5 %)"
         }
        },
        "yaxis": {
         "anchor": "x",
         "domain": [
          0,
          1
         ],
         "title": {
          "text": "PC2 (14.9 %)"
         }
        }
       }
      },
      "text/html": [
       "<div>                            <div id=\"55e855ca-08d3-434d-87c8-45283bcf4170\" class=\"plotly-graph-div\" style=\"height:525px; width:100%;\"></div>            <script type=\"text/javascript\">                require([\"plotly\"], function(Plotly) {                    window.PLOTLYENV=window.PLOTLYENV || {};                                    if (document.getElementById(\"55e855ca-08d3-434d-87c8-45283bcf4170\")) {                    Plotly.newPlot(                        \"55e855ca-08d3-434d-87c8-45283bcf4170\",                        [{\"hovertemplate\":\"<b>%{hovertext}</b><br><br>anomaly_IF=1<br>PC1 (25.5 %)=%{x}<br>PC2 (14.9 %)=%{y}<extra></extra>\",\"hovertext\":[\"LQ-01-61-01_pos.mzXML\",\"LQ-01-61-08_pos.mzXML\",\"LQ-01-61-09_pos.mzXML\",\"LQ-01-61-10_pos.mzXML\",\"LQ-01-61-11_pos.mzXML\",\"LQ-01-61-12_pos.mzXML\",\"LQ-01-61-13_pos.mzXML\",\"LQ-01-61-15_pos.mzXML\",\"LQ-01-61-16_pos.mzXML\",\"LQ-01-61-17_pos.mzXML\",\"LQ-01-61-18_pos.mzXML\",\"LQ-01-61-20_pos.mzXML\",\"LQ-01-61-21_pos.mzXML\",\"LQ-01-61-22_pos.mzXML\",\"LQ-01-61-23_pos.mzXML\",\"LQ-01-61-24_pos.mzXML\",\"LQ-01-61-25_pos.mzXML\",\"LQ-01-61-26_pos.mzXML\",\"LQ-01-61-27_pos.mzXML\",\"LQ-01-61-28_pos.mzXML\",\"LQ-01-61-29_pos.mzXML\",\"LQ-01-61-30_pos.mzXML\",\"LQ-01-61-31_pos.mzXML\",\"LQ-01-61-32_pos.mzXML\",\"LQ-01-61-33_pos.mzXML\",\"LQ-01-61-34_pos.mzXML\",\"LQ-01-61-35_pos.mzXML\",\"LQ-01-61-36_pos.mzXML\",\"LQ-01-61-38_pos.mzXML\",\"LQ-01-61-39_pos.mzXML\",\"LQ-01-61-40_pos.mzXML\",\"LQ-01-61-41_pos.mzXML\",\"LQ-01-61-42_pos.mzXML\",\"LQ-01-61-43_pos.mzXML\",\"LQ-01-61-44_pos.mzXML\",\"LQ-01-61-45_pos.mzXML\",\"LQ-01-61-46_pos.mzXML\",\"LQ-01-61-47_pos.mzXML\",\"LQ-01-61-48_pos.mzXML\",\"LQ-01-61-49_pos.mzXML\",\"LQ-01-61-50_pos.mzXML\",\"LQ-01-61-51_pos.mzXML\",\"LQ-01-61-52_pos.mzXML\",\"LQ-01-61-53_pos.mzXML\",\"LQ-01-61-54_pos.mzXML\",\"LQ-01-61-55_pos.mzXML\",\"LQ-01-61-56_pos.mzXML\",\"LQ-01-61-57_pos.mzXML\",\"LQ-01-61-58_pos.mzXML\",\"LQ-01-61-59_pos.mzXML\",\"LQ-01-61-60_pos.mzXML\",\"LQ-01-61-61_pos.mzXML\",\"LQ-01-61-62_pos.mzXML\",\"LQ-01-61-63_pos.mzXML\",\"LQ-01-61-64_pos.mzXML\",\"LQ-01-61-65_pos.mzXML\",\"LQ-01-61-66_pos.mzXML\",\"LQ-01-61-67_pos.mzXML\",\"LQ-01-61-68_pos.mzXML\",\"LQ-01-61-69_pos.mzXML\",\"LQ-01-61-70_pos.mzXML\",\"LQ-01-61-71_pos.mzXML\",\"LQ-01-61-72_pos.mzXML\",\"LQ-01-61-75_pos.mzXML\"],\"legendgroup\":\"1\",\"marker\":{\"color\":\"#1F77B4\",\"symbol\":\"circle\",\"line\":{\"color\":\"DarkSlateGrey\",\"width\":1},\"size\":10},\"mode\":\"markers\",\"name\":\"1\",\"orientation\":\"v\",\"showlegend\":true,\"x\":[-0.08918355178765879,-0.25744229773297483,-0.21435646816718698,-0.005230987336226259,0.10250038364223248,-0.049670310017576505,-0.0050168479911067996,-0.016498516684313975,0.02378746867102314,0.02869089270547618,-0.024945403220246045,0.07693796295723032,-0.0693857505188175,-0.10184810091363972,-0.1825446422614421,0.06654602423133428,0.08259182673020317,0.025247659123797356,-0.00829340752025201,-0.18754308841791312,-0.12227999014692434,-0.06946097766338848,0.21181622419470722,0.14096041207590576,0.01772383640751301,0.06481572076040075,0.1233712802490425,-0.020338701889247815,0.016976274655669348,-0.012839907490866482,0.03839951163137525,0.06012031300007019,-0.060255586195807634,-0.12420843329346003,0.06874456328254946,0.09484597645323409,-0.01052226521932343,-0.09101072044252391,0.06243855455014494,0.08265815519853868,0.09473428434819542,-0.038664484317756286,-0.05035840684430088,0.03587226868580299,0.08773001484347917,0.170300726702345,0.16664629026691485,-0.08331298324761234,0.1353803546654774,-0.07115189896547354,-0.21730189296850053,-0.07011255197958509,-0.17813588880808884,-0.01379134450257949,-0.046051467189010965,-0.18435454122384226,-0.13100261753558384,-0.099072014385107,-0.17574606548785138,-0.10622282909548689,0.015015440729744345,-0.09730472166512119,-0.09938432429691398,0.12361816998472006],\"xaxis\":\"x\",\"y\":[0.09175078320306772,0.04031238127971293,0.05774975660771846,-0.06862257674118173,-0.03297526219169022,-0.08340728517017211,-0.027966507517742087,-0.0706555495276861,-0.050702553312651985,0.09868992446150912,0.012268515819546766,-0.07859795560502685,-0.016687157587653923,-0.00010188871275284172,0.019889333652861527,-0.014229764700351824,-0.10505109664885275,-0.13191425937220255,-0.0825124194771222,0.03735321803100696,0.07423159917680246,-0.03570859555294326,0.060491577316500345,-0.024525141435679337,-0.117144495985395,-0.019090005583186166,-0.09287627598688568,-0.08694841354417553,-0.02088071150367258,-0.13094078291397113,-0.10429750877457862,0.08952193079615232,-0.03335330636070258,0.018634852736587514,-0.006605753855655602,-0.059684999725601234,-0.11012940589955002,-0.04838748021750625,-0.05063151761505773,-0.04181993360178863,-0.017392200397837343,-0.05901745002862598,-0.08583731145985393,-0.037785954746057795,0.07399083555729681,0.10827983916610477,0.1157425144541338,0.038131613476871315,-0.06035575767070539,-0.09247374346220015,0.08650687837938295,-0.031502166817151234,0.009543165883456297,-0.11553369359048768,-0.0754691461484837,-0.05495619530417842,0.05272671024037432,0.14611531805493952,-0.004433649690324741,0.07719531423509972,0.16466511310855064,0.03464541556477928,-0.0835057935146747,-0.023016360296202538],\"yaxis\":\"y\",\"type\":\"scatter\"},{\"hovertemplate\":\"<b>%{hovertext}</b><br><br>anomaly_IF=-1<br>PC1 (25.5 %)=%{x}<br>PC2 (14.9 %)=%{y}<extra></extra>\",\"hovertext\":[\"LQ-01-61-02_pos.mzXML\",\"LQ-01-61-03_pos.mzXML\",\"LQ-01-61-04_pos.mzXML\",\"LQ-01-61-05_pos.mzXML\",\"LQ-01-61-06_pos.mzXML\",\"LQ-01-61-07_pos.mzXML\",\"LQ-01-61-14_pos.mzXML\",\"LQ-01-61-19_pos.mzXML\",\"LQ-01-61-37_pos.mzXML\",\"LQ-01-61-73_pos.mzXML\",\"LQ-01-61-74_pos.mzXML\",\"LQ-01-61-78_pos.mzXML\"],\"legendgroup\":\"-1\",\"marker\":{\"color\":\"#FF7F0E\",\"symbol\":\"circle\",\"line\":{\"color\":\"DarkSlateGrey\",\"width\":1},\"size\":10},\"mode\":\"markers\",\"name\":\"-1\",\"orientation\":\"v\",\"showlegend\":true,\"x\":[0.06846954955605393,0.1344873476207129,0.11819384542770661,0.05980371741364595,0.10816117510221494,0.19466715006192134,0.0655985990337102,0.17115168955406687,0.04035613439455286,0.12446326655808124,0.15649570604986648,-0.0754747840959486],\"xaxis\":\"x\",\"y\":[0.08129934184719603,0.14078347628064758,0.11228567743165624,-0.05688954414766626,0.11915704076409861,-0.06121297613072468,0.2246102235840271,-0.08189635175239697,0.1421378807217934,0.09171484855687391,0.09157318272586314,0.17572863716439632],\"yaxis\":\"y\",\"type\":\"scatter\"}],                        {\"template\":{\"data\":{\"barpolar\":[{\"marker\":{\"line\":{\"color\":\"white\",\"width\":0.5},\"pattern\":{\"fillmode\":\"overlay\",\"size\":10,\"solidity\":0.2}},\"type\":\"barpolar\"}],\"bar\":[{\"error_x\":{\"color\":\"rgb(36,36,36)\"},\"error_y\":{\"color\":\"rgb(36,36,36)\"},\"marker\":{\"line\":{\"color\":\"white\",\"width\":0.5},\"pattern\":{\"fillmode\":\"overlay\",\"size\":10,\"solidity\":0.2}},\"type\":\"bar\"}],\"carpet\":[{\"aaxis\":{\"endlinecolor\":\"rgb(36,36,36)\",\"gridcolor\":\"white\",\"linecolor\":\"white\",\"minorgridcolor\":\"white\",\"startlinecolor\":\"rgb(36,36,36)\"},\"baxis\":{\"endlinecolor\":\"rgb(36,36,36)\",\"gridcolor\":\"white\",\"linecolor\":\"white\",\"minorgridcolor\":\"white\",\"startlinecolor\":\"rgb(36,36,36)\"},\"type\":\"carpet\"}],\"choropleth\":[{\"colorbar\":{\"outlinewidth\":1,\"tickcolor\":\"rgb(36,36,36)\",\"ticks\":\"outside\"},\"type\":\"choropleth\"}],\"contourcarpet\":[{\"colorbar\":{\"outlinewidth\":1,\"tickcolor\":\"rgb(36,36,36)\",\"ticks\":\"outside\"},\"type\":\"contourcarpet\"}],\"contour\":[{\"colorbar\":{\"outlinewidth\":1,\"tickcolor\":\"rgb(36,36,36)\",\"ticks\":\"outside\"},\"colorscale\":[[0.0,\"#440154\"],[0.1111111111111111,\"#482878\"],[0.2222222222222222,\"#3e4989\"],[0.3333333333333333,\"#31688e\"],[0.4444444444444444,\"#26828e\"],[0.5555555555555556,\"#1f9e89\"],[0.6666666666666666,\"#35b779\"],[0.7777777777777778,\"#6ece58\"],[0.8888888888888888,\"#b5de2b\"],[1.0,\"#fde725\"]],\"type\":\"contour\"}],\"heatmapgl\":[{\"colorbar\":{\"outlinewidth\":1,\"tickcolor\":\"rgb(36,36,36)\",\"ticks\":\"outside\"},\"colorscale\":[[0.0,\"#440154\"],[0.1111111111111111,\"#482878\"],[0.2222222222222222,\"#3e4989\"],[0.3333333333333333,\"#31688e\"],[0.4444444444444444,\"#26828e\"],[0.5555555555555556,\"#1f9e89\"],[0.6666666666666666,\"#35b779\"],[0.7777777777777778,\"#6ece58\"],[0.8888888888888888,\"#b5de2b\"],[1.0,\"#fde725\"]],\"type\":\"heatmapgl\"}],\"heatmap\":[{\"colorbar\":{\"outlinewidth\":1,\"tickcolor\":\"rgb(36,36,36)\",\"ticks\":\"outside\"},\"colorscale\":[[0.0,\"#440154\"],[0.1111111111111111,\"#482878\"],[0.2222222222222222,\"#3e4989\"],[0.3333333333333333,\"#31688e\"],[0.4444444444444444,\"#26828e\"],[0.5555555555555556,\"#1f9e89\"],[0.6666666666666666,\"#35b779\"],[0.7777777777777778,\"#6ece58\"],[0.8888888888888888,\"#b5de2b\"],[1.0,\"#fde725\"]],\"type\":\"heatmap\"}],\"histogram2dcontour\":[{\"colorbar\":{\"outlinewidth\":1,\"tickcolor\":\"rgb(36,36,36)\",\"ticks\":\"outside\"},\"colorscale\":[[0.0,\"#440154\"],[0.1111111111111111,\"#482878\"],[0.2222222222222222,\"#3e4989\"],[0.3333333333333333,\"#31688e\"],[0.4444444444444444,\"#26828e\"],[0.5555555555555556,\"#1f9e89\"],[0.6666666666666666,\"#35b779\"],[0.7777777777777778,\"#6ece58\"],[0.8888888888888888,\"#b5de2b\"],[1.0,\"#fde725\"]],\"type\":\"histogram2dcontour\"}],\"histogram2d\":[{\"colorbar\":{\"outlinewidth\":1,\"tickcolor\":\"rgb(36,36,36)\",\"ticks\":\"outside\"},\"colorscale\":[[0.0,\"#440154\"],[0.1111111111111111,\"#482878\"],[0.2222222222222222,\"#3e4989\"],[0.3333333333333333,\"#31688e\"],[0.4444444444444444,\"#26828e\"],[0.5555555555555556,\"#1f9e89\"],[0.6666666666666666,\"#35b779\"],[0.7777777777777778,\"#6ece58\"],[0.8888888888888888,\"#b5de2b\"],[1.0,\"#fde725\"]],\"type\":\"histogram2d\"}],\"histogram\":[{\"marker\":{\"line\":{\"color\":\"white\",\"width\":0.6}},\"type\":\"histogram\"}],\"mesh3d\":[{\"colorbar\":{\"outlinewidth\":1,\"tickcolor\":\"rgb(36,36,36)\",\"ticks\":\"outside\"},\"type\":\"mesh3d\"}],\"parcoords\":[{\"line\":{\"colorbar\":{\"outlinewidth\":1,\"tickcolor\":\"rgb(36,36,36)\",\"ticks\":\"outside\"}},\"type\":\"parcoords\"}],\"pie\":[{\"automargin\":true,\"type\":\"pie\"}],\"scatter3d\":[{\"line\":{\"colorbar\":{\"outlinewidth\":1,\"tickcolor\":\"rgb(36,36,36)\",\"ticks\":\"outside\"}},\"marker\":{\"colorbar\":{\"outlinewidth\":1,\"tickcolor\":\"rgb(36,36,36)\",\"ticks\":\"outside\"}},\"type\":\"scatter3d\"}],\"scattercarpet\":[{\"marker\":{\"colorbar\":{\"outlinewidth\":1,\"tickcolor\":\"rgb(36,36,36)\",\"ticks\":\"outside\"}},\"type\":\"scattercarpet\"}],\"scattergeo\":[{\"marker\":{\"colorbar\":{\"outlinewidth\":1,\"tickcolor\":\"rgb(36,36,36)\",\"ticks\":\"outside\"}},\"type\":\"scattergeo\"}],\"scattergl\":[{\"marker\":{\"colorbar\":{\"outlinewidth\":1,\"tickcolor\":\"rgb(36,36,36)\",\"ticks\":\"outside\"}},\"type\":\"scattergl\"}],\"scattermapbox\":[{\"marker\":{\"colorbar\":{\"outlinewidth\":1,\"tickcolor\":\"rgb(36,36,36)\",\"ticks\":\"outside\"}},\"type\":\"scattermapbox\"}],\"scatterpolargl\":[{\"marker\":{\"colorbar\":{\"outlinewidth\":1,\"tickcolor\":\"rgb(36,36,36)\",\"ticks\":\"outside\"}},\"type\":\"scatterpolargl\"}],\"scatterpolar\":[{\"marker\":{\"colorbar\":{\"outlinewidth\":1,\"tickcolor\":\"rgb(36,36,36)\",\"ticks\":\"outside\"}},\"type\":\"scatterpolar\"}],\"scatter\":[{\"marker\":{\"colorbar\":{\"outlinewidth\":1,\"tickcolor\":\"rgb(36,36,36)\",\"ticks\":\"outside\"}},\"type\":\"scatter\"}],\"scatterternary\":[{\"marker\":{\"colorbar\":{\"outlinewidth\":1,\"tickcolor\":\"rgb(36,36,36)\",\"ticks\":\"outside\"}},\"type\":\"scatterternary\"}],\"surface\":[{\"colorbar\":{\"outlinewidth\":1,\"tickcolor\":\"rgb(36,36,36)\",\"ticks\":\"outside\"},\"colorscale\":[[0.0,\"#440154\"],[0.1111111111111111,\"#482878\"],[0.2222222222222222,\"#3e4989\"],[0.3333333333333333,\"#31688e\"],[0.4444444444444444,\"#26828e\"],[0.5555555555555556,\"#1f9e89\"],[0.6666666666666666,\"#35b779\"],[0.7777777777777778,\"#6ece58\"],[0.8888888888888888,\"#b5de2b\"],[1.0,\"#fde725\"]],\"type\":\"surface\"}],\"table\":[{\"cells\":{\"fill\":{\"color\":\"rgb(237,237,237)\"},\"line\":{\"color\":\"white\"}},\"header\":{\"fill\":{\"color\":\"rgb(217,217,217)\"},\"line\":{\"color\":\"white\"}},\"type\":\"table\"}]},\"layout\":{\"annotationdefaults\":{\"arrowhead\":0,\"arrowwidth\":1},\"autotypenumbers\":\"strict\",\"coloraxis\":{\"colorbar\":{\"outlinewidth\":1,\"tickcolor\":\"rgb(36,36,36)\",\"ticks\":\"outside\"}},\"colorscale\":{\"diverging\":[[0.0,\"rgb(103,0,31)\"],[0.1,\"rgb(178,24,43)\"],[0.2,\"rgb(214,96,77)\"],[0.3,\"rgb(244,165,130)\"],[0.4,\"rgb(253,219,199)\"],[0.5,\"rgb(247,247,247)\"],[0.6,\"rgb(209,229,240)\"],[0.7,\"rgb(146,197,222)\"],[0.8,\"rgb(67,147,195)\"],[0.9,\"rgb(33,102,172)\"],[1.0,\"rgb(5,48,97)\"]],\"sequential\":[[0.0,\"#440154\"],[0.1111111111111111,\"#482878\"],[0.2222222222222222,\"#3e4989\"],[0.3333333333333333,\"#31688e\"],[0.4444444444444444,\"#26828e\"],[0.5555555555555556,\"#1f9e89\"],[0.6666666666666666,\"#35b779\"],[0.7777777777777778,\"#6ece58\"],[0.8888888888888888,\"#b5de2b\"],[1.0,\"#fde725\"]],\"sequentialminus\":[[0.0,\"#440154\"],[0.1111111111111111,\"#482878\"],[0.2222222222222222,\"#3e4989\"],[0.3333333333333333,\"#31688e\"],[0.4444444444444444,\"#26828e\"],[0.5555555555555556,\"#1f9e89\"],[0.6666666666666666,\"#35b779\"],[0.7777777777777778,\"#6ece58\"],[0.8888888888888888,\"#b5de2b\"],[1.0,\"#fde725\"]]},\"colorway\":[\"#1F77B4\",\"#FF7F0E\",\"#2CA02C\",\"#D62728\",\"#9467BD\",\"#8C564B\",\"#E377C2\",\"#7F7F7F\",\"#BCBD22\",\"#17BECF\"],\"font\":{\"color\":\"rgb(36,36,36)\"},\"geo\":{\"bgcolor\":\"white\",\"lakecolor\":\"white\",\"landcolor\":\"white\",\"showlakes\":true,\"showland\":true,\"subunitcolor\":\"white\"},\"hoverlabel\":{\"align\":\"left\"},\"hovermode\":\"closest\",\"mapbox\":{\"style\":\"light\"},\"paper_bgcolor\":\"white\",\"plot_bgcolor\":\"white\",\"polar\":{\"angularaxis\":{\"gridcolor\":\"rgb(232,232,232)\",\"linecolor\":\"rgb(36,36,36)\",\"showgrid\":false,\"showline\":true,\"ticks\":\"outside\"},\"bgcolor\":\"white\",\"radialaxis\":{\"gridcolor\":\"rgb(232,232,232)\",\"linecolor\":\"rgb(36,36,36)\",\"showgrid\":false,\"showline\":true,\"ticks\":\"outside\"}},\"scene\":{\"xaxis\":{\"backgroundcolor\":\"white\",\"gridcolor\":\"rgb(232,232,232)\",\"gridwidth\":2,\"linecolor\":\"rgb(36,36,36)\",\"showbackground\":true,\"showgrid\":false,\"showline\":true,\"ticks\":\"outside\",\"zeroline\":false,\"zerolinecolor\":\"rgb(36,36,36)\"},\"yaxis\":{\"backgroundcolor\":\"white\",\"gridcolor\":\"rgb(232,232,232)\",\"gridwidth\":2,\"linecolor\":\"rgb(36,36,36)\",\"showbackground\":true,\"showgrid\":false,\"showline\":true,\"ticks\":\"outside\",\"zeroline\":false,\"zerolinecolor\":\"rgb(36,36,36)\"},\"zaxis\":{\"backgroundcolor\":\"white\",\"gridcolor\":\"rgb(232,232,232)\",\"gridwidth\":2,\"linecolor\":\"rgb(36,36,36)\",\"showbackground\":true,\"showgrid\":false,\"showline\":true,\"ticks\":\"outside\",\"zeroline\":false,\"zerolinecolor\":\"rgb(36,36,36)\"}},\"shapedefaults\":{\"fillcolor\":\"black\",\"line\":{\"width\":0},\"opacity\":0.3},\"ternary\":{\"aaxis\":{\"gridcolor\":\"rgb(232,232,232)\",\"linecolor\":\"rgb(36,36,36)\",\"showgrid\":false,\"showline\":true,\"ticks\":\"outside\"},\"baxis\":{\"gridcolor\":\"rgb(232,232,232)\",\"linecolor\":\"rgb(36,36,36)\",\"showgrid\":false,\"showline\":true,\"ticks\":\"outside\"},\"bgcolor\":\"white\",\"caxis\":{\"gridcolor\":\"rgb(232,232,232)\",\"linecolor\":\"rgb(36,36,36)\",\"showgrid\":false,\"showline\":true,\"ticks\":\"outside\"}},\"title\":{\"x\":0.05},\"xaxis\":{\"automargin\":true,\"gridcolor\":\"rgb(232,232,232)\",\"linecolor\":\"rgb(36,36,36)\",\"showgrid\":false,\"showline\":true,\"ticks\":\"outside\",\"title\":{\"standoff\":15},\"zeroline\":false,\"zerolinecolor\":\"rgb(36,36,36)\"},\"yaxis\":{\"automargin\":true,\"gridcolor\":\"rgb(232,232,232)\",\"linecolor\":\"rgb(36,36,36)\",\"showgrid\":false,\"showline\":true,\"ticks\":\"outside\",\"title\":{\"standoff\":15},\"zeroline\":false,\"zerolinecolor\":\"rgb(36,36,36)\"}}},\"xaxis\":{\"anchor\":\"y\",\"domain\":[0.0,1.0],\"title\":{\"text\":\"PC1 (25.5 %)\"}},\"yaxis\":{\"anchor\":\"x\",\"domain\":[0.0,1.0],\"title\":{\"text\":\"PC2 (14.9 %)\"}},\"legend\":{\"title\":{\"text\":\"anomaly_IF\"},\"tracegroupgap\":0},\"title\":{\"text\":\"\\\"Isolation Forest & PCoA (bray-curtis) based on the feature matrix\\\"\"}},                        {\"responsive\": true}                    ).then(function(){\n",
       "                            \n",
       "var gd = document.getElementById('55e855ca-08d3-434d-87c8-45283bcf4170');\n",
       "var x = new MutationObserver(function (mutations, observer) {{\n",
       "        var display = window.getComputedStyle(gd).display;\n",
       "        if (!display || display === 'none') {{\n",
       "            console.log([gd, 'removed!']);\n",
       "            Plotly.purge(gd);\n",
       "            observer.disconnect();\n",
       "        }}\n",
       "}});\n",
       "\n",
       "// Listen for the removal of the full notebook cells\n",
       "var notebookContainer = gd.closest('#notebook-container');\n",
       "if (notebookContainer) {{\n",
       "    x.observe(notebookContainer, {childList: true});\n",
       "}}\n",
       "\n",
       "// Listen for the clearing of the current output cell\n",
       "var outputEl = gd.closest('.output');\n",
       "if (outputEl) {{\n",
       "    x.observe(outputEl, {childList: true});\n",
       "}}\n",
       "\n",
       "                        })                };                });            </script>        </div>"
      ]
     },
     "metadata": {},
     "output_type": "display_data"
    },
    {
     "data": {
      "application/vnd.plotly.v1+json": {
       "config": {
        "plotlyServerURL": "https://plot.ly"
       },
       "data": [
        {
         "hovertemplate": "<b>%{hovertext}</b><br><br>anomaly_LOF=1<br>PC1 (25.5 %)=%{x}<br>PC2 (14.9 %)=%{y}<extra></extra>",
         "hovertext": [
          "LQ-01-61-01_pos.mzXML",
          "LQ-01-61-02_pos.mzXML",
          "LQ-01-61-03_pos.mzXML",
          "LQ-01-61-04_pos.mzXML",
          "LQ-01-61-05_pos.mzXML",
          "LQ-01-61-06_pos.mzXML",
          "LQ-01-61-08_pos.mzXML",
          "LQ-01-61-09_pos.mzXML",
          "LQ-01-61-10_pos.mzXML",
          "LQ-01-61-11_pos.mzXML",
          "LQ-01-61-12_pos.mzXML",
          "LQ-01-61-13_pos.mzXML",
          "LQ-01-61-14_pos.mzXML",
          "LQ-01-61-15_pos.mzXML",
          "LQ-01-61-16_pos.mzXML",
          "LQ-01-61-17_pos.mzXML",
          "LQ-01-61-18_pos.mzXML",
          "LQ-01-61-20_pos.mzXML",
          "LQ-01-61-21_pos.mzXML",
          "LQ-01-61-24_pos.mzXML",
          "LQ-01-61-25_pos.mzXML",
          "LQ-01-61-26_pos.mzXML",
          "LQ-01-61-27_pos.mzXML",
          "LQ-01-61-28_pos.mzXML",
          "LQ-01-61-29_pos.mzXML",
          "LQ-01-61-30_pos.mzXML",
          "LQ-01-61-31_pos.mzXML",
          "LQ-01-61-32_pos.mzXML",
          "LQ-01-61-33_pos.mzXML",
          "LQ-01-61-34_pos.mzXML",
          "LQ-01-61-35_pos.mzXML",
          "LQ-01-61-36_pos.mzXML",
          "LQ-01-61-37_pos.mzXML",
          "LQ-01-61-38_pos.mzXML",
          "LQ-01-61-39_pos.mzXML",
          "LQ-01-61-40_pos.mzXML",
          "LQ-01-61-42_pos.mzXML",
          "LQ-01-61-43_pos.mzXML",
          "LQ-01-61-44_pos.mzXML",
          "LQ-01-61-45_pos.mzXML",
          "LQ-01-61-46_pos.mzXML",
          "LQ-01-61-48_pos.mzXML",
          "LQ-01-61-49_pos.mzXML",
          "LQ-01-61-50_pos.mzXML",
          "LQ-01-61-51_pos.mzXML",
          "LQ-01-61-52_pos.mzXML",
          "LQ-01-61-53_pos.mzXML",
          "LQ-01-61-57_pos.mzXML",
          "LQ-01-61-58_pos.mzXML",
          "LQ-01-61-59_pos.mzXML",
          "LQ-01-61-61_pos.mzXML",
          "LQ-01-61-62_pos.mzXML",
          "LQ-01-61-63_pos.mzXML",
          "LQ-01-61-64_pos.mzXML",
          "LQ-01-61-65_pos.mzXML",
          "LQ-01-61-66_pos.mzXML",
          "LQ-01-61-67_pos.mzXML",
          "LQ-01-61-68_pos.mzXML",
          "LQ-01-61-69_pos.mzXML",
          "LQ-01-61-70_pos.mzXML",
          "LQ-01-61-71_pos.mzXML",
          "LQ-01-61-73_pos.mzXML",
          "LQ-01-61-74_pos.mzXML",
          "LQ-01-61-75_pos.mzXML"
         ],
         "legendgroup": "1",
         "marker": {
          "color": "#1F77B4",
          "line": {
           "color": "DarkSlateGrey",
           "width": 1
          },
          "size": 10,
          "symbol": "circle"
         },
         "mode": "markers",
         "name": "1",
         "orientation": "v",
         "showlegend": true,
         "type": "scatter",
         "x": [
          -0.08918355178765879,
          0.06846954955605393,
          0.1344873476207129,
          0.11819384542770661,
          0.05980371741364595,
          0.10816117510221494,
          -0.25744229773297483,
          -0.21435646816718698,
          -0.005230987336226259,
          0.10250038364223248,
          -0.049670310017576505,
          -0.0050168479911067996,
          0.0655985990337102,
          -0.016498516684313975,
          0.02378746867102314,
          0.02869089270547618,
          -0.024945403220246045,
          0.07693796295723032,
          -0.0693857505188175,
          0.06654602423133428,
          0.08259182673020317,
          0.025247659123797356,
          -0.00829340752025201,
          -0.18754308841791312,
          -0.12227999014692434,
          -0.06946097766338848,
          0.21181622419470722,
          0.14096041207590576,
          0.01772383640751301,
          0.06481572076040075,
          0.1233712802490425,
          -0.020338701889247815,
          0.04035613439455286,
          0.016976274655669348,
          -0.012839907490866482,
          0.03839951163137525,
          -0.060255586195807634,
          -0.12420843329346003,
          0.06874456328254946,
          0.09484597645323409,
          -0.01052226521932343,
          0.06243855455014494,
          0.08265815519853868,
          0.09473428434819542,
          -0.038664484317756286,
          -0.05035840684430088,
          0.03587226868580299,
          -0.08331298324761234,
          0.1353803546654774,
          -0.07115189896547354,
          -0.07011255197958509,
          -0.17813588880808884,
          -0.01379134450257949,
          -0.046051467189010965,
          -0.18435454122384226,
          -0.13100261753558384,
          -0.099072014385107,
          -0.17574606548785138,
          -0.10622282909548689,
          0.015015440729744345,
          -0.09730472166512119,
          0.12446326655808124,
          0.15649570604986648,
          0.12361816998472006
         ],
         "xaxis": "x",
         "y": [
          0.09175078320306772,
          0.08129934184719603,
          0.14078347628064758,
          0.11228567743165624,
          -0.05688954414766626,
          0.11915704076409861,
          0.04031238127971293,
          0.05774975660771846,
          -0.06862257674118173,
          -0.03297526219169022,
          -0.08340728517017211,
          -0.027966507517742087,
          0.2246102235840271,
          -0.0706555495276861,
          -0.050702553312651985,
          0.09868992446150912,
          0.012268515819546766,
          -0.07859795560502685,
          -0.016687157587653923,
          -0.014229764700351824,
          -0.10505109664885275,
          -0.13191425937220255,
          -0.0825124194771222,
          0.03735321803100696,
          0.07423159917680246,
          -0.03570859555294326,
          0.060491577316500345,
          -0.024525141435679337,
          -0.117144495985395,
          -0.019090005583186166,
          -0.09287627598688568,
          -0.08694841354417553,
          0.1421378807217934,
          -0.02088071150367258,
          -0.13094078291397113,
          -0.10429750877457862,
          -0.03335330636070258,
          0.018634852736587514,
          -0.006605753855655602,
          -0.059684999725601234,
          -0.11012940589955002,
          -0.05063151761505773,
          -0.04181993360178863,
          -0.017392200397837343,
          -0.05901745002862598,
          -0.08583731145985393,
          -0.037785954746057795,
          0.038131613476871315,
          -0.06035575767070539,
          -0.09247374346220015,
          -0.031502166817151234,
          0.009543165883456297,
          -0.11553369359048768,
          -0.0754691461484837,
          -0.05495619530417842,
          0.05272671024037432,
          0.14611531805493952,
          -0.004433649690324741,
          0.07719531423509972,
          0.16466511310855064,
          0.03464541556477928,
          0.09171484855687391,
          0.09157318272586314,
          -0.023016360296202538
         ],
         "yaxis": "y"
        },
        {
         "hovertemplate": "<b>%{hovertext}</b><br><br>anomaly_LOF=-1<br>PC1 (25.5 %)=%{x}<br>PC2 (14.9 %)=%{y}<extra></extra>",
         "hovertext": [
          "LQ-01-61-07_pos.mzXML",
          "LQ-01-61-19_pos.mzXML",
          "LQ-01-61-22_pos.mzXML",
          "LQ-01-61-23_pos.mzXML",
          "LQ-01-61-41_pos.mzXML",
          "LQ-01-61-47_pos.mzXML",
          "LQ-01-61-54_pos.mzXML",
          "LQ-01-61-55_pos.mzXML",
          "LQ-01-61-56_pos.mzXML",
          "LQ-01-61-60_pos.mzXML",
          "LQ-01-61-72_pos.mzXML",
          "LQ-01-61-78_pos.mzXML"
         ],
         "legendgroup": "-1",
         "marker": {
          "color": "#FF7F0E",
          "line": {
           "color": "DarkSlateGrey",
           "width": 1
          },
          "size": 10,
          "symbol": "circle"
         },
         "mode": "markers",
         "name": "-1",
         "orientation": "v",
         "showlegend": true,
         "type": "scatter",
         "x": [
          0.19466715006192134,
          0.17115168955406687,
          -0.10184810091363972,
          -0.1825446422614421,
          0.06012031300007019,
          -0.09101072044252391,
          0.08773001484347917,
          0.170300726702345,
          0.16664629026691485,
          -0.21730189296850053,
          -0.09938432429691398,
          -0.0754747840959486
         ],
         "xaxis": "x",
         "y": [
          -0.06121297613072468,
          -0.08189635175239697,
          -0.00010188871275284172,
          0.019889333652861527,
          0.08952193079615232,
          -0.04838748021750625,
          0.07399083555729681,
          0.10827983916610477,
          0.1157425144541338,
          0.08650687837938295,
          -0.0835057935146747,
          0.17572863716439632
         ],
         "yaxis": "y"
        }
       ],
       "layout": {
        "legend": {
         "title": {
          "text": "anomaly_LOF"
         },
         "tracegroupgap": 0
        },
        "template": {
         "data": {
          "bar": [
           {
            "error_x": {
             "color": "rgb(36,36,36)"
            },
            "error_y": {
             "color": "rgb(36,36,36)"
            },
            "marker": {
             "line": {
              "color": "white",
              "width": 0.5
             },
             "pattern": {
              "fillmode": "overlay",
              "size": 10,
              "solidity": 0.2
             }
            },
            "type": "bar"
           }
          ],
          "barpolar": [
           {
            "marker": {
             "line": {
              "color": "white",
              "width": 0.5
             },
             "pattern": {
              "fillmode": "overlay",
              "size": 10,
              "solidity": 0.2
             }
            },
            "type": "barpolar"
           }
          ],
          "carpet": [
           {
            "aaxis": {
             "endlinecolor": "rgb(36,36,36)",
             "gridcolor": "white",
             "linecolor": "white",
             "minorgridcolor": "white",
             "startlinecolor": "rgb(36,36,36)"
            },
            "baxis": {
             "endlinecolor": "rgb(36,36,36)",
             "gridcolor": "white",
             "linecolor": "white",
             "minorgridcolor": "white",
             "startlinecolor": "rgb(36,36,36)"
            },
            "type": "carpet"
           }
          ],
          "choropleth": [
           {
            "colorbar": {
             "outlinewidth": 1,
             "tickcolor": "rgb(36,36,36)",
             "ticks": "outside"
            },
            "type": "choropleth"
           }
          ],
          "contour": [
           {
            "colorbar": {
             "outlinewidth": 1,
             "tickcolor": "rgb(36,36,36)",
             "ticks": "outside"
            },
            "colorscale": [
             [
              0,
              "#440154"
             ],
             [
              0.1111111111111111,
              "#482878"
             ],
             [
              0.2222222222222222,
              "#3e4989"
             ],
             [
              0.3333333333333333,
              "#31688e"
             ],
             [
              0.4444444444444444,
              "#26828e"
             ],
             [
              0.5555555555555556,
              "#1f9e89"
             ],
             [
              0.6666666666666666,
              "#35b779"
             ],
             [
              0.7777777777777778,
              "#6ece58"
             ],
             [
              0.8888888888888888,
              "#b5de2b"
             ],
             [
              1,
              "#fde725"
             ]
            ],
            "type": "contour"
           }
          ],
          "contourcarpet": [
           {
            "colorbar": {
             "outlinewidth": 1,
             "tickcolor": "rgb(36,36,36)",
             "ticks": "outside"
            },
            "type": "contourcarpet"
           }
          ],
          "heatmap": [
           {
            "colorbar": {
             "outlinewidth": 1,
             "tickcolor": "rgb(36,36,36)",
             "ticks": "outside"
            },
            "colorscale": [
             [
              0,
              "#440154"
             ],
             [
              0.1111111111111111,
              "#482878"
             ],
             [
              0.2222222222222222,
              "#3e4989"
             ],
             [
              0.3333333333333333,
              "#31688e"
             ],
             [
              0.4444444444444444,
              "#26828e"
             ],
             [
              0.5555555555555556,
              "#1f9e89"
             ],
             [
              0.6666666666666666,
              "#35b779"
             ],
             [
              0.7777777777777778,
              "#6ece58"
             ],
             [
              0.8888888888888888,
              "#b5de2b"
             ],
             [
              1,
              "#fde725"
             ]
            ],
            "type": "heatmap"
           }
          ],
          "heatmapgl": [
           {
            "colorbar": {
             "outlinewidth": 1,
             "tickcolor": "rgb(36,36,36)",
             "ticks": "outside"
            },
            "colorscale": [
             [
              0,
              "#440154"
             ],
             [
              0.1111111111111111,
              "#482878"
             ],
             [
              0.2222222222222222,
              "#3e4989"
             ],
             [
              0.3333333333333333,
              "#31688e"
             ],
             [
              0.4444444444444444,
              "#26828e"
             ],
             [
              0.5555555555555556,
              "#1f9e89"
             ],
             [
              0.6666666666666666,
              "#35b779"
             ],
             [
              0.7777777777777778,
              "#6ece58"
             ],
             [
              0.8888888888888888,
              "#b5de2b"
             ],
             [
              1,
              "#fde725"
             ]
            ],
            "type": "heatmapgl"
           }
          ],
          "histogram": [
           {
            "marker": {
             "line": {
              "color": "white",
              "width": 0.6
             }
            },
            "type": "histogram"
           }
          ],
          "histogram2d": [
           {
            "colorbar": {
             "outlinewidth": 1,
             "tickcolor": "rgb(36,36,36)",
             "ticks": "outside"
            },
            "colorscale": [
             [
              0,
              "#440154"
             ],
             [
              0.1111111111111111,
              "#482878"
             ],
             [
              0.2222222222222222,
              "#3e4989"
             ],
             [
              0.3333333333333333,
              "#31688e"
             ],
             [
              0.4444444444444444,
              "#26828e"
             ],
             [
              0.5555555555555556,
              "#1f9e89"
             ],
             [
              0.6666666666666666,
              "#35b779"
             ],
             [
              0.7777777777777778,
              "#6ece58"
             ],
             [
              0.8888888888888888,
              "#b5de2b"
             ],
             [
              1,
              "#fde725"
             ]
            ],
            "type": "histogram2d"
           }
          ],
          "histogram2dcontour": [
           {
            "colorbar": {
             "outlinewidth": 1,
             "tickcolor": "rgb(36,36,36)",
             "ticks": "outside"
            },
            "colorscale": [
             [
              0,
              "#440154"
             ],
             [
              0.1111111111111111,
              "#482878"
             ],
             [
              0.2222222222222222,
              "#3e4989"
             ],
             [
              0.3333333333333333,
              "#31688e"
             ],
             [
              0.4444444444444444,
              "#26828e"
             ],
             [
              0.5555555555555556,
              "#1f9e89"
             ],
             [
              0.6666666666666666,
              "#35b779"
             ],
             [
              0.7777777777777778,
              "#6ece58"
             ],
             [
              0.8888888888888888,
              "#b5de2b"
             ],
             [
              1,
              "#fde725"
             ]
            ],
            "type": "histogram2dcontour"
           }
          ],
          "mesh3d": [
           {
            "colorbar": {
             "outlinewidth": 1,
             "tickcolor": "rgb(36,36,36)",
             "ticks": "outside"
            },
            "type": "mesh3d"
           }
          ],
          "parcoords": [
           {
            "line": {
             "colorbar": {
              "outlinewidth": 1,
              "tickcolor": "rgb(36,36,36)",
              "ticks": "outside"
             }
            },
            "type": "parcoords"
           }
          ],
          "pie": [
           {
            "automargin": true,
            "type": "pie"
           }
          ],
          "scatter": [
           {
            "marker": {
             "colorbar": {
              "outlinewidth": 1,
              "tickcolor": "rgb(36,36,36)",
              "ticks": "outside"
             }
            },
            "type": "scatter"
           }
          ],
          "scatter3d": [
           {
            "line": {
             "colorbar": {
              "outlinewidth": 1,
              "tickcolor": "rgb(36,36,36)",
              "ticks": "outside"
             }
            },
            "marker": {
             "colorbar": {
              "outlinewidth": 1,
              "tickcolor": "rgb(36,36,36)",
              "ticks": "outside"
             }
            },
            "type": "scatter3d"
           }
          ],
          "scattercarpet": [
           {
            "marker": {
             "colorbar": {
              "outlinewidth": 1,
              "tickcolor": "rgb(36,36,36)",
              "ticks": "outside"
             }
            },
            "type": "scattercarpet"
           }
          ],
          "scattergeo": [
           {
            "marker": {
             "colorbar": {
              "outlinewidth": 1,
              "tickcolor": "rgb(36,36,36)",
              "ticks": "outside"
             }
            },
            "type": "scattergeo"
           }
          ],
          "scattergl": [
           {
            "marker": {
             "colorbar": {
              "outlinewidth": 1,
              "tickcolor": "rgb(36,36,36)",
              "ticks": "outside"
             }
            },
            "type": "scattergl"
           }
          ],
          "scattermapbox": [
           {
            "marker": {
             "colorbar": {
              "outlinewidth": 1,
              "tickcolor": "rgb(36,36,36)",
              "ticks": "outside"
             }
            },
            "type": "scattermapbox"
           }
          ],
          "scatterpolar": [
           {
            "marker": {
             "colorbar": {
              "outlinewidth": 1,
              "tickcolor": "rgb(36,36,36)",
              "ticks": "outside"
             }
            },
            "type": "scatterpolar"
           }
          ],
          "scatterpolargl": [
           {
            "marker": {
             "colorbar": {
              "outlinewidth": 1,
              "tickcolor": "rgb(36,36,36)",
              "ticks": "outside"
             }
            },
            "type": "scatterpolargl"
           }
          ],
          "scatterternary": [
           {
            "marker": {
             "colorbar": {
              "outlinewidth": 1,
              "tickcolor": "rgb(36,36,36)",
              "ticks": "outside"
             }
            },
            "type": "scatterternary"
           }
          ],
          "surface": [
           {
            "colorbar": {
             "outlinewidth": 1,
             "tickcolor": "rgb(36,36,36)",
             "ticks": "outside"
            },
            "colorscale": [
             [
              0,
              "#440154"
             ],
             [
              0.1111111111111111,
              "#482878"
             ],
             [
              0.2222222222222222,
              "#3e4989"
             ],
             [
              0.3333333333333333,
              "#31688e"
             ],
             [
              0.4444444444444444,
              "#26828e"
             ],
             [
              0.5555555555555556,
              "#1f9e89"
             ],
             [
              0.6666666666666666,
              "#35b779"
             ],
             [
              0.7777777777777778,
              "#6ece58"
             ],
             [
              0.8888888888888888,
              "#b5de2b"
             ],
             [
              1,
              "#fde725"
             ]
            ],
            "type": "surface"
           }
          ],
          "table": [
           {
            "cells": {
             "fill": {
              "color": "rgb(237,237,237)"
             },
             "line": {
              "color": "white"
             }
            },
            "header": {
             "fill": {
              "color": "rgb(217,217,217)"
             },
             "line": {
              "color": "white"
             }
            },
            "type": "table"
           }
          ]
         },
         "layout": {
          "annotationdefaults": {
           "arrowhead": 0,
           "arrowwidth": 1
          },
          "autotypenumbers": "strict",
          "coloraxis": {
           "colorbar": {
            "outlinewidth": 1,
            "tickcolor": "rgb(36,36,36)",
            "ticks": "outside"
           }
          },
          "colorscale": {
           "diverging": [
            [
             0,
             "rgb(103,0,31)"
            ],
            [
             0.1,
             "rgb(178,24,43)"
            ],
            [
             0.2,
             "rgb(214,96,77)"
            ],
            [
             0.3,
             "rgb(244,165,130)"
            ],
            [
             0.4,
             "rgb(253,219,199)"
            ],
            [
             0.5,
             "rgb(247,247,247)"
            ],
            [
             0.6,
             "rgb(209,229,240)"
            ],
            [
             0.7,
             "rgb(146,197,222)"
            ],
            [
             0.8,
             "rgb(67,147,195)"
            ],
            [
             0.9,
             "rgb(33,102,172)"
            ],
            [
             1,
             "rgb(5,48,97)"
            ]
           ],
           "sequential": [
            [
             0,
             "#440154"
            ],
            [
             0.1111111111111111,
             "#482878"
            ],
            [
             0.2222222222222222,
             "#3e4989"
            ],
            [
             0.3333333333333333,
             "#31688e"
            ],
            [
             0.4444444444444444,
             "#26828e"
            ],
            [
             0.5555555555555556,
             "#1f9e89"
            ],
            [
             0.6666666666666666,
             "#35b779"
            ],
            [
             0.7777777777777778,
             "#6ece58"
            ],
            [
             0.8888888888888888,
             "#b5de2b"
            ],
            [
             1,
             "#fde725"
            ]
           ],
           "sequentialminus": [
            [
             0,
             "#440154"
            ],
            [
             0.1111111111111111,
             "#482878"
            ],
            [
             0.2222222222222222,
             "#3e4989"
            ],
            [
             0.3333333333333333,
             "#31688e"
            ],
            [
             0.4444444444444444,
             "#26828e"
            ],
            [
             0.5555555555555556,
             "#1f9e89"
            ],
            [
             0.6666666666666666,
             "#35b779"
            ],
            [
             0.7777777777777778,
             "#6ece58"
            ],
            [
             0.8888888888888888,
             "#b5de2b"
            ],
            [
             1,
             "#fde725"
            ]
           ]
          },
          "colorway": [
           "#1F77B4",
           "#FF7F0E",
           "#2CA02C",
           "#D62728",
           "#9467BD",
           "#8C564B",
           "#E377C2",
           "#7F7F7F",
           "#BCBD22",
           "#17BECF"
          ],
          "font": {
           "color": "rgb(36,36,36)"
          },
          "geo": {
           "bgcolor": "white",
           "lakecolor": "white",
           "landcolor": "white",
           "showlakes": true,
           "showland": true,
           "subunitcolor": "white"
          },
          "hoverlabel": {
           "align": "left"
          },
          "hovermode": "closest",
          "mapbox": {
           "style": "light"
          },
          "paper_bgcolor": "white",
          "plot_bgcolor": "white",
          "polar": {
           "angularaxis": {
            "gridcolor": "rgb(232,232,232)",
            "linecolor": "rgb(36,36,36)",
            "showgrid": false,
            "showline": true,
            "ticks": "outside"
           },
           "bgcolor": "white",
           "radialaxis": {
            "gridcolor": "rgb(232,232,232)",
            "linecolor": "rgb(36,36,36)",
            "showgrid": false,
            "showline": true,
            "ticks": "outside"
           }
          },
          "scene": {
           "xaxis": {
            "backgroundcolor": "white",
            "gridcolor": "rgb(232,232,232)",
            "gridwidth": 2,
            "linecolor": "rgb(36,36,36)",
            "showbackground": true,
            "showgrid": false,
            "showline": true,
            "ticks": "outside",
            "zeroline": false,
            "zerolinecolor": "rgb(36,36,36)"
           },
           "yaxis": {
            "backgroundcolor": "white",
            "gridcolor": "rgb(232,232,232)",
            "gridwidth": 2,
            "linecolor": "rgb(36,36,36)",
            "showbackground": true,
            "showgrid": false,
            "showline": true,
            "ticks": "outside",
            "zeroline": false,
            "zerolinecolor": "rgb(36,36,36)"
           },
           "zaxis": {
            "backgroundcolor": "white",
            "gridcolor": "rgb(232,232,232)",
            "gridwidth": 2,
            "linecolor": "rgb(36,36,36)",
            "showbackground": true,
            "showgrid": false,
            "showline": true,
            "ticks": "outside",
            "zeroline": false,
            "zerolinecolor": "rgb(36,36,36)"
           }
          },
          "shapedefaults": {
           "fillcolor": "black",
           "line": {
            "width": 0
           },
           "opacity": 0.3
          },
          "ternary": {
           "aaxis": {
            "gridcolor": "rgb(232,232,232)",
            "linecolor": "rgb(36,36,36)",
            "showgrid": false,
            "showline": true,
            "ticks": "outside"
           },
           "baxis": {
            "gridcolor": "rgb(232,232,232)",
            "linecolor": "rgb(36,36,36)",
            "showgrid": false,
            "showline": true,
            "ticks": "outside"
           },
           "bgcolor": "white",
           "caxis": {
            "gridcolor": "rgb(232,232,232)",
            "linecolor": "rgb(36,36,36)",
            "showgrid": false,
            "showline": true,
            "ticks": "outside"
           }
          },
          "title": {
           "x": 0.05
          },
          "xaxis": {
           "automargin": true,
           "gridcolor": "rgb(232,232,232)",
           "linecolor": "rgb(36,36,36)",
           "showgrid": false,
           "showline": true,
           "ticks": "outside",
           "title": {
            "standoff": 15
           },
           "zeroline": false,
           "zerolinecolor": "rgb(36,36,36)"
          },
          "yaxis": {
           "automargin": true,
           "gridcolor": "rgb(232,232,232)",
           "linecolor": "rgb(36,36,36)",
           "showgrid": false,
           "showline": true,
           "ticks": "outside",
           "title": {
            "standoff": 15
           },
           "zeroline": false,
           "zerolinecolor": "rgb(36,36,36)"
          }
         }
        },
        "title": {
         "text": "\"Local outlier factor & PCoA (bray-curtis) based on the feature matrix\""
        },
        "xaxis": {
         "anchor": "y",
         "domain": [
          0,
          1
         ],
         "title": {
          "text": "PC1 (25.5 %)"
         }
        },
        "yaxis": {
         "anchor": "x",
         "domain": [
          0,
          1
         ],
         "title": {
          "text": "PC2 (14.9 %)"
         }
        }
       }
      },
      "text/html": [
       "<div>                            <div id=\"e2ffdb75-833c-4a25-ac2e-e3289ed73513\" class=\"plotly-graph-div\" style=\"height:525px; width:100%;\"></div>            <script type=\"text/javascript\">                require([\"plotly\"], function(Plotly) {                    window.PLOTLYENV=window.PLOTLYENV || {};                                    if (document.getElementById(\"e2ffdb75-833c-4a25-ac2e-e3289ed73513\")) {                    Plotly.newPlot(                        \"e2ffdb75-833c-4a25-ac2e-e3289ed73513\",                        [{\"hovertemplate\":\"<b>%{hovertext}</b><br><br>anomaly_LOF=1<br>PC1 (25.5 %)=%{x}<br>PC2 (14.9 %)=%{y}<extra></extra>\",\"hovertext\":[\"LQ-01-61-01_pos.mzXML\",\"LQ-01-61-02_pos.mzXML\",\"LQ-01-61-03_pos.mzXML\",\"LQ-01-61-04_pos.mzXML\",\"LQ-01-61-05_pos.mzXML\",\"LQ-01-61-06_pos.mzXML\",\"LQ-01-61-08_pos.mzXML\",\"LQ-01-61-09_pos.mzXML\",\"LQ-01-61-10_pos.mzXML\",\"LQ-01-61-11_pos.mzXML\",\"LQ-01-61-12_pos.mzXML\",\"LQ-01-61-13_pos.mzXML\",\"LQ-01-61-14_pos.mzXML\",\"LQ-01-61-15_pos.mzXML\",\"LQ-01-61-16_pos.mzXML\",\"LQ-01-61-17_pos.mzXML\",\"LQ-01-61-18_pos.mzXML\",\"LQ-01-61-20_pos.mzXML\",\"LQ-01-61-21_pos.mzXML\",\"LQ-01-61-24_pos.mzXML\",\"LQ-01-61-25_pos.mzXML\",\"LQ-01-61-26_pos.mzXML\",\"LQ-01-61-27_pos.mzXML\",\"LQ-01-61-28_pos.mzXML\",\"LQ-01-61-29_pos.mzXML\",\"LQ-01-61-30_pos.mzXML\",\"LQ-01-61-31_pos.mzXML\",\"LQ-01-61-32_pos.mzXML\",\"LQ-01-61-33_pos.mzXML\",\"LQ-01-61-34_pos.mzXML\",\"LQ-01-61-35_pos.mzXML\",\"LQ-01-61-36_pos.mzXML\",\"LQ-01-61-37_pos.mzXML\",\"LQ-01-61-38_pos.mzXML\",\"LQ-01-61-39_pos.mzXML\",\"LQ-01-61-40_pos.mzXML\",\"LQ-01-61-42_pos.mzXML\",\"LQ-01-61-43_pos.mzXML\",\"LQ-01-61-44_pos.mzXML\",\"LQ-01-61-45_pos.mzXML\",\"LQ-01-61-46_pos.mzXML\",\"LQ-01-61-48_pos.mzXML\",\"LQ-01-61-49_pos.mzXML\",\"LQ-01-61-50_pos.mzXML\",\"LQ-01-61-51_pos.mzXML\",\"LQ-01-61-52_pos.mzXML\",\"LQ-01-61-53_pos.mzXML\",\"LQ-01-61-57_pos.mzXML\",\"LQ-01-61-58_pos.mzXML\",\"LQ-01-61-59_pos.mzXML\",\"LQ-01-61-61_pos.mzXML\",\"LQ-01-61-62_pos.mzXML\",\"LQ-01-61-63_pos.mzXML\",\"LQ-01-61-64_pos.mzXML\",\"LQ-01-61-65_pos.mzXML\",\"LQ-01-61-66_pos.mzXML\",\"LQ-01-61-67_pos.mzXML\",\"LQ-01-61-68_pos.mzXML\",\"LQ-01-61-69_pos.mzXML\",\"LQ-01-61-70_pos.mzXML\",\"LQ-01-61-71_pos.mzXML\",\"LQ-01-61-73_pos.mzXML\",\"LQ-01-61-74_pos.mzXML\",\"LQ-01-61-75_pos.mzXML\"],\"legendgroup\":\"1\",\"marker\":{\"color\":\"#1F77B4\",\"symbol\":\"circle\",\"line\":{\"color\":\"DarkSlateGrey\",\"width\":1},\"size\":10},\"mode\":\"markers\",\"name\":\"1\",\"orientation\":\"v\",\"showlegend\":true,\"x\":[-0.08918355178765879,0.06846954955605393,0.1344873476207129,0.11819384542770661,0.05980371741364595,0.10816117510221494,-0.25744229773297483,-0.21435646816718698,-0.005230987336226259,0.10250038364223248,-0.049670310017576505,-0.0050168479911067996,0.0655985990337102,-0.016498516684313975,0.02378746867102314,0.02869089270547618,-0.024945403220246045,0.07693796295723032,-0.0693857505188175,0.06654602423133428,0.08259182673020317,0.025247659123797356,-0.00829340752025201,-0.18754308841791312,-0.12227999014692434,-0.06946097766338848,0.21181622419470722,0.14096041207590576,0.01772383640751301,0.06481572076040075,0.1233712802490425,-0.020338701889247815,0.04035613439455286,0.016976274655669348,-0.012839907490866482,0.03839951163137525,-0.060255586195807634,-0.12420843329346003,0.06874456328254946,0.09484597645323409,-0.01052226521932343,0.06243855455014494,0.08265815519853868,0.09473428434819542,-0.038664484317756286,-0.05035840684430088,0.03587226868580299,-0.08331298324761234,0.1353803546654774,-0.07115189896547354,-0.07011255197958509,-0.17813588880808884,-0.01379134450257949,-0.046051467189010965,-0.18435454122384226,-0.13100261753558384,-0.099072014385107,-0.17574606548785138,-0.10622282909548689,0.015015440729744345,-0.09730472166512119,0.12446326655808124,0.15649570604986648,0.12361816998472006],\"xaxis\":\"x\",\"y\":[0.09175078320306772,0.08129934184719603,0.14078347628064758,0.11228567743165624,-0.05688954414766626,0.11915704076409861,0.04031238127971293,0.05774975660771846,-0.06862257674118173,-0.03297526219169022,-0.08340728517017211,-0.027966507517742087,0.2246102235840271,-0.0706555495276861,-0.050702553312651985,0.09868992446150912,0.012268515819546766,-0.07859795560502685,-0.016687157587653923,-0.014229764700351824,-0.10505109664885275,-0.13191425937220255,-0.0825124194771222,0.03735321803100696,0.07423159917680246,-0.03570859555294326,0.060491577316500345,-0.024525141435679337,-0.117144495985395,-0.019090005583186166,-0.09287627598688568,-0.08694841354417553,0.1421378807217934,-0.02088071150367258,-0.13094078291397113,-0.10429750877457862,-0.03335330636070258,0.018634852736587514,-0.006605753855655602,-0.059684999725601234,-0.11012940589955002,-0.05063151761505773,-0.04181993360178863,-0.017392200397837343,-0.05901745002862598,-0.08583731145985393,-0.037785954746057795,0.038131613476871315,-0.06035575767070539,-0.09247374346220015,-0.031502166817151234,0.009543165883456297,-0.11553369359048768,-0.0754691461484837,-0.05495619530417842,0.05272671024037432,0.14611531805493952,-0.004433649690324741,0.07719531423509972,0.16466511310855064,0.03464541556477928,0.09171484855687391,0.09157318272586314,-0.023016360296202538],\"yaxis\":\"y\",\"type\":\"scatter\"},{\"hovertemplate\":\"<b>%{hovertext}</b><br><br>anomaly_LOF=-1<br>PC1 (25.5 %)=%{x}<br>PC2 (14.9 %)=%{y}<extra></extra>\",\"hovertext\":[\"LQ-01-61-07_pos.mzXML\",\"LQ-01-61-19_pos.mzXML\",\"LQ-01-61-22_pos.mzXML\",\"LQ-01-61-23_pos.mzXML\",\"LQ-01-61-41_pos.mzXML\",\"LQ-01-61-47_pos.mzXML\",\"LQ-01-61-54_pos.mzXML\",\"LQ-01-61-55_pos.mzXML\",\"LQ-01-61-56_pos.mzXML\",\"LQ-01-61-60_pos.mzXML\",\"LQ-01-61-72_pos.mzXML\",\"LQ-01-61-78_pos.mzXML\"],\"legendgroup\":\"-1\",\"marker\":{\"color\":\"#FF7F0E\",\"symbol\":\"circle\",\"line\":{\"color\":\"DarkSlateGrey\",\"width\":1},\"size\":10},\"mode\":\"markers\",\"name\":\"-1\",\"orientation\":\"v\",\"showlegend\":true,\"x\":[0.19466715006192134,0.17115168955406687,-0.10184810091363972,-0.1825446422614421,0.06012031300007019,-0.09101072044252391,0.08773001484347917,0.170300726702345,0.16664629026691485,-0.21730189296850053,-0.09938432429691398,-0.0754747840959486],\"xaxis\":\"x\",\"y\":[-0.06121297613072468,-0.08189635175239697,-0.00010188871275284172,0.019889333652861527,0.08952193079615232,-0.04838748021750625,0.07399083555729681,0.10827983916610477,0.1157425144541338,0.08650687837938295,-0.0835057935146747,0.17572863716439632],\"yaxis\":\"y\",\"type\":\"scatter\"}],                        {\"template\":{\"data\":{\"barpolar\":[{\"marker\":{\"line\":{\"color\":\"white\",\"width\":0.5},\"pattern\":{\"fillmode\":\"overlay\",\"size\":10,\"solidity\":0.2}},\"type\":\"barpolar\"}],\"bar\":[{\"error_x\":{\"color\":\"rgb(36,36,36)\"},\"error_y\":{\"color\":\"rgb(36,36,36)\"},\"marker\":{\"line\":{\"color\":\"white\",\"width\":0.5},\"pattern\":{\"fillmode\":\"overlay\",\"size\":10,\"solidity\":0.2}},\"type\":\"bar\"}],\"carpet\":[{\"aaxis\":{\"endlinecolor\":\"rgb(36,36,36)\",\"gridcolor\":\"white\",\"linecolor\":\"white\",\"minorgridcolor\":\"white\",\"startlinecolor\":\"rgb(36,36,36)\"},\"baxis\":{\"endlinecolor\":\"rgb(36,36,36)\",\"gridcolor\":\"white\",\"linecolor\":\"white\",\"minorgridcolor\":\"white\",\"startlinecolor\":\"rgb(36,36,36)\"},\"type\":\"carpet\"}],\"choropleth\":[{\"colorbar\":{\"outlinewidth\":1,\"tickcolor\":\"rgb(36,36,36)\",\"ticks\":\"outside\"},\"type\":\"choropleth\"}],\"contourcarpet\":[{\"colorbar\":{\"outlinewidth\":1,\"tickcolor\":\"rgb(36,36,36)\",\"ticks\":\"outside\"},\"type\":\"contourcarpet\"}],\"contour\":[{\"colorbar\":{\"outlinewidth\":1,\"tickcolor\":\"rgb(36,36,36)\",\"ticks\":\"outside\"},\"colorscale\":[[0.0,\"#440154\"],[0.1111111111111111,\"#482878\"],[0.2222222222222222,\"#3e4989\"],[0.3333333333333333,\"#31688e\"],[0.4444444444444444,\"#26828e\"],[0.5555555555555556,\"#1f9e89\"],[0.6666666666666666,\"#35b779\"],[0.7777777777777778,\"#6ece58\"],[0.8888888888888888,\"#b5de2b\"],[1.0,\"#fde725\"]],\"type\":\"contour\"}],\"heatmapgl\":[{\"colorbar\":{\"outlinewidth\":1,\"tickcolor\":\"rgb(36,36,36)\",\"ticks\":\"outside\"},\"colorscale\":[[0.0,\"#440154\"],[0.1111111111111111,\"#482878\"],[0.2222222222222222,\"#3e4989\"],[0.3333333333333333,\"#31688e\"],[0.4444444444444444,\"#26828e\"],[0.5555555555555556,\"#1f9e89\"],[0.6666666666666666,\"#35b779\"],[0.7777777777777778,\"#6ece58\"],[0.8888888888888888,\"#b5de2b\"],[1.0,\"#fde725\"]],\"type\":\"heatmapgl\"}],\"heatmap\":[{\"colorbar\":{\"outlinewidth\":1,\"tickcolor\":\"rgb(36,36,36)\",\"ticks\":\"outside\"},\"colorscale\":[[0.0,\"#440154\"],[0.1111111111111111,\"#482878\"],[0.2222222222222222,\"#3e4989\"],[0.3333333333333333,\"#31688e\"],[0.4444444444444444,\"#26828e\"],[0.5555555555555556,\"#1f9e89\"],[0.6666666666666666,\"#35b779\"],[0.7777777777777778,\"#6ece58\"],[0.8888888888888888,\"#b5de2b\"],[1.0,\"#fde725\"]],\"type\":\"heatmap\"}],\"histogram2dcontour\":[{\"colorbar\":{\"outlinewidth\":1,\"tickcolor\":\"rgb(36,36,36)\",\"ticks\":\"outside\"},\"colorscale\":[[0.0,\"#440154\"],[0.1111111111111111,\"#482878\"],[0.2222222222222222,\"#3e4989\"],[0.3333333333333333,\"#31688e\"],[0.4444444444444444,\"#26828e\"],[0.5555555555555556,\"#1f9e89\"],[0.6666666666666666,\"#35b779\"],[0.7777777777777778,\"#6ece58\"],[0.8888888888888888,\"#b5de2b\"],[1.0,\"#fde725\"]],\"type\":\"histogram2dcontour\"}],\"histogram2d\":[{\"colorbar\":{\"outlinewidth\":1,\"tickcolor\":\"rgb(36,36,36)\",\"ticks\":\"outside\"},\"colorscale\":[[0.0,\"#440154\"],[0.1111111111111111,\"#482878\"],[0.2222222222222222,\"#3e4989\"],[0.3333333333333333,\"#31688e\"],[0.4444444444444444,\"#26828e\"],[0.5555555555555556,\"#1f9e89\"],[0.6666666666666666,\"#35b779\"],[0.7777777777777778,\"#6ece58\"],[0.8888888888888888,\"#b5de2b\"],[1.0,\"#fde725\"]],\"type\":\"histogram2d\"}],\"histogram\":[{\"marker\":{\"line\":{\"color\":\"white\",\"width\":0.6}},\"type\":\"histogram\"}],\"mesh3d\":[{\"colorbar\":{\"outlinewidth\":1,\"tickcolor\":\"rgb(36,36,36)\",\"ticks\":\"outside\"},\"type\":\"mesh3d\"}],\"parcoords\":[{\"line\":{\"colorbar\":{\"outlinewidth\":1,\"tickcolor\":\"rgb(36,36,36)\",\"ticks\":\"outside\"}},\"type\":\"parcoords\"}],\"pie\":[{\"automargin\":true,\"type\":\"pie\"}],\"scatter3d\":[{\"line\":{\"colorbar\":{\"outlinewidth\":1,\"tickcolor\":\"rgb(36,36,36)\",\"ticks\":\"outside\"}},\"marker\":{\"colorbar\":{\"outlinewidth\":1,\"tickcolor\":\"rgb(36,36,36)\",\"ticks\":\"outside\"}},\"type\":\"scatter3d\"}],\"scattercarpet\":[{\"marker\":{\"colorbar\":{\"outlinewidth\":1,\"tickcolor\":\"rgb(36,36,36)\",\"ticks\":\"outside\"}},\"type\":\"scattercarpet\"}],\"scattergeo\":[{\"marker\":{\"colorbar\":{\"outlinewidth\":1,\"tickcolor\":\"rgb(36,36,36)\",\"ticks\":\"outside\"}},\"type\":\"scattergeo\"}],\"scattergl\":[{\"marker\":{\"colorbar\":{\"outlinewidth\":1,\"tickcolor\":\"rgb(36,36,36)\",\"ticks\":\"outside\"}},\"type\":\"scattergl\"}],\"scattermapbox\":[{\"marker\":{\"colorbar\":{\"outlinewidth\":1,\"tickcolor\":\"rgb(36,36,36)\",\"ticks\":\"outside\"}},\"type\":\"scattermapbox\"}],\"scatterpolargl\":[{\"marker\":{\"colorbar\":{\"outlinewidth\":1,\"tickcolor\":\"rgb(36,36,36)\",\"ticks\":\"outside\"}},\"type\":\"scatterpolargl\"}],\"scatterpolar\":[{\"marker\":{\"colorbar\":{\"outlinewidth\":1,\"tickcolor\":\"rgb(36,36,36)\",\"ticks\":\"outside\"}},\"type\":\"scatterpolar\"}],\"scatter\":[{\"marker\":{\"colorbar\":{\"outlinewidth\":1,\"tickcolor\":\"rgb(36,36,36)\",\"ticks\":\"outside\"}},\"type\":\"scatter\"}],\"scatterternary\":[{\"marker\":{\"colorbar\":{\"outlinewidth\":1,\"tickcolor\":\"rgb(36,36,36)\",\"ticks\":\"outside\"}},\"type\":\"scatterternary\"}],\"surface\":[{\"colorbar\":{\"outlinewidth\":1,\"tickcolor\":\"rgb(36,36,36)\",\"ticks\":\"outside\"},\"colorscale\":[[0.0,\"#440154\"],[0.1111111111111111,\"#482878\"],[0.2222222222222222,\"#3e4989\"],[0.3333333333333333,\"#31688e\"],[0.4444444444444444,\"#26828e\"],[0.5555555555555556,\"#1f9e89\"],[0.6666666666666666,\"#35b779\"],[0.7777777777777778,\"#6ece58\"],[0.8888888888888888,\"#b5de2b\"],[1.0,\"#fde725\"]],\"type\":\"surface\"}],\"table\":[{\"cells\":{\"fill\":{\"color\":\"rgb(237,237,237)\"},\"line\":{\"color\":\"white\"}},\"header\":{\"fill\":{\"color\":\"rgb(217,217,217)\"},\"line\":{\"color\":\"white\"}},\"type\":\"table\"}]},\"layout\":{\"annotationdefaults\":{\"arrowhead\":0,\"arrowwidth\":1},\"autotypenumbers\":\"strict\",\"coloraxis\":{\"colorbar\":{\"outlinewidth\":1,\"tickcolor\":\"rgb(36,36,36)\",\"ticks\":\"outside\"}},\"colorscale\":{\"diverging\":[[0.0,\"rgb(103,0,31)\"],[0.1,\"rgb(178,24,43)\"],[0.2,\"rgb(214,96,77)\"],[0.3,\"rgb(244,165,130)\"],[0.4,\"rgb(253,219,199)\"],[0.5,\"rgb(247,247,247)\"],[0.6,\"rgb(209,229,240)\"],[0.7,\"rgb(146,197,222)\"],[0.8,\"rgb(67,147,195)\"],[0.9,\"rgb(33,102,172)\"],[1.0,\"rgb(5,48,97)\"]],\"sequential\":[[0.0,\"#440154\"],[0.1111111111111111,\"#482878\"],[0.2222222222222222,\"#3e4989\"],[0.3333333333333333,\"#31688e\"],[0.4444444444444444,\"#26828e\"],[0.5555555555555556,\"#1f9e89\"],[0.6666666666666666,\"#35b779\"],[0.7777777777777778,\"#6ece58\"],[0.8888888888888888,\"#b5de2b\"],[1.0,\"#fde725\"]],\"sequentialminus\":[[0.0,\"#440154\"],[0.1111111111111111,\"#482878\"],[0.2222222222222222,\"#3e4989\"],[0.3333333333333333,\"#31688e\"],[0.4444444444444444,\"#26828e\"],[0.5555555555555556,\"#1f9e89\"],[0.6666666666666666,\"#35b779\"],[0.7777777777777778,\"#6ece58\"],[0.8888888888888888,\"#b5de2b\"],[1.0,\"#fde725\"]]},\"colorway\":[\"#1F77B4\",\"#FF7F0E\",\"#2CA02C\",\"#D62728\",\"#9467BD\",\"#8C564B\",\"#E377C2\",\"#7F7F7F\",\"#BCBD22\",\"#17BECF\"],\"font\":{\"color\":\"rgb(36,36,36)\"},\"geo\":{\"bgcolor\":\"white\",\"lakecolor\":\"white\",\"landcolor\":\"white\",\"showlakes\":true,\"showland\":true,\"subunitcolor\":\"white\"},\"hoverlabel\":{\"align\":\"left\"},\"hovermode\":\"closest\",\"mapbox\":{\"style\":\"light\"},\"paper_bgcolor\":\"white\",\"plot_bgcolor\":\"white\",\"polar\":{\"angularaxis\":{\"gridcolor\":\"rgb(232,232,232)\",\"linecolor\":\"rgb(36,36,36)\",\"showgrid\":false,\"showline\":true,\"ticks\":\"outside\"},\"bgcolor\":\"white\",\"radialaxis\":{\"gridcolor\":\"rgb(232,232,232)\",\"linecolor\":\"rgb(36,36,36)\",\"showgrid\":false,\"showline\":true,\"ticks\":\"outside\"}},\"scene\":{\"xaxis\":{\"backgroundcolor\":\"white\",\"gridcolor\":\"rgb(232,232,232)\",\"gridwidth\":2,\"linecolor\":\"rgb(36,36,36)\",\"showbackground\":true,\"showgrid\":false,\"showline\":true,\"ticks\":\"outside\",\"zeroline\":false,\"zerolinecolor\":\"rgb(36,36,36)\"},\"yaxis\":{\"backgroundcolor\":\"white\",\"gridcolor\":\"rgb(232,232,232)\",\"gridwidth\":2,\"linecolor\":\"rgb(36,36,36)\",\"showbackground\":true,\"showgrid\":false,\"showline\":true,\"ticks\":\"outside\",\"zeroline\":false,\"zerolinecolor\":\"rgb(36,36,36)\"},\"zaxis\":{\"backgroundcolor\":\"white\",\"gridcolor\":\"rgb(232,232,232)\",\"gridwidth\":2,\"linecolor\":\"rgb(36,36,36)\",\"showbackground\":true,\"showgrid\":false,\"showline\":true,\"ticks\":\"outside\",\"zeroline\":false,\"zerolinecolor\":\"rgb(36,36,36)\"}},\"shapedefaults\":{\"fillcolor\":\"black\",\"line\":{\"width\":0},\"opacity\":0.3},\"ternary\":{\"aaxis\":{\"gridcolor\":\"rgb(232,232,232)\",\"linecolor\":\"rgb(36,36,36)\",\"showgrid\":false,\"showline\":true,\"ticks\":\"outside\"},\"baxis\":{\"gridcolor\":\"rgb(232,232,232)\",\"linecolor\":\"rgb(36,36,36)\",\"showgrid\":false,\"showline\":true,\"ticks\":\"outside\"},\"bgcolor\":\"white\",\"caxis\":{\"gridcolor\":\"rgb(232,232,232)\",\"linecolor\":\"rgb(36,36,36)\",\"showgrid\":false,\"showline\":true,\"ticks\":\"outside\"}},\"title\":{\"x\":0.05},\"xaxis\":{\"automargin\":true,\"gridcolor\":\"rgb(232,232,232)\",\"linecolor\":\"rgb(36,36,36)\",\"showgrid\":false,\"showline\":true,\"ticks\":\"outside\",\"title\":{\"standoff\":15},\"zeroline\":false,\"zerolinecolor\":\"rgb(36,36,36)\"},\"yaxis\":{\"automargin\":true,\"gridcolor\":\"rgb(232,232,232)\",\"linecolor\":\"rgb(36,36,36)\",\"showgrid\":false,\"showline\":true,\"ticks\":\"outside\",\"title\":{\"standoff\":15},\"zeroline\":false,\"zerolinecolor\":\"rgb(36,36,36)\"}}},\"xaxis\":{\"anchor\":\"y\",\"domain\":[0.0,1.0],\"title\":{\"text\":\"PC1 (25.5 %)\"}},\"yaxis\":{\"anchor\":\"x\",\"domain\":[0.0,1.0],\"title\":{\"text\":\"PC2 (14.9 %)\"}},\"legend\":{\"title\":{\"text\":\"anomaly_LOF\"},\"tracegroupgap\":0},\"title\":{\"text\":\"\\\"Local outlier factor & PCoA (bray-curtis) based on the feature matrix\\\"\"}},                        {\"responsive\": true}                    ).then(function(){\n",
       "                            \n",
       "var gd = document.getElementById('e2ffdb75-833c-4a25-ac2e-e3289ed73513');\n",
       "var x = new MutationObserver(function (mutations, observer) {{\n",
       "        var display = window.getComputedStyle(gd).display;\n",
       "        if (!display || display === 'none') {{\n",
       "            console.log([gd, 'removed!']);\n",
       "            Plotly.purge(gd);\n",
       "            observer.disconnect();\n",
       "        }}\n",
       "}});\n",
       "\n",
       "// Listen for the removal of the full notebook cells\n",
       "var notebookContainer = gd.closest('#notebook-container');\n",
       "if (notebookContainer) {{\n",
       "    x.observe(notebookContainer, {childList: true});\n",
       "}}\n",
       "\n",
       "// Listen for the clearing of the current output cell\n",
       "var outputEl = gd.closest('.output');\n",
       "if (outputEl) {{\n",
       "    x.observe(outputEl, {childList: true});\n",
       "}}\n",
       "\n",
       "                        })                };                });            </script>        </div>"
      ]
     },
     "metadata": {},
     "output_type": "display_data"
    },
    {
     "data": {
      "application/vnd.plotly.v1+json": {
       "config": {
        "plotlyServerURL": "https://plot.ly"
       },
       "data": [
        {
         "hovertemplate": "<b>%{hovertext}</b><br><br>anomaly_OCSVM=1<br>PC1 (25.5 %)=%{x}<br>PC2 (14.9 %)=%{y}<extra></extra>",
         "hovertext": [
          "LQ-01-61-01_pos.mzXML",
          "LQ-01-61-02_pos.mzXML",
          "LQ-01-61-03_pos.mzXML",
          "LQ-01-61-04_pos.mzXML",
          "LQ-01-61-05_pos.mzXML",
          "LQ-01-61-06_pos.mzXML",
          "LQ-01-61-08_pos.mzXML",
          "LQ-01-61-09_pos.mzXML",
          "LQ-01-61-10_pos.mzXML",
          "LQ-01-61-11_pos.mzXML",
          "LQ-01-61-12_pos.mzXML",
          "LQ-01-61-13_pos.mzXML",
          "LQ-01-61-14_pos.mzXML",
          "LQ-01-61-15_pos.mzXML",
          "LQ-01-61-16_pos.mzXML",
          "LQ-01-61-17_pos.mzXML",
          "LQ-01-61-18_pos.mzXML",
          "LQ-01-61-19_pos.mzXML",
          "LQ-01-61-20_pos.mzXML",
          "LQ-01-61-21_pos.mzXML",
          "LQ-01-61-22_pos.mzXML",
          "LQ-01-61-23_pos.mzXML",
          "LQ-01-61-24_pos.mzXML",
          "LQ-01-61-25_pos.mzXML",
          "LQ-01-61-26_pos.mzXML",
          "LQ-01-61-27_pos.mzXML",
          "LQ-01-61-28_pos.mzXML",
          "LQ-01-61-29_pos.mzXML",
          "LQ-01-61-30_pos.mzXML",
          "LQ-01-61-31_pos.mzXML",
          "LQ-01-61-32_pos.mzXML",
          "LQ-01-61-33_pos.mzXML",
          "LQ-01-61-34_pos.mzXML",
          "LQ-01-61-35_pos.mzXML",
          "LQ-01-61-36_pos.mzXML",
          "LQ-01-61-37_pos.mzXML",
          "LQ-01-61-38_pos.mzXML",
          "LQ-01-61-39_pos.mzXML",
          "LQ-01-61-40_pos.mzXML",
          "LQ-01-61-41_pos.mzXML",
          "LQ-01-61-42_pos.mzXML",
          "LQ-01-61-43_pos.mzXML",
          "LQ-01-61-44_pos.mzXML",
          "LQ-01-61-45_pos.mzXML",
          "LQ-01-61-46_pos.mzXML",
          "LQ-01-61-47_pos.mzXML",
          "LQ-01-61-48_pos.mzXML",
          "LQ-01-61-49_pos.mzXML",
          "LQ-01-61-50_pos.mzXML",
          "LQ-01-61-51_pos.mzXML",
          "LQ-01-61-52_pos.mzXML",
          "LQ-01-61-53_pos.mzXML",
          "LQ-01-61-54_pos.mzXML",
          "LQ-01-61-56_pos.mzXML",
          "LQ-01-61-57_pos.mzXML",
          "LQ-01-61-58_pos.mzXML",
          "LQ-01-61-59_pos.mzXML",
          "LQ-01-61-61_pos.mzXML",
          "LQ-01-61-62_pos.mzXML",
          "LQ-01-61-63_pos.mzXML",
          "LQ-01-61-64_pos.mzXML",
          "LQ-01-61-65_pos.mzXML",
          "LQ-01-61-66_pos.mzXML",
          "LQ-01-61-67_pos.mzXML",
          "LQ-01-61-68_pos.mzXML",
          "LQ-01-61-69_pos.mzXML",
          "LQ-01-61-70_pos.mzXML",
          "LQ-01-61-71_pos.mzXML",
          "LQ-01-61-72_pos.mzXML",
          "LQ-01-61-73_pos.mzXML",
          "LQ-01-61-74_pos.mzXML",
          "LQ-01-61-75_pos.mzXML"
         ],
         "legendgroup": "1",
         "marker": {
          "color": "#1F77B4",
          "line": {
           "color": "DarkSlateGrey",
           "width": 1
          },
          "size": 10,
          "symbol": "circle"
         },
         "mode": "markers",
         "name": "1",
         "orientation": "v",
         "showlegend": true,
         "type": "scatter",
         "x": [
          -0.08918355178765879,
          0.06846954955605393,
          0.1344873476207129,
          0.11819384542770661,
          0.05980371741364595,
          0.10816117510221494,
          -0.25744229773297483,
          -0.21435646816718698,
          -0.005230987336226259,
          0.10250038364223248,
          -0.049670310017576505,
          -0.0050168479911067996,
          0.0655985990337102,
          -0.016498516684313975,
          0.02378746867102314,
          0.02869089270547618,
          -0.024945403220246045,
          0.17115168955406687,
          0.07693796295723032,
          -0.0693857505188175,
          -0.10184810091363972,
          -0.1825446422614421,
          0.06654602423133428,
          0.08259182673020317,
          0.025247659123797356,
          -0.00829340752025201,
          -0.18754308841791312,
          -0.12227999014692434,
          -0.06946097766338848,
          0.21181622419470722,
          0.14096041207590576,
          0.01772383640751301,
          0.06481572076040075,
          0.1233712802490425,
          -0.020338701889247815,
          0.04035613439455286,
          0.016976274655669348,
          -0.012839907490866482,
          0.03839951163137525,
          0.06012031300007019,
          -0.060255586195807634,
          -0.12420843329346003,
          0.06874456328254946,
          0.09484597645323409,
          -0.01052226521932343,
          -0.09101072044252391,
          0.06243855455014494,
          0.08265815519853868,
          0.09473428434819542,
          -0.038664484317756286,
          -0.05035840684430088,
          0.03587226868580299,
          0.08773001484347917,
          0.16664629026691485,
          -0.08331298324761234,
          0.1353803546654774,
          -0.07115189896547354,
          -0.07011255197958509,
          -0.17813588880808884,
          -0.01379134450257949,
          -0.046051467189010965,
          -0.18435454122384226,
          -0.13100261753558384,
          -0.099072014385107,
          -0.17574606548785138,
          -0.10622282909548689,
          0.015015440729744345,
          -0.09730472166512119,
          -0.09938432429691398,
          0.12446326655808124,
          0.15649570604986648,
          0.12361816998472006
         ],
         "xaxis": "x",
         "y": [
          0.09175078320306772,
          0.08129934184719603,
          0.14078347628064758,
          0.11228567743165624,
          -0.05688954414766626,
          0.11915704076409861,
          0.04031238127971293,
          0.05774975660771846,
          -0.06862257674118173,
          -0.03297526219169022,
          -0.08340728517017211,
          -0.027966507517742087,
          0.2246102235840271,
          -0.0706555495276861,
          -0.050702553312651985,
          0.09868992446150912,
          0.012268515819546766,
          -0.08189635175239697,
          -0.07859795560502685,
          -0.016687157587653923,
          -0.00010188871275284172,
          0.019889333652861527,
          -0.014229764700351824,
          -0.10505109664885275,
          -0.13191425937220255,
          -0.0825124194771222,
          0.03735321803100696,
          0.07423159917680246,
          -0.03570859555294326,
          0.060491577316500345,
          -0.024525141435679337,
          -0.117144495985395,
          -0.019090005583186166,
          -0.09287627598688568,
          -0.08694841354417553,
          0.1421378807217934,
          -0.02088071150367258,
          -0.13094078291397113,
          -0.10429750877457862,
          0.08952193079615232,
          -0.03335330636070258,
          0.018634852736587514,
          -0.006605753855655602,
          -0.059684999725601234,
          -0.11012940589955002,
          -0.04838748021750625,
          -0.05063151761505773,
          -0.04181993360178863,
          -0.017392200397837343,
          -0.05901745002862598,
          -0.08583731145985393,
          -0.037785954746057795,
          0.07399083555729681,
          0.1157425144541338,
          0.038131613476871315,
          -0.06035575767070539,
          -0.09247374346220015,
          -0.031502166817151234,
          0.009543165883456297,
          -0.11553369359048768,
          -0.0754691461484837,
          -0.05495619530417842,
          0.05272671024037432,
          0.14611531805493952,
          -0.004433649690324741,
          0.07719531423509972,
          0.16466511310855064,
          0.03464541556477928,
          -0.0835057935146747,
          0.09171484855687391,
          0.09157318272586314,
          -0.023016360296202538
         ],
         "yaxis": "y"
        },
        {
         "hovertemplate": "<b>%{hovertext}</b><br><br>anomaly_OCSVM=-1<br>PC1 (25.5 %)=%{x}<br>PC2 (14.9 %)=%{y}<extra></extra>",
         "hovertext": [
          "LQ-01-61-07_pos.mzXML",
          "LQ-01-61-55_pos.mzXML",
          "LQ-01-61-60_pos.mzXML",
          "LQ-01-61-78_pos.mzXML"
         ],
         "legendgroup": "-1",
         "marker": {
          "color": "#FF7F0E",
          "line": {
           "color": "DarkSlateGrey",
           "width": 1
          },
          "size": 10,
          "symbol": "circle"
         },
         "mode": "markers",
         "name": "-1",
         "orientation": "v",
         "showlegend": true,
         "type": "scatter",
         "x": [
          0.19466715006192134,
          0.170300726702345,
          -0.21730189296850053,
          -0.0754747840959486
         ],
         "xaxis": "x",
         "y": [
          -0.06121297613072468,
          0.10827983916610477,
          0.08650687837938295,
          0.17572863716439632
         ],
         "yaxis": "y"
        }
       ],
       "layout": {
        "legend": {
         "title": {
          "text": "anomaly_OCSVM"
         },
         "tracegroupgap": 0
        },
        "template": {
         "data": {
          "bar": [
           {
            "error_x": {
             "color": "rgb(36,36,36)"
            },
            "error_y": {
             "color": "rgb(36,36,36)"
            },
            "marker": {
             "line": {
              "color": "white",
              "width": 0.5
             },
             "pattern": {
              "fillmode": "overlay",
              "size": 10,
              "solidity": 0.2
             }
            },
            "type": "bar"
           }
          ],
          "barpolar": [
           {
            "marker": {
             "line": {
              "color": "white",
              "width": 0.5
             },
             "pattern": {
              "fillmode": "overlay",
              "size": 10,
              "solidity": 0.2
             }
            },
            "type": "barpolar"
           }
          ],
          "carpet": [
           {
            "aaxis": {
             "endlinecolor": "rgb(36,36,36)",
             "gridcolor": "white",
             "linecolor": "white",
             "minorgridcolor": "white",
             "startlinecolor": "rgb(36,36,36)"
            },
            "baxis": {
             "endlinecolor": "rgb(36,36,36)",
             "gridcolor": "white",
             "linecolor": "white",
             "minorgridcolor": "white",
             "startlinecolor": "rgb(36,36,36)"
            },
            "type": "carpet"
           }
          ],
          "choropleth": [
           {
            "colorbar": {
             "outlinewidth": 1,
             "tickcolor": "rgb(36,36,36)",
             "ticks": "outside"
            },
            "type": "choropleth"
           }
          ],
          "contour": [
           {
            "colorbar": {
             "outlinewidth": 1,
             "tickcolor": "rgb(36,36,36)",
             "ticks": "outside"
            },
            "colorscale": [
             [
              0,
              "#440154"
             ],
             [
              0.1111111111111111,
              "#482878"
             ],
             [
              0.2222222222222222,
              "#3e4989"
             ],
             [
              0.3333333333333333,
              "#31688e"
             ],
             [
              0.4444444444444444,
              "#26828e"
             ],
             [
              0.5555555555555556,
              "#1f9e89"
             ],
             [
              0.6666666666666666,
              "#35b779"
             ],
             [
              0.7777777777777778,
              "#6ece58"
             ],
             [
              0.8888888888888888,
              "#b5de2b"
             ],
             [
              1,
              "#fde725"
             ]
            ],
            "type": "contour"
           }
          ],
          "contourcarpet": [
           {
            "colorbar": {
             "outlinewidth": 1,
             "tickcolor": "rgb(36,36,36)",
             "ticks": "outside"
            },
            "type": "contourcarpet"
           }
          ],
          "heatmap": [
           {
            "colorbar": {
             "outlinewidth": 1,
             "tickcolor": "rgb(36,36,36)",
             "ticks": "outside"
            },
            "colorscale": [
             [
              0,
              "#440154"
             ],
             [
              0.1111111111111111,
              "#482878"
             ],
             [
              0.2222222222222222,
              "#3e4989"
             ],
             [
              0.3333333333333333,
              "#31688e"
             ],
             [
              0.4444444444444444,
              "#26828e"
             ],
             [
              0.5555555555555556,
              "#1f9e89"
             ],
             [
              0.6666666666666666,
              "#35b779"
             ],
             [
              0.7777777777777778,
              "#6ece58"
             ],
             [
              0.8888888888888888,
              "#b5de2b"
             ],
             [
              1,
              "#fde725"
             ]
            ],
            "type": "heatmap"
           }
          ],
          "heatmapgl": [
           {
            "colorbar": {
             "outlinewidth": 1,
             "tickcolor": "rgb(36,36,36)",
             "ticks": "outside"
            },
            "colorscale": [
             [
              0,
              "#440154"
             ],
             [
              0.1111111111111111,
              "#482878"
             ],
             [
              0.2222222222222222,
              "#3e4989"
             ],
             [
              0.3333333333333333,
              "#31688e"
             ],
             [
              0.4444444444444444,
              "#26828e"
             ],
             [
              0.5555555555555556,
              "#1f9e89"
             ],
             [
              0.6666666666666666,
              "#35b779"
             ],
             [
              0.7777777777777778,
              "#6ece58"
             ],
             [
              0.8888888888888888,
              "#b5de2b"
             ],
             [
              1,
              "#fde725"
             ]
            ],
            "type": "heatmapgl"
           }
          ],
          "histogram": [
           {
            "marker": {
             "line": {
              "color": "white",
              "width": 0.6
             }
            },
            "type": "histogram"
           }
          ],
          "histogram2d": [
           {
            "colorbar": {
             "outlinewidth": 1,
             "tickcolor": "rgb(36,36,36)",
             "ticks": "outside"
            },
            "colorscale": [
             [
              0,
              "#440154"
             ],
             [
              0.1111111111111111,
              "#482878"
             ],
             [
              0.2222222222222222,
              "#3e4989"
             ],
             [
              0.3333333333333333,
              "#31688e"
             ],
             [
              0.4444444444444444,
              "#26828e"
             ],
             [
              0.5555555555555556,
              "#1f9e89"
             ],
             [
              0.6666666666666666,
              "#35b779"
             ],
             [
              0.7777777777777778,
              "#6ece58"
             ],
             [
              0.8888888888888888,
              "#b5de2b"
             ],
             [
              1,
              "#fde725"
             ]
            ],
            "type": "histogram2d"
           }
          ],
          "histogram2dcontour": [
           {
            "colorbar": {
             "outlinewidth": 1,
             "tickcolor": "rgb(36,36,36)",
             "ticks": "outside"
            },
            "colorscale": [
             [
              0,
              "#440154"
             ],
             [
              0.1111111111111111,
              "#482878"
             ],
             [
              0.2222222222222222,
              "#3e4989"
             ],
             [
              0.3333333333333333,
              "#31688e"
             ],
             [
              0.4444444444444444,
              "#26828e"
             ],
             [
              0.5555555555555556,
              "#1f9e89"
             ],
             [
              0.6666666666666666,
              "#35b779"
             ],
             [
              0.7777777777777778,
              "#6ece58"
             ],
             [
              0.8888888888888888,
              "#b5de2b"
             ],
             [
              1,
              "#fde725"
             ]
            ],
            "type": "histogram2dcontour"
           }
          ],
          "mesh3d": [
           {
            "colorbar": {
             "outlinewidth": 1,
             "tickcolor": "rgb(36,36,36)",
             "ticks": "outside"
            },
            "type": "mesh3d"
           }
          ],
          "parcoords": [
           {
            "line": {
             "colorbar": {
              "outlinewidth": 1,
              "tickcolor": "rgb(36,36,36)",
              "ticks": "outside"
             }
            },
            "type": "parcoords"
           }
          ],
          "pie": [
           {
            "automargin": true,
            "type": "pie"
           }
          ],
          "scatter": [
           {
            "marker": {
             "colorbar": {
              "outlinewidth": 1,
              "tickcolor": "rgb(36,36,36)",
              "ticks": "outside"
             }
            },
            "type": "scatter"
           }
          ],
          "scatter3d": [
           {
            "line": {
             "colorbar": {
              "outlinewidth": 1,
              "tickcolor": "rgb(36,36,36)",
              "ticks": "outside"
             }
            },
            "marker": {
             "colorbar": {
              "outlinewidth": 1,
              "tickcolor": "rgb(36,36,36)",
              "ticks": "outside"
             }
            },
            "type": "scatter3d"
           }
          ],
          "scattercarpet": [
           {
            "marker": {
             "colorbar": {
              "outlinewidth": 1,
              "tickcolor": "rgb(36,36,36)",
              "ticks": "outside"
             }
            },
            "type": "scattercarpet"
           }
          ],
          "scattergeo": [
           {
            "marker": {
             "colorbar": {
              "outlinewidth": 1,
              "tickcolor": "rgb(36,36,36)",
              "ticks": "outside"
             }
            },
            "type": "scattergeo"
           }
          ],
          "scattergl": [
           {
            "marker": {
             "colorbar": {
              "outlinewidth": 1,
              "tickcolor": "rgb(36,36,36)",
              "ticks": "outside"
             }
            },
            "type": "scattergl"
           }
          ],
          "scattermapbox": [
           {
            "marker": {
             "colorbar": {
              "outlinewidth": 1,
              "tickcolor": "rgb(36,36,36)",
              "ticks": "outside"
             }
            },
            "type": "scattermapbox"
           }
          ],
          "scatterpolar": [
           {
            "marker": {
             "colorbar": {
              "outlinewidth": 1,
              "tickcolor": "rgb(36,36,36)",
              "ticks": "outside"
             }
            },
            "type": "scatterpolar"
           }
          ],
          "scatterpolargl": [
           {
            "marker": {
             "colorbar": {
              "outlinewidth": 1,
              "tickcolor": "rgb(36,36,36)",
              "ticks": "outside"
             }
            },
            "type": "scatterpolargl"
           }
          ],
          "scatterternary": [
           {
            "marker": {
             "colorbar": {
              "outlinewidth": 1,
              "tickcolor": "rgb(36,36,36)",
              "ticks": "outside"
             }
            },
            "type": "scatterternary"
           }
          ],
          "surface": [
           {
            "colorbar": {
             "outlinewidth": 1,
             "tickcolor": "rgb(36,36,36)",
             "ticks": "outside"
            },
            "colorscale": [
             [
              0,
              "#440154"
             ],
             [
              0.1111111111111111,
              "#482878"
             ],
             [
              0.2222222222222222,
              "#3e4989"
             ],
             [
              0.3333333333333333,
              "#31688e"
             ],
             [
              0.4444444444444444,
              "#26828e"
             ],
             [
              0.5555555555555556,
              "#1f9e89"
             ],
             [
              0.6666666666666666,
              "#35b779"
             ],
             [
              0.7777777777777778,
              "#6ece58"
             ],
             [
              0.8888888888888888,
              "#b5de2b"
             ],
             [
              1,
              "#fde725"
             ]
            ],
            "type": "surface"
           }
          ],
          "table": [
           {
            "cells": {
             "fill": {
              "color": "rgb(237,237,237)"
             },
             "line": {
              "color": "white"
             }
            },
            "header": {
             "fill": {
              "color": "rgb(217,217,217)"
             },
             "line": {
              "color": "white"
             }
            },
            "type": "table"
           }
          ]
         },
         "layout": {
          "annotationdefaults": {
           "arrowhead": 0,
           "arrowwidth": 1
          },
          "autotypenumbers": "strict",
          "coloraxis": {
           "colorbar": {
            "outlinewidth": 1,
            "tickcolor": "rgb(36,36,36)",
            "ticks": "outside"
           }
          },
          "colorscale": {
           "diverging": [
            [
             0,
             "rgb(103,0,31)"
            ],
            [
             0.1,
             "rgb(178,24,43)"
            ],
            [
             0.2,
             "rgb(214,96,77)"
            ],
            [
             0.3,
             "rgb(244,165,130)"
            ],
            [
             0.4,
             "rgb(253,219,199)"
            ],
            [
             0.5,
             "rgb(247,247,247)"
            ],
            [
             0.6,
             "rgb(209,229,240)"
            ],
            [
             0.7,
             "rgb(146,197,222)"
            ],
            [
             0.8,
             "rgb(67,147,195)"
            ],
            [
             0.9,
             "rgb(33,102,172)"
            ],
            [
             1,
             "rgb(5,48,97)"
            ]
           ],
           "sequential": [
            [
             0,
             "#440154"
            ],
            [
             0.1111111111111111,
             "#482878"
            ],
            [
             0.2222222222222222,
             "#3e4989"
            ],
            [
             0.3333333333333333,
             "#31688e"
            ],
            [
             0.4444444444444444,
             "#26828e"
            ],
            [
             0.5555555555555556,
             "#1f9e89"
            ],
            [
             0.6666666666666666,
             "#35b779"
            ],
            [
             0.7777777777777778,
             "#6ece58"
            ],
            [
             0.8888888888888888,
             "#b5de2b"
            ],
            [
             1,
             "#fde725"
            ]
           ],
           "sequentialminus": [
            [
             0,
             "#440154"
            ],
            [
             0.1111111111111111,
             "#482878"
            ],
            [
             0.2222222222222222,
             "#3e4989"
            ],
            [
             0.3333333333333333,
             "#31688e"
            ],
            [
             0.4444444444444444,
             "#26828e"
            ],
            [
             0.5555555555555556,
             "#1f9e89"
            ],
            [
             0.6666666666666666,
             "#35b779"
            ],
            [
             0.7777777777777778,
             "#6ece58"
            ],
            [
             0.8888888888888888,
             "#b5de2b"
            ],
            [
             1,
             "#fde725"
            ]
           ]
          },
          "colorway": [
           "#1F77B4",
           "#FF7F0E",
           "#2CA02C",
           "#D62728",
           "#9467BD",
           "#8C564B",
           "#E377C2",
           "#7F7F7F",
           "#BCBD22",
           "#17BECF"
          ],
          "font": {
           "color": "rgb(36,36,36)"
          },
          "geo": {
           "bgcolor": "white",
           "lakecolor": "white",
           "landcolor": "white",
           "showlakes": true,
           "showland": true,
           "subunitcolor": "white"
          },
          "hoverlabel": {
           "align": "left"
          },
          "hovermode": "closest",
          "mapbox": {
           "style": "light"
          },
          "paper_bgcolor": "white",
          "plot_bgcolor": "white",
          "polar": {
           "angularaxis": {
            "gridcolor": "rgb(232,232,232)",
            "linecolor": "rgb(36,36,36)",
            "showgrid": false,
            "showline": true,
            "ticks": "outside"
           },
           "bgcolor": "white",
           "radialaxis": {
            "gridcolor": "rgb(232,232,232)",
            "linecolor": "rgb(36,36,36)",
            "showgrid": false,
            "showline": true,
            "ticks": "outside"
           }
          },
          "scene": {
           "xaxis": {
            "backgroundcolor": "white",
            "gridcolor": "rgb(232,232,232)",
            "gridwidth": 2,
            "linecolor": "rgb(36,36,36)",
            "showbackground": true,
            "showgrid": false,
            "showline": true,
            "ticks": "outside",
            "zeroline": false,
            "zerolinecolor": "rgb(36,36,36)"
           },
           "yaxis": {
            "backgroundcolor": "white",
            "gridcolor": "rgb(232,232,232)",
            "gridwidth": 2,
            "linecolor": "rgb(36,36,36)",
            "showbackground": true,
            "showgrid": false,
            "showline": true,
            "ticks": "outside",
            "zeroline": false,
            "zerolinecolor": "rgb(36,36,36)"
           },
           "zaxis": {
            "backgroundcolor": "white",
            "gridcolor": "rgb(232,232,232)",
            "gridwidth": 2,
            "linecolor": "rgb(36,36,36)",
            "showbackground": true,
            "showgrid": false,
            "showline": true,
            "ticks": "outside",
            "zeroline": false,
            "zerolinecolor": "rgb(36,36,36)"
           }
          },
          "shapedefaults": {
           "fillcolor": "black",
           "line": {
            "width": 0
           },
           "opacity": 0.3
          },
          "ternary": {
           "aaxis": {
            "gridcolor": "rgb(232,232,232)",
            "linecolor": "rgb(36,36,36)",
            "showgrid": false,
            "showline": true,
            "ticks": "outside"
           },
           "baxis": {
            "gridcolor": "rgb(232,232,232)",
            "linecolor": "rgb(36,36,36)",
            "showgrid": false,
            "showline": true,
            "ticks": "outside"
           },
           "bgcolor": "white",
           "caxis": {
            "gridcolor": "rgb(232,232,232)",
            "linecolor": "rgb(36,36,36)",
            "showgrid": false,
            "showline": true,
            "ticks": "outside"
           }
          },
          "title": {
           "x": 0.05
          },
          "xaxis": {
           "automargin": true,
           "gridcolor": "rgb(232,232,232)",
           "linecolor": "rgb(36,36,36)",
           "showgrid": false,
           "showline": true,
           "ticks": "outside",
           "title": {
            "standoff": 15
           },
           "zeroline": false,
           "zerolinecolor": "rgb(36,36,36)"
          },
          "yaxis": {
           "automargin": true,
           "gridcolor": "rgb(232,232,232)",
           "linecolor": "rgb(36,36,36)",
           "showgrid": false,
           "showline": true,
           "ticks": "outside",
           "title": {
            "standoff": 15
           },
           "zeroline": false,
           "zerolinecolor": "rgb(36,36,36)"
          }
         }
        },
        "title": {
         "text": "\"One-class support vector machine & PCoA (bray-curtis) based on the feature matrix\""
        },
        "xaxis": {
         "anchor": "y",
         "domain": [
          0,
          1
         ],
         "title": {
          "text": "PC1 (25.5 %)"
         }
        },
        "yaxis": {
         "anchor": "x",
         "domain": [
          0,
          1
         ],
         "title": {
          "text": "PC2 (14.9 %)"
         }
        }
       }
      },
      "text/html": [
       "<div>                            <div id=\"1b0c70e3-3d91-4702-bf61-edfe1af75ba7\" class=\"plotly-graph-div\" style=\"height:525px; width:100%;\"></div>            <script type=\"text/javascript\">                require([\"plotly\"], function(Plotly) {                    window.PLOTLYENV=window.PLOTLYENV || {};                                    if (document.getElementById(\"1b0c70e3-3d91-4702-bf61-edfe1af75ba7\")) {                    Plotly.newPlot(                        \"1b0c70e3-3d91-4702-bf61-edfe1af75ba7\",                        [{\"hovertemplate\":\"<b>%{hovertext}</b><br><br>anomaly_OCSVM=1<br>PC1 (25.5 %)=%{x}<br>PC2 (14.9 %)=%{y}<extra></extra>\",\"hovertext\":[\"LQ-01-61-01_pos.mzXML\",\"LQ-01-61-02_pos.mzXML\",\"LQ-01-61-03_pos.mzXML\",\"LQ-01-61-04_pos.mzXML\",\"LQ-01-61-05_pos.mzXML\",\"LQ-01-61-06_pos.mzXML\",\"LQ-01-61-08_pos.mzXML\",\"LQ-01-61-09_pos.mzXML\",\"LQ-01-61-10_pos.mzXML\",\"LQ-01-61-11_pos.mzXML\",\"LQ-01-61-12_pos.mzXML\",\"LQ-01-61-13_pos.mzXML\",\"LQ-01-61-14_pos.mzXML\",\"LQ-01-61-15_pos.mzXML\",\"LQ-01-61-16_pos.mzXML\",\"LQ-01-61-17_pos.mzXML\",\"LQ-01-61-18_pos.mzXML\",\"LQ-01-61-19_pos.mzXML\",\"LQ-01-61-20_pos.mzXML\",\"LQ-01-61-21_pos.mzXML\",\"LQ-01-61-22_pos.mzXML\",\"LQ-01-61-23_pos.mzXML\",\"LQ-01-61-24_pos.mzXML\",\"LQ-01-61-25_pos.mzXML\",\"LQ-01-61-26_pos.mzXML\",\"LQ-01-61-27_pos.mzXML\",\"LQ-01-61-28_pos.mzXML\",\"LQ-01-61-29_pos.mzXML\",\"LQ-01-61-30_pos.mzXML\",\"LQ-01-61-31_pos.mzXML\",\"LQ-01-61-32_pos.mzXML\",\"LQ-01-61-33_pos.mzXML\",\"LQ-01-61-34_pos.mzXML\",\"LQ-01-61-35_pos.mzXML\",\"LQ-01-61-36_pos.mzXML\",\"LQ-01-61-37_pos.mzXML\",\"LQ-01-61-38_pos.mzXML\",\"LQ-01-61-39_pos.mzXML\",\"LQ-01-61-40_pos.mzXML\",\"LQ-01-61-41_pos.mzXML\",\"LQ-01-61-42_pos.mzXML\",\"LQ-01-61-43_pos.mzXML\",\"LQ-01-61-44_pos.mzXML\",\"LQ-01-61-45_pos.mzXML\",\"LQ-01-61-46_pos.mzXML\",\"LQ-01-61-47_pos.mzXML\",\"LQ-01-61-48_pos.mzXML\",\"LQ-01-61-49_pos.mzXML\",\"LQ-01-61-50_pos.mzXML\",\"LQ-01-61-51_pos.mzXML\",\"LQ-01-61-52_pos.mzXML\",\"LQ-01-61-53_pos.mzXML\",\"LQ-01-61-54_pos.mzXML\",\"LQ-01-61-56_pos.mzXML\",\"LQ-01-61-57_pos.mzXML\",\"LQ-01-61-58_pos.mzXML\",\"LQ-01-61-59_pos.mzXML\",\"LQ-01-61-61_pos.mzXML\",\"LQ-01-61-62_pos.mzXML\",\"LQ-01-61-63_pos.mzXML\",\"LQ-01-61-64_pos.mzXML\",\"LQ-01-61-65_pos.mzXML\",\"LQ-01-61-66_pos.mzXML\",\"LQ-01-61-67_pos.mzXML\",\"LQ-01-61-68_pos.mzXML\",\"LQ-01-61-69_pos.mzXML\",\"LQ-01-61-70_pos.mzXML\",\"LQ-01-61-71_pos.mzXML\",\"LQ-01-61-72_pos.mzXML\",\"LQ-01-61-73_pos.mzXML\",\"LQ-01-61-74_pos.mzXML\",\"LQ-01-61-75_pos.mzXML\"],\"legendgroup\":\"1\",\"marker\":{\"color\":\"#1F77B4\",\"symbol\":\"circle\",\"line\":{\"color\":\"DarkSlateGrey\",\"width\":1},\"size\":10},\"mode\":\"markers\",\"name\":\"1\",\"orientation\":\"v\",\"showlegend\":true,\"x\":[-0.08918355178765879,0.06846954955605393,0.1344873476207129,0.11819384542770661,0.05980371741364595,0.10816117510221494,-0.25744229773297483,-0.21435646816718698,-0.005230987336226259,0.10250038364223248,-0.049670310017576505,-0.0050168479911067996,0.0655985990337102,-0.016498516684313975,0.02378746867102314,0.02869089270547618,-0.024945403220246045,0.17115168955406687,0.07693796295723032,-0.0693857505188175,-0.10184810091363972,-0.1825446422614421,0.06654602423133428,0.08259182673020317,0.025247659123797356,-0.00829340752025201,-0.18754308841791312,-0.12227999014692434,-0.06946097766338848,0.21181622419470722,0.14096041207590576,0.01772383640751301,0.06481572076040075,0.1233712802490425,-0.020338701889247815,0.04035613439455286,0.016976274655669348,-0.012839907490866482,0.03839951163137525,0.06012031300007019,-0.060255586195807634,-0.12420843329346003,0.06874456328254946,0.09484597645323409,-0.01052226521932343,-0.09101072044252391,0.06243855455014494,0.08265815519853868,0.09473428434819542,-0.038664484317756286,-0.05035840684430088,0.03587226868580299,0.08773001484347917,0.16664629026691485,-0.08331298324761234,0.1353803546654774,-0.07115189896547354,-0.07011255197958509,-0.17813588880808884,-0.01379134450257949,-0.046051467189010965,-0.18435454122384226,-0.13100261753558384,-0.099072014385107,-0.17574606548785138,-0.10622282909548689,0.015015440729744345,-0.09730472166512119,-0.09938432429691398,0.12446326655808124,0.15649570604986648,0.12361816998472006],\"xaxis\":\"x\",\"y\":[0.09175078320306772,0.08129934184719603,0.14078347628064758,0.11228567743165624,-0.05688954414766626,0.11915704076409861,0.04031238127971293,0.05774975660771846,-0.06862257674118173,-0.03297526219169022,-0.08340728517017211,-0.027966507517742087,0.2246102235840271,-0.0706555495276861,-0.050702553312651985,0.09868992446150912,0.012268515819546766,-0.08189635175239697,-0.07859795560502685,-0.016687157587653923,-0.00010188871275284172,0.019889333652861527,-0.014229764700351824,-0.10505109664885275,-0.13191425937220255,-0.0825124194771222,0.03735321803100696,0.07423159917680246,-0.03570859555294326,0.060491577316500345,-0.024525141435679337,-0.117144495985395,-0.019090005583186166,-0.09287627598688568,-0.08694841354417553,0.1421378807217934,-0.02088071150367258,-0.13094078291397113,-0.10429750877457862,0.08952193079615232,-0.03335330636070258,0.018634852736587514,-0.006605753855655602,-0.059684999725601234,-0.11012940589955002,-0.04838748021750625,-0.05063151761505773,-0.04181993360178863,-0.017392200397837343,-0.05901745002862598,-0.08583731145985393,-0.037785954746057795,0.07399083555729681,0.1157425144541338,0.038131613476871315,-0.06035575767070539,-0.09247374346220015,-0.031502166817151234,0.009543165883456297,-0.11553369359048768,-0.0754691461484837,-0.05495619530417842,0.05272671024037432,0.14611531805493952,-0.004433649690324741,0.07719531423509972,0.16466511310855064,0.03464541556477928,-0.0835057935146747,0.09171484855687391,0.09157318272586314,-0.023016360296202538],\"yaxis\":\"y\",\"type\":\"scatter\"},{\"hovertemplate\":\"<b>%{hovertext}</b><br><br>anomaly_OCSVM=-1<br>PC1 (25.5 %)=%{x}<br>PC2 (14.9 %)=%{y}<extra></extra>\",\"hovertext\":[\"LQ-01-61-07_pos.mzXML\",\"LQ-01-61-55_pos.mzXML\",\"LQ-01-61-60_pos.mzXML\",\"LQ-01-61-78_pos.mzXML\"],\"legendgroup\":\"-1\",\"marker\":{\"color\":\"#FF7F0E\",\"symbol\":\"circle\",\"line\":{\"color\":\"DarkSlateGrey\",\"width\":1},\"size\":10},\"mode\":\"markers\",\"name\":\"-1\",\"orientation\":\"v\",\"showlegend\":true,\"x\":[0.19466715006192134,0.170300726702345,-0.21730189296850053,-0.0754747840959486],\"xaxis\":\"x\",\"y\":[-0.06121297613072468,0.10827983916610477,0.08650687837938295,0.17572863716439632],\"yaxis\":\"y\",\"type\":\"scatter\"}],                        {\"template\":{\"data\":{\"barpolar\":[{\"marker\":{\"line\":{\"color\":\"white\",\"width\":0.5},\"pattern\":{\"fillmode\":\"overlay\",\"size\":10,\"solidity\":0.2}},\"type\":\"barpolar\"}],\"bar\":[{\"error_x\":{\"color\":\"rgb(36,36,36)\"},\"error_y\":{\"color\":\"rgb(36,36,36)\"},\"marker\":{\"line\":{\"color\":\"white\",\"width\":0.5},\"pattern\":{\"fillmode\":\"overlay\",\"size\":10,\"solidity\":0.2}},\"type\":\"bar\"}],\"carpet\":[{\"aaxis\":{\"endlinecolor\":\"rgb(36,36,36)\",\"gridcolor\":\"white\",\"linecolor\":\"white\",\"minorgridcolor\":\"white\",\"startlinecolor\":\"rgb(36,36,36)\"},\"baxis\":{\"endlinecolor\":\"rgb(36,36,36)\",\"gridcolor\":\"white\",\"linecolor\":\"white\",\"minorgridcolor\":\"white\",\"startlinecolor\":\"rgb(36,36,36)\"},\"type\":\"carpet\"}],\"choropleth\":[{\"colorbar\":{\"outlinewidth\":1,\"tickcolor\":\"rgb(36,36,36)\",\"ticks\":\"outside\"},\"type\":\"choropleth\"}],\"contourcarpet\":[{\"colorbar\":{\"outlinewidth\":1,\"tickcolor\":\"rgb(36,36,36)\",\"ticks\":\"outside\"},\"type\":\"contourcarpet\"}],\"contour\":[{\"colorbar\":{\"outlinewidth\":1,\"tickcolor\":\"rgb(36,36,36)\",\"ticks\":\"outside\"},\"colorscale\":[[0.0,\"#440154\"],[0.1111111111111111,\"#482878\"],[0.2222222222222222,\"#3e4989\"],[0.3333333333333333,\"#31688e\"],[0.4444444444444444,\"#26828e\"],[0.5555555555555556,\"#1f9e89\"],[0.6666666666666666,\"#35b779\"],[0.7777777777777778,\"#6ece58\"],[0.8888888888888888,\"#b5de2b\"],[1.0,\"#fde725\"]],\"type\":\"contour\"}],\"heatmapgl\":[{\"colorbar\":{\"outlinewidth\":1,\"tickcolor\":\"rgb(36,36,36)\",\"ticks\":\"outside\"},\"colorscale\":[[0.0,\"#440154\"],[0.1111111111111111,\"#482878\"],[0.2222222222222222,\"#3e4989\"],[0.3333333333333333,\"#31688e\"],[0.4444444444444444,\"#26828e\"],[0.5555555555555556,\"#1f9e89\"],[0.6666666666666666,\"#35b779\"],[0.7777777777777778,\"#6ece58\"],[0.8888888888888888,\"#b5de2b\"],[1.0,\"#fde725\"]],\"type\":\"heatmapgl\"}],\"heatmap\":[{\"colorbar\":{\"outlinewidth\":1,\"tickcolor\":\"rgb(36,36,36)\",\"ticks\":\"outside\"},\"colorscale\":[[0.0,\"#440154\"],[0.1111111111111111,\"#482878\"],[0.2222222222222222,\"#3e4989\"],[0.3333333333333333,\"#31688e\"],[0.4444444444444444,\"#26828e\"],[0.5555555555555556,\"#1f9e89\"],[0.6666666666666666,\"#35b779\"],[0.7777777777777778,\"#6ece58\"],[0.8888888888888888,\"#b5de2b\"],[1.0,\"#fde725\"]],\"type\":\"heatmap\"}],\"histogram2dcontour\":[{\"colorbar\":{\"outlinewidth\":1,\"tickcolor\":\"rgb(36,36,36)\",\"ticks\":\"outside\"},\"colorscale\":[[0.0,\"#440154\"],[0.1111111111111111,\"#482878\"],[0.2222222222222222,\"#3e4989\"],[0.3333333333333333,\"#31688e\"],[0.4444444444444444,\"#26828e\"],[0.5555555555555556,\"#1f9e89\"],[0.6666666666666666,\"#35b779\"],[0.7777777777777778,\"#6ece58\"],[0.8888888888888888,\"#b5de2b\"],[1.0,\"#fde725\"]],\"type\":\"histogram2dcontour\"}],\"histogram2d\":[{\"colorbar\":{\"outlinewidth\":1,\"tickcolor\":\"rgb(36,36,36)\",\"ticks\":\"outside\"},\"colorscale\":[[0.0,\"#440154\"],[0.1111111111111111,\"#482878\"],[0.2222222222222222,\"#3e4989\"],[0.3333333333333333,\"#31688e\"],[0.4444444444444444,\"#26828e\"],[0.5555555555555556,\"#1f9e89\"],[0.6666666666666666,\"#35b779\"],[0.7777777777777778,\"#6ece58\"],[0.8888888888888888,\"#b5de2b\"],[1.0,\"#fde725\"]],\"type\":\"histogram2d\"}],\"histogram\":[{\"marker\":{\"line\":{\"color\":\"white\",\"width\":0.6}},\"type\":\"histogram\"}],\"mesh3d\":[{\"colorbar\":{\"outlinewidth\":1,\"tickcolor\":\"rgb(36,36,36)\",\"ticks\":\"outside\"},\"type\":\"mesh3d\"}],\"parcoords\":[{\"line\":{\"colorbar\":{\"outlinewidth\":1,\"tickcolor\":\"rgb(36,36,36)\",\"ticks\":\"outside\"}},\"type\":\"parcoords\"}],\"pie\":[{\"automargin\":true,\"type\":\"pie\"}],\"scatter3d\":[{\"line\":{\"colorbar\":{\"outlinewidth\":1,\"tickcolor\":\"rgb(36,36,36)\",\"ticks\":\"outside\"}},\"marker\":{\"colorbar\":{\"outlinewidth\":1,\"tickcolor\":\"rgb(36,36,36)\",\"ticks\":\"outside\"}},\"type\":\"scatter3d\"}],\"scattercarpet\":[{\"marker\":{\"colorbar\":{\"outlinewidth\":1,\"tickcolor\":\"rgb(36,36,36)\",\"ticks\":\"outside\"}},\"type\":\"scattercarpet\"}],\"scattergeo\":[{\"marker\":{\"colorbar\":{\"outlinewidth\":1,\"tickcolor\":\"rgb(36,36,36)\",\"ticks\":\"outside\"}},\"type\":\"scattergeo\"}],\"scattergl\":[{\"marker\":{\"colorbar\":{\"outlinewidth\":1,\"tickcolor\":\"rgb(36,36,36)\",\"ticks\":\"outside\"}},\"type\":\"scattergl\"}],\"scattermapbox\":[{\"marker\":{\"colorbar\":{\"outlinewidth\":1,\"tickcolor\":\"rgb(36,36,36)\",\"ticks\":\"outside\"}},\"type\":\"scattermapbox\"}],\"scatterpolargl\":[{\"marker\":{\"colorbar\":{\"outlinewidth\":1,\"tickcolor\":\"rgb(36,36,36)\",\"ticks\":\"outside\"}},\"type\":\"scatterpolargl\"}],\"scatterpolar\":[{\"marker\":{\"colorbar\":{\"outlinewidth\":1,\"tickcolor\":\"rgb(36,36,36)\",\"ticks\":\"outside\"}},\"type\":\"scatterpolar\"}],\"scatter\":[{\"marker\":{\"colorbar\":{\"outlinewidth\":1,\"tickcolor\":\"rgb(36,36,36)\",\"ticks\":\"outside\"}},\"type\":\"scatter\"}],\"scatterternary\":[{\"marker\":{\"colorbar\":{\"outlinewidth\":1,\"tickcolor\":\"rgb(36,36,36)\",\"ticks\":\"outside\"}},\"type\":\"scatterternary\"}],\"surface\":[{\"colorbar\":{\"outlinewidth\":1,\"tickcolor\":\"rgb(36,36,36)\",\"ticks\":\"outside\"},\"colorscale\":[[0.0,\"#440154\"],[0.1111111111111111,\"#482878\"],[0.2222222222222222,\"#3e4989\"],[0.3333333333333333,\"#31688e\"],[0.4444444444444444,\"#26828e\"],[0.5555555555555556,\"#1f9e89\"],[0.6666666666666666,\"#35b779\"],[0.7777777777777778,\"#6ece58\"],[0.8888888888888888,\"#b5de2b\"],[1.0,\"#fde725\"]],\"type\":\"surface\"}],\"table\":[{\"cells\":{\"fill\":{\"color\":\"rgb(237,237,237)\"},\"line\":{\"color\":\"white\"}},\"header\":{\"fill\":{\"color\":\"rgb(217,217,217)\"},\"line\":{\"color\":\"white\"}},\"type\":\"table\"}]},\"layout\":{\"annotationdefaults\":{\"arrowhead\":0,\"arrowwidth\":1},\"autotypenumbers\":\"strict\",\"coloraxis\":{\"colorbar\":{\"outlinewidth\":1,\"tickcolor\":\"rgb(36,36,36)\",\"ticks\":\"outside\"}},\"colorscale\":{\"diverging\":[[0.0,\"rgb(103,0,31)\"],[0.1,\"rgb(178,24,43)\"],[0.2,\"rgb(214,96,77)\"],[0.3,\"rgb(244,165,130)\"],[0.4,\"rgb(253,219,199)\"],[0.5,\"rgb(247,247,247)\"],[0.6,\"rgb(209,229,240)\"],[0.7,\"rgb(146,197,222)\"],[0.8,\"rgb(67,147,195)\"],[0.9,\"rgb(33,102,172)\"],[1.0,\"rgb(5,48,97)\"]],\"sequential\":[[0.0,\"#440154\"],[0.1111111111111111,\"#482878\"],[0.2222222222222222,\"#3e4989\"],[0.3333333333333333,\"#31688e\"],[0.4444444444444444,\"#26828e\"],[0.5555555555555556,\"#1f9e89\"],[0.6666666666666666,\"#35b779\"],[0.7777777777777778,\"#6ece58\"],[0.8888888888888888,\"#b5de2b\"],[1.0,\"#fde725\"]],\"sequentialminus\":[[0.0,\"#440154\"],[0.1111111111111111,\"#482878\"],[0.2222222222222222,\"#3e4989\"],[0.3333333333333333,\"#31688e\"],[0.4444444444444444,\"#26828e\"],[0.5555555555555556,\"#1f9e89\"],[0.6666666666666666,\"#35b779\"],[0.7777777777777778,\"#6ece58\"],[0.8888888888888888,\"#b5de2b\"],[1.0,\"#fde725\"]]},\"colorway\":[\"#1F77B4\",\"#FF7F0E\",\"#2CA02C\",\"#D62728\",\"#9467BD\",\"#8C564B\",\"#E377C2\",\"#7F7F7F\",\"#BCBD22\",\"#17BECF\"],\"font\":{\"color\":\"rgb(36,36,36)\"},\"geo\":{\"bgcolor\":\"white\",\"lakecolor\":\"white\",\"landcolor\":\"white\",\"showlakes\":true,\"showland\":true,\"subunitcolor\":\"white\"},\"hoverlabel\":{\"align\":\"left\"},\"hovermode\":\"closest\",\"mapbox\":{\"style\":\"light\"},\"paper_bgcolor\":\"white\",\"plot_bgcolor\":\"white\",\"polar\":{\"angularaxis\":{\"gridcolor\":\"rgb(232,232,232)\",\"linecolor\":\"rgb(36,36,36)\",\"showgrid\":false,\"showline\":true,\"ticks\":\"outside\"},\"bgcolor\":\"white\",\"radialaxis\":{\"gridcolor\":\"rgb(232,232,232)\",\"linecolor\":\"rgb(36,36,36)\",\"showgrid\":false,\"showline\":true,\"ticks\":\"outside\"}},\"scene\":{\"xaxis\":{\"backgroundcolor\":\"white\",\"gridcolor\":\"rgb(232,232,232)\",\"gridwidth\":2,\"linecolor\":\"rgb(36,36,36)\",\"showbackground\":true,\"showgrid\":false,\"showline\":true,\"ticks\":\"outside\",\"zeroline\":false,\"zerolinecolor\":\"rgb(36,36,36)\"},\"yaxis\":{\"backgroundcolor\":\"white\",\"gridcolor\":\"rgb(232,232,232)\",\"gridwidth\":2,\"linecolor\":\"rgb(36,36,36)\",\"showbackground\":true,\"showgrid\":false,\"showline\":true,\"ticks\":\"outside\",\"zeroline\":false,\"zerolinecolor\":\"rgb(36,36,36)\"},\"zaxis\":{\"backgroundcolor\":\"white\",\"gridcolor\":\"rgb(232,232,232)\",\"gridwidth\":2,\"linecolor\":\"rgb(36,36,36)\",\"showbackground\":true,\"showgrid\":false,\"showline\":true,\"ticks\":\"outside\",\"zeroline\":false,\"zerolinecolor\":\"rgb(36,36,36)\"}},\"shapedefaults\":{\"fillcolor\":\"black\",\"line\":{\"width\":0},\"opacity\":0.3},\"ternary\":{\"aaxis\":{\"gridcolor\":\"rgb(232,232,232)\",\"linecolor\":\"rgb(36,36,36)\",\"showgrid\":false,\"showline\":true,\"ticks\":\"outside\"},\"baxis\":{\"gridcolor\":\"rgb(232,232,232)\",\"linecolor\":\"rgb(36,36,36)\",\"showgrid\":false,\"showline\":true,\"ticks\":\"outside\"},\"bgcolor\":\"white\",\"caxis\":{\"gridcolor\":\"rgb(232,232,232)\",\"linecolor\":\"rgb(36,36,36)\",\"showgrid\":false,\"showline\":true,\"ticks\":\"outside\"}},\"title\":{\"x\":0.05},\"xaxis\":{\"automargin\":true,\"gridcolor\":\"rgb(232,232,232)\",\"linecolor\":\"rgb(36,36,36)\",\"showgrid\":false,\"showline\":true,\"ticks\":\"outside\",\"title\":{\"standoff\":15},\"zeroline\":false,\"zerolinecolor\":\"rgb(36,36,36)\"},\"yaxis\":{\"automargin\":true,\"gridcolor\":\"rgb(232,232,232)\",\"linecolor\":\"rgb(36,36,36)\",\"showgrid\":false,\"showline\":true,\"ticks\":\"outside\",\"title\":{\"standoff\":15},\"zeroline\":false,\"zerolinecolor\":\"rgb(36,36,36)\"}}},\"xaxis\":{\"anchor\":\"y\",\"domain\":[0.0,1.0],\"title\":{\"text\":\"PC1 (25.5 %)\"}},\"yaxis\":{\"anchor\":\"x\",\"domain\":[0.0,1.0],\"title\":{\"text\":\"PC2 (14.9 %)\"}},\"legend\":{\"title\":{\"text\":\"anomaly_OCSVM\"},\"tracegroupgap\":0},\"title\":{\"text\":\"\\\"One-class support vector machine & PCoA (bray-curtis) based on the feature matrix\\\"\"}},                        {\"responsive\": true}                    ).then(function(){\n",
       "                            \n",
       "var gd = document.getElementById('1b0c70e3-3d91-4702-bf61-edfe1af75ba7');\n",
       "var x = new MutationObserver(function (mutations, observer) {{\n",
       "        var display = window.getComputedStyle(gd).display;\n",
       "        if (!display || display === 'none') {{\n",
       "            console.log([gd, 'removed!']);\n",
       "            Plotly.purge(gd);\n",
       "            observer.disconnect();\n",
       "        }}\n",
       "}});\n",
       "\n",
       "// Listen for the removal of the full notebook cells\n",
       "var notebookContainer = gd.closest('#notebook-container');\n",
       "if (notebookContainer) {{\n",
       "    x.observe(notebookContainer, {childList: true});\n",
       "}}\n",
       "\n",
       "// Listen for the clearing of the current output cell\n",
       "var outputEl = gd.closest('.output');\n",
       "if (outputEl) {{\n",
       "    x.observe(outputEl, {childList: true});\n",
       "}}\n",
       "\n",
       "                        })                };                });            </script>        </div>"
      ]
     },
     "metadata": {},
     "output_type": "display_data"
    }
   ],
   "source": [
    "pcoa_2d(\n",
    "    matrix= metric_df,\n",
    "    data = SC,\n",
    "    metric= 'braycurtis',\n",
    "    filename_col = 'filename',\n",
    "    group_col='anomaly_IF',\n",
    "    title='\"Isolation Forest & PCoA (bray-curtis) based on the feature matrix\"')\n",
    "pcoa_2d(\n",
    "    matrix= metric_df,\n",
    "    data = SC,\n",
    "    metric= 'braycurtis',\n",
    "    filename_col = 'filename',\n",
    "    group_col='anomaly_LOF',\n",
    "    title='\"Local outlier factor & PCoA (bray-curtis) based on the feature matrix\"')\n",
    "\n",
    "pcoa_2d(\n",
    "    matrix= metric_df,\n",
    "    data = SC,\n",
    "    metric= 'braycurtis',\n",
    "    filename_col = 'filename',\n",
    "    group_col='anomaly_OCSVM',\n",
    "    title='\"One-class support vector machine & PCoA (bray-curtis) based on the feature matrix\"')"
   ]
  },
  {
   "cell_type": "markdown",
   "metadata": {},
   "source": [
    "# Class component (SC)"
   ]
  },
  {
   "cell_type": "markdown",
   "metadata": {},
   "source": [
    "### CC.1. Retrive and clean the predicted chemical classes from Sirius"
   ]
  },
  {
   "cell_type": "code",
   "execution_count": 47,
   "metadata": {},
   "outputs": [],
   "source": [
    "sirus_classes_df = sirius_classes(specificity_df, metadata_df,canopus_npc_df, min_recurrence, CC_component)\n",
    "#sirus_classes_df.head(2)"
   ]
  },
  {
   "cell_type": "markdown",
   "metadata": {},
   "source": [
    "#### CC.2. Search for reported chemical classes according to the species in the set"
   ]
  },
  {
   "cell_type": "code",
   "execution_count": 48,
   "metadata": {},
   "outputs": [],
   "source": [
    "reported_classes_df = search_reported_class(metadata_df, CC_component)\n",
    "#reported_classes_df.head(2)"
   ]
  },
  {
   "cell_type": "markdown",
   "metadata": {},
   "source": [
    "#### CC.3. CC computation"
   ]
  },
  {
   "cell_type": "code",
   "execution_count": 49,
   "metadata": {},
   "outputs": [
    {
     "data": {
      "text/html": [
       "<div>\n",
       "<style scoped>\n",
       "    .dataframe tbody tr th:only-of-type {\n",
       "        vertical-align: middle;\n",
       "    }\n",
       "\n",
       "    .dataframe tbody tr th {\n",
       "        vertical-align: top;\n",
       "    }\n",
       "\n",
       "    .dataframe thead th {\n",
       "        text-align: right;\n",
       "    }\n",
       "</style>\n",
       "<table border=\"1\" class=\"dataframe\">\n",
       "  <thead>\n",
       "    <tr style=\"text-align: right;\">\n",
       "      <th></th>\n",
       "      <th>filename</th>\n",
       "      <th>ATTRIBUTE_Species</th>\n",
       "      <th>ATTRIBUTE_Genus</th>\n",
       "      <th>ATTRIBUTE_Family</th>\n",
       "      <th>ATTRIBUTE_Family</th>\n",
       "      <th>Chemical_class_reported_in_species</th>\n",
       "      <th>Chemical_class_reported_in_genus</th>\n",
       "      <th>classe</th>\n",
       "      <th>New_in_species</th>\n",
       "      <th>New_in_genus</th>\n",
       "      <th>CC</th>\n",
       "    </tr>\n",
       "  </thead>\n",
       "  <tbody>\n",
       "    <tr>\n",
       "      <th>0</th>\n",
       "      <td>LQ-01-61-01_pos.mzXML</td>\n",
       "      <td>Catha edulis</td>\n",
       "      <td>Catha</td>\n",
       "      <td>Celastraceae</td>\n",
       "      <td>Celastraceae</td>\n",
       "      <td>{Aminoacids, Pyridine alkaloids, Agarofuran se...</td>\n",
       "      <td>{Aminoacids, Pyridine alkaloids, Agarofuran se...</td>\n",
       "      <td>{Pyridine alkaloids, Agarofuran sesquiterpenoids}</td>\n",
       "      <td>{}</td>\n",
       "      <td>{}</td>\n",
       "      <td>0.0</td>\n",
       "    </tr>\n",
       "    <tr>\n",
       "      <th>1</th>\n",
       "      <td>LQ-01-61-02_pos.mzXML</td>\n",
       "      <td>0</td>\n",
       "      <td>0</td>\n",
       "      <td>0</td>\n",
       "      <td>0</td>\n",
       "      <td>0</td>\n",
       "      <td>0</td>\n",
       "      <td>0</td>\n",
       "      <td>0</td>\n",
       "      <td>0</td>\n",
       "      <td>0.0</td>\n",
       "    </tr>\n",
       "    <tr>\n",
       "      <th>2</th>\n",
       "      <td>LQ-01-61-03_pos.mzXML</td>\n",
       "      <td>Catha edulis</td>\n",
       "      <td>Catha</td>\n",
       "      <td>Celastraceae</td>\n",
       "      <td>Celastraceae</td>\n",
       "      <td>{Aminoacids, Pyridine alkaloids, Agarofuran se...</td>\n",
       "      <td>{Aminoacids, Pyridine alkaloids, Agarofuran se...</td>\n",
       "      <td>{Tetraketide meroterpenoids}</td>\n",
       "      <td>{Tetraketide meroterpenoids}</td>\n",
       "      <td>{Tetraketide meroterpenoids}</td>\n",
       "      <td>1.0</td>\n",
       "    </tr>\n",
       "    <tr>\n",
       "      <th>3</th>\n",
       "      <td>LQ-01-61-04_pos.mzXML</td>\n",
       "      <td>Catha edulis</td>\n",
       "      <td>Catha</td>\n",
       "      <td>Celastraceae</td>\n",
       "      <td>Celastraceae</td>\n",
       "      <td>{Aminoacids, Pyridine alkaloids, Agarofuran se...</td>\n",
       "      <td>{Aminoacids, Pyridine alkaloids, Agarofuran se...</td>\n",
       "      <td>{Pyridine alkaloids, Agarofuran sesquiterpenoids}</td>\n",
       "      <td>{}</td>\n",
       "      <td>{}</td>\n",
       "      <td>0.0</td>\n",
       "    </tr>\n",
       "    <tr>\n",
       "      <th>4</th>\n",
       "      <td>LQ-01-61-05_pos.mzXML</td>\n",
       "      <td>Celastrus orbiculatus</td>\n",
       "      <td>Celastrus</td>\n",
       "      <td>Celastraceae</td>\n",
       "      <td>Celastraceae</td>\n",
       "      <td>{Flavan-3-ols, Menthane monoterpenoids|Monocyc...</td>\n",
       "      <td>{Flavan-3-ols, Menthane monoterpenoids|Monocyc...</td>\n",
       "      <td>{Pyridine alkaloids, Agarofuran sesquiterpenoi...</td>\n",
       "      <td>{Pyridine alkaloids}</td>\n",
       "      <td>{Pyridine alkaloids}</td>\n",
       "      <td>1.0</td>\n",
       "    </tr>\n",
       "    <tr>\n",
       "      <th>...</th>\n",
       "      <td>...</td>\n",
       "      <td>...</td>\n",
       "      <td>...</td>\n",
       "      <td>...</td>\n",
       "      <td>...</td>\n",
       "      <td>...</td>\n",
       "      <td>...</td>\n",
       "      <td>...</td>\n",
       "      <td>...</td>\n",
       "      <td>...</td>\n",
       "      <td>...</td>\n",
       "    </tr>\n",
       "    <tr>\n",
       "      <th>71</th>\n",
       "      <td>LQ-01-61-72_pos.mzXML</td>\n",
       "      <td>0</td>\n",
       "      <td>0</td>\n",
       "      <td>0</td>\n",
       "      <td>0</td>\n",
       "      <td>0</td>\n",
       "      <td>0</td>\n",
       "      <td>0</td>\n",
       "      <td>0</td>\n",
       "      <td>0</td>\n",
       "      <td>0.0</td>\n",
       "    </tr>\n",
       "    <tr>\n",
       "      <th>72</th>\n",
       "      <td>LQ-01-61-73_pos.mzXML</td>\n",
       "      <td>Tripterygium hypoglaucum</td>\n",
       "      <td>Tripterygium</td>\n",
       "      <td>Celastraceae</td>\n",
       "      <td>Celastraceae</td>\n",
       "      <td>{Norkaurane diterpenoids, Abeoabietane diterpe...</td>\n",
       "      <td>{Lupane triterpenoids|Ursane and Taraxastane t...</td>\n",
       "      <td>{Pyridine alkaloids}</td>\n",
       "      <td>{}</td>\n",
       "      <td>{}</td>\n",
       "      <td>0.0</td>\n",
       "    </tr>\n",
       "    <tr>\n",
       "      <th>73</th>\n",
       "      <td>LQ-01-61-74_pos.mzXML</td>\n",
       "      <td>0</td>\n",
       "      <td>0</td>\n",
       "      <td>0</td>\n",
       "      <td>0</td>\n",
       "      <td>0</td>\n",
       "      <td>0</td>\n",
       "      <td>0</td>\n",
       "      <td>0</td>\n",
       "      <td>0</td>\n",
       "      <td>0.0</td>\n",
       "    </tr>\n",
       "    <tr>\n",
       "      <th>74</th>\n",
       "      <td>LQ-01-61-75_pos.mzXML</td>\n",
       "      <td>Tripterygium wilfordii</td>\n",
       "      <td>Tripterygium</td>\n",
       "      <td>Celastraceae</td>\n",
       "      <td>Celastraceae</td>\n",
       "      <td>{Lupane triterpenoids|Ursane and Taraxastane t...</td>\n",
       "      <td>{Lupane triterpenoids|Ursane and Taraxastane t...</td>\n",
       "      <td>{Pregnane steroids}</td>\n",
       "      <td>{Pregnane steroids}</td>\n",
       "      <td>{Pregnane steroids}</td>\n",
       "      <td>1.0</td>\n",
       "    </tr>\n",
       "    <tr>\n",
       "      <th>75</th>\n",
       "      <td>LQ-01-61-78_pos.mzXML</td>\n",
       "      <td>Pristimera indica</td>\n",
       "      <td>Pristimera</td>\n",
       "      <td>Celastraceae</td>\n",
       "      <td>Celastraceae</td>\n",
       "      <td>{Cucurbitane triterpenoids}</td>\n",
       "      <td>{Cucurbitane triterpenoids}</td>\n",
       "      <td>{Primary amides, Agarofuran sesquiterpenoids}</td>\n",
       "      <td>{Primary amides, Agarofuran sesquiterpenoids}</td>\n",
       "      <td>{Primary amides, Agarofuran sesquiterpenoids}</td>\n",
       "      <td>1.0</td>\n",
       "    </tr>\n",
       "  </tbody>\n",
       "</table>\n",
       "<p>76 rows × 11 columns</p>\n",
       "</div>"
      ],
      "text/plain": [
       "                 filename         ATTRIBUTE_Species ATTRIBUTE_Genus  \\\n",
       "0   LQ-01-61-01_pos.mzXML              Catha edulis           Catha   \n",
       "1   LQ-01-61-02_pos.mzXML                         0               0   \n",
       "2   LQ-01-61-03_pos.mzXML              Catha edulis           Catha   \n",
       "3   LQ-01-61-04_pos.mzXML              Catha edulis           Catha   \n",
       "4   LQ-01-61-05_pos.mzXML     Celastrus orbiculatus       Celastrus   \n",
       "..                    ...                       ...             ...   \n",
       "71  LQ-01-61-72_pos.mzXML                         0               0   \n",
       "72  LQ-01-61-73_pos.mzXML  Tripterygium hypoglaucum    Tripterygium   \n",
       "73  LQ-01-61-74_pos.mzXML                         0               0   \n",
       "74  LQ-01-61-75_pos.mzXML    Tripterygium wilfordii    Tripterygium   \n",
       "75  LQ-01-61-78_pos.mzXML         Pristimera indica      Pristimera   \n",
       "\n",
       "   ATTRIBUTE_Family ATTRIBUTE_Family  \\\n",
       "0      Celastraceae     Celastraceae   \n",
       "1                 0                0   \n",
       "2      Celastraceae     Celastraceae   \n",
       "3      Celastraceae     Celastraceae   \n",
       "4      Celastraceae     Celastraceae   \n",
       "..              ...              ...   \n",
       "71                0                0   \n",
       "72     Celastraceae     Celastraceae   \n",
       "73                0                0   \n",
       "74     Celastraceae     Celastraceae   \n",
       "75     Celastraceae     Celastraceae   \n",
       "\n",
       "                   Chemical_class_reported_in_species  \\\n",
       "0   {Aminoacids, Pyridine alkaloids, Agarofuran se...   \n",
       "1                                                   0   \n",
       "2   {Aminoacids, Pyridine alkaloids, Agarofuran se...   \n",
       "3   {Aminoacids, Pyridine alkaloids, Agarofuran se...   \n",
       "4   {Flavan-3-ols, Menthane monoterpenoids|Monocyc...   \n",
       "..                                                ...   \n",
       "71                                                  0   \n",
       "72  {Norkaurane diterpenoids, Abeoabietane diterpe...   \n",
       "73                                                  0   \n",
       "74  {Lupane triterpenoids|Ursane and Taraxastane t...   \n",
       "75                        {Cucurbitane triterpenoids}   \n",
       "\n",
       "                     Chemical_class_reported_in_genus  \\\n",
       "0   {Aminoacids, Pyridine alkaloids, Agarofuran se...   \n",
       "1                                                   0   \n",
       "2   {Aminoacids, Pyridine alkaloids, Agarofuran se...   \n",
       "3   {Aminoacids, Pyridine alkaloids, Agarofuran se...   \n",
       "4   {Flavan-3-ols, Menthane monoterpenoids|Monocyc...   \n",
       "..                                                ...   \n",
       "71                                                  0   \n",
       "72  {Lupane triterpenoids|Ursane and Taraxastane t...   \n",
       "73                                                  0   \n",
       "74  {Lupane triterpenoids|Ursane and Taraxastane t...   \n",
       "75                        {Cucurbitane triterpenoids}   \n",
       "\n",
       "                                               classe  \\\n",
       "0   {Pyridine alkaloids, Agarofuran sesquiterpenoids}   \n",
       "1                                                   0   \n",
       "2                        {Tetraketide meroterpenoids}   \n",
       "3   {Pyridine alkaloids, Agarofuran sesquiterpenoids}   \n",
       "4   {Pyridine alkaloids, Agarofuran sesquiterpenoi...   \n",
       "..                                                ...   \n",
       "71                                                  0   \n",
       "72                               {Pyridine alkaloids}   \n",
       "73                                                  0   \n",
       "74                                {Pregnane steroids}   \n",
       "75      {Primary amides, Agarofuran sesquiterpenoids}   \n",
       "\n",
       "                                   New_in_species  \\\n",
       "0                                              {}   \n",
       "1                                               0   \n",
       "2                    {Tetraketide meroterpenoids}   \n",
       "3                                              {}   \n",
       "4                            {Pyridine alkaloids}   \n",
       "..                                            ...   \n",
       "71                                              0   \n",
       "72                                             {}   \n",
       "73                                              0   \n",
       "74                            {Pregnane steroids}   \n",
       "75  {Primary amides, Agarofuran sesquiterpenoids}   \n",
       "\n",
       "                                     New_in_genus   CC  \n",
       "0                                              {}  0.0  \n",
       "1                                               0  0.0  \n",
       "2                    {Tetraketide meroterpenoids}  1.0  \n",
       "3                                              {}  0.0  \n",
       "4                            {Pyridine alkaloids}  1.0  \n",
       "..                                            ...  ...  \n",
       "71                                              0  0.0  \n",
       "72                                             {}  0.0  \n",
       "73                                              0  0.0  \n",
       "74                            {Pregnane steroids}  1.0  \n",
       "75  {Primary amides, Agarofuran sesquiterpenoids}  1.0  \n",
       "\n",
       "[76 rows x 11 columns]"
      ]
     },
     "execution_count": 49,
     "metadata": {},
     "output_type": "execute_result"
    }
   ],
   "source": [
    "CC = class_component(reported_classes_df, sirus_classes_df, metadata_df, CC_component)\n",
    "CC"
   ]
  },
  {
   "cell_type": "markdown",
   "metadata": {},
   "source": [
    "# Priority rank Results"
   ]
  },
  {
   "cell_type": "code",
   "execution_count": 50,
   "metadata": {},
   "outputs": [],
   "source": [
    "PR = priority_rank(FC, LC, SC, CC, LC_component, SC_component, CC_component, w1, w2, w3, w4)\n",
    "#PR.head()"
   ]
  },
  {
   "cell_type": "markdown",
   "metadata": {},
   "source": [
    "### Display results"
   ]
  },
  {
   "cell_type": "code",
   "execution_count": 51,
   "metadata": {},
   "outputs": [
    {
     "data": {
      "application/vnd.jupyter.widget-view+json": {
       "model_id": "d00f89312859432b9ea1b35a98931b1a",
       "version_major": 2,
       "version_minor": 0
      },
      "text/plain": [
       "interactive(children=(LineUpWidget(value=[], description='selection', layout=Layout(align_self='stretch', heig…"
      ]
     },
     "metadata": {},
     "output_type": "display_data"
    }
   ],
   "source": [
    "#Show the results in an interactive way\n",
    "def selection_changed(selection):\n",
    "    return PR.iloc[selection]\n",
    "interact(selection_changed, selection=lineup_widget.LineUpWidget(PR));"
   ]
  },
  {
   "cell_type": "code",
   "execution_count": 52,
   "metadata": {},
   "outputs": [],
   "source": [
    "#Save it as .csv \n",
    "PR.to_csv('../results/INVENTA_results.tsv', sep='\\t')"
   ]
  }
 ],
 "metadata": {
  "interpreter": {
   "hash": "2c38b6a57c2d4f85bcd8a646c69c70f453ebfd581092159d4a2b022d1b3585cd"
  },
  "kernelspec": {
   "display_name": "Python 3 (ipykernel)",
   "language": "python",
   "name": "python3"
  },
  "language_info": {
   "codemirror_mode": {
    "name": "ipython",
    "version": 3
   },
   "file_extension": ".py",
   "mimetype": "text/x-python",
   "name": "python",
   "nbconvert_exporter": "python",
   "pygments_lexer": "ipython3",
   "version": "3.7.12"
  }
 },
 "nbformat": 4,
 "nbformat_minor": 4
}
