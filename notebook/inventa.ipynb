{
 "cells": [
  {
   "cell_type": "markdown",
   "metadata": {},
   "source": [
    "# INVENTA - Prioritization of natural extracts for chemical originality discovery\n"
   ]
  },
  {
   "cell_type": "code",
   "execution_count": 14,
   "metadata": {},
   "outputs": [
    {
     "name": "stdout",
     "output_type": "stream",
     "text": [
      "Enabling notebook extension lineup_widget/extension...\n",
      "      - Validating: \u001b[32mOK\u001b[0m\n"
     ]
    }
   ],
   "source": [
    "from __future__ import print_function\n",
    "from IPython.core.display import HTML\n",
    "HTML(\"<script>Jupyter.notebook.kernel.restart()</script>\")\n",
    "import numpy as np\n",
    "import pandas as pd\n",
    "import sys \n",
    "import lineup_widget\n",
    "from ipywidgets import *\n",
    "!jupyter nbextension enable --py --sys-prefix lineup_widget\n",
    "\n",
    "\n",
    "sys.path.append('../src')\n",
    "sys.path.append('../gnps_postprocessing/src') \n",
    "\n",
    "from import_data import*\n",
    "from process_data import *\n",
    "from FC import *\n",
    "from LC import *\n",
    "from SC import *\n",
    "from CC import *\n",
    "from plot import *\n",
    "\n",
    "from gnps_download_results import *\n",
    "from consolidates_structures import *\n",
    "from gnps_results_postprocess import *"
   ]
  },
  {
   "cell_type": "markdown",
   "metadata": {},
   "source": [
    "# Paths and parameters to define"
   ]
  },
  {
   "cell_type": "code",
   "execution_count": 15,
   "metadata": {},
   "outputs": [],
   "source": [
    "#paths:\n",
    "\n",
    "metadata_filename = '../data/Celastraceae_Set_metadata_pos.tsv'                      # The path were you want your folder to be placed\n",
    "quantitative_data_filename = '../data/Celastraceae_pos_quant.csv'                    # The path were you want your GNPS job folder to be placed\n",
    "tima_results_filename = '../data/Celastraceae_pos_spectral_match_results_repond.tsv' # ISDB_annot_LP_plantfungi_set # The name you want to give to your project, output resulst in data_out/project_name\n",
    "vectorized_data_filename = '../data/Celastraceae_memomatrix.csv'                     # the path for your output to be stored in\n",
    "canopus_npc_summary_filename = '../data/canopus_npc_summary.tsv'                     # Path to your spectral library file\n",
    "sirius_annotations_filename = '../data/compound_identifications.tsv'                 # Path to the metadata of the spectral file\n",
    "\n",
    "job_id=  '4c919fcbc83d487493a487012afb920a'  #\"yourjobidgoeshere\"  "
   ]
  },
  {
   "cell_type": "code",
   "execution_count": 16,
   "metadata": {},
   "outputs": [],
   "source": [
    "# metadata \n",
    "\n",
    "species_column = 'ATTRIBUTE_Species'\n",
    "genus_column = 'ATTRIBUTE_Genus'\n",
    "family_column = 'ATTRIBUTE_Family'\n",
    "organe_column = 'ATTRIBUTE_Organe'\n",
    "filename_header = 'filename'"
   ]
  },
  {
   "cell_type": "code",
   "execution_count": 27,
   "metadata": {},
   "outputs": [],
   "source": [
    "# parameters\n",
    "\n",
    "#For cleaning-up annotations from GNPS \n",
    "\n",
    "max_ppm_error = 5                 # min error in ppm to consider an annotation valable\n",
    "shared_peaks = 4                 # min number of shared peaks between the MS2 experimental and MS2 from the database, to consider an annotation valable\n",
    "min_cosine = 0.6                  # min cosine score to consider an annotation valable\n",
    "ionisation_mode = 'neg'           # ionisation mode according to experimental conditions\n",
    "max_spec_charge = 2"
   ]
  },
  {
   "cell_type": "code",
   "execution_count": 18,
   "metadata": {},
   "outputs": [],
   "source": [
    "#Feature_component\n",
    "\n",
    "min_specificity = 0.9               # minimun feature specificity to consider\n",
    "\n",
    "## inputs to use: \n",
    "isdb_annotations = True          # True: the tima_results_filename will be considered in the calculations\n",
    "sirius_annotations = True         #True: the sirius_annotations_filename will be considered in the calculations\n",
    "\n",
    "## cut-offs: \n",
    "min_score_final = 0.3             #cut-off filter for considering an isdb annotation valable. You must be extremenly carefull with this parameter, '0.0' as default.\n",
    "min_ZodiacScore = 0.9             #cut-off filter for considering a sirius annotation valable. It is used in combination with min_ConfidenceScore.\n",
    "min_ConfidenceScore= 0.25         #cut-off filter for considering a sirius annotation valable. '0.0' as default.\n",
    "\n",
    "annotation_preference = 0          # Only Annotated features: '1' or  Only Not annotated features: '0'"
   ]
  },
  {
   "cell_type": "code",
   "execution_count": 19,
   "metadata": {},
   "outputs": [],
   "source": [
    "#Literature_component\n",
    "\n",
    "LC_component = True               # LC will be calculated\n",
    "\n",
    "max_comp_reported_sp = 20          # max number of compounds reported at species level, more than this value, the plant is considered less interesting\n",
    "max_comp_reported_g = 100          # max number of compounds reported at genus level,more than this value, the plant is considered less interesting\n",
    "max_comp_reported_f = 500           # max number of compounds reported at genus level,more than this value, the plant is considered less interesting"
   ]
  },
  {
   "cell_type": "code",
   "execution_count": 20,
   "metadata": {},
   "outputs": [],
   "source": [
    "#Similarity_component\n",
    "\n",
    "SC_component = True                # SC will be calculated\n",
    "\n",
    "#Class_component\n",
    "\n",
    "CC_component = True               # CC will be calculated\n",
    "min_class_confidence = 0.8       #cut-off filter for considering a sirius class valable. It is used in combination with min_recurrence.\n",
    "min_recurrence = 5               # minimum recurrence of a chemical class to consider it acceptable"
   ]
  },
  {
   "cell_type": "code",
   "execution_count": 21,
   "metadata": {},
   "outputs": [],
   "source": [
    "#specify the weight to modulate each component \n",
    "w1 = 1           # 1 means the value itself is taken into account. A 0.5 means onle half of the calculated value is taken into account\n",
    "w2 = 1\n",
    "w3 = 1\n",
    "w4 = 1"
   ]
  },
  {
   "cell_type": "markdown",
   "metadata": {},
   "source": [
    "# Prepare input files\n",
    "\n",
    "### Download and clean the GNPS results"
   ]
  },
  {
   "cell_type": "code",
   "execution_count": 28,
   "metadata": {},
   "outputs": [
    {
     "name": "stdout",
     "output_type": "stream",
     "text": [
      "==================\n",
      "This is the GNPS job link: https://gnps.ucsd.edu/ProteoSAFe/status.jsp?task=0edc96db3a794655bbd6ed13c2988bb0\n",
      "Downloading the following content: https://gnps.ucsd.edu/ProteoSAFe/DownloadResult?task=0edc96db3a794655bbd6ed13c2988bb0&view=view_all_annotations_DB\n"
     ]
    },
    {
     "name": "stderr",
     "output_type": "stream",
     "text": [
      "  % Total    % Received % Xferd  Average Speed   Time    Time     Time  Current\n",
      "                                 Dload  Upload   Total   Spent    Left  Speed\n",
      "100  211k    0  211k    0     0   126k      0 --:--:--  0:00:01 --:--:--  126k\n"
     ]
    },
    {
     "name": "stdout",
     "output_type": "stream",
     "text": [
      "GNPS job results were succesfully downloaded as: ../data/all_annotations.zip\n",
      "GNPS job results were succesfully extracted into the folder: ../data/all_annotations\n",
      "==================\n",
      "==================\n",
      "   FEATURE-BASED MOLECULAR NETWORKING job detected - Version > 28\n",
      "==================\n",
      "      39 spectral library annotations in the job.\n",
      "==================\n",
      "      213 nodes in the network (including single nodes).\n"
     ]
    }
   ],
   "source": [
    "df_annotations = gnps_download_results(job_id, output_folder ='../data/all_annotations', return_annotation_table=True)\n",
    "#df_annotations.head()"
   ]
  },
  {
   "cell_type": "markdown",
   "metadata": {},
   "source": [
    "##### Clean and consolidate gnps annotations"
   ]
  },
  {
   "cell_type": "code",
   "execution_count": 29,
   "metadata": {},
   "outputs": [
    {
     "name": "stdout",
     "output_type": "stream",
     "text": [
      "Both SMILES and InChI were inputted\n",
      "Converting SMILES to mol object\n",
      "Succesfully converted to mol object: 30\n",
      "Exception to the parsing: 0\n",
      "Not available: 10\n",
      "Converting INCHI to mol object\n",
      "Succesfully converted to mol object: 27\n",
      "Exception to the parsing: 0\n",
      "Not available: 13\n",
      "Consolidating the lists\n",
      "Total mol object from the list 1 = 30\n",
      "Mol object consolidated from list 2 = 3\n",
      "Consolidated structures = 33\n",
      "Converting mol objects to SMILES iso\n",
      "Converting mol objects to SMILES\n",
      "Converting mol objects to InChI\n",
      "Converting mol objects to InChIKey\n",
      "End\n"
     ]
    }
   ],
   "source": [
    "# Consolidate structure identifiers\n",
    "gnps_annotations_consolidated  = consolidate_and_convert_structures(df_annotations, prefix='', smiles='Smiles', inchi='INCHI')\n"
   ]
  },
  {
   "cell_type": "code",
   "execution_count": 30,
   "metadata": {},
   "outputs": [
    {
     "name": "stdout",
     "output_type": "stream",
     "text": [
      "Initial number of annotations: 40\n",
      "Remaining after ionisation mode filtering: 1\n",
      "Remaining after max_ppm_error filtering: 0\n",
      "Remaining after min_cosine filtering: 0\n",
      "Remaining after number of shared_peaks filtering: 0\n",
      "Remaining after number of spectrum charge filtering: 0\n"
     ]
    }
   ],
   "source": [
    "# Filter GNPS annotations\n",
    "gnps_annotations_filtered = gnps_filter_annotations(gnps_annotations_consolidated, 'Consol_InChI', ionisation_mode, max_ppm_error, min_cosine, shared_peaks, max_spec_charge)"
   ]
  },
  {
   "cell_type": "code",
   "execution_count": 31,
   "metadata": {},
   "outputs": [
    {
     "name": "stdout",
     "output_type": "stream",
     "text": [
      "Initial number of annotations filtering: 0\n",
      "After carbon containing adducts filtering: 0\n",
      "Valid molecular formula: 0\n"
     ]
    }
   ],
   "source": [
    "# Generate annotation attributes\n",
    "annot_gnps_df = get_gnps_annotations(get_molecular_formula_from_inchi(gnps_annotations_filtered, 'Consol_InChI'))\n",
    "#annot_gnps_df.head(2)"
   ]
  },
  {
   "cell_type": "markdown",
   "metadata": {},
   "source": [
    "### Load computational annotation results files "
   ]
  },
  {
   "cell_type": "code",
   "execution_count": 51,
   "metadata": {},
   "outputs": [],
   "source": [
    "annot_is_df       = get_isdb_annotations(tima_results_filename, isdb_annotations)\n",
    "annot_sirius_df   = get_sirius_annotations(sirius_annotations_filename, sirius_annotations) \n",
    "canopus_npc_df    = get_canopus_pred_classes(canopus_npc_summary_filename, CC_component)"
   ]
  },
  {
   "cell_type": "markdown",
   "metadata": {},
   "source": [
    "### Metadata table"
   ]
  },
  {
   "cell_type": "code",
   "execution_count": 52,
   "metadata": {},
   "outputs": [
    {
     "data": {
      "text/html": [
       "<div>\n",
       "<style scoped>\n",
       "    .dataframe tbody tr th:only-of-type {\n",
       "        vertical-align: middle;\n",
       "    }\n",
       "\n",
       "    .dataframe tbody tr th {\n",
       "        vertical-align: top;\n",
       "    }\n",
       "\n",
       "    .dataframe thead th {\n",
       "        text-align: right;\n",
       "    }\n",
       "</style>\n",
       "<table border=\"1\" class=\"dataframe\">\n",
       "  <thead>\n",
       "    <tr style=\"text-align: right;\">\n",
       "      <th></th>\n",
       "      <th>filename</th>\n",
       "      <th>ATTRIBUTE_Code</th>\n",
       "      <th>ATTRIBUTE_Type</th>\n",
       "      <th>ATTRIBUTE_Family</th>\n",
       "      <th>ATTRIBUTE_Genus</th>\n",
       "      <th>ATTRIBUTE_Species</th>\n",
       "      <th>ATTRIBUTE_Organe</th>\n",
       "      <th>ATTRIBUTE_Broad_organ</th>\n",
       "      <th>ATTRIBUTE_Tissue</th>\n",
       "      <th>ATTRIBUTE_Subsystem</th>\n",
       "    </tr>\n",
       "  </thead>\n",
       "  <tbody>\n",
       "    <tr>\n",
       "      <th>0</th>\n",
       "      <td>LQ-01-61-01_pos.mzXML</td>\n",
       "      <td>V107694</td>\n",
       "      <td>Sample</td>\n",
       "      <td>Celastraceae</td>\n",
       "      <td>Catha</td>\n",
       "      <td>Catha edulis</td>\n",
       "      <td>Leaves</td>\n",
       "      <td>photosynthetic</td>\n",
       "      <td>green tissue</td>\n",
       "      <td>aboveground</td>\n",
       "    </tr>\n",
       "    <tr>\n",
       "      <th>1</th>\n",
       "      <td>LQ-01-61-02_pos.mzXML</td>\n",
       "      <td>V107695</td>\n",
       "      <td>Sample</td>\n",
       "      <td>Celastraceae</td>\n",
       "      <td>Catha</td>\n",
       "      <td>Catha edulis</td>\n",
       "      <td>Stems</td>\n",
       "      <td>woody vegetative</td>\n",
       "      <td>woody tissue</td>\n",
       "      <td>aboveground</td>\n",
       "    </tr>\n",
       "    <tr>\n",
       "      <th>2</th>\n",
       "      <td>LQ-01-61-03_pos.mzXML</td>\n",
       "      <td>V107696</td>\n",
       "      <td>Sample</td>\n",
       "      <td>Celastraceae</td>\n",
       "      <td>Catha</td>\n",
       "      <td>Catha edulis</td>\n",
       "      <td>Roots</td>\n",
       "      <td>roots</td>\n",
       "      <td>root tissue</td>\n",
       "      <td>belowground</td>\n",
       "    </tr>\n",
       "  </tbody>\n",
       "</table>\n",
       "</div>"
      ],
      "text/plain": [
       "                filename ATTRIBUTE_Code ATTRIBUTE_Type ATTRIBUTE_Family  \\\n",
       "0  LQ-01-61-01_pos.mzXML        V107694         Sample     Celastraceae   \n",
       "1  LQ-01-61-02_pos.mzXML        V107695         Sample     Celastraceae   \n",
       "2  LQ-01-61-03_pos.mzXML        V107696         Sample     Celastraceae   \n",
       "\n",
       "  ATTRIBUTE_Genus ATTRIBUTE_Species ATTRIBUTE_Organe ATTRIBUTE_Broad_organ  \\\n",
       "0           Catha      Catha edulis           Leaves        photosynthetic   \n",
       "1           Catha      Catha edulis            Stems      woody vegetative   \n",
       "2           Catha      Catha edulis            Roots                 roots   \n",
       "\n",
       "  ATTRIBUTE_Tissue ATTRIBUTE_Subsystem  \n",
       "0     green tissue         aboveground  \n",
       "1     woody tissue         aboveground  \n",
       "2      root tissue         belowground  "
      ]
     },
     "execution_count": 52,
     "metadata": {},
     "output_type": "execute_result"
    }
   ],
   "source": [
    "metadata_df = pd.read_csv(metadata_filename, sep='\\t')\n",
    "metadata_df.head(3)"
   ]
  },
  {
   "cell_type": "code",
   "execution_count": 53,
   "metadata": {},
   "outputs": [],
   "source": [
    "#if you need to create an unique identifier column like Species|part, use as model the followin line. IF the colum is PRESENT, then don't run it.\n",
    "metadata_df['ATTRIBUTE_Sppart'] = metadata_df[species_column]+ \"|\" + metadata_df[organe_column].map(str)"
   ]
  },
  {
   "cell_type": "code",
   "execution_count": 54,
   "metadata": {},
   "outputs": [],
   "source": [
    "col_id_unique = 'ATTRIBUTE_Sppart'  # filename_header   #column containing an unique identifier for each sample, like Species_plantpart, Species_solvent. It could be the filename"
   ]
  },
  {
   "cell_type": "markdown",
   "metadata": {},
   "source": [
    "### Quantification table"
   ]
  },
  {
   "cell_type": "code",
   "execution_count": 55,
   "metadata": {},
   "outputs": [
    {
     "data": {
      "text/html": [
       "<div>\n",
       "<style scoped>\n",
       "    .dataframe tbody tr th:only-of-type {\n",
       "        vertical-align: middle;\n",
       "    }\n",
       "\n",
       "    .dataframe tbody tr th {\n",
       "        vertical-align: top;\n",
       "    }\n",
       "\n",
       "    .dataframe thead th {\n",
       "        text-align: right;\n",
       "    }\n",
       "</style>\n",
       "<table border=\"1\" class=\"dataframe\">\n",
       "  <thead>\n",
       "    <tr style=\"text-align: right;\">\n",
       "      <th></th>\n",
       "      <th>LQ-01-61-01_pos.mzXML</th>\n",
       "      <th>LQ-01-61-02_pos.mzXML</th>\n",
       "      <th>LQ-01-61-03_pos.mzXML</th>\n",
       "      <th>LQ-01-61-04_pos.mzXML</th>\n",
       "      <th>LQ-01-61-05_pos.mzXML</th>\n",
       "      <th>LQ-01-61-06_pos.mzXML</th>\n",
       "      <th>LQ-01-61-07_pos.mzXML</th>\n",
       "      <th>LQ-01-61-08_pos.mzXML</th>\n",
       "      <th>LQ-01-61-09_pos.mzXML</th>\n",
       "      <th>LQ-01-61-10_pos.mzXML</th>\n",
       "      <th>...</th>\n",
       "      <th>LQ-01-61-69_pos.mzXML</th>\n",
       "      <th>LQ-01-61-70_pos.mzXML</th>\n",
       "      <th>LQ-01-61-71_pos.mzXML</th>\n",
       "      <th>LQ-01-61-72_pos.mzXML</th>\n",
       "      <th>LQ-01-61-73_pos.mzXML</th>\n",
       "      <th>LQ-01-61-74_pos.mzXML</th>\n",
       "      <th>LQ-01-61-75_pos.mzXML</th>\n",
       "      <th>LQ-01-61-76_pos.mzXML</th>\n",
       "      <th>LQ-01-61-77_pos.mzXML</th>\n",
       "      <th>LQ-01-61-78_pos.mzXML</th>\n",
       "    </tr>\n",
       "    <tr>\n",
       "      <th>row ID</th>\n",
       "      <th></th>\n",
       "      <th></th>\n",
       "      <th></th>\n",
       "      <th></th>\n",
       "      <th></th>\n",
       "      <th></th>\n",
       "      <th></th>\n",
       "      <th></th>\n",
       "      <th></th>\n",
       "      <th></th>\n",
       "      <th></th>\n",
       "      <th></th>\n",
       "      <th></th>\n",
       "      <th></th>\n",
       "      <th></th>\n",
       "      <th></th>\n",
       "      <th></th>\n",
       "      <th></th>\n",
       "      <th></th>\n",
       "      <th></th>\n",
       "      <th></th>\n",
       "    </tr>\n",
       "  </thead>\n",
       "  <tbody>\n",
       "    <tr>\n",
       "      <th>1</th>\n",
       "      <td>2.600773e+09</td>\n",
       "      <td>3.134767e+07</td>\n",
       "      <td>8.413720e+07</td>\n",
       "      <td>6.925458e+07</td>\n",
       "      <td>0.0</td>\n",
       "      <td>0.0</td>\n",
       "      <td>0.0</td>\n",
       "      <td>0.0</td>\n",
       "      <td>3.256476e+06</td>\n",
       "      <td>0.0</td>\n",
       "      <td>...</td>\n",
       "      <td>0.0</td>\n",
       "      <td>0.0</td>\n",
       "      <td>0.0</td>\n",
       "      <td>0.0</td>\n",
       "      <td>0.0</td>\n",
       "      <td>0.0</td>\n",
       "      <td>0.0</td>\n",
       "      <td>0.0</td>\n",
       "      <td>0.0</td>\n",
       "      <td>0.0</td>\n",
       "    </tr>\n",
       "    <tr>\n",
       "      <th>2</th>\n",
       "      <td>8.860196e+08</td>\n",
       "      <td>1.964781e+07</td>\n",
       "      <td>8.688867e+06</td>\n",
       "      <td>2.214498e+09</td>\n",
       "      <td>0.0</td>\n",
       "      <td>0.0</td>\n",
       "      <td>0.0</td>\n",
       "      <td>0.0</td>\n",
       "      <td>1.639854e+06</td>\n",
       "      <td>0.0</td>\n",
       "      <td>...</td>\n",
       "      <td>0.0</td>\n",
       "      <td>0.0</td>\n",
       "      <td>0.0</td>\n",
       "      <td>0.0</td>\n",
       "      <td>0.0</td>\n",
       "      <td>0.0</td>\n",
       "      <td>0.0</td>\n",
       "      <td>0.0</td>\n",
       "      <td>0.0</td>\n",
       "      <td>0.0</td>\n",
       "    </tr>\n",
       "    <tr>\n",
       "      <th>3</th>\n",
       "      <td>8.544583e+08</td>\n",
       "      <td>2.594163e+07</td>\n",
       "      <td>0.000000e+00</td>\n",
       "      <td>4.612163e+08</td>\n",
       "      <td>0.0</td>\n",
       "      <td>0.0</td>\n",
       "      <td>0.0</td>\n",
       "      <td>0.0</td>\n",
       "      <td>0.000000e+00</td>\n",
       "      <td>0.0</td>\n",
       "      <td>...</td>\n",
       "      <td>0.0</td>\n",
       "      <td>0.0</td>\n",
       "      <td>0.0</td>\n",
       "      <td>0.0</td>\n",
       "      <td>0.0</td>\n",
       "      <td>0.0</td>\n",
       "      <td>0.0</td>\n",
       "      <td>0.0</td>\n",
       "      <td>0.0</td>\n",
       "      <td>0.0</td>\n",
       "    </tr>\n",
       "  </tbody>\n",
       "</table>\n",
       "<p>3 rows × 78 columns</p>\n",
       "</div>"
      ],
      "text/plain": [
       "        LQ-01-61-01_pos.mzXML  LQ-01-61-02_pos.mzXML  LQ-01-61-03_pos.mzXML  \\\n",
       "row ID                                                                        \n",
       "1                2.600773e+09           3.134767e+07           8.413720e+07   \n",
       "2                8.860196e+08           1.964781e+07           8.688867e+06   \n",
       "3                8.544583e+08           2.594163e+07           0.000000e+00   \n",
       "\n",
       "        LQ-01-61-04_pos.mzXML  LQ-01-61-05_pos.mzXML  LQ-01-61-06_pos.mzXML  \\\n",
       "row ID                                                                        \n",
       "1                6.925458e+07                    0.0                    0.0   \n",
       "2                2.214498e+09                    0.0                    0.0   \n",
       "3                4.612163e+08                    0.0                    0.0   \n",
       "\n",
       "        LQ-01-61-07_pos.mzXML  LQ-01-61-08_pos.mzXML  LQ-01-61-09_pos.mzXML  \\\n",
       "row ID                                                                        \n",
       "1                         0.0                    0.0           3.256476e+06   \n",
       "2                         0.0                    0.0           1.639854e+06   \n",
       "3                         0.0                    0.0           0.000000e+00   \n",
       "\n",
       "        LQ-01-61-10_pos.mzXML  ...  LQ-01-61-69_pos.mzXML  \\\n",
       "row ID                         ...                          \n",
       "1                         0.0  ...                    0.0   \n",
       "2                         0.0  ...                    0.0   \n",
       "3                         0.0  ...                    0.0   \n",
       "\n",
       "        LQ-01-61-70_pos.mzXML  LQ-01-61-71_pos.mzXML  LQ-01-61-72_pos.mzXML  \\\n",
       "row ID                                                                        \n",
       "1                         0.0                    0.0                    0.0   \n",
       "2                         0.0                    0.0                    0.0   \n",
       "3                         0.0                    0.0                    0.0   \n",
       "\n",
       "        LQ-01-61-73_pos.mzXML  LQ-01-61-74_pos.mzXML  LQ-01-61-75_pos.mzXML  \\\n",
       "row ID                                                                        \n",
       "1                         0.0                    0.0                    0.0   \n",
       "2                         0.0                    0.0                    0.0   \n",
       "3                         0.0                    0.0                    0.0   \n",
       "\n",
       "        LQ-01-61-76_pos.mzXML  LQ-01-61-77_pos.mzXML  LQ-01-61-78_pos.mzXML  \n",
       "row ID                                                                       \n",
       "1                         0.0                    0.0                    0.0  \n",
       "2                         0.0                    0.0                    0.0  \n",
       "3                         0.0                    0.0                    0.0  \n",
       "\n",
       "[3 rows x 78 columns]"
      ]
     },
     "execution_count": 55,
     "metadata": {},
     "output_type": "execute_result"
    }
   ],
   "source": [
    "#Quantitative table\n",
    "quant_df = pd.read_csv(quantitative_data_filename, sep=',',  index_col='row ID')\n",
    "quant_df = quant_table(quant_df)\n",
    "quant_df.head(3)"
   ]
  },
  {
   "cell_type": "markdown",
   "metadata": {},
   "source": [
    "#### Combined and remove experimental controls \n"
   ]
  },
  {
   "cell_type": "code",
   "execution_count": 56,
   "metadata": {},
   "outputs": [],
   "source": [
    "# merge tables\n",
    "full_df = full_data(metadata_df,quant_df)\n",
    "#full_df.head(2)"
   ]
  },
  {
   "cell_type": "code",
   "execution_count": 57,
   "metadata": {},
   "outputs": [
    {
     "name": "stdout",
     "output_type": "stream",
     "text": [
      "(78, 14981)\n",
      "(76, 14981)\n",
      "(77, 11)\n",
      "(76, 11)\n"
     ]
    }
   ],
   "source": [
    "#erase all the blanks and QC's - Change the string as needed\n",
    "list_of_strings_for_QC_Blank_filter = ['Blank', 'QC']\n",
    "column_to_use_for_filtering = 'ATTRIBUTE_Type' #this information should be included in the metadata table\n",
    "\n",
    "full_df = drop_samples_based_on_string(full_df,'full_df',list_of_strings_for_QC_Blank_filter, column_to_use_for_filtering)\n",
    "metadata_df = drop_samples_based_on_string(metadata_df, 'metadata_df', list_of_strings_for_QC_Blank_filter, column_to_use_for_filtering)"
   ]
  },
  {
   "cell_type": "markdown",
   "metadata": {},
   "source": [
    "##### Make a minimal table for further processing"
   ]
  },
  {
   "cell_type": "code",
   "execution_count": 58,
   "metadata": {},
   "outputs": [
    {
     "data": {
      "text/html": [
       "<div>\n",
       "<style scoped>\n",
       "    .dataframe tbody tr th:only-of-type {\n",
       "        vertical-align: middle;\n",
       "    }\n",
       "\n",
       "    .dataframe tbody tr th {\n",
       "        vertical-align: top;\n",
       "    }\n",
       "\n",
       "    .dataframe thead th {\n",
       "        text-align: right;\n",
       "    }\n",
       "</style>\n",
       "<table border=\"1\" class=\"dataframe\">\n",
       "  <thead>\n",
       "    <tr style=\"text-align: right;\">\n",
       "      <th></th>\n",
       "      <th>1</th>\n",
       "      <th>2</th>\n",
       "      <th>3</th>\n",
       "      <th>4</th>\n",
       "      <th>5</th>\n",
       "      <th>6</th>\n",
       "      <th>7</th>\n",
       "      <th>8</th>\n",
       "      <th>9</th>\n",
       "      <th>10</th>\n",
       "      <th>...</th>\n",
       "      <th>14961</th>\n",
       "      <th>14962</th>\n",
       "      <th>14963</th>\n",
       "      <th>14964</th>\n",
       "      <th>14965</th>\n",
       "      <th>14966</th>\n",
       "      <th>14967</th>\n",
       "      <th>14968</th>\n",
       "      <th>14969</th>\n",
       "      <th>14970</th>\n",
       "    </tr>\n",
       "    <tr>\n",
       "      <th>ATTRIBUTE_Sppart</th>\n",
       "      <th></th>\n",
       "      <th></th>\n",
       "      <th></th>\n",
       "      <th></th>\n",
       "      <th></th>\n",
       "      <th></th>\n",
       "      <th></th>\n",
       "      <th></th>\n",
       "      <th></th>\n",
       "      <th></th>\n",
       "      <th></th>\n",
       "      <th></th>\n",
       "      <th></th>\n",
       "      <th></th>\n",
       "      <th></th>\n",
       "      <th></th>\n",
       "      <th></th>\n",
       "      <th></th>\n",
       "      <th></th>\n",
       "      <th></th>\n",
       "      <th></th>\n",
       "    </tr>\n",
       "  </thead>\n",
       "  <tbody>\n",
       "    <tr>\n",
       "      <th>Catha edulis|Leaves</th>\n",
       "      <td>2.600773e+09</td>\n",
       "      <td>8.860196e+08</td>\n",
       "      <td>8.544583e+08</td>\n",
       "      <td>6.320161e+08</td>\n",
       "      <td>5.282800e+08</td>\n",
       "      <td>5.227184e+08</td>\n",
       "      <td>5.122110e+08</td>\n",
       "      <td>3.936131e+08</td>\n",
       "      <td>4.722463e+08</td>\n",
       "      <td>2.347275e+08</td>\n",
       "      <td>...</td>\n",
       "      <td>0.0</td>\n",
       "      <td>0.0</td>\n",
       "      <td>0.0</td>\n",
       "      <td>0.0</td>\n",
       "      <td>0.0</td>\n",
       "      <td>0.0</td>\n",
       "      <td>0.0</td>\n",
       "      <td>0.0</td>\n",
       "      <td>0.0</td>\n",
       "      <td>0.0</td>\n",
       "    </tr>\n",
       "    <tr>\n",
       "      <th>Catha edulis|Stems</th>\n",
       "      <td>3.134767e+07</td>\n",
       "      <td>1.964781e+07</td>\n",
       "      <td>2.594163e+07</td>\n",
       "      <td>0.000000e+00</td>\n",
       "      <td>7.494122e+06</td>\n",
       "      <td>2.107071e+08</td>\n",
       "      <td>0.000000e+00</td>\n",
       "      <td>5.018283e+07</td>\n",
       "      <td>1.859377e+07</td>\n",
       "      <td>3.222927e+08</td>\n",
       "      <td>...</td>\n",
       "      <td>0.0</td>\n",
       "      <td>0.0</td>\n",
       "      <td>0.0</td>\n",
       "      <td>0.0</td>\n",
       "      <td>0.0</td>\n",
       "      <td>0.0</td>\n",
       "      <td>0.0</td>\n",
       "      <td>0.0</td>\n",
       "      <td>0.0</td>\n",
       "      <td>0.0</td>\n",
       "    </tr>\n",
       "  </tbody>\n",
       "</table>\n",
       "<p>2 rows × 14970 columns</p>\n",
       "</div>"
      ],
      "text/plain": [
       "                                1             2             3             4  \\\n",
       "ATTRIBUTE_Sppart                                                              \n",
       "Catha edulis|Leaves  2.600773e+09  8.860196e+08  8.544583e+08  6.320161e+08   \n",
       "Catha edulis|Stems   3.134767e+07  1.964781e+07  2.594163e+07  0.000000e+00   \n",
       "\n",
       "                                5             6             7             8  \\\n",
       "ATTRIBUTE_Sppart                                                              \n",
       "Catha edulis|Leaves  5.282800e+08  5.227184e+08  5.122110e+08  3.936131e+08   \n",
       "Catha edulis|Stems   7.494122e+06  2.107071e+08  0.000000e+00  5.018283e+07   \n",
       "\n",
       "                                9            10  ...  14961  14962  14963  \\\n",
       "ATTRIBUTE_Sppart                                 ...                        \n",
       "Catha edulis|Leaves  4.722463e+08  2.347275e+08  ...    0.0    0.0    0.0   \n",
       "Catha edulis|Stems   1.859377e+07  3.222927e+08  ...    0.0    0.0    0.0   \n",
       "\n",
       "                     14964  14965  14966  14967  14968  14969  14970  \n",
       "ATTRIBUTE_Sppart                                                      \n",
       "Catha edulis|Leaves    0.0    0.0    0.0    0.0    0.0    0.0    0.0  \n",
       "Catha edulis|Stems     0.0    0.0    0.0    0.0    0.0    0.0    0.0  \n",
       "\n",
       "[2 rows x 14970 columns]"
      ]
     },
     "execution_count": 58,
     "metadata": {},
     "output_type": "execute_result"
    }
   ],
   "source": [
    "reduced_df = reduce_df(col_id_unique)\n",
    "reduced_df.head(2)"
   ]
  },
  {
   "cell_type": "markdown",
   "metadata": {},
   "source": [
    "# Start calculation the diferent components\n",
    "\n",
    "# Feature component (FC)"
   ]
  },
  {
   "cell_type": "markdown",
   "metadata": {},
   "source": [
    "#### FC.1. Feature Specifificty"
   ]
  },
  {
   "cell_type": "code",
   "execution_count": 59,
   "metadata": {},
   "outputs": [
    {
     "data": {
      "text/html": [
       "<div>\n",
       "<style scoped>\n",
       "    .dataframe tbody tr th:only-of-type {\n",
       "        vertical-align: middle;\n",
       "    }\n",
       "\n",
       "    .dataframe tbody tr th {\n",
       "        vertical-align: top;\n",
       "    }\n",
       "\n",
       "    .dataframe thead th {\n",
       "        text-align: right;\n",
       "    }\n",
       "</style>\n",
       "<table border=\"1\" class=\"dataframe\">\n",
       "  <thead>\n",
       "    <tr style=\"text-align: right;\">\n",
       "      <th></th>\n",
       "      <th>row ID</th>\n",
       "      <th>ATTRIBUTE_Sppart</th>\n",
       "      <th>Feature_specificity</th>\n",
       "      <th>filename</th>\n",
       "    </tr>\n",
       "  </thead>\n",
       "  <tbody>\n",
       "    <tr>\n",
       "      <th>0</th>\n",
       "      <td>1</td>\n",
       "      <td>Catha edulis|Leaves</td>\n",
       "      <td>0.932588</td>\n",
       "      <td>LQ-01-61-01_pos.mzXML</td>\n",
       "    </tr>\n",
       "    <tr>\n",
       "      <th>1</th>\n",
       "      <td>2</td>\n",
       "      <td>Catha edulis|Aerial_parts</td>\n",
       "      <td>0.696620</td>\n",
       "      <td>LQ-01-61-04_pos.mzXML</td>\n",
       "    </tr>\n",
       "  </tbody>\n",
       "</table>\n",
       "</div>"
      ],
      "text/plain": [
       "   row ID           ATTRIBUTE_Sppart  Feature_specificity  \\\n",
       "0       1        Catha edulis|Leaves             0.932588   \n",
       "1       2  Catha edulis|Aerial_parts             0.696620   \n",
       "\n",
       "                filename  \n",
       "0  LQ-01-61-01_pos.mzXML  \n",
       "1  LQ-01-61-04_pos.mzXML  "
      ]
     },
     "execution_count": 59,
     "metadata": {},
     "output_type": "execute_result"
    }
   ],
   "source": [
    "specificity_df = top_ions(col_id_unique)\n",
    "specificity_df.head(2)"
   ]
  },
  {
   "cell_type": "markdown",
   "metadata": {},
   "source": [
    "#### FC.2. Annotation Rate"
   ]
  },
  {
   "cell_type": "code",
   "execution_count": 60,
   "metadata": {},
   "outputs": [
    {
     "data": {
      "text/html": [
       "<div>\n",
       "<style scoped>\n",
       "    .dataframe tbody tr th:only-of-type {\n",
       "        vertical-align: middle;\n",
       "    }\n",
       "\n",
       "    .dataframe tbody tr th {\n",
       "        vertical-align: top;\n",
       "    }\n",
       "\n",
       "    .dataframe thead th {\n",
       "        text-align: right;\n",
       "    }\n",
       "</style>\n",
       "<table border=\"1\" class=\"dataframe\">\n",
       "  <thead>\n",
       "    <tr style=\"text-align: right;\">\n",
       "      <th></th>\n",
       "      <th>cluster index</th>\n",
       "      <th>componentindex</th>\n",
       "      <th>Annotated_GNPS</th>\n",
       "      <th>Annotated_ISDB</th>\n",
       "      <th>Annotated_Sirius</th>\n",
       "      <th>annotation</th>\n",
       "    </tr>\n",
       "  </thead>\n",
       "  <tbody>\n",
       "    <tr>\n",
       "      <th>0</th>\n",
       "      <td>1</td>\n",
       "      <td>113</td>\n",
       "      <td>0</td>\n",
       "      <td>1</td>\n",
       "      <td>0</td>\n",
       "      <td>0</td>\n",
       "    </tr>\n",
       "    <tr>\n",
       "      <th>1</th>\n",
       "      <td>2</td>\n",
       "      <td>136</td>\n",
       "      <td>0</td>\n",
       "      <td>1</td>\n",
       "      <td>0</td>\n",
       "      <td>0</td>\n",
       "    </tr>\n",
       "  </tbody>\n",
       "</table>\n",
       "</div>"
      ],
      "text/plain": [
       "   cluster index  componentindex Annotated_GNPS  Annotated_ISDB  \\\n",
       "0              1             113              0               1   \n",
       "1              2             136              0               1   \n",
       "\n",
       "   Annotated_Sirius  annotation  \n",
       "0                 0           0  \n",
       "1                 0           0  "
      ]
     },
     "execution_count": 60,
     "metadata": {},
     "output_type": "execute_result"
    }
   ],
   "source": [
    "annotation_df = annotations(annot_is_df, annot_sirius_df, sirius_annotations, isdb_annotations, min_score_final, min_ConfidenceScore, min_ZodiacScore)\n",
    "annotation_df.head(2)"
   ]
  },
  {
   "cell_type": "markdown",
   "metadata": {},
   "source": [
    "#### FC.3. Molecular formula prediction rate"
   ]
  },
  {
   "cell_type": "code",
   "execution_count": 61,
   "metadata": {},
   "outputs": [
    {
     "data": {
      "text/html": [
       "<div>\n",
       "<style scoped>\n",
       "    .dataframe tbody tr th:only-of-type {\n",
       "        vertical-align: middle;\n",
       "    }\n",
       "\n",
       "    .dataframe tbody tr th {\n",
       "        vertical-align: top;\n",
       "    }\n",
       "\n",
       "    .dataframe thead th {\n",
       "        text-align: right;\n",
       "    }\n",
       "</style>\n",
       "<table border=\"1\" class=\"dataframe\">\n",
       "  <thead>\n",
       "    <tr style=\"text-align: right;\">\n",
       "      <th></th>\n",
       "      <th>MF_prediction_ratio</th>\n",
       "    </tr>\n",
       "    <tr>\n",
       "      <th>filename</th>\n",
       "      <th></th>\n",
       "    </tr>\n",
       "  </thead>\n",
       "  <tbody>\n",
       "    <tr>\n",
       "      <th>LQ-01-61-28_pos.mzXML</th>\n",
       "      <td>0.632911</td>\n",
       "    </tr>\n",
       "    <tr>\n",
       "      <th>LQ-01-61-47_pos.mzXML</th>\n",
       "      <td>0.565000</td>\n",
       "    </tr>\n",
       "    <tr>\n",
       "      <th>LQ-01-61-37_pos.mzXML</th>\n",
       "      <td>0.528440</td>\n",
       "    </tr>\n",
       "    <tr>\n",
       "      <th>LQ-01-61-60_pos.mzXML</th>\n",
       "      <td>0.526316</td>\n",
       "    </tr>\n",
       "    <tr>\n",
       "      <th>LQ-01-61-33_pos.mzXML</th>\n",
       "      <td>0.504098</td>\n",
       "    </tr>\n",
       "  </tbody>\n",
       "</table>\n",
       "</div>"
      ],
      "text/plain": [
       "                       MF_prediction_ratio\n",
       "filename                                  \n",
       "LQ-01-61-28_pos.mzXML             0.632911\n",
       "LQ-01-61-47_pos.mzXML             0.565000\n",
       "LQ-01-61-37_pos.mzXML             0.528440\n",
       "LQ-01-61-60_pos.mzXML             0.526316\n",
       "LQ-01-61-33_pos.mzXML             0.504098"
      ]
     },
     "execution_count": 61,
     "metadata": {},
     "output_type": "execute_result"
    }
   ],
   "source": [
    "mf_prediction_rate_df = mf_rate(annot_sirius_df, sirius_annotations, min_ZodiacScore, min_specificity, annotation_preference)\n",
    "mf_prediction_rate_df.head()"
   ]
  },
  {
   "cell_type": "markdown",
   "metadata": {},
   "source": [
    "#### FC.4. FC computation"
   ]
  },
  {
   "cell_type": "code",
   "execution_count": 62,
   "metadata": {},
   "outputs": [
    {
     "data": {
      "text/html": [
       "<div>\n",
       "<style scoped>\n",
       "    .dataframe tbody tr th:only-of-type {\n",
       "        vertical-align: middle;\n",
       "    }\n",
       "\n",
       "    .dataframe tbody tr th {\n",
       "        vertical-align: top;\n",
       "    }\n",
       "\n",
       "    .dataframe thead th {\n",
       "        text-align: right;\n",
       "    }\n",
       "</style>\n",
       "<table border=\"1\" class=\"dataframe\">\n",
       "  <thead>\n",
       "    <tr style=\"text-align: right;\">\n",
       "      <th></th>\n",
       "      <th>filename</th>\n",
       "      <th>ATTRIBUTE_Family</th>\n",
       "      <th>ATTRIBUTE_Genus</th>\n",
       "      <th>ATTRIBUTE_Species</th>\n",
       "      <th>ATTRIBUTE_Sppart</th>\n",
       "      <th>FC</th>\n",
       "      <th>Feature_specificity</th>\n",
       "      <th>MF_prediction_ratio</th>\n",
       "    </tr>\n",
       "  </thead>\n",
       "  <tbody>\n",
       "    <tr>\n",
       "      <th>5</th>\n",
       "      <td>LQ-01-61-06_pos.mzXML</td>\n",
       "      <td>Celastraceae</td>\n",
       "      <td>Celastrus</td>\n",
       "      <td>Celastrus orbiculatus</td>\n",
       "      <td>Celastrus orbiculatus|Roots</td>\n",
       "      <td>0.835938</td>\n",
       "      <td>0.863281</td>\n",
       "      <td>0.480469</td>\n",
       "    </tr>\n",
       "    <tr>\n",
       "      <th>75</th>\n",
       "      <td>LQ-01-61-78_pos.mzXML</td>\n",
       "      <td>Celastraceae</td>\n",
       "      <td>Pristimera</td>\n",
       "      <td>Pristimera indica</td>\n",
       "      <td>Pristimera indica|Roots</td>\n",
       "      <td>0.822222</td>\n",
       "      <td>0.841667</td>\n",
       "      <td>0.322222</td>\n",
       "    </tr>\n",
       "    <tr>\n",
       "      <th>26</th>\n",
       "      <td>LQ-01-61-27_pos.mzXML</td>\n",
       "      <td>Celastraceae</td>\n",
       "      <td>Euonymus</td>\n",
       "      <td>Euonymus fortunei</td>\n",
       "      <td>Euonymus fortunei|Aerial_parts</td>\n",
       "      <td>0.814516</td>\n",
       "      <td>0.903226</td>\n",
       "      <td>0.491935</td>\n",
       "    </tr>\n",
       "    <tr>\n",
       "      <th>59</th>\n",
       "      <td>LQ-01-61-60_pos.mzXML</td>\n",
       "      <td>Celastraceae</td>\n",
       "      <td>Mystroxylon</td>\n",
       "      <td>Mystroxylon aethiopicum</td>\n",
       "      <td>Mystroxylon aethiopicum|Bark</td>\n",
       "      <td>0.805263</td>\n",
       "      <td>0.821053</td>\n",
       "      <td>0.526316</td>\n",
       "    </tr>\n",
       "    <tr>\n",
       "      <th>36</th>\n",
       "      <td>LQ-01-61-37_pos.mzXML</td>\n",
       "      <td>Celastraceae</td>\n",
       "      <td>Euonymus</td>\n",
       "      <td>Euonymus sanguineus</td>\n",
       "      <td>Euonymus sanguineus|Roots</td>\n",
       "      <td>0.792661</td>\n",
       "      <td>0.838532</td>\n",
       "      <td>0.528440</td>\n",
       "    </tr>\n",
       "  </tbody>\n",
       "</table>\n",
       "</div>"
      ],
      "text/plain": [
       "                 filename ATTRIBUTE_Family ATTRIBUTE_Genus  \\\n",
       "5   LQ-01-61-06_pos.mzXML     Celastraceae       Celastrus   \n",
       "75  LQ-01-61-78_pos.mzXML     Celastraceae      Pristimera   \n",
       "26  LQ-01-61-27_pos.mzXML     Celastraceae        Euonymus   \n",
       "59  LQ-01-61-60_pos.mzXML     Celastraceae     Mystroxylon   \n",
       "36  LQ-01-61-37_pos.mzXML     Celastraceae        Euonymus   \n",
       "\n",
       "          ATTRIBUTE_Species                ATTRIBUTE_Sppart        FC  \\\n",
       "5     Celastrus orbiculatus     Celastrus orbiculatus|Roots  0.835938   \n",
       "75        Pristimera indica         Pristimera indica|Roots  0.822222   \n",
       "26        Euonymus fortunei  Euonymus fortunei|Aerial_parts  0.814516   \n",
       "59  Mystroxylon aethiopicum    Mystroxylon aethiopicum|Bark  0.805263   \n",
       "36      Euonymus sanguineus       Euonymus sanguineus|Roots  0.792661   \n",
       "\n",
       "    Feature_specificity  MF_prediction_ratio  \n",
       "5              0.863281             0.480469  \n",
       "75             0.841667             0.322222  \n",
       "26             0.903226             0.491935  \n",
       "59             0.821053             0.526316  \n",
       "36             0.838532             0.528440  "
      ]
     },
     "execution_count": 62,
     "metadata": {},
     "output_type": "execute_result"
    }
   ],
   "source": [
    "FC = feature_component(min_specificity, annotation_preference, col_id_unique)\n",
    "FC.head()"
   ]
  },
  {
   "cell_type": "markdown",
   "metadata": {},
   "source": [
    "# Literature component (LC)\n"
   ]
  },
  {
   "cell_type": "markdown",
   "metadata": {},
   "source": [
    "#### LC.1. LC computation"
   ]
  },
  {
   "cell_type": "code",
   "execution_count": 63,
   "metadata": {},
   "outputs": [
    {
     "data": {
      "text/html": [
       "<div>\n",
       "<style scoped>\n",
       "    .dataframe tbody tr th:only-of-type {\n",
       "        vertical-align: middle;\n",
       "    }\n",
       "\n",
       "    .dataframe tbody tr th {\n",
       "        vertical-align: top;\n",
       "    }\n",
       "\n",
       "    .dataframe thead th {\n",
       "        text-align: right;\n",
       "    }\n",
       "</style>\n",
       "<table border=\"1\" class=\"dataframe\">\n",
       "  <thead>\n",
       "    <tr style=\"text-align: right;\">\n",
       "      <th></th>\n",
       "      <th>filename</th>\n",
       "      <th>ATTRIBUTE_Family</th>\n",
       "      <th>ATTRIBUTE_Genus</th>\n",
       "      <th>ATTRIBUTE_Species</th>\n",
       "      <th>Reported_comp_Species</th>\n",
       "      <th>Reported_comp_Genus</th>\n",
       "      <th>Reported_comp_Family</th>\n",
       "      <th>LC</th>\n",
       "    </tr>\n",
       "  </thead>\n",
       "  <tbody>\n",
       "    <tr>\n",
       "      <th>0</th>\n",
       "      <td>LQ-01-61-01_pos.mzXML</td>\n",
       "      <td>Celastraceae</td>\n",
       "      <td>Catha</td>\n",
       "      <td>Catha edulis</td>\n",
       "      <td>126.0</td>\n",
       "      <td>126.0</td>\n",
       "      <td>6064</td>\n",
       "      <td>0.80312</td>\n",
       "    </tr>\n",
       "    <tr>\n",
       "      <th>1</th>\n",
       "      <td>LQ-01-61-02_pos.mzXML</td>\n",
       "      <td>Celastraceae</td>\n",
       "      <td>Catha</td>\n",
       "      <td>Catha edulis</td>\n",
       "      <td>126.0</td>\n",
       "      <td>126.0</td>\n",
       "      <td>6064</td>\n",
       "      <td>0.80312</td>\n",
       "    </tr>\n",
       "    <tr>\n",
       "      <th>2</th>\n",
       "      <td>LQ-01-61-03_pos.mzXML</td>\n",
       "      <td>Celastraceae</td>\n",
       "      <td>Catha</td>\n",
       "      <td>Catha edulis</td>\n",
       "      <td>126.0</td>\n",
       "      <td>126.0</td>\n",
       "      <td>6064</td>\n",
       "      <td>0.80312</td>\n",
       "    </tr>\n",
       "    <tr>\n",
       "      <th>3</th>\n",
       "      <td>LQ-01-61-04_pos.mzXML</td>\n",
       "      <td>Celastraceae</td>\n",
       "      <td>Catha</td>\n",
       "      <td>Catha edulis</td>\n",
       "      <td>126.0</td>\n",
       "      <td>126.0</td>\n",
       "      <td>6064</td>\n",
       "      <td>0.80312</td>\n",
       "    </tr>\n",
       "    <tr>\n",
       "      <th>4</th>\n",
       "      <td>LQ-01-61-05_pos.mzXML</td>\n",
       "      <td>Celastraceae</td>\n",
       "      <td>Celastrus</td>\n",
       "      <td>Celastrus orbiculatus</td>\n",
       "      <td>212.0</td>\n",
       "      <td>732.0</td>\n",
       "      <td>6064</td>\n",
       "      <td>0.69952</td>\n",
       "    </tr>\n",
       "    <tr>\n",
       "      <th>...</th>\n",
       "      <td>...</td>\n",
       "      <td>...</td>\n",
       "      <td>...</td>\n",
       "      <td>...</td>\n",
       "      <td>...</td>\n",
       "      <td>...</td>\n",
       "      <td>...</td>\n",
       "      <td>...</td>\n",
       "    </tr>\n",
       "    <tr>\n",
       "      <th>71</th>\n",
       "      <td>LQ-01-61-72_pos.mzXML</td>\n",
       "      <td>Celastraceae</td>\n",
       "      <td>Salacia</td>\n",
       "      <td>Salacia letestuana</td>\n",
       "      <td>0.0</td>\n",
       "      <td>514.0</td>\n",
       "      <td>6064</td>\n",
       "      <td>0.82732</td>\n",
       "    </tr>\n",
       "    <tr>\n",
       "      <th>72</th>\n",
       "      <td>LQ-01-61-73_pos.mzXML</td>\n",
       "      <td>Celastraceae</td>\n",
       "      <td>Tripterygium</td>\n",
       "      <td>Tripterygium hypoglaucum</td>\n",
       "      <td>162.0</td>\n",
       "      <td>1353.0</td>\n",
       "      <td>6064</td>\n",
       "      <td>0.66242</td>\n",
       "    </tr>\n",
       "    <tr>\n",
       "      <th>73</th>\n",
       "      <td>LQ-01-61-74_pos.mzXML</td>\n",
       "      <td>Celastraceae</td>\n",
       "      <td>Tripterygium</td>\n",
       "      <td>Tripterygium wilfordii</td>\n",
       "      <td>1011.0</td>\n",
       "      <td>1353.0</td>\n",
       "      <td>6064</td>\n",
       "      <td>0.23792</td>\n",
       "    </tr>\n",
       "    <tr>\n",
       "      <th>74</th>\n",
       "      <td>LQ-01-61-75_pos.mzXML</td>\n",
       "      <td>Celastraceae</td>\n",
       "      <td>Tripterygium</td>\n",
       "      <td>Tripterygium wilfordii</td>\n",
       "      <td>1011.0</td>\n",
       "      <td>1353.0</td>\n",
       "      <td>6064</td>\n",
       "      <td>0.23792</td>\n",
       "    </tr>\n",
       "    <tr>\n",
       "      <th>75</th>\n",
       "      <td>LQ-01-61-78_pos.mzXML</td>\n",
       "      <td>Celastraceae</td>\n",
       "      <td>Pristimera</td>\n",
       "      <td>Pristimera indica</td>\n",
       "      <td>2.0</td>\n",
       "      <td>8.0</td>\n",
       "      <td>6064</td>\n",
       "      <td>0.87692</td>\n",
       "    </tr>\n",
       "  </tbody>\n",
       "</table>\n",
       "<p>76 rows × 8 columns</p>\n",
       "</div>"
      ],
      "text/plain": [
       "                 filename ATTRIBUTE_Family ATTRIBUTE_Genus  \\\n",
       "0   LQ-01-61-01_pos.mzXML     Celastraceae           Catha   \n",
       "1   LQ-01-61-02_pos.mzXML     Celastraceae           Catha   \n",
       "2   LQ-01-61-03_pos.mzXML     Celastraceae           Catha   \n",
       "3   LQ-01-61-04_pos.mzXML     Celastraceae           Catha   \n",
       "4   LQ-01-61-05_pos.mzXML     Celastraceae       Celastrus   \n",
       "..                    ...              ...             ...   \n",
       "71  LQ-01-61-72_pos.mzXML     Celastraceae         Salacia   \n",
       "72  LQ-01-61-73_pos.mzXML     Celastraceae    Tripterygium   \n",
       "73  LQ-01-61-74_pos.mzXML     Celastraceae    Tripterygium   \n",
       "74  LQ-01-61-75_pos.mzXML     Celastraceae    Tripterygium   \n",
       "75  LQ-01-61-78_pos.mzXML     Celastraceae      Pristimera   \n",
       "\n",
       "           ATTRIBUTE_Species  Reported_comp_Species  Reported_comp_Genus  \\\n",
       "0               Catha edulis                  126.0                126.0   \n",
       "1               Catha edulis                  126.0                126.0   \n",
       "2               Catha edulis                  126.0                126.0   \n",
       "3               Catha edulis                  126.0                126.0   \n",
       "4      Celastrus orbiculatus                  212.0                732.0   \n",
       "..                       ...                    ...                  ...   \n",
       "71        Salacia letestuana                    0.0                514.0   \n",
       "72  Tripterygium hypoglaucum                  162.0               1353.0   \n",
       "73    Tripterygium wilfordii                 1011.0               1353.0   \n",
       "74    Tripterygium wilfordii                 1011.0               1353.0   \n",
       "75         Pristimera indica                    2.0                  8.0   \n",
       "\n",
       "    Reported_comp_Family       LC  \n",
       "0                   6064  0.80312  \n",
       "1                   6064  0.80312  \n",
       "2                   6064  0.80312  \n",
       "3                   6064  0.80312  \n",
       "4                   6064  0.69952  \n",
       "..                   ...      ...  \n",
       "71                  6064  0.82732  \n",
       "72                  6064  0.66242  \n",
       "73                  6064  0.23792  \n",
       "74                  6064  0.23792  \n",
       "75                  6064  0.87692  \n",
       "\n",
       "[76 rows x 8 columns]"
      ]
     },
     "execution_count": 63,
     "metadata": {},
     "output_type": "execute_result"
    }
   ],
   "source": [
    "LC = literature_component(LC_component, metadata_df, filename_header, species_column, genus_column, family_column, max_comp_reported_sp, max_comp_reported_g, max_comp_reported_f)\n",
    "LC"
   ]
  },
  {
   "cell_type": "markdown",
   "metadata": {},
   "source": [
    "# Similarity component (SC)"
   ]
  },
  {
   "cell_type": "markdown",
   "metadata": {},
   "source": [
    "#### SC.1. SC computation"
   ]
  },
  {
   "cell_type": "code",
   "execution_count": 64,
   "metadata": {},
   "outputs": [
    {
     "name": "stderr",
     "output_type": "stream",
     "text": [
      "/home/quirosgu/anaconda3/envs/inventa/lib/python3.7/site-packages/sklearn/base.py:451: UserWarning:\n",
      "\n",
      "X does not have valid feature names, but IsolationForest was fitted with feature names\n",
      "\n"
     ]
    },
    {
     "data": {
      "text/html": [
       "<div>\n",
       "<style scoped>\n",
       "    .dataframe tbody tr th:only-of-type {\n",
       "        vertical-align: middle;\n",
       "    }\n",
       "\n",
       "    .dataframe tbody tr th {\n",
       "        vertical-align: top;\n",
       "    }\n",
       "\n",
       "    .dataframe thead th {\n",
       "        text-align: right;\n",
       "    }\n",
       "</style>\n",
       "<table border=\"1\" class=\"dataframe\">\n",
       "  <thead>\n",
       "    <tr style=\"text-align: right;\">\n",
       "      <th></th>\n",
       "      <th>filename</th>\n",
       "      <th>anomaly_IF</th>\n",
       "      <th>anomaly_LOF</th>\n",
       "      <th>anomaly_OCSVM</th>\n",
       "      <th>SC</th>\n",
       "    </tr>\n",
       "  </thead>\n",
       "  <tbody>\n",
       "    <tr>\n",
       "      <th>0</th>\n",
       "      <td>LQ-01-61-01_pos.mzXML</td>\n",
       "      <td>-1</td>\n",
       "      <td>1</td>\n",
       "      <td>1</td>\n",
       "      <td>1</td>\n",
       "    </tr>\n",
       "    <tr>\n",
       "      <th>1</th>\n",
       "      <td>LQ-01-61-02_pos.mzXML</td>\n",
       "      <td>-1</td>\n",
       "      <td>1</td>\n",
       "      <td>1</td>\n",
       "      <td>1</td>\n",
       "    </tr>\n",
       "    <tr>\n",
       "      <th>2</th>\n",
       "      <td>LQ-01-61-03_pos.mzXML</td>\n",
       "      <td>-1</td>\n",
       "      <td>1</td>\n",
       "      <td>1</td>\n",
       "      <td>1</td>\n",
       "    </tr>\n",
       "    <tr>\n",
       "      <th>3</th>\n",
       "      <td>LQ-01-61-04_pos.mzXML</td>\n",
       "      <td>-1</td>\n",
       "      <td>1</td>\n",
       "      <td>1</td>\n",
       "      <td>1</td>\n",
       "    </tr>\n",
       "    <tr>\n",
       "      <th>4</th>\n",
       "      <td>LQ-01-61-05_pos.mzXML</td>\n",
       "      <td>-1</td>\n",
       "      <td>1</td>\n",
       "      <td>1</td>\n",
       "      <td>1</td>\n",
       "    </tr>\n",
       "    <tr>\n",
       "      <th>...</th>\n",
       "      <td>...</td>\n",
       "      <td>...</td>\n",
       "      <td>...</td>\n",
       "      <td>...</td>\n",
       "      <td>...</td>\n",
       "    </tr>\n",
       "    <tr>\n",
       "      <th>71</th>\n",
       "      <td>LQ-01-61-72_pos.mzXML</td>\n",
       "      <td>1</td>\n",
       "      <td>-1</td>\n",
       "      <td>1</td>\n",
       "      <td>1</td>\n",
       "    </tr>\n",
       "    <tr>\n",
       "      <th>72</th>\n",
       "      <td>LQ-01-61-73_pos.mzXML</td>\n",
       "      <td>1</td>\n",
       "      <td>1</td>\n",
       "      <td>1</td>\n",
       "      <td>0</td>\n",
       "    </tr>\n",
       "    <tr>\n",
       "      <th>73</th>\n",
       "      <td>LQ-01-61-74_pos.mzXML</td>\n",
       "      <td>-1</td>\n",
       "      <td>1</td>\n",
       "      <td>1</td>\n",
       "      <td>1</td>\n",
       "    </tr>\n",
       "    <tr>\n",
       "      <th>74</th>\n",
       "      <td>LQ-01-61-75_pos.mzXML</td>\n",
       "      <td>1</td>\n",
       "      <td>1</td>\n",
       "      <td>1</td>\n",
       "      <td>0</td>\n",
       "    </tr>\n",
       "    <tr>\n",
       "      <th>75</th>\n",
       "      <td>LQ-01-61-78_pos.mzXML</td>\n",
       "      <td>1</td>\n",
       "      <td>-1</td>\n",
       "      <td>-1</td>\n",
       "      <td>1</td>\n",
       "    </tr>\n",
       "  </tbody>\n",
       "</table>\n",
       "<p>76 rows × 5 columns</p>\n",
       "</div>"
      ],
      "text/plain": [
       "                 filename  anomaly_IF  anomaly_LOF  anomaly_OCSVM  SC\n",
       "0   LQ-01-61-01_pos.mzXML          -1            1              1   1\n",
       "1   LQ-01-61-02_pos.mzXML          -1            1              1   1\n",
       "2   LQ-01-61-03_pos.mzXML          -1            1              1   1\n",
       "3   LQ-01-61-04_pos.mzXML          -1            1              1   1\n",
       "4   LQ-01-61-05_pos.mzXML          -1            1              1   1\n",
       "..                    ...         ...          ...            ...  ..\n",
       "71  LQ-01-61-72_pos.mzXML           1           -1              1   1\n",
       "72  LQ-01-61-73_pos.mzXML           1            1              1   0\n",
       "73  LQ-01-61-74_pos.mzXML          -1            1              1   1\n",
       "74  LQ-01-61-75_pos.mzXML           1            1              1   0\n",
       "75  LQ-01-61-78_pos.mzXML           1           -1             -1   1\n",
       "\n",
       "[76 rows x 5 columns]"
      ]
     },
     "execution_count": 64,
     "metadata": {},
     "output_type": "execute_result"
    }
   ],
   "source": [
    "metric_df = pd.read_csv(vectorized_data_filename, sep=',', encoding= 'unicode_escape')\n",
    "SC = similarity_component(metric_df, SC_component)\n",
    "SC"
   ]
  },
  {
   "cell_type": "markdown",
   "metadata": {},
   "source": [
    "#### SC.2. Visualizing the outliers"
   ]
  },
  {
   "cell_type": "markdown",
   "metadata": {},
   "source": [
    "NOTE: depending on the size of the data set, projections could take a while... "
   ]
  },
  {
   "cell_type": "markdown",
   "metadata": {},
   "source": [
    "##### SC.2.1 UMAP"
   ]
  },
  {
   "cell_type": "code",
   "execution_count": 65,
   "metadata": {},
   "outputs": [
    {
     "data": {
      "application/vnd.plotly.v1+json": {
       "config": {
        "plotlyServerURL": "https://plot.ly"
       },
       "data": [
        {
         "hovertext": [
          "LQ-01-61-01_pos.mzXML",
          "LQ-01-61-02_pos.mzXML",
          "LQ-01-61-03_pos.mzXML",
          "LQ-01-61-04_pos.mzXML",
          "LQ-01-61-05_pos.mzXML",
          "LQ-01-61-06_pos.mzXML",
          "LQ-01-61-07_pos.mzXML",
          "LQ-01-61-08_pos.mzXML",
          "LQ-01-61-09_pos.mzXML",
          "LQ-01-61-10_pos.mzXML",
          "LQ-01-61-11_pos.mzXML",
          "LQ-01-61-12_pos.mzXML",
          "LQ-01-61-13_pos.mzXML",
          "LQ-01-61-14_pos.mzXML",
          "LQ-01-61-15_pos.mzXML",
          "LQ-01-61-16_pos.mzXML",
          "LQ-01-61-17_pos.mzXML",
          "LQ-01-61-18_pos.mzXML",
          "LQ-01-61-19_pos.mzXML",
          "LQ-01-61-20_pos.mzXML",
          "LQ-01-61-21_pos.mzXML",
          "LQ-01-61-22_pos.mzXML",
          "LQ-01-61-23_pos.mzXML",
          "LQ-01-61-24_pos.mzXML",
          "LQ-01-61-25_pos.mzXML",
          "LQ-01-61-26_pos.mzXML",
          "LQ-01-61-27_pos.mzXML",
          "LQ-01-61-28_pos.mzXML",
          "LQ-01-61-29_pos.mzXML",
          "LQ-01-61-30_pos.mzXML",
          "LQ-01-61-31_pos.mzXML",
          "LQ-01-61-32_pos.mzXML",
          "LQ-01-61-33_pos.mzXML",
          "LQ-01-61-34_pos.mzXML",
          "LQ-01-61-35_pos.mzXML",
          "LQ-01-61-36_pos.mzXML",
          "LQ-01-61-37_pos.mzXML",
          "LQ-01-61-38_pos.mzXML",
          "LQ-01-61-39_pos.mzXML",
          "LQ-01-61-40_pos.mzXML",
          "LQ-01-61-41_pos.mzXML",
          "LQ-01-61-42_pos.mzXML",
          "LQ-01-61-43_pos.mzXML",
          "LQ-01-61-44_pos.mzXML",
          "LQ-01-61-45_pos.mzXML",
          "LQ-01-61-46_pos.mzXML",
          "LQ-01-61-47_pos.mzXML",
          "LQ-01-61-48_pos.mzXML",
          "LQ-01-61-49_pos.mzXML",
          "LQ-01-61-50_pos.mzXML",
          "LQ-01-61-51_pos.mzXML",
          "LQ-01-61-52_pos.mzXML",
          "LQ-01-61-53_pos.mzXML",
          "LQ-01-61-54_pos.mzXML",
          "LQ-01-61-55_pos.mzXML",
          "LQ-01-61-56_pos.mzXML",
          "LQ-01-61-57_pos.mzXML",
          "LQ-01-61-58_pos.mzXML",
          "LQ-01-61-59_pos.mzXML",
          "LQ-01-61-60_pos.mzXML",
          "LQ-01-61-61_pos.mzXML",
          "LQ-01-61-62_pos.mzXML",
          "LQ-01-61-63_pos.mzXML",
          "LQ-01-61-64_pos.mzXML",
          "LQ-01-61-65_pos.mzXML",
          "LQ-01-61-66_pos.mzXML",
          "LQ-01-61-67_pos.mzXML",
          "LQ-01-61-68_pos.mzXML",
          "LQ-01-61-69_pos.mzXML",
          "LQ-01-61-70_pos.mzXML",
          "LQ-01-61-71_pos.mzXML",
          "LQ-01-61-72_pos.mzXML",
          "LQ-01-61-73_pos.mzXML",
          "LQ-01-61-74_pos.mzXML",
          "LQ-01-61-75_pos.mzXML",
          "LQ-01-61-78_pos.mzXML"
         ],
         "marker": {
          "color": [
           -1,
           -1,
           -1,
           -1,
           -1,
           -1,
           -1,
           1,
           1,
           1,
           1,
           1,
           1,
           -1,
           1,
           1,
           1,
           1,
           -1,
           1,
           1,
           1,
           1,
           1,
           1,
           1,
           1,
           1,
           1,
           1,
           -1,
           1,
           1,
           1,
           1,
           1,
           -1,
           1,
           1,
           1,
           1,
           1,
           1,
           1,
           1,
           1,
           1,
           1,
           1,
           1,
           1,
           1,
           1,
           1,
           1,
           1,
           1,
           1,
           1,
           1,
           1,
           1,
           1,
           1,
           1,
           1,
           1,
           1,
           1,
           1,
           1,
           1,
           1,
           -1,
           1,
           1
          ],
          "colorscale": [
           [
            0,
            "rgb(128,0,38)"
           ],
           [
            0.125,
            "rgb(189,0,38)"
           ],
           [
            0.25,
            "rgb(227,26,28)"
           ],
           [
            0.375,
            "rgb(252,78,42)"
           ],
           [
            0.5,
            "rgb(253,141,60)"
           ],
           [
            0.625,
            "rgb(254,178,76)"
           ],
           [
            0.75,
            "rgb(254,217,118)"
           ],
           [
            0.875,
            "rgb(255,237,160)"
           ],
           [
            1,
            "rgb(255,255,204)"
           ]
          ],
          "line": {
           "color": "black",
           "width": 0.5
          },
          "showscale": false,
          "size": 10
         },
         "mode": "markers",
         "name": "Anomaly [-1]",
         "opacity": 0.85,
         "type": "scatter",
         "x": [
          5.753268241882324,
          5.589197635650635,
          6.241732597351074,
          6.0248918533325195,
          3.2863035202026367,
          6.018698692321777,
          4.410745143890381,
          1.1892107725143433,
          2.068366050720215,
          1.8118177652359009,
          4.066256046295166,
          2.0656421184539795,
          3.1470608711242676,
          6.269529819488525,
          2.635744094848633,
          3.915072441101074,
          5.8593430519104,
          3.7914352416992188,
          4.279712677001953,
          3.26104736328125,
          1.897539496421814,
          1.9164143800735474,
          2.0924644470214844,
          3.271779775619507,
          2.6608896255493164,
          1.2387272119522095,
          2.507925510406494,
          3.2687745094299316,
          3.671868324279785,
          0.7694876790046692,
          4.769607067108154,
          4.200442790985107,
          1.2480688095092773,
          3.274190902709961,
          3.029338836669922,
          1.482251524925232,
          6.356456279754639,
          3.3783912658691406,
          1.3393579721450806,
          1.6357371807098389,
          4.184800148010254,
          2.414541482925415,
          2.943251609802246,
          4.474294185638428,
          3.597785711288452,
          1.3923165798187256,
          1.5663901567459106,
          2.8055737018585205,
          2.5637619495391846,
          2.6888442039489746,
          1.788382649421692,
          1.8943167924880981,
          2.5333056449890137,
          4.708714962005615,
          4.952697277069092,
          5.056145191192627,
          3.0004448890686035,
          3.9126827716827393,
          1.6985644102096558,
          1.9701483249664307,
          0.9217249155044556,
          2.11437726020813,
          1.4221382141113281,
          1.0976548194885254,
          1.6908038854599,
          3.8417069911956787,
          4.97276496887207,
          2.2850279808044434,
          3.713179349899292,
          6.189666271209717,
          3.436471939086914,
          0.9262757897377014,
          5.581191539764404,
          5.943934440612793,
          4.104974269866943,
          6.421551704406738
         ],
         "xaxis": "x",
         "y": [
          12.686749458312988,
          12.505816459655762,
          12.510465621948242,
          12.412506103515625,
          10.921271324157715,
          11.73935317993164,
          10.26657485961914,
          10.175050735473633,
          11.987940788269043,
          10.790842056274414,
          12.621150016784668,
          9.585092544555664,
          12.24620246887207,
          12.187430381774902,
          10.95280933380127,
          9.947750091552734,
          11.934093475341797,
          10.971464157104492,
          10.146341323852539,
          11.69019889831543,
          11.437891960144043,
          11.343362808227539,
          11.150703430175781,
          12.762471199035645,
          11.526054382324219,
          9.307287216186523,
          10.398808479309082,
          11.94168472290039,
          12.807456970214844,
          9.53665542602539,
          10.518454551696777,
          10.757181167602539,
          9.68612289428711,
          13.107088088989258,
          12.184743881225586,
          9.386093139648438,
          11.771960258483887,
          10.69354248046875,
          9.007660865783691,
          9.972764015197754,
          12.892754554748535,
          9.44176959991455,
          10.366419792175293,
          12.155536651611328,
          11.640992164611816,
          10.09550666809082,
          11.570281982421875,
          12.998770713806152,
          12.868721961975098,
          12.9185791015625,
          10.562912940979004,
          9.743172645568848,
          12.129150390625,
          11.026823043823242,
          10.901951789855957,
          10.712095260620117,
          12.543704986572266,
          11.706974029541016,
          9.200878143310547,
          11.947957038879395,
          10.136449813842773,
          10.105566024780273,
          11.085001945495605,
          10.452953338623047,
          9.346256256103516,
          12.360420227050781,
          12.496392250061035,
          9.77466869354248,
          13.00689697265625,
          12.354907989501953,
          12.641240119934082,
          9.33384895324707,
          12.018735885620117,
          11.86422061920166,
          12.136752128601074,
          12.021931648254395
         ],
         "yaxis": "y"
        },
        {
         "hovertext": [
          "LQ-01-61-01_pos.mzXML",
          "LQ-01-61-02_pos.mzXML",
          "LQ-01-61-03_pos.mzXML",
          "LQ-01-61-04_pos.mzXML",
          "LQ-01-61-05_pos.mzXML",
          "LQ-01-61-06_pos.mzXML",
          "LQ-01-61-07_pos.mzXML",
          "LQ-01-61-08_pos.mzXML",
          "LQ-01-61-09_pos.mzXML",
          "LQ-01-61-10_pos.mzXML",
          "LQ-01-61-11_pos.mzXML",
          "LQ-01-61-12_pos.mzXML",
          "LQ-01-61-13_pos.mzXML",
          "LQ-01-61-14_pos.mzXML",
          "LQ-01-61-15_pos.mzXML",
          "LQ-01-61-16_pos.mzXML",
          "LQ-01-61-17_pos.mzXML",
          "LQ-01-61-18_pos.mzXML",
          "LQ-01-61-19_pos.mzXML",
          "LQ-01-61-20_pos.mzXML",
          "LQ-01-61-21_pos.mzXML",
          "LQ-01-61-22_pos.mzXML",
          "LQ-01-61-23_pos.mzXML",
          "LQ-01-61-24_pos.mzXML",
          "LQ-01-61-25_pos.mzXML",
          "LQ-01-61-26_pos.mzXML",
          "LQ-01-61-27_pos.mzXML",
          "LQ-01-61-28_pos.mzXML",
          "LQ-01-61-29_pos.mzXML",
          "LQ-01-61-30_pos.mzXML",
          "LQ-01-61-31_pos.mzXML",
          "LQ-01-61-32_pos.mzXML",
          "LQ-01-61-33_pos.mzXML",
          "LQ-01-61-34_pos.mzXML",
          "LQ-01-61-35_pos.mzXML",
          "LQ-01-61-36_pos.mzXML",
          "LQ-01-61-37_pos.mzXML",
          "LQ-01-61-38_pos.mzXML",
          "LQ-01-61-39_pos.mzXML",
          "LQ-01-61-40_pos.mzXML",
          "LQ-01-61-41_pos.mzXML",
          "LQ-01-61-42_pos.mzXML",
          "LQ-01-61-43_pos.mzXML",
          "LQ-01-61-44_pos.mzXML",
          "LQ-01-61-45_pos.mzXML",
          "LQ-01-61-46_pos.mzXML",
          "LQ-01-61-47_pos.mzXML",
          "LQ-01-61-48_pos.mzXML",
          "LQ-01-61-49_pos.mzXML",
          "LQ-01-61-50_pos.mzXML",
          "LQ-01-61-51_pos.mzXML",
          "LQ-01-61-52_pos.mzXML",
          "LQ-01-61-53_pos.mzXML",
          "LQ-01-61-54_pos.mzXML",
          "LQ-01-61-55_pos.mzXML",
          "LQ-01-61-56_pos.mzXML",
          "LQ-01-61-57_pos.mzXML",
          "LQ-01-61-58_pos.mzXML",
          "LQ-01-61-59_pos.mzXML",
          "LQ-01-61-60_pos.mzXML",
          "LQ-01-61-61_pos.mzXML",
          "LQ-01-61-62_pos.mzXML",
          "LQ-01-61-63_pos.mzXML",
          "LQ-01-61-64_pos.mzXML",
          "LQ-01-61-65_pos.mzXML",
          "LQ-01-61-66_pos.mzXML",
          "LQ-01-61-67_pos.mzXML",
          "LQ-01-61-68_pos.mzXML",
          "LQ-01-61-69_pos.mzXML",
          "LQ-01-61-70_pos.mzXML",
          "LQ-01-61-71_pos.mzXML",
          "LQ-01-61-72_pos.mzXML",
          "LQ-01-61-73_pos.mzXML",
          "LQ-01-61-74_pos.mzXML",
          "LQ-01-61-75_pos.mzXML",
          "LQ-01-61-78_pos.mzXML"
         ],
         "marker": {
          "color": [
           1,
           1,
           1,
           1,
           1,
           1,
           -1,
           1,
           1,
           1,
           1,
           1,
           1,
           1,
           1,
           1,
           1,
           1,
           -1,
           1,
           1,
           -1,
           -1,
           1,
           1,
           1,
           1,
           1,
           1,
           1,
           1,
           1,
           1,
           1,
           1,
           1,
           1,
           1,
           1,
           1,
           -1,
           1,
           1,
           1,
           1,
           1,
           -1,
           1,
           1,
           1,
           1,
           1,
           1,
           -1,
           -1,
           -1,
           1,
           1,
           1,
           -1,
           1,
           1,
           1,
           1,
           1,
           1,
           1,
           1,
           1,
           1,
           1,
           -1,
           1,
           1,
           1,
           -1
          ],
          "colorscale": [
           [
            0,
            "rgb(128,0,38)"
           ],
           [
            0.125,
            "rgb(189,0,38)"
           ],
           [
            0.25,
            "rgb(227,26,28)"
           ],
           [
            0.375,
            "rgb(252,78,42)"
           ],
           [
            0.5,
            "rgb(253,141,60)"
           ],
           [
            0.625,
            "rgb(254,178,76)"
           ],
           [
            0.75,
            "rgb(254,217,118)"
           ],
           [
            0.875,
            "rgb(255,237,160)"
           ],
           [
            1,
            "rgb(255,255,204)"
           ]
          ],
          "line": {
           "color": "black",
           "width": 0.5
          },
          "showscale": false,
          "size": 10
         },
         "mode": "markers",
         "name": "Normal [1]",
         "opacity": 0.85,
         "showlegend": true,
         "type": "scatter",
         "x": [
          5.753268241882324,
          5.589197635650635,
          6.241732597351074,
          6.0248918533325195,
          3.2863035202026367,
          6.018698692321777,
          4.410745143890381,
          1.1892107725143433,
          2.068366050720215,
          1.8118177652359009,
          4.066256046295166,
          2.0656421184539795,
          3.1470608711242676,
          6.269529819488525,
          2.635744094848633,
          3.915072441101074,
          5.8593430519104,
          3.7914352416992188,
          4.279712677001953,
          3.26104736328125,
          1.897539496421814,
          1.9164143800735474,
          2.0924644470214844,
          3.271779775619507,
          2.6608896255493164,
          1.2387272119522095,
          2.507925510406494,
          3.2687745094299316,
          3.671868324279785,
          0.7694876790046692,
          4.769607067108154,
          4.200442790985107,
          1.2480688095092773,
          3.274190902709961,
          3.029338836669922,
          1.482251524925232,
          6.356456279754639,
          3.3783912658691406,
          1.3393579721450806,
          1.6357371807098389,
          4.184800148010254,
          2.414541482925415,
          2.943251609802246,
          4.474294185638428,
          3.597785711288452,
          1.3923165798187256,
          1.5663901567459106,
          2.8055737018585205,
          2.5637619495391846,
          2.6888442039489746,
          1.788382649421692,
          1.8943167924880981,
          2.5333056449890137,
          4.708714962005615,
          4.952697277069092,
          5.056145191192627,
          3.0004448890686035,
          3.9126827716827393,
          1.6985644102096558,
          1.9701483249664307,
          0.9217249155044556,
          2.11437726020813,
          1.4221382141113281,
          1.0976548194885254,
          1.6908038854599,
          3.8417069911956787,
          4.97276496887207,
          2.2850279808044434,
          3.713179349899292,
          6.189666271209717,
          3.436471939086914,
          0.9262757897377014,
          5.581191539764404,
          5.943934440612793,
          4.104974269866943,
          6.421551704406738
         ],
         "xaxis": "x2",
         "y": [
          12.686749458312988,
          12.505816459655762,
          12.510465621948242,
          12.412506103515625,
          10.921271324157715,
          11.73935317993164,
          10.26657485961914,
          10.175050735473633,
          11.987940788269043,
          10.790842056274414,
          12.621150016784668,
          9.585092544555664,
          12.24620246887207,
          12.187430381774902,
          10.95280933380127,
          9.947750091552734,
          11.934093475341797,
          10.971464157104492,
          10.146341323852539,
          11.69019889831543,
          11.437891960144043,
          11.343362808227539,
          11.150703430175781,
          12.762471199035645,
          11.526054382324219,
          9.307287216186523,
          10.398808479309082,
          11.94168472290039,
          12.807456970214844,
          9.53665542602539,
          10.518454551696777,
          10.757181167602539,
          9.68612289428711,
          13.107088088989258,
          12.184743881225586,
          9.386093139648438,
          11.771960258483887,
          10.69354248046875,
          9.007660865783691,
          9.972764015197754,
          12.892754554748535,
          9.44176959991455,
          10.366419792175293,
          12.155536651611328,
          11.640992164611816,
          10.09550666809082,
          11.570281982421875,
          12.998770713806152,
          12.868721961975098,
          12.9185791015625,
          10.562912940979004,
          9.743172645568848,
          12.129150390625,
          11.026823043823242,
          10.901951789855957,
          10.712095260620117,
          12.543704986572266,
          11.706974029541016,
          9.200878143310547,
          11.947957038879395,
          10.136449813842773,
          10.105566024780273,
          11.085001945495605,
          10.452953338623047,
          9.346256256103516,
          12.360420227050781,
          12.496392250061035,
          9.77466869354248,
          13.00689697265625,
          12.354907989501953,
          12.641240119934082,
          9.33384895324707,
          12.018735885620117,
          11.86422061920166,
          12.136752128601074,
          12.021931648254395
         ],
         "yaxis": "y2"
        },
        {
         "hovertext": [
          "LQ-01-61-01_pos.mzXML",
          "LQ-01-61-02_pos.mzXML",
          "LQ-01-61-03_pos.mzXML",
          "LQ-01-61-04_pos.mzXML",
          "LQ-01-61-05_pos.mzXML",
          "LQ-01-61-06_pos.mzXML",
          "LQ-01-61-07_pos.mzXML",
          "LQ-01-61-08_pos.mzXML",
          "LQ-01-61-09_pos.mzXML",
          "LQ-01-61-10_pos.mzXML",
          "LQ-01-61-11_pos.mzXML",
          "LQ-01-61-12_pos.mzXML",
          "LQ-01-61-13_pos.mzXML",
          "LQ-01-61-14_pos.mzXML",
          "LQ-01-61-15_pos.mzXML",
          "LQ-01-61-16_pos.mzXML",
          "LQ-01-61-17_pos.mzXML",
          "LQ-01-61-18_pos.mzXML",
          "LQ-01-61-19_pos.mzXML",
          "LQ-01-61-20_pos.mzXML",
          "LQ-01-61-21_pos.mzXML",
          "LQ-01-61-22_pos.mzXML",
          "LQ-01-61-23_pos.mzXML",
          "LQ-01-61-24_pos.mzXML",
          "LQ-01-61-25_pos.mzXML",
          "LQ-01-61-26_pos.mzXML",
          "LQ-01-61-27_pos.mzXML",
          "LQ-01-61-28_pos.mzXML",
          "LQ-01-61-29_pos.mzXML",
          "LQ-01-61-30_pos.mzXML",
          "LQ-01-61-31_pos.mzXML",
          "LQ-01-61-32_pos.mzXML",
          "LQ-01-61-33_pos.mzXML",
          "LQ-01-61-34_pos.mzXML",
          "LQ-01-61-35_pos.mzXML",
          "LQ-01-61-36_pos.mzXML",
          "LQ-01-61-37_pos.mzXML",
          "LQ-01-61-38_pos.mzXML",
          "LQ-01-61-39_pos.mzXML",
          "LQ-01-61-40_pos.mzXML",
          "LQ-01-61-41_pos.mzXML",
          "LQ-01-61-42_pos.mzXML",
          "LQ-01-61-43_pos.mzXML",
          "LQ-01-61-44_pos.mzXML",
          "LQ-01-61-45_pos.mzXML",
          "LQ-01-61-46_pos.mzXML",
          "LQ-01-61-47_pos.mzXML",
          "LQ-01-61-48_pos.mzXML",
          "LQ-01-61-49_pos.mzXML",
          "LQ-01-61-50_pos.mzXML",
          "LQ-01-61-51_pos.mzXML",
          "LQ-01-61-52_pos.mzXML",
          "LQ-01-61-53_pos.mzXML",
          "LQ-01-61-54_pos.mzXML",
          "LQ-01-61-55_pos.mzXML",
          "LQ-01-61-56_pos.mzXML",
          "LQ-01-61-57_pos.mzXML",
          "LQ-01-61-58_pos.mzXML",
          "LQ-01-61-59_pos.mzXML",
          "LQ-01-61-60_pos.mzXML",
          "LQ-01-61-61_pos.mzXML",
          "LQ-01-61-62_pos.mzXML",
          "LQ-01-61-63_pos.mzXML",
          "LQ-01-61-64_pos.mzXML",
          "LQ-01-61-65_pos.mzXML",
          "LQ-01-61-66_pos.mzXML",
          "LQ-01-61-67_pos.mzXML",
          "LQ-01-61-68_pos.mzXML",
          "LQ-01-61-69_pos.mzXML",
          "LQ-01-61-70_pos.mzXML",
          "LQ-01-61-71_pos.mzXML",
          "LQ-01-61-72_pos.mzXML",
          "LQ-01-61-73_pos.mzXML",
          "LQ-01-61-74_pos.mzXML",
          "LQ-01-61-75_pos.mzXML",
          "LQ-01-61-78_pos.mzXML"
         ],
         "legendgrouptitle": {
          "text": "Anomaly"
         },
         "marker": {
          "color": [
           1,
           1,
           1,
           1,
           1,
           1,
           -1,
           1,
           1,
           1,
           1,
           1,
           1,
           1,
           1,
           1,
           1,
           1,
           1,
           1,
           1,
           1,
           1,
           1,
           1,
           1,
           1,
           1,
           1,
           1,
           1,
           1,
           1,
           1,
           1,
           1,
           1,
           1,
           1,
           1,
           1,
           1,
           1,
           1,
           1,
           1,
           1,
           1,
           1,
           1,
           1,
           1,
           1,
           1,
           -1,
           1,
           1,
           1,
           1,
           -1,
           1,
           1,
           1,
           1,
           1,
           1,
           1,
           1,
           1,
           1,
           1,
           1,
           1,
           1,
           1,
           -1
          ],
          "colorscale": [
           [
            0,
            "rgb(128,0,38)"
           ],
           [
            0.125,
            "rgb(189,0,38)"
           ],
           [
            0.25,
            "rgb(227,26,28)"
           ],
           [
            0.375,
            "rgb(252,78,42)"
           ],
           [
            0.5,
            "rgb(253,141,60)"
           ],
           [
            0.625,
            "rgb(254,178,76)"
           ],
           [
            0.75,
            "rgb(254,217,118)"
           ],
           [
            0.875,
            "rgb(255,237,160)"
           ],
           [
            1,
            "rgb(255,255,204)"
           ]
          ],
          "line": {
           "color": "black",
           "width": 0.5
          },
          "showscale": false,
          "size": 10
         },
         "mode": "markers",
         "opacity": 0.85,
         "showlegend": false,
         "type": "scatter",
         "x": [
          5.753268241882324,
          5.589197635650635,
          6.241732597351074,
          6.0248918533325195,
          3.2863035202026367,
          6.018698692321777,
          4.410745143890381,
          1.1892107725143433,
          2.068366050720215,
          1.8118177652359009,
          4.066256046295166,
          2.0656421184539795,
          3.1470608711242676,
          6.269529819488525,
          2.635744094848633,
          3.915072441101074,
          5.8593430519104,
          3.7914352416992188,
          4.279712677001953,
          3.26104736328125,
          1.897539496421814,
          1.9164143800735474,
          2.0924644470214844,
          3.271779775619507,
          2.6608896255493164,
          1.2387272119522095,
          2.507925510406494,
          3.2687745094299316,
          3.671868324279785,
          0.7694876790046692,
          4.769607067108154,
          4.200442790985107,
          1.2480688095092773,
          3.274190902709961,
          3.029338836669922,
          1.482251524925232,
          6.356456279754639,
          3.3783912658691406,
          1.3393579721450806,
          1.6357371807098389,
          4.184800148010254,
          2.414541482925415,
          2.943251609802246,
          4.474294185638428,
          3.597785711288452,
          1.3923165798187256,
          1.5663901567459106,
          2.8055737018585205,
          2.5637619495391846,
          2.6888442039489746,
          1.788382649421692,
          1.8943167924880981,
          2.5333056449890137,
          4.708714962005615,
          4.952697277069092,
          5.056145191192627,
          3.0004448890686035,
          3.9126827716827393,
          1.6985644102096558,
          1.9701483249664307,
          0.9217249155044556,
          2.11437726020813,
          1.4221382141113281,
          1.0976548194885254,
          1.6908038854599,
          3.8417069911956787,
          4.97276496887207,
          2.2850279808044434,
          3.713179349899292,
          6.189666271209717,
          3.436471939086914,
          0.9262757897377014,
          5.581191539764404,
          5.943934440612793,
          4.104974269866943,
          6.421551704406738
         ],
         "xaxis": "x3",
         "y": [
          12.686749458312988,
          12.505816459655762,
          12.510465621948242,
          12.412506103515625,
          10.921271324157715,
          11.73935317993164,
          10.26657485961914,
          10.175050735473633,
          11.987940788269043,
          10.790842056274414,
          12.621150016784668,
          9.585092544555664,
          12.24620246887207,
          12.187430381774902,
          10.95280933380127,
          9.947750091552734,
          11.934093475341797,
          10.971464157104492,
          10.146341323852539,
          11.69019889831543,
          11.437891960144043,
          11.343362808227539,
          11.150703430175781,
          12.762471199035645,
          11.526054382324219,
          9.307287216186523,
          10.398808479309082,
          11.94168472290039,
          12.807456970214844,
          9.53665542602539,
          10.518454551696777,
          10.757181167602539,
          9.68612289428711,
          13.107088088989258,
          12.184743881225586,
          9.386093139648438,
          11.771960258483887,
          10.69354248046875,
          9.007660865783691,
          9.972764015197754,
          12.892754554748535,
          9.44176959991455,
          10.366419792175293,
          12.155536651611328,
          11.640992164611816,
          10.09550666809082,
          11.570281982421875,
          12.998770713806152,
          12.868721961975098,
          12.9185791015625,
          10.562912940979004,
          9.743172645568848,
          12.129150390625,
          11.026823043823242,
          10.901951789855957,
          10.712095260620117,
          12.543704986572266,
          11.706974029541016,
          9.200878143310547,
          11.947957038879395,
          10.136449813842773,
          10.105566024780273,
          11.085001945495605,
          10.452953338623047,
          9.346256256103516,
          12.360420227050781,
          12.496392250061035,
          9.77466869354248,
          13.00689697265625,
          12.354907989501953,
          12.641240119934082,
          9.33384895324707,
          12.018735885620117,
          11.86422061920166,
          12.136752128601074,
          12.021931648254395
         ],
         "yaxis": "y3"
        }
       ],
       "layout": {
        "annotations": [
         {
          "font": {
           "size": 20
          },
          "showarrow": false,
          "text": "UMAP MEMO aligned: Isolation Forest",
          "x": 0.14444444444444446,
          "xanchor": "center",
          "xref": "paper",
          "y": 1,
          "yanchor": "bottom",
          "yref": "paper"
         },
         {
          "font": {
           "size": 20
          },
          "showarrow": false,
          "text": "UMAP MEMO aligned: LOF",
          "x": 0.5,
          "xanchor": "center",
          "xref": "paper",
          "y": 1,
          "yanchor": "bottom",
          "yref": "paper"
         },
         {
          "font": {
           "size": 20
          },
          "showarrow": false,
          "text": "UMAP MEMO aligned: OCSVM",
          "x": 0.8555555555555556,
          "xanchor": "center",
          "xref": "paper",
          "y": 1,
          "yanchor": "bottom",
          "yref": "paper"
         }
        ],
        "font": {
         "color": "black",
         "family": "Times New Roman",
         "size": 16
        },
        "height": 600,
        "legend": {
         "bordercolor": "Black",
         "borderwidth": 1,
         "orientation": "h",
         "x": 0,
         "y": -0.15
        },
        "template": {
         "data": {
          "bar": [
           {
            "error_x": {
             "color": "rgb(36,36,36)"
            },
            "error_y": {
             "color": "rgb(36,36,36)"
            },
            "marker": {
             "line": {
              "color": "white",
              "width": 0.5
             },
             "pattern": {
              "fillmode": "overlay",
              "size": 10,
              "solidity": 0.2
             }
            },
            "type": "bar"
           }
          ],
          "barpolar": [
           {
            "marker": {
             "line": {
              "color": "white",
              "width": 0.5
             },
             "pattern": {
              "fillmode": "overlay",
              "size": 10,
              "solidity": 0.2
             }
            },
            "type": "barpolar"
           }
          ],
          "carpet": [
           {
            "aaxis": {
             "endlinecolor": "rgb(36,36,36)",
             "gridcolor": "white",
             "linecolor": "white",
             "minorgridcolor": "white",
             "startlinecolor": "rgb(36,36,36)"
            },
            "baxis": {
             "endlinecolor": "rgb(36,36,36)",
             "gridcolor": "white",
             "linecolor": "white",
             "minorgridcolor": "white",
             "startlinecolor": "rgb(36,36,36)"
            },
            "type": "carpet"
           }
          ],
          "choropleth": [
           {
            "colorbar": {
             "outlinewidth": 1,
             "tickcolor": "rgb(36,36,36)",
             "ticks": "outside"
            },
            "type": "choropleth"
           }
          ],
          "contour": [
           {
            "colorbar": {
             "outlinewidth": 1,
             "tickcolor": "rgb(36,36,36)",
             "ticks": "outside"
            },
            "colorscale": [
             [
              0,
              "#440154"
             ],
             [
              0.1111111111111111,
              "#482878"
             ],
             [
              0.2222222222222222,
              "#3e4989"
             ],
             [
              0.3333333333333333,
              "#31688e"
             ],
             [
              0.4444444444444444,
              "#26828e"
             ],
             [
              0.5555555555555556,
              "#1f9e89"
             ],
             [
              0.6666666666666666,
              "#35b779"
             ],
             [
              0.7777777777777778,
              "#6ece58"
             ],
             [
              0.8888888888888888,
              "#b5de2b"
             ],
             [
              1,
              "#fde725"
             ]
            ],
            "type": "contour"
           }
          ],
          "contourcarpet": [
           {
            "colorbar": {
             "outlinewidth": 1,
             "tickcolor": "rgb(36,36,36)",
             "ticks": "outside"
            },
            "type": "contourcarpet"
           }
          ],
          "heatmap": [
           {
            "colorbar": {
             "outlinewidth": 1,
             "tickcolor": "rgb(36,36,36)",
             "ticks": "outside"
            },
            "colorscale": [
             [
              0,
              "#440154"
             ],
             [
              0.1111111111111111,
              "#482878"
             ],
             [
              0.2222222222222222,
              "#3e4989"
             ],
             [
              0.3333333333333333,
              "#31688e"
             ],
             [
              0.4444444444444444,
              "#26828e"
             ],
             [
              0.5555555555555556,
              "#1f9e89"
             ],
             [
              0.6666666666666666,
              "#35b779"
             ],
             [
              0.7777777777777778,
              "#6ece58"
             ],
             [
              0.8888888888888888,
              "#b5de2b"
             ],
             [
              1,
              "#fde725"
             ]
            ],
            "type": "heatmap"
           }
          ],
          "heatmapgl": [
           {
            "colorbar": {
             "outlinewidth": 1,
             "tickcolor": "rgb(36,36,36)",
             "ticks": "outside"
            },
            "colorscale": [
             [
              0,
              "#440154"
             ],
             [
              0.1111111111111111,
              "#482878"
             ],
             [
              0.2222222222222222,
              "#3e4989"
             ],
             [
              0.3333333333333333,
              "#31688e"
             ],
             [
              0.4444444444444444,
              "#26828e"
             ],
             [
              0.5555555555555556,
              "#1f9e89"
             ],
             [
              0.6666666666666666,
              "#35b779"
             ],
             [
              0.7777777777777778,
              "#6ece58"
             ],
             [
              0.8888888888888888,
              "#b5de2b"
             ],
             [
              1,
              "#fde725"
             ]
            ],
            "type": "heatmapgl"
           }
          ],
          "histogram": [
           {
            "marker": {
             "line": {
              "color": "white",
              "width": 0.6
             }
            },
            "type": "histogram"
           }
          ],
          "histogram2d": [
           {
            "colorbar": {
             "outlinewidth": 1,
             "tickcolor": "rgb(36,36,36)",
             "ticks": "outside"
            },
            "colorscale": [
             [
              0,
              "#440154"
             ],
             [
              0.1111111111111111,
              "#482878"
             ],
             [
              0.2222222222222222,
              "#3e4989"
             ],
             [
              0.3333333333333333,
              "#31688e"
             ],
             [
              0.4444444444444444,
              "#26828e"
             ],
             [
              0.5555555555555556,
              "#1f9e89"
             ],
             [
              0.6666666666666666,
              "#35b779"
             ],
             [
              0.7777777777777778,
              "#6ece58"
             ],
             [
              0.8888888888888888,
              "#b5de2b"
             ],
             [
              1,
              "#fde725"
             ]
            ],
            "type": "histogram2d"
           }
          ],
          "histogram2dcontour": [
           {
            "colorbar": {
             "outlinewidth": 1,
             "tickcolor": "rgb(36,36,36)",
             "ticks": "outside"
            },
            "colorscale": [
             [
              0,
              "#440154"
             ],
             [
              0.1111111111111111,
              "#482878"
             ],
             [
              0.2222222222222222,
              "#3e4989"
             ],
             [
              0.3333333333333333,
              "#31688e"
             ],
             [
              0.4444444444444444,
              "#26828e"
             ],
             [
              0.5555555555555556,
              "#1f9e89"
             ],
             [
              0.6666666666666666,
              "#35b779"
             ],
             [
              0.7777777777777778,
              "#6ece58"
             ],
             [
              0.8888888888888888,
              "#b5de2b"
             ],
             [
              1,
              "#fde725"
             ]
            ],
            "type": "histogram2dcontour"
           }
          ],
          "mesh3d": [
           {
            "colorbar": {
             "outlinewidth": 1,
             "tickcolor": "rgb(36,36,36)",
             "ticks": "outside"
            },
            "type": "mesh3d"
           }
          ],
          "parcoords": [
           {
            "line": {
             "colorbar": {
              "outlinewidth": 1,
              "tickcolor": "rgb(36,36,36)",
              "ticks": "outside"
             }
            },
            "type": "parcoords"
           }
          ],
          "pie": [
           {
            "automargin": true,
            "type": "pie"
           }
          ],
          "scatter": [
           {
            "fillpattern": {
             "fillmode": "overlay",
             "size": 10,
             "solidity": 0.2
            },
            "type": "scatter"
           }
          ],
          "scatter3d": [
           {
            "line": {
             "colorbar": {
              "outlinewidth": 1,
              "tickcolor": "rgb(36,36,36)",
              "ticks": "outside"
             }
            },
            "marker": {
             "colorbar": {
              "outlinewidth": 1,
              "tickcolor": "rgb(36,36,36)",
              "ticks": "outside"
             }
            },
            "type": "scatter3d"
           }
          ],
          "scattercarpet": [
           {
            "marker": {
             "colorbar": {
              "outlinewidth": 1,
              "tickcolor": "rgb(36,36,36)",
              "ticks": "outside"
             }
            },
            "type": "scattercarpet"
           }
          ],
          "scattergeo": [
           {
            "marker": {
             "colorbar": {
              "outlinewidth": 1,
              "tickcolor": "rgb(36,36,36)",
              "ticks": "outside"
             }
            },
            "type": "scattergeo"
           }
          ],
          "scattergl": [
           {
            "marker": {
             "colorbar": {
              "outlinewidth": 1,
              "tickcolor": "rgb(36,36,36)",
              "ticks": "outside"
             }
            },
            "type": "scattergl"
           }
          ],
          "scattermapbox": [
           {
            "marker": {
             "colorbar": {
              "outlinewidth": 1,
              "tickcolor": "rgb(36,36,36)",
              "ticks": "outside"
             }
            },
            "type": "scattermapbox"
           }
          ],
          "scatterpolar": [
           {
            "marker": {
             "colorbar": {
              "outlinewidth": 1,
              "tickcolor": "rgb(36,36,36)",
              "ticks": "outside"
             }
            },
            "type": "scatterpolar"
           }
          ],
          "scatterpolargl": [
           {
            "marker": {
             "colorbar": {
              "outlinewidth": 1,
              "tickcolor": "rgb(36,36,36)",
              "ticks": "outside"
             }
            },
            "type": "scatterpolargl"
           }
          ],
          "scatterternary": [
           {
            "marker": {
             "colorbar": {
              "outlinewidth": 1,
              "tickcolor": "rgb(36,36,36)",
              "ticks": "outside"
             }
            },
            "type": "scatterternary"
           }
          ],
          "surface": [
           {
            "colorbar": {
             "outlinewidth": 1,
             "tickcolor": "rgb(36,36,36)",
             "ticks": "outside"
            },
            "colorscale": [
             [
              0,
              "#440154"
             ],
             [
              0.1111111111111111,
              "#482878"
             ],
             [
              0.2222222222222222,
              "#3e4989"
             ],
             [
              0.3333333333333333,
              "#31688e"
             ],
             [
              0.4444444444444444,
              "#26828e"
             ],
             [
              0.5555555555555556,
              "#1f9e89"
             ],
             [
              0.6666666666666666,
              "#35b779"
             ],
             [
              0.7777777777777778,
              "#6ece58"
             ],
             [
              0.8888888888888888,
              "#b5de2b"
             ],
             [
              1,
              "#fde725"
             ]
            ],
            "type": "surface"
           }
          ],
          "table": [
           {
            "cells": {
             "fill": {
              "color": "rgb(237,237,237)"
             },
             "line": {
              "color": "white"
             }
            },
            "header": {
             "fill": {
              "color": "rgb(217,217,217)"
             },
             "line": {
              "color": "white"
             }
            },
            "type": "table"
           }
          ]
         },
         "layout": {
          "annotationdefaults": {
           "arrowhead": 0,
           "arrowwidth": 1
          },
          "autotypenumbers": "strict",
          "coloraxis": {
           "colorbar": {
            "outlinewidth": 1,
            "tickcolor": "rgb(36,36,36)",
            "ticks": "outside"
           }
          },
          "colorscale": {
           "diverging": [
            [
             0,
             "rgb(103,0,31)"
            ],
            [
             0.1,
             "rgb(178,24,43)"
            ],
            [
             0.2,
             "rgb(214,96,77)"
            ],
            [
             0.3,
             "rgb(244,165,130)"
            ],
            [
             0.4,
             "rgb(253,219,199)"
            ],
            [
             0.5,
             "rgb(247,247,247)"
            ],
            [
             0.6,
             "rgb(209,229,240)"
            ],
            [
             0.7,
             "rgb(146,197,222)"
            ],
            [
             0.8,
             "rgb(67,147,195)"
            ],
            [
             0.9,
             "rgb(33,102,172)"
            ],
            [
             1,
             "rgb(5,48,97)"
            ]
           ],
           "sequential": [
            [
             0,
             "#440154"
            ],
            [
             0.1111111111111111,
             "#482878"
            ],
            [
             0.2222222222222222,
             "#3e4989"
            ],
            [
             0.3333333333333333,
             "#31688e"
            ],
            [
             0.4444444444444444,
             "#26828e"
            ],
            [
             0.5555555555555556,
             "#1f9e89"
            ],
            [
             0.6666666666666666,
             "#35b779"
            ],
            [
             0.7777777777777778,
             "#6ece58"
            ],
            [
             0.8888888888888888,
             "#b5de2b"
            ],
            [
             1,
             "#fde725"
            ]
           ],
           "sequentialminus": [
            [
             0,
             "#440154"
            ],
            [
             0.1111111111111111,
             "#482878"
            ],
            [
             0.2222222222222222,
             "#3e4989"
            ],
            [
             0.3333333333333333,
             "#31688e"
            ],
            [
             0.4444444444444444,
             "#26828e"
            ],
            [
             0.5555555555555556,
             "#1f9e89"
            ],
            [
             0.6666666666666666,
             "#35b779"
            ],
            [
             0.7777777777777778,
             "#6ece58"
            ],
            [
             0.8888888888888888,
             "#b5de2b"
            ],
            [
             1,
             "#fde725"
            ]
           ]
          },
          "colorway": [
           "#1F77B4",
           "#FF7F0E",
           "#2CA02C",
           "#D62728",
           "#9467BD",
           "#8C564B",
           "#E377C2",
           "#7F7F7F",
           "#BCBD22",
           "#17BECF"
          ],
          "font": {
           "color": "rgb(36,36,36)"
          },
          "geo": {
           "bgcolor": "white",
           "lakecolor": "white",
           "landcolor": "white",
           "showlakes": true,
           "showland": true,
           "subunitcolor": "white"
          },
          "hoverlabel": {
           "align": "left"
          },
          "hovermode": "closest",
          "mapbox": {
           "style": "light"
          },
          "paper_bgcolor": "white",
          "plot_bgcolor": "white",
          "polar": {
           "angularaxis": {
            "gridcolor": "rgb(232,232,232)",
            "linecolor": "rgb(36,36,36)",
            "showgrid": false,
            "showline": true,
            "ticks": "outside"
           },
           "bgcolor": "white",
           "radialaxis": {
            "gridcolor": "rgb(232,232,232)",
            "linecolor": "rgb(36,36,36)",
            "showgrid": false,
            "showline": true,
            "ticks": "outside"
           }
          },
          "scene": {
           "xaxis": {
            "backgroundcolor": "white",
            "gridcolor": "rgb(232,232,232)",
            "gridwidth": 2,
            "linecolor": "rgb(36,36,36)",
            "showbackground": true,
            "showgrid": false,
            "showline": true,
            "ticks": "outside",
            "zeroline": false,
            "zerolinecolor": "rgb(36,36,36)"
           },
           "yaxis": {
            "backgroundcolor": "white",
            "gridcolor": "rgb(232,232,232)",
            "gridwidth": 2,
            "linecolor": "rgb(36,36,36)",
            "showbackground": true,
            "showgrid": false,
            "showline": true,
            "ticks": "outside",
            "zeroline": false,
            "zerolinecolor": "rgb(36,36,36)"
           },
           "zaxis": {
            "backgroundcolor": "white",
            "gridcolor": "rgb(232,232,232)",
            "gridwidth": 2,
            "linecolor": "rgb(36,36,36)",
            "showbackground": true,
            "showgrid": false,
            "showline": true,
            "ticks": "outside",
            "zeroline": false,
            "zerolinecolor": "rgb(36,36,36)"
           }
          },
          "shapedefaults": {
           "fillcolor": "black",
           "line": {
            "width": 0
           },
           "opacity": 0.3
          },
          "ternary": {
           "aaxis": {
            "gridcolor": "rgb(232,232,232)",
            "linecolor": "rgb(36,36,36)",
            "showgrid": false,
            "showline": true,
            "ticks": "outside"
           },
           "baxis": {
            "gridcolor": "rgb(232,232,232)",
            "linecolor": "rgb(36,36,36)",
            "showgrid": false,
            "showline": true,
            "ticks": "outside"
           },
           "bgcolor": "white",
           "caxis": {
            "gridcolor": "rgb(232,232,232)",
            "linecolor": "rgb(36,36,36)",
            "showgrid": false,
            "showline": true,
            "ticks": "outside"
           }
          },
          "title": {
           "x": 0.05
          },
          "xaxis": {
           "automargin": true,
           "gridcolor": "rgb(232,232,232)",
           "linecolor": "rgb(36,36,36)",
           "showgrid": false,
           "showline": true,
           "ticks": "outside",
           "title": {
            "standoff": 15
           },
           "zeroline": false,
           "zerolinecolor": "rgb(36,36,36)"
          },
          "yaxis": {
           "automargin": true,
           "gridcolor": "rgb(232,232,232)",
           "linecolor": "rgb(36,36,36)",
           "showgrid": false,
           "showline": true,
           "ticks": "outside",
           "title": {
            "standoff": 15
           },
           "zeroline": false,
           "zerolinecolor": "rgb(36,36,36)"
          }
         }
        },
        "title": {
         "text": "Multiple outlier detection results"
        },
        "width": 1500,
        "xaxis": {
         "anchor": "y",
         "domain": [
          0,
          0.2888888888888889
         ]
        },
        "xaxis2": {
         "anchor": "y2",
         "domain": [
          0.35555555555555557,
          0.6444444444444445
         ]
        },
        "xaxis3": {
         "anchor": "y3",
         "domain": [
          0.7111111111111111,
          1
         ]
        },
        "yaxis": {
         "anchor": "x",
         "domain": [
          0,
          1
         ]
        },
        "yaxis2": {
         "anchor": "x2",
         "domain": [
          0,
          1
         ]
        },
        "yaxis3": {
         "anchor": "x3",
         "domain": [
          0,
          1
         ]
        }
       }
      },
      "text/html": [
       "<div>                            <div id=\"a5ba82c6-1a83-4cb2-9fda-4818e10f71a6\" class=\"plotly-graph-div\" style=\"height:600px; width:1500px;\"></div>            <script type=\"text/javascript\">                require([\"plotly\"], function(Plotly) {                    window.PLOTLYENV=window.PLOTLYENV || {};                                    if (document.getElementById(\"a5ba82c6-1a83-4cb2-9fda-4818e10f71a6\")) {                    Plotly.newPlot(                        \"a5ba82c6-1a83-4cb2-9fda-4818e10f71a6\",                        [{\"hovertext\":[\"LQ-01-61-01_pos.mzXML\",\"LQ-01-61-02_pos.mzXML\",\"LQ-01-61-03_pos.mzXML\",\"LQ-01-61-04_pos.mzXML\",\"LQ-01-61-05_pos.mzXML\",\"LQ-01-61-06_pos.mzXML\",\"LQ-01-61-07_pos.mzXML\",\"LQ-01-61-08_pos.mzXML\",\"LQ-01-61-09_pos.mzXML\",\"LQ-01-61-10_pos.mzXML\",\"LQ-01-61-11_pos.mzXML\",\"LQ-01-61-12_pos.mzXML\",\"LQ-01-61-13_pos.mzXML\",\"LQ-01-61-14_pos.mzXML\",\"LQ-01-61-15_pos.mzXML\",\"LQ-01-61-16_pos.mzXML\",\"LQ-01-61-17_pos.mzXML\",\"LQ-01-61-18_pos.mzXML\",\"LQ-01-61-19_pos.mzXML\",\"LQ-01-61-20_pos.mzXML\",\"LQ-01-61-21_pos.mzXML\",\"LQ-01-61-22_pos.mzXML\",\"LQ-01-61-23_pos.mzXML\",\"LQ-01-61-24_pos.mzXML\",\"LQ-01-61-25_pos.mzXML\",\"LQ-01-61-26_pos.mzXML\",\"LQ-01-61-27_pos.mzXML\",\"LQ-01-61-28_pos.mzXML\",\"LQ-01-61-29_pos.mzXML\",\"LQ-01-61-30_pos.mzXML\",\"LQ-01-61-31_pos.mzXML\",\"LQ-01-61-32_pos.mzXML\",\"LQ-01-61-33_pos.mzXML\",\"LQ-01-61-34_pos.mzXML\",\"LQ-01-61-35_pos.mzXML\",\"LQ-01-61-36_pos.mzXML\",\"LQ-01-61-37_pos.mzXML\",\"LQ-01-61-38_pos.mzXML\",\"LQ-01-61-39_pos.mzXML\",\"LQ-01-61-40_pos.mzXML\",\"LQ-01-61-41_pos.mzXML\",\"LQ-01-61-42_pos.mzXML\",\"LQ-01-61-43_pos.mzXML\",\"LQ-01-61-44_pos.mzXML\",\"LQ-01-61-45_pos.mzXML\",\"LQ-01-61-46_pos.mzXML\",\"LQ-01-61-47_pos.mzXML\",\"LQ-01-61-48_pos.mzXML\",\"LQ-01-61-49_pos.mzXML\",\"LQ-01-61-50_pos.mzXML\",\"LQ-01-61-51_pos.mzXML\",\"LQ-01-61-52_pos.mzXML\",\"LQ-01-61-53_pos.mzXML\",\"LQ-01-61-54_pos.mzXML\",\"LQ-01-61-55_pos.mzXML\",\"LQ-01-61-56_pos.mzXML\",\"LQ-01-61-57_pos.mzXML\",\"LQ-01-61-58_pos.mzXML\",\"LQ-01-61-59_pos.mzXML\",\"LQ-01-61-60_pos.mzXML\",\"LQ-01-61-61_pos.mzXML\",\"LQ-01-61-62_pos.mzXML\",\"LQ-01-61-63_pos.mzXML\",\"LQ-01-61-64_pos.mzXML\",\"LQ-01-61-65_pos.mzXML\",\"LQ-01-61-66_pos.mzXML\",\"LQ-01-61-67_pos.mzXML\",\"LQ-01-61-68_pos.mzXML\",\"LQ-01-61-69_pos.mzXML\",\"LQ-01-61-70_pos.mzXML\",\"LQ-01-61-71_pos.mzXML\",\"LQ-01-61-72_pos.mzXML\",\"LQ-01-61-73_pos.mzXML\",\"LQ-01-61-74_pos.mzXML\",\"LQ-01-61-75_pos.mzXML\",\"LQ-01-61-78_pos.mzXML\"],\"marker\":{\"color\":[-1,-1,-1,-1,-1,-1,-1,1,1,1,1,1,1,-1,1,1,1,1,-1,1,1,1,1,1,1,1,1,1,1,1,-1,1,1,1,1,1,-1,1,1,1,1,1,1,1,1,1,1,1,1,1,1,1,1,1,1,1,1,1,1,1,1,1,1,1,1,1,1,1,1,1,1,1,1,-1,1,1],\"colorscale\":[[0.0,\"rgb(128,0,38)\"],[0.125,\"rgb(189,0,38)\"],[0.25,\"rgb(227,26,28)\"],[0.375,\"rgb(252,78,42)\"],[0.5,\"rgb(253,141,60)\"],[0.625,\"rgb(254,178,76)\"],[0.75,\"rgb(254,217,118)\"],[0.875,\"rgb(255,237,160)\"],[1.0,\"rgb(255,255,204)\"]],\"line\":{\"color\":\"black\",\"width\":0.5},\"showscale\":false,\"size\":10},\"mode\":\"markers\",\"name\":\"Anomaly [-1]\",\"opacity\":0.85,\"x\":[5.753268241882324,5.589197635650635,6.241732597351074,6.0248918533325195,3.2863035202026367,6.018698692321777,4.410745143890381,1.1892107725143433,2.068366050720215,1.8118177652359009,4.066256046295166,2.0656421184539795,3.1470608711242676,6.269529819488525,2.635744094848633,3.915072441101074,5.8593430519104,3.7914352416992188,4.279712677001953,3.26104736328125,1.897539496421814,1.9164143800735474,2.0924644470214844,3.271779775619507,2.6608896255493164,1.2387272119522095,2.507925510406494,3.2687745094299316,3.671868324279785,0.7694876790046692,4.769607067108154,4.200442790985107,1.2480688095092773,3.274190902709961,3.029338836669922,1.482251524925232,6.356456279754639,3.3783912658691406,1.3393579721450806,1.6357371807098389,4.184800148010254,2.414541482925415,2.943251609802246,4.474294185638428,3.597785711288452,1.3923165798187256,1.5663901567459106,2.8055737018585205,2.5637619495391846,2.6888442039489746,1.788382649421692,1.8943167924880981,2.5333056449890137,4.708714962005615,4.952697277069092,5.056145191192627,3.0004448890686035,3.9126827716827393,1.6985644102096558,1.9701483249664307,0.9217249155044556,2.11437726020813,1.4221382141113281,1.0976548194885254,1.6908038854599,3.8417069911956787,4.97276496887207,2.2850279808044434,3.713179349899292,6.189666271209717,3.436471939086914,0.9262757897377014,5.581191539764404,5.943934440612793,4.104974269866943,6.421551704406738],\"y\":[12.686749458312988,12.505816459655762,12.510465621948242,12.412506103515625,10.921271324157715,11.73935317993164,10.26657485961914,10.175050735473633,11.987940788269043,10.790842056274414,12.621150016784668,9.585092544555664,12.24620246887207,12.187430381774902,10.95280933380127,9.947750091552734,11.934093475341797,10.971464157104492,10.146341323852539,11.69019889831543,11.437891960144043,11.343362808227539,11.150703430175781,12.762471199035645,11.526054382324219,9.307287216186523,10.398808479309082,11.94168472290039,12.807456970214844,9.53665542602539,10.518454551696777,10.757181167602539,9.68612289428711,13.107088088989258,12.184743881225586,9.386093139648438,11.771960258483887,10.69354248046875,9.007660865783691,9.972764015197754,12.892754554748535,9.44176959991455,10.366419792175293,12.155536651611328,11.640992164611816,10.09550666809082,11.570281982421875,12.998770713806152,12.868721961975098,12.9185791015625,10.562912940979004,9.743172645568848,12.129150390625,11.026823043823242,10.901951789855957,10.712095260620117,12.543704986572266,11.706974029541016,9.200878143310547,11.947957038879395,10.136449813842773,10.105566024780273,11.085001945495605,10.452953338623047,9.346256256103516,12.360420227050781,12.496392250061035,9.77466869354248,13.00689697265625,12.354907989501953,12.641240119934082,9.33384895324707,12.018735885620117,11.86422061920166,12.136752128601074,12.021931648254395],\"type\":\"scatter\",\"xaxis\":\"x\",\"yaxis\":\"y\"},{\"hovertext\":[\"LQ-01-61-01_pos.mzXML\",\"LQ-01-61-02_pos.mzXML\",\"LQ-01-61-03_pos.mzXML\",\"LQ-01-61-04_pos.mzXML\",\"LQ-01-61-05_pos.mzXML\",\"LQ-01-61-06_pos.mzXML\",\"LQ-01-61-07_pos.mzXML\",\"LQ-01-61-08_pos.mzXML\",\"LQ-01-61-09_pos.mzXML\",\"LQ-01-61-10_pos.mzXML\",\"LQ-01-61-11_pos.mzXML\",\"LQ-01-61-12_pos.mzXML\",\"LQ-01-61-13_pos.mzXML\",\"LQ-01-61-14_pos.mzXML\",\"LQ-01-61-15_pos.mzXML\",\"LQ-01-61-16_pos.mzXML\",\"LQ-01-61-17_pos.mzXML\",\"LQ-01-61-18_pos.mzXML\",\"LQ-01-61-19_pos.mzXML\",\"LQ-01-61-20_pos.mzXML\",\"LQ-01-61-21_pos.mzXML\",\"LQ-01-61-22_pos.mzXML\",\"LQ-01-61-23_pos.mzXML\",\"LQ-01-61-24_pos.mzXML\",\"LQ-01-61-25_pos.mzXML\",\"LQ-01-61-26_pos.mzXML\",\"LQ-01-61-27_pos.mzXML\",\"LQ-01-61-28_pos.mzXML\",\"LQ-01-61-29_pos.mzXML\",\"LQ-01-61-30_pos.mzXML\",\"LQ-01-61-31_pos.mzXML\",\"LQ-01-61-32_pos.mzXML\",\"LQ-01-61-33_pos.mzXML\",\"LQ-01-61-34_pos.mzXML\",\"LQ-01-61-35_pos.mzXML\",\"LQ-01-61-36_pos.mzXML\",\"LQ-01-61-37_pos.mzXML\",\"LQ-01-61-38_pos.mzXML\",\"LQ-01-61-39_pos.mzXML\",\"LQ-01-61-40_pos.mzXML\",\"LQ-01-61-41_pos.mzXML\",\"LQ-01-61-42_pos.mzXML\",\"LQ-01-61-43_pos.mzXML\",\"LQ-01-61-44_pos.mzXML\",\"LQ-01-61-45_pos.mzXML\",\"LQ-01-61-46_pos.mzXML\",\"LQ-01-61-47_pos.mzXML\",\"LQ-01-61-48_pos.mzXML\",\"LQ-01-61-49_pos.mzXML\",\"LQ-01-61-50_pos.mzXML\",\"LQ-01-61-51_pos.mzXML\",\"LQ-01-61-52_pos.mzXML\",\"LQ-01-61-53_pos.mzXML\",\"LQ-01-61-54_pos.mzXML\",\"LQ-01-61-55_pos.mzXML\",\"LQ-01-61-56_pos.mzXML\",\"LQ-01-61-57_pos.mzXML\",\"LQ-01-61-58_pos.mzXML\",\"LQ-01-61-59_pos.mzXML\",\"LQ-01-61-60_pos.mzXML\",\"LQ-01-61-61_pos.mzXML\",\"LQ-01-61-62_pos.mzXML\",\"LQ-01-61-63_pos.mzXML\",\"LQ-01-61-64_pos.mzXML\",\"LQ-01-61-65_pos.mzXML\",\"LQ-01-61-66_pos.mzXML\",\"LQ-01-61-67_pos.mzXML\",\"LQ-01-61-68_pos.mzXML\",\"LQ-01-61-69_pos.mzXML\",\"LQ-01-61-70_pos.mzXML\",\"LQ-01-61-71_pos.mzXML\",\"LQ-01-61-72_pos.mzXML\",\"LQ-01-61-73_pos.mzXML\",\"LQ-01-61-74_pos.mzXML\",\"LQ-01-61-75_pos.mzXML\",\"LQ-01-61-78_pos.mzXML\"],\"marker\":{\"color\":[1,1,1,1,1,1,-1,1,1,1,1,1,1,1,1,1,1,1,-1,1,1,-1,-1,1,1,1,1,1,1,1,1,1,1,1,1,1,1,1,1,1,-1,1,1,1,1,1,-1,1,1,1,1,1,1,-1,-1,-1,1,1,1,-1,1,1,1,1,1,1,1,1,1,1,1,-1,1,1,1,-1],\"colorscale\":[[0.0,\"rgb(128,0,38)\"],[0.125,\"rgb(189,0,38)\"],[0.25,\"rgb(227,26,28)\"],[0.375,\"rgb(252,78,42)\"],[0.5,\"rgb(253,141,60)\"],[0.625,\"rgb(254,178,76)\"],[0.75,\"rgb(254,217,118)\"],[0.875,\"rgb(255,237,160)\"],[1.0,\"rgb(255,255,204)\"]],\"line\":{\"color\":\"black\",\"width\":0.5},\"showscale\":false,\"size\":10},\"mode\":\"markers\",\"name\":\"Normal [1]\",\"opacity\":0.85,\"showlegend\":true,\"x\":[5.753268241882324,5.589197635650635,6.241732597351074,6.0248918533325195,3.2863035202026367,6.018698692321777,4.410745143890381,1.1892107725143433,2.068366050720215,1.8118177652359009,4.066256046295166,2.0656421184539795,3.1470608711242676,6.269529819488525,2.635744094848633,3.915072441101074,5.8593430519104,3.7914352416992188,4.279712677001953,3.26104736328125,1.897539496421814,1.9164143800735474,2.0924644470214844,3.271779775619507,2.6608896255493164,1.2387272119522095,2.507925510406494,3.2687745094299316,3.671868324279785,0.7694876790046692,4.769607067108154,4.200442790985107,1.2480688095092773,3.274190902709961,3.029338836669922,1.482251524925232,6.356456279754639,3.3783912658691406,1.3393579721450806,1.6357371807098389,4.184800148010254,2.414541482925415,2.943251609802246,4.474294185638428,3.597785711288452,1.3923165798187256,1.5663901567459106,2.8055737018585205,2.5637619495391846,2.6888442039489746,1.788382649421692,1.8943167924880981,2.5333056449890137,4.708714962005615,4.952697277069092,5.056145191192627,3.0004448890686035,3.9126827716827393,1.6985644102096558,1.9701483249664307,0.9217249155044556,2.11437726020813,1.4221382141113281,1.0976548194885254,1.6908038854599,3.8417069911956787,4.97276496887207,2.2850279808044434,3.713179349899292,6.189666271209717,3.436471939086914,0.9262757897377014,5.581191539764404,5.943934440612793,4.104974269866943,6.421551704406738],\"y\":[12.686749458312988,12.505816459655762,12.510465621948242,12.412506103515625,10.921271324157715,11.73935317993164,10.26657485961914,10.175050735473633,11.987940788269043,10.790842056274414,12.621150016784668,9.585092544555664,12.24620246887207,12.187430381774902,10.95280933380127,9.947750091552734,11.934093475341797,10.971464157104492,10.146341323852539,11.69019889831543,11.437891960144043,11.343362808227539,11.150703430175781,12.762471199035645,11.526054382324219,9.307287216186523,10.398808479309082,11.94168472290039,12.807456970214844,9.53665542602539,10.518454551696777,10.757181167602539,9.68612289428711,13.107088088989258,12.184743881225586,9.386093139648438,11.771960258483887,10.69354248046875,9.007660865783691,9.972764015197754,12.892754554748535,9.44176959991455,10.366419792175293,12.155536651611328,11.640992164611816,10.09550666809082,11.570281982421875,12.998770713806152,12.868721961975098,12.9185791015625,10.562912940979004,9.743172645568848,12.129150390625,11.026823043823242,10.901951789855957,10.712095260620117,12.543704986572266,11.706974029541016,9.200878143310547,11.947957038879395,10.136449813842773,10.105566024780273,11.085001945495605,10.452953338623047,9.346256256103516,12.360420227050781,12.496392250061035,9.77466869354248,13.00689697265625,12.354907989501953,12.641240119934082,9.33384895324707,12.018735885620117,11.86422061920166,12.136752128601074,12.021931648254395],\"type\":\"scatter\",\"xaxis\":\"x2\",\"yaxis\":\"y2\"},{\"hovertext\":[\"LQ-01-61-01_pos.mzXML\",\"LQ-01-61-02_pos.mzXML\",\"LQ-01-61-03_pos.mzXML\",\"LQ-01-61-04_pos.mzXML\",\"LQ-01-61-05_pos.mzXML\",\"LQ-01-61-06_pos.mzXML\",\"LQ-01-61-07_pos.mzXML\",\"LQ-01-61-08_pos.mzXML\",\"LQ-01-61-09_pos.mzXML\",\"LQ-01-61-10_pos.mzXML\",\"LQ-01-61-11_pos.mzXML\",\"LQ-01-61-12_pos.mzXML\",\"LQ-01-61-13_pos.mzXML\",\"LQ-01-61-14_pos.mzXML\",\"LQ-01-61-15_pos.mzXML\",\"LQ-01-61-16_pos.mzXML\",\"LQ-01-61-17_pos.mzXML\",\"LQ-01-61-18_pos.mzXML\",\"LQ-01-61-19_pos.mzXML\",\"LQ-01-61-20_pos.mzXML\",\"LQ-01-61-21_pos.mzXML\",\"LQ-01-61-22_pos.mzXML\",\"LQ-01-61-23_pos.mzXML\",\"LQ-01-61-24_pos.mzXML\",\"LQ-01-61-25_pos.mzXML\",\"LQ-01-61-26_pos.mzXML\",\"LQ-01-61-27_pos.mzXML\",\"LQ-01-61-28_pos.mzXML\",\"LQ-01-61-29_pos.mzXML\",\"LQ-01-61-30_pos.mzXML\",\"LQ-01-61-31_pos.mzXML\",\"LQ-01-61-32_pos.mzXML\",\"LQ-01-61-33_pos.mzXML\",\"LQ-01-61-34_pos.mzXML\",\"LQ-01-61-35_pos.mzXML\",\"LQ-01-61-36_pos.mzXML\",\"LQ-01-61-37_pos.mzXML\",\"LQ-01-61-38_pos.mzXML\",\"LQ-01-61-39_pos.mzXML\",\"LQ-01-61-40_pos.mzXML\",\"LQ-01-61-41_pos.mzXML\",\"LQ-01-61-42_pos.mzXML\",\"LQ-01-61-43_pos.mzXML\",\"LQ-01-61-44_pos.mzXML\",\"LQ-01-61-45_pos.mzXML\",\"LQ-01-61-46_pos.mzXML\",\"LQ-01-61-47_pos.mzXML\",\"LQ-01-61-48_pos.mzXML\",\"LQ-01-61-49_pos.mzXML\",\"LQ-01-61-50_pos.mzXML\",\"LQ-01-61-51_pos.mzXML\",\"LQ-01-61-52_pos.mzXML\",\"LQ-01-61-53_pos.mzXML\",\"LQ-01-61-54_pos.mzXML\",\"LQ-01-61-55_pos.mzXML\",\"LQ-01-61-56_pos.mzXML\",\"LQ-01-61-57_pos.mzXML\",\"LQ-01-61-58_pos.mzXML\",\"LQ-01-61-59_pos.mzXML\",\"LQ-01-61-60_pos.mzXML\",\"LQ-01-61-61_pos.mzXML\",\"LQ-01-61-62_pos.mzXML\",\"LQ-01-61-63_pos.mzXML\",\"LQ-01-61-64_pos.mzXML\",\"LQ-01-61-65_pos.mzXML\",\"LQ-01-61-66_pos.mzXML\",\"LQ-01-61-67_pos.mzXML\",\"LQ-01-61-68_pos.mzXML\",\"LQ-01-61-69_pos.mzXML\",\"LQ-01-61-70_pos.mzXML\",\"LQ-01-61-71_pos.mzXML\",\"LQ-01-61-72_pos.mzXML\",\"LQ-01-61-73_pos.mzXML\",\"LQ-01-61-74_pos.mzXML\",\"LQ-01-61-75_pos.mzXML\",\"LQ-01-61-78_pos.mzXML\"],\"legendgrouptitle\":{\"text\":\"Anomaly\"},\"marker\":{\"color\":[1,1,1,1,1,1,-1,1,1,1,1,1,1,1,1,1,1,1,1,1,1,1,1,1,1,1,1,1,1,1,1,1,1,1,1,1,1,1,1,1,1,1,1,1,1,1,1,1,1,1,1,1,1,1,-1,1,1,1,1,-1,1,1,1,1,1,1,1,1,1,1,1,1,1,1,1,-1],\"colorscale\":[[0.0,\"rgb(128,0,38)\"],[0.125,\"rgb(189,0,38)\"],[0.25,\"rgb(227,26,28)\"],[0.375,\"rgb(252,78,42)\"],[0.5,\"rgb(253,141,60)\"],[0.625,\"rgb(254,178,76)\"],[0.75,\"rgb(254,217,118)\"],[0.875,\"rgb(255,237,160)\"],[1.0,\"rgb(255,255,204)\"]],\"line\":{\"color\":\"black\",\"width\":0.5},\"showscale\":false,\"size\":10},\"mode\":\"markers\",\"opacity\":0.85,\"showlegend\":false,\"x\":[5.753268241882324,5.589197635650635,6.241732597351074,6.0248918533325195,3.2863035202026367,6.018698692321777,4.410745143890381,1.1892107725143433,2.068366050720215,1.8118177652359009,4.066256046295166,2.0656421184539795,3.1470608711242676,6.269529819488525,2.635744094848633,3.915072441101074,5.8593430519104,3.7914352416992188,4.279712677001953,3.26104736328125,1.897539496421814,1.9164143800735474,2.0924644470214844,3.271779775619507,2.6608896255493164,1.2387272119522095,2.507925510406494,3.2687745094299316,3.671868324279785,0.7694876790046692,4.769607067108154,4.200442790985107,1.2480688095092773,3.274190902709961,3.029338836669922,1.482251524925232,6.356456279754639,3.3783912658691406,1.3393579721450806,1.6357371807098389,4.184800148010254,2.414541482925415,2.943251609802246,4.474294185638428,3.597785711288452,1.3923165798187256,1.5663901567459106,2.8055737018585205,2.5637619495391846,2.6888442039489746,1.788382649421692,1.8943167924880981,2.5333056449890137,4.708714962005615,4.952697277069092,5.056145191192627,3.0004448890686035,3.9126827716827393,1.6985644102096558,1.9701483249664307,0.9217249155044556,2.11437726020813,1.4221382141113281,1.0976548194885254,1.6908038854599,3.8417069911956787,4.97276496887207,2.2850279808044434,3.713179349899292,6.189666271209717,3.436471939086914,0.9262757897377014,5.581191539764404,5.943934440612793,4.104974269866943,6.421551704406738],\"y\":[12.686749458312988,12.505816459655762,12.510465621948242,12.412506103515625,10.921271324157715,11.73935317993164,10.26657485961914,10.175050735473633,11.987940788269043,10.790842056274414,12.621150016784668,9.585092544555664,12.24620246887207,12.187430381774902,10.95280933380127,9.947750091552734,11.934093475341797,10.971464157104492,10.146341323852539,11.69019889831543,11.437891960144043,11.343362808227539,11.150703430175781,12.762471199035645,11.526054382324219,9.307287216186523,10.398808479309082,11.94168472290039,12.807456970214844,9.53665542602539,10.518454551696777,10.757181167602539,9.68612289428711,13.107088088989258,12.184743881225586,9.386093139648438,11.771960258483887,10.69354248046875,9.007660865783691,9.972764015197754,12.892754554748535,9.44176959991455,10.366419792175293,12.155536651611328,11.640992164611816,10.09550666809082,11.570281982421875,12.998770713806152,12.868721961975098,12.9185791015625,10.562912940979004,9.743172645568848,12.129150390625,11.026823043823242,10.901951789855957,10.712095260620117,12.543704986572266,11.706974029541016,9.200878143310547,11.947957038879395,10.136449813842773,10.105566024780273,11.085001945495605,10.452953338623047,9.346256256103516,12.360420227050781,12.496392250061035,9.77466869354248,13.00689697265625,12.354907989501953,12.641240119934082,9.33384895324707,12.018735885620117,11.86422061920166,12.136752128601074,12.021931648254395],\"type\":\"scatter\",\"xaxis\":\"x3\",\"yaxis\":\"y3\"}],                        {\"template\":{\"data\":{\"barpolar\":[{\"marker\":{\"line\":{\"color\":\"white\",\"width\":0.5},\"pattern\":{\"fillmode\":\"overlay\",\"size\":10,\"solidity\":0.2}},\"type\":\"barpolar\"}],\"bar\":[{\"error_x\":{\"color\":\"rgb(36,36,36)\"},\"error_y\":{\"color\":\"rgb(36,36,36)\"},\"marker\":{\"line\":{\"color\":\"white\",\"width\":0.5},\"pattern\":{\"fillmode\":\"overlay\",\"size\":10,\"solidity\":0.2}},\"type\":\"bar\"}],\"carpet\":[{\"aaxis\":{\"endlinecolor\":\"rgb(36,36,36)\",\"gridcolor\":\"white\",\"linecolor\":\"white\",\"minorgridcolor\":\"white\",\"startlinecolor\":\"rgb(36,36,36)\"},\"baxis\":{\"endlinecolor\":\"rgb(36,36,36)\",\"gridcolor\":\"white\",\"linecolor\":\"white\",\"minorgridcolor\":\"white\",\"startlinecolor\":\"rgb(36,36,36)\"},\"type\":\"carpet\"}],\"choropleth\":[{\"colorbar\":{\"outlinewidth\":1,\"tickcolor\":\"rgb(36,36,36)\",\"ticks\":\"outside\"},\"type\":\"choropleth\"}],\"contourcarpet\":[{\"colorbar\":{\"outlinewidth\":1,\"tickcolor\":\"rgb(36,36,36)\",\"ticks\":\"outside\"},\"type\":\"contourcarpet\"}],\"contour\":[{\"colorbar\":{\"outlinewidth\":1,\"tickcolor\":\"rgb(36,36,36)\",\"ticks\":\"outside\"},\"colorscale\":[[0.0,\"#440154\"],[0.1111111111111111,\"#482878\"],[0.2222222222222222,\"#3e4989\"],[0.3333333333333333,\"#31688e\"],[0.4444444444444444,\"#26828e\"],[0.5555555555555556,\"#1f9e89\"],[0.6666666666666666,\"#35b779\"],[0.7777777777777778,\"#6ece58\"],[0.8888888888888888,\"#b5de2b\"],[1.0,\"#fde725\"]],\"type\":\"contour\"}],\"heatmapgl\":[{\"colorbar\":{\"outlinewidth\":1,\"tickcolor\":\"rgb(36,36,36)\",\"ticks\":\"outside\"},\"colorscale\":[[0.0,\"#440154\"],[0.1111111111111111,\"#482878\"],[0.2222222222222222,\"#3e4989\"],[0.3333333333333333,\"#31688e\"],[0.4444444444444444,\"#26828e\"],[0.5555555555555556,\"#1f9e89\"],[0.6666666666666666,\"#35b779\"],[0.7777777777777778,\"#6ece58\"],[0.8888888888888888,\"#b5de2b\"],[1.0,\"#fde725\"]],\"type\":\"heatmapgl\"}],\"heatmap\":[{\"colorbar\":{\"outlinewidth\":1,\"tickcolor\":\"rgb(36,36,36)\",\"ticks\":\"outside\"},\"colorscale\":[[0.0,\"#440154\"],[0.1111111111111111,\"#482878\"],[0.2222222222222222,\"#3e4989\"],[0.3333333333333333,\"#31688e\"],[0.4444444444444444,\"#26828e\"],[0.5555555555555556,\"#1f9e89\"],[0.6666666666666666,\"#35b779\"],[0.7777777777777778,\"#6ece58\"],[0.8888888888888888,\"#b5de2b\"],[1.0,\"#fde725\"]],\"type\":\"heatmap\"}],\"histogram2dcontour\":[{\"colorbar\":{\"outlinewidth\":1,\"tickcolor\":\"rgb(36,36,36)\",\"ticks\":\"outside\"},\"colorscale\":[[0.0,\"#440154\"],[0.1111111111111111,\"#482878\"],[0.2222222222222222,\"#3e4989\"],[0.3333333333333333,\"#31688e\"],[0.4444444444444444,\"#26828e\"],[0.5555555555555556,\"#1f9e89\"],[0.6666666666666666,\"#35b779\"],[0.7777777777777778,\"#6ece58\"],[0.8888888888888888,\"#b5de2b\"],[1.0,\"#fde725\"]],\"type\":\"histogram2dcontour\"}],\"histogram2d\":[{\"colorbar\":{\"outlinewidth\":1,\"tickcolor\":\"rgb(36,36,36)\",\"ticks\":\"outside\"},\"colorscale\":[[0.0,\"#440154\"],[0.1111111111111111,\"#482878\"],[0.2222222222222222,\"#3e4989\"],[0.3333333333333333,\"#31688e\"],[0.4444444444444444,\"#26828e\"],[0.5555555555555556,\"#1f9e89\"],[0.6666666666666666,\"#35b779\"],[0.7777777777777778,\"#6ece58\"],[0.8888888888888888,\"#b5de2b\"],[1.0,\"#fde725\"]],\"type\":\"histogram2d\"}],\"histogram\":[{\"marker\":{\"line\":{\"color\":\"white\",\"width\":0.6}},\"type\":\"histogram\"}],\"mesh3d\":[{\"colorbar\":{\"outlinewidth\":1,\"tickcolor\":\"rgb(36,36,36)\",\"ticks\":\"outside\"},\"type\":\"mesh3d\"}],\"parcoords\":[{\"line\":{\"colorbar\":{\"outlinewidth\":1,\"tickcolor\":\"rgb(36,36,36)\",\"ticks\":\"outside\"}},\"type\":\"parcoords\"}],\"pie\":[{\"automargin\":true,\"type\":\"pie\"}],\"scatter3d\":[{\"line\":{\"colorbar\":{\"outlinewidth\":1,\"tickcolor\":\"rgb(36,36,36)\",\"ticks\":\"outside\"}},\"marker\":{\"colorbar\":{\"outlinewidth\":1,\"tickcolor\":\"rgb(36,36,36)\",\"ticks\":\"outside\"}},\"type\":\"scatter3d\"}],\"scattercarpet\":[{\"marker\":{\"colorbar\":{\"outlinewidth\":1,\"tickcolor\":\"rgb(36,36,36)\",\"ticks\":\"outside\"}},\"type\":\"scattercarpet\"}],\"scattergeo\":[{\"marker\":{\"colorbar\":{\"outlinewidth\":1,\"tickcolor\":\"rgb(36,36,36)\",\"ticks\":\"outside\"}},\"type\":\"scattergeo\"}],\"scattergl\":[{\"marker\":{\"colorbar\":{\"outlinewidth\":1,\"tickcolor\":\"rgb(36,36,36)\",\"ticks\":\"outside\"}},\"type\":\"scattergl\"}],\"scattermapbox\":[{\"marker\":{\"colorbar\":{\"outlinewidth\":1,\"tickcolor\":\"rgb(36,36,36)\",\"ticks\":\"outside\"}},\"type\":\"scattermapbox\"}],\"scatterpolargl\":[{\"marker\":{\"colorbar\":{\"outlinewidth\":1,\"tickcolor\":\"rgb(36,36,36)\",\"ticks\":\"outside\"}},\"type\":\"scatterpolargl\"}],\"scatterpolar\":[{\"marker\":{\"colorbar\":{\"outlinewidth\":1,\"tickcolor\":\"rgb(36,36,36)\",\"ticks\":\"outside\"}},\"type\":\"scatterpolar\"}],\"scatter\":[{\"fillpattern\":{\"fillmode\":\"overlay\",\"size\":10,\"solidity\":0.2},\"type\":\"scatter\"}],\"scatterternary\":[{\"marker\":{\"colorbar\":{\"outlinewidth\":1,\"tickcolor\":\"rgb(36,36,36)\",\"ticks\":\"outside\"}},\"type\":\"scatterternary\"}],\"surface\":[{\"colorbar\":{\"outlinewidth\":1,\"tickcolor\":\"rgb(36,36,36)\",\"ticks\":\"outside\"},\"colorscale\":[[0.0,\"#440154\"],[0.1111111111111111,\"#482878\"],[0.2222222222222222,\"#3e4989\"],[0.3333333333333333,\"#31688e\"],[0.4444444444444444,\"#26828e\"],[0.5555555555555556,\"#1f9e89\"],[0.6666666666666666,\"#35b779\"],[0.7777777777777778,\"#6ece58\"],[0.8888888888888888,\"#b5de2b\"],[1.0,\"#fde725\"]],\"type\":\"surface\"}],\"table\":[{\"cells\":{\"fill\":{\"color\":\"rgb(237,237,237)\"},\"line\":{\"color\":\"white\"}},\"header\":{\"fill\":{\"color\":\"rgb(217,217,217)\"},\"line\":{\"color\":\"white\"}},\"type\":\"table\"}]},\"layout\":{\"annotationdefaults\":{\"arrowhead\":0,\"arrowwidth\":1},\"autotypenumbers\":\"strict\",\"coloraxis\":{\"colorbar\":{\"outlinewidth\":1,\"tickcolor\":\"rgb(36,36,36)\",\"ticks\":\"outside\"}},\"colorscale\":{\"diverging\":[[0.0,\"rgb(103,0,31)\"],[0.1,\"rgb(178,24,43)\"],[0.2,\"rgb(214,96,77)\"],[0.3,\"rgb(244,165,130)\"],[0.4,\"rgb(253,219,199)\"],[0.5,\"rgb(247,247,247)\"],[0.6,\"rgb(209,229,240)\"],[0.7,\"rgb(146,197,222)\"],[0.8,\"rgb(67,147,195)\"],[0.9,\"rgb(33,102,172)\"],[1.0,\"rgb(5,48,97)\"]],\"sequential\":[[0.0,\"#440154\"],[0.1111111111111111,\"#482878\"],[0.2222222222222222,\"#3e4989\"],[0.3333333333333333,\"#31688e\"],[0.4444444444444444,\"#26828e\"],[0.5555555555555556,\"#1f9e89\"],[0.6666666666666666,\"#35b779\"],[0.7777777777777778,\"#6ece58\"],[0.8888888888888888,\"#b5de2b\"],[1.0,\"#fde725\"]],\"sequentialminus\":[[0.0,\"#440154\"],[0.1111111111111111,\"#482878\"],[0.2222222222222222,\"#3e4989\"],[0.3333333333333333,\"#31688e\"],[0.4444444444444444,\"#26828e\"],[0.5555555555555556,\"#1f9e89\"],[0.6666666666666666,\"#35b779\"],[0.7777777777777778,\"#6ece58\"],[0.8888888888888888,\"#b5de2b\"],[1.0,\"#fde725\"]]},\"colorway\":[\"#1F77B4\",\"#FF7F0E\",\"#2CA02C\",\"#D62728\",\"#9467BD\",\"#8C564B\",\"#E377C2\",\"#7F7F7F\",\"#BCBD22\",\"#17BECF\"],\"font\":{\"color\":\"rgb(36,36,36)\"},\"geo\":{\"bgcolor\":\"white\",\"lakecolor\":\"white\",\"landcolor\":\"white\",\"showlakes\":true,\"showland\":true,\"subunitcolor\":\"white\"},\"hoverlabel\":{\"align\":\"left\"},\"hovermode\":\"closest\",\"mapbox\":{\"style\":\"light\"},\"paper_bgcolor\":\"white\",\"plot_bgcolor\":\"white\",\"polar\":{\"angularaxis\":{\"gridcolor\":\"rgb(232,232,232)\",\"linecolor\":\"rgb(36,36,36)\",\"showgrid\":false,\"showline\":true,\"ticks\":\"outside\"},\"bgcolor\":\"white\",\"radialaxis\":{\"gridcolor\":\"rgb(232,232,232)\",\"linecolor\":\"rgb(36,36,36)\",\"showgrid\":false,\"showline\":true,\"ticks\":\"outside\"}},\"scene\":{\"xaxis\":{\"backgroundcolor\":\"white\",\"gridcolor\":\"rgb(232,232,232)\",\"gridwidth\":2,\"linecolor\":\"rgb(36,36,36)\",\"showbackground\":true,\"showgrid\":false,\"showline\":true,\"ticks\":\"outside\",\"zeroline\":false,\"zerolinecolor\":\"rgb(36,36,36)\"},\"yaxis\":{\"backgroundcolor\":\"white\",\"gridcolor\":\"rgb(232,232,232)\",\"gridwidth\":2,\"linecolor\":\"rgb(36,36,36)\",\"showbackground\":true,\"showgrid\":false,\"showline\":true,\"ticks\":\"outside\",\"zeroline\":false,\"zerolinecolor\":\"rgb(36,36,36)\"},\"zaxis\":{\"backgroundcolor\":\"white\",\"gridcolor\":\"rgb(232,232,232)\",\"gridwidth\":2,\"linecolor\":\"rgb(36,36,36)\",\"showbackground\":true,\"showgrid\":false,\"showline\":true,\"ticks\":\"outside\",\"zeroline\":false,\"zerolinecolor\":\"rgb(36,36,36)\"}},\"shapedefaults\":{\"fillcolor\":\"black\",\"line\":{\"width\":0},\"opacity\":0.3},\"ternary\":{\"aaxis\":{\"gridcolor\":\"rgb(232,232,232)\",\"linecolor\":\"rgb(36,36,36)\",\"showgrid\":false,\"showline\":true,\"ticks\":\"outside\"},\"baxis\":{\"gridcolor\":\"rgb(232,232,232)\",\"linecolor\":\"rgb(36,36,36)\",\"showgrid\":false,\"showline\":true,\"ticks\":\"outside\"},\"bgcolor\":\"white\",\"caxis\":{\"gridcolor\":\"rgb(232,232,232)\",\"linecolor\":\"rgb(36,36,36)\",\"showgrid\":false,\"showline\":true,\"ticks\":\"outside\"}},\"title\":{\"x\":0.05},\"xaxis\":{\"automargin\":true,\"gridcolor\":\"rgb(232,232,232)\",\"linecolor\":\"rgb(36,36,36)\",\"showgrid\":false,\"showline\":true,\"ticks\":\"outside\",\"title\":{\"standoff\":15},\"zeroline\":false,\"zerolinecolor\":\"rgb(36,36,36)\"},\"yaxis\":{\"automargin\":true,\"gridcolor\":\"rgb(232,232,232)\",\"linecolor\":\"rgb(36,36,36)\",\"showgrid\":false,\"showline\":true,\"ticks\":\"outside\",\"title\":{\"standoff\":15},\"zeroline\":false,\"zerolinecolor\":\"rgb(36,36,36)\"}}},\"xaxis\":{\"anchor\":\"y\",\"domain\":[0.0,0.2888888888888889]},\"yaxis\":{\"anchor\":\"x\",\"domain\":[0.0,1.0]},\"xaxis2\":{\"anchor\":\"y2\",\"domain\":[0.35555555555555557,0.6444444444444445]},\"yaxis2\":{\"anchor\":\"x2\",\"domain\":[0.0,1.0]},\"xaxis3\":{\"anchor\":\"y3\",\"domain\":[0.7111111111111111,1.0]},\"yaxis3\":{\"anchor\":\"x3\",\"domain\":[0.0,1.0]},\"annotations\":[{\"font\":{\"size\":20},\"showarrow\":false,\"text\":\"UMAP MEMO aligned: Isolation Forest\",\"x\":0.14444444444444446,\"xanchor\":\"center\",\"xref\":\"paper\",\"y\":1.0,\"yanchor\":\"bottom\",\"yref\":\"paper\"},{\"font\":{\"size\":20},\"showarrow\":false,\"text\":\"UMAP MEMO aligned: LOF\",\"x\":0.5,\"xanchor\":\"center\",\"xref\":\"paper\",\"y\":1.0,\"yanchor\":\"bottom\",\"yref\":\"paper\"},{\"font\":{\"size\":20},\"showarrow\":false,\"text\":\"UMAP MEMO aligned: OCSVM\",\"x\":0.8555555555555556,\"xanchor\":\"center\",\"xref\":\"paper\",\"y\":1.0,\"yanchor\":\"bottom\",\"yref\":\"paper\"}],\"title\":{\"text\":\"Multiple outlier detection results\"},\"height\":600,\"width\":1500,\"font\":{\"family\":\"Times New Roman\",\"size\":16,\"color\":\"black\"},\"legend\":{\"orientation\":\"h\",\"y\":-0.15,\"x\":0.0,\"bordercolor\":\"Black\",\"borderwidth\":1}},                        {\"responsive\": true}                    ).then(function(){\n",
       "                            \n",
       "var gd = document.getElementById('a5ba82c6-1a83-4cb2-9fda-4818e10f71a6');\n",
       "var x = new MutationObserver(function (mutations, observer) {{\n",
       "        var display = window.getComputedStyle(gd).display;\n",
       "        if (!display || display === 'none') {{\n",
       "            console.log([gd, 'removed!']);\n",
       "            Plotly.purge(gd);\n",
       "            observer.disconnect();\n",
       "        }}\n",
       "}});\n",
       "\n",
       "// Listen for the removal of the full notebook cells\n",
       "var notebookContainer = gd.closest('#notebook-container');\n",
       "if (notebookContainer) {{\n",
       "    x.observe(notebookContainer, {childList: true});\n",
       "}}\n",
       "\n",
       "// Listen for the clearing of the current output cell\n",
       "var outputEl = gd.closest('.output');\n",
       "if (outputEl) {{\n",
       "    x.observe(outputEl, {childList: true});\n",
       "}}\n",
       "\n",
       "                        })                };                });            </script>        </div>"
      ]
     },
     "metadata": {},
     "output_type": "display_data"
    }
   ],
   "source": [
    "umap_2d(matrix = metric_df,\n",
    "        data = SC, \n",
    "        metadata=metadata_df)"
   ]
  },
  {
   "cell_type": "markdown",
   "metadata": {},
   "source": [
    "#### SC.2.2 PCoA"
   ]
  },
  {
   "cell_type": "code",
   "execution_count": 66,
   "metadata": {},
   "outputs": [
    {
     "name": "stderr",
     "output_type": "stream",
     "text": [
      "/home/quirosgu/anaconda3/envs/inventa/lib/python3.7/site-packages/skbio/stats/ordination/_principal_coordinate_analysis.py:152: RuntimeWarning:\n",
      "\n",
      "The result contains negative eigenvalues. Please compare their magnitude with the magnitude of some of the largest positive eigenvalues. If the negative ones are smaller, it's probably safe to ignore them, but if they are large in magnitude, the results won't be useful. See the Notes section for more details. The smallest eigenvalue is -0.0016647020911528683 and the largest is 0.9032327317957183.\n",
      "\n"
     ]
    },
    {
     "data": {
      "application/vnd.plotly.v1+json": {
       "config": {
        "plotlyServerURL": "https://plot.ly"
       },
       "data": [
        {
         "hovertext": [
          "LQ-01-61-01_pos.mzXML",
          "LQ-01-61-02_pos.mzXML",
          "LQ-01-61-03_pos.mzXML",
          "LQ-01-61-04_pos.mzXML",
          "LQ-01-61-05_pos.mzXML",
          "LQ-01-61-06_pos.mzXML",
          "LQ-01-61-07_pos.mzXML",
          "LQ-01-61-08_pos.mzXML",
          "LQ-01-61-09_pos.mzXML",
          "LQ-01-61-10_pos.mzXML",
          "LQ-01-61-11_pos.mzXML",
          "LQ-01-61-12_pos.mzXML",
          "LQ-01-61-13_pos.mzXML",
          "LQ-01-61-14_pos.mzXML",
          "LQ-01-61-15_pos.mzXML",
          "LQ-01-61-16_pos.mzXML",
          "LQ-01-61-17_pos.mzXML",
          "LQ-01-61-18_pos.mzXML",
          "LQ-01-61-19_pos.mzXML",
          "LQ-01-61-20_pos.mzXML",
          "LQ-01-61-21_pos.mzXML",
          "LQ-01-61-22_pos.mzXML",
          "LQ-01-61-23_pos.mzXML",
          "LQ-01-61-24_pos.mzXML",
          "LQ-01-61-25_pos.mzXML",
          "LQ-01-61-26_pos.mzXML",
          "LQ-01-61-27_pos.mzXML",
          "LQ-01-61-28_pos.mzXML",
          "LQ-01-61-29_pos.mzXML",
          "LQ-01-61-30_pos.mzXML",
          "LQ-01-61-31_pos.mzXML",
          "LQ-01-61-32_pos.mzXML",
          "LQ-01-61-33_pos.mzXML",
          "LQ-01-61-34_pos.mzXML",
          "LQ-01-61-35_pos.mzXML",
          "LQ-01-61-36_pos.mzXML",
          "LQ-01-61-37_pos.mzXML",
          "LQ-01-61-38_pos.mzXML",
          "LQ-01-61-39_pos.mzXML",
          "LQ-01-61-40_pos.mzXML",
          "LQ-01-61-41_pos.mzXML",
          "LQ-01-61-42_pos.mzXML",
          "LQ-01-61-43_pos.mzXML",
          "LQ-01-61-44_pos.mzXML",
          "LQ-01-61-45_pos.mzXML",
          "LQ-01-61-46_pos.mzXML",
          "LQ-01-61-47_pos.mzXML",
          "LQ-01-61-48_pos.mzXML",
          "LQ-01-61-49_pos.mzXML",
          "LQ-01-61-50_pos.mzXML",
          "LQ-01-61-51_pos.mzXML",
          "LQ-01-61-52_pos.mzXML",
          "LQ-01-61-53_pos.mzXML",
          "LQ-01-61-54_pos.mzXML",
          "LQ-01-61-55_pos.mzXML",
          "LQ-01-61-56_pos.mzXML",
          "LQ-01-61-57_pos.mzXML",
          "LQ-01-61-58_pos.mzXML",
          "LQ-01-61-59_pos.mzXML",
          "LQ-01-61-60_pos.mzXML",
          "LQ-01-61-61_pos.mzXML",
          "LQ-01-61-62_pos.mzXML",
          "LQ-01-61-63_pos.mzXML",
          "LQ-01-61-64_pos.mzXML",
          "LQ-01-61-65_pos.mzXML",
          "LQ-01-61-66_pos.mzXML",
          "LQ-01-61-67_pos.mzXML",
          "LQ-01-61-68_pos.mzXML",
          "LQ-01-61-69_pos.mzXML",
          "LQ-01-61-70_pos.mzXML",
          "LQ-01-61-71_pos.mzXML",
          "LQ-01-61-72_pos.mzXML",
          "LQ-01-61-73_pos.mzXML",
          "LQ-01-61-74_pos.mzXML",
          "LQ-01-61-75_pos.mzXML",
          "LQ-01-61-78_pos.mzXML"
         ],
         "legendgrouptitle": {
          "text": "Anomaly"
         },
         "marker": {
          "color": [
           -1,
           -1,
           -1,
           -1,
           -1,
           -1,
           -1,
           1,
           1,
           1,
           1,
           1,
           1,
           -1,
           1,
           1,
           1,
           1,
           -1,
           1,
           1,
           1,
           1,
           1,
           1,
           1,
           1,
           1,
           1,
           1,
           -1,
           1,
           1,
           1,
           1,
           1,
           -1,
           1,
           1,
           1,
           1,
           1,
           1,
           1,
           1,
           1,
           1,
           1,
           1,
           1,
           1,
           1,
           1,
           1,
           1,
           1,
           1,
           1,
           1,
           1,
           1,
           1,
           1,
           1,
           1,
           1,
           1,
           1,
           1,
           1,
           1,
           1,
           1,
           -1,
           1,
           1
          ],
          "colorscale": [
           [
            0,
            "rgb(255,255,204)"
           ],
           [
            0.125,
            "rgb(255,237,160)"
           ],
           [
            0.25,
            "rgb(254,217,118)"
           ],
           [
            0.375,
            "rgb(254,178,76)"
           ],
           [
            0.5,
            "rgb(253,141,60)"
           ],
           [
            0.625,
            "rgb(252,78,42)"
           ],
           [
            0.75,
            "rgb(227,26,28)"
           ],
           [
            0.875,
            "rgb(189,0,38)"
           ],
           [
            1,
            "rgb(128,0,38)"
           ]
          ],
          "line": {
           "color": "black",
           "width": 0.5
          },
          "showscale": false,
          "size": 10
         },
         "mode": "markers",
         "name": "[-1]",
         "opacity": 0.85,
         "type": "scatter",
         "x": [
          -0.08918355178765881,
          0.06846954955605372,
          0.13448734762071282,
          0.11819384542770653,
          0.05980371741364595,
          0.10816117510221489,
          0.19466715006192142,
          -0.2574422977329749,
          -0.21435646816718706,
          -0.005230987336226238,
          0.1025003836422325,
          -0.04967031001757647,
          -0.005016847991106795,
          0.0655985990337101,
          -0.016498516684313964,
          0.02378746867102317,
          0.028690892705476135,
          -0.02494540322024607,
          0.17115168955406693,
          0.07693796295723036,
          -0.06938575051881749,
          -0.10184810091363974,
          -0.18254464226144212,
          0.0665460242313343,
          0.08259182673020322,
          0.025247659123797426,
          -0.008293407520251966,
          -0.18754308841791315,
          -0.12227999014692441,
          -0.06946097766338846,
          0.21181622419470725,
          0.14096041207590582,
          0.01772383640751306,
          0.06481572076040076,
          0.12337128024904255,
          -0.020338701889247787,
          0.04035613439455281,
          0.016976274655669348,
          -0.012839907490866413,
          0.03839951163137532,
          0.060120313000070175,
          -0.06025558619580762,
          -0.12420843329346005,
          0.06874456328254948,
          0.09484597645323413,
          -0.010522265219323377,
          -0.09101072044252388,
          0.06243855455014496,
          0.08265815519853872,
          0.09473428434819545,
          -0.03866448431775625,
          -0.050358406844300846,
          0.03587226868580301,
          0.08773001484347914,
          0.17030072670234495,
          0.16664629026691483,
          -0.08331298324761237,
          0.13538035466547746,
          -0.0711518989654735,
          -0.21730189296850064,
          -0.07011255197958507,
          -0.17813588880808887,
          -0.013791344502579446,
          -0.046051467189010944,
          -0.18435454122384226,
          -0.13100261753558387,
          -0.09907201438510713,
          -0.17574606548785138,
          -0.10622282909548693,
          0.015015440729744279,
          -0.0973047216651212,
          -0.09938432429691393,
          0.12446326655808121,
          0.15649570604986646,
          0.12361816998472012,
          -0.0754747840959487
         ],
         "xaxis": "x",
         "y": [
          0.09175078320306763,
          0.08129934184719657,
          0.14078347628064763,
          0.1122856774316567,
          -0.05688954414766619,
          0.11915704076409847,
          -0.061212976130724656,
          0.04031238127971278,
          0.057749756607718375,
          -0.06862257674118176,
          -0.03297526219169025,
          -0.08340728517017217,
          -0.027966507517742125,
          0.22461022358402702,
          -0.0706555495276861,
          -0.050702553312651964,
          0.09868992446150912,
          0.01226851581954673,
          -0.08189635175239693,
          -0.07859795560502685,
          -0.016687157587654055,
          -0.00010188871275305673,
          0.01988933365286126,
          -0.014229764700351831,
          -0.10505109664885269,
          -0.13191425937220247,
          -0.08251241947712222,
          0.03735321803100679,
          0.07423159917680246,
          -0.035708595552943256,
          0.060491577316500275,
          -0.024525141435679305,
          -0.11714449598539502,
          -0.01909000558318614,
          -0.0928762759868856,
          -0.0869484135441756,
          0.14213788072179329,
          -0.020880711503672506,
          -0.13094078291397113,
          -0.10429750877457855,
          0.08952193079615232,
          -0.03335330636070255,
          0.018634852736587573,
          -0.006605753855655572,
          -0.059684999725601234,
          -0.11012940589955,
          -0.04838748021750641,
          -0.05063151761505767,
          -0.041819933601788636,
          -0.017392200397837374,
          -0.05901745002862603,
          -0.08583731145985395,
          -0.03778595474605778,
          0.07399083555729681,
          0.10827983916610476,
          0.1157425144541338,
          0.03813161347687125,
          -0.060355757670705355,
          -0.09247374346220019,
          0.08650687837938276,
          -0.03150216681715129,
          0.009543165883456235,
          -0.11553369359048775,
          -0.07546914614848368,
          -0.05495619530417859,
          0.052726710240374244,
          0.1461153180549394,
          -0.0044336496903248515,
          0.07719531423509964,
          0.16466511310855034,
          0.03464541556477931,
          -0.08350579351467484,
          0.09171484855687394,
          0.09157318272586314,
          -0.02301636029620255,
          0.17572863716439627
         ],
         "yaxis": "y"
        },
        {
         "hovertext": [
          "LQ-01-61-01_pos.mzXML",
          "LQ-01-61-02_pos.mzXML",
          "LQ-01-61-03_pos.mzXML",
          "LQ-01-61-04_pos.mzXML",
          "LQ-01-61-05_pos.mzXML",
          "LQ-01-61-06_pos.mzXML",
          "LQ-01-61-07_pos.mzXML",
          "LQ-01-61-08_pos.mzXML",
          "LQ-01-61-09_pos.mzXML",
          "LQ-01-61-10_pos.mzXML",
          "LQ-01-61-11_pos.mzXML",
          "LQ-01-61-12_pos.mzXML",
          "LQ-01-61-13_pos.mzXML",
          "LQ-01-61-14_pos.mzXML",
          "LQ-01-61-15_pos.mzXML",
          "LQ-01-61-16_pos.mzXML",
          "LQ-01-61-17_pos.mzXML",
          "LQ-01-61-18_pos.mzXML",
          "LQ-01-61-19_pos.mzXML",
          "LQ-01-61-20_pos.mzXML",
          "LQ-01-61-21_pos.mzXML",
          "LQ-01-61-22_pos.mzXML",
          "LQ-01-61-23_pos.mzXML",
          "LQ-01-61-24_pos.mzXML",
          "LQ-01-61-25_pos.mzXML",
          "LQ-01-61-26_pos.mzXML",
          "LQ-01-61-27_pos.mzXML",
          "LQ-01-61-28_pos.mzXML",
          "LQ-01-61-29_pos.mzXML",
          "LQ-01-61-30_pos.mzXML",
          "LQ-01-61-31_pos.mzXML",
          "LQ-01-61-32_pos.mzXML",
          "LQ-01-61-33_pos.mzXML",
          "LQ-01-61-34_pos.mzXML",
          "LQ-01-61-35_pos.mzXML",
          "LQ-01-61-36_pos.mzXML",
          "LQ-01-61-37_pos.mzXML",
          "LQ-01-61-38_pos.mzXML",
          "LQ-01-61-39_pos.mzXML",
          "LQ-01-61-40_pos.mzXML",
          "LQ-01-61-41_pos.mzXML",
          "LQ-01-61-42_pos.mzXML",
          "LQ-01-61-43_pos.mzXML",
          "LQ-01-61-44_pos.mzXML",
          "LQ-01-61-45_pos.mzXML",
          "LQ-01-61-46_pos.mzXML",
          "LQ-01-61-47_pos.mzXML",
          "LQ-01-61-48_pos.mzXML",
          "LQ-01-61-49_pos.mzXML",
          "LQ-01-61-50_pos.mzXML",
          "LQ-01-61-51_pos.mzXML",
          "LQ-01-61-52_pos.mzXML",
          "LQ-01-61-53_pos.mzXML",
          "LQ-01-61-54_pos.mzXML",
          "LQ-01-61-55_pos.mzXML",
          "LQ-01-61-56_pos.mzXML",
          "LQ-01-61-57_pos.mzXML",
          "LQ-01-61-58_pos.mzXML",
          "LQ-01-61-59_pos.mzXML",
          "LQ-01-61-60_pos.mzXML",
          "LQ-01-61-61_pos.mzXML",
          "LQ-01-61-62_pos.mzXML",
          "LQ-01-61-63_pos.mzXML",
          "LQ-01-61-64_pos.mzXML",
          "LQ-01-61-65_pos.mzXML",
          "LQ-01-61-66_pos.mzXML",
          "LQ-01-61-67_pos.mzXML",
          "LQ-01-61-68_pos.mzXML",
          "LQ-01-61-69_pos.mzXML",
          "LQ-01-61-70_pos.mzXML",
          "LQ-01-61-71_pos.mzXML",
          "LQ-01-61-72_pos.mzXML",
          "LQ-01-61-73_pos.mzXML",
          "LQ-01-61-74_pos.mzXML",
          "LQ-01-61-75_pos.mzXML",
          "LQ-01-61-78_pos.mzXML"
         ],
         "legendgrouptitle": {
          "text": "normal"
         },
         "marker": {
          "color": [
           1,
           1,
           1,
           1,
           1,
           1,
           -1,
           1,
           1,
           1,
           1,
           1,
           1,
           1,
           1,
           1,
           1,
           1,
           -1,
           1,
           1,
           -1,
           -1,
           1,
           1,
           1,
           1,
           1,
           1,
           1,
           1,
           1,
           1,
           1,
           1,
           1,
           1,
           1,
           1,
           1,
           -1,
           1,
           1,
           1,
           1,
           1,
           -1,
           1,
           1,
           1,
           1,
           1,
           1,
           -1,
           -1,
           -1,
           1,
           1,
           1,
           -1,
           1,
           1,
           1,
           1,
           1,
           1,
           1,
           1,
           1,
           1,
           1,
           -1,
           1,
           1,
           1,
           -1
          ],
          "colorscale": [
           [
            0,
            "rgb(255,255,204)"
           ],
           [
            0.125,
            "rgb(255,237,160)"
           ],
           [
            0.25,
            "rgb(254,217,118)"
           ],
           [
            0.375,
            "rgb(254,178,76)"
           ],
           [
            0.5,
            "rgb(253,141,60)"
           ],
           [
            0.625,
            "rgb(252,78,42)"
           ],
           [
            0.75,
            "rgb(227,26,28)"
           ],
           [
            0.875,
            "rgb(189,0,38)"
           ],
           [
            1,
            "rgb(128,0,38)"
           ]
          ],
          "line": {
           "color": "black",
           "width": 0.5
          },
          "showscale": false,
          "size": 10
         },
         "mode": "markers",
         "opacity": 0.85,
         "showlegend": false,
         "type": "scatter",
         "x": [
          -0.08918355178765881,
          0.06846954955605372,
          0.13448734762071282,
          0.11819384542770653,
          0.05980371741364595,
          0.10816117510221489,
          0.19466715006192142,
          -0.2574422977329749,
          -0.21435646816718706,
          -0.005230987336226238,
          0.1025003836422325,
          -0.04967031001757647,
          -0.005016847991106795,
          0.0655985990337101,
          -0.016498516684313964,
          0.02378746867102317,
          0.028690892705476135,
          -0.02494540322024607,
          0.17115168955406693,
          0.07693796295723036,
          -0.06938575051881749,
          -0.10184810091363974,
          -0.18254464226144212,
          0.0665460242313343,
          0.08259182673020322,
          0.025247659123797426,
          -0.008293407520251966,
          -0.18754308841791315,
          -0.12227999014692441,
          -0.06946097766338846,
          0.21181622419470725,
          0.14096041207590582,
          0.01772383640751306,
          0.06481572076040076,
          0.12337128024904255,
          -0.020338701889247787,
          0.04035613439455281,
          0.016976274655669348,
          -0.012839907490866413,
          0.03839951163137532,
          0.060120313000070175,
          -0.06025558619580762,
          -0.12420843329346005,
          0.06874456328254948,
          0.09484597645323413,
          -0.010522265219323377,
          -0.09101072044252388,
          0.06243855455014496,
          0.08265815519853872,
          0.09473428434819545,
          -0.03866448431775625,
          -0.050358406844300846,
          0.03587226868580301,
          0.08773001484347914,
          0.17030072670234495,
          0.16664629026691483,
          -0.08331298324761237,
          0.13538035466547746,
          -0.0711518989654735,
          -0.21730189296850064,
          -0.07011255197958507,
          -0.17813588880808887,
          -0.013791344502579446,
          -0.046051467189010944,
          -0.18435454122384226,
          -0.13100261753558387,
          -0.09907201438510713,
          -0.17574606548785138,
          -0.10622282909548693,
          0.015015440729744279,
          -0.0973047216651212,
          -0.09938432429691393,
          0.12446326655808121,
          0.15649570604986646,
          0.12361816998472012,
          -0.0754747840959487
         ],
         "xaxis": "x2",
         "y": [
          0.09175078320306763,
          0.08129934184719657,
          0.14078347628064763,
          0.1122856774316567,
          -0.05688954414766619,
          0.11915704076409847,
          -0.061212976130724656,
          0.04031238127971278,
          0.057749756607718375,
          -0.06862257674118176,
          -0.03297526219169025,
          -0.08340728517017217,
          -0.027966507517742125,
          0.22461022358402702,
          -0.0706555495276861,
          -0.050702553312651964,
          0.09868992446150912,
          0.01226851581954673,
          -0.08189635175239693,
          -0.07859795560502685,
          -0.016687157587654055,
          -0.00010188871275305673,
          0.01988933365286126,
          -0.014229764700351831,
          -0.10505109664885269,
          -0.13191425937220247,
          -0.08251241947712222,
          0.03735321803100679,
          0.07423159917680246,
          -0.035708595552943256,
          0.060491577316500275,
          -0.024525141435679305,
          -0.11714449598539502,
          -0.01909000558318614,
          -0.0928762759868856,
          -0.0869484135441756,
          0.14213788072179329,
          -0.020880711503672506,
          -0.13094078291397113,
          -0.10429750877457855,
          0.08952193079615232,
          -0.03335330636070255,
          0.018634852736587573,
          -0.006605753855655572,
          -0.059684999725601234,
          -0.11012940589955,
          -0.04838748021750641,
          -0.05063151761505767,
          -0.041819933601788636,
          -0.017392200397837374,
          -0.05901745002862603,
          -0.08583731145985395,
          -0.03778595474605778,
          0.07399083555729681,
          0.10827983916610476,
          0.1157425144541338,
          0.03813161347687125,
          -0.060355757670705355,
          -0.09247374346220019,
          0.08650687837938276,
          -0.03150216681715129,
          0.009543165883456235,
          -0.11553369359048775,
          -0.07546914614848368,
          -0.05495619530417859,
          0.052726710240374244,
          0.1461153180549394,
          -0.0044336496903248515,
          0.07719531423509964,
          0.16466511310855034,
          0.03464541556477931,
          -0.08350579351467484,
          0.09171484855687394,
          0.09157318272586314,
          -0.02301636029620255,
          0.17572863716439627
         ],
         "yaxis": "y2"
        },
        {
         "hovertext": [
          "LQ-01-61-01_pos.mzXML",
          "LQ-01-61-02_pos.mzXML",
          "LQ-01-61-03_pos.mzXML",
          "LQ-01-61-04_pos.mzXML",
          "LQ-01-61-05_pos.mzXML",
          "LQ-01-61-06_pos.mzXML",
          "LQ-01-61-07_pos.mzXML",
          "LQ-01-61-08_pos.mzXML",
          "LQ-01-61-09_pos.mzXML",
          "LQ-01-61-10_pos.mzXML",
          "LQ-01-61-11_pos.mzXML",
          "LQ-01-61-12_pos.mzXML",
          "LQ-01-61-13_pos.mzXML",
          "LQ-01-61-14_pos.mzXML",
          "LQ-01-61-15_pos.mzXML",
          "LQ-01-61-16_pos.mzXML",
          "LQ-01-61-17_pos.mzXML",
          "LQ-01-61-18_pos.mzXML",
          "LQ-01-61-19_pos.mzXML",
          "LQ-01-61-20_pos.mzXML",
          "LQ-01-61-21_pos.mzXML",
          "LQ-01-61-22_pos.mzXML",
          "LQ-01-61-23_pos.mzXML",
          "LQ-01-61-24_pos.mzXML",
          "LQ-01-61-25_pos.mzXML",
          "LQ-01-61-26_pos.mzXML",
          "LQ-01-61-27_pos.mzXML",
          "LQ-01-61-28_pos.mzXML",
          "LQ-01-61-29_pos.mzXML",
          "LQ-01-61-30_pos.mzXML",
          "LQ-01-61-31_pos.mzXML",
          "LQ-01-61-32_pos.mzXML",
          "LQ-01-61-33_pos.mzXML",
          "LQ-01-61-34_pos.mzXML",
          "LQ-01-61-35_pos.mzXML",
          "LQ-01-61-36_pos.mzXML",
          "LQ-01-61-37_pos.mzXML",
          "LQ-01-61-38_pos.mzXML",
          "LQ-01-61-39_pos.mzXML",
          "LQ-01-61-40_pos.mzXML",
          "LQ-01-61-41_pos.mzXML",
          "LQ-01-61-42_pos.mzXML",
          "LQ-01-61-43_pos.mzXML",
          "LQ-01-61-44_pos.mzXML",
          "LQ-01-61-45_pos.mzXML",
          "LQ-01-61-46_pos.mzXML",
          "LQ-01-61-47_pos.mzXML",
          "LQ-01-61-48_pos.mzXML",
          "LQ-01-61-49_pos.mzXML",
          "LQ-01-61-50_pos.mzXML",
          "LQ-01-61-51_pos.mzXML",
          "LQ-01-61-52_pos.mzXML",
          "LQ-01-61-53_pos.mzXML",
          "LQ-01-61-54_pos.mzXML",
          "LQ-01-61-55_pos.mzXML",
          "LQ-01-61-56_pos.mzXML",
          "LQ-01-61-57_pos.mzXML",
          "LQ-01-61-58_pos.mzXML",
          "LQ-01-61-59_pos.mzXML",
          "LQ-01-61-60_pos.mzXML",
          "LQ-01-61-61_pos.mzXML",
          "LQ-01-61-62_pos.mzXML",
          "LQ-01-61-63_pos.mzXML",
          "LQ-01-61-64_pos.mzXML",
          "LQ-01-61-65_pos.mzXML",
          "LQ-01-61-66_pos.mzXML",
          "LQ-01-61-67_pos.mzXML",
          "LQ-01-61-68_pos.mzXML",
          "LQ-01-61-69_pos.mzXML",
          "LQ-01-61-70_pos.mzXML",
          "LQ-01-61-71_pos.mzXML",
          "LQ-01-61-72_pos.mzXML",
          "LQ-01-61-73_pos.mzXML",
          "LQ-01-61-74_pos.mzXML",
          "LQ-01-61-75_pos.mzXML",
          "LQ-01-61-78_pos.mzXML"
         ],
         "legendgrouptitle": {
          "text": "Anomaly"
         },
         "marker": {
          "color": [
           1,
           1,
           1,
           1,
           1,
           1,
           -1,
           1,
           1,
           1,
           1,
           1,
           1,
           1,
           1,
           1,
           1,
           1,
           1,
           1,
           1,
           1,
           1,
           1,
           1,
           1,
           1,
           1,
           1,
           1,
           1,
           1,
           1,
           1,
           1,
           1,
           1,
           1,
           1,
           1,
           1,
           1,
           1,
           1,
           1,
           1,
           1,
           1,
           1,
           1,
           1,
           1,
           1,
           1,
           -1,
           1,
           1,
           1,
           1,
           -1,
           1,
           1,
           1,
           1,
           1,
           1,
           1,
           1,
           1,
           1,
           1,
           1,
           1,
           1,
           1,
           -1
          ],
          "colorscale": [
           [
            0,
            "rgb(255,255,204)"
           ],
           [
            0.125,
            "rgb(255,237,160)"
           ],
           [
            0.25,
            "rgb(254,217,118)"
           ],
           [
            0.375,
            "rgb(254,178,76)"
           ],
           [
            0.5,
            "rgb(253,141,60)"
           ],
           [
            0.625,
            "rgb(252,78,42)"
           ],
           [
            0.75,
            "rgb(227,26,28)"
           ],
           [
            0.875,
            "rgb(189,0,38)"
           ],
           [
            1,
            "rgb(128,0,38)"
           ]
          ],
          "line": {
           "color": "black",
           "width": 0.5
          },
          "showscale": false,
          "size": 10
         },
         "mode": "markers",
         "opacity": 0.85,
         "showlegend": false,
         "type": "scatter",
         "x": [
          -0.08918355178765881,
          0.06846954955605372,
          0.13448734762071282,
          0.11819384542770653,
          0.05980371741364595,
          0.10816117510221489,
          0.19466715006192142,
          -0.2574422977329749,
          -0.21435646816718706,
          -0.005230987336226238,
          0.1025003836422325,
          -0.04967031001757647,
          -0.005016847991106795,
          0.0655985990337101,
          -0.016498516684313964,
          0.02378746867102317,
          0.028690892705476135,
          -0.02494540322024607,
          0.17115168955406693,
          0.07693796295723036,
          -0.06938575051881749,
          -0.10184810091363974,
          -0.18254464226144212,
          0.0665460242313343,
          0.08259182673020322,
          0.025247659123797426,
          -0.008293407520251966,
          -0.18754308841791315,
          -0.12227999014692441,
          -0.06946097766338846,
          0.21181622419470725,
          0.14096041207590582,
          0.01772383640751306,
          0.06481572076040076,
          0.12337128024904255,
          -0.020338701889247787,
          0.04035613439455281,
          0.016976274655669348,
          -0.012839907490866413,
          0.03839951163137532,
          0.060120313000070175,
          -0.06025558619580762,
          -0.12420843329346005,
          0.06874456328254948,
          0.09484597645323413,
          -0.010522265219323377,
          -0.09101072044252388,
          0.06243855455014496,
          0.08265815519853872,
          0.09473428434819545,
          -0.03866448431775625,
          -0.050358406844300846,
          0.03587226868580301,
          0.08773001484347914,
          0.17030072670234495,
          0.16664629026691483,
          -0.08331298324761237,
          0.13538035466547746,
          -0.0711518989654735,
          -0.21730189296850064,
          -0.07011255197958507,
          -0.17813588880808887,
          -0.013791344502579446,
          -0.046051467189010944,
          -0.18435454122384226,
          -0.13100261753558387,
          -0.09907201438510713,
          -0.17574606548785138,
          -0.10622282909548693,
          0.015015440729744279,
          -0.0973047216651212,
          -0.09938432429691393,
          0.12446326655808121,
          0.15649570604986646,
          0.12361816998472012,
          -0.0754747840959487
         ],
         "xaxis": "x3",
         "y": [
          0.09175078320306763,
          0.08129934184719657,
          0.14078347628064763,
          0.1122856774316567,
          -0.05688954414766619,
          0.11915704076409847,
          -0.061212976130724656,
          0.04031238127971278,
          0.057749756607718375,
          -0.06862257674118176,
          -0.03297526219169025,
          -0.08340728517017217,
          -0.027966507517742125,
          0.22461022358402702,
          -0.0706555495276861,
          -0.050702553312651964,
          0.09868992446150912,
          0.01226851581954673,
          -0.08189635175239693,
          -0.07859795560502685,
          -0.016687157587654055,
          -0.00010188871275305673,
          0.01988933365286126,
          -0.014229764700351831,
          -0.10505109664885269,
          -0.13191425937220247,
          -0.08251241947712222,
          0.03735321803100679,
          0.07423159917680246,
          -0.035708595552943256,
          0.060491577316500275,
          -0.024525141435679305,
          -0.11714449598539502,
          -0.01909000558318614,
          -0.0928762759868856,
          -0.0869484135441756,
          0.14213788072179329,
          -0.020880711503672506,
          -0.13094078291397113,
          -0.10429750877457855,
          0.08952193079615232,
          -0.03335330636070255,
          0.018634852736587573,
          -0.006605753855655572,
          -0.059684999725601234,
          -0.11012940589955,
          -0.04838748021750641,
          -0.05063151761505767,
          -0.041819933601788636,
          -0.017392200397837374,
          -0.05901745002862603,
          -0.08583731145985395,
          -0.03778595474605778,
          0.07399083555729681,
          0.10827983916610476,
          0.1157425144541338,
          0.03813161347687125,
          -0.060355757670705355,
          -0.09247374346220019,
          0.08650687837938276,
          -0.03150216681715129,
          0.009543165883456235,
          -0.11553369359048775,
          -0.07546914614848368,
          -0.05495619530417859,
          0.052726710240374244,
          0.1461153180549394,
          -0.0044336496903248515,
          0.07719531423509964,
          0.16466511310855034,
          0.03464541556477931,
          -0.08350579351467484,
          0.09171484855687394,
          0.09157318272586314,
          -0.02301636029620255,
          0.17572863716439627
         ],
         "yaxis": "y3"
        }
       ],
       "layout": {
        "annotations": [
         {
          "font": {
           "size": 20
          },
          "showarrow": false,
          "text": "PCoA MEMO aligned (IF)",
          "x": 0.14444444444444446,
          "xanchor": "center",
          "xref": "paper",
          "y": 1,
          "yanchor": "bottom",
          "yref": "paper"
         },
         {
          "font": {
           "size": 20
          },
          "showarrow": false,
          "text": "PCoA MEMO aligned (LOF)",
          "x": 0.5,
          "xanchor": "center",
          "xref": "paper",
          "y": 1,
          "yanchor": "bottom",
          "yref": "paper"
         },
         {
          "font": {
           "size": 20
          },
          "showarrow": false,
          "text": "PCoA MEMO aligned (OCSVM)",
          "x": 0.8555555555555556,
          "xanchor": "center",
          "xref": "paper",
          "y": 1,
          "yanchor": "bottom",
          "yref": "paper"
         }
        ],
        "font": {
         "color": "black",
         "family": "Times New Roman",
         "size": 16
        },
        "height": 600,
        "legend": {
         "bordercolor": "Black",
         "borderwidth": 1,
         "orientation": "h",
         "x": -0.05,
         "y": -0.2
        },
        "template": {
         "data": {
          "bar": [
           {
            "error_x": {
             "color": "rgb(36,36,36)"
            },
            "error_y": {
             "color": "rgb(36,36,36)"
            },
            "marker": {
             "line": {
              "color": "white",
              "width": 0.5
             },
             "pattern": {
              "fillmode": "overlay",
              "size": 10,
              "solidity": 0.2
             }
            },
            "type": "bar"
           }
          ],
          "barpolar": [
           {
            "marker": {
             "line": {
              "color": "white",
              "width": 0.5
             },
             "pattern": {
              "fillmode": "overlay",
              "size": 10,
              "solidity": 0.2
             }
            },
            "type": "barpolar"
           }
          ],
          "carpet": [
           {
            "aaxis": {
             "endlinecolor": "rgb(36,36,36)",
             "gridcolor": "white",
             "linecolor": "white",
             "minorgridcolor": "white",
             "startlinecolor": "rgb(36,36,36)"
            },
            "baxis": {
             "endlinecolor": "rgb(36,36,36)",
             "gridcolor": "white",
             "linecolor": "white",
             "minorgridcolor": "white",
             "startlinecolor": "rgb(36,36,36)"
            },
            "type": "carpet"
           }
          ],
          "choropleth": [
           {
            "colorbar": {
             "outlinewidth": 1,
             "tickcolor": "rgb(36,36,36)",
             "ticks": "outside"
            },
            "type": "choropleth"
           }
          ],
          "contour": [
           {
            "colorbar": {
             "outlinewidth": 1,
             "tickcolor": "rgb(36,36,36)",
             "ticks": "outside"
            },
            "colorscale": [
             [
              0,
              "#440154"
             ],
             [
              0.1111111111111111,
              "#482878"
             ],
             [
              0.2222222222222222,
              "#3e4989"
             ],
             [
              0.3333333333333333,
              "#31688e"
             ],
             [
              0.4444444444444444,
              "#26828e"
             ],
             [
              0.5555555555555556,
              "#1f9e89"
             ],
             [
              0.6666666666666666,
              "#35b779"
             ],
             [
              0.7777777777777778,
              "#6ece58"
             ],
             [
              0.8888888888888888,
              "#b5de2b"
             ],
             [
              1,
              "#fde725"
             ]
            ],
            "type": "contour"
           }
          ],
          "contourcarpet": [
           {
            "colorbar": {
             "outlinewidth": 1,
             "tickcolor": "rgb(36,36,36)",
             "ticks": "outside"
            },
            "type": "contourcarpet"
           }
          ],
          "heatmap": [
           {
            "colorbar": {
             "outlinewidth": 1,
             "tickcolor": "rgb(36,36,36)",
             "ticks": "outside"
            },
            "colorscale": [
             [
              0,
              "#440154"
             ],
             [
              0.1111111111111111,
              "#482878"
             ],
             [
              0.2222222222222222,
              "#3e4989"
             ],
             [
              0.3333333333333333,
              "#31688e"
             ],
             [
              0.4444444444444444,
              "#26828e"
             ],
             [
              0.5555555555555556,
              "#1f9e89"
             ],
             [
              0.6666666666666666,
              "#35b779"
             ],
             [
              0.7777777777777778,
              "#6ece58"
             ],
             [
              0.8888888888888888,
              "#b5de2b"
             ],
             [
              1,
              "#fde725"
             ]
            ],
            "type": "heatmap"
           }
          ],
          "heatmapgl": [
           {
            "colorbar": {
             "outlinewidth": 1,
             "tickcolor": "rgb(36,36,36)",
             "ticks": "outside"
            },
            "colorscale": [
             [
              0,
              "#440154"
             ],
             [
              0.1111111111111111,
              "#482878"
             ],
             [
              0.2222222222222222,
              "#3e4989"
             ],
             [
              0.3333333333333333,
              "#31688e"
             ],
             [
              0.4444444444444444,
              "#26828e"
             ],
             [
              0.5555555555555556,
              "#1f9e89"
             ],
             [
              0.6666666666666666,
              "#35b779"
             ],
             [
              0.7777777777777778,
              "#6ece58"
             ],
             [
              0.8888888888888888,
              "#b5de2b"
             ],
             [
              1,
              "#fde725"
             ]
            ],
            "type": "heatmapgl"
           }
          ],
          "histogram": [
           {
            "marker": {
             "line": {
              "color": "white",
              "width": 0.6
             }
            },
            "type": "histogram"
           }
          ],
          "histogram2d": [
           {
            "colorbar": {
             "outlinewidth": 1,
             "tickcolor": "rgb(36,36,36)",
             "ticks": "outside"
            },
            "colorscale": [
             [
              0,
              "#440154"
             ],
             [
              0.1111111111111111,
              "#482878"
             ],
             [
              0.2222222222222222,
              "#3e4989"
             ],
             [
              0.3333333333333333,
              "#31688e"
             ],
             [
              0.4444444444444444,
              "#26828e"
             ],
             [
              0.5555555555555556,
              "#1f9e89"
             ],
             [
              0.6666666666666666,
              "#35b779"
             ],
             [
              0.7777777777777778,
              "#6ece58"
             ],
             [
              0.8888888888888888,
              "#b5de2b"
             ],
             [
              1,
              "#fde725"
             ]
            ],
            "type": "histogram2d"
           }
          ],
          "histogram2dcontour": [
           {
            "colorbar": {
             "outlinewidth": 1,
             "tickcolor": "rgb(36,36,36)",
             "ticks": "outside"
            },
            "colorscale": [
             [
              0,
              "#440154"
             ],
             [
              0.1111111111111111,
              "#482878"
             ],
             [
              0.2222222222222222,
              "#3e4989"
             ],
             [
              0.3333333333333333,
              "#31688e"
             ],
             [
              0.4444444444444444,
              "#26828e"
             ],
             [
              0.5555555555555556,
              "#1f9e89"
             ],
             [
              0.6666666666666666,
              "#35b779"
             ],
             [
              0.7777777777777778,
              "#6ece58"
             ],
             [
              0.8888888888888888,
              "#b5de2b"
             ],
             [
              1,
              "#fde725"
             ]
            ],
            "type": "histogram2dcontour"
           }
          ],
          "mesh3d": [
           {
            "colorbar": {
             "outlinewidth": 1,
             "tickcolor": "rgb(36,36,36)",
             "ticks": "outside"
            },
            "type": "mesh3d"
           }
          ],
          "parcoords": [
           {
            "line": {
             "colorbar": {
              "outlinewidth": 1,
              "tickcolor": "rgb(36,36,36)",
              "ticks": "outside"
             }
            },
            "type": "parcoords"
           }
          ],
          "pie": [
           {
            "automargin": true,
            "type": "pie"
           }
          ],
          "scatter": [
           {
            "fillpattern": {
             "fillmode": "overlay",
             "size": 10,
             "solidity": 0.2
            },
            "type": "scatter"
           }
          ],
          "scatter3d": [
           {
            "line": {
             "colorbar": {
              "outlinewidth": 1,
              "tickcolor": "rgb(36,36,36)",
              "ticks": "outside"
             }
            },
            "marker": {
             "colorbar": {
              "outlinewidth": 1,
              "tickcolor": "rgb(36,36,36)",
              "ticks": "outside"
             }
            },
            "type": "scatter3d"
           }
          ],
          "scattercarpet": [
           {
            "marker": {
             "colorbar": {
              "outlinewidth": 1,
              "tickcolor": "rgb(36,36,36)",
              "ticks": "outside"
             }
            },
            "type": "scattercarpet"
           }
          ],
          "scattergeo": [
           {
            "marker": {
             "colorbar": {
              "outlinewidth": 1,
              "tickcolor": "rgb(36,36,36)",
              "ticks": "outside"
             }
            },
            "type": "scattergeo"
           }
          ],
          "scattergl": [
           {
            "marker": {
             "colorbar": {
              "outlinewidth": 1,
              "tickcolor": "rgb(36,36,36)",
              "ticks": "outside"
             }
            },
            "type": "scattergl"
           }
          ],
          "scattermapbox": [
           {
            "marker": {
             "colorbar": {
              "outlinewidth": 1,
              "tickcolor": "rgb(36,36,36)",
              "ticks": "outside"
             }
            },
            "type": "scattermapbox"
           }
          ],
          "scatterpolar": [
           {
            "marker": {
             "colorbar": {
              "outlinewidth": 1,
              "tickcolor": "rgb(36,36,36)",
              "ticks": "outside"
             }
            },
            "type": "scatterpolar"
           }
          ],
          "scatterpolargl": [
           {
            "marker": {
             "colorbar": {
              "outlinewidth": 1,
              "tickcolor": "rgb(36,36,36)",
              "ticks": "outside"
             }
            },
            "type": "scatterpolargl"
           }
          ],
          "scatterternary": [
           {
            "marker": {
             "colorbar": {
              "outlinewidth": 1,
              "tickcolor": "rgb(36,36,36)",
              "ticks": "outside"
             }
            },
            "type": "scatterternary"
           }
          ],
          "surface": [
           {
            "colorbar": {
             "outlinewidth": 1,
             "tickcolor": "rgb(36,36,36)",
             "ticks": "outside"
            },
            "colorscale": [
             [
              0,
              "#440154"
             ],
             [
              0.1111111111111111,
              "#482878"
             ],
             [
              0.2222222222222222,
              "#3e4989"
             ],
             [
              0.3333333333333333,
              "#31688e"
             ],
             [
              0.4444444444444444,
              "#26828e"
             ],
             [
              0.5555555555555556,
              "#1f9e89"
             ],
             [
              0.6666666666666666,
              "#35b779"
             ],
             [
              0.7777777777777778,
              "#6ece58"
             ],
             [
              0.8888888888888888,
              "#b5de2b"
             ],
             [
              1,
              "#fde725"
             ]
            ],
            "type": "surface"
           }
          ],
          "table": [
           {
            "cells": {
             "fill": {
              "color": "rgb(237,237,237)"
             },
             "line": {
              "color": "white"
             }
            },
            "header": {
             "fill": {
              "color": "rgb(217,217,217)"
             },
             "line": {
              "color": "white"
             }
            },
            "type": "table"
           }
          ]
         },
         "layout": {
          "annotationdefaults": {
           "arrowhead": 0,
           "arrowwidth": 1
          },
          "autotypenumbers": "strict",
          "coloraxis": {
           "colorbar": {
            "outlinewidth": 1,
            "tickcolor": "rgb(36,36,36)",
            "ticks": "outside"
           }
          },
          "colorscale": {
           "diverging": [
            [
             0,
             "rgb(103,0,31)"
            ],
            [
             0.1,
             "rgb(178,24,43)"
            ],
            [
             0.2,
             "rgb(214,96,77)"
            ],
            [
             0.3,
             "rgb(244,165,130)"
            ],
            [
             0.4,
             "rgb(253,219,199)"
            ],
            [
             0.5,
             "rgb(247,247,247)"
            ],
            [
             0.6,
             "rgb(209,229,240)"
            ],
            [
             0.7,
             "rgb(146,197,222)"
            ],
            [
             0.8,
             "rgb(67,147,195)"
            ],
            [
             0.9,
             "rgb(33,102,172)"
            ],
            [
             1,
             "rgb(5,48,97)"
            ]
           ],
           "sequential": [
            [
             0,
             "#440154"
            ],
            [
             0.1111111111111111,
             "#482878"
            ],
            [
             0.2222222222222222,
             "#3e4989"
            ],
            [
             0.3333333333333333,
             "#31688e"
            ],
            [
             0.4444444444444444,
             "#26828e"
            ],
            [
             0.5555555555555556,
             "#1f9e89"
            ],
            [
             0.6666666666666666,
             "#35b779"
            ],
            [
             0.7777777777777778,
             "#6ece58"
            ],
            [
             0.8888888888888888,
             "#b5de2b"
            ],
            [
             1,
             "#fde725"
            ]
           ],
           "sequentialminus": [
            [
             0,
             "#440154"
            ],
            [
             0.1111111111111111,
             "#482878"
            ],
            [
             0.2222222222222222,
             "#3e4989"
            ],
            [
             0.3333333333333333,
             "#31688e"
            ],
            [
             0.4444444444444444,
             "#26828e"
            ],
            [
             0.5555555555555556,
             "#1f9e89"
            ],
            [
             0.6666666666666666,
             "#35b779"
            ],
            [
             0.7777777777777778,
             "#6ece58"
            ],
            [
             0.8888888888888888,
             "#b5de2b"
            ],
            [
             1,
             "#fde725"
            ]
           ]
          },
          "colorway": [
           "#1F77B4",
           "#FF7F0E",
           "#2CA02C",
           "#D62728",
           "#9467BD",
           "#8C564B",
           "#E377C2",
           "#7F7F7F",
           "#BCBD22",
           "#17BECF"
          ],
          "font": {
           "color": "rgb(36,36,36)"
          },
          "geo": {
           "bgcolor": "white",
           "lakecolor": "white",
           "landcolor": "white",
           "showlakes": true,
           "showland": true,
           "subunitcolor": "white"
          },
          "hoverlabel": {
           "align": "left"
          },
          "hovermode": "closest",
          "mapbox": {
           "style": "light"
          },
          "paper_bgcolor": "white",
          "plot_bgcolor": "white",
          "polar": {
           "angularaxis": {
            "gridcolor": "rgb(232,232,232)",
            "linecolor": "rgb(36,36,36)",
            "showgrid": false,
            "showline": true,
            "ticks": "outside"
           },
           "bgcolor": "white",
           "radialaxis": {
            "gridcolor": "rgb(232,232,232)",
            "linecolor": "rgb(36,36,36)",
            "showgrid": false,
            "showline": true,
            "ticks": "outside"
           }
          },
          "scene": {
           "xaxis": {
            "backgroundcolor": "white",
            "gridcolor": "rgb(232,232,232)",
            "gridwidth": 2,
            "linecolor": "rgb(36,36,36)",
            "showbackground": true,
            "showgrid": false,
            "showline": true,
            "ticks": "outside",
            "zeroline": false,
            "zerolinecolor": "rgb(36,36,36)"
           },
           "yaxis": {
            "backgroundcolor": "white",
            "gridcolor": "rgb(232,232,232)",
            "gridwidth": 2,
            "linecolor": "rgb(36,36,36)",
            "showbackground": true,
            "showgrid": false,
            "showline": true,
            "ticks": "outside",
            "zeroline": false,
            "zerolinecolor": "rgb(36,36,36)"
           },
           "zaxis": {
            "backgroundcolor": "white",
            "gridcolor": "rgb(232,232,232)",
            "gridwidth": 2,
            "linecolor": "rgb(36,36,36)",
            "showbackground": true,
            "showgrid": false,
            "showline": true,
            "ticks": "outside",
            "zeroline": false,
            "zerolinecolor": "rgb(36,36,36)"
           }
          },
          "shapedefaults": {
           "fillcolor": "black",
           "line": {
            "width": 0
           },
           "opacity": 0.3
          },
          "ternary": {
           "aaxis": {
            "gridcolor": "rgb(232,232,232)",
            "linecolor": "rgb(36,36,36)",
            "showgrid": false,
            "showline": true,
            "ticks": "outside"
           },
           "baxis": {
            "gridcolor": "rgb(232,232,232)",
            "linecolor": "rgb(36,36,36)",
            "showgrid": false,
            "showline": true,
            "ticks": "outside"
           },
           "bgcolor": "white",
           "caxis": {
            "gridcolor": "rgb(232,232,232)",
            "linecolor": "rgb(36,36,36)",
            "showgrid": false,
            "showline": true,
            "ticks": "outside"
           }
          },
          "title": {
           "x": 0.05
          },
          "xaxis": {
           "automargin": true,
           "gridcolor": "rgb(232,232,232)",
           "linecolor": "rgb(36,36,36)",
           "showgrid": false,
           "showline": true,
           "ticks": "outside",
           "title": {
            "standoff": 15
           },
           "zeroline": false,
           "zerolinecolor": "rgb(36,36,36)"
          },
          "yaxis": {
           "automargin": true,
           "gridcolor": "rgb(232,232,232)",
           "linecolor": "rgb(36,36,36)",
           "showgrid": false,
           "showline": true,
           "ticks": "outside",
           "title": {
            "standoff": 15
           },
           "zeroline": false,
           "zerolinecolor": "rgb(36,36,36)"
          }
         }
        },
        "title": {
         "text": "Multiple outlier detection results"
        },
        "width": 1500,
        "xaxis": {
         "anchor": "y",
         "domain": [
          0,
          0.2888888888888889
         ],
         "title": {
          "text": "PC1 (25.5 %)"
         }
        },
        "xaxis2": {
         "anchor": "y2",
         "domain": [
          0.35555555555555557,
          0.6444444444444445
         ],
         "title": {
          "text": "PC1 (25.5 %)"
         }
        },
        "xaxis3": {
         "anchor": "y3",
         "domain": [
          0.7111111111111111,
          1
         ],
         "title": {
          "text": "PC1 (25.5 %)"
         }
        },
        "yaxis": {
         "anchor": "x",
         "domain": [
          0,
          1
         ],
         "title": {
          "text": "PC2 (14.9 %)"
         }
        },
        "yaxis2": {
         "anchor": "x2",
         "domain": [
          0,
          1
         ],
         "title": {
          "text": "PC2 (14.9 %)"
         }
        },
        "yaxis3": {
         "anchor": "x3",
         "domain": [
          0,
          1
         ],
         "title": {
          "text": "PC2 (14.9 %)"
         }
        }
       }
      },
      "text/html": [
       "<div>                            <div id=\"5666e8aa-65a7-4829-9d33-c7ccdb188ab1\" class=\"plotly-graph-div\" style=\"height:600px; width:1500px;\"></div>            <script type=\"text/javascript\">                require([\"plotly\"], function(Plotly) {                    window.PLOTLYENV=window.PLOTLYENV || {};                                    if (document.getElementById(\"5666e8aa-65a7-4829-9d33-c7ccdb188ab1\")) {                    Plotly.newPlot(                        \"5666e8aa-65a7-4829-9d33-c7ccdb188ab1\",                        [{\"hovertext\":[\"LQ-01-61-01_pos.mzXML\",\"LQ-01-61-02_pos.mzXML\",\"LQ-01-61-03_pos.mzXML\",\"LQ-01-61-04_pos.mzXML\",\"LQ-01-61-05_pos.mzXML\",\"LQ-01-61-06_pos.mzXML\",\"LQ-01-61-07_pos.mzXML\",\"LQ-01-61-08_pos.mzXML\",\"LQ-01-61-09_pos.mzXML\",\"LQ-01-61-10_pos.mzXML\",\"LQ-01-61-11_pos.mzXML\",\"LQ-01-61-12_pos.mzXML\",\"LQ-01-61-13_pos.mzXML\",\"LQ-01-61-14_pos.mzXML\",\"LQ-01-61-15_pos.mzXML\",\"LQ-01-61-16_pos.mzXML\",\"LQ-01-61-17_pos.mzXML\",\"LQ-01-61-18_pos.mzXML\",\"LQ-01-61-19_pos.mzXML\",\"LQ-01-61-20_pos.mzXML\",\"LQ-01-61-21_pos.mzXML\",\"LQ-01-61-22_pos.mzXML\",\"LQ-01-61-23_pos.mzXML\",\"LQ-01-61-24_pos.mzXML\",\"LQ-01-61-25_pos.mzXML\",\"LQ-01-61-26_pos.mzXML\",\"LQ-01-61-27_pos.mzXML\",\"LQ-01-61-28_pos.mzXML\",\"LQ-01-61-29_pos.mzXML\",\"LQ-01-61-30_pos.mzXML\",\"LQ-01-61-31_pos.mzXML\",\"LQ-01-61-32_pos.mzXML\",\"LQ-01-61-33_pos.mzXML\",\"LQ-01-61-34_pos.mzXML\",\"LQ-01-61-35_pos.mzXML\",\"LQ-01-61-36_pos.mzXML\",\"LQ-01-61-37_pos.mzXML\",\"LQ-01-61-38_pos.mzXML\",\"LQ-01-61-39_pos.mzXML\",\"LQ-01-61-40_pos.mzXML\",\"LQ-01-61-41_pos.mzXML\",\"LQ-01-61-42_pos.mzXML\",\"LQ-01-61-43_pos.mzXML\",\"LQ-01-61-44_pos.mzXML\",\"LQ-01-61-45_pos.mzXML\",\"LQ-01-61-46_pos.mzXML\",\"LQ-01-61-47_pos.mzXML\",\"LQ-01-61-48_pos.mzXML\",\"LQ-01-61-49_pos.mzXML\",\"LQ-01-61-50_pos.mzXML\",\"LQ-01-61-51_pos.mzXML\",\"LQ-01-61-52_pos.mzXML\",\"LQ-01-61-53_pos.mzXML\",\"LQ-01-61-54_pos.mzXML\",\"LQ-01-61-55_pos.mzXML\",\"LQ-01-61-56_pos.mzXML\",\"LQ-01-61-57_pos.mzXML\",\"LQ-01-61-58_pos.mzXML\",\"LQ-01-61-59_pos.mzXML\",\"LQ-01-61-60_pos.mzXML\",\"LQ-01-61-61_pos.mzXML\",\"LQ-01-61-62_pos.mzXML\",\"LQ-01-61-63_pos.mzXML\",\"LQ-01-61-64_pos.mzXML\",\"LQ-01-61-65_pos.mzXML\",\"LQ-01-61-66_pos.mzXML\",\"LQ-01-61-67_pos.mzXML\",\"LQ-01-61-68_pos.mzXML\",\"LQ-01-61-69_pos.mzXML\",\"LQ-01-61-70_pos.mzXML\",\"LQ-01-61-71_pos.mzXML\",\"LQ-01-61-72_pos.mzXML\",\"LQ-01-61-73_pos.mzXML\",\"LQ-01-61-74_pos.mzXML\",\"LQ-01-61-75_pos.mzXML\",\"LQ-01-61-78_pos.mzXML\"],\"legendgrouptitle\":{\"text\":\"Anomaly\"},\"marker\":{\"color\":[-1,-1,-1,-1,-1,-1,-1,1,1,1,1,1,1,-1,1,1,1,1,-1,1,1,1,1,1,1,1,1,1,1,1,-1,1,1,1,1,1,-1,1,1,1,1,1,1,1,1,1,1,1,1,1,1,1,1,1,1,1,1,1,1,1,1,1,1,1,1,1,1,1,1,1,1,1,1,-1,1,1],\"colorscale\":[[0.0,\"rgb(255,255,204)\"],[0.125,\"rgb(255,237,160)\"],[0.25,\"rgb(254,217,118)\"],[0.375,\"rgb(254,178,76)\"],[0.5,\"rgb(253,141,60)\"],[0.625,\"rgb(252,78,42)\"],[0.75,\"rgb(227,26,28)\"],[0.875,\"rgb(189,0,38)\"],[1.0,\"rgb(128,0,38)\"]],\"line\":{\"color\":\"black\",\"width\":0.5},\"showscale\":false,\"size\":10},\"mode\":\"markers\",\"name\":\"[-1]\",\"opacity\":0.85,\"x\":[-0.08918355178765881,0.06846954955605372,0.13448734762071282,0.11819384542770653,0.05980371741364595,0.10816117510221489,0.19466715006192142,-0.2574422977329749,-0.21435646816718706,-0.005230987336226238,0.1025003836422325,-0.04967031001757647,-0.005016847991106795,0.0655985990337101,-0.016498516684313964,0.02378746867102317,0.028690892705476135,-0.02494540322024607,0.17115168955406693,0.07693796295723036,-0.06938575051881749,-0.10184810091363974,-0.18254464226144212,0.0665460242313343,0.08259182673020322,0.025247659123797426,-0.008293407520251966,-0.18754308841791315,-0.12227999014692441,-0.06946097766338846,0.21181622419470725,0.14096041207590582,0.01772383640751306,0.06481572076040076,0.12337128024904255,-0.020338701889247787,0.04035613439455281,0.016976274655669348,-0.012839907490866413,0.03839951163137532,0.060120313000070175,-0.06025558619580762,-0.12420843329346005,0.06874456328254948,0.09484597645323413,-0.010522265219323377,-0.09101072044252388,0.06243855455014496,0.08265815519853872,0.09473428434819545,-0.03866448431775625,-0.050358406844300846,0.03587226868580301,0.08773001484347914,0.17030072670234495,0.16664629026691483,-0.08331298324761237,0.13538035466547746,-0.0711518989654735,-0.21730189296850064,-0.07011255197958507,-0.17813588880808887,-0.013791344502579446,-0.046051467189010944,-0.18435454122384226,-0.13100261753558387,-0.09907201438510713,-0.17574606548785138,-0.10622282909548693,0.015015440729744279,-0.0973047216651212,-0.09938432429691393,0.12446326655808121,0.15649570604986646,0.12361816998472012,-0.0754747840959487],\"y\":[0.09175078320306763,0.08129934184719657,0.14078347628064763,0.1122856774316567,-0.05688954414766619,0.11915704076409847,-0.061212976130724656,0.04031238127971278,0.057749756607718375,-0.06862257674118176,-0.03297526219169025,-0.08340728517017217,-0.027966507517742125,0.22461022358402702,-0.0706555495276861,-0.050702553312651964,0.09868992446150912,0.01226851581954673,-0.08189635175239693,-0.07859795560502685,-0.016687157587654055,-0.00010188871275305673,0.01988933365286126,-0.014229764700351831,-0.10505109664885269,-0.13191425937220247,-0.08251241947712222,0.03735321803100679,0.07423159917680246,-0.035708595552943256,0.060491577316500275,-0.024525141435679305,-0.11714449598539502,-0.01909000558318614,-0.0928762759868856,-0.0869484135441756,0.14213788072179329,-0.020880711503672506,-0.13094078291397113,-0.10429750877457855,0.08952193079615232,-0.03335330636070255,0.018634852736587573,-0.006605753855655572,-0.059684999725601234,-0.11012940589955,-0.04838748021750641,-0.05063151761505767,-0.041819933601788636,-0.017392200397837374,-0.05901745002862603,-0.08583731145985395,-0.03778595474605778,0.07399083555729681,0.10827983916610476,0.1157425144541338,0.03813161347687125,-0.060355757670705355,-0.09247374346220019,0.08650687837938276,-0.03150216681715129,0.009543165883456235,-0.11553369359048775,-0.07546914614848368,-0.05495619530417859,0.052726710240374244,0.1461153180549394,-0.0044336496903248515,0.07719531423509964,0.16466511310855034,0.03464541556477931,-0.08350579351467484,0.09171484855687394,0.09157318272586314,-0.02301636029620255,0.17572863716439627],\"type\":\"scatter\",\"xaxis\":\"x\",\"yaxis\":\"y\"},{\"hovertext\":[\"LQ-01-61-01_pos.mzXML\",\"LQ-01-61-02_pos.mzXML\",\"LQ-01-61-03_pos.mzXML\",\"LQ-01-61-04_pos.mzXML\",\"LQ-01-61-05_pos.mzXML\",\"LQ-01-61-06_pos.mzXML\",\"LQ-01-61-07_pos.mzXML\",\"LQ-01-61-08_pos.mzXML\",\"LQ-01-61-09_pos.mzXML\",\"LQ-01-61-10_pos.mzXML\",\"LQ-01-61-11_pos.mzXML\",\"LQ-01-61-12_pos.mzXML\",\"LQ-01-61-13_pos.mzXML\",\"LQ-01-61-14_pos.mzXML\",\"LQ-01-61-15_pos.mzXML\",\"LQ-01-61-16_pos.mzXML\",\"LQ-01-61-17_pos.mzXML\",\"LQ-01-61-18_pos.mzXML\",\"LQ-01-61-19_pos.mzXML\",\"LQ-01-61-20_pos.mzXML\",\"LQ-01-61-21_pos.mzXML\",\"LQ-01-61-22_pos.mzXML\",\"LQ-01-61-23_pos.mzXML\",\"LQ-01-61-24_pos.mzXML\",\"LQ-01-61-25_pos.mzXML\",\"LQ-01-61-26_pos.mzXML\",\"LQ-01-61-27_pos.mzXML\",\"LQ-01-61-28_pos.mzXML\",\"LQ-01-61-29_pos.mzXML\",\"LQ-01-61-30_pos.mzXML\",\"LQ-01-61-31_pos.mzXML\",\"LQ-01-61-32_pos.mzXML\",\"LQ-01-61-33_pos.mzXML\",\"LQ-01-61-34_pos.mzXML\",\"LQ-01-61-35_pos.mzXML\",\"LQ-01-61-36_pos.mzXML\",\"LQ-01-61-37_pos.mzXML\",\"LQ-01-61-38_pos.mzXML\",\"LQ-01-61-39_pos.mzXML\",\"LQ-01-61-40_pos.mzXML\",\"LQ-01-61-41_pos.mzXML\",\"LQ-01-61-42_pos.mzXML\",\"LQ-01-61-43_pos.mzXML\",\"LQ-01-61-44_pos.mzXML\",\"LQ-01-61-45_pos.mzXML\",\"LQ-01-61-46_pos.mzXML\",\"LQ-01-61-47_pos.mzXML\",\"LQ-01-61-48_pos.mzXML\",\"LQ-01-61-49_pos.mzXML\",\"LQ-01-61-50_pos.mzXML\",\"LQ-01-61-51_pos.mzXML\",\"LQ-01-61-52_pos.mzXML\",\"LQ-01-61-53_pos.mzXML\",\"LQ-01-61-54_pos.mzXML\",\"LQ-01-61-55_pos.mzXML\",\"LQ-01-61-56_pos.mzXML\",\"LQ-01-61-57_pos.mzXML\",\"LQ-01-61-58_pos.mzXML\",\"LQ-01-61-59_pos.mzXML\",\"LQ-01-61-60_pos.mzXML\",\"LQ-01-61-61_pos.mzXML\",\"LQ-01-61-62_pos.mzXML\",\"LQ-01-61-63_pos.mzXML\",\"LQ-01-61-64_pos.mzXML\",\"LQ-01-61-65_pos.mzXML\",\"LQ-01-61-66_pos.mzXML\",\"LQ-01-61-67_pos.mzXML\",\"LQ-01-61-68_pos.mzXML\",\"LQ-01-61-69_pos.mzXML\",\"LQ-01-61-70_pos.mzXML\",\"LQ-01-61-71_pos.mzXML\",\"LQ-01-61-72_pos.mzXML\",\"LQ-01-61-73_pos.mzXML\",\"LQ-01-61-74_pos.mzXML\",\"LQ-01-61-75_pos.mzXML\",\"LQ-01-61-78_pos.mzXML\"],\"legendgrouptitle\":{\"text\":\"normal\"},\"marker\":{\"color\":[1,1,1,1,1,1,-1,1,1,1,1,1,1,1,1,1,1,1,-1,1,1,-1,-1,1,1,1,1,1,1,1,1,1,1,1,1,1,1,1,1,1,-1,1,1,1,1,1,-1,1,1,1,1,1,1,-1,-1,-1,1,1,1,-1,1,1,1,1,1,1,1,1,1,1,1,-1,1,1,1,-1],\"colorscale\":[[0.0,\"rgb(255,255,204)\"],[0.125,\"rgb(255,237,160)\"],[0.25,\"rgb(254,217,118)\"],[0.375,\"rgb(254,178,76)\"],[0.5,\"rgb(253,141,60)\"],[0.625,\"rgb(252,78,42)\"],[0.75,\"rgb(227,26,28)\"],[0.875,\"rgb(189,0,38)\"],[1.0,\"rgb(128,0,38)\"]],\"line\":{\"color\":\"black\",\"width\":0.5},\"showscale\":false,\"size\":10},\"mode\":\"markers\",\"opacity\":0.85,\"showlegend\":false,\"x\":[-0.08918355178765881,0.06846954955605372,0.13448734762071282,0.11819384542770653,0.05980371741364595,0.10816117510221489,0.19466715006192142,-0.2574422977329749,-0.21435646816718706,-0.005230987336226238,0.1025003836422325,-0.04967031001757647,-0.005016847991106795,0.0655985990337101,-0.016498516684313964,0.02378746867102317,0.028690892705476135,-0.02494540322024607,0.17115168955406693,0.07693796295723036,-0.06938575051881749,-0.10184810091363974,-0.18254464226144212,0.0665460242313343,0.08259182673020322,0.025247659123797426,-0.008293407520251966,-0.18754308841791315,-0.12227999014692441,-0.06946097766338846,0.21181622419470725,0.14096041207590582,0.01772383640751306,0.06481572076040076,0.12337128024904255,-0.020338701889247787,0.04035613439455281,0.016976274655669348,-0.012839907490866413,0.03839951163137532,0.060120313000070175,-0.06025558619580762,-0.12420843329346005,0.06874456328254948,0.09484597645323413,-0.010522265219323377,-0.09101072044252388,0.06243855455014496,0.08265815519853872,0.09473428434819545,-0.03866448431775625,-0.050358406844300846,0.03587226868580301,0.08773001484347914,0.17030072670234495,0.16664629026691483,-0.08331298324761237,0.13538035466547746,-0.0711518989654735,-0.21730189296850064,-0.07011255197958507,-0.17813588880808887,-0.013791344502579446,-0.046051467189010944,-0.18435454122384226,-0.13100261753558387,-0.09907201438510713,-0.17574606548785138,-0.10622282909548693,0.015015440729744279,-0.0973047216651212,-0.09938432429691393,0.12446326655808121,0.15649570604986646,0.12361816998472012,-0.0754747840959487],\"y\":[0.09175078320306763,0.08129934184719657,0.14078347628064763,0.1122856774316567,-0.05688954414766619,0.11915704076409847,-0.061212976130724656,0.04031238127971278,0.057749756607718375,-0.06862257674118176,-0.03297526219169025,-0.08340728517017217,-0.027966507517742125,0.22461022358402702,-0.0706555495276861,-0.050702553312651964,0.09868992446150912,0.01226851581954673,-0.08189635175239693,-0.07859795560502685,-0.016687157587654055,-0.00010188871275305673,0.01988933365286126,-0.014229764700351831,-0.10505109664885269,-0.13191425937220247,-0.08251241947712222,0.03735321803100679,0.07423159917680246,-0.035708595552943256,0.060491577316500275,-0.024525141435679305,-0.11714449598539502,-0.01909000558318614,-0.0928762759868856,-0.0869484135441756,0.14213788072179329,-0.020880711503672506,-0.13094078291397113,-0.10429750877457855,0.08952193079615232,-0.03335330636070255,0.018634852736587573,-0.006605753855655572,-0.059684999725601234,-0.11012940589955,-0.04838748021750641,-0.05063151761505767,-0.041819933601788636,-0.017392200397837374,-0.05901745002862603,-0.08583731145985395,-0.03778595474605778,0.07399083555729681,0.10827983916610476,0.1157425144541338,0.03813161347687125,-0.060355757670705355,-0.09247374346220019,0.08650687837938276,-0.03150216681715129,0.009543165883456235,-0.11553369359048775,-0.07546914614848368,-0.05495619530417859,0.052726710240374244,0.1461153180549394,-0.0044336496903248515,0.07719531423509964,0.16466511310855034,0.03464541556477931,-0.08350579351467484,0.09171484855687394,0.09157318272586314,-0.02301636029620255,0.17572863716439627],\"type\":\"scatter\",\"xaxis\":\"x2\",\"yaxis\":\"y2\"},{\"hovertext\":[\"LQ-01-61-01_pos.mzXML\",\"LQ-01-61-02_pos.mzXML\",\"LQ-01-61-03_pos.mzXML\",\"LQ-01-61-04_pos.mzXML\",\"LQ-01-61-05_pos.mzXML\",\"LQ-01-61-06_pos.mzXML\",\"LQ-01-61-07_pos.mzXML\",\"LQ-01-61-08_pos.mzXML\",\"LQ-01-61-09_pos.mzXML\",\"LQ-01-61-10_pos.mzXML\",\"LQ-01-61-11_pos.mzXML\",\"LQ-01-61-12_pos.mzXML\",\"LQ-01-61-13_pos.mzXML\",\"LQ-01-61-14_pos.mzXML\",\"LQ-01-61-15_pos.mzXML\",\"LQ-01-61-16_pos.mzXML\",\"LQ-01-61-17_pos.mzXML\",\"LQ-01-61-18_pos.mzXML\",\"LQ-01-61-19_pos.mzXML\",\"LQ-01-61-20_pos.mzXML\",\"LQ-01-61-21_pos.mzXML\",\"LQ-01-61-22_pos.mzXML\",\"LQ-01-61-23_pos.mzXML\",\"LQ-01-61-24_pos.mzXML\",\"LQ-01-61-25_pos.mzXML\",\"LQ-01-61-26_pos.mzXML\",\"LQ-01-61-27_pos.mzXML\",\"LQ-01-61-28_pos.mzXML\",\"LQ-01-61-29_pos.mzXML\",\"LQ-01-61-30_pos.mzXML\",\"LQ-01-61-31_pos.mzXML\",\"LQ-01-61-32_pos.mzXML\",\"LQ-01-61-33_pos.mzXML\",\"LQ-01-61-34_pos.mzXML\",\"LQ-01-61-35_pos.mzXML\",\"LQ-01-61-36_pos.mzXML\",\"LQ-01-61-37_pos.mzXML\",\"LQ-01-61-38_pos.mzXML\",\"LQ-01-61-39_pos.mzXML\",\"LQ-01-61-40_pos.mzXML\",\"LQ-01-61-41_pos.mzXML\",\"LQ-01-61-42_pos.mzXML\",\"LQ-01-61-43_pos.mzXML\",\"LQ-01-61-44_pos.mzXML\",\"LQ-01-61-45_pos.mzXML\",\"LQ-01-61-46_pos.mzXML\",\"LQ-01-61-47_pos.mzXML\",\"LQ-01-61-48_pos.mzXML\",\"LQ-01-61-49_pos.mzXML\",\"LQ-01-61-50_pos.mzXML\",\"LQ-01-61-51_pos.mzXML\",\"LQ-01-61-52_pos.mzXML\",\"LQ-01-61-53_pos.mzXML\",\"LQ-01-61-54_pos.mzXML\",\"LQ-01-61-55_pos.mzXML\",\"LQ-01-61-56_pos.mzXML\",\"LQ-01-61-57_pos.mzXML\",\"LQ-01-61-58_pos.mzXML\",\"LQ-01-61-59_pos.mzXML\",\"LQ-01-61-60_pos.mzXML\",\"LQ-01-61-61_pos.mzXML\",\"LQ-01-61-62_pos.mzXML\",\"LQ-01-61-63_pos.mzXML\",\"LQ-01-61-64_pos.mzXML\",\"LQ-01-61-65_pos.mzXML\",\"LQ-01-61-66_pos.mzXML\",\"LQ-01-61-67_pos.mzXML\",\"LQ-01-61-68_pos.mzXML\",\"LQ-01-61-69_pos.mzXML\",\"LQ-01-61-70_pos.mzXML\",\"LQ-01-61-71_pos.mzXML\",\"LQ-01-61-72_pos.mzXML\",\"LQ-01-61-73_pos.mzXML\",\"LQ-01-61-74_pos.mzXML\",\"LQ-01-61-75_pos.mzXML\",\"LQ-01-61-78_pos.mzXML\"],\"legendgrouptitle\":{\"text\":\"Anomaly\"},\"marker\":{\"color\":[1,1,1,1,1,1,-1,1,1,1,1,1,1,1,1,1,1,1,1,1,1,1,1,1,1,1,1,1,1,1,1,1,1,1,1,1,1,1,1,1,1,1,1,1,1,1,1,1,1,1,1,1,1,1,-1,1,1,1,1,-1,1,1,1,1,1,1,1,1,1,1,1,1,1,1,1,-1],\"colorscale\":[[0.0,\"rgb(255,255,204)\"],[0.125,\"rgb(255,237,160)\"],[0.25,\"rgb(254,217,118)\"],[0.375,\"rgb(254,178,76)\"],[0.5,\"rgb(253,141,60)\"],[0.625,\"rgb(252,78,42)\"],[0.75,\"rgb(227,26,28)\"],[0.875,\"rgb(189,0,38)\"],[1.0,\"rgb(128,0,38)\"]],\"line\":{\"color\":\"black\",\"width\":0.5},\"showscale\":false,\"size\":10},\"mode\":\"markers\",\"opacity\":0.85,\"showlegend\":false,\"x\":[-0.08918355178765881,0.06846954955605372,0.13448734762071282,0.11819384542770653,0.05980371741364595,0.10816117510221489,0.19466715006192142,-0.2574422977329749,-0.21435646816718706,-0.005230987336226238,0.1025003836422325,-0.04967031001757647,-0.005016847991106795,0.0655985990337101,-0.016498516684313964,0.02378746867102317,0.028690892705476135,-0.02494540322024607,0.17115168955406693,0.07693796295723036,-0.06938575051881749,-0.10184810091363974,-0.18254464226144212,0.0665460242313343,0.08259182673020322,0.025247659123797426,-0.008293407520251966,-0.18754308841791315,-0.12227999014692441,-0.06946097766338846,0.21181622419470725,0.14096041207590582,0.01772383640751306,0.06481572076040076,0.12337128024904255,-0.020338701889247787,0.04035613439455281,0.016976274655669348,-0.012839907490866413,0.03839951163137532,0.060120313000070175,-0.06025558619580762,-0.12420843329346005,0.06874456328254948,0.09484597645323413,-0.010522265219323377,-0.09101072044252388,0.06243855455014496,0.08265815519853872,0.09473428434819545,-0.03866448431775625,-0.050358406844300846,0.03587226868580301,0.08773001484347914,0.17030072670234495,0.16664629026691483,-0.08331298324761237,0.13538035466547746,-0.0711518989654735,-0.21730189296850064,-0.07011255197958507,-0.17813588880808887,-0.013791344502579446,-0.046051467189010944,-0.18435454122384226,-0.13100261753558387,-0.09907201438510713,-0.17574606548785138,-0.10622282909548693,0.015015440729744279,-0.0973047216651212,-0.09938432429691393,0.12446326655808121,0.15649570604986646,0.12361816998472012,-0.0754747840959487],\"y\":[0.09175078320306763,0.08129934184719657,0.14078347628064763,0.1122856774316567,-0.05688954414766619,0.11915704076409847,-0.061212976130724656,0.04031238127971278,0.057749756607718375,-0.06862257674118176,-0.03297526219169025,-0.08340728517017217,-0.027966507517742125,0.22461022358402702,-0.0706555495276861,-0.050702553312651964,0.09868992446150912,0.01226851581954673,-0.08189635175239693,-0.07859795560502685,-0.016687157587654055,-0.00010188871275305673,0.01988933365286126,-0.014229764700351831,-0.10505109664885269,-0.13191425937220247,-0.08251241947712222,0.03735321803100679,0.07423159917680246,-0.035708595552943256,0.060491577316500275,-0.024525141435679305,-0.11714449598539502,-0.01909000558318614,-0.0928762759868856,-0.0869484135441756,0.14213788072179329,-0.020880711503672506,-0.13094078291397113,-0.10429750877457855,0.08952193079615232,-0.03335330636070255,0.018634852736587573,-0.006605753855655572,-0.059684999725601234,-0.11012940589955,-0.04838748021750641,-0.05063151761505767,-0.041819933601788636,-0.017392200397837374,-0.05901745002862603,-0.08583731145985395,-0.03778595474605778,0.07399083555729681,0.10827983916610476,0.1157425144541338,0.03813161347687125,-0.060355757670705355,-0.09247374346220019,0.08650687837938276,-0.03150216681715129,0.009543165883456235,-0.11553369359048775,-0.07546914614848368,-0.05495619530417859,0.052726710240374244,0.1461153180549394,-0.0044336496903248515,0.07719531423509964,0.16466511310855034,0.03464541556477931,-0.08350579351467484,0.09171484855687394,0.09157318272586314,-0.02301636029620255,0.17572863716439627],\"type\":\"scatter\",\"xaxis\":\"x3\",\"yaxis\":\"y3\"}],                        {\"template\":{\"data\":{\"barpolar\":[{\"marker\":{\"line\":{\"color\":\"white\",\"width\":0.5},\"pattern\":{\"fillmode\":\"overlay\",\"size\":10,\"solidity\":0.2}},\"type\":\"barpolar\"}],\"bar\":[{\"error_x\":{\"color\":\"rgb(36,36,36)\"},\"error_y\":{\"color\":\"rgb(36,36,36)\"},\"marker\":{\"line\":{\"color\":\"white\",\"width\":0.5},\"pattern\":{\"fillmode\":\"overlay\",\"size\":10,\"solidity\":0.2}},\"type\":\"bar\"}],\"carpet\":[{\"aaxis\":{\"endlinecolor\":\"rgb(36,36,36)\",\"gridcolor\":\"white\",\"linecolor\":\"white\",\"minorgridcolor\":\"white\",\"startlinecolor\":\"rgb(36,36,36)\"},\"baxis\":{\"endlinecolor\":\"rgb(36,36,36)\",\"gridcolor\":\"white\",\"linecolor\":\"white\",\"minorgridcolor\":\"white\",\"startlinecolor\":\"rgb(36,36,36)\"},\"type\":\"carpet\"}],\"choropleth\":[{\"colorbar\":{\"outlinewidth\":1,\"tickcolor\":\"rgb(36,36,36)\",\"ticks\":\"outside\"},\"type\":\"choropleth\"}],\"contourcarpet\":[{\"colorbar\":{\"outlinewidth\":1,\"tickcolor\":\"rgb(36,36,36)\",\"ticks\":\"outside\"},\"type\":\"contourcarpet\"}],\"contour\":[{\"colorbar\":{\"outlinewidth\":1,\"tickcolor\":\"rgb(36,36,36)\",\"ticks\":\"outside\"},\"colorscale\":[[0.0,\"#440154\"],[0.1111111111111111,\"#482878\"],[0.2222222222222222,\"#3e4989\"],[0.3333333333333333,\"#31688e\"],[0.4444444444444444,\"#26828e\"],[0.5555555555555556,\"#1f9e89\"],[0.6666666666666666,\"#35b779\"],[0.7777777777777778,\"#6ece58\"],[0.8888888888888888,\"#b5de2b\"],[1.0,\"#fde725\"]],\"type\":\"contour\"}],\"heatmapgl\":[{\"colorbar\":{\"outlinewidth\":1,\"tickcolor\":\"rgb(36,36,36)\",\"ticks\":\"outside\"},\"colorscale\":[[0.0,\"#440154\"],[0.1111111111111111,\"#482878\"],[0.2222222222222222,\"#3e4989\"],[0.3333333333333333,\"#31688e\"],[0.4444444444444444,\"#26828e\"],[0.5555555555555556,\"#1f9e89\"],[0.6666666666666666,\"#35b779\"],[0.7777777777777778,\"#6ece58\"],[0.8888888888888888,\"#b5de2b\"],[1.0,\"#fde725\"]],\"type\":\"heatmapgl\"}],\"heatmap\":[{\"colorbar\":{\"outlinewidth\":1,\"tickcolor\":\"rgb(36,36,36)\",\"ticks\":\"outside\"},\"colorscale\":[[0.0,\"#440154\"],[0.1111111111111111,\"#482878\"],[0.2222222222222222,\"#3e4989\"],[0.3333333333333333,\"#31688e\"],[0.4444444444444444,\"#26828e\"],[0.5555555555555556,\"#1f9e89\"],[0.6666666666666666,\"#35b779\"],[0.7777777777777778,\"#6ece58\"],[0.8888888888888888,\"#b5de2b\"],[1.0,\"#fde725\"]],\"type\":\"heatmap\"}],\"histogram2dcontour\":[{\"colorbar\":{\"outlinewidth\":1,\"tickcolor\":\"rgb(36,36,36)\",\"ticks\":\"outside\"},\"colorscale\":[[0.0,\"#440154\"],[0.1111111111111111,\"#482878\"],[0.2222222222222222,\"#3e4989\"],[0.3333333333333333,\"#31688e\"],[0.4444444444444444,\"#26828e\"],[0.5555555555555556,\"#1f9e89\"],[0.6666666666666666,\"#35b779\"],[0.7777777777777778,\"#6ece58\"],[0.8888888888888888,\"#b5de2b\"],[1.0,\"#fde725\"]],\"type\":\"histogram2dcontour\"}],\"histogram2d\":[{\"colorbar\":{\"outlinewidth\":1,\"tickcolor\":\"rgb(36,36,36)\",\"ticks\":\"outside\"},\"colorscale\":[[0.0,\"#440154\"],[0.1111111111111111,\"#482878\"],[0.2222222222222222,\"#3e4989\"],[0.3333333333333333,\"#31688e\"],[0.4444444444444444,\"#26828e\"],[0.5555555555555556,\"#1f9e89\"],[0.6666666666666666,\"#35b779\"],[0.7777777777777778,\"#6ece58\"],[0.8888888888888888,\"#b5de2b\"],[1.0,\"#fde725\"]],\"type\":\"histogram2d\"}],\"histogram\":[{\"marker\":{\"line\":{\"color\":\"white\",\"width\":0.6}},\"type\":\"histogram\"}],\"mesh3d\":[{\"colorbar\":{\"outlinewidth\":1,\"tickcolor\":\"rgb(36,36,36)\",\"ticks\":\"outside\"},\"type\":\"mesh3d\"}],\"parcoords\":[{\"line\":{\"colorbar\":{\"outlinewidth\":1,\"tickcolor\":\"rgb(36,36,36)\",\"ticks\":\"outside\"}},\"type\":\"parcoords\"}],\"pie\":[{\"automargin\":true,\"type\":\"pie\"}],\"scatter3d\":[{\"line\":{\"colorbar\":{\"outlinewidth\":1,\"tickcolor\":\"rgb(36,36,36)\",\"ticks\":\"outside\"}},\"marker\":{\"colorbar\":{\"outlinewidth\":1,\"tickcolor\":\"rgb(36,36,36)\",\"ticks\":\"outside\"}},\"type\":\"scatter3d\"}],\"scattercarpet\":[{\"marker\":{\"colorbar\":{\"outlinewidth\":1,\"tickcolor\":\"rgb(36,36,36)\",\"ticks\":\"outside\"}},\"type\":\"scattercarpet\"}],\"scattergeo\":[{\"marker\":{\"colorbar\":{\"outlinewidth\":1,\"tickcolor\":\"rgb(36,36,36)\",\"ticks\":\"outside\"}},\"type\":\"scattergeo\"}],\"scattergl\":[{\"marker\":{\"colorbar\":{\"outlinewidth\":1,\"tickcolor\":\"rgb(36,36,36)\",\"ticks\":\"outside\"}},\"type\":\"scattergl\"}],\"scattermapbox\":[{\"marker\":{\"colorbar\":{\"outlinewidth\":1,\"tickcolor\":\"rgb(36,36,36)\",\"ticks\":\"outside\"}},\"type\":\"scattermapbox\"}],\"scatterpolargl\":[{\"marker\":{\"colorbar\":{\"outlinewidth\":1,\"tickcolor\":\"rgb(36,36,36)\",\"ticks\":\"outside\"}},\"type\":\"scatterpolargl\"}],\"scatterpolar\":[{\"marker\":{\"colorbar\":{\"outlinewidth\":1,\"tickcolor\":\"rgb(36,36,36)\",\"ticks\":\"outside\"}},\"type\":\"scatterpolar\"}],\"scatter\":[{\"fillpattern\":{\"fillmode\":\"overlay\",\"size\":10,\"solidity\":0.2},\"type\":\"scatter\"}],\"scatterternary\":[{\"marker\":{\"colorbar\":{\"outlinewidth\":1,\"tickcolor\":\"rgb(36,36,36)\",\"ticks\":\"outside\"}},\"type\":\"scatterternary\"}],\"surface\":[{\"colorbar\":{\"outlinewidth\":1,\"tickcolor\":\"rgb(36,36,36)\",\"ticks\":\"outside\"},\"colorscale\":[[0.0,\"#440154\"],[0.1111111111111111,\"#482878\"],[0.2222222222222222,\"#3e4989\"],[0.3333333333333333,\"#31688e\"],[0.4444444444444444,\"#26828e\"],[0.5555555555555556,\"#1f9e89\"],[0.6666666666666666,\"#35b779\"],[0.7777777777777778,\"#6ece58\"],[0.8888888888888888,\"#b5de2b\"],[1.0,\"#fde725\"]],\"type\":\"surface\"}],\"table\":[{\"cells\":{\"fill\":{\"color\":\"rgb(237,237,237)\"},\"line\":{\"color\":\"white\"}},\"header\":{\"fill\":{\"color\":\"rgb(217,217,217)\"},\"line\":{\"color\":\"white\"}},\"type\":\"table\"}]},\"layout\":{\"annotationdefaults\":{\"arrowhead\":0,\"arrowwidth\":1},\"autotypenumbers\":\"strict\",\"coloraxis\":{\"colorbar\":{\"outlinewidth\":1,\"tickcolor\":\"rgb(36,36,36)\",\"ticks\":\"outside\"}},\"colorscale\":{\"diverging\":[[0.0,\"rgb(103,0,31)\"],[0.1,\"rgb(178,24,43)\"],[0.2,\"rgb(214,96,77)\"],[0.3,\"rgb(244,165,130)\"],[0.4,\"rgb(253,219,199)\"],[0.5,\"rgb(247,247,247)\"],[0.6,\"rgb(209,229,240)\"],[0.7,\"rgb(146,197,222)\"],[0.8,\"rgb(67,147,195)\"],[0.9,\"rgb(33,102,172)\"],[1.0,\"rgb(5,48,97)\"]],\"sequential\":[[0.0,\"#440154\"],[0.1111111111111111,\"#482878\"],[0.2222222222222222,\"#3e4989\"],[0.3333333333333333,\"#31688e\"],[0.4444444444444444,\"#26828e\"],[0.5555555555555556,\"#1f9e89\"],[0.6666666666666666,\"#35b779\"],[0.7777777777777778,\"#6ece58\"],[0.8888888888888888,\"#b5de2b\"],[1.0,\"#fde725\"]],\"sequentialminus\":[[0.0,\"#440154\"],[0.1111111111111111,\"#482878\"],[0.2222222222222222,\"#3e4989\"],[0.3333333333333333,\"#31688e\"],[0.4444444444444444,\"#26828e\"],[0.5555555555555556,\"#1f9e89\"],[0.6666666666666666,\"#35b779\"],[0.7777777777777778,\"#6ece58\"],[0.8888888888888888,\"#b5de2b\"],[1.0,\"#fde725\"]]},\"colorway\":[\"#1F77B4\",\"#FF7F0E\",\"#2CA02C\",\"#D62728\",\"#9467BD\",\"#8C564B\",\"#E377C2\",\"#7F7F7F\",\"#BCBD22\",\"#17BECF\"],\"font\":{\"color\":\"rgb(36,36,36)\"},\"geo\":{\"bgcolor\":\"white\",\"lakecolor\":\"white\",\"landcolor\":\"white\",\"showlakes\":true,\"showland\":true,\"subunitcolor\":\"white\"},\"hoverlabel\":{\"align\":\"left\"},\"hovermode\":\"closest\",\"mapbox\":{\"style\":\"light\"},\"paper_bgcolor\":\"white\",\"plot_bgcolor\":\"white\",\"polar\":{\"angularaxis\":{\"gridcolor\":\"rgb(232,232,232)\",\"linecolor\":\"rgb(36,36,36)\",\"showgrid\":false,\"showline\":true,\"ticks\":\"outside\"},\"bgcolor\":\"white\",\"radialaxis\":{\"gridcolor\":\"rgb(232,232,232)\",\"linecolor\":\"rgb(36,36,36)\",\"showgrid\":false,\"showline\":true,\"ticks\":\"outside\"}},\"scene\":{\"xaxis\":{\"backgroundcolor\":\"white\",\"gridcolor\":\"rgb(232,232,232)\",\"gridwidth\":2,\"linecolor\":\"rgb(36,36,36)\",\"showbackground\":true,\"showgrid\":false,\"showline\":true,\"ticks\":\"outside\",\"zeroline\":false,\"zerolinecolor\":\"rgb(36,36,36)\"},\"yaxis\":{\"backgroundcolor\":\"white\",\"gridcolor\":\"rgb(232,232,232)\",\"gridwidth\":2,\"linecolor\":\"rgb(36,36,36)\",\"showbackground\":true,\"showgrid\":false,\"showline\":true,\"ticks\":\"outside\",\"zeroline\":false,\"zerolinecolor\":\"rgb(36,36,36)\"},\"zaxis\":{\"backgroundcolor\":\"white\",\"gridcolor\":\"rgb(232,232,232)\",\"gridwidth\":2,\"linecolor\":\"rgb(36,36,36)\",\"showbackground\":true,\"showgrid\":false,\"showline\":true,\"ticks\":\"outside\",\"zeroline\":false,\"zerolinecolor\":\"rgb(36,36,36)\"}},\"shapedefaults\":{\"fillcolor\":\"black\",\"line\":{\"width\":0},\"opacity\":0.3},\"ternary\":{\"aaxis\":{\"gridcolor\":\"rgb(232,232,232)\",\"linecolor\":\"rgb(36,36,36)\",\"showgrid\":false,\"showline\":true,\"ticks\":\"outside\"},\"baxis\":{\"gridcolor\":\"rgb(232,232,232)\",\"linecolor\":\"rgb(36,36,36)\",\"showgrid\":false,\"showline\":true,\"ticks\":\"outside\"},\"bgcolor\":\"white\",\"caxis\":{\"gridcolor\":\"rgb(232,232,232)\",\"linecolor\":\"rgb(36,36,36)\",\"showgrid\":false,\"showline\":true,\"ticks\":\"outside\"}},\"title\":{\"x\":0.05},\"xaxis\":{\"automargin\":true,\"gridcolor\":\"rgb(232,232,232)\",\"linecolor\":\"rgb(36,36,36)\",\"showgrid\":false,\"showline\":true,\"ticks\":\"outside\",\"title\":{\"standoff\":15},\"zeroline\":false,\"zerolinecolor\":\"rgb(36,36,36)\"},\"yaxis\":{\"automargin\":true,\"gridcolor\":\"rgb(232,232,232)\",\"linecolor\":\"rgb(36,36,36)\",\"showgrid\":false,\"showline\":true,\"ticks\":\"outside\",\"title\":{\"standoff\":15},\"zeroline\":false,\"zerolinecolor\":\"rgb(36,36,36)\"}}},\"xaxis\":{\"anchor\":\"y\",\"domain\":[0.0,0.2888888888888889],\"title\":{\"text\":\"PC1 (25.5 %)\"}},\"yaxis\":{\"anchor\":\"x\",\"domain\":[0.0,1.0],\"title\":{\"text\":\"PC2 (14.9 %)\"}},\"xaxis2\":{\"anchor\":\"y2\",\"domain\":[0.35555555555555557,0.6444444444444445],\"title\":{\"text\":\"PC1 (25.5 %)\"}},\"yaxis2\":{\"anchor\":\"x2\",\"domain\":[0.0,1.0],\"title\":{\"text\":\"PC2 (14.9 %)\"}},\"xaxis3\":{\"anchor\":\"y3\",\"domain\":[0.7111111111111111,1.0],\"title\":{\"text\":\"PC1 (25.5 %)\"}},\"yaxis3\":{\"anchor\":\"x3\",\"domain\":[0.0,1.0],\"title\":{\"text\":\"PC2 (14.9 %)\"}},\"annotations\":[{\"font\":{\"size\":20},\"showarrow\":false,\"text\":\"PCoA MEMO aligned (IF)\",\"x\":0.14444444444444446,\"xanchor\":\"center\",\"xref\":\"paper\",\"y\":1.0,\"yanchor\":\"bottom\",\"yref\":\"paper\"},{\"font\":{\"size\":20},\"showarrow\":false,\"text\":\"PCoA MEMO aligned (LOF)\",\"x\":0.5,\"xanchor\":\"center\",\"xref\":\"paper\",\"y\":1.0,\"yanchor\":\"bottom\",\"yref\":\"paper\"},{\"font\":{\"size\":20},\"showarrow\":false,\"text\":\"PCoA MEMO aligned (OCSVM)\",\"x\":0.8555555555555556,\"xanchor\":\"center\",\"xref\":\"paper\",\"y\":1.0,\"yanchor\":\"bottom\",\"yref\":\"paper\"}],\"title\":{\"text\":\"Multiple outlier detection results\"},\"height\":600,\"width\":1500,\"font\":{\"family\":\"Times New Roman\",\"size\":16,\"color\":\"black\"},\"legend\":{\"orientation\":\"h\",\"y\":-0.2,\"x\":-0.05,\"bordercolor\":\"Black\",\"borderwidth\":1}},                        {\"responsive\": true}                    ).then(function(){\n",
       "                            \n",
       "var gd = document.getElementById('5666e8aa-65a7-4829-9d33-c7ccdb188ab1');\n",
       "var x = new MutationObserver(function (mutations, observer) {{\n",
       "        var display = window.getComputedStyle(gd).display;\n",
       "        if (!display || display === 'none') {{\n",
       "            console.log([gd, 'removed!']);\n",
       "            Plotly.purge(gd);\n",
       "            observer.disconnect();\n",
       "        }}\n",
       "}});\n",
       "\n",
       "// Listen for the removal of the full notebook cells\n",
       "var notebookContainer = gd.closest('#notebook-container');\n",
       "if (notebookContainer) {{\n",
       "    x.observe(notebookContainer, {childList: true});\n",
       "}}\n",
       "\n",
       "// Listen for the clearing of the current output cell\n",
       "var outputEl = gd.closest('.output');\n",
       "if (outputEl) {{\n",
       "    x.observe(outputEl, {childList: true});\n",
       "}}\n",
       "\n",
       "                        })                };                });            </script>        </div>"
      ]
     },
     "metadata": {},
     "output_type": "display_data"
    }
   ],
   "source": [
    "pcoa_2d(\n",
    "    matrix= metric_df,\n",
    "    data = SC,\n",
    "    metric= 'braycurtis')"
   ]
  },
  {
   "cell_type": "markdown",
   "metadata": {},
   "source": [
    "#### SC.2.3 PCoA + UMAP combined visualization"
   ]
  },
  {
   "cell_type": "code",
   "execution_count": 67,
   "metadata": {},
   "outputs": [
    {
     "data": {
      "application/vnd.plotly.v1+json": {
       "config": {
        "plotlyServerURL": "https://plot.ly"
       },
       "data": [
        {
         "hovertext": [
          "LQ-01-61-01_pos.mzXML",
          "LQ-01-61-02_pos.mzXML",
          "LQ-01-61-03_pos.mzXML",
          "LQ-01-61-04_pos.mzXML",
          "LQ-01-61-05_pos.mzXML",
          "LQ-01-61-06_pos.mzXML",
          "LQ-01-61-07_pos.mzXML",
          "LQ-01-61-08_pos.mzXML",
          "LQ-01-61-09_pos.mzXML",
          "LQ-01-61-10_pos.mzXML",
          "LQ-01-61-11_pos.mzXML",
          "LQ-01-61-12_pos.mzXML",
          "LQ-01-61-13_pos.mzXML",
          "LQ-01-61-14_pos.mzXML",
          "LQ-01-61-15_pos.mzXML",
          "LQ-01-61-16_pos.mzXML",
          "LQ-01-61-17_pos.mzXML",
          "LQ-01-61-18_pos.mzXML",
          "LQ-01-61-19_pos.mzXML",
          "LQ-01-61-20_pos.mzXML",
          "LQ-01-61-21_pos.mzXML",
          "LQ-01-61-22_pos.mzXML",
          "LQ-01-61-23_pos.mzXML",
          "LQ-01-61-24_pos.mzXML",
          "LQ-01-61-25_pos.mzXML",
          "LQ-01-61-26_pos.mzXML",
          "LQ-01-61-27_pos.mzXML",
          "LQ-01-61-28_pos.mzXML",
          "LQ-01-61-29_pos.mzXML",
          "LQ-01-61-30_pos.mzXML",
          "LQ-01-61-31_pos.mzXML",
          "LQ-01-61-32_pos.mzXML",
          "LQ-01-61-33_pos.mzXML",
          "LQ-01-61-34_pos.mzXML",
          "LQ-01-61-35_pos.mzXML",
          "LQ-01-61-36_pos.mzXML",
          "LQ-01-61-37_pos.mzXML",
          "LQ-01-61-38_pos.mzXML",
          "LQ-01-61-39_pos.mzXML",
          "LQ-01-61-40_pos.mzXML",
          "LQ-01-61-41_pos.mzXML",
          "LQ-01-61-42_pos.mzXML",
          "LQ-01-61-43_pos.mzXML",
          "LQ-01-61-44_pos.mzXML",
          "LQ-01-61-45_pos.mzXML",
          "LQ-01-61-46_pos.mzXML",
          "LQ-01-61-47_pos.mzXML",
          "LQ-01-61-48_pos.mzXML",
          "LQ-01-61-49_pos.mzXML",
          "LQ-01-61-50_pos.mzXML",
          "LQ-01-61-51_pos.mzXML",
          "LQ-01-61-52_pos.mzXML",
          "LQ-01-61-53_pos.mzXML",
          "LQ-01-61-54_pos.mzXML",
          "LQ-01-61-55_pos.mzXML",
          "LQ-01-61-56_pos.mzXML",
          "LQ-01-61-57_pos.mzXML",
          "LQ-01-61-58_pos.mzXML",
          "LQ-01-61-59_pos.mzXML",
          "LQ-01-61-60_pos.mzXML",
          "LQ-01-61-61_pos.mzXML",
          "LQ-01-61-62_pos.mzXML",
          "LQ-01-61-63_pos.mzXML",
          "LQ-01-61-64_pos.mzXML",
          "LQ-01-61-65_pos.mzXML",
          "LQ-01-61-66_pos.mzXML",
          "LQ-01-61-67_pos.mzXML",
          "LQ-01-61-68_pos.mzXML",
          "LQ-01-61-69_pos.mzXML",
          "LQ-01-61-70_pos.mzXML",
          "LQ-01-61-71_pos.mzXML",
          "LQ-01-61-72_pos.mzXML",
          "LQ-01-61-73_pos.mzXML",
          "LQ-01-61-74_pos.mzXML",
          "LQ-01-61-75_pos.mzXML",
          "LQ-01-61-78_pos.mzXML"
         ],
         "marker": {
          "color": [
           -1,
           -1,
           -1,
           -1,
           -1,
           -1,
           -1,
           1,
           1,
           1,
           1,
           1,
           1,
           -1,
           1,
           1,
           1,
           1,
           -1,
           1,
           1,
           1,
           1,
           1,
           1,
           1,
           1,
           1,
           1,
           1,
           -1,
           1,
           1,
           1,
           1,
           1,
           -1,
           1,
           1,
           1,
           1,
           1,
           1,
           1,
           1,
           1,
           1,
           1,
           1,
           1,
           1,
           1,
           1,
           1,
           1,
           1,
           1,
           1,
           1,
           1,
           1,
           1,
           1,
           1,
           1,
           1,
           1,
           1,
           1,
           1,
           1,
           1,
           1,
           -1,
           1,
           1
          ],
          "colorscale": [
           [
            0,
            "rgb(128,0,38)"
           ],
           [
            0.125,
            "rgb(189,0,38)"
           ],
           [
            0.25,
            "rgb(227,26,28)"
           ],
           [
            0.375,
            "rgb(252,78,42)"
           ],
           [
            0.5,
            "rgb(253,141,60)"
           ],
           [
            0.625,
            "rgb(254,178,76)"
           ],
           [
            0.75,
            "rgb(254,217,118)"
           ],
           [
            0.875,
            "rgb(255,237,160)"
           ],
           [
            1,
            "rgb(255,255,204)"
           ]
          ],
          "line": {
           "color": "black",
           "width": 0.5
          },
          "showscale": false,
          "size": 10
         },
         "mode": "markers",
         "opacity": 0.85,
         "showlegend": false,
         "type": "scatter",
         "x": [
          -0.08918355178765881,
          0.06846954955605372,
          0.13448734762071282,
          0.11819384542770653,
          0.05980371741364595,
          0.10816117510221489,
          0.19466715006192142,
          -0.2574422977329749,
          -0.21435646816718706,
          -0.005230987336226238,
          0.1025003836422325,
          -0.04967031001757647,
          -0.005016847991106795,
          0.0655985990337101,
          -0.016498516684313964,
          0.02378746867102317,
          0.028690892705476135,
          -0.02494540322024607,
          0.17115168955406693,
          0.07693796295723036,
          -0.06938575051881749,
          -0.10184810091363974,
          -0.18254464226144212,
          0.0665460242313343,
          0.08259182673020322,
          0.025247659123797426,
          -0.008293407520251966,
          -0.18754308841791315,
          -0.12227999014692441,
          -0.06946097766338846,
          0.21181622419470725,
          0.14096041207590582,
          0.01772383640751306,
          0.06481572076040076,
          0.12337128024904255,
          -0.020338701889247787,
          0.04035613439455281,
          0.016976274655669348,
          -0.012839907490866413,
          0.03839951163137532,
          0.060120313000070175,
          -0.06025558619580762,
          -0.12420843329346005,
          0.06874456328254948,
          0.09484597645323413,
          -0.010522265219323377,
          -0.09101072044252388,
          0.06243855455014496,
          0.08265815519853872,
          0.09473428434819545,
          -0.03866448431775625,
          -0.050358406844300846,
          0.03587226868580301,
          0.08773001484347914,
          0.17030072670234495,
          0.16664629026691483,
          -0.08331298324761237,
          0.13538035466547746,
          -0.0711518989654735,
          -0.21730189296850064,
          -0.07011255197958507,
          -0.17813588880808887,
          -0.013791344502579446,
          -0.046051467189010944,
          -0.18435454122384226,
          -0.13100261753558387,
          -0.09907201438510713,
          -0.17574606548785138,
          -0.10622282909548693,
          0.015015440729744279,
          -0.0973047216651212,
          -0.09938432429691393,
          0.12446326655808121,
          0.15649570604986646,
          0.12361816998472012,
          -0.0754747840959487
         ],
         "xaxis": "x",
         "y": [
          0.09175078320306763,
          0.08129934184719657,
          0.14078347628064763,
          0.1122856774316567,
          -0.05688954414766619,
          0.11915704076409847,
          -0.061212976130724656,
          0.04031238127971278,
          0.057749756607718375,
          -0.06862257674118176,
          -0.03297526219169025,
          -0.08340728517017217,
          -0.027966507517742125,
          0.22461022358402702,
          -0.0706555495276861,
          -0.050702553312651964,
          0.09868992446150912,
          0.01226851581954673,
          -0.08189635175239693,
          -0.07859795560502685,
          -0.016687157587654055,
          -0.00010188871275305673,
          0.01988933365286126,
          -0.014229764700351831,
          -0.10505109664885269,
          -0.13191425937220247,
          -0.08251241947712222,
          0.03735321803100679,
          0.07423159917680246,
          -0.035708595552943256,
          0.060491577316500275,
          -0.024525141435679305,
          -0.11714449598539502,
          -0.01909000558318614,
          -0.0928762759868856,
          -0.0869484135441756,
          0.14213788072179329,
          -0.020880711503672506,
          -0.13094078291397113,
          -0.10429750877457855,
          0.08952193079615232,
          -0.03335330636070255,
          0.018634852736587573,
          -0.006605753855655572,
          -0.059684999725601234,
          -0.11012940589955,
          -0.04838748021750641,
          -0.05063151761505767,
          -0.041819933601788636,
          -0.017392200397837374,
          -0.05901745002862603,
          -0.08583731145985395,
          -0.03778595474605778,
          0.07399083555729681,
          0.10827983916610476,
          0.1157425144541338,
          0.03813161347687125,
          -0.060355757670705355,
          -0.09247374346220019,
          0.08650687837938276,
          -0.03150216681715129,
          0.009543165883456235,
          -0.11553369359048775,
          -0.07546914614848368,
          -0.05495619530417859,
          0.052726710240374244,
          0.1461153180549394,
          -0.0044336496903248515,
          0.07719531423509964,
          0.16466511310855034,
          0.03464541556477931,
          -0.08350579351467484,
          0.09171484855687394,
          0.09157318272586314,
          -0.02301636029620255,
          0.17572863716439627
         ],
         "yaxis": "y"
        },
        {
         "hovertext": [
          "LQ-01-61-01_pos.mzXML",
          "LQ-01-61-02_pos.mzXML",
          "LQ-01-61-03_pos.mzXML",
          "LQ-01-61-04_pos.mzXML",
          "LQ-01-61-05_pos.mzXML",
          "LQ-01-61-06_pos.mzXML",
          "LQ-01-61-07_pos.mzXML",
          "LQ-01-61-08_pos.mzXML",
          "LQ-01-61-09_pos.mzXML",
          "LQ-01-61-10_pos.mzXML",
          "LQ-01-61-11_pos.mzXML",
          "LQ-01-61-12_pos.mzXML",
          "LQ-01-61-13_pos.mzXML",
          "LQ-01-61-14_pos.mzXML",
          "LQ-01-61-15_pos.mzXML",
          "LQ-01-61-16_pos.mzXML",
          "LQ-01-61-17_pos.mzXML",
          "LQ-01-61-18_pos.mzXML",
          "LQ-01-61-19_pos.mzXML",
          "LQ-01-61-20_pos.mzXML",
          "LQ-01-61-21_pos.mzXML",
          "LQ-01-61-22_pos.mzXML",
          "LQ-01-61-23_pos.mzXML",
          "LQ-01-61-24_pos.mzXML",
          "LQ-01-61-25_pos.mzXML",
          "LQ-01-61-26_pos.mzXML",
          "LQ-01-61-27_pos.mzXML",
          "LQ-01-61-28_pos.mzXML",
          "LQ-01-61-29_pos.mzXML",
          "LQ-01-61-30_pos.mzXML",
          "LQ-01-61-31_pos.mzXML",
          "LQ-01-61-32_pos.mzXML",
          "LQ-01-61-33_pos.mzXML",
          "LQ-01-61-34_pos.mzXML",
          "LQ-01-61-35_pos.mzXML",
          "LQ-01-61-36_pos.mzXML",
          "LQ-01-61-37_pos.mzXML",
          "LQ-01-61-38_pos.mzXML",
          "LQ-01-61-39_pos.mzXML",
          "LQ-01-61-40_pos.mzXML",
          "LQ-01-61-41_pos.mzXML",
          "LQ-01-61-42_pos.mzXML",
          "LQ-01-61-43_pos.mzXML",
          "LQ-01-61-44_pos.mzXML",
          "LQ-01-61-45_pos.mzXML",
          "LQ-01-61-46_pos.mzXML",
          "LQ-01-61-47_pos.mzXML",
          "LQ-01-61-48_pos.mzXML",
          "LQ-01-61-49_pos.mzXML",
          "LQ-01-61-50_pos.mzXML",
          "LQ-01-61-51_pos.mzXML",
          "LQ-01-61-52_pos.mzXML",
          "LQ-01-61-53_pos.mzXML",
          "LQ-01-61-54_pos.mzXML",
          "LQ-01-61-55_pos.mzXML",
          "LQ-01-61-56_pos.mzXML",
          "LQ-01-61-57_pos.mzXML",
          "LQ-01-61-58_pos.mzXML",
          "LQ-01-61-59_pos.mzXML",
          "LQ-01-61-60_pos.mzXML",
          "LQ-01-61-61_pos.mzXML",
          "LQ-01-61-62_pos.mzXML",
          "LQ-01-61-63_pos.mzXML",
          "LQ-01-61-64_pos.mzXML",
          "LQ-01-61-65_pos.mzXML",
          "LQ-01-61-66_pos.mzXML",
          "LQ-01-61-67_pos.mzXML",
          "LQ-01-61-68_pos.mzXML",
          "LQ-01-61-69_pos.mzXML",
          "LQ-01-61-70_pos.mzXML",
          "LQ-01-61-71_pos.mzXML",
          "LQ-01-61-72_pos.mzXML",
          "LQ-01-61-73_pos.mzXML",
          "LQ-01-61-74_pos.mzXML",
          "LQ-01-61-75_pos.mzXML",
          "LQ-01-61-78_pos.mzXML"
         ],
         "marker": {
          "color": [
           1,
           1,
           1,
           1,
           1,
           1,
           -1,
           1,
           1,
           1,
           1,
           1,
           1,
           1,
           1,
           1,
           1,
           1,
           -1,
           1,
           1,
           -1,
           -1,
           1,
           1,
           1,
           1,
           1,
           1,
           1,
           1,
           1,
           1,
           1,
           1,
           1,
           1,
           1,
           1,
           1,
           -1,
           1,
           1,
           1,
           1,
           1,
           -1,
           1,
           1,
           1,
           1,
           1,
           1,
           -1,
           -1,
           -1,
           1,
           1,
           1,
           -1,
           1,
           1,
           1,
           1,
           1,
           1,
           1,
           1,
           1,
           1,
           1,
           -1,
           1,
           1,
           1,
           -1
          ],
          "colorscale": [
           [
            0,
            "rgb(128,0,38)"
           ],
           [
            0.125,
            "rgb(189,0,38)"
           ],
           [
            0.25,
            "rgb(227,26,28)"
           ],
           [
            0.375,
            "rgb(252,78,42)"
           ],
           [
            0.5,
            "rgb(253,141,60)"
           ],
           [
            0.625,
            "rgb(254,178,76)"
           ],
           [
            0.75,
            "rgb(254,217,118)"
           ],
           [
            0.875,
            "rgb(255,237,160)"
           ],
           [
            1,
            "rgb(255,255,204)"
           ]
          ],
          "line": {
           "color": "black",
           "width": 0.5
          },
          "showscale": false,
          "size": 10
         },
         "mode": "markers",
         "opacity": 0.85,
         "showlegend": false,
         "type": "scatter",
         "x": [
          -0.08918355178765881,
          0.06846954955605372,
          0.13448734762071282,
          0.11819384542770653,
          0.05980371741364595,
          0.10816117510221489,
          0.19466715006192142,
          -0.2574422977329749,
          -0.21435646816718706,
          -0.005230987336226238,
          0.1025003836422325,
          -0.04967031001757647,
          -0.005016847991106795,
          0.0655985990337101,
          -0.016498516684313964,
          0.02378746867102317,
          0.028690892705476135,
          -0.02494540322024607,
          0.17115168955406693,
          0.07693796295723036,
          -0.06938575051881749,
          -0.10184810091363974,
          -0.18254464226144212,
          0.0665460242313343,
          0.08259182673020322,
          0.025247659123797426,
          -0.008293407520251966,
          -0.18754308841791315,
          -0.12227999014692441,
          -0.06946097766338846,
          0.21181622419470725,
          0.14096041207590582,
          0.01772383640751306,
          0.06481572076040076,
          0.12337128024904255,
          -0.020338701889247787,
          0.04035613439455281,
          0.016976274655669348,
          -0.012839907490866413,
          0.03839951163137532,
          0.060120313000070175,
          -0.06025558619580762,
          -0.12420843329346005,
          0.06874456328254948,
          0.09484597645323413,
          -0.010522265219323377,
          -0.09101072044252388,
          0.06243855455014496,
          0.08265815519853872,
          0.09473428434819545,
          -0.03866448431775625,
          -0.050358406844300846,
          0.03587226868580301,
          0.08773001484347914,
          0.17030072670234495,
          0.16664629026691483,
          -0.08331298324761237,
          0.13538035466547746,
          -0.0711518989654735,
          -0.21730189296850064,
          -0.07011255197958507,
          -0.17813588880808887,
          -0.013791344502579446,
          -0.046051467189010944,
          -0.18435454122384226,
          -0.13100261753558387,
          -0.09907201438510713,
          -0.17574606548785138,
          -0.10622282909548693,
          0.015015440729744279,
          -0.0973047216651212,
          -0.09938432429691393,
          0.12446326655808121,
          0.15649570604986646,
          0.12361816998472012,
          -0.0754747840959487
         ],
         "xaxis": "x2",
         "y": [
          0.09175078320306763,
          0.08129934184719657,
          0.14078347628064763,
          0.1122856774316567,
          -0.05688954414766619,
          0.11915704076409847,
          -0.061212976130724656,
          0.04031238127971278,
          0.057749756607718375,
          -0.06862257674118176,
          -0.03297526219169025,
          -0.08340728517017217,
          -0.027966507517742125,
          0.22461022358402702,
          -0.0706555495276861,
          -0.050702553312651964,
          0.09868992446150912,
          0.01226851581954673,
          -0.08189635175239693,
          -0.07859795560502685,
          -0.016687157587654055,
          -0.00010188871275305673,
          0.01988933365286126,
          -0.014229764700351831,
          -0.10505109664885269,
          -0.13191425937220247,
          -0.08251241947712222,
          0.03735321803100679,
          0.07423159917680246,
          -0.035708595552943256,
          0.060491577316500275,
          -0.024525141435679305,
          -0.11714449598539502,
          -0.01909000558318614,
          -0.0928762759868856,
          -0.0869484135441756,
          0.14213788072179329,
          -0.020880711503672506,
          -0.13094078291397113,
          -0.10429750877457855,
          0.08952193079615232,
          -0.03335330636070255,
          0.018634852736587573,
          -0.006605753855655572,
          -0.059684999725601234,
          -0.11012940589955,
          -0.04838748021750641,
          -0.05063151761505767,
          -0.041819933601788636,
          -0.017392200397837374,
          -0.05901745002862603,
          -0.08583731145985395,
          -0.03778595474605778,
          0.07399083555729681,
          0.10827983916610476,
          0.1157425144541338,
          0.03813161347687125,
          -0.060355757670705355,
          -0.09247374346220019,
          0.08650687837938276,
          -0.03150216681715129,
          0.009543165883456235,
          -0.11553369359048775,
          -0.07546914614848368,
          -0.05495619530417859,
          0.052726710240374244,
          0.1461153180549394,
          -0.0044336496903248515,
          0.07719531423509964,
          0.16466511310855034,
          0.03464541556477931,
          -0.08350579351467484,
          0.09171484855687394,
          0.09157318272586314,
          -0.02301636029620255,
          0.17572863716439627
         ],
         "yaxis": "y2"
        },
        {
         "hovertext": [
          "LQ-01-61-01_pos.mzXML",
          "LQ-01-61-02_pos.mzXML",
          "LQ-01-61-03_pos.mzXML",
          "LQ-01-61-04_pos.mzXML",
          "LQ-01-61-05_pos.mzXML",
          "LQ-01-61-06_pos.mzXML",
          "LQ-01-61-07_pos.mzXML",
          "LQ-01-61-08_pos.mzXML",
          "LQ-01-61-09_pos.mzXML",
          "LQ-01-61-10_pos.mzXML",
          "LQ-01-61-11_pos.mzXML",
          "LQ-01-61-12_pos.mzXML",
          "LQ-01-61-13_pos.mzXML",
          "LQ-01-61-14_pos.mzXML",
          "LQ-01-61-15_pos.mzXML",
          "LQ-01-61-16_pos.mzXML",
          "LQ-01-61-17_pos.mzXML",
          "LQ-01-61-18_pos.mzXML",
          "LQ-01-61-19_pos.mzXML",
          "LQ-01-61-20_pos.mzXML",
          "LQ-01-61-21_pos.mzXML",
          "LQ-01-61-22_pos.mzXML",
          "LQ-01-61-23_pos.mzXML",
          "LQ-01-61-24_pos.mzXML",
          "LQ-01-61-25_pos.mzXML",
          "LQ-01-61-26_pos.mzXML",
          "LQ-01-61-27_pos.mzXML",
          "LQ-01-61-28_pos.mzXML",
          "LQ-01-61-29_pos.mzXML",
          "LQ-01-61-30_pos.mzXML",
          "LQ-01-61-31_pos.mzXML",
          "LQ-01-61-32_pos.mzXML",
          "LQ-01-61-33_pos.mzXML",
          "LQ-01-61-34_pos.mzXML",
          "LQ-01-61-35_pos.mzXML",
          "LQ-01-61-36_pos.mzXML",
          "LQ-01-61-37_pos.mzXML",
          "LQ-01-61-38_pos.mzXML",
          "LQ-01-61-39_pos.mzXML",
          "LQ-01-61-40_pos.mzXML",
          "LQ-01-61-41_pos.mzXML",
          "LQ-01-61-42_pos.mzXML",
          "LQ-01-61-43_pos.mzXML",
          "LQ-01-61-44_pos.mzXML",
          "LQ-01-61-45_pos.mzXML",
          "LQ-01-61-46_pos.mzXML",
          "LQ-01-61-47_pos.mzXML",
          "LQ-01-61-48_pos.mzXML",
          "LQ-01-61-49_pos.mzXML",
          "LQ-01-61-50_pos.mzXML",
          "LQ-01-61-51_pos.mzXML",
          "LQ-01-61-52_pos.mzXML",
          "LQ-01-61-53_pos.mzXML",
          "LQ-01-61-54_pos.mzXML",
          "LQ-01-61-55_pos.mzXML",
          "LQ-01-61-56_pos.mzXML",
          "LQ-01-61-57_pos.mzXML",
          "LQ-01-61-58_pos.mzXML",
          "LQ-01-61-59_pos.mzXML",
          "LQ-01-61-60_pos.mzXML",
          "LQ-01-61-61_pos.mzXML",
          "LQ-01-61-62_pos.mzXML",
          "LQ-01-61-63_pos.mzXML",
          "LQ-01-61-64_pos.mzXML",
          "LQ-01-61-65_pos.mzXML",
          "LQ-01-61-66_pos.mzXML",
          "LQ-01-61-67_pos.mzXML",
          "LQ-01-61-68_pos.mzXML",
          "LQ-01-61-69_pos.mzXML",
          "LQ-01-61-70_pos.mzXML",
          "LQ-01-61-71_pos.mzXML",
          "LQ-01-61-72_pos.mzXML",
          "LQ-01-61-73_pos.mzXML",
          "LQ-01-61-74_pos.mzXML",
          "LQ-01-61-75_pos.mzXML",
          "LQ-01-61-78_pos.mzXML"
         ],
         "marker": {
          "color": [
           1,
           1,
           1,
           1,
           1,
           1,
           -1,
           1,
           1,
           1,
           1,
           1,
           1,
           1,
           1,
           1,
           1,
           1,
           1,
           1,
           1,
           1,
           1,
           1,
           1,
           1,
           1,
           1,
           1,
           1,
           1,
           1,
           1,
           1,
           1,
           1,
           1,
           1,
           1,
           1,
           1,
           1,
           1,
           1,
           1,
           1,
           1,
           1,
           1,
           1,
           1,
           1,
           1,
           1,
           -1,
           1,
           1,
           1,
           1,
           -1,
           1,
           1,
           1,
           1,
           1,
           1,
           1,
           1,
           1,
           1,
           1,
           1,
           1,
           1,
           1,
           -1
          ],
          "colorscale": [
           [
            0,
            "rgb(128,0,38)"
           ],
           [
            0.125,
            "rgb(189,0,38)"
           ],
           [
            0.25,
            "rgb(227,26,28)"
           ],
           [
            0.375,
            "rgb(252,78,42)"
           ],
           [
            0.5,
            "rgb(253,141,60)"
           ],
           [
            0.625,
            "rgb(254,178,76)"
           ],
           [
            0.75,
            "rgb(254,217,118)"
           ],
           [
            0.875,
            "rgb(255,237,160)"
           ],
           [
            1,
            "rgb(255,255,204)"
           ]
          ],
          "line": {
           "color": "black",
           "width": 0.5
          },
          "showscale": false,
          "size": 10
         },
         "mode": "markers",
         "opacity": 0.85,
         "showlegend": false,
         "type": "scatter",
         "x": [
          -0.08918355178765881,
          0.06846954955605372,
          0.13448734762071282,
          0.11819384542770653,
          0.05980371741364595,
          0.10816117510221489,
          0.19466715006192142,
          -0.2574422977329749,
          -0.21435646816718706,
          -0.005230987336226238,
          0.1025003836422325,
          -0.04967031001757647,
          -0.005016847991106795,
          0.0655985990337101,
          -0.016498516684313964,
          0.02378746867102317,
          0.028690892705476135,
          -0.02494540322024607,
          0.17115168955406693,
          0.07693796295723036,
          -0.06938575051881749,
          -0.10184810091363974,
          -0.18254464226144212,
          0.0665460242313343,
          0.08259182673020322,
          0.025247659123797426,
          -0.008293407520251966,
          -0.18754308841791315,
          -0.12227999014692441,
          -0.06946097766338846,
          0.21181622419470725,
          0.14096041207590582,
          0.01772383640751306,
          0.06481572076040076,
          0.12337128024904255,
          -0.020338701889247787,
          0.04035613439455281,
          0.016976274655669348,
          -0.012839907490866413,
          0.03839951163137532,
          0.060120313000070175,
          -0.06025558619580762,
          -0.12420843329346005,
          0.06874456328254948,
          0.09484597645323413,
          -0.010522265219323377,
          -0.09101072044252388,
          0.06243855455014496,
          0.08265815519853872,
          0.09473428434819545,
          -0.03866448431775625,
          -0.050358406844300846,
          0.03587226868580301,
          0.08773001484347914,
          0.17030072670234495,
          0.16664629026691483,
          -0.08331298324761237,
          0.13538035466547746,
          -0.0711518989654735,
          -0.21730189296850064,
          -0.07011255197958507,
          -0.17813588880808887,
          -0.013791344502579446,
          -0.046051467189010944,
          -0.18435454122384226,
          -0.13100261753558387,
          -0.09907201438510713,
          -0.17574606548785138,
          -0.10622282909548693,
          0.015015440729744279,
          -0.0973047216651212,
          -0.09938432429691393,
          0.12446326655808121,
          0.15649570604986646,
          0.12361816998472012,
          -0.0754747840959487
         ],
         "xaxis": "x3",
         "y": [
          0.09175078320306763,
          0.08129934184719657,
          0.14078347628064763,
          0.1122856774316567,
          -0.05688954414766619,
          0.11915704076409847,
          -0.061212976130724656,
          0.04031238127971278,
          0.057749756607718375,
          -0.06862257674118176,
          -0.03297526219169025,
          -0.08340728517017217,
          -0.027966507517742125,
          0.22461022358402702,
          -0.0706555495276861,
          -0.050702553312651964,
          0.09868992446150912,
          0.01226851581954673,
          -0.08189635175239693,
          -0.07859795560502685,
          -0.016687157587654055,
          -0.00010188871275305673,
          0.01988933365286126,
          -0.014229764700351831,
          -0.10505109664885269,
          -0.13191425937220247,
          -0.08251241947712222,
          0.03735321803100679,
          0.07423159917680246,
          -0.035708595552943256,
          0.060491577316500275,
          -0.024525141435679305,
          -0.11714449598539502,
          -0.01909000558318614,
          -0.0928762759868856,
          -0.0869484135441756,
          0.14213788072179329,
          -0.020880711503672506,
          -0.13094078291397113,
          -0.10429750877457855,
          0.08952193079615232,
          -0.03335330636070255,
          0.018634852736587573,
          -0.006605753855655572,
          -0.059684999725601234,
          -0.11012940589955,
          -0.04838748021750641,
          -0.05063151761505767,
          -0.041819933601788636,
          -0.017392200397837374,
          -0.05901745002862603,
          -0.08583731145985395,
          -0.03778595474605778,
          0.07399083555729681,
          0.10827983916610476,
          0.1157425144541338,
          0.03813161347687125,
          -0.060355757670705355,
          -0.09247374346220019,
          0.08650687837938276,
          -0.03150216681715129,
          0.009543165883456235,
          -0.11553369359048775,
          -0.07546914614848368,
          -0.05495619530417859,
          0.052726710240374244,
          0.1461153180549394,
          -0.0044336496903248515,
          0.07719531423509964,
          0.16466511310855034,
          0.03464541556477931,
          -0.08350579351467484,
          0.09171484855687394,
          0.09157318272586314,
          -0.02301636029620255,
          0.17572863716439627
         ],
         "yaxis": "y3"
        },
        {
         "hovertext": [
          "LQ-01-61-01_pos.mzXML",
          "LQ-01-61-02_pos.mzXML",
          "LQ-01-61-03_pos.mzXML",
          "LQ-01-61-04_pos.mzXML",
          "LQ-01-61-05_pos.mzXML",
          "LQ-01-61-06_pos.mzXML",
          "LQ-01-61-07_pos.mzXML",
          "LQ-01-61-08_pos.mzXML",
          "LQ-01-61-09_pos.mzXML",
          "LQ-01-61-10_pos.mzXML",
          "LQ-01-61-11_pos.mzXML",
          "LQ-01-61-12_pos.mzXML",
          "LQ-01-61-13_pos.mzXML",
          "LQ-01-61-14_pos.mzXML",
          "LQ-01-61-15_pos.mzXML",
          "LQ-01-61-16_pos.mzXML",
          "LQ-01-61-17_pos.mzXML",
          "LQ-01-61-18_pos.mzXML",
          "LQ-01-61-19_pos.mzXML",
          "LQ-01-61-20_pos.mzXML",
          "LQ-01-61-21_pos.mzXML",
          "LQ-01-61-22_pos.mzXML",
          "LQ-01-61-23_pos.mzXML",
          "LQ-01-61-24_pos.mzXML",
          "LQ-01-61-25_pos.mzXML",
          "LQ-01-61-26_pos.mzXML",
          "LQ-01-61-27_pos.mzXML",
          "LQ-01-61-28_pos.mzXML",
          "LQ-01-61-29_pos.mzXML",
          "LQ-01-61-30_pos.mzXML",
          "LQ-01-61-31_pos.mzXML",
          "LQ-01-61-32_pos.mzXML",
          "LQ-01-61-33_pos.mzXML",
          "LQ-01-61-34_pos.mzXML",
          "LQ-01-61-35_pos.mzXML",
          "LQ-01-61-36_pos.mzXML",
          "LQ-01-61-37_pos.mzXML",
          "LQ-01-61-38_pos.mzXML",
          "LQ-01-61-39_pos.mzXML",
          "LQ-01-61-40_pos.mzXML",
          "LQ-01-61-41_pos.mzXML",
          "LQ-01-61-42_pos.mzXML",
          "LQ-01-61-43_pos.mzXML",
          "LQ-01-61-44_pos.mzXML",
          "LQ-01-61-45_pos.mzXML",
          "LQ-01-61-46_pos.mzXML",
          "LQ-01-61-47_pos.mzXML",
          "LQ-01-61-48_pos.mzXML",
          "LQ-01-61-49_pos.mzXML",
          "LQ-01-61-50_pos.mzXML",
          "LQ-01-61-51_pos.mzXML",
          "LQ-01-61-52_pos.mzXML",
          "LQ-01-61-53_pos.mzXML",
          "LQ-01-61-54_pos.mzXML",
          "LQ-01-61-55_pos.mzXML",
          "LQ-01-61-56_pos.mzXML",
          "LQ-01-61-57_pos.mzXML",
          "LQ-01-61-58_pos.mzXML",
          "LQ-01-61-59_pos.mzXML",
          "LQ-01-61-60_pos.mzXML",
          "LQ-01-61-61_pos.mzXML",
          "LQ-01-61-62_pos.mzXML",
          "LQ-01-61-63_pos.mzXML",
          "LQ-01-61-64_pos.mzXML",
          "LQ-01-61-65_pos.mzXML",
          "LQ-01-61-66_pos.mzXML",
          "LQ-01-61-67_pos.mzXML",
          "LQ-01-61-68_pos.mzXML",
          "LQ-01-61-69_pos.mzXML",
          "LQ-01-61-70_pos.mzXML",
          "LQ-01-61-71_pos.mzXML",
          "LQ-01-61-72_pos.mzXML",
          "LQ-01-61-73_pos.mzXML",
          "LQ-01-61-74_pos.mzXML",
          "LQ-01-61-75_pos.mzXML",
          "LQ-01-61-78_pos.mzXML"
         ],
         "marker": {
          "color": [
           -1,
           -1,
           -1,
           -1,
           -1,
           -1,
           -1,
           1,
           1,
           1,
           1,
           1,
           1,
           -1,
           1,
           1,
           1,
           1,
           -1,
           1,
           1,
           1,
           1,
           1,
           1,
           1,
           1,
           1,
           1,
           1,
           -1,
           1,
           1,
           1,
           1,
           1,
           -1,
           1,
           1,
           1,
           1,
           1,
           1,
           1,
           1,
           1,
           1,
           1,
           1,
           1,
           1,
           1,
           1,
           1,
           1,
           1,
           1,
           1,
           1,
           1,
           1,
           1,
           1,
           1,
           1,
           1,
           1,
           1,
           1,
           1,
           1,
           1,
           1,
           -1,
           1,
           1
          ],
          "colorscale": [
           [
            0,
            "rgb(128,0,38)"
           ],
           [
            0.125,
            "rgb(189,0,38)"
           ],
           [
            0.25,
            "rgb(227,26,28)"
           ],
           [
            0.375,
            "rgb(252,78,42)"
           ],
           [
            0.5,
            "rgb(253,141,60)"
           ],
           [
            0.625,
            "rgb(254,178,76)"
           ],
           [
            0.75,
            "rgb(254,217,118)"
           ],
           [
            0.875,
            "rgb(255,237,160)"
           ],
           [
            1,
            "rgb(255,255,204)"
           ]
          ],
          "line": {
           "color": "black",
           "width": 0.5
          },
          "showscale": false,
          "size": 10
         },
         "mode": "markers",
         "name": "Outlier [-1]",
         "opacity": 0.85,
         "type": "scatter",
         "x": [
          4.89582633972168,
          4.925055503845215,
          5.382785797119141,
          5.2796311378479,
          5.233705997467041,
          5.8559722900390625,
          6.414022445678711,
          4.596370697021484,
          3.3652825355529785,
          4.33696985244751,
          4.335381031036377,
          5.749759674072266,
          3.7382898330688477,
          5.524647235870361,
          4.731801986694336,
          6.226406097412109,
          5.48516321182251,
          5.314761161804199,
          6.34091329574585,
          4.303330898284912,
          3.231693983078003,
          3.171689510345459,
          3.402247190475464,
          4.482395648956299,
          4.226431846618652,
          4.905412673950195,
          5.431427955627441,
          4.158760070800781,
          3.7356793880462646,
          4.626877307891846,
          6.335179328918457,
          5.894894599914551,
          4.721096992492676,
          4.294436454772949,
          3.929422378540039,
          5.462935447692871,
          5.893077373504639,
          5.505309104919434,
          5.346185684204102,
          4.987010955810547,
          4.217734336853027,
          5.93155574798584,
          5.499401092529297,
          4.822365760803223,
          4.582394123077393,
          4.332313537597656,
          3.4163527488708496,
          3.3412106037139893,
          3.3298802375793457,
          3.2583158016204834,
          4.48413610458374,
          5.339450836181641,
          3.574629783630371,
          6.024999141693115,
          6.150183200836182,
          6.376888275146484,
          4.128325939178467,
          4.945769786834717,
          5.280302047729492,
          3.599241256713867,
          4.221518516540527,
          5.0485100746154785,
          3.8322501182556152,
          4.121886253356934,
          5.269802093505859,
          3.5025298595428467,
          4.713684558868408,
          5.398005485534668,
          3.942941665649414,
          5.310530185699463,
          3.860015630722046,
          4.712900161743164,
          5.9052228927612305,
          5.840310096740723,
          4.808447360992432,
          5.511852741241455
         ],
         "xaxis": "x4",
         "y": [
          2.023527145385742,
          2.0365164279937744,
          2.303036689758301,
          2.1672375202178955,
          -0.7792079448699951,
          1.691635251045227,
          -0.1912820190191269,
          -2.674509048461914,
          -1.4155408143997192,
          -1.6259077787399292,
          0.7699860334396362,
          -2.7364909648895264,
          -0.05213024839758873,
          1.9172580242156982,
          -1.4791185855865479,
          -0.9429116249084473,
          1.2263652086257935,
          -0.1698216050863266,
          -0.40083178877830505,
          -0.865085244178772,
          -2.146231174468994,
          -2.312105178833008,
          -2.475306272506714,
          0.14539915323257446,
          -1.2155532836914062,
          -3.554375648498535,
          -1.9417301416397095,
          -0.5057929158210754,
          0.9386475086212158,
          -3.321821928024292,
          0.2822648882865906,
          -0.05418302118778229,
          -3.112480878829956,
          0.3458607792854309,
          -0.6473960876464844,
          -3.4351065158843994,
          2.1884429454803467,
          -0.6992430686950684,
          -3.0858309268951416,
          -2.795825481414795,
          0.9558190107345581,
          -2.5825624465942383,
          -1.4945933818817139,
          0.8926997780799866,
          -0.5272945165634155,
          -2.9189980030059814,
          -1.9340795278549194,
          -0.11232905834913254,
          -0.05096665024757385,
          0.004746182356029749,
          -2.1066110134124756,
          -2.5378150939941406,
          -0.5241153836250305,
          0.3667747676372528,
          0.48347532749176025,
          0.6336869597434998,
          -0.014454248361289501,
          -0.010353129357099533,
          -3.403381586074829,
          -1.260352611541748,
          -2.651893138885498,
          -2.2811474800109863,
          -2.0235400199890137,
          -2.346733808517456,
          -3.215761661529541,
          0.6001147627830505,
          1.4615269899368286,
          -2.6400814056396484,
          0.5379533171653748,
          1.7136507034301758,
          0.2883361279964447,
          -3.442948341369629,
          1.9945436716079712,
          2.132697582244873,
          0.4448567032814026,
          1.526161789894104
         ],
         "yaxis": "y4"
        },
        {
         "hovertext": [
          "LQ-01-61-01_pos.mzXML",
          "LQ-01-61-02_pos.mzXML",
          "LQ-01-61-03_pos.mzXML",
          "LQ-01-61-04_pos.mzXML",
          "LQ-01-61-05_pos.mzXML",
          "LQ-01-61-06_pos.mzXML",
          "LQ-01-61-07_pos.mzXML",
          "LQ-01-61-08_pos.mzXML",
          "LQ-01-61-09_pos.mzXML",
          "LQ-01-61-10_pos.mzXML",
          "LQ-01-61-11_pos.mzXML",
          "LQ-01-61-12_pos.mzXML",
          "LQ-01-61-13_pos.mzXML",
          "LQ-01-61-14_pos.mzXML",
          "LQ-01-61-15_pos.mzXML",
          "LQ-01-61-16_pos.mzXML",
          "LQ-01-61-17_pos.mzXML",
          "LQ-01-61-18_pos.mzXML",
          "LQ-01-61-19_pos.mzXML",
          "LQ-01-61-20_pos.mzXML",
          "LQ-01-61-21_pos.mzXML",
          "LQ-01-61-22_pos.mzXML",
          "LQ-01-61-23_pos.mzXML",
          "LQ-01-61-24_pos.mzXML",
          "LQ-01-61-25_pos.mzXML",
          "LQ-01-61-26_pos.mzXML",
          "LQ-01-61-27_pos.mzXML",
          "LQ-01-61-28_pos.mzXML",
          "LQ-01-61-29_pos.mzXML",
          "LQ-01-61-30_pos.mzXML",
          "LQ-01-61-31_pos.mzXML",
          "LQ-01-61-32_pos.mzXML",
          "LQ-01-61-33_pos.mzXML",
          "LQ-01-61-34_pos.mzXML",
          "LQ-01-61-35_pos.mzXML",
          "LQ-01-61-36_pos.mzXML",
          "LQ-01-61-37_pos.mzXML",
          "LQ-01-61-38_pos.mzXML",
          "LQ-01-61-39_pos.mzXML",
          "LQ-01-61-40_pos.mzXML",
          "LQ-01-61-41_pos.mzXML",
          "LQ-01-61-42_pos.mzXML",
          "LQ-01-61-43_pos.mzXML",
          "LQ-01-61-44_pos.mzXML",
          "LQ-01-61-45_pos.mzXML",
          "LQ-01-61-46_pos.mzXML",
          "LQ-01-61-47_pos.mzXML",
          "LQ-01-61-48_pos.mzXML",
          "LQ-01-61-49_pos.mzXML",
          "LQ-01-61-50_pos.mzXML",
          "LQ-01-61-51_pos.mzXML",
          "LQ-01-61-52_pos.mzXML",
          "LQ-01-61-53_pos.mzXML",
          "LQ-01-61-54_pos.mzXML",
          "LQ-01-61-55_pos.mzXML",
          "LQ-01-61-56_pos.mzXML",
          "LQ-01-61-57_pos.mzXML",
          "LQ-01-61-58_pos.mzXML",
          "LQ-01-61-59_pos.mzXML",
          "LQ-01-61-60_pos.mzXML",
          "LQ-01-61-61_pos.mzXML",
          "LQ-01-61-62_pos.mzXML",
          "LQ-01-61-63_pos.mzXML",
          "LQ-01-61-64_pos.mzXML",
          "LQ-01-61-65_pos.mzXML",
          "LQ-01-61-66_pos.mzXML",
          "LQ-01-61-67_pos.mzXML",
          "LQ-01-61-68_pos.mzXML",
          "LQ-01-61-69_pos.mzXML",
          "LQ-01-61-70_pos.mzXML",
          "LQ-01-61-71_pos.mzXML",
          "LQ-01-61-72_pos.mzXML",
          "LQ-01-61-73_pos.mzXML",
          "LQ-01-61-74_pos.mzXML",
          "LQ-01-61-75_pos.mzXML",
          "LQ-01-61-78_pos.mzXML"
         ],
         "marker": {
          "color": [
           1,
           1,
           1,
           1,
           1,
           1,
           -1,
           1,
           1,
           1,
           1,
           1,
           1,
           1,
           1,
           1,
           1,
           1,
           -1,
           1,
           1,
           -1,
           -1,
           1,
           1,
           1,
           1,
           1,
           1,
           1,
           1,
           1,
           1,
           1,
           1,
           1,
           1,
           1,
           1,
           1,
           -1,
           1,
           1,
           1,
           1,
           1,
           -1,
           1,
           1,
           1,
           1,
           1,
           1,
           -1,
           -1,
           -1,
           1,
           1,
           1,
           -1,
           1,
           1,
           1,
           1,
           1,
           1,
           1,
           1,
           1,
           1,
           1,
           -1,
           1,
           1,
           1,
           -1
          ],
          "colorscale": [
           [
            0,
            "rgb(128,0,38)"
           ],
           [
            0.125,
            "rgb(189,0,38)"
           ],
           [
            0.25,
            "rgb(227,26,28)"
           ],
           [
            0.375,
            "rgb(252,78,42)"
           ],
           [
            0.5,
            "rgb(253,141,60)"
           ],
           [
            0.625,
            "rgb(254,178,76)"
           ],
           [
            0.75,
            "rgb(254,217,118)"
           ],
           [
            0.875,
            "rgb(255,237,160)"
           ],
           [
            1,
            "rgb(255,255,204)"
           ]
          ],
          "line": {
           "color": "black",
           "width": 0.5
          },
          "showscale": false,
          "size": 10
         },
         "mode": "markers",
         "name": "Normal [1]",
         "opacity": 0.85,
         "showlegend": true,
         "type": "scatter",
         "x": [
          4.89582633972168,
          4.925055503845215,
          5.382785797119141,
          5.2796311378479,
          5.233705997467041,
          5.8559722900390625,
          6.414022445678711,
          4.596370697021484,
          3.3652825355529785,
          4.33696985244751,
          4.335381031036377,
          5.749759674072266,
          3.7382898330688477,
          5.524647235870361,
          4.731801986694336,
          6.226406097412109,
          5.48516321182251,
          5.314761161804199,
          6.34091329574585,
          4.303330898284912,
          3.231693983078003,
          3.171689510345459,
          3.402247190475464,
          4.482395648956299,
          4.226431846618652,
          4.905412673950195,
          5.431427955627441,
          4.158760070800781,
          3.7356793880462646,
          4.626877307891846,
          6.335179328918457,
          5.894894599914551,
          4.721096992492676,
          4.294436454772949,
          3.929422378540039,
          5.462935447692871,
          5.893077373504639,
          5.505309104919434,
          5.346185684204102,
          4.987010955810547,
          4.217734336853027,
          5.93155574798584,
          5.499401092529297,
          4.822365760803223,
          4.582394123077393,
          4.332313537597656,
          3.4163527488708496,
          3.3412106037139893,
          3.3298802375793457,
          3.2583158016204834,
          4.48413610458374,
          5.339450836181641,
          3.574629783630371,
          6.024999141693115,
          6.150183200836182,
          6.376888275146484,
          4.128325939178467,
          4.945769786834717,
          5.280302047729492,
          3.599241256713867,
          4.221518516540527,
          5.0485100746154785,
          3.8322501182556152,
          4.121886253356934,
          5.269802093505859,
          3.5025298595428467,
          4.713684558868408,
          5.398005485534668,
          3.942941665649414,
          5.310530185699463,
          3.860015630722046,
          4.712900161743164,
          5.9052228927612305,
          5.840310096740723,
          4.808447360992432,
          5.511852741241455
         ],
         "xaxis": "x5",
         "y": [
          2.023527145385742,
          2.0365164279937744,
          2.303036689758301,
          2.1672375202178955,
          -0.7792079448699951,
          1.691635251045227,
          -0.1912820190191269,
          -2.674509048461914,
          -1.4155408143997192,
          -1.6259077787399292,
          0.7699860334396362,
          -2.7364909648895264,
          -0.05213024839758873,
          1.9172580242156982,
          -1.4791185855865479,
          -0.9429116249084473,
          1.2263652086257935,
          -0.1698216050863266,
          -0.40083178877830505,
          -0.865085244178772,
          -2.146231174468994,
          -2.312105178833008,
          -2.475306272506714,
          0.14539915323257446,
          -1.2155532836914062,
          -3.554375648498535,
          -1.9417301416397095,
          -0.5057929158210754,
          0.9386475086212158,
          -3.321821928024292,
          0.2822648882865906,
          -0.05418302118778229,
          -3.112480878829956,
          0.3458607792854309,
          -0.6473960876464844,
          -3.4351065158843994,
          2.1884429454803467,
          -0.6992430686950684,
          -3.0858309268951416,
          -2.795825481414795,
          0.9558190107345581,
          -2.5825624465942383,
          -1.4945933818817139,
          0.8926997780799866,
          -0.5272945165634155,
          -2.9189980030059814,
          -1.9340795278549194,
          -0.11232905834913254,
          -0.05096665024757385,
          0.004746182356029749,
          -2.1066110134124756,
          -2.5378150939941406,
          -0.5241153836250305,
          0.3667747676372528,
          0.48347532749176025,
          0.6336869597434998,
          -0.014454248361289501,
          -0.010353129357099533,
          -3.403381586074829,
          -1.260352611541748,
          -2.651893138885498,
          -2.2811474800109863,
          -2.0235400199890137,
          -2.346733808517456,
          -3.215761661529541,
          0.6001147627830505,
          1.4615269899368286,
          -2.6400814056396484,
          0.5379533171653748,
          1.7136507034301758,
          0.2883361279964447,
          -3.442948341369629,
          1.9945436716079712,
          2.132697582244873,
          0.4448567032814026,
          1.526161789894104
         ],
         "yaxis": "y5"
        },
        {
         "hovertext": [
          "LQ-01-61-01_pos.mzXML",
          "LQ-01-61-02_pos.mzXML",
          "LQ-01-61-03_pos.mzXML",
          "LQ-01-61-04_pos.mzXML",
          "LQ-01-61-05_pos.mzXML",
          "LQ-01-61-06_pos.mzXML",
          "LQ-01-61-07_pos.mzXML",
          "LQ-01-61-08_pos.mzXML",
          "LQ-01-61-09_pos.mzXML",
          "LQ-01-61-10_pos.mzXML",
          "LQ-01-61-11_pos.mzXML",
          "LQ-01-61-12_pos.mzXML",
          "LQ-01-61-13_pos.mzXML",
          "LQ-01-61-14_pos.mzXML",
          "LQ-01-61-15_pos.mzXML",
          "LQ-01-61-16_pos.mzXML",
          "LQ-01-61-17_pos.mzXML",
          "LQ-01-61-18_pos.mzXML",
          "LQ-01-61-19_pos.mzXML",
          "LQ-01-61-20_pos.mzXML",
          "LQ-01-61-21_pos.mzXML",
          "LQ-01-61-22_pos.mzXML",
          "LQ-01-61-23_pos.mzXML",
          "LQ-01-61-24_pos.mzXML",
          "LQ-01-61-25_pos.mzXML",
          "LQ-01-61-26_pos.mzXML",
          "LQ-01-61-27_pos.mzXML",
          "LQ-01-61-28_pos.mzXML",
          "LQ-01-61-29_pos.mzXML",
          "LQ-01-61-30_pos.mzXML",
          "LQ-01-61-31_pos.mzXML",
          "LQ-01-61-32_pos.mzXML",
          "LQ-01-61-33_pos.mzXML",
          "LQ-01-61-34_pos.mzXML",
          "LQ-01-61-35_pos.mzXML",
          "LQ-01-61-36_pos.mzXML",
          "LQ-01-61-37_pos.mzXML",
          "LQ-01-61-38_pos.mzXML",
          "LQ-01-61-39_pos.mzXML",
          "LQ-01-61-40_pos.mzXML",
          "LQ-01-61-41_pos.mzXML",
          "LQ-01-61-42_pos.mzXML",
          "LQ-01-61-43_pos.mzXML",
          "LQ-01-61-44_pos.mzXML",
          "LQ-01-61-45_pos.mzXML",
          "LQ-01-61-46_pos.mzXML",
          "LQ-01-61-47_pos.mzXML",
          "LQ-01-61-48_pos.mzXML",
          "LQ-01-61-49_pos.mzXML",
          "LQ-01-61-50_pos.mzXML",
          "LQ-01-61-51_pos.mzXML",
          "LQ-01-61-52_pos.mzXML",
          "LQ-01-61-53_pos.mzXML",
          "LQ-01-61-54_pos.mzXML",
          "LQ-01-61-55_pos.mzXML",
          "LQ-01-61-56_pos.mzXML",
          "LQ-01-61-57_pos.mzXML",
          "LQ-01-61-58_pos.mzXML",
          "LQ-01-61-59_pos.mzXML",
          "LQ-01-61-60_pos.mzXML",
          "LQ-01-61-61_pos.mzXML",
          "LQ-01-61-62_pos.mzXML",
          "LQ-01-61-63_pos.mzXML",
          "LQ-01-61-64_pos.mzXML",
          "LQ-01-61-65_pos.mzXML",
          "LQ-01-61-66_pos.mzXML",
          "LQ-01-61-67_pos.mzXML",
          "LQ-01-61-68_pos.mzXML",
          "LQ-01-61-69_pos.mzXML",
          "LQ-01-61-70_pos.mzXML",
          "LQ-01-61-71_pos.mzXML",
          "LQ-01-61-72_pos.mzXML",
          "LQ-01-61-73_pos.mzXML",
          "LQ-01-61-74_pos.mzXML",
          "LQ-01-61-75_pos.mzXML",
          "LQ-01-61-78_pos.mzXML"
         ],
         "legendgrouptitle": {
          "text": "Anomaly"
         },
         "marker": {
          "color": [
           1,
           1,
           1,
           1,
           1,
           1,
           -1,
           1,
           1,
           1,
           1,
           1,
           1,
           1,
           1,
           1,
           1,
           1,
           1,
           1,
           1,
           1,
           1,
           1,
           1,
           1,
           1,
           1,
           1,
           1,
           1,
           1,
           1,
           1,
           1,
           1,
           1,
           1,
           1,
           1,
           1,
           1,
           1,
           1,
           1,
           1,
           1,
           1,
           1,
           1,
           1,
           1,
           1,
           1,
           -1,
           1,
           1,
           1,
           1,
           -1,
           1,
           1,
           1,
           1,
           1,
           1,
           1,
           1,
           1,
           1,
           1,
           1,
           1,
           1,
           1,
           -1
          ],
          "colorscale": [
           [
            0,
            "rgb(128,0,38)"
           ],
           [
            0.125,
            "rgb(189,0,38)"
           ],
           [
            0.25,
            "rgb(227,26,28)"
           ],
           [
            0.375,
            "rgb(252,78,42)"
           ],
           [
            0.5,
            "rgb(253,141,60)"
           ],
           [
            0.625,
            "rgb(254,178,76)"
           ],
           [
            0.75,
            "rgb(254,217,118)"
           ],
           [
            0.875,
            "rgb(255,237,160)"
           ],
           [
            1,
            "rgb(255,255,204)"
           ]
          ],
          "line": {
           "color": "black",
           "width": 0.5
          },
          "showscale": false,
          "size": 10
         },
         "mode": "markers",
         "opacity": 0.85,
         "showlegend": false,
         "type": "scatter",
         "x": [
          4.89582633972168,
          4.925055503845215,
          5.382785797119141,
          5.2796311378479,
          5.233705997467041,
          5.8559722900390625,
          6.414022445678711,
          4.596370697021484,
          3.3652825355529785,
          4.33696985244751,
          4.335381031036377,
          5.749759674072266,
          3.7382898330688477,
          5.524647235870361,
          4.731801986694336,
          6.226406097412109,
          5.48516321182251,
          5.314761161804199,
          6.34091329574585,
          4.303330898284912,
          3.231693983078003,
          3.171689510345459,
          3.402247190475464,
          4.482395648956299,
          4.226431846618652,
          4.905412673950195,
          5.431427955627441,
          4.158760070800781,
          3.7356793880462646,
          4.626877307891846,
          6.335179328918457,
          5.894894599914551,
          4.721096992492676,
          4.294436454772949,
          3.929422378540039,
          5.462935447692871,
          5.893077373504639,
          5.505309104919434,
          5.346185684204102,
          4.987010955810547,
          4.217734336853027,
          5.93155574798584,
          5.499401092529297,
          4.822365760803223,
          4.582394123077393,
          4.332313537597656,
          3.4163527488708496,
          3.3412106037139893,
          3.3298802375793457,
          3.2583158016204834,
          4.48413610458374,
          5.339450836181641,
          3.574629783630371,
          6.024999141693115,
          6.150183200836182,
          6.376888275146484,
          4.128325939178467,
          4.945769786834717,
          5.280302047729492,
          3.599241256713867,
          4.221518516540527,
          5.0485100746154785,
          3.8322501182556152,
          4.121886253356934,
          5.269802093505859,
          3.5025298595428467,
          4.713684558868408,
          5.398005485534668,
          3.942941665649414,
          5.310530185699463,
          3.860015630722046,
          4.712900161743164,
          5.9052228927612305,
          5.840310096740723,
          4.808447360992432,
          5.511852741241455
         ],
         "xaxis": "x6",
         "y": [
          2.023527145385742,
          2.0365164279937744,
          2.303036689758301,
          2.1672375202178955,
          -0.7792079448699951,
          1.691635251045227,
          -0.1912820190191269,
          -2.674509048461914,
          -1.4155408143997192,
          -1.6259077787399292,
          0.7699860334396362,
          -2.7364909648895264,
          -0.05213024839758873,
          1.9172580242156982,
          -1.4791185855865479,
          -0.9429116249084473,
          1.2263652086257935,
          -0.1698216050863266,
          -0.40083178877830505,
          -0.865085244178772,
          -2.146231174468994,
          -2.312105178833008,
          -2.475306272506714,
          0.14539915323257446,
          -1.2155532836914062,
          -3.554375648498535,
          -1.9417301416397095,
          -0.5057929158210754,
          0.9386475086212158,
          -3.321821928024292,
          0.2822648882865906,
          -0.05418302118778229,
          -3.112480878829956,
          0.3458607792854309,
          -0.6473960876464844,
          -3.4351065158843994,
          2.1884429454803467,
          -0.6992430686950684,
          -3.0858309268951416,
          -2.795825481414795,
          0.9558190107345581,
          -2.5825624465942383,
          -1.4945933818817139,
          0.8926997780799866,
          -0.5272945165634155,
          -2.9189980030059814,
          -1.9340795278549194,
          -0.11232905834913254,
          -0.05096665024757385,
          0.004746182356029749,
          -2.1066110134124756,
          -2.5378150939941406,
          -0.5241153836250305,
          0.3667747676372528,
          0.48347532749176025,
          0.6336869597434998,
          -0.014454248361289501,
          -0.010353129357099533,
          -3.403381586074829,
          -1.260352611541748,
          -2.651893138885498,
          -2.2811474800109863,
          -2.0235400199890137,
          -2.346733808517456,
          -3.215761661529541,
          0.6001147627830505,
          1.4615269899368286,
          -2.6400814056396484,
          0.5379533171653748,
          1.7136507034301758,
          0.2883361279964447,
          -3.442948341369629,
          1.9945436716079712,
          2.132697582244873,
          0.4448567032814026,
          1.526161789894104
         ],
         "yaxis": "y6"
        }
       ],
       "layout": {
        "annotations": [
         {
          "font": {
           "size": 20
          },
          "showarrow": false,
          "text": "PCoA MEMO aligned (IF)",
          "x": 0.14444444444444446,
          "xanchor": "center",
          "xref": "paper",
          "y": 1,
          "yanchor": "bottom",
          "yref": "paper"
         },
         {
          "font": {
           "size": 20
          },
          "showarrow": false,
          "text": "PCoA MEMO aligned (LOF)",
          "x": 0.5,
          "xanchor": "center",
          "xref": "paper",
          "y": 1,
          "yanchor": "bottom",
          "yref": "paper"
         },
         {
          "font": {
           "size": 20
          },
          "showarrow": false,
          "text": "PCoA MEMO aligned (OCSVM)",
          "x": 0.8555555555555556,
          "xanchor": "center",
          "xref": "paper",
          "y": 1,
          "yanchor": "bottom",
          "yref": "paper"
         },
         {
          "font": {
           "size": 20
          },
          "showarrow": false,
          "text": "UMAP MEMO aligned (IF)",
          "x": 0.14444444444444446,
          "xanchor": "center",
          "xref": "paper",
          "y": 0.44,
          "yanchor": "bottom",
          "yref": "paper"
         },
         {
          "font": {
           "size": 20
          },
          "showarrow": false,
          "text": "UMAP MEMO aligned (LOF)",
          "x": 0.5,
          "xanchor": "center",
          "xref": "paper",
          "y": 0.44,
          "yanchor": "bottom",
          "yref": "paper"
         },
         {
          "font": {
           "size": 20
          },
          "showarrow": false,
          "text": "UMAP MEMO aligned (OCSVM)",
          "x": 0.8555555555555556,
          "xanchor": "center",
          "xref": "paper",
          "y": 0.44,
          "yanchor": "bottom",
          "yref": "paper"
         }
        ],
        "font": {
         "color": "black",
         "family": "Times New Roman",
         "size": 16
        },
        "height": 1200,
        "legend": {
         "bordercolor": "Black",
         "borderwidth": 1,
         "orientation": "h",
         "x": -0.05,
         "y": -0.05
        },
        "template": {
         "data": {
          "bar": [
           {
            "error_x": {
             "color": "rgb(36,36,36)"
            },
            "error_y": {
             "color": "rgb(36,36,36)"
            },
            "marker": {
             "line": {
              "color": "white",
              "width": 0.5
             },
             "pattern": {
              "fillmode": "overlay",
              "size": 10,
              "solidity": 0.2
             }
            },
            "type": "bar"
           }
          ],
          "barpolar": [
           {
            "marker": {
             "line": {
              "color": "white",
              "width": 0.5
             },
             "pattern": {
              "fillmode": "overlay",
              "size": 10,
              "solidity": 0.2
             }
            },
            "type": "barpolar"
           }
          ],
          "carpet": [
           {
            "aaxis": {
             "endlinecolor": "rgb(36,36,36)",
             "gridcolor": "white",
             "linecolor": "white",
             "minorgridcolor": "white",
             "startlinecolor": "rgb(36,36,36)"
            },
            "baxis": {
             "endlinecolor": "rgb(36,36,36)",
             "gridcolor": "white",
             "linecolor": "white",
             "minorgridcolor": "white",
             "startlinecolor": "rgb(36,36,36)"
            },
            "type": "carpet"
           }
          ],
          "choropleth": [
           {
            "colorbar": {
             "outlinewidth": 1,
             "tickcolor": "rgb(36,36,36)",
             "ticks": "outside"
            },
            "type": "choropleth"
           }
          ],
          "contour": [
           {
            "colorbar": {
             "outlinewidth": 1,
             "tickcolor": "rgb(36,36,36)",
             "ticks": "outside"
            },
            "colorscale": [
             [
              0,
              "#440154"
             ],
             [
              0.1111111111111111,
              "#482878"
             ],
             [
              0.2222222222222222,
              "#3e4989"
             ],
             [
              0.3333333333333333,
              "#31688e"
             ],
             [
              0.4444444444444444,
              "#26828e"
             ],
             [
              0.5555555555555556,
              "#1f9e89"
             ],
             [
              0.6666666666666666,
              "#35b779"
             ],
             [
              0.7777777777777778,
              "#6ece58"
             ],
             [
              0.8888888888888888,
              "#b5de2b"
             ],
             [
              1,
              "#fde725"
             ]
            ],
            "type": "contour"
           }
          ],
          "contourcarpet": [
           {
            "colorbar": {
             "outlinewidth": 1,
             "tickcolor": "rgb(36,36,36)",
             "ticks": "outside"
            },
            "type": "contourcarpet"
           }
          ],
          "heatmap": [
           {
            "colorbar": {
             "outlinewidth": 1,
             "tickcolor": "rgb(36,36,36)",
             "ticks": "outside"
            },
            "colorscale": [
             [
              0,
              "#440154"
             ],
             [
              0.1111111111111111,
              "#482878"
             ],
             [
              0.2222222222222222,
              "#3e4989"
             ],
             [
              0.3333333333333333,
              "#31688e"
             ],
             [
              0.4444444444444444,
              "#26828e"
             ],
             [
              0.5555555555555556,
              "#1f9e89"
             ],
             [
              0.6666666666666666,
              "#35b779"
             ],
             [
              0.7777777777777778,
              "#6ece58"
             ],
             [
              0.8888888888888888,
              "#b5de2b"
             ],
             [
              1,
              "#fde725"
             ]
            ],
            "type": "heatmap"
           }
          ],
          "heatmapgl": [
           {
            "colorbar": {
             "outlinewidth": 1,
             "tickcolor": "rgb(36,36,36)",
             "ticks": "outside"
            },
            "colorscale": [
             [
              0,
              "#440154"
             ],
             [
              0.1111111111111111,
              "#482878"
             ],
             [
              0.2222222222222222,
              "#3e4989"
             ],
             [
              0.3333333333333333,
              "#31688e"
             ],
             [
              0.4444444444444444,
              "#26828e"
             ],
             [
              0.5555555555555556,
              "#1f9e89"
             ],
             [
              0.6666666666666666,
              "#35b779"
             ],
             [
              0.7777777777777778,
              "#6ece58"
             ],
             [
              0.8888888888888888,
              "#b5de2b"
             ],
             [
              1,
              "#fde725"
             ]
            ],
            "type": "heatmapgl"
           }
          ],
          "histogram": [
           {
            "marker": {
             "line": {
              "color": "white",
              "width": 0.6
             }
            },
            "type": "histogram"
           }
          ],
          "histogram2d": [
           {
            "colorbar": {
             "outlinewidth": 1,
             "tickcolor": "rgb(36,36,36)",
             "ticks": "outside"
            },
            "colorscale": [
             [
              0,
              "#440154"
             ],
             [
              0.1111111111111111,
              "#482878"
             ],
             [
              0.2222222222222222,
              "#3e4989"
             ],
             [
              0.3333333333333333,
              "#31688e"
             ],
             [
              0.4444444444444444,
              "#26828e"
             ],
             [
              0.5555555555555556,
              "#1f9e89"
             ],
             [
              0.6666666666666666,
              "#35b779"
             ],
             [
              0.7777777777777778,
              "#6ece58"
             ],
             [
              0.8888888888888888,
              "#b5de2b"
             ],
             [
              1,
              "#fde725"
             ]
            ],
            "type": "histogram2d"
           }
          ],
          "histogram2dcontour": [
           {
            "colorbar": {
             "outlinewidth": 1,
             "tickcolor": "rgb(36,36,36)",
             "ticks": "outside"
            },
            "colorscale": [
             [
              0,
              "#440154"
             ],
             [
              0.1111111111111111,
              "#482878"
             ],
             [
              0.2222222222222222,
              "#3e4989"
             ],
             [
              0.3333333333333333,
              "#31688e"
             ],
             [
              0.4444444444444444,
              "#26828e"
             ],
             [
              0.5555555555555556,
              "#1f9e89"
             ],
             [
              0.6666666666666666,
              "#35b779"
             ],
             [
              0.7777777777777778,
              "#6ece58"
             ],
             [
              0.8888888888888888,
              "#b5de2b"
             ],
             [
              1,
              "#fde725"
             ]
            ],
            "type": "histogram2dcontour"
           }
          ],
          "mesh3d": [
           {
            "colorbar": {
             "outlinewidth": 1,
             "tickcolor": "rgb(36,36,36)",
             "ticks": "outside"
            },
            "type": "mesh3d"
           }
          ],
          "parcoords": [
           {
            "line": {
             "colorbar": {
              "outlinewidth": 1,
              "tickcolor": "rgb(36,36,36)",
              "ticks": "outside"
             }
            },
            "type": "parcoords"
           }
          ],
          "pie": [
           {
            "automargin": true,
            "type": "pie"
           }
          ],
          "scatter": [
           {
            "fillpattern": {
             "fillmode": "overlay",
             "size": 10,
             "solidity": 0.2
            },
            "type": "scatter"
           }
          ],
          "scatter3d": [
           {
            "line": {
             "colorbar": {
              "outlinewidth": 1,
              "tickcolor": "rgb(36,36,36)",
              "ticks": "outside"
             }
            },
            "marker": {
             "colorbar": {
              "outlinewidth": 1,
              "tickcolor": "rgb(36,36,36)",
              "ticks": "outside"
             }
            },
            "type": "scatter3d"
           }
          ],
          "scattercarpet": [
           {
            "marker": {
             "colorbar": {
              "outlinewidth": 1,
              "tickcolor": "rgb(36,36,36)",
              "ticks": "outside"
             }
            },
            "type": "scattercarpet"
           }
          ],
          "scattergeo": [
           {
            "marker": {
             "colorbar": {
              "outlinewidth": 1,
              "tickcolor": "rgb(36,36,36)",
              "ticks": "outside"
             }
            },
            "type": "scattergeo"
           }
          ],
          "scattergl": [
           {
            "marker": {
             "colorbar": {
              "outlinewidth": 1,
              "tickcolor": "rgb(36,36,36)",
              "ticks": "outside"
             }
            },
            "type": "scattergl"
           }
          ],
          "scattermapbox": [
           {
            "marker": {
             "colorbar": {
              "outlinewidth": 1,
              "tickcolor": "rgb(36,36,36)",
              "ticks": "outside"
             }
            },
            "type": "scattermapbox"
           }
          ],
          "scatterpolar": [
           {
            "marker": {
             "colorbar": {
              "outlinewidth": 1,
              "tickcolor": "rgb(36,36,36)",
              "ticks": "outside"
             }
            },
            "type": "scatterpolar"
           }
          ],
          "scatterpolargl": [
           {
            "marker": {
             "colorbar": {
              "outlinewidth": 1,
              "tickcolor": "rgb(36,36,36)",
              "ticks": "outside"
             }
            },
            "type": "scatterpolargl"
           }
          ],
          "scatterternary": [
           {
            "marker": {
             "colorbar": {
              "outlinewidth": 1,
              "tickcolor": "rgb(36,36,36)",
              "ticks": "outside"
             }
            },
            "type": "scatterternary"
           }
          ],
          "surface": [
           {
            "colorbar": {
             "outlinewidth": 1,
             "tickcolor": "rgb(36,36,36)",
             "ticks": "outside"
            },
            "colorscale": [
             [
              0,
              "#440154"
             ],
             [
              0.1111111111111111,
              "#482878"
             ],
             [
              0.2222222222222222,
              "#3e4989"
             ],
             [
              0.3333333333333333,
              "#31688e"
             ],
             [
              0.4444444444444444,
              "#26828e"
             ],
             [
              0.5555555555555556,
              "#1f9e89"
             ],
             [
              0.6666666666666666,
              "#35b779"
             ],
             [
              0.7777777777777778,
              "#6ece58"
             ],
             [
              0.8888888888888888,
              "#b5de2b"
             ],
             [
              1,
              "#fde725"
             ]
            ],
            "type": "surface"
           }
          ],
          "table": [
           {
            "cells": {
             "fill": {
              "color": "rgb(237,237,237)"
             },
             "line": {
              "color": "white"
             }
            },
            "header": {
             "fill": {
              "color": "rgb(217,217,217)"
             },
             "line": {
              "color": "white"
             }
            },
            "type": "table"
           }
          ]
         },
         "layout": {
          "annotationdefaults": {
           "arrowhead": 0,
           "arrowwidth": 1
          },
          "autotypenumbers": "strict",
          "coloraxis": {
           "colorbar": {
            "outlinewidth": 1,
            "tickcolor": "rgb(36,36,36)",
            "ticks": "outside"
           }
          },
          "colorscale": {
           "diverging": [
            [
             0,
             "rgb(103,0,31)"
            ],
            [
             0.1,
             "rgb(178,24,43)"
            ],
            [
             0.2,
             "rgb(214,96,77)"
            ],
            [
             0.3,
             "rgb(244,165,130)"
            ],
            [
             0.4,
             "rgb(253,219,199)"
            ],
            [
             0.5,
             "rgb(247,247,247)"
            ],
            [
             0.6,
             "rgb(209,229,240)"
            ],
            [
             0.7,
             "rgb(146,197,222)"
            ],
            [
             0.8,
             "rgb(67,147,195)"
            ],
            [
             0.9,
             "rgb(33,102,172)"
            ],
            [
             1,
             "rgb(5,48,97)"
            ]
           ],
           "sequential": [
            [
             0,
             "#440154"
            ],
            [
             0.1111111111111111,
             "#482878"
            ],
            [
             0.2222222222222222,
             "#3e4989"
            ],
            [
             0.3333333333333333,
             "#31688e"
            ],
            [
             0.4444444444444444,
             "#26828e"
            ],
            [
             0.5555555555555556,
             "#1f9e89"
            ],
            [
             0.6666666666666666,
             "#35b779"
            ],
            [
             0.7777777777777778,
             "#6ece58"
            ],
            [
             0.8888888888888888,
             "#b5de2b"
            ],
            [
             1,
             "#fde725"
            ]
           ],
           "sequentialminus": [
            [
             0,
             "#440154"
            ],
            [
             0.1111111111111111,
             "#482878"
            ],
            [
             0.2222222222222222,
             "#3e4989"
            ],
            [
             0.3333333333333333,
             "#31688e"
            ],
            [
             0.4444444444444444,
             "#26828e"
            ],
            [
             0.5555555555555556,
             "#1f9e89"
            ],
            [
             0.6666666666666666,
             "#35b779"
            ],
            [
             0.7777777777777778,
             "#6ece58"
            ],
            [
             0.8888888888888888,
             "#b5de2b"
            ],
            [
             1,
             "#fde725"
            ]
           ]
          },
          "colorway": [
           "#1F77B4",
           "#FF7F0E",
           "#2CA02C",
           "#D62728",
           "#9467BD",
           "#8C564B",
           "#E377C2",
           "#7F7F7F",
           "#BCBD22",
           "#17BECF"
          ],
          "font": {
           "color": "rgb(36,36,36)"
          },
          "geo": {
           "bgcolor": "white",
           "lakecolor": "white",
           "landcolor": "white",
           "showlakes": true,
           "showland": true,
           "subunitcolor": "white"
          },
          "hoverlabel": {
           "align": "left"
          },
          "hovermode": "closest",
          "mapbox": {
           "style": "light"
          },
          "paper_bgcolor": "white",
          "plot_bgcolor": "white",
          "polar": {
           "angularaxis": {
            "gridcolor": "rgb(232,232,232)",
            "linecolor": "rgb(36,36,36)",
            "showgrid": false,
            "showline": true,
            "ticks": "outside"
           },
           "bgcolor": "white",
           "radialaxis": {
            "gridcolor": "rgb(232,232,232)",
            "linecolor": "rgb(36,36,36)",
            "showgrid": false,
            "showline": true,
            "ticks": "outside"
           }
          },
          "scene": {
           "xaxis": {
            "backgroundcolor": "white",
            "gridcolor": "rgb(232,232,232)",
            "gridwidth": 2,
            "linecolor": "rgb(36,36,36)",
            "showbackground": true,
            "showgrid": false,
            "showline": true,
            "ticks": "outside",
            "zeroline": false,
            "zerolinecolor": "rgb(36,36,36)"
           },
           "yaxis": {
            "backgroundcolor": "white",
            "gridcolor": "rgb(232,232,232)",
            "gridwidth": 2,
            "linecolor": "rgb(36,36,36)",
            "showbackground": true,
            "showgrid": false,
            "showline": true,
            "ticks": "outside",
            "zeroline": false,
            "zerolinecolor": "rgb(36,36,36)"
           },
           "zaxis": {
            "backgroundcolor": "white",
            "gridcolor": "rgb(232,232,232)",
            "gridwidth": 2,
            "linecolor": "rgb(36,36,36)",
            "showbackground": true,
            "showgrid": false,
            "showline": true,
            "ticks": "outside",
            "zeroline": false,
            "zerolinecolor": "rgb(36,36,36)"
           }
          },
          "shapedefaults": {
           "fillcolor": "black",
           "line": {
            "width": 0
           },
           "opacity": 0.3
          },
          "ternary": {
           "aaxis": {
            "gridcolor": "rgb(232,232,232)",
            "linecolor": "rgb(36,36,36)",
            "showgrid": false,
            "showline": true,
            "ticks": "outside"
           },
           "baxis": {
            "gridcolor": "rgb(232,232,232)",
            "linecolor": "rgb(36,36,36)",
            "showgrid": false,
            "showline": true,
            "ticks": "outside"
           },
           "bgcolor": "white",
           "caxis": {
            "gridcolor": "rgb(232,232,232)",
            "linecolor": "rgb(36,36,36)",
            "showgrid": false,
            "showline": true,
            "ticks": "outside"
           }
          },
          "title": {
           "x": 0.05
          },
          "xaxis": {
           "automargin": true,
           "gridcolor": "rgb(232,232,232)",
           "linecolor": "rgb(36,36,36)",
           "showgrid": false,
           "showline": true,
           "ticks": "outside",
           "title": {
            "standoff": 15
           },
           "zeroline": false,
           "zerolinecolor": "rgb(36,36,36)"
          },
          "yaxis": {
           "automargin": true,
           "gridcolor": "rgb(232,232,232)",
           "linecolor": "rgb(36,36,36)",
           "showgrid": false,
           "showline": true,
           "ticks": "outside",
           "title": {
            "standoff": 15
           },
           "zeroline": false,
           "zerolinecolor": "rgb(36,36,36)"
          }
         }
        },
        "title": {
         "text": "Multiple outlier detection results"
        },
        "width": 1500,
        "xaxis": {
         "anchor": "y",
         "domain": [
          0,
          0.2888888888888889
         ],
         "title": {
          "text": "PC1 (25.5 %)"
         }
        },
        "xaxis2": {
         "anchor": "y2",
         "domain": [
          0.35555555555555557,
          0.6444444444444445
         ],
         "title": {
          "text": "PC1 (25.5 %)"
         }
        },
        "xaxis3": {
         "anchor": "y3",
         "domain": [
          0.7111111111111111,
          1
         ],
         "title": {
          "text": "PC1 (25.5 %)"
         }
        },
        "xaxis4": {
         "anchor": "y4",
         "domain": [
          0,
          0.2888888888888889
         ]
        },
        "xaxis5": {
         "anchor": "y5",
         "domain": [
          0.35555555555555557,
          0.6444444444444445
         ]
        },
        "xaxis6": {
         "anchor": "y6",
         "domain": [
          0.7111111111111111,
          1
         ]
        },
        "yaxis": {
         "anchor": "x",
         "domain": [
          0.56,
          1
         ],
         "title": {
          "text": "PC2 (14.9 %)"
         }
        },
        "yaxis2": {
         "anchor": "x2",
         "domain": [
          0.56,
          1
         ],
         "title": {
          "text": "PC2 (14.9 %)"
         }
        },
        "yaxis3": {
         "anchor": "x3",
         "domain": [
          0.56,
          1
         ],
         "title": {
          "text": "PC2 (14.9 %)"
         }
        },
        "yaxis4": {
         "anchor": "x4",
         "domain": [
          0,
          0.44
         ]
        },
        "yaxis5": {
         "anchor": "x5",
         "domain": [
          0,
          0.44
         ]
        },
        "yaxis6": {
         "anchor": "x6",
         "domain": [
          0,
          0.44
         ]
        }
       }
      },
      "text/html": [
       "<div>                            <div id=\"27c26f78-df30-46ed-b194-394012f7d8f7\" class=\"plotly-graph-div\" style=\"height:1200px; width:1500px;\"></div>            <script type=\"text/javascript\">                require([\"plotly\"], function(Plotly) {                    window.PLOTLYENV=window.PLOTLYENV || {};                                    if (document.getElementById(\"27c26f78-df30-46ed-b194-394012f7d8f7\")) {                    Plotly.newPlot(                        \"27c26f78-df30-46ed-b194-394012f7d8f7\",                        [{\"hovertext\":[\"LQ-01-61-01_pos.mzXML\",\"LQ-01-61-02_pos.mzXML\",\"LQ-01-61-03_pos.mzXML\",\"LQ-01-61-04_pos.mzXML\",\"LQ-01-61-05_pos.mzXML\",\"LQ-01-61-06_pos.mzXML\",\"LQ-01-61-07_pos.mzXML\",\"LQ-01-61-08_pos.mzXML\",\"LQ-01-61-09_pos.mzXML\",\"LQ-01-61-10_pos.mzXML\",\"LQ-01-61-11_pos.mzXML\",\"LQ-01-61-12_pos.mzXML\",\"LQ-01-61-13_pos.mzXML\",\"LQ-01-61-14_pos.mzXML\",\"LQ-01-61-15_pos.mzXML\",\"LQ-01-61-16_pos.mzXML\",\"LQ-01-61-17_pos.mzXML\",\"LQ-01-61-18_pos.mzXML\",\"LQ-01-61-19_pos.mzXML\",\"LQ-01-61-20_pos.mzXML\",\"LQ-01-61-21_pos.mzXML\",\"LQ-01-61-22_pos.mzXML\",\"LQ-01-61-23_pos.mzXML\",\"LQ-01-61-24_pos.mzXML\",\"LQ-01-61-25_pos.mzXML\",\"LQ-01-61-26_pos.mzXML\",\"LQ-01-61-27_pos.mzXML\",\"LQ-01-61-28_pos.mzXML\",\"LQ-01-61-29_pos.mzXML\",\"LQ-01-61-30_pos.mzXML\",\"LQ-01-61-31_pos.mzXML\",\"LQ-01-61-32_pos.mzXML\",\"LQ-01-61-33_pos.mzXML\",\"LQ-01-61-34_pos.mzXML\",\"LQ-01-61-35_pos.mzXML\",\"LQ-01-61-36_pos.mzXML\",\"LQ-01-61-37_pos.mzXML\",\"LQ-01-61-38_pos.mzXML\",\"LQ-01-61-39_pos.mzXML\",\"LQ-01-61-40_pos.mzXML\",\"LQ-01-61-41_pos.mzXML\",\"LQ-01-61-42_pos.mzXML\",\"LQ-01-61-43_pos.mzXML\",\"LQ-01-61-44_pos.mzXML\",\"LQ-01-61-45_pos.mzXML\",\"LQ-01-61-46_pos.mzXML\",\"LQ-01-61-47_pos.mzXML\",\"LQ-01-61-48_pos.mzXML\",\"LQ-01-61-49_pos.mzXML\",\"LQ-01-61-50_pos.mzXML\",\"LQ-01-61-51_pos.mzXML\",\"LQ-01-61-52_pos.mzXML\",\"LQ-01-61-53_pos.mzXML\",\"LQ-01-61-54_pos.mzXML\",\"LQ-01-61-55_pos.mzXML\",\"LQ-01-61-56_pos.mzXML\",\"LQ-01-61-57_pos.mzXML\",\"LQ-01-61-58_pos.mzXML\",\"LQ-01-61-59_pos.mzXML\",\"LQ-01-61-60_pos.mzXML\",\"LQ-01-61-61_pos.mzXML\",\"LQ-01-61-62_pos.mzXML\",\"LQ-01-61-63_pos.mzXML\",\"LQ-01-61-64_pos.mzXML\",\"LQ-01-61-65_pos.mzXML\",\"LQ-01-61-66_pos.mzXML\",\"LQ-01-61-67_pos.mzXML\",\"LQ-01-61-68_pos.mzXML\",\"LQ-01-61-69_pos.mzXML\",\"LQ-01-61-70_pos.mzXML\",\"LQ-01-61-71_pos.mzXML\",\"LQ-01-61-72_pos.mzXML\",\"LQ-01-61-73_pos.mzXML\",\"LQ-01-61-74_pos.mzXML\",\"LQ-01-61-75_pos.mzXML\",\"LQ-01-61-78_pos.mzXML\"],\"marker\":{\"color\":[-1,-1,-1,-1,-1,-1,-1,1,1,1,1,1,1,-1,1,1,1,1,-1,1,1,1,1,1,1,1,1,1,1,1,-1,1,1,1,1,1,-1,1,1,1,1,1,1,1,1,1,1,1,1,1,1,1,1,1,1,1,1,1,1,1,1,1,1,1,1,1,1,1,1,1,1,1,1,-1,1,1],\"colorscale\":[[0.0,\"rgb(128,0,38)\"],[0.125,\"rgb(189,0,38)\"],[0.25,\"rgb(227,26,28)\"],[0.375,\"rgb(252,78,42)\"],[0.5,\"rgb(253,141,60)\"],[0.625,\"rgb(254,178,76)\"],[0.75,\"rgb(254,217,118)\"],[0.875,\"rgb(255,237,160)\"],[1.0,\"rgb(255,255,204)\"]],\"line\":{\"color\":\"black\",\"width\":0.5},\"showscale\":false,\"size\":10},\"mode\":\"markers\",\"opacity\":0.85,\"showlegend\":false,\"x\":[-0.08918355178765881,0.06846954955605372,0.13448734762071282,0.11819384542770653,0.05980371741364595,0.10816117510221489,0.19466715006192142,-0.2574422977329749,-0.21435646816718706,-0.005230987336226238,0.1025003836422325,-0.04967031001757647,-0.005016847991106795,0.0655985990337101,-0.016498516684313964,0.02378746867102317,0.028690892705476135,-0.02494540322024607,0.17115168955406693,0.07693796295723036,-0.06938575051881749,-0.10184810091363974,-0.18254464226144212,0.0665460242313343,0.08259182673020322,0.025247659123797426,-0.008293407520251966,-0.18754308841791315,-0.12227999014692441,-0.06946097766338846,0.21181622419470725,0.14096041207590582,0.01772383640751306,0.06481572076040076,0.12337128024904255,-0.020338701889247787,0.04035613439455281,0.016976274655669348,-0.012839907490866413,0.03839951163137532,0.060120313000070175,-0.06025558619580762,-0.12420843329346005,0.06874456328254948,0.09484597645323413,-0.010522265219323377,-0.09101072044252388,0.06243855455014496,0.08265815519853872,0.09473428434819545,-0.03866448431775625,-0.050358406844300846,0.03587226868580301,0.08773001484347914,0.17030072670234495,0.16664629026691483,-0.08331298324761237,0.13538035466547746,-0.0711518989654735,-0.21730189296850064,-0.07011255197958507,-0.17813588880808887,-0.013791344502579446,-0.046051467189010944,-0.18435454122384226,-0.13100261753558387,-0.09907201438510713,-0.17574606548785138,-0.10622282909548693,0.015015440729744279,-0.0973047216651212,-0.09938432429691393,0.12446326655808121,0.15649570604986646,0.12361816998472012,-0.0754747840959487],\"y\":[0.09175078320306763,0.08129934184719657,0.14078347628064763,0.1122856774316567,-0.05688954414766619,0.11915704076409847,-0.061212976130724656,0.04031238127971278,0.057749756607718375,-0.06862257674118176,-0.03297526219169025,-0.08340728517017217,-0.027966507517742125,0.22461022358402702,-0.0706555495276861,-0.050702553312651964,0.09868992446150912,0.01226851581954673,-0.08189635175239693,-0.07859795560502685,-0.016687157587654055,-0.00010188871275305673,0.01988933365286126,-0.014229764700351831,-0.10505109664885269,-0.13191425937220247,-0.08251241947712222,0.03735321803100679,0.07423159917680246,-0.035708595552943256,0.060491577316500275,-0.024525141435679305,-0.11714449598539502,-0.01909000558318614,-0.0928762759868856,-0.0869484135441756,0.14213788072179329,-0.020880711503672506,-0.13094078291397113,-0.10429750877457855,0.08952193079615232,-0.03335330636070255,0.018634852736587573,-0.006605753855655572,-0.059684999725601234,-0.11012940589955,-0.04838748021750641,-0.05063151761505767,-0.041819933601788636,-0.017392200397837374,-0.05901745002862603,-0.08583731145985395,-0.03778595474605778,0.07399083555729681,0.10827983916610476,0.1157425144541338,0.03813161347687125,-0.060355757670705355,-0.09247374346220019,0.08650687837938276,-0.03150216681715129,0.009543165883456235,-0.11553369359048775,-0.07546914614848368,-0.05495619530417859,0.052726710240374244,0.1461153180549394,-0.0044336496903248515,0.07719531423509964,0.16466511310855034,0.03464541556477931,-0.08350579351467484,0.09171484855687394,0.09157318272586314,-0.02301636029620255,0.17572863716439627],\"type\":\"scatter\",\"xaxis\":\"x\",\"yaxis\":\"y\"},{\"hovertext\":[\"LQ-01-61-01_pos.mzXML\",\"LQ-01-61-02_pos.mzXML\",\"LQ-01-61-03_pos.mzXML\",\"LQ-01-61-04_pos.mzXML\",\"LQ-01-61-05_pos.mzXML\",\"LQ-01-61-06_pos.mzXML\",\"LQ-01-61-07_pos.mzXML\",\"LQ-01-61-08_pos.mzXML\",\"LQ-01-61-09_pos.mzXML\",\"LQ-01-61-10_pos.mzXML\",\"LQ-01-61-11_pos.mzXML\",\"LQ-01-61-12_pos.mzXML\",\"LQ-01-61-13_pos.mzXML\",\"LQ-01-61-14_pos.mzXML\",\"LQ-01-61-15_pos.mzXML\",\"LQ-01-61-16_pos.mzXML\",\"LQ-01-61-17_pos.mzXML\",\"LQ-01-61-18_pos.mzXML\",\"LQ-01-61-19_pos.mzXML\",\"LQ-01-61-20_pos.mzXML\",\"LQ-01-61-21_pos.mzXML\",\"LQ-01-61-22_pos.mzXML\",\"LQ-01-61-23_pos.mzXML\",\"LQ-01-61-24_pos.mzXML\",\"LQ-01-61-25_pos.mzXML\",\"LQ-01-61-26_pos.mzXML\",\"LQ-01-61-27_pos.mzXML\",\"LQ-01-61-28_pos.mzXML\",\"LQ-01-61-29_pos.mzXML\",\"LQ-01-61-30_pos.mzXML\",\"LQ-01-61-31_pos.mzXML\",\"LQ-01-61-32_pos.mzXML\",\"LQ-01-61-33_pos.mzXML\",\"LQ-01-61-34_pos.mzXML\",\"LQ-01-61-35_pos.mzXML\",\"LQ-01-61-36_pos.mzXML\",\"LQ-01-61-37_pos.mzXML\",\"LQ-01-61-38_pos.mzXML\",\"LQ-01-61-39_pos.mzXML\",\"LQ-01-61-40_pos.mzXML\",\"LQ-01-61-41_pos.mzXML\",\"LQ-01-61-42_pos.mzXML\",\"LQ-01-61-43_pos.mzXML\",\"LQ-01-61-44_pos.mzXML\",\"LQ-01-61-45_pos.mzXML\",\"LQ-01-61-46_pos.mzXML\",\"LQ-01-61-47_pos.mzXML\",\"LQ-01-61-48_pos.mzXML\",\"LQ-01-61-49_pos.mzXML\",\"LQ-01-61-50_pos.mzXML\",\"LQ-01-61-51_pos.mzXML\",\"LQ-01-61-52_pos.mzXML\",\"LQ-01-61-53_pos.mzXML\",\"LQ-01-61-54_pos.mzXML\",\"LQ-01-61-55_pos.mzXML\",\"LQ-01-61-56_pos.mzXML\",\"LQ-01-61-57_pos.mzXML\",\"LQ-01-61-58_pos.mzXML\",\"LQ-01-61-59_pos.mzXML\",\"LQ-01-61-60_pos.mzXML\",\"LQ-01-61-61_pos.mzXML\",\"LQ-01-61-62_pos.mzXML\",\"LQ-01-61-63_pos.mzXML\",\"LQ-01-61-64_pos.mzXML\",\"LQ-01-61-65_pos.mzXML\",\"LQ-01-61-66_pos.mzXML\",\"LQ-01-61-67_pos.mzXML\",\"LQ-01-61-68_pos.mzXML\",\"LQ-01-61-69_pos.mzXML\",\"LQ-01-61-70_pos.mzXML\",\"LQ-01-61-71_pos.mzXML\",\"LQ-01-61-72_pos.mzXML\",\"LQ-01-61-73_pos.mzXML\",\"LQ-01-61-74_pos.mzXML\",\"LQ-01-61-75_pos.mzXML\",\"LQ-01-61-78_pos.mzXML\"],\"marker\":{\"color\":[1,1,1,1,1,1,-1,1,1,1,1,1,1,1,1,1,1,1,-1,1,1,-1,-1,1,1,1,1,1,1,1,1,1,1,1,1,1,1,1,1,1,-1,1,1,1,1,1,-1,1,1,1,1,1,1,-1,-1,-1,1,1,1,-1,1,1,1,1,1,1,1,1,1,1,1,-1,1,1,1,-1],\"colorscale\":[[0.0,\"rgb(128,0,38)\"],[0.125,\"rgb(189,0,38)\"],[0.25,\"rgb(227,26,28)\"],[0.375,\"rgb(252,78,42)\"],[0.5,\"rgb(253,141,60)\"],[0.625,\"rgb(254,178,76)\"],[0.75,\"rgb(254,217,118)\"],[0.875,\"rgb(255,237,160)\"],[1.0,\"rgb(255,255,204)\"]],\"line\":{\"color\":\"black\",\"width\":0.5},\"showscale\":false,\"size\":10},\"mode\":\"markers\",\"opacity\":0.85,\"showlegend\":false,\"x\":[-0.08918355178765881,0.06846954955605372,0.13448734762071282,0.11819384542770653,0.05980371741364595,0.10816117510221489,0.19466715006192142,-0.2574422977329749,-0.21435646816718706,-0.005230987336226238,0.1025003836422325,-0.04967031001757647,-0.005016847991106795,0.0655985990337101,-0.016498516684313964,0.02378746867102317,0.028690892705476135,-0.02494540322024607,0.17115168955406693,0.07693796295723036,-0.06938575051881749,-0.10184810091363974,-0.18254464226144212,0.0665460242313343,0.08259182673020322,0.025247659123797426,-0.008293407520251966,-0.18754308841791315,-0.12227999014692441,-0.06946097766338846,0.21181622419470725,0.14096041207590582,0.01772383640751306,0.06481572076040076,0.12337128024904255,-0.020338701889247787,0.04035613439455281,0.016976274655669348,-0.012839907490866413,0.03839951163137532,0.060120313000070175,-0.06025558619580762,-0.12420843329346005,0.06874456328254948,0.09484597645323413,-0.010522265219323377,-0.09101072044252388,0.06243855455014496,0.08265815519853872,0.09473428434819545,-0.03866448431775625,-0.050358406844300846,0.03587226868580301,0.08773001484347914,0.17030072670234495,0.16664629026691483,-0.08331298324761237,0.13538035466547746,-0.0711518989654735,-0.21730189296850064,-0.07011255197958507,-0.17813588880808887,-0.013791344502579446,-0.046051467189010944,-0.18435454122384226,-0.13100261753558387,-0.09907201438510713,-0.17574606548785138,-0.10622282909548693,0.015015440729744279,-0.0973047216651212,-0.09938432429691393,0.12446326655808121,0.15649570604986646,0.12361816998472012,-0.0754747840959487],\"y\":[0.09175078320306763,0.08129934184719657,0.14078347628064763,0.1122856774316567,-0.05688954414766619,0.11915704076409847,-0.061212976130724656,0.04031238127971278,0.057749756607718375,-0.06862257674118176,-0.03297526219169025,-0.08340728517017217,-0.027966507517742125,0.22461022358402702,-0.0706555495276861,-0.050702553312651964,0.09868992446150912,0.01226851581954673,-0.08189635175239693,-0.07859795560502685,-0.016687157587654055,-0.00010188871275305673,0.01988933365286126,-0.014229764700351831,-0.10505109664885269,-0.13191425937220247,-0.08251241947712222,0.03735321803100679,0.07423159917680246,-0.035708595552943256,0.060491577316500275,-0.024525141435679305,-0.11714449598539502,-0.01909000558318614,-0.0928762759868856,-0.0869484135441756,0.14213788072179329,-0.020880711503672506,-0.13094078291397113,-0.10429750877457855,0.08952193079615232,-0.03335330636070255,0.018634852736587573,-0.006605753855655572,-0.059684999725601234,-0.11012940589955,-0.04838748021750641,-0.05063151761505767,-0.041819933601788636,-0.017392200397837374,-0.05901745002862603,-0.08583731145985395,-0.03778595474605778,0.07399083555729681,0.10827983916610476,0.1157425144541338,0.03813161347687125,-0.060355757670705355,-0.09247374346220019,0.08650687837938276,-0.03150216681715129,0.009543165883456235,-0.11553369359048775,-0.07546914614848368,-0.05495619530417859,0.052726710240374244,0.1461153180549394,-0.0044336496903248515,0.07719531423509964,0.16466511310855034,0.03464541556477931,-0.08350579351467484,0.09171484855687394,0.09157318272586314,-0.02301636029620255,0.17572863716439627],\"type\":\"scatter\",\"xaxis\":\"x2\",\"yaxis\":\"y2\"},{\"hovertext\":[\"LQ-01-61-01_pos.mzXML\",\"LQ-01-61-02_pos.mzXML\",\"LQ-01-61-03_pos.mzXML\",\"LQ-01-61-04_pos.mzXML\",\"LQ-01-61-05_pos.mzXML\",\"LQ-01-61-06_pos.mzXML\",\"LQ-01-61-07_pos.mzXML\",\"LQ-01-61-08_pos.mzXML\",\"LQ-01-61-09_pos.mzXML\",\"LQ-01-61-10_pos.mzXML\",\"LQ-01-61-11_pos.mzXML\",\"LQ-01-61-12_pos.mzXML\",\"LQ-01-61-13_pos.mzXML\",\"LQ-01-61-14_pos.mzXML\",\"LQ-01-61-15_pos.mzXML\",\"LQ-01-61-16_pos.mzXML\",\"LQ-01-61-17_pos.mzXML\",\"LQ-01-61-18_pos.mzXML\",\"LQ-01-61-19_pos.mzXML\",\"LQ-01-61-20_pos.mzXML\",\"LQ-01-61-21_pos.mzXML\",\"LQ-01-61-22_pos.mzXML\",\"LQ-01-61-23_pos.mzXML\",\"LQ-01-61-24_pos.mzXML\",\"LQ-01-61-25_pos.mzXML\",\"LQ-01-61-26_pos.mzXML\",\"LQ-01-61-27_pos.mzXML\",\"LQ-01-61-28_pos.mzXML\",\"LQ-01-61-29_pos.mzXML\",\"LQ-01-61-30_pos.mzXML\",\"LQ-01-61-31_pos.mzXML\",\"LQ-01-61-32_pos.mzXML\",\"LQ-01-61-33_pos.mzXML\",\"LQ-01-61-34_pos.mzXML\",\"LQ-01-61-35_pos.mzXML\",\"LQ-01-61-36_pos.mzXML\",\"LQ-01-61-37_pos.mzXML\",\"LQ-01-61-38_pos.mzXML\",\"LQ-01-61-39_pos.mzXML\",\"LQ-01-61-40_pos.mzXML\",\"LQ-01-61-41_pos.mzXML\",\"LQ-01-61-42_pos.mzXML\",\"LQ-01-61-43_pos.mzXML\",\"LQ-01-61-44_pos.mzXML\",\"LQ-01-61-45_pos.mzXML\",\"LQ-01-61-46_pos.mzXML\",\"LQ-01-61-47_pos.mzXML\",\"LQ-01-61-48_pos.mzXML\",\"LQ-01-61-49_pos.mzXML\",\"LQ-01-61-50_pos.mzXML\",\"LQ-01-61-51_pos.mzXML\",\"LQ-01-61-52_pos.mzXML\",\"LQ-01-61-53_pos.mzXML\",\"LQ-01-61-54_pos.mzXML\",\"LQ-01-61-55_pos.mzXML\",\"LQ-01-61-56_pos.mzXML\",\"LQ-01-61-57_pos.mzXML\",\"LQ-01-61-58_pos.mzXML\",\"LQ-01-61-59_pos.mzXML\",\"LQ-01-61-60_pos.mzXML\",\"LQ-01-61-61_pos.mzXML\",\"LQ-01-61-62_pos.mzXML\",\"LQ-01-61-63_pos.mzXML\",\"LQ-01-61-64_pos.mzXML\",\"LQ-01-61-65_pos.mzXML\",\"LQ-01-61-66_pos.mzXML\",\"LQ-01-61-67_pos.mzXML\",\"LQ-01-61-68_pos.mzXML\",\"LQ-01-61-69_pos.mzXML\",\"LQ-01-61-70_pos.mzXML\",\"LQ-01-61-71_pos.mzXML\",\"LQ-01-61-72_pos.mzXML\",\"LQ-01-61-73_pos.mzXML\",\"LQ-01-61-74_pos.mzXML\",\"LQ-01-61-75_pos.mzXML\",\"LQ-01-61-78_pos.mzXML\"],\"marker\":{\"color\":[1,1,1,1,1,1,-1,1,1,1,1,1,1,1,1,1,1,1,1,1,1,1,1,1,1,1,1,1,1,1,1,1,1,1,1,1,1,1,1,1,1,1,1,1,1,1,1,1,1,1,1,1,1,1,-1,1,1,1,1,-1,1,1,1,1,1,1,1,1,1,1,1,1,1,1,1,-1],\"colorscale\":[[0.0,\"rgb(128,0,38)\"],[0.125,\"rgb(189,0,38)\"],[0.25,\"rgb(227,26,28)\"],[0.375,\"rgb(252,78,42)\"],[0.5,\"rgb(253,141,60)\"],[0.625,\"rgb(254,178,76)\"],[0.75,\"rgb(254,217,118)\"],[0.875,\"rgb(255,237,160)\"],[1.0,\"rgb(255,255,204)\"]],\"line\":{\"color\":\"black\",\"width\":0.5},\"showscale\":false,\"size\":10},\"mode\":\"markers\",\"opacity\":0.85,\"showlegend\":false,\"x\":[-0.08918355178765881,0.06846954955605372,0.13448734762071282,0.11819384542770653,0.05980371741364595,0.10816117510221489,0.19466715006192142,-0.2574422977329749,-0.21435646816718706,-0.005230987336226238,0.1025003836422325,-0.04967031001757647,-0.005016847991106795,0.0655985990337101,-0.016498516684313964,0.02378746867102317,0.028690892705476135,-0.02494540322024607,0.17115168955406693,0.07693796295723036,-0.06938575051881749,-0.10184810091363974,-0.18254464226144212,0.0665460242313343,0.08259182673020322,0.025247659123797426,-0.008293407520251966,-0.18754308841791315,-0.12227999014692441,-0.06946097766338846,0.21181622419470725,0.14096041207590582,0.01772383640751306,0.06481572076040076,0.12337128024904255,-0.020338701889247787,0.04035613439455281,0.016976274655669348,-0.012839907490866413,0.03839951163137532,0.060120313000070175,-0.06025558619580762,-0.12420843329346005,0.06874456328254948,0.09484597645323413,-0.010522265219323377,-0.09101072044252388,0.06243855455014496,0.08265815519853872,0.09473428434819545,-0.03866448431775625,-0.050358406844300846,0.03587226868580301,0.08773001484347914,0.17030072670234495,0.16664629026691483,-0.08331298324761237,0.13538035466547746,-0.0711518989654735,-0.21730189296850064,-0.07011255197958507,-0.17813588880808887,-0.013791344502579446,-0.046051467189010944,-0.18435454122384226,-0.13100261753558387,-0.09907201438510713,-0.17574606548785138,-0.10622282909548693,0.015015440729744279,-0.0973047216651212,-0.09938432429691393,0.12446326655808121,0.15649570604986646,0.12361816998472012,-0.0754747840959487],\"y\":[0.09175078320306763,0.08129934184719657,0.14078347628064763,0.1122856774316567,-0.05688954414766619,0.11915704076409847,-0.061212976130724656,0.04031238127971278,0.057749756607718375,-0.06862257674118176,-0.03297526219169025,-0.08340728517017217,-0.027966507517742125,0.22461022358402702,-0.0706555495276861,-0.050702553312651964,0.09868992446150912,0.01226851581954673,-0.08189635175239693,-0.07859795560502685,-0.016687157587654055,-0.00010188871275305673,0.01988933365286126,-0.014229764700351831,-0.10505109664885269,-0.13191425937220247,-0.08251241947712222,0.03735321803100679,0.07423159917680246,-0.035708595552943256,0.060491577316500275,-0.024525141435679305,-0.11714449598539502,-0.01909000558318614,-0.0928762759868856,-0.0869484135441756,0.14213788072179329,-0.020880711503672506,-0.13094078291397113,-0.10429750877457855,0.08952193079615232,-0.03335330636070255,0.018634852736587573,-0.006605753855655572,-0.059684999725601234,-0.11012940589955,-0.04838748021750641,-0.05063151761505767,-0.041819933601788636,-0.017392200397837374,-0.05901745002862603,-0.08583731145985395,-0.03778595474605778,0.07399083555729681,0.10827983916610476,0.1157425144541338,0.03813161347687125,-0.060355757670705355,-0.09247374346220019,0.08650687837938276,-0.03150216681715129,0.009543165883456235,-0.11553369359048775,-0.07546914614848368,-0.05495619530417859,0.052726710240374244,0.1461153180549394,-0.0044336496903248515,0.07719531423509964,0.16466511310855034,0.03464541556477931,-0.08350579351467484,0.09171484855687394,0.09157318272586314,-0.02301636029620255,0.17572863716439627],\"type\":\"scatter\",\"xaxis\":\"x3\",\"yaxis\":\"y3\"},{\"hovertext\":[\"LQ-01-61-01_pos.mzXML\",\"LQ-01-61-02_pos.mzXML\",\"LQ-01-61-03_pos.mzXML\",\"LQ-01-61-04_pos.mzXML\",\"LQ-01-61-05_pos.mzXML\",\"LQ-01-61-06_pos.mzXML\",\"LQ-01-61-07_pos.mzXML\",\"LQ-01-61-08_pos.mzXML\",\"LQ-01-61-09_pos.mzXML\",\"LQ-01-61-10_pos.mzXML\",\"LQ-01-61-11_pos.mzXML\",\"LQ-01-61-12_pos.mzXML\",\"LQ-01-61-13_pos.mzXML\",\"LQ-01-61-14_pos.mzXML\",\"LQ-01-61-15_pos.mzXML\",\"LQ-01-61-16_pos.mzXML\",\"LQ-01-61-17_pos.mzXML\",\"LQ-01-61-18_pos.mzXML\",\"LQ-01-61-19_pos.mzXML\",\"LQ-01-61-20_pos.mzXML\",\"LQ-01-61-21_pos.mzXML\",\"LQ-01-61-22_pos.mzXML\",\"LQ-01-61-23_pos.mzXML\",\"LQ-01-61-24_pos.mzXML\",\"LQ-01-61-25_pos.mzXML\",\"LQ-01-61-26_pos.mzXML\",\"LQ-01-61-27_pos.mzXML\",\"LQ-01-61-28_pos.mzXML\",\"LQ-01-61-29_pos.mzXML\",\"LQ-01-61-30_pos.mzXML\",\"LQ-01-61-31_pos.mzXML\",\"LQ-01-61-32_pos.mzXML\",\"LQ-01-61-33_pos.mzXML\",\"LQ-01-61-34_pos.mzXML\",\"LQ-01-61-35_pos.mzXML\",\"LQ-01-61-36_pos.mzXML\",\"LQ-01-61-37_pos.mzXML\",\"LQ-01-61-38_pos.mzXML\",\"LQ-01-61-39_pos.mzXML\",\"LQ-01-61-40_pos.mzXML\",\"LQ-01-61-41_pos.mzXML\",\"LQ-01-61-42_pos.mzXML\",\"LQ-01-61-43_pos.mzXML\",\"LQ-01-61-44_pos.mzXML\",\"LQ-01-61-45_pos.mzXML\",\"LQ-01-61-46_pos.mzXML\",\"LQ-01-61-47_pos.mzXML\",\"LQ-01-61-48_pos.mzXML\",\"LQ-01-61-49_pos.mzXML\",\"LQ-01-61-50_pos.mzXML\",\"LQ-01-61-51_pos.mzXML\",\"LQ-01-61-52_pos.mzXML\",\"LQ-01-61-53_pos.mzXML\",\"LQ-01-61-54_pos.mzXML\",\"LQ-01-61-55_pos.mzXML\",\"LQ-01-61-56_pos.mzXML\",\"LQ-01-61-57_pos.mzXML\",\"LQ-01-61-58_pos.mzXML\",\"LQ-01-61-59_pos.mzXML\",\"LQ-01-61-60_pos.mzXML\",\"LQ-01-61-61_pos.mzXML\",\"LQ-01-61-62_pos.mzXML\",\"LQ-01-61-63_pos.mzXML\",\"LQ-01-61-64_pos.mzXML\",\"LQ-01-61-65_pos.mzXML\",\"LQ-01-61-66_pos.mzXML\",\"LQ-01-61-67_pos.mzXML\",\"LQ-01-61-68_pos.mzXML\",\"LQ-01-61-69_pos.mzXML\",\"LQ-01-61-70_pos.mzXML\",\"LQ-01-61-71_pos.mzXML\",\"LQ-01-61-72_pos.mzXML\",\"LQ-01-61-73_pos.mzXML\",\"LQ-01-61-74_pos.mzXML\",\"LQ-01-61-75_pos.mzXML\",\"LQ-01-61-78_pos.mzXML\"],\"marker\":{\"color\":[-1,-1,-1,-1,-1,-1,-1,1,1,1,1,1,1,-1,1,1,1,1,-1,1,1,1,1,1,1,1,1,1,1,1,-1,1,1,1,1,1,-1,1,1,1,1,1,1,1,1,1,1,1,1,1,1,1,1,1,1,1,1,1,1,1,1,1,1,1,1,1,1,1,1,1,1,1,1,-1,1,1],\"colorscale\":[[0.0,\"rgb(128,0,38)\"],[0.125,\"rgb(189,0,38)\"],[0.25,\"rgb(227,26,28)\"],[0.375,\"rgb(252,78,42)\"],[0.5,\"rgb(253,141,60)\"],[0.625,\"rgb(254,178,76)\"],[0.75,\"rgb(254,217,118)\"],[0.875,\"rgb(255,237,160)\"],[1.0,\"rgb(255,255,204)\"]],\"line\":{\"color\":\"black\",\"width\":0.5},\"showscale\":false,\"size\":10},\"mode\":\"markers\",\"name\":\"Outlier [-1]\",\"opacity\":0.85,\"x\":[4.89582633972168,4.925055503845215,5.382785797119141,5.2796311378479,5.233705997467041,5.8559722900390625,6.414022445678711,4.596370697021484,3.3652825355529785,4.33696985244751,4.335381031036377,5.749759674072266,3.7382898330688477,5.524647235870361,4.731801986694336,6.226406097412109,5.48516321182251,5.314761161804199,6.34091329574585,4.303330898284912,3.231693983078003,3.171689510345459,3.402247190475464,4.482395648956299,4.226431846618652,4.905412673950195,5.431427955627441,4.158760070800781,3.7356793880462646,4.626877307891846,6.335179328918457,5.894894599914551,4.721096992492676,4.294436454772949,3.929422378540039,5.462935447692871,5.893077373504639,5.505309104919434,5.346185684204102,4.987010955810547,4.217734336853027,5.93155574798584,5.499401092529297,4.822365760803223,4.582394123077393,4.332313537597656,3.4163527488708496,3.3412106037139893,3.3298802375793457,3.2583158016204834,4.48413610458374,5.339450836181641,3.574629783630371,6.024999141693115,6.150183200836182,6.376888275146484,4.128325939178467,4.945769786834717,5.280302047729492,3.599241256713867,4.221518516540527,5.0485100746154785,3.8322501182556152,4.121886253356934,5.269802093505859,3.5025298595428467,4.713684558868408,5.398005485534668,3.942941665649414,5.310530185699463,3.860015630722046,4.712900161743164,5.9052228927612305,5.840310096740723,4.808447360992432,5.511852741241455],\"y\":[2.023527145385742,2.0365164279937744,2.303036689758301,2.1672375202178955,-0.7792079448699951,1.691635251045227,-0.1912820190191269,-2.674509048461914,-1.4155408143997192,-1.6259077787399292,0.7699860334396362,-2.7364909648895264,-0.05213024839758873,1.9172580242156982,-1.4791185855865479,-0.9429116249084473,1.2263652086257935,-0.1698216050863266,-0.40083178877830505,-0.865085244178772,-2.146231174468994,-2.312105178833008,-2.475306272506714,0.14539915323257446,-1.2155532836914062,-3.554375648498535,-1.9417301416397095,-0.5057929158210754,0.9386475086212158,-3.321821928024292,0.2822648882865906,-0.05418302118778229,-3.112480878829956,0.3458607792854309,-0.6473960876464844,-3.4351065158843994,2.1884429454803467,-0.6992430686950684,-3.0858309268951416,-2.795825481414795,0.9558190107345581,-2.5825624465942383,-1.4945933818817139,0.8926997780799866,-0.5272945165634155,-2.9189980030059814,-1.9340795278549194,-0.11232905834913254,-0.05096665024757385,0.004746182356029749,-2.1066110134124756,-2.5378150939941406,-0.5241153836250305,0.3667747676372528,0.48347532749176025,0.6336869597434998,-0.014454248361289501,-0.010353129357099533,-3.403381586074829,-1.260352611541748,-2.651893138885498,-2.2811474800109863,-2.0235400199890137,-2.346733808517456,-3.215761661529541,0.6001147627830505,1.4615269899368286,-2.6400814056396484,0.5379533171653748,1.7136507034301758,0.2883361279964447,-3.442948341369629,1.9945436716079712,2.132697582244873,0.4448567032814026,1.526161789894104],\"type\":\"scatter\",\"xaxis\":\"x4\",\"yaxis\":\"y4\"},{\"hovertext\":[\"LQ-01-61-01_pos.mzXML\",\"LQ-01-61-02_pos.mzXML\",\"LQ-01-61-03_pos.mzXML\",\"LQ-01-61-04_pos.mzXML\",\"LQ-01-61-05_pos.mzXML\",\"LQ-01-61-06_pos.mzXML\",\"LQ-01-61-07_pos.mzXML\",\"LQ-01-61-08_pos.mzXML\",\"LQ-01-61-09_pos.mzXML\",\"LQ-01-61-10_pos.mzXML\",\"LQ-01-61-11_pos.mzXML\",\"LQ-01-61-12_pos.mzXML\",\"LQ-01-61-13_pos.mzXML\",\"LQ-01-61-14_pos.mzXML\",\"LQ-01-61-15_pos.mzXML\",\"LQ-01-61-16_pos.mzXML\",\"LQ-01-61-17_pos.mzXML\",\"LQ-01-61-18_pos.mzXML\",\"LQ-01-61-19_pos.mzXML\",\"LQ-01-61-20_pos.mzXML\",\"LQ-01-61-21_pos.mzXML\",\"LQ-01-61-22_pos.mzXML\",\"LQ-01-61-23_pos.mzXML\",\"LQ-01-61-24_pos.mzXML\",\"LQ-01-61-25_pos.mzXML\",\"LQ-01-61-26_pos.mzXML\",\"LQ-01-61-27_pos.mzXML\",\"LQ-01-61-28_pos.mzXML\",\"LQ-01-61-29_pos.mzXML\",\"LQ-01-61-30_pos.mzXML\",\"LQ-01-61-31_pos.mzXML\",\"LQ-01-61-32_pos.mzXML\",\"LQ-01-61-33_pos.mzXML\",\"LQ-01-61-34_pos.mzXML\",\"LQ-01-61-35_pos.mzXML\",\"LQ-01-61-36_pos.mzXML\",\"LQ-01-61-37_pos.mzXML\",\"LQ-01-61-38_pos.mzXML\",\"LQ-01-61-39_pos.mzXML\",\"LQ-01-61-40_pos.mzXML\",\"LQ-01-61-41_pos.mzXML\",\"LQ-01-61-42_pos.mzXML\",\"LQ-01-61-43_pos.mzXML\",\"LQ-01-61-44_pos.mzXML\",\"LQ-01-61-45_pos.mzXML\",\"LQ-01-61-46_pos.mzXML\",\"LQ-01-61-47_pos.mzXML\",\"LQ-01-61-48_pos.mzXML\",\"LQ-01-61-49_pos.mzXML\",\"LQ-01-61-50_pos.mzXML\",\"LQ-01-61-51_pos.mzXML\",\"LQ-01-61-52_pos.mzXML\",\"LQ-01-61-53_pos.mzXML\",\"LQ-01-61-54_pos.mzXML\",\"LQ-01-61-55_pos.mzXML\",\"LQ-01-61-56_pos.mzXML\",\"LQ-01-61-57_pos.mzXML\",\"LQ-01-61-58_pos.mzXML\",\"LQ-01-61-59_pos.mzXML\",\"LQ-01-61-60_pos.mzXML\",\"LQ-01-61-61_pos.mzXML\",\"LQ-01-61-62_pos.mzXML\",\"LQ-01-61-63_pos.mzXML\",\"LQ-01-61-64_pos.mzXML\",\"LQ-01-61-65_pos.mzXML\",\"LQ-01-61-66_pos.mzXML\",\"LQ-01-61-67_pos.mzXML\",\"LQ-01-61-68_pos.mzXML\",\"LQ-01-61-69_pos.mzXML\",\"LQ-01-61-70_pos.mzXML\",\"LQ-01-61-71_pos.mzXML\",\"LQ-01-61-72_pos.mzXML\",\"LQ-01-61-73_pos.mzXML\",\"LQ-01-61-74_pos.mzXML\",\"LQ-01-61-75_pos.mzXML\",\"LQ-01-61-78_pos.mzXML\"],\"marker\":{\"color\":[1,1,1,1,1,1,-1,1,1,1,1,1,1,1,1,1,1,1,-1,1,1,-1,-1,1,1,1,1,1,1,1,1,1,1,1,1,1,1,1,1,1,-1,1,1,1,1,1,-1,1,1,1,1,1,1,-1,-1,-1,1,1,1,-1,1,1,1,1,1,1,1,1,1,1,1,-1,1,1,1,-1],\"colorscale\":[[0.0,\"rgb(128,0,38)\"],[0.125,\"rgb(189,0,38)\"],[0.25,\"rgb(227,26,28)\"],[0.375,\"rgb(252,78,42)\"],[0.5,\"rgb(253,141,60)\"],[0.625,\"rgb(254,178,76)\"],[0.75,\"rgb(254,217,118)\"],[0.875,\"rgb(255,237,160)\"],[1.0,\"rgb(255,255,204)\"]],\"line\":{\"color\":\"black\",\"width\":0.5},\"showscale\":false,\"size\":10},\"mode\":\"markers\",\"name\":\"Normal [1]\",\"opacity\":0.85,\"showlegend\":true,\"x\":[4.89582633972168,4.925055503845215,5.382785797119141,5.2796311378479,5.233705997467041,5.8559722900390625,6.414022445678711,4.596370697021484,3.3652825355529785,4.33696985244751,4.335381031036377,5.749759674072266,3.7382898330688477,5.524647235870361,4.731801986694336,6.226406097412109,5.48516321182251,5.314761161804199,6.34091329574585,4.303330898284912,3.231693983078003,3.171689510345459,3.402247190475464,4.482395648956299,4.226431846618652,4.905412673950195,5.431427955627441,4.158760070800781,3.7356793880462646,4.626877307891846,6.335179328918457,5.894894599914551,4.721096992492676,4.294436454772949,3.929422378540039,5.462935447692871,5.893077373504639,5.505309104919434,5.346185684204102,4.987010955810547,4.217734336853027,5.93155574798584,5.499401092529297,4.822365760803223,4.582394123077393,4.332313537597656,3.4163527488708496,3.3412106037139893,3.3298802375793457,3.2583158016204834,4.48413610458374,5.339450836181641,3.574629783630371,6.024999141693115,6.150183200836182,6.376888275146484,4.128325939178467,4.945769786834717,5.280302047729492,3.599241256713867,4.221518516540527,5.0485100746154785,3.8322501182556152,4.121886253356934,5.269802093505859,3.5025298595428467,4.713684558868408,5.398005485534668,3.942941665649414,5.310530185699463,3.860015630722046,4.712900161743164,5.9052228927612305,5.840310096740723,4.808447360992432,5.511852741241455],\"y\":[2.023527145385742,2.0365164279937744,2.303036689758301,2.1672375202178955,-0.7792079448699951,1.691635251045227,-0.1912820190191269,-2.674509048461914,-1.4155408143997192,-1.6259077787399292,0.7699860334396362,-2.7364909648895264,-0.05213024839758873,1.9172580242156982,-1.4791185855865479,-0.9429116249084473,1.2263652086257935,-0.1698216050863266,-0.40083178877830505,-0.865085244178772,-2.146231174468994,-2.312105178833008,-2.475306272506714,0.14539915323257446,-1.2155532836914062,-3.554375648498535,-1.9417301416397095,-0.5057929158210754,0.9386475086212158,-3.321821928024292,0.2822648882865906,-0.05418302118778229,-3.112480878829956,0.3458607792854309,-0.6473960876464844,-3.4351065158843994,2.1884429454803467,-0.6992430686950684,-3.0858309268951416,-2.795825481414795,0.9558190107345581,-2.5825624465942383,-1.4945933818817139,0.8926997780799866,-0.5272945165634155,-2.9189980030059814,-1.9340795278549194,-0.11232905834913254,-0.05096665024757385,0.004746182356029749,-2.1066110134124756,-2.5378150939941406,-0.5241153836250305,0.3667747676372528,0.48347532749176025,0.6336869597434998,-0.014454248361289501,-0.010353129357099533,-3.403381586074829,-1.260352611541748,-2.651893138885498,-2.2811474800109863,-2.0235400199890137,-2.346733808517456,-3.215761661529541,0.6001147627830505,1.4615269899368286,-2.6400814056396484,0.5379533171653748,1.7136507034301758,0.2883361279964447,-3.442948341369629,1.9945436716079712,2.132697582244873,0.4448567032814026,1.526161789894104],\"type\":\"scatter\",\"xaxis\":\"x5\",\"yaxis\":\"y5\"},{\"hovertext\":[\"LQ-01-61-01_pos.mzXML\",\"LQ-01-61-02_pos.mzXML\",\"LQ-01-61-03_pos.mzXML\",\"LQ-01-61-04_pos.mzXML\",\"LQ-01-61-05_pos.mzXML\",\"LQ-01-61-06_pos.mzXML\",\"LQ-01-61-07_pos.mzXML\",\"LQ-01-61-08_pos.mzXML\",\"LQ-01-61-09_pos.mzXML\",\"LQ-01-61-10_pos.mzXML\",\"LQ-01-61-11_pos.mzXML\",\"LQ-01-61-12_pos.mzXML\",\"LQ-01-61-13_pos.mzXML\",\"LQ-01-61-14_pos.mzXML\",\"LQ-01-61-15_pos.mzXML\",\"LQ-01-61-16_pos.mzXML\",\"LQ-01-61-17_pos.mzXML\",\"LQ-01-61-18_pos.mzXML\",\"LQ-01-61-19_pos.mzXML\",\"LQ-01-61-20_pos.mzXML\",\"LQ-01-61-21_pos.mzXML\",\"LQ-01-61-22_pos.mzXML\",\"LQ-01-61-23_pos.mzXML\",\"LQ-01-61-24_pos.mzXML\",\"LQ-01-61-25_pos.mzXML\",\"LQ-01-61-26_pos.mzXML\",\"LQ-01-61-27_pos.mzXML\",\"LQ-01-61-28_pos.mzXML\",\"LQ-01-61-29_pos.mzXML\",\"LQ-01-61-30_pos.mzXML\",\"LQ-01-61-31_pos.mzXML\",\"LQ-01-61-32_pos.mzXML\",\"LQ-01-61-33_pos.mzXML\",\"LQ-01-61-34_pos.mzXML\",\"LQ-01-61-35_pos.mzXML\",\"LQ-01-61-36_pos.mzXML\",\"LQ-01-61-37_pos.mzXML\",\"LQ-01-61-38_pos.mzXML\",\"LQ-01-61-39_pos.mzXML\",\"LQ-01-61-40_pos.mzXML\",\"LQ-01-61-41_pos.mzXML\",\"LQ-01-61-42_pos.mzXML\",\"LQ-01-61-43_pos.mzXML\",\"LQ-01-61-44_pos.mzXML\",\"LQ-01-61-45_pos.mzXML\",\"LQ-01-61-46_pos.mzXML\",\"LQ-01-61-47_pos.mzXML\",\"LQ-01-61-48_pos.mzXML\",\"LQ-01-61-49_pos.mzXML\",\"LQ-01-61-50_pos.mzXML\",\"LQ-01-61-51_pos.mzXML\",\"LQ-01-61-52_pos.mzXML\",\"LQ-01-61-53_pos.mzXML\",\"LQ-01-61-54_pos.mzXML\",\"LQ-01-61-55_pos.mzXML\",\"LQ-01-61-56_pos.mzXML\",\"LQ-01-61-57_pos.mzXML\",\"LQ-01-61-58_pos.mzXML\",\"LQ-01-61-59_pos.mzXML\",\"LQ-01-61-60_pos.mzXML\",\"LQ-01-61-61_pos.mzXML\",\"LQ-01-61-62_pos.mzXML\",\"LQ-01-61-63_pos.mzXML\",\"LQ-01-61-64_pos.mzXML\",\"LQ-01-61-65_pos.mzXML\",\"LQ-01-61-66_pos.mzXML\",\"LQ-01-61-67_pos.mzXML\",\"LQ-01-61-68_pos.mzXML\",\"LQ-01-61-69_pos.mzXML\",\"LQ-01-61-70_pos.mzXML\",\"LQ-01-61-71_pos.mzXML\",\"LQ-01-61-72_pos.mzXML\",\"LQ-01-61-73_pos.mzXML\",\"LQ-01-61-74_pos.mzXML\",\"LQ-01-61-75_pos.mzXML\",\"LQ-01-61-78_pos.mzXML\"],\"legendgrouptitle\":{\"text\":\"Anomaly\"},\"marker\":{\"color\":[1,1,1,1,1,1,-1,1,1,1,1,1,1,1,1,1,1,1,1,1,1,1,1,1,1,1,1,1,1,1,1,1,1,1,1,1,1,1,1,1,1,1,1,1,1,1,1,1,1,1,1,1,1,1,-1,1,1,1,1,-1,1,1,1,1,1,1,1,1,1,1,1,1,1,1,1,-1],\"colorscale\":[[0.0,\"rgb(128,0,38)\"],[0.125,\"rgb(189,0,38)\"],[0.25,\"rgb(227,26,28)\"],[0.375,\"rgb(252,78,42)\"],[0.5,\"rgb(253,141,60)\"],[0.625,\"rgb(254,178,76)\"],[0.75,\"rgb(254,217,118)\"],[0.875,\"rgb(255,237,160)\"],[1.0,\"rgb(255,255,204)\"]],\"line\":{\"color\":\"black\",\"width\":0.5},\"showscale\":false,\"size\":10},\"mode\":\"markers\",\"opacity\":0.85,\"showlegend\":false,\"x\":[4.89582633972168,4.925055503845215,5.382785797119141,5.2796311378479,5.233705997467041,5.8559722900390625,6.414022445678711,4.596370697021484,3.3652825355529785,4.33696985244751,4.335381031036377,5.749759674072266,3.7382898330688477,5.524647235870361,4.731801986694336,6.226406097412109,5.48516321182251,5.314761161804199,6.34091329574585,4.303330898284912,3.231693983078003,3.171689510345459,3.402247190475464,4.482395648956299,4.226431846618652,4.905412673950195,5.431427955627441,4.158760070800781,3.7356793880462646,4.626877307891846,6.335179328918457,5.894894599914551,4.721096992492676,4.294436454772949,3.929422378540039,5.462935447692871,5.893077373504639,5.505309104919434,5.346185684204102,4.987010955810547,4.217734336853027,5.93155574798584,5.499401092529297,4.822365760803223,4.582394123077393,4.332313537597656,3.4163527488708496,3.3412106037139893,3.3298802375793457,3.2583158016204834,4.48413610458374,5.339450836181641,3.574629783630371,6.024999141693115,6.150183200836182,6.376888275146484,4.128325939178467,4.945769786834717,5.280302047729492,3.599241256713867,4.221518516540527,5.0485100746154785,3.8322501182556152,4.121886253356934,5.269802093505859,3.5025298595428467,4.713684558868408,5.398005485534668,3.942941665649414,5.310530185699463,3.860015630722046,4.712900161743164,5.9052228927612305,5.840310096740723,4.808447360992432,5.511852741241455],\"y\":[2.023527145385742,2.0365164279937744,2.303036689758301,2.1672375202178955,-0.7792079448699951,1.691635251045227,-0.1912820190191269,-2.674509048461914,-1.4155408143997192,-1.6259077787399292,0.7699860334396362,-2.7364909648895264,-0.05213024839758873,1.9172580242156982,-1.4791185855865479,-0.9429116249084473,1.2263652086257935,-0.1698216050863266,-0.40083178877830505,-0.865085244178772,-2.146231174468994,-2.312105178833008,-2.475306272506714,0.14539915323257446,-1.2155532836914062,-3.554375648498535,-1.9417301416397095,-0.5057929158210754,0.9386475086212158,-3.321821928024292,0.2822648882865906,-0.05418302118778229,-3.112480878829956,0.3458607792854309,-0.6473960876464844,-3.4351065158843994,2.1884429454803467,-0.6992430686950684,-3.0858309268951416,-2.795825481414795,0.9558190107345581,-2.5825624465942383,-1.4945933818817139,0.8926997780799866,-0.5272945165634155,-2.9189980030059814,-1.9340795278549194,-0.11232905834913254,-0.05096665024757385,0.004746182356029749,-2.1066110134124756,-2.5378150939941406,-0.5241153836250305,0.3667747676372528,0.48347532749176025,0.6336869597434998,-0.014454248361289501,-0.010353129357099533,-3.403381586074829,-1.260352611541748,-2.651893138885498,-2.2811474800109863,-2.0235400199890137,-2.346733808517456,-3.215761661529541,0.6001147627830505,1.4615269899368286,-2.6400814056396484,0.5379533171653748,1.7136507034301758,0.2883361279964447,-3.442948341369629,1.9945436716079712,2.132697582244873,0.4448567032814026,1.526161789894104],\"type\":\"scatter\",\"xaxis\":\"x6\",\"yaxis\":\"y6\"}],                        {\"template\":{\"data\":{\"barpolar\":[{\"marker\":{\"line\":{\"color\":\"white\",\"width\":0.5},\"pattern\":{\"fillmode\":\"overlay\",\"size\":10,\"solidity\":0.2}},\"type\":\"barpolar\"}],\"bar\":[{\"error_x\":{\"color\":\"rgb(36,36,36)\"},\"error_y\":{\"color\":\"rgb(36,36,36)\"},\"marker\":{\"line\":{\"color\":\"white\",\"width\":0.5},\"pattern\":{\"fillmode\":\"overlay\",\"size\":10,\"solidity\":0.2}},\"type\":\"bar\"}],\"carpet\":[{\"aaxis\":{\"endlinecolor\":\"rgb(36,36,36)\",\"gridcolor\":\"white\",\"linecolor\":\"white\",\"minorgridcolor\":\"white\",\"startlinecolor\":\"rgb(36,36,36)\"},\"baxis\":{\"endlinecolor\":\"rgb(36,36,36)\",\"gridcolor\":\"white\",\"linecolor\":\"white\",\"minorgridcolor\":\"white\",\"startlinecolor\":\"rgb(36,36,36)\"},\"type\":\"carpet\"}],\"choropleth\":[{\"colorbar\":{\"outlinewidth\":1,\"tickcolor\":\"rgb(36,36,36)\",\"ticks\":\"outside\"},\"type\":\"choropleth\"}],\"contourcarpet\":[{\"colorbar\":{\"outlinewidth\":1,\"tickcolor\":\"rgb(36,36,36)\",\"ticks\":\"outside\"},\"type\":\"contourcarpet\"}],\"contour\":[{\"colorbar\":{\"outlinewidth\":1,\"tickcolor\":\"rgb(36,36,36)\",\"ticks\":\"outside\"},\"colorscale\":[[0.0,\"#440154\"],[0.1111111111111111,\"#482878\"],[0.2222222222222222,\"#3e4989\"],[0.3333333333333333,\"#31688e\"],[0.4444444444444444,\"#26828e\"],[0.5555555555555556,\"#1f9e89\"],[0.6666666666666666,\"#35b779\"],[0.7777777777777778,\"#6ece58\"],[0.8888888888888888,\"#b5de2b\"],[1.0,\"#fde725\"]],\"type\":\"contour\"}],\"heatmapgl\":[{\"colorbar\":{\"outlinewidth\":1,\"tickcolor\":\"rgb(36,36,36)\",\"ticks\":\"outside\"},\"colorscale\":[[0.0,\"#440154\"],[0.1111111111111111,\"#482878\"],[0.2222222222222222,\"#3e4989\"],[0.3333333333333333,\"#31688e\"],[0.4444444444444444,\"#26828e\"],[0.5555555555555556,\"#1f9e89\"],[0.6666666666666666,\"#35b779\"],[0.7777777777777778,\"#6ece58\"],[0.8888888888888888,\"#b5de2b\"],[1.0,\"#fde725\"]],\"type\":\"heatmapgl\"}],\"heatmap\":[{\"colorbar\":{\"outlinewidth\":1,\"tickcolor\":\"rgb(36,36,36)\",\"ticks\":\"outside\"},\"colorscale\":[[0.0,\"#440154\"],[0.1111111111111111,\"#482878\"],[0.2222222222222222,\"#3e4989\"],[0.3333333333333333,\"#31688e\"],[0.4444444444444444,\"#26828e\"],[0.5555555555555556,\"#1f9e89\"],[0.6666666666666666,\"#35b779\"],[0.7777777777777778,\"#6ece58\"],[0.8888888888888888,\"#b5de2b\"],[1.0,\"#fde725\"]],\"type\":\"heatmap\"}],\"histogram2dcontour\":[{\"colorbar\":{\"outlinewidth\":1,\"tickcolor\":\"rgb(36,36,36)\",\"ticks\":\"outside\"},\"colorscale\":[[0.0,\"#440154\"],[0.1111111111111111,\"#482878\"],[0.2222222222222222,\"#3e4989\"],[0.3333333333333333,\"#31688e\"],[0.4444444444444444,\"#26828e\"],[0.5555555555555556,\"#1f9e89\"],[0.6666666666666666,\"#35b779\"],[0.7777777777777778,\"#6ece58\"],[0.8888888888888888,\"#b5de2b\"],[1.0,\"#fde725\"]],\"type\":\"histogram2dcontour\"}],\"histogram2d\":[{\"colorbar\":{\"outlinewidth\":1,\"tickcolor\":\"rgb(36,36,36)\",\"ticks\":\"outside\"},\"colorscale\":[[0.0,\"#440154\"],[0.1111111111111111,\"#482878\"],[0.2222222222222222,\"#3e4989\"],[0.3333333333333333,\"#31688e\"],[0.4444444444444444,\"#26828e\"],[0.5555555555555556,\"#1f9e89\"],[0.6666666666666666,\"#35b779\"],[0.7777777777777778,\"#6ece58\"],[0.8888888888888888,\"#b5de2b\"],[1.0,\"#fde725\"]],\"type\":\"histogram2d\"}],\"histogram\":[{\"marker\":{\"line\":{\"color\":\"white\",\"width\":0.6}},\"type\":\"histogram\"}],\"mesh3d\":[{\"colorbar\":{\"outlinewidth\":1,\"tickcolor\":\"rgb(36,36,36)\",\"ticks\":\"outside\"},\"type\":\"mesh3d\"}],\"parcoords\":[{\"line\":{\"colorbar\":{\"outlinewidth\":1,\"tickcolor\":\"rgb(36,36,36)\",\"ticks\":\"outside\"}},\"type\":\"parcoords\"}],\"pie\":[{\"automargin\":true,\"type\":\"pie\"}],\"scatter3d\":[{\"line\":{\"colorbar\":{\"outlinewidth\":1,\"tickcolor\":\"rgb(36,36,36)\",\"ticks\":\"outside\"}},\"marker\":{\"colorbar\":{\"outlinewidth\":1,\"tickcolor\":\"rgb(36,36,36)\",\"ticks\":\"outside\"}},\"type\":\"scatter3d\"}],\"scattercarpet\":[{\"marker\":{\"colorbar\":{\"outlinewidth\":1,\"tickcolor\":\"rgb(36,36,36)\",\"ticks\":\"outside\"}},\"type\":\"scattercarpet\"}],\"scattergeo\":[{\"marker\":{\"colorbar\":{\"outlinewidth\":1,\"tickcolor\":\"rgb(36,36,36)\",\"ticks\":\"outside\"}},\"type\":\"scattergeo\"}],\"scattergl\":[{\"marker\":{\"colorbar\":{\"outlinewidth\":1,\"tickcolor\":\"rgb(36,36,36)\",\"ticks\":\"outside\"}},\"type\":\"scattergl\"}],\"scattermapbox\":[{\"marker\":{\"colorbar\":{\"outlinewidth\":1,\"tickcolor\":\"rgb(36,36,36)\",\"ticks\":\"outside\"}},\"type\":\"scattermapbox\"}],\"scatterpolargl\":[{\"marker\":{\"colorbar\":{\"outlinewidth\":1,\"tickcolor\":\"rgb(36,36,36)\",\"ticks\":\"outside\"}},\"type\":\"scatterpolargl\"}],\"scatterpolar\":[{\"marker\":{\"colorbar\":{\"outlinewidth\":1,\"tickcolor\":\"rgb(36,36,36)\",\"ticks\":\"outside\"}},\"type\":\"scatterpolar\"}],\"scatter\":[{\"fillpattern\":{\"fillmode\":\"overlay\",\"size\":10,\"solidity\":0.2},\"type\":\"scatter\"}],\"scatterternary\":[{\"marker\":{\"colorbar\":{\"outlinewidth\":1,\"tickcolor\":\"rgb(36,36,36)\",\"ticks\":\"outside\"}},\"type\":\"scatterternary\"}],\"surface\":[{\"colorbar\":{\"outlinewidth\":1,\"tickcolor\":\"rgb(36,36,36)\",\"ticks\":\"outside\"},\"colorscale\":[[0.0,\"#440154\"],[0.1111111111111111,\"#482878\"],[0.2222222222222222,\"#3e4989\"],[0.3333333333333333,\"#31688e\"],[0.4444444444444444,\"#26828e\"],[0.5555555555555556,\"#1f9e89\"],[0.6666666666666666,\"#35b779\"],[0.7777777777777778,\"#6ece58\"],[0.8888888888888888,\"#b5de2b\"],[1.0,\"#fde725\"]],\"type\":\"surface\"}],\"table\":[{\"cells\":{\"fill\":{\"color\":\"rgb(237,237,237)\"},\"line\":{\"color\":\"white\"}},\"header\":{\"fill\":{\"color\":\"rgb(217,217,217)\"},\"line\":{\"color\":\"white\"}},\"type\":\"table\"}]},\"layout\":{\"annotationdefaults\":{\"arrowhead\":0,\"arrowwidth\":1},\"autotypenumbers\":\"strict\",\"coloraxis\":{\"colorbar\":{\"outlinewidth\":1,\"tickcolor\":\"rgb(36,36,36)\",\"ticks\":\"outside\"}},\"colorscale\":{\"diverging\":[[0.0,\"rgb(103,0,31)\"],[0.1,\"rgb(178,24,43)\"],[0.2,\"rgb(214,96,77)\"],[0.3,\"rgb(244,165,130)\"],[0.4,\"rgb(253,219,199)\"],[0.5,\"rgb(247,247,247)\"],[0.6,\"rgb(209,229,240)\"],[0.7,\"rgb(146,197,222)\"],[0.8,\"rgb(67,147,195)\"],[0.9,\"rgb(33,102,172)\"],[1.0,\"rgb(5,48,97)\"]],\"sequential\":[[0.0,\"#440154\"],[0.1111111111111111,\"#482878\"],[0.2222222222222222,\"#3e4989\"],[0.3333333333333333,\"#31688e\"],[0.4444444444444444,\"#26828e\"],[0.5555555555555556,\"#1f9e89\"],[0.6666666666666666,\"#35b779\"],[0.7777777777777778,\"#6ece58\"],[0.8888888888888888,\"#b5de2b\"],[1.0,\"#fde725\"]],\"sequentialminus\":[[0.0,\"#440154\"],[0.1111111111111111,\"#482878\"],[0.2222222222222222,\"#3e4989\"],[0.3333333333333333,\"#31688e\"],[0.4444444444444444,\"#26828e\"],[0.5555555555555556,\"#1f9e89\"],[0.6666666666666666,\"#35b779\"],[0.7777777777777778,\"#6ece58\"],[0.8888888888888888,\"#b5de2b\"],[1.0,\"#fde725\"]]},\"colorway\":[\"#1F77B4\",\"#FF7F0E\",\"#2CA02C\",\"#D62728\",\"#9467BD\",\"#8C564B\",\"#E377C2\",\"#7F7F7F\",\"#BCBD22\",\"#17BECF\"],\"font\":{\"color\":\"rgb(36,36,36)\"},\"geo\":{\"bgcolor\":\"white\",\"lakecolor\":\"white\",\"landcolor\":\"white\",\"showlakes\":true,\"showland\":true,\"subunitcolor\":\"white\"},\"hoverlabel\":{\"align\":\"left\"},\"hovermode\":\"closest\",\"mapbox\":{\"style\":\"light\"},\"paper_bgcolor\":\"white\",\"plot_bgcolor\":\"white\",\"polar\":{\"angularaxis\":{\"gridcolor\":\"rgb(232,232,232)\",\"linecolor\":\"rgb(36,36,36)\",\"showgrid\":false,\"showline\":true,\"ticks\":\"outside\"},\"bgcolor\":\"white\",\"radialaxis\":{\"gridcolor\":\"rgb(232,232,232)\",\"linecolor\":\"rgb(36,36,36)\",\"showgrid\":false,\"showline\":true,\"ticks\":\"outside\"}},\"scene\":{\"xaxis\":{\"backgroundcolor\":\"white\",\"gridcolor\":\"rgb(232,232,232)\",\"gridwidth\":2,\"linecolor\":\"rgb(36,36,36)\",\"showbackground\":true,\"showgrid\":false,\"showline\":true,\"ticks\":\"outside\",\"zeroline\":false,\"zerolinecolor\":\"rgb(36,36,36)\"},\"yaxis\":{\"backgroundcolor\":\"white\",\"gridcolor\":\"rgb(232,232,232)\",\"gridwidth\":2,\"linecolor\":\"rgb(36,36,36)\",\"showbackground\":true,\"showgrid\":false,\"showline\":true,\"ticks\":\"outside\",\"zeroline\":false,\"zerolinecolor\":\"rgb(36,36,36)\"},\"zaxis\":{\"backgroundcolor\":\"white\",\"gridcolor\":\"rgb(232,232,232)\",\"gridwidth\":2,\"linecolor\":\"rgb(36,36,36)\",\"showbackground\":true,\"showgrid\":false,\"showline\":true,\"ticks\":\"outside\",\"zeroline\":false,\"zerolinecolor\":\"rgb(36,36,36)\"}},\"shapedefaults\":{\"fillcolor\":\"black\",\"line\":{\"width\":0},\"opacity\":0.3},\"ternary\":{\"aaxis\":{\"gridcolor\":\"rgb(232,232,232)\",\"linecolor\":\"rgb(36,36,36)\",\"showgrid\":false,\"showline\":true,\"ticks\":\"outside\"},\"baxis\":{\"gridcolor\":\"rgb(232,232,232)\",\"linecolor\":\"rgb(36,36,36)\",\"showgrid\":false,\"showline\":true,\"ticks\":\"outside\"},\"bgcolor\":\"white\",\"caxis\":{\"gridcolor\":\"rgb(232,232,232)\",\"linecolor\":\"rgb(36,36,36)\",\"showgrid\":false,\"showline\":true,\"ticks\":\"outside\"}},\"title\":{\"x\":0.05},\"xaxis\":{\"automargin\":true,\"gridcolor\":\"rgb(232,232,232)\",\"linecolor\":\"rgb(36,36,36)\",\"showgrid\":false,\"showline\":true,\"ticks\":\"outside\",\"title\":{\"standoff\":15},\"zeroline\":false,\"zerolinecolor\":\"rgb(36,36,36)\"},\"yaxis\":{\"automargin\":true,\"gridcolor\":\"rgb(232,232,232)\",\"linecolor\":\"rgb(36,36,36)\",\"showgrid\":false,\"showline\":true,\"ticks\":\"outside\",\"title\":{\"standoff\":15},\"zeroline\":false,\"zerolinecolor\":\"rgb(36,36,36)\"}}},\"xaxis\":{\"anchor\":\"y\",\"domain\":[0.0,0.2888888888888889],\"title\":{\"text\":\"PC1 (25.5 %)\"}},\"yaxis\":{\"anchor\":\"x\",\"domain\":[0.56,1.0],\"title\":{\"text\":\"PC2 (14.9 %)\"}},\"xaxis2\":{\"anchor\":\"y2\",\"domain\":[0.35555555555555557,0.6444444444444445],\"title\":{\"text\":\"PC1 (25.5 %)\"}},\"yaxis2\":{\"anchor\":\"x2\",\"domain\":[0.56,1.0],\"title\":{\"text\":\"PC2 (14.9 %)\"}},\"xaxis3\":{\"anchor\":\"y3\",\"domain\":[0.7111111111111111,1.0],\"title\":{\"text\":\"PC1 (25.5 %)\"}},\"yaxis3\":{\"anchor\":\"x3\",\"domain\":[0.56,1.0],\"title\":{\"text\":\"PC2 (14.9 %)\"}},\"xaxis4\":{\"anchor\":\"y4\",\"domain\":[0.0,0.2888888888888889]},\"yaxis4\":{\"anchor\":\"x4\",\"domain\":[0.0,0.44]},\"xaxis5\":{\"anchor\":\"y5\",\"domain\":[0.35555555555555557,0.6444444444444445]},\"yaxis5\":{\"anchor\":\"x5\",\"domain\":[0.0,0.44]},\"xaxis6\":{\"anchor\":\"y6\",\"domain\":[0.7111111111111111,1.0]},\"yaxis6\":{\"anchor\":\"x6\",\"domain\":[0.0,0.44]},\"annotations\":[{\"font\":{\"size\":20},\"showarrow\":false,\"text\":\"PCoA MEMO aligned (IF)\",\"x\":0.14444444444444446,\"xanchor\":\"center\",\"xref\":\"paper\",\"y\":1.0,\"yanchor\":\"bottom\",\"yref\":\"paper\"},{\"font\":{\"size\":20},\"showarrow\":false,\"text\":\"PCoA MEMO aligned (LOF)\",\"x\":0.5,\"xanchor\":\"center\",\"xref\":\"paper\",\"y\":1.0,\"yanchor\":\"bottom\",\"yref\":\"paper\"},{\"font\":{\"size\":20},\"showarrow\":false,\"text\":\"PCoA MEMO aligned (OCSVM)\",\"x\":0.8555555555555556,\"xanchor\":\"center\",\"xref\":\"paper\",\"y\":1.0,\"yanchor\":\"bottom\",\"yref\":\"paper\"},{\"font\":{\"size\":20},\"showarrow\":false,\"text\":\"UMAP MEMO aligned (IF)\",\"x\":0.14444444444444446,\"xanchor\":\"center\",\"xref\":\"paper\",\"y\":0.44,\"yanchor\":\"bottom\",\"yref\":\"paper\"},{\"font\":{\"size\":20},\"showarrow\":false,\"text\":\"UMAP MEMO aligned (LOF)\",\"x\":0.5,\"xanchor\":\"center\",\"xref\":\"paper\",\"y\":0.44,\"yanchor\":\"bottom\",\"yref\":\"paper\"},{\"font\":{\"size\":20},\"showarrow\":false,\"text\":\"UMAP MEMO aligned (OCSVM)\",\"x\":0.8555555555555556,\"xanchor\":\"center\",\"xref\":\"paper\",\"y\":0.44,\"yanchor\":\"bottom\",\"yref\":\"paper\"}],\"title\":{\"text\":\"Multiple outlier detection results\"},\"height\":1200,\"width\":1500,\"font\":{\"family\":\"Times New Roman\",\"size\":16,\"color\":\"black\"},\"legend\":{\"orientation\":\"h\",\"y\":-0.05,\"x\":-0.05,\"bordercolor\":\"Black\",\"borderwidth\":1}},                        {\"responsive\": true}                    ).then(function(){\n",
       "                            \n",
       "var gd = document.getElementById('27c26f78-df30-46ed-b194-394012f7d8f7');\n",
       "var x = new MutationObserver(function (mutations, observer) {{\n",
       "        var display = window.getComputedStyle(gd).display;\n",
       "        if (!display || display === 'none') {{\n",
       "            console.log([gd, 'removed!']);\n",
       "            Plotly.purge(gd);\n",
       "            observer.disconnect();\n",
       "        }}\n",
       "}});\n",
       "\n",
       "// Listen for the removal of the full notebook cells\n",
       "var notebookContainer = gd.closest('#notebook-container');\n",
       "if (notebookContainer) {{\n",
       "    x.observe(notebookContainer, {childList: true});\n",
       "}}\n",
       "\n",
       "// Listen for the clearing of the current output cell\n",
       "var outputEl = gd.closest('.output');\n",
       "if (outputEl) {{\n",
       "    x.observe(outputEl, {childList: true});\n",
       "}}\n",
       "\n",
       "                        })                };                });            </script>        </div>"
      ]
     },
     "metadata": {},
     "output_type": "display_data"
    }
   ],
   "source": [
    "pcoa_umap_2d(\n",
    "    matrix= metric_df,\n",
    "    data = SC,\n",
    "    metric= 'braycurtis')"
   ]
  },
  {
   "cell_type": "markdown",
   "metadata": {},
   "source": [
    "#### SC.2.4 PCoA 3D"
   ]
  },
  {
   "cell_type": "code",
   "execution_count": 68,
   "metadata": {},
   "outputs": [
    {
     "name": "stderr",
     "output_type": "stream",
     "text": [
      "/home/quirosgu/anaconda3/envs/inventa/lib/python3.7/site-packages/skbio/stats/ordination/_principal_coordinate_analysis.py:152: RuntimeWarning:\n",
      "\n",
      "The result contains negative eigenvalues. Please compare their magnitude with the magnitude of some of the largest positive eigenvalues. If the negative ones are smaller, it's probably safe to ignore them, but if they are large in magnitude, the results won't be useful. See the Notes section for more details. The smallest eigenvalue is -0.0016647020911528683 and the largest is 0.9032327317957183.\n",
      "\n"
     ]
    },
    {
     "data": {
      "application/vnd.plotly.v1+json": {
       "config": {
        "plotlyServerURL": "https://plot.ly"
       },
       "data": [
        {
         "hovertext": [
          "LQ-01-61-01_pos.mzXML",
          "LQ-01-61-02_pos.mzXML",
          "LQ-01-61-03_pos.mzXML",
          "LQ-01-61-04_pos.mzXML",
          "LQ-01-61-05_pos.mzXML",
          "LQ-01-61-06_pos.mzXML",
          "LQ-01-61-07_pos.mzXML",
          "LQ-01-61-08_pos.mzXML",
          "LQ-01-61-09_pos.mzXML",
          "LQ-01-61-10_pos.mzXML",
          "LQ-01-61-11_pos.mzXML",
          "LQ-01-61-12_pos.mzXML",
          "LQ-01-61-13_pos.mzXML",
          "LQ-01-61-14_pos.mzXML",
          "LQ-01-61-15_pos.mzXML",
          "LQ-01-61-16_pos.mzXML",
          "LQ-01-61-17_pos.mzXML",
          "LQ-01-61-18_pos.mzXML",
          "LQ-01-61-19_pos.mzXML",
          "LQ-01-61-20_pos.mzXML",
          "LQ-01-61-21_pos.mzXML",
          "LQ-01-61-22_pos.mzXML",
          "LQ-01-61-23_pos.mzXML",
          "LQ-01-61-24_pos.mzXML",
          "LQ-01-61-25_pos.mzXML",
          "LQ-01-61-26_pos.mzXML",
          "LQ-01-61-27_pos.mzXML",
          "LQ-01-61-28_pos.mzXML",
          "LQ-01-61-29_pos.mzXML",
          "LQ-01-61-30_pos.mzXML",
          "LQ-01-61-31_pos.mzXML",
          "LQ-01-61-32_pos.mzXML",
          "LQ-01-61-33_pos.mzXML",
          "LQ-01-61-34_pos.mzXML",
          "LQ-01-61-35_pos.mzXML",
          "LQ-01-61-36_pos.mzXML",
          "LQ-01-61-37_pos.mzXML",
          "LQ-01-61-38_pos.mzXML",
          "LQ-01-61-39_pos.mzXML",
          "LQ-01-61-40_pos.mzXML",
          "LQ-01-61-41_pos.mzXML",
          "LQ-01-61-42_pos.mzXML",
          "LQ-01-61-43_pos.mzXML",
          "LQ-01-61-44_pos.mzXML",
          "LQ-01-61-45_pos.mzXML",
          "LQ-01-61-46_pos.mzXML",
          "LQ-01-61-47_pos.mzXML",
          "LQ-01-61-48_pos.mzXML",
          "LQ-01-61-49_pos.mzXML",
          "LQ-01-61-50_pos.mzXML",
          "LQ-01-61-51_pos.mzXML",
          "LQ-01-61-52_pos.mzXML",
          "LQ-01-61-53_pos.mzXML",
          "LQ-01-61-54_pos.mzXML",
          "LQ-01-61-55_pos.mzXML",
          "LQ-01-61-56_pos.mzXML",
          "LQ-01-61-57_pos.mzXML",
          "LQ-01-61-58_pos.mzXML",
          "LQ-01-61-59_pos.mzXML",
          "LQ-01-61-60_pos.mzXML",
          "LQ-01-61-61_pos.mzXML",
          "LQ-01-61-62_pos.mzXML",
          "LQ-01-61-63_pos.mzXML",
          "LQ-01-61-64_pos.mzXML",
          "LQ-01-61-65_pos.mzXML",
          "LQ-01-61-66_pos.mzXML",
          "LQ-01-61-67_pos.mzXML",
          "LQ-01-61-68_pos.mzXML",
          "LQ-01-61-69_pos.mzXML",
          "LQ-01-61-70_pos.mzXML",
          "LQ-01-61-71_pos.mzXML",
          "LQ-01-61-72_pos.mzXML",
          "LQ-01-61-73_pos.mzXML",
          "LQ-01-61-74_pos.mzXML",
          "LQ-01-61-75_pos.mzXML",
          "LQ-01-61-78_pos.mzXML"
         ],
         "legendgrouptitle": {
          "text": "Anomaly"
         },
         "marker": {
          "color": [
           -1,
           -1,
           -1,
           -1,
           -1,
           -1,
           -1,
           1,
           1,
           1,
           1,
           1,
           1,
           -1,
           1,
           1,
           1,
           1,
           -1,
           1,
           1,
           1,
           1,
           1,
           1,
           1,
           1,
           1,
           1,
           1,
           -1,
           1,
           1,
           1,
           1,
           1,
           -1,
           1,
           1,
           1,
           1,
           1,
           1,
           1,
           1,
           1,
           1,
           1,
           1,
           1,
           1,
           1,
           1,
           1,
           1,
           1,
           1,
           1,
           1,
           1,
           1,
           1,
           1,
           1,
           1,
           1,
           1,
           1,
           1,
           1,
           1,
           1,
           1,
           -1,
           1,
           1
          ],
          "colorscale": [
           [
            0,
            "rgb(255,255,204)"
           ],
           [
            0.125,
            "rgb(255,237,160)"
           ],
           [
            0.25,
            "rgb(254,217,118)"
           ],
           [
            0.375,
            "rgb(254,178,76)"
           ],
           [
            0.5,
            "rgb(253,141,60)"
           ],
           [
            0.625,
            "rgb(252,78,42)"
           ],
           [
            0.75,
            "rgb(227,26,28)"
           ],
           [
            0.875,
            "rgb(189,0,38)"
           ],
           [
            1,
            "rgb(128,0,38)"
           ]
          ],
          "line": {
           "color": "black",
           "width": 0.5
          },
          "showscale": false,
          "size": 5
         },
         "mode": "markers",
         "name": "[-1]",
         "opacity": 0.85,
         "scene": "scene",
         "type": "scatter3d",
         "x": [
          -0.08918355178765881,
          0.06846954955605372,
          0.13448734762071282,
          0.11819384542770653,
          0.05980371741364595,
          0.10816117510221489,
          0.19466715006192142,
          -0.2574422977329749,
          -0.21435646816718706,
          -0.005230987336226238,
          0.1025003836422325,
          -0.04967031001757647,
          -0.005016847991106795,
          0.0655985990337101,
          -0.016498516684313964,
          0.02378746867102317,
          0.028690892705476135,
          -0.02494540322024607,
          0.17115168955406693,
          0.07693796295723036,
          -0.06938575051881749,
          -0.10184810091363974,
          -0.18254464226144212,
          0.0665460242313343,
          0.08259182673020322,
          0.025247659123797426,
          -0.008293407520251966,
          -0.18754308841791315,
          -0.12227999014692441,
          -0.06946097766338846,
          0.21181622419470725,
          0.14096041207590582,
          0.01772383640751306,
          0.06481572076040076,
          0.12337128024904255,
          -0.020338701889247787,
          0.04035613439455281,
          0.016976274655669348,
          -0.012839907490866413,
          0.03839951163137532,
          0.060120313000070175,
          -0.06025558619580762,
          -0.12420843329346005,
          0.06874456328254948,
          0.09484597645323413,
          -0.010522265219323377,
          -0.09101072044252388,
          0.06243855455014496,
          0.08265815519853872,
          0.09473428434819545,
          -0.03866448431775625,
          -0.050358406844300846,
          0.03587226868580301,
          0.08773001484347914,
          0.17030072670234495,
          0.16664629026691483,
          -0.08331298324761237,
          0.13538035466547746,
          -0.0711518989654735,
          -0.21730189296850064,
          -0.07011255197958507,
          -0.17813588880808887,
          -0.013791344502579446,
          -0.046051467189010944,
          -0.18435454122384226,
          -0.13100261753558387,
          -0.09907201438510713,
          -0.17574606548785138,
          -0.10622282909548693,
          0.015015440729744279,
          -0.0973047216651212,
          -0.09938432429691393,
          0.12446326655808121,
          0.15649570604986646,
          0.12361816998472012,
          -0.0754747840959487
         ],
         "y": [
          0.09175078320306763,
          0.08129934184719657,
          0.14078347628064763,
          0.1122856774316567,
          -0.05688954414766619,
          0.11915704076409847,
          -0.061212976130724656,
          0.04031238127971278,
          0.057749756607718375,
          -0.06862257674118176,
          -0.03297526219169025,
          -0.08340728517017217,
          -0.027966507517742125,
          0.22461022358402702,
          -0.0706555495276861,
          -0.050702553312651964,
          0.09868992446150912,
          0.01226851581954673,
          -0.08189635175239693,
          -0.07859795560502685,
          -0.016687157587654055,
          -0.00010188871275305673,
          0.01988933365286126,
          -0.014229764700351831,
          -0.10505109664885269,
          -0.13191425937220247,
          -0.08251241947712222,
          0.03735321803100679,
          0.07423159917680246,
          -0.035708595552943256,
          0.060491577316500275,
          -0.024525141435679305,
          -0.11714449598539502,
          -0.01909000558318614,
          -0.0928762759868856,
          -0.0869484135441756,
          0.14213788072179329,
          -0.020880711503672506,
          -0.13094078291397113,
          -0.10429750877457855,
          0.08952193079615232,
          -0.03335330636070255,
          0.018634852736587573,
          -0.006605753855655572,
          -0.059684999725601234,
          -0.11012940589955,
          -0.04838748021750641,
          -0.05063151761505767,
          -0.041819933601788636,
          -0.017392200397837374,
          -0.05901745002862603,
          -0.08583731145985395,
          -0.03778595474605778,
          0.07399083555729681,
          0.10827983916610476,
          0.1157425144541338,
          0.03813161347687125,
          -0.060355757670705355,
          -0.09247374346220019,
          0.08650687837938276,
          -0.03150216681715129,
          0.009543165883456235,
          -0.11553369359048775,
          -0.07546914614848368,
          -0.05495619530417859,
          0.052726710240374244,
          0.1461153180549394,
          -0.0044336496903248515,
          0.07719531423509964,
          0.16466511310855034,
          0.03464541556477931,
          -0.08350579351467484,
          0.09171484855687394,
          0.09157318272586314,
          -0.02301636029620255,
          0.17572863716439627
         ],
         "z": [
          -0.0010936939038816513,
          -0.09434155745285244,
          -0.06265062386715882,
          -0.042452710788697993,
          -0.012372222826945261,
          0.03642447855215975,
          0.2362382622150996,
          0.06038973817154591,
          -0.0026749754326747736,
          -0.03872112337426387,
          -0.08406892230135377,
          0.021583405090472546,
          -0.059530982973108854,
          -0.024766630973030966,
          -0.016477454981529246,
          0.10848838513862617,
          -0.004421721549656963,
          0.009118764280078578,
          0.18880711508060496,
          -0.058061374033823145,
          -0.0037397144289185616,
          -0.005792785239114988,
          0.04512738234775509,
          -0.033723902587799864,
          -0.055608140090012526,
          0.02062944734303496,
          0.0021777522204057243,
          0.014118478754734463,
          -0.0028877384939271365,
          0.00857192858044032,
          0.11441692050946654,
          0.05632224068177879,
          -0.022006510076522236,
          -0.03224664687663023,
          -0.04865037108491638,
          0.02629188015475709,
          -0.006967110856238155,
          0.000488332429561057,
          0.02064205205997833,
          -0.007240654042456327,
          -0.04209249616538177,
          0.03749104109660239,
          0.010641123728255136,
          -0.08876986791649924,
          -0.06402434591174093,
          -0.01742425165104622,
          -0.010371559731553879,
          -0.042579175232705276,
          -0.07615109021619774,
          -0.07928855806237446,
          -0.041146641690969085,
          0.008215599118349024,
          -0.08483884522265323,
          0.10846577440592349,
          0.13100917583925523,
          0.14133267032428212,
          -0.023684016602404573,
          -0.03224120510916664,
          0.03638179134495725,
          0.033519938334030025,
          -0.020332243847651275,
          0.022240199483056357,
          -0.02939471818110402,
          -0.0063353771571566546,
          0.06312757286163649,
          -0.0010577859173309626,
          -0.016354017130174796,
          0.04121573602728129,
          -0.03446178915202888,
          -0.047223268418625584,
          -0.02497319499087116,
          0.055194724933220175,
          -0.05981924787515298,
          -0.06289120520248334,
          -0.06736959477269694,
          0.03465015328613525
         ]
        },
        {
         "hovertext": [
          "LQ-01-61-01_pos.mzXML",
          "LQ-01-61-02_pos.mzXML",
          "LQ-01-61-03_pos.mzXML",
          "LQ-01-61-04_pos.mzXML",
          "LQ-01-61-05_pos.mzXML",
          "LQ-01-61-06_pos.mzXML",
          "LQ-01-61-07_pos.mzXML",
          "LQ-01-61-08_pos.mzXML",
          "LQ-01-61-09_pos.mzXML",
          "LQ-01-61-10_pos.mzXML",
          "LQ-01-61-11_pos.mzXML",
          "LQ-01-61-12_pos.mzXML",
          "LQ-01-61-13_pos.mzXML",
          "LQ-01-61-14_pos.mzXML",
          "LQ-01-61-15_pos.mzXML",
          "LQ-01-61-16_pos.mzXML",
          "LQ-01-61-17_pos.mzXML",
          "LQ-01-61-18_pos.mzXML",
          "LQ-01-61-19_pos.mzXML",
          "LQ-01-61-20_pos.mzXML",
          "LQ-01-61-21_pos.mzXML",
          "LQ-01-61-22_pos.mzXML",
          "LQ-01-61-23_pos.mzXML",
          "LQ-01-61-24_pos.mzXML",
          "LQ-01-61-25_pos.mzXML",
          "LQ-01-61-26_pos.mzXML",
          "LQ-01-61-27_pos.mzXML",
          "LQ-01-61-28_pos.mzXML",
          "LQ-01-61-29_pos.mzXML",
          "LQ-01-61-30_pos.mzXML",
          "LQ-01-61-31_pos.mzXML",
          "LQ-01-61-32_pos.mzXML",
          "LQ-01-61-33_pos.mzXML",
          "LQ-01-61-34_pos.mzXML",
          "LQ-01-61-35_pos.mzXML",
          "LQ-01-61-36_pos.mzXML",
          "LQ-01-61-37_pos.mzXML",
          "LQ-01-61-38_pos.mzXML",
          "LQ-01-61-39_pos.mzXML",
          "LQ-01-61-40_pos.mzXML",
          "LQ-01-61-41_pos.mzXML",
          "LQ-01-61-42_pos.mzXML",
          "LQ-01-61-43_pos.mzXML",
          "LQ-01-61-44_pos.mzXML",
          "LQ-01-61-45_pos.mzXML",
          "LQ-01-61-46_pos.mzXML",
          "LQ-01-61-47_pos.mzXML",
          "LQ-01-61-48_pos.mzXML",
          "LQ-01-61-49_pos.mzXML",
          "LQ-01-61-50_pos.mzXML",
          "LQ-01-61-51_pos.mzXML",
          "LQ-01-61-52_pos.mzXML",
          "LQ-01-61-53_pos.mzXML",
          "LQ-01-61-54_pos.mzXML",
          "LQ-01-61-55_pos.mzXML",
          "LQ-01-61-56_pos.mzXML",
          "LQ-01-61-57_pos.mzXML",
          "LQ-01-61-58_pos.mzXML",
          "LQ-01-61-59_pos.mzXML",
          "LQ-01-61-60_pos.mzXML",
          "LQ-01-61-61_pos.mzXML",
          "LQ-01-61-62_pos.mzXML",
          "LQ-01-61-63_pos.mzXML",
          "LQ-01-61-64_pos.mzXML",
          "LQ-01-61-65_pos.mzXML",
          "LQ-01-61-66_pos.mzXML",
          "LQ-01-61-67_pos.mzXML",
          "LQ-01-61-68_pos.mzXML",
          "LQ-01-61-69_pos.mzXML",
          "LQ-01-61-70_pos.mzXML",
          "LQ-01-61-71_pos.mzXML",
          "LQ-01-61-72_pos.mzXML",
          "LQ-01-61-73_pos.mzXML",
          "LQ-01-61-74_pos.mzXML",
          "LQ-01-61-75_pos.mzXML",
          "LQ-01-61-78_pos.mzXML"
         ],
         "marker": {
          "color": [
           1,
           1,
           1,
           1,
           1,
           1,
           -1,
           1,
           1,
           1,
           1,
           1,
           1,
           1,
           1,
           1,
           1,
           1,
           -1,
           1,
           1,
           -1,
           -1,
           1,
           1,
           1,
           1,
           1,
           1,
           1,
           1,
           1,
           1,
           1,
           1,
           1,
           1,
           1,
           1,
           1,
           -1,
           1,
           1,
           1,
           1,
           1,
           -1,
           1,
           1,
           1,
           1,
           1,
           1,
           -1,
           -1,
           -1,
           1,
           1,
           1,
           -1,
           1,
           1,
           1,
           1,
           1,
           1,
           1,
           1,
           1,
           1,
           1,
           -1,
           1,
           1,
           1,
           -1
          ],
          "colorscale": [
           [
            0,
            "rgb(255,255,204)"
           ],
           [
            0.125,
            "rgb(255,237,160)"
           ],
           [
            0.25,
            "rgb(254,217,118)"
           ],
           [
            0.375,
            "rgb(254,178,76)"
           ],
           [
            0.5,
            "rgb(253,141,60)"
           ],
           [
            0.625,
            "rgb(252,78,42)"
           ],
           [
            0.75,
            "rgb(227,26,28)"
           ],
           [
            0.875,
            "rgb(189,0,38)"
           ],
           [
            1,
            "rgb(128,0,38)"
           ]
          ],
          "line": {
           "color": "black",
           "width": 0.5
          },
          "showscale": false,
          "size": 5
         },
         "mode": "markers",
         "opacity": 0.85,
         "scene": "scene2",
         "showlegend": false,
         "type": "scatter3d",
         "x": [
          -0.08918355178765881,
          0.06846954955605372,
          0.13448734762071282,
          0.11819384542770653,
          0.05980371741364595,
          0.10816117510221489,
          0.19466715006192142,
          -0.2574422977329749,
          -0.21435646816718706,
          -0.005230987336226238,
          0.1025003836422325,
          -0.04967031001757647,
          -0.005016847991106795,
          0.0655985990337101,
          -0.016498516684313964,
          0.02378746867102317,
          0.028690892705476135,
          -0.02494540322024607,
          0.17115168955406693,
          0.07693796295723036,
          -0.06938575051881749,
          -0.10184810091363974,
          -0.18254464226144212,
          0.0665460242313343,
          0.08259182673020322,
          0.025247659123797426,
          -0.008293407520251966,
          -0.18754308841791315,
          -0.12227999014692441,
          -0.06946097766338846,
          0.21181622419470725,
          0.14096041207590582,
          0.01772383640751306,
          0.06481572076040076,
          0.12337128024904255,
          -0.020338701889247787,
          0.04035613439455281,
          0.016976274655669348,
          -0.012839907490866413,
          0.03839951163137532,
          0.060120313000070175,
          -0.06025558619580762,
          -0.12420843329346005,
          0.06874456328254948,
          0.09484597645323413,
          -0.010522265219323377,
          -0.09101072044252388,
          0.06243855455014496,
          0.08265815519853872,
          0.09473428434819545,
          -0.03866448431775625,
          -0.050358406844300846,
          0.03587226868580301,
          0.08773001484347914,
          0.17030072670234495,
          0.16664629026691483,
          -0.08331298324761237,
          0.13538035466547746,
          -0.0711518989654735,
          -0.21730189296850064,
          -0.07011255197958507,
          -0.17813588880808887,
          -0.013791344502579446,
          -0.046051467189010944,
          -0.18435454122384226,
          -0.13100261753558387,
          -0.09907201438510713,
          -0.17574606548785138,
          -0.10622282909548693,
          0.015015440729744279,
          -0.0973047216651212,
          -0.09938432429691393,
          0.12446326655808121,
          0.15649570604986646,
          0.12361816998472012,
          -0.0754747840959487
         ],
         "y": [
          0.09175078320306763,
          0.08129934184719657,
          0.14078347628064763,
          0.1122856774316567,
          -0.05688954414766619,
          0.11915704076409847,
          -0.061212976130724656,
          0.04031238127971278,
          0.057749756607718375,
          -0.06862257674118176,
          -0.03297526219169025,
          -0.08340728517017217,
          -0.027966507517742125,
          0.22461022358402702,
          -0.0706555495276861,
          -0.050702553312651964,
          0.09868992446150912,
          0.01226851581954673,
          -0.08189635175239693,
          -0.07859795560502685,
          -0.016687157587654055,
          -0.00010188871275305673,
          0.01988933365286126,
          -0.014229764700351831,
          -0.10505109664885269,
          -0.13191425937220247,
          -0.08251241947712222,
          0.03735321803100679,
          0.07423159917680246,
          -0.035708595552943256,
          0.060491577316500275,
          -0.024525141435679305,
          -0.11714449598539502,
          -0.01909000558318614,
          -0.0928762759868856,
          -0.0869484135441756,
          0.14213788072179329,
          -0.020880711503672506,
          -0.13094078291397113,
          -0.10429750877457855,
          0.08952193079615232,
          -0.03335330636070255,
          0.018634852736587573,
          -0.006605753855655572,
          -0.059684999725601234,
          -0.11012940589955,
          -0.04838748021750641,
          -0.05063151761505767,
          -0.041819933601788636,
          -0.017392200397837374,
          -0.05901745002862603,
          -0.08583731145985395,
          -0.03778595474605778,
          0.07399083555729681,
          0.10827983916610476,
          0.1157425144541338,
          0.03813161347687125,
          -0.060355757670705355,
          -0.09247374346220019,
          0.08650687837938276,
          -0.03150216681715129,
          0.009543165883456235,
          -0.11553369359048775,
          -0.07546914614848368,
          -0.05495619530417859,
          0.052726710240374244,
          0.1461153180549394,
          -0.0044336496903248515,
          0.07719531423509964,
          0.16466511310855034,
          0.03464541556477931,
          -0.08350579351467484,
          0.09171484855687394,
          0.09157318272586314,
          -0.02301636029620255,
          0.17572863716439627
         ],
         "z": [
          -0.0010936939038816513,
          -0.09434155745285244,
          -0.06265062386715882,
          -0.042452710788697993,
          -0.012372222826945261,
          0.03642447855215975,
          0.2362382622150996,
          0.06038973817154591,
          -0.0026749754326747736,
          -0.03872112337426387,
          -0.08406892230135377,
          0.021583405090472546,
          -0.059530982973108854,
          -0.024766630973030966,
          -0.016477454981529246,
          0.10848838513862617,
          -0.004421721549656963,
          0.009118764280078578,
          0.18880711508060496,
          -0.058061374033823145,
          -0.0037397144289185616,
          -0.005792785239114988,
          0.04512738234775509,
          -0.033723902587799864,
          -0.055608140090012526,
          0.02062944734303496,
          0.0021777522204057243,
          0.014118478754734463,
          -0.0028877384939271365,
          0.00857192858044032,
          0.11441692050946654,
          0.05632224068177879,
          -0.022006510076522236,
          -0.03224664687663023,
          -0.04865037108491638,
          0.02629188015475709,
          -0.006967110856238155,
          0.000488332429561057,
          0.02064205205997833,
          -0.007240654042456327,
          -0.04209249616538177,
          0.03749104109660239,
          0.010641123728255136,
          -0.08876986791649924,
          -0.06402434591174093,
          -0.01742425165104622,
          -0.010371559731553879,
          -0.042579175232705276,
          -0.07615109021619774,
          -0.07928855806237446,
          -0.041146641690969085,
          0.008215599118349024,
          -0.08483884522265323,
          0.10846577440592349,
          0.13100917583925523,
          0.14133267032428212,
          -0.023684016602404573,
          -0.03224120510916664,
          0.03638179134495725,
          0.033519938334030025,
          -0.020332243847651275,
          0.022240199483056357,
          -0.02939471818110402,
          -0.0063353771571566546,
          0.06312757286163649,
          -0.0010577859173309626,
          -0.016354017130174796,
          0.04121573602728129,
          -0.03446178915202888,
          -0.047223268418625584,
          -0.02497319499087116,
          0.055194724933220175,
          -0.05981924787515298,
          -0.06289120520248334,
          -0.06736959477269694,
          0.03465015328613525
         ]
        },
        {
         "hovertext": [
          "LQ-01-61-01_pos.mzXML",
          "LQ-01-61-02_pos.mzXML",
          "LQ-01-61-03_pos.mzXML",
          "LQ-01-61-04_pos.mzXML",
          "LQ-01-61-05_pos.mzXML",
          "LQ-01-61-06_pos.mzXML",
          "LQ-01-61-07_pos.mzXML",
          "LQ-01-61-08_pos.mzXML",
          "LQ-01-61-09_pos.mzXML",
          "LQ-01-61-10_pos.mzXML",
          "LQ-01-61-11_pos.mzXML",
          "LQ-01-61-12_pos.mzXML",
          "LQ-01-61-13_pos.mzXML",
          "LQ-01-61-14_pos.mzXML",
          "LQ-01-61-15_pos.mzXML",
          "LQ-01-61-16_pos.mzXML",
          "LQ-01-61-17_pos.mzXML",
          "LQ-01-61-18_pos.mzXML",
          "LQ-01-61-19_pos.mzXML",
          "LQ-01-61-20_pos.mzXML",
          "LQ-01-61-21_pos.mzXML",
          "LQ-01-61-22_pos.mzXML",
          "LQ-01-61-23_pos.mzXML",
          "LQ-01-61-24_pos.mzXML",
          "LQ-01-61-25_pos.mzXML",
          "LQ-01-61-26_pos.mzXML",
          "LQ-01-61-27_pos.mzXML",
          "LQ-01-61-28_pos.mzXML",
          "LQ-01-61-29_pos.mzXML",
          "LQ-01-61-30_pos.mzXML",
          "LQ-01-61-31_pos.mzXML",
          "LQ-01-61-32_pos.mzXML",
          "LQ-01-61-33_pos.mzXML",
          "LQ-01-61-34_pos.mzXML",
          "LQ-01-61-35_pos.mzXML",
          "LQ-01-61-36_pos.mzXML",
          "LQ-01-61-37_pos.mzXML",
          "LQ-01-61-38_pos.mzXML",
          "LQ-01-61-39_pos.mzXML",
          "LQ-01-61-40_pos.mzXML",
          "LQ-01-61-41_pos.mzXML",
          "LQ-01-61-42_pos.mzXML",
          "LQ-01-61-43_pos.mzXML",
          "LQ-01-61-44_pos.mzXML",
          "LQ-01-61-45_pos.mzXML",
          "LQ-01-61-46_pos.mzXML",
          "LQ-01-61-47_pos.mzXML",
          "LQ-01-61-48_pos.mzXML",
          "LQ-01-61-49_pos.mzXML",
          "LQ-01-61-50_pos.mzXML",
          "LQ-01-61-51_pos.mzXML",
          "LQ-01-61-52_pos.mzXML",
          "LQ-01-61-53_pos.mzXML",
          "LQ-01-61-54_pos.mzXML",
          "LQ-01-61-55_pos.mzXML",
          "LQ-01-61-56_pos.mzXML",
          "LQ-01-61-57_pos.mzXML",
          "LQ-01-61-58_pos.mzXML",
          "LQ-01-61-59_pos.mzXML",
          "LQ-01-61-60_pos.mzXML",
          "LQ-01-61-61_pos.mzXML",
          "LQ-01-61-62_pos.mzXML",
          "LQ-01-61-63_pos.mzXML",
          "LQ-01-61-64_pos.mzXML",
          "LQ-01-61-65_pos.mzXML",
          "LQ-01-61-66_pos.mzXML",
          "LQ-01-61-67_pos.mzXML",
          "LQ-01-61-68_pos.mzXML",
          "LQ-01-61-69_pos.mzXML",
          "LQ-01-61-70_pos.mzXML",
          "LQ-01-61-71_pos.mzXML",
          "LQ-01-61-72_pos.mzXML",
          "LQ-01-61-73_pos.mzXML",
          "LQ-01-61-74_pos.mzXML",
          "LQ-01-61-75_pos.mzXML",
          "LQ-01-61-78_pos.mzXML"
         ],
         "legendgrouptitle": {
          "text": "Anomaly"
         },
         "marker": {
          "color": [
           1,
           1,
           1,
           1,
           1,
           1,
           -1,
           1,
           1,
           1,
           1,
           1,
           1,
           1,
           1,
           1,
           1,
           1,
           1,
           1,
           1,
           1,
           1,
           1,
           1,
           1,
           1,
           1,
           1,
           1,
           1,
           1,
           1,
           1,
           1,
           1,
           1,
           1,
           1,
           1,
           1,
           1,
           1,
           1,
           1,
           1,
           1,
           1,
           1,
           1,
           1,
           1,
           1,
           1,
           -1,
           1,
           1,
           1,
           1,
           -1,
           1,
           1,
           1,
           1,
           1,
           1,
           1,
           1,
           1,
           1,
           1,
           1,
           1,
           1,
           1,
           -1
          ],
          "colorscale": [
           [
            0,
            "rgb(255,255,204)"
           ],
           [
            0.125,
            "rgb(255,237,160)"
           ],
           [
            0.25,
            "rgb(254,217,118)"
           ],
           [
            0.375,
            "rgb(254,178,76)"
           ],
           [
            0.5,
            "rgb(253,141,60)"
           ],
           [
            0.625,
            "rgb(252,78,42)"
           ],
           [
            0.75,
            "rgb(227,26,28)"
           ],
           [
            0.875,
            "rgb(189,0,38)"
           ],
           [
            1,
            "rgb(128,0,38)"
           ]
          ],
          "line": {
           "color": "black",
           "width": 0.5
          },
          "showscale": false,
          "size": 5
         },
         "mode": "markers",
         "opacity": 0.85,
         "scene": "scene3",
         "showlegend": false,
         "type": "scatter3d",
         "x": [
          -0.08918355178765881,
          0.06846954955605372,
          0.13448734762071282,
          0.11819384542770653,
          0.05980371741364595,
          0.10816117510221489,
          0.19466715006192142,
          -0.2574422977329749,
          -0.21435646816718706,
          -0.005230987336226238,
          0.1025003836422325,
          -0.04967031001757647,
          -0.005016847991106795,
          0.0655985990337101,
          -0.016498516684313964,
          0.02378746867102317,
          0.028690892705476135,
          -0.02494540322024607,
          0.17115168955406693,
          0.07693796295723036,
          -0.06938575051881749,
          -0.10184810091363974,
          -0.18254464226144212,
          0.0665460242313343,
          0.08259182673020322,
          0.025247659123797426,
          -0.008293407520251966,
          -0.18754308841791315,
          -0.12227999014692441,
          -0.06946097766338846,
          0.21181622419470725,
          0.14096041207590582,
          0.01772383640751306,
          0.06481572076040076,
          0.12337128024904255,
          -0.020338701889247787,
          0.04035613439455281,
          0.016976274655669348,
          -0.012839907490866413,
          0.03839951163137532,
          0.060120313000070175,
          -0.06025558619580762,
          -0.12420843329346005,
          0.06874456328254948,
          0.09484597645323413,
          -0.010522265219323377,
          -0.09101072044252388,
          0.06243855455014496,
          0.08265815519853872,
          0.09473428434819545,
          -0.03866448431775625,
          -0.050358406844300846,
          0.03587226868580301,
          0.08773001484347914,
          0.17030072670234495,
          0.16664629026691483,
          -0.08331298324761237,
          0.13538035466547746,
          -0.0711518989654735,
          -0.21730189296850064,
          -0.07011255197958507,
          -0.17813588880808887,
          -0.013791344502579446,
          -0.046051467189010944,
          -0.18435454122384226,
          -0.13100261753558387,
          -0.09907201438510713,
          -0.17574606548785138,
          -0.10622282909548693,
          0.015015440729744279,
          -0.0973047216651212,
          -0.09938432429691393,
          0.12446326655808121,
          0.15649570604986646,
          0.12361816998472012,
          -0.0754747840959487
         ],
         "y": [
          0.09175078320306763,
          0.08129934184719657,
          0.14078347628064763,
          0.1122856774316567,
          -0.05688954414766619,
          0.11915704076409847,
          -0.061212976130724656,
          0.04031238127971278,
          0.057749756607718375,
          -0.06862257674118176,
          -0.03297526219169025,
          -0.08340728517017217,
          -0.027966507517742125,
          0.22461022358402702,
          -0.0706555495276861,
          -0.050702553312651964,
          0.09868992446150912,
          0.01226851581954673,
          -0.08189635175239693,
          -0.07859795560502685,
          -0.016687157587654055,
          -0.00010188871275305673,
          0.01988933365286126,
          -0.014229764700351831,
          -0.10505109664885269,
          -0.13191425937220247,
          -0.08251241947712222,
          0.03735321803100679,
          0.07423159917680246,
          -0.035708595552943256,
          0.060491577316500275,
          -0.024525141435679305,
          -0.11714449598539502,
          -0.01909000558318614,
          -0.0928762759868856,
          -0.0869484135441756,
          0.14213788072179329,
          -0.020880711503672506,
          -0.13094078291397113,
          -0.10429750877457855,
          0.08952193079615232,
          -0.03335330636070255,
          0.018634852736587573,
          -0.006605753855655572,
          -0.059684999725601234,
          -0.11012940589955,
          -0.04838748021750641,
          -0.05063151761505767,
          -0.041819933601788636,
          -0.017392200397837374,
          -0.05901745002862603,
          -0.08583731145985395,
          -0.03778595474605778,
          0.07399083555729681,
          0.10827983916610476,
          0.1157425144541338,
          0.03813161347687125,
          -0.060355757670705355,
          -0.09247374346220019,
          0.08650687837938276,
          -0.03150216681715129,
          0.009543165883456235,
          -0.11553369359048775,
          -0.07546914614848368,
          -0.05495619530417859,
          0.052726710240374244,
          0.1461153180549394,
          -0.0044336496903248515,
          0.07719531423509964,
          0.16466511310855034,
          0.03464541556477931,
          -0.08350579351467484,
          0.09171484855687394,
          0.09157318272586314,
          -0.02301636029620255,
          0.17572863716439627
         ],
         "z": [
          -0.0010936939038816513,
          -0.09434155745285244,
          -0.06265062386715882,
          -0.042452710788697993,
          -0.012372222826945261,
          0.03642447855215975,
          0.2362382622150996,
          0.06038973817154591,
          -0.0026749754326747736,
          -0.03872112337426387,
          -0.08406892230135377,
          0.021583405090472546,
          -0.059530982973108854,
          -0.024766630973030966,
          -0.016477454981529246,
          0.10848838513862617,
          -0.004421721549656963,
          0.009118764280078578,
          0.18880711508060496,
          -0.058061374033823145,
          -0.0037397144289185616,
          -0.005792785239114988,
          0.04512738234775509,
          -0.033723902587799864,
          -0.055608140090012526,
          0.02062944734303496,
          0.0021777522204057243,
          0.014118478754734463,
          -0.0028877384939271365,
          0.00857192858044032,
          0.11441692050946654,
          0.05632224068177879,
          -0.022006510076522236,
          -0.03224664687663023,
          -0.04865037108491638,
          0.02629188015475709,
          -0.006967110856238155,
          0.000488332429561057,
          0.02064205205997833,
          -0.007240654042456327,
          -0.04209249616538177,
          0.03749104109660239,
          0.010641123728255136,
          -0.08876986791649924,
          -0.06402434591174093,
          -0.01742425165104622,
          -0.010371559731553879,
          -0.042579175232705276,
          -0.07615109021619774,
          -0.07928855806237446,
          -0.041146641690969085,
          0.008215599118349024,
          -0.08483884522265323,
          0.10846577440592349,
          0.13100917583925523,
          0.14133267032428212,
          -0.023684016602404573,
          -0.03224120510916664,
          0.03638179134495725,
          0.033519938334030025,
          -0.020332243847651275,
          0.022240199483056357,
          -0.02939471818110402,
          -0.0063353771571566546,
          0.06312757286163649,
          -0.0010577859173309626,
          -0.016354017130174796,
          0.04121573602728129,
          -0.03446178915202888,
          -0.047223268418625584,
          -0.02497319499087116,
          0.055194724933220175,
          -0.05981924787515298,
          -0.06289120520248334,
          -0.06736959477269694,
          0.03465015328613525
         ]
        }
       ],
       "layout": {
        "annotations": [
         {
          "font": {
           "size": 20
          },
          "showarrow": false,
          "text": "PCoA MEMO aligned (IF)",
          "x": 0.14444444444444446,
          "xanchor": "center",
          "xref": "paper",
          "y": 1,
          "yanchor": "bottom",
          "yref": "paper"
         },
         {
          "font": {
           "size": 20
          },
          "showarrow": false,
          "text": "PCoA MEMO aligned (LOF)",
          "x": 0.5,
          "xanchor": "center",
          "xref": "paper",
          "y": 1,
          "yanchor": "bottom",
          "yref": "paper"
         },
         {
          "font": {
           "size": 20
          },
          "showarrow": false,
          "text": "PCoA MEMO aligned (OCSVM)",
          "x": 0.8555555555555556,
          "xanchor": "center",
          "xref": "paper",
          "y": 1,
          "yanchor": "bottom",
          "yref": "paper"
         }
        ],
        "font": {
         "color": "black",
         "family": "Times New Roman",
         "size": 16
        },
        "height": 600,
        "legend": {
         "bordercolor": "Black",
         "borderwidth": 1,
         "orientation": "h",
         "x": 0,
         "y": -0.15
        },
        "scene": {
         "domain": {
          "x": [
           0,
           0.2888888888888889
          ],
          "y": [
           0,
           1
          ]
         },
         "xaxis": {
          "title": {
           "text": "PC1 (25.5 %)"
          }
         },
         "yaxis": {
          "title": {
           "text": "PC2 (14.9 %)"
          }
         },
         "zaxis": {
          "title": {
           "text": "PC2 (14.9 %)"
          }
         }
        },
        "scene2": {
         "domain": {
          "x": [
           0.35555555555555557,
           0.6444444444444445
          ],
          "y": [
           0,
           1
          ]
         },
         "xaxis": {
          "title": {
           "text": "PC1 (25.5 %)"
          }
         },
         "yaxis": {
          "title": {
           "text": "PC2 (14.9 %)"
          }
         },
         "zaxis": {
          "title": {
           "text": "PC2 (14.9 %)"
          }
         }
        },
        "scene3": {
         "domain": {
          "x": [
           0.7111111111111111,
           1
          ],
          "y": [
           0,
           1
          ]
         },
         "xaxis": {
          "title": {
           "text": "PC1 (25.5 %)"
          }
         },
         "yaxis": {
          "title": {
           "text": "PC2 (14.9 %)"
          }
         },
         "zaxis": {
          "title": {
           "text": "PC2 (14.9 %)"
          }
         }
        },
        "template": {
         "data": {
          "bar": [
           {
            "error_x": {
             "color": "rgb(36,36,36)"
            },
            "error_y": {
             "color": "rgb(36,36,36)"
            },
            "marker": {
             "line": {
              "color": "white",
              "width": 0.5
             },
             "pattern": {
              "fillmode": "overlay",
              "size": 10,
              "solidity": 0.2
             }
            },
            "type": "bar"
           }
          ],
          "barpolar": [
           {
            "marker": {
             "line": {
              "color": "white",
              "width": 0.5
             },
             "pattern": {
              "fillmode": "overlay",
              "size": 10,
              "solidity": 0.2
             }
            },
            "type": "barpolar"
           }
          ],
          "carpet": [
           {
            "aaxis": {
             "endlinecolor": "rgb(36,36,36)",
             "gridcolor": "white",
             "linecolor": "white",
             "minorgridcolor": "white",
             "startlinecolor": "rgb(36,36,36)"
            },
            "baxis": {
             "endlinecolor": "rgb(36,36,36)",
             "gridcolor": "white",
             "linecolor": "white",
             "minorgridcolor": "white",
             "startlinecolor": "rgb(36,36,36)"
            },
            "type": "carpet"
           }
          ],
          "choropleth": [
           {
            "colorbar": {
             "outlinewidth": 1,
             "tickcolor": "rgb(36,36,36)",
             "ticks": "outside"
            },
            "type": "choropleth"
           }
          ],
          "contour": [
           {
            "colorbar": {
             "outlinewidth": 1,
             "tickcolor": "rgb(36,36,36)",
             "ticks": "outside"
            },
            "colorscale": [
             [
              0,
              "#440154"
             ],
             [
              0.1111111111111111,
              "#482878"
             ],
             [
              0.2222222222222222,
              "#3e4989"
             ],
             [
              0.3333333333333333,
              "#31688e"
             ],
             [
              0.4444444444444444,
              "#26828e"
             ],
             [
              0.5555555555555556,
              "#1f9e89"
             ],
             [
              0.6666666666666666,
              "#35b779"
             ],
             [
              0.7777777777777778,
              "#6ece58"
             ],
             [
              0.8888888888888888,
              "#b5de2b"
             ],
             [
              1,
              "#fde725"
             ]
            ],
            "type": "contour"
           }
          ],
          "contourcarpet": [
           {
            "colorbar": {
             "outlinewidth": 1,
             "tickcolor": "rgb(36,36,36)",
             "ticks": "outside"
            },
            "type": "contourcarpet"
           }
          ],
          "heatmap": [
           {
            "colorbar": {
             "outlinewidth": 1,
             "tickcolor": "rgb(36,36,36)",
             "ticks": "outside"
            },
            "colorscale": [
             [
              0,
              "#440154"
             ],
             [
              0.1111111111111111,
              "#482878"
             ],
             [
              0.2222222222222222,
              "#3e4989"
             ],
             [
              0.3333333333333333,
              "#31688e"
             ],
             [
              0.4444444444444444,
              "#26828e"
             ],
             [
              0.5555555555555556,
              "#1f9e89"
             ],
             [
              0.6666666666666666,
              "#35b779"
             ],
             [
              0.7777777777777778,
              "#6ece58"
             ],
             [
              0.8888888888888888,
              "#b5de2b"
             ],
             [
              1,
              "#fde725"
             ]
            ],
            "type": "heatmap"
           }
          ],
          "heatmapgl": [
           {
            "colorbar": {
             "outlinewidth": 1,
             "tickcolor": "rgb(36,36,36)",
             "ticks": "outside"
            },
            "colorscale": [
             [
              0,
              "#440154"
             ],
             [
              0.1111111111111111,
              "#482878"
             ],
             [
              0.2222222222222222,
              "#3e4989"
             ],
             [
              0.3333333333333333,
              "#31688e"
             ],
             [
              0.4444444444444444,
              "#26828e"
             ],
             [
              0.5555555555555556,
              "#1f9e89"
             ],
             [
              0.6666666666666666,
              "#35b779"
             ],
             [
              0.7777777777777778,
              "#6ece58"
             ],
             [
              0.8888888888888888,
              "#b5de2b"
             ],
             [
              1,
              "#fde725"
             ]
            ],
            "type": "heatmapgl"
           }
          ],
          "histogram": [
           {
            "marker": {
             "line": {
              "color": "white",
              "width": 0.6
             }
            },
            "type": "histogram"
           }
          ],
          "histogram2d": [
           {
            "colorbar": {
             "outlinewidth": 1,
             "tickcolor": "rgb(36,36,36)",
             "ticks": "outside"
            },
            "colorscale": [
             [
              0,
              "#440154"
             ],
             [
              0.1111111111111111,
              "#482878"
             ],
             [
              0.2222222222222222,
              "#3e4989"
             ],
             [
              0.3333333333333333,
              "#31688e"
             ],
             [
              0.4444444444444444,
              "#26828e"
             ],
             [
              0.5555555555555556,
              "#1f9e89"
             ],
             [
              0.6666666666666666,
              "#35b779"
             ],
             [
              0.7777777777777778,
              "#6ece58"
             ],
             [
              0.8888888888888888,
              "#b5de2b"
             ],
             [
              1,
              "#fde725"
             ]
            ],
            "type": "histogram2d"
           }
          ],
          "histogram2dcontour": [
           {
            "colorbar": {
             "outlinewidth": 1,
             "tickcolor": "rgb(36,36,36)",
             "ticks": "outside"
            },
            "colorscale": [
             [
              0,
              "#440154"
             ],
             [
              0.1111111111111111,
              "#482878"
             ],
             [
              0.2222222222222222,
              "#3e4989"
             ],
             [
              0.3333333333333333,
              "#31688e"
             ],
             [
              0.4444444444444444,
              "#26828e"
             ],
             [
              0.5555555555555556,
              "#1f9e89"
             ],
             [
              0.6666666666666666,
              "#35b779"
             ],
             [
              0.7777777777777778,
              "#6ece58"
             ],
             [
              0.8888888888888888,
              "#b5de2b"
             ],
             [
              1,
              "#fde725"
             ]
            ],
            "type": "histogram2dcontour"
           }
          ],
          "mesh3d": [
           {
            "colorbar": {
             "outlinewidth": 1,
             "tickcolor": "rgb(36,36,36)",
             "ticks": "outside"
            },
            "type": "mesh3d"
           }
          ],
          "parcoords": [
           {
            "line": {
             "colorbar": {
              "outlinewidth": 1,
              "tickcolor": "rgb(36,36,36)",
              "ticks": "outside"
             }
            },
            "type": "parcoords"
           }
          ],
          "pie": [
           {
            "automargin": true,
            "type": "pie"
           }
          ],
          "scatter": [
           {
            "fillpattern": {
             "fillmode": "overlay",
             "size": 10,
             "solidity": 0.2
            },
            "type": "scatter"
           }
          ],
          "scatter3d": [
           {
            "line": {
             "colorbar": {
              "outlinewidth": 1,
              "tickcolor": "rgb(36,36,36)",
              "ticks": "outside"
             }
            },
            "marker": {
             "colorbar": {
              "outlinewidth": 1,
              "tickcolor": "rgb(36,36,36)",
              "ticks": "outside"
             }
            },
            "type": "scatter3d"
           }
          ],
          "scattercarpet": [
           {
            "marker": {
             "colorbar": {
              "outlinewidth": 1,
              "tickcolor": "rgb(36,36,36)",
              "ticks": "outside"
             }
            },
            "type": "scattercarpet"
           }
          ],
          "scattergeo": [
           {
            "marker": {
             "colorbar": {
              "outlinewidth": 1,
              "tickcolor": "rgb(36,36,36)",
              "ticks": "outside"
             }
            },
            "type": "scattergeo"
           }
          ],
          "scattergl": [
           {
            "marker": {
             "colorbar": {
              "outlinewidth": 1,
              "tickcolor": "rgb(36,36,36)",
              "ticks": "outside"
             }
            },
            "type": "scattergl"
           }
          ],
          "scattermapbox": [
           {
            "marker": {
             "colorbar": {
              "outlinewidth": 1,
              "tickcolor": "rgb(36,36,36)",
              "ticks": "outside"
             }
            },
            "type": "scattermapbox"
           }
          ],
          "scatterpolar": [
           {
            "marker": {
             "colorbar": {
              "outlinewidth": 1,
              "tickcolor": "rgb(36,36,36)",
              "ticks": "outside"
             }
            },
            "type": "scatterpolar"
           }
          ],
          "scatterpolargl": [
           {
            "marker": {
             "colorbar": {
              "outlinewidth": 1,
              "tickcolor": "rgb(36,36,36)",
              "ticks": "outside"
             }
            },
            "type": "scatterpolargl"
           }
          ],
          "scatterternary": [
           {
            "marker": {
             "colorbar": {
              "outlinewidth": 1,
              "tickcolor": "rgb(36,36,36)",
              "ticks": "outside"
             }
            },
            "type": "scatterternary"
           }
          ],
          "surface": [
           {
            "colorbar": {
             "outlinewidth": 1,
             "tickcolor": "rgb(36,36,36)",
             "ticks": "outside"
            },
            "colorscale": [
             [
              0,
              "#440154"
             ],
             [
              0.1111111111111111,
              "#482878"
             ],
             [
              0.2222222222222222,
              "#3e4989"
             ],
             [
              0.3333333333333333,
              "#31688e"
             ],
             [
              0.4444444444444444,
              "#26828e"
             ],
             [
              0.5555555555555556,
              "#1f9e89"
             ],
             [
              0.6666666666666666,
              "#35b779"
             ],
             [
              0.7777777777777778,
              "#6ece58"
             ],
             [
              0.8888888888888888,
              "#b5de2b"
             ],
             [
              1,
              "#fde725"
             ]
            ],
            "type": "surface"
           }
          ],
          "table": [
           {
            "cells": {
             "fill": {
              "color": "rgb(237,237,237)"
             },
             "line": {
              "color": "white"
             }
            },
            "header": {
             "fill": {
              "color": "rgb(217,217,217)"
             },
             "line": {
              "color": "white"
             }
            },
            "type": "table"
           }
          ]
         },
         "layout": {
          "annotationdefaults": {
           "arrowhead": 0,
           "arrowwidth": 1
          },
          "autotypenumbers": "strict",
          "coloraxis": {
           "colorbar": {
            "outlinewidth": 1,
            "tickcolor": "rgb(36,36,36)",
            "ticks": "outside"
           }
          },
          "colorscale": {
           "diverging": [
            [
             0,
             "rgb(103,0,31)"
            ],
            [
             0.1,
             "rgb(178,24,43)"
            ],
            [
             0.2,
             "rgb(214,96,77)"
            ],
            [
             0.3,
             "rgb(244,165,130)"
            ],
            [
             0.4,
             "rgb(253,219,199)"
            ],
            [
             0.5,
             "rgb(247,247,247)"
            ],
            [
             0.6,
             "rgb(209,229,240)"
            ],
            [
             0.7,
             "rgb(146,197,222)"
            ],
            [
             0.8,
             "rgb(67,147,195)"
            ],
            [
             0.9,
             "rgb(33,102,172)"
            ],
            [
             1,
             "rgb(5,48,97)"
            ]
           ],
           "sequential": [
            [
             0,
             "#440154"
            ],
            [
             0.1111111111111111,
             "#482878"
            ],
            [
             0.2222222222222222,
             "#3e4989"
            ],
            [
             0.3333333333333333,
             "#31688e"
            ],
            [
             0.4444444444444444,
             "#26828e"
            ],
            [
             0.5555555555555556,
             "#1f9e89"
            ],
            [
             0.6666666666666666,
             "#35b779"
            ],
            [
             0.7777777777777778,
             "#6ece58"
            ],
            [
             0.8888888888888888,
             "#b5de2b"
            ],
            [
             1,
             "#fde725"
            ]
           ],
           "sequentialminus": [
            [
             0,
             "#440154"
            ],
            [
             0.1111111111111111,
             "#482878"
            ],
            [
             0.2222222222222222,
             "#3e4989"
            ],
            [
             0.3333333333333333,
             "#31688e"
            ],
            [
             0.4444444444444444,
             "#26828e"
            ],
            [
             0.5555555555555556,
             "#1f9e89"
            ],
            [
             0.6666666666666666,
             "#35b779"
            ],
            [
             0.7777777777777778,
             "#6ece58"
            ],
            [
             0.8888888888888888,
             "#b5de2b"
            ],
            [
             1,
             "#fde725"
            ]
           ]
          },
          "colorway": [
           "#1F77B4",
           "#FF7F0E",
           "#2CA02C",
           "#D62728",
           "#9467BD",
           "#8C564B",
           "#E377C2",
           "#7F7F7F",
           "#BCBD22",
           "#17BECF"
          ],
          "font": {
           "color": "rgb(36,36,36)"
          },
          "geo": {
           "bgcolor": "white",
           "lakecolor": "white",
           "landcolor": "white",
           "showlakes": true,
           "showland": true,
           "subunitcolor": "white"
          },
          "hoverlabel": {
           "align": "left"
          },
          "hovermode": "closest",
          "mapbox": {
           "style": "light"
          },
          "paper_bgcolor": "white",
          "plot_bgcolor": "white",
          "polar": {
           "angularaxis": {
            "gridcolor": "rgb(232,232,232)",
            "linecolor": "rgb(36,36,36)",
            "showgrid": false,
            "showline": true,
            "ticks": "outside"
           },
           "bgcolor": "white",
           "radialaxis": {
            "gridcolor": "rgb(232,232,232)",
            "linecolor": "rgb(36,36,36)",
            "showgrid": false,
            "showline": true,
            "ticks": "outside"
           }
          },
          "scene": {
           "xaxis": {
            "backgroundcolor": "white",
            "gridcolor": "rgb(232,232,232)",
            "gridwidth": 2,
            "linecolor": "rgb(36,36,36)",
            "showbackground": true,
            "showgrid": false,
            "showline": true,
            "ticks": "outside",
            "zeroline": false,
            "zerolinecolor": "rgb(36,36,36)"
           },
           "yaxis": {
            "backgroundcolor": "white",
            "gridcolor": "rgb(232,232,232)",
            "gridwidth": 2,
            "linecolor": "rgb(36,36,36)",
            "showbackground": true,
            "showgrid": false,
            "showline": true,
            "ticks": "outside",
            "zeroline": false,
            "zerolinecolor": "rgb(36,36,36)"
           },
           "zaxis": {
            "backgroundcolor": "white",
            "gridcolor": "rgb(232,232,232)",
            "gridwidth": 2,
            "linecolor": "rgb(36,36,36)",
            "showbackground": true,
            "showgrid": false,
            "showline": true,
            "ticks": "outside",
            "zeroline": false,
            "zerolinecolor": "rgb(36,36,36)"
           }
          },
          "shapedefaults": {
           "fillcolor": "black",
           "line": {
            "width": 0
           },
           "opacity": 0.3
          },
          "ternary": {
           "aaxis": {
            "gridcolor": "rgb(232,232,232)",
            "linecolor": "rgb(36,36,36)",
            "showgrid": false,
            "showline": true,
            "ticks": "outside"
           },
           "baxis": {
            "gridcolor": "rgb(232,232,232)",
            "linecolor": "rgb(36,36,36)",
            "showgrid": false,
            "showline": true,
            "ticks": "outside"
           },
           "bgcolor": "white",
           "caxis": {
            "gridcolor": "rgb(232,232,232)",
            "linecolor": "rgb(36,36,36)",
            "showgrid": false,
            "showline": true,
            "ticks": "outside"
           }
          },
          "title": {
           "x": 0.05
          },
          "xaxis": {
           "automargin": true,
           "gridcolor": "rgb(232,232,232)",
           "linecolor": "rgb(36,36,36)",
           "showgrid": false,
           "showline": true,
           "ticks": "outside",
           "title": {
            "standoff": 15
           },
           "zeroline": false,
           "zerolinecolor": "rgb(36,36,36)"
          },
          "yaxis": {
           "automargin": true,
           "gridcolor": "rgb(232,232,232)",
           "linecolor": "rgb(36,36,36)",
           "showgrid": false,
           "showline": true,
           "ticks": "outside",
           "title": {
            "standoff": 15
           },
           "zeroline": false,
           "zerolinecolor": "rgb(36,36,36)"
          }
         }
        },
        "title": {
         "text": "Multiple outlier detection results"
        },
        "width": 1500
       }
      },
      "text/html": [
       "<div>                            <div id=\"abb832fa-cd1e-4f2b-99ba-ce4549d157c6\" class=\"plotly-graph-div\" style=\"height:600px; width:1500px;\"></div>            <script type=\"text/javascript\">                require([\"plotly\"], function(Plotly) {                    window.PLOTLYENV=window.PLOTLYENV || {};                                    if (document.getElementById(\"abb832fa-cd1e-4f2b-99ba-ce4549d157c6\")) {                    Plotly.newPlot(                        \"abb832fa-cd1e-4f2b-99ba-ce4549d157c6\",                        [{\"hovertext\":[\"LQ-01-61-01_pos.mzXML\",\"LQ-01-61-02_pos.mzXML\",\"LQ-01-61-03_pos.mzXML\",\"LQ-01-61-04_pos.mzXML\",\"LQ-01-61-05_pos.mzXML\",\"LQ-01-61-06_pos.mzXML\",\"LQ-01-61-07_pos.mzXML\",\"LQ-01-61-08_pos.mzXML\",\"LQ-01-61-09_pos.mzXML\",\"LQ-01-61-10_pos.mzXML\",\"LQ-01-61-11_pos.mzXML\",\"LQ-01-61-12_pos.mzXML\",\"LQ-01-61-13_pos.mzXML\",\"LQ-01-61-14_pos.mzXML\",\"LQ-01-61-15_pos.mzXML\",\"LQ-01-61-16_pos.mzXML\",\"LQ-01-61-17_pos.mzXML\",\"LQ-01-61-18_pos.mzXML\",\"LQ-01-61-19_pos.mzXML\",\"LQ-01-61-20_pos.mzXML\",\"LQ-01-61-21_pos.mzXML\",\"LQ-01-61-22_pos.mzXML\",\"LQ-01-61-23_pos.mzXML\",\"LQ-01-61-24_pos.mzXML\",\"LQ-01-61-25_pos.mzXML\",\"LQ-01-61-26_pos.mzXML\",\"LQ-01-61-27_pos.mzXML\",\"LQ-01-61-28_pos.mzXML\",\"LQ-01-61-29_pos.mzXML\",\"LQ-01-61-30_pos.mzXML\",\"LQ-01-61-31_pos.mzXML\",\"LQ-01-61-32_pos.mzXML\",\"LQ-01-61-33_pos.mzXML\",\"LQ-01-61-34_pos.mzXML\",\"LQ-01-61-35_pos.mzXML\",\"LQ-01-61-36_pos.mzXML\",\"LQ-01-61-37_pos.mzXML\",\"LQ-01-61-38_pos.mzXML\",\"LQ-01-61-39_pos.mzXML\",\"LQ-01-61-40_pos.mzXML\",\"LQ-01-61-41_pos.mzXML\",\"LQ-01-61-42_pos.mzXML\",\"LQ-01-61-43_pos.mzXML\",\"LQ-01-61-44_pos.mzXML\",\"LQ-01-61-45_pos.mzXML\",\"LQ-01-61-46_pos.mzXML\",\"LQ-01-61-47_pos.mzXML\",\"LQ-01-61-48_pos.mzXML\",\"LQ-01-61-49_pos.mzXML\",\"LQ-01-61-50_pos.mzXML\",\"LQ-01-61-51_pos.mzXML\",\"LQ-01-61-52_pos.mzXML\",\"LQ-01-61-53_pos.mzXML\",\"LQ-01-61-54_pos.mzXML\",\"LQ-01-61-55_pos.mzXML\",\"LQ-01-61-56_pos.mzXML\",\"LQ-01-61-57_pos.mzXML\",\"LQ-01-61-58_pos.mzXML\",\"LQ-01-61-59_pos.mzXML\",\"LQ-01-61-60_pos.mzXML\",\"LQ-01-61-61_pos.mzXML\",\"LQ-01-61-62_pos.mzXML\",\"LQ-01-61-63_pos.mzXML\",\"LQ-01-61-64_pos.mzXML\",\"LQ-01-61-65_pos.mzXML\",\"LQ-01-61-66_pos.mzXML\",\"LQ-01-61-67_pos.mzXML\",\"LQ-01-61-68_pos.mzXML\",\"LQ-01-61-69_pos.mzXML\",\"LQ-01-61-70_pos.mzXML\",\"LQ-01-61-71_pos.mzXML\",\"LQ-01-61-72_pos.mzXML\",\"LQ-01-61-73_pos.mzXML\",\"LQ-01-61-74_pos.mzXML\",\"LQ-01-61-75_pos.mzXML\",\"LQ-01-61-78_pos.mzXML\"],\"legendgrouptitle\":{\"text\":\"Anomaly\"},\"marker\":{\"color\":[-1,-1,-1,-1,-1,-1,-1,1,1,1,1,1,1,-1,1,1,1,1,-1,1,1,1,1,1,1,1,1,1,1,1,-1,1,1,1,1,1,-1,1,1,1,1,1,1,1,1,1,1,1,1,1,1,1,1,1,1,1,1,1,1,1,1,1,1,1,1,1,1,1,1,1,1,1,1,-1,1,1],\"colorscale\":[[0.0,\"rgb(255,255,204)\"],[0.125,\"rgb(255,237,160)\"],[0.25,\"rgb(254,217,118)\"],[0.375,\"rgb(254,178,76)\"],[0.5,\"rgb(253,141,60)\"],[0.625,\"rgb(252,78,42)\"],[0.75,\"rgb(227,26,28)\"],[0.875,\"rgb(189,0,38)\"],[1.0,\"rgb(128,0,38)\"]],\"line\":{\"color\":\"black\",\"width\":0.5},\"showscale\":false,\"size\":5},\"mode\":\"markers\",\"name\":\"[-1]\",\"opacity\":0.85,\"x\":[-0.08918355178765881,0.06846954955605372,0.13448734762071282,0.11819384542770653,0.05980371741364595,0.10816117510221489,0.19466715006192142,-0.2574422977329749,-0.21435646816718706,-0.005230987336226238,0.1025003836422325,-0.04967031001757647,-0.005016847991106795,0.0655985990337101,-0.016498516684313964,0.02378746867102317,0.028690892705476135,-0.02494540322024607,0.17115168955406693,0.07693796295723036,-0.06938575051881749,-0.10184810091363974,-0.18254464226144212,0.0665460242313343,0.08259182673020322,0.025247659123797426,-0.008293407520251966,-0.18754308841791315,-0.12227999014692441,-0.06946097766338846,0.21181622419470725,0.14096041207590582,0.01772383640751306,0.06481572076040076,0.12337128024904255,-0.020338701889247787,0.04035613439455281,0.016976274655669348,-0.012839907490866413,0.03839951163137532,0.060120313000070175,-0.06025558619580762,-0.12420843329346005,0.06874456328254948,0.09484597645323413,-0.010522265219323377,-0.09101072044252388,0.06243855455014496,0.08265815519853872,0.09473428434819545,-0.03866448431775625,-0.050358406844300846,0.03587226868580301,0.08773001484347914,0.17030072670234495,0.16664629026691483,-0.08331298324761237,0.13538035466547746,-0.0711518989654735,-0.21730189296850064,-0.07011255197958507,-0.17813588880808887,-0.013791344502579446,-0.046051467189010944,-0.18435454122384226,-0.13100261753558387,-0.09907201438510713,-0.17574606548785138,-0.10622282909548693,0.015015440729744279,-0.0973047216651212,-0.09938432429691393,0.12446326655808121,0.15649570604986646,0.12361816998472012,-0.0754747840959487],\"y\":[0.09175078320306763,0.08129934184719657,0.14078347628064763,0.1122856774316567,-0.05688954414766619,0.11915704076409847,-0.061212976130724656,0.04031238127971278,0.057749756607718375,-0.06862257674118176,-0.03297526219169025,-0.08340728517017217,-0.027966507517742125,0.22461022358402702,-0.0706555495276861,-0.050702553312651964,0.09868992446150912,0.01226851581954673,-0.08189635175239693,-0.07859795560502685,-0.016687157587654055,-0.00010188871275305673,0.01988933365286126,-0.014229764700351831,-0.10505109664885269,-0.13191425937220247,-0.08251241947712222,0.03735321803100679,0.07423159917680246,-0.035708595552943256,0.060491577316500275,-0.024525141435679305,-0.11714449598539502,-0.01909000558318614,-0.0928762759868856,-0.0869484135441756,0.14213788072179329,-0.020880711503672506,-0.13094078291397113,-0.10429750877457855,0.08952193079615232,-0.03335330636070255,0.018634852736587573,-0.006605753855655572,-0.059684999725601234,-0.11012940589955,-0.04838748021750641,-0.05063151761505767,-0.041819933601788636,-0.017392200397837374,-0.05901745002862603,-0.08583731145985395,-0.03778595474605778,0.07399083555729681,0.10827983916610476,0.1157425144541338,0.03813161347687125,-0.060355757670705355,-0.09247374346220019,0.08650687837938276,-0.03150216681715129,0.009543165883456235,-0.11553369359048775,-0.07546914614848368,-0.05495619530417859,0.052726710240374244,0.1461153180549394,-0.0044336496903248515,0.07719531423509964,0.16466511310855034,0.03464541556477931,-0.08350579351467484,0.09171484855687394,0.09157318272586314,-0.02301636029620255,0.17572863716439627],\"z\":[-0.0010936939038816513,-0.09434155745285244,-0.06265062386715882,-0.042452710788697993,-0.012372222826945261,0.03642447855215975,0.2362382622150996,0.06038973817154591,-0.0026749754326747736,-0.03872112337426387,-0.08406892230135377,0.021583405090472546,-0.059530982973108854,-0.024766630973030966,-0.016477454981529246,0.10848838513862617,-0.004421721549656963,0.009118764280078578,0.18880711508060496,-0.058061374033823145,-0.0037397144289185616,-0.005792785239114988,0.04512738234775509,-0.033723902587799864,-0.055608140090012526,0.02062944734303496,0.0021777522204057243,0.014118478754734463,-0.0028877384939271365,0.00857192858044032,0.11441692050946654,0.05632224068177879,-0.022006510076522236,-0.03224664687663023,-0.04865037108491638,0.02629188015475709,-0.006967110856238155,0.000488332429561057,0.02064205205997833,-0.007240654042456327,-0.04209249616538177,0.03749104109660239,0.010641123728255136,-0.08876986791649924,-0.06402434591174093,-0.01742425165104622,-0.010371559731553879,-0.042579175232705276,-0.07615109021619774,-0.07928855806237446,-0.041146641690969085,0.008215599118349024,-0.08483884522265323,0.10846577440592349,0.13100917583925523,0.14133267032428212,-0.023684016602404573,-0.03224120510916664,0.03638179134495725,0.033519938334030025,-0.020332243847651275,0.022240199483056357,-0.02939471818110402,-0.0063353771571566546,0.06312757286163649,-0.0010577859173309626,-0.016354017130174796,0.04121573602728129,-0.03446178915202888,-0.047223268418625584,-0.02497319499087116,0.055194724933220175,-0.05981924787515298,-0.06289120520248334,-0.06736959477269694,0.03465015328613525],\"type\":\"scatter3d\",\"scene\":\"scene\"},{\"hovertext\":[\"LQ-01-61-01_pos.mzXML\",\"LQ-01-61-02_pos.mzXML\",\"LQ-01-61-03_pos.mzXML\",\"LQ-01-61-04_pos.mzXML\",\"LQ-01-61-05_pos.mzXML\",\"LQ-01-61-06_pos.mzXML\",\"LQ-01-61-07_pos.mzXML\",\"LQ-01-61-08_pos.mzXML\",\"LQ-01-61-09_pos.mzXML\",\"LQ-01-61-10_pos.mzXML\",\"LQ-01-61-11_pos.mzXML\",\"LQ-01-61-12_pos.mzXML\",\"LQ-01-61-13_pos.mzXML\",\"LQ-01-61-14_pos.mzXML\",\"LQ-01-61-15_pos.mzXML\",\"LQ-01-61-16_pos.mzXML\",\"LQ-01-61-17_pos.mzXML\",\"LQ-01-61-18_pos.mzXML\",\"LQ-01-61-19_pos.mzXML\",\"LQ-01-61-20_pos.mzXML\",\"LQ-01-61-21_pos.mzXML\",\"LQ-01-61-22_pos.mzXML\",\"LQ-01-61-23_pos.mzXML\",\"LQ-01-61-24_pos.mzXML\",\"LQ-01-61-25_pos.mzXML\",\"LQ-01-61-26_pos.mzXML\",\"LQ-01-61-27_pos.mzXML\",\"LQ-01-61-28_pos.mzXML\",\"LQ-01-61-29_pos.mzXML\",\"LQ-01-61-30_pos.mzXML\",\"LQ-01-61-31_pos.mzXML\",\"LQ-01-61-32_pos.mzXML\",\"LQ-01-61-33_pos.mzXML\",\"LQ-01-61-34_pos.mzXML\",\"LQ-01-61-35_pos.mzXML\",\"LQ-01-61-36_pos.mzXML\",\"LQ-01-61-37_pos.mzXML\",\"LQ-01-61-38_pos.mzXML\",\"LQ-01-61-39_pos.mzXML\",\"LQ-01-61-40_pos.mzXML\",\"LQ-01-61-41_pos.mzXML\",\"LQ-01-61-42_pos.mzXML\",\"LQ-01-61-43_pos.mzXML\",\"LQ-01-61-44_pos.mzXML\",\"LQ-01-61-45_pos.mzXML\",\"LQ-01-61-46_pos.mzXML\",\"LQ-01-61-47_pos.mzXML\",\"LQ-01-61-48_pos.mzXML\",\"LQ-01-61-49_pos.mzXML\",\"LQ-01-61-50_pos.mzXML\",\"LQ-01-61-51_pos.mzXML\",\"LQ-01-61-52_pos.mzXML\",\"LQ-01-61-53_pos.mzXML\",\"LQ-01-61-54_pos.mzXML\",\"LQ-01-61-55_pos.mzXML\",\"LQ-01-61-56_pos.mzXML\",\"LQ-01-61-57_pos.mzXML\",\"LQ-01-61-58_pos.mzXML\",\"LQ-01-61-59_pos.mzXML\",\"LQ-01-61-60_pos.mzXML\",\"LQ-01-61-61_pos.mzXML\",\"LQ-01-61-62_pos.mzXML\",\"LQ-01-61-63_pos.mzXML\",\"LQ-01-61-64_pos.mzXML\",\"LQ-01-61-65_pos.mzXML\",\"LQ-01-61-66_pos.mzXML\",\"LQ-01-61-67_pos.mzXML\",\"LQ-01-61-68_pos.mzXML\",\"LQ-01-61-69_pos.mzXML\",\"LQ-01-61-70_pos.mzXML\",\"LQ-01-61-71_pos.mzXML\",\"LQ-01-61-72_pos.mzXML\",\"LQ-01-61-73_pos.mzXML\",\"LQ-01-61-74_pos.mzXML\",\"LQ-01-61-75_pos.mzXML\",\"LQ-01-61-78_pos.mzXML\"],\"marker\":{\"color\":[1,1,1,1,1,1,-1,1,1,1,1,1,1,1,1,1,1,1,-1,1,1,-1,-1,1,1,1,1,1,1,1,1,1,1,1,1,1,1,1,1,1,-1,1,1,1,1,1,-1,1,1,1,1,1,1,-1,-1,-1,1,1,1,-1,1,1,1,1,1,1,1,1,1,1,1,-1,1,1,1,-1],\"colorscale\":[[0.0,\"rgb(255,255,204)\"],[0.125,\"rgb(255,237,160)\"],[0.25,\"rgb(254,217,118)\"],[0.375,\"rgb(254,178,76)\"],[0.5,\"rgb(253,141,60)\"],[0.625,\"rgb(252,78,42)\"],[0.75,\"rgb(227,26,28)\"],[0.875,\"rgb(189,0,38)\"],[1.0,\"rgb(128,0,38)\"]],\"line\":{\"color\":\"black\",\"width\":0.5},\"showscale\":false,\"size\":5},\"mode\":\"markers\",\"opacity\":0.85,\"showlegend\":false,\"x\":[-0.08918355178765881,0.06846954955605372,0.13448734762071282,0.11819384542770653,0.05980371741364595,0.10816117510221489,0.19466715006192142,-0.2574422977329749,-0.21435646816718706,-0.005230987336226238,0.1025003836422325,-0.04967031001757647,-0.005016847991106795,0.0655985990337101,-0.016498516684313964,0.02378746867102317,0.028690892705476135,-0.02494540322024607,0.17115168955406693,0.07693796295723036,-0.06938575051881749,-0.10184810091363974,-0.18254464226144212,0.0665460242313343,0.08259182673020322,0.025247659123797426,-0.008293407520251966,-0.18754308841791315,-0.12227999014692441,-0.06946097766338846,0.21181622419470725,0.14096041207590582,0.01772383640751306,0.06481572076040076,0.12337128024904255,-0.020338701889247787,0.04035613439455281,0.016976274655669348,-0.012839907490866413,0.03839951163137532,0.060120313000070175,-0.06025558619580762,-0.12420843329346005,0.06874456328254948,0.09484597645323413,-0.010522265219323377,-0.09101072044252388,0.06243855455014496,0.08265815519853872,0.09473428434819545,-0.03866448431775625,-0.050358406844300846,0.03587226868580301,0.08773001484347914,0.17030072670234495,0.16664629026691483,-0.08331298324761237,0.13538035466547746,-0.0711518989654735,-0.21730189296850064,-0.07011255197958507,-0.17813588880808887,-0.013791344502579446,-0.046051467189010944,-0.18435454122384226,-0.13100261753558387,-0.09907201438510713,-0.17574606548785138,-0.10622282909548693,0.015015440729744279,-0.0973047216651212,-0.09938432429691393,0.12446326655808121,0.15649570604986646,0.12361816998472012,-0.0754747840959487],\"y\":[0.09175078320306763,0.08129934184719657,0.14078347628064763,0.1122856774316567,-0.05688954414766619,0.11915704076409847,-0.061212976130724656,0.04031238127971278,0.057749756607718375,-0.06862257674118176,-0.03297526219169025,-0.08340728517017217,-0.027966507517742125,0.22461022358402702,-0.0706555495276861,-0.050702553312651964,0.09868992446150912,0.01226851581954673,-0.08189635175239693,-0.07859795560502685,-0.016687157587654055,-0.00010188871275305673,0.01988933365286126,-0.014229764700351831,-0.10505109664885269,-0.13191425937220247,-0.08251241947712222,0.03735321803100679,0.07423159917680246,-0.035708595552943256,0.060491577316500275,-0.024525141435679305,-0.11714449598539502,-0.01909000558318614,-0.0928762759868856,-0.0869484135441756,0.14213788072179329,-0.020880711503672506,-0.13094078291397113,-0.10429750877457855,0.08952193079615232,-0.03335330636070255,0.018634852736587573,-0.006605753855655572,-0.059684999725601234,-0.11012940589955,-0.04838748021750641,-0.05063151761505767,-0.041819933601788636,-0.017392200397837374,-0.05901745002862603,-0.08583731145985395,-0.03778595474605778,0.07399083555729681,0.10827983916610476,0.1157425144541338,0.03813161347687125,-0.060355757670705355,-0.09247374346220019,0.08650687837938276,-0.03150216681715129,0.009543165883456235,-0.11553369359048775,-0.07546914614848368,-0.05495619530417859,0.052726710240374244,0.1461153180549394,-0.0044336496903248515,0.07719531423509964,0.16466511310855034,0.03464541556477931,-0.08350579351467484,0.09171484855687394,0.09157318272586314,-0.02301636029620255,0.17572863716439627],\"z\":[-0.0010936939038816513,-0.09434155745285244,-0.06265062386715882,-0.042452710788697993,-0.012372222826945261,0.03642447855215975,0.2362382622150996,0.06038973817154591,-0.0026749754326747736,-0.03872112337426387,-0.08406892230135377,0.021583405090472546,-0.059530982973108854,-0.024766630973030966,-0.016477454981529246,0.10848838513862617,-0.004421721549656963,0.009118764280078578,0.18880711508060496,-0.058061374033823145,-0.0037397144289185616,-0.005792785239114988,0.04512738234775509,-0.033723902587799864,-0.055608140090012526,0.02062944734303496,0.0021777522204057243,0.014118478754734463,-0.0028877384939271365,0.00857192858044032,0.11441692050946654,0.05632224068177879,-0.022006510076522236,-0.03224664687663023,-0.04865037108491638,0.02629188015475709,-0.006967110856238155,0.000488332429561057,0.02064205205997833,-0.007240654042456327,-0.04209249616538177,0.03749104109660239,0.010641123728255136,-0.08876986791649924,-0.06402434591174093,-0.01742425165104622,-0.010371559731553879,-0.042579175232705276,-0.07615109021619774,-0.07928855806237446,-0.041146641690969085,0.008215599118349024,-0.08483884522265323,0.10846577440592349,0.13100917583925523,0.14133267032428212,-0.023684016602404573,-0.03224120510916664,0.03638179134495725,0.033519938334030025,-0.020332243847651275,0.022240199483056357,-0.02939471818110402,-0.0063353771571566546,0.06312757286163649,-0.0010577859173309626,-0.016354017130174796,0.04121573602728129,-0.03446178915202888,-0.047223268418625584,-0.02497319499087116,0.055194724933220175,-0.05981924787515298,-0.06289120520248334,-0.06736959477269694,0.03465015328613525],\"type\":\"scatter3d\",\"scene\":\"scene2\"},{\"hovertext\":[\"LQ-01-61-01_pos.mzXML\",\"LQ-01-61-02_pos.mzXML\",\"LQ-01-61-03_pos.mzXML\",\"LQ-01-61-04_pos.mzXML\",\"LQ-01-61-05_pos.mzXML\",\"LQ-01-61-06_pos.mzXML\",\"LQ-01-61-07_pos.mzXML\",\"LQ-01-61-08_pos.mzXML\",\"LQ-01-61-09_pos.mzXML\",\"LQ-01-61-10_pos.mzXML\",\"LQ-01-61-11_pos.mzXML\",\"LQ-01-61-12_pos.mzXML\",\"LQ-01-61-13_pos.mzXML\",\"LQ-01-61-14_pos.mzXML\",\"LQ-01-61-15_pos.mzXML\",\"LQ-01-61-16_pos.mzXML\",\"LQ-01-61-17_pos.mzXML\",\"LQ-01-61-18_pos.mzXML\",\"LQ-01-61-19_pos.mzXML\",\"LQ-01-61-20_pos.mzXML\",\"LQ-01-61-21_pos.mzXML\",\"LQ-01-61-22_pos.mzXML\",\"LQ-01-61-23_pos.mzXML\",\"LQ-01-61-24_pos.mzXML\",\"LQ-01-61-25_pos.mzXML\",\"LQ-01-61-26_pos.mzXML\",\"LQ-01-61-27_pos.mzXML\",\"LQ-01-61-28_pos.mzXML\",\"LQ-01-61-29_pos.mzXML\",\"LQ-01-61-30_pos.mzXML\",\"LQ-01-61-31_pos.mzXML\",\"LQ-01-61-32_pos.mzXML\",\"LQ-01-61-33_pos.mzXML\",\"LQ-01-61-34_pos.mzXML\",\"LQ-01-61-35_pos.mzXML\",\"LQ-01-61-36_pos.mzXML\",\"LQ-01-61-37_pos.mzXML\",\"LQ-01-61-38_pos.mzXML\",\"LQ-01-61-39_pos.mzXML\",\"LQ-01-61-40_pos.mzXML\",\"LQ-01-61-41_pos.mzXML\",\"LQ-01-61-42_pos.mzXML\",\"LQ-01-61-43_pos.mzXML\",\"LQ-01-61-44_pos.mzXML\",\"LQ-01-61-45_pos.mzXML\",\"LQ-01-61-46_pos.mzXML\",\"LQ-01-61-47_pos.mzXML\",\"LQ-01-61-48_pos.mzXML\",\"LQ-01-61-49_pos.mzXML\",\"LQ-01-61-50_pos.mzXML\",\"LQ-01-61-51_pos.mzXML\",\"LQ-01-61-52_pos.mzXML\",\"LQ-01-61-53_pos.mzXML\",\"LQ-01-61-54_pos.mzXML\",\"LQ-01-61-55_pos.mzXML\",\"LQ-01-61-56_pos.mzXML\",\"LQ-01-61-57_pos.mzXML\",\"LQ-01-61-58_pos.mzXML\",\"LQ-01-61-59_pos.mzXML\",\"LQ-01-61-60_pos.mzXML\",\"LQ-01-61-61_pos.mzXML\",\"LQ-01-61-62_pos.mzXML\",\"LQ-01-61-63_pos.mzXML\",\"LQ-01-61-64_pos.mzXML\",\"LQ-01-61-65_pos.mzXML\",\"LQ-01-61-66_pos.mzXML\",\"LQ-01-61-67_pos.mzXML\",\"LQ-01-61-68_pos.mzXML\",\"LQ-01-61-69_pos.mzXML\",\"LQ-01-61-70_pos.mzXML\",\"LQ-01-61-71_pos.mzXML\",\"LQ-01-61-72_pos.mzXML\",\"LQ-01-61-73_pos.mzXML\",\"LQ-01-61-74_pos.mzXML\",\"LQ-01-61-75_pos.mzXML\",\"LQ-01-61-78_pos.mzXML\"],\"legendgrouptitle\":{\"text\":\"Anomaly\"},\"marker\":{\"color\":[1,1,1,1,1,1,-1,1,1,1,1,1,1,1,1,1,1,1,1,1,1,1,1,1,1,1,1,1,1,1,1,1,1,1,1,1,1,1,1,1,1,1,1,1,1,1,1,1,1,1,1,1,1,1,-1,1,1,1,1,-1,1,1,1,1,1,1,1,1,1,1,1,1,1,1,1,-1],\"colorscale\":[[0.0,\"rgb(255,255,204)\"],[0.125,\"rgb(255,237,160)\"],[0.25,\"rgb(254,217,118)\"],[0.375,\"rgb(254,178,76)\"],[0.5,\"rgb(253,141,60)\"],[0.625,\"rgb(252,78,42)\"],[0.75,\"rgb(227,26,28)\"],[0.875,\"rgb(189,0,38)\"],[1.0,\"rgb(128,0,38)\"]],\"line\":{\"color\":\"black\",\"width\":0.5},\"showscale\":false,\"size\":5},\"mode\":\"markers\",\"opacity\":0.85,\"showlegend\":false,\"x\":[-0.08918355178765881,0.06846954955605372,0.13448734762071282,0.11819384542770653,0.05980371741364595,0.10816117510221489,0.19466715006192142,-0.2574422977329749,-0.21435646816718706,-0.005230987336226238,0.1025003836422325,-0.04967031001757647,-0.005016847991106795,0.0655985990337101,-0.016498516684313964,0.02378746867102317,0.028690892705476135,-0.02494540322024607,0.17115168955406693,0.07693796295723036,-0.06938575051881749,-0.10184810091363974,-0.18254464226144212,0.0665460242313343,0.08259182673020322,0.025247659123797426,-0.008293407520251966,-0.18754308841791315,-0.12227999014692441,-0.06946097766338846,0.21181622419470725,0.14096041207590582,0.01772383640751306,0.06481572076040076,0.12337128024904255,-0.020338701889247787,0.04035613439455281,0.016976274655669348,-0.012839907490866413,0.03839951163137532,0.060120313000070175,-0.06025558619580762,-0.12420843329346005,0.06874456328254948,0.09484597645323413,-0.010522265219323377,-0.09101072044252388,0.06243855455014496,0.08265815519853872,0.09473428434819545,-0.03866448431775625,-0.050358406844300846,0.03587226868580301,0.08773001484347914,0.17030072670234495,0.16664629026691483,-0.08331298324761237,0.13538035466547746,-0.0711518989654735,-0.21730189296850064,-0.07011255197958507,-0.17813588880808887,-0.013791344502579446,-0.046051467189010944,-0.18435454122384226,-0.13100261753558387,-0.09907201438510713,-0.17574606548785138,-0.10622282909548693,0.015015440729744279,-0.0973047216651212,-0.09938432429691393,0.12446326655808121,0.15649570604986646,0.12361816998472012,-0.0754747840959487],\"y\":[0.09175078320306763,0.08129934184719657,0.14078347628064763,0.1122856774316567,-0.05688954414766619,0.11915704076409847,-0.061212976130724656,0.04031238127971278,0.057749756607718375,-0.06862257674118176,-0.03297526219169025,-0.08340728517017217,-0.027966507517742125,0.22461022358402702,-0.0706555495276861,-0.050702553312651964,0.09868992446150912,0.01226851581954673,-0.08189635175239693,-0.07859795560502685,-0.016687157587654055,-0.00010188871275305673,0.01988933365286126,-0.014229764700351831,-0.10505109664885269,-0.13191425937220247,-0.08251241947712222,0.03735321803100679,0.07423159917680246,-0.035708595552943256,0.060491577316500275,-0.024525141435679305,-0.11714449598539502,-0.01909000558318614,-0.0928762759868856,-0.0869484135441756,0.14213788072179329,-0.020880711503672506,-0.13094078291397113,-0.10429750877457855,0.08952193079615232,-0.03335330636070255,0.018634852736587573,-0.006605753855655572,-0.059684999725601234,-0.11012940589955,-0.04838748021750641,-0.05063151761505767,-0.041819933601788636,-0.017392200397837374,-0.05901745002862603,-0.08583731145985395,-0.03778595474605778,0.07399083555729681,0.10827983916610476,0.1157425144541338,0.03813161347687125,-0.060355757670705355,-0.09247374346220019,0.08650687837938276,-0.03150216681715129,0.009543165883456235,-0.11553369359048775,-0.07546914614848368,-0.05495619530417859,0.052726710240374244,0.1461153180549394,-0.0044336496903248515,0.07719531423509964,0.16466511310855034,0.03464541556477931,-0.08350579351467484,0.09171484855687394,0.09157318272586314,-0.02301636029620255,0.17572863716439627],\"z\":[-0.0010936939038816513,-0.09434155745285244,-0.06265062386715882,-0.042452710788697993,-0.012372222826945261,0.03642447855215975,0.2362382622150996,0.06038973817154591,-0.0026749754326747736,-0.03872112337426387,-0.08406892230135377,0.021583405090472546,-0.059530982973108854,-0.024766630973030966,-0.016477454981529246,0.10848838513862617,-0.004421721549656963,0.009118764280078578,0.18880711508060496,-0.058061374033823145,-0.0037397144289185616,-0.005792785239114988,0.04512738234775509,-0.033723902587799864,-0.055608140090012526,0.02062944734303496,0.0021777522204057243,0.014118478754734463,-0.0028877384939271365,0.00857192858044032,0.11441692050946654,0.05632224068177879,-0.022006510076522236,-0.03224664687663023,-0.04865037108491638,0.02629188015475709,-0.006967110856238155,0.000488332429561057,0.02064205205997833,-0.007240654042456327,-0.04209249616538177,0.03749104109660239,0.010641123728255136,-0.08876986791649924,-0.06402434591174093,-0.01742425165104622,-0.010371559731553879,-0.042579175232705276,-0.07615109021619774,-0.07928855806237446,-0.041146641690969085,0.008215599118349024,-0.08483884522265323,0.10846577440592349,0.13100917583925523,0.14133267032428212,-0.023684016602404573,-0.03224120510916664,0.03638179134495725,0.033519938334030025,-0.020332243847651275,0.022240199483056357,-0.02939471818110402,-0.0063353771571566546,0.06312757286163649,-0.0010577859173309626,-0.016354017130174796,0.04121573602728129,-0.03446178915202888,-0.047223268418625584,-0.02497319499087116,0.055194724933220175,-0.05981924787515298,-0.06289120520248334,-0.06736959477269694,0.03465015328613525],\"type\":\"scatter3d\",\"scene\":\"scene3\"}],                        {\"template\":{\"data\":{\"barpolar\":[{\"marker\":{\"line\":{\"color\":\"white\",\"width\":0.5},\"pattern\":{\"fillmode\":\"overlay\",\"size\":10,\"solidity\":0.2}},\"type\":\"barpolar\"}],\"bar\":[{\"error_x\":{\"color\":\"rgb(36,36,36)\"},\"error_y\":{\"color\":\"rgb(36,36,36)\"},\"marker\":{\"line\":{\"color\":\"white\",\"width\":0.5},\"pattern\":{\"fillmode\":\"overlay\",\"size\":10,\"solidity\":0.2}},\"type\":\"bar\"}],\"carpet\":[{\"aaxis\":{\"endlinecolor\":\"rgb(36,36,36)\",\"gridcolor\":\"white\",\"linecolor\":\"white\",\"minorgridcolor\":\"white\",\"startlinecolor\":\"rgb(36,36,36)\"},\"baxis\":{\"endlinecolor\":\"rgb(36,36,36)\",\"gridcolor\":\"white\",\"linecolor\":\"white\",\"minorgridcolor\":\"white\",\"startlinecolor\":\"rgb(36,36,36)\"},\"type\":\"carpet\"}],\"choropleth\":[{\"colorbar\":{\"outlinewidth\":1,\"tickcolor\":\"rgb(36,36,36)\",\"ticks\":\"outside\"},\"type\":\"choropleth\"}],\"contourcarpet\":[{\"colorbar\":{\"outlinewidth\":1,\"tickcolor\":\"rgb(36,36,36)\",\"ticks\":\"outside\"},\"type\":\"contourcarpet\"}],\"contour\":[{\"colorbar\":{\"outlinewidth\":1,\"tickcolor\":\"rgb(36,36,36)\",\"ticks\":\"outside\"},\"colorscale\":[[0.0,\"#440154\"],[0.1111111111111111,\"#482878\"],[0.2222222222222222,\"#3e4989\"],[0.3333333333333333,\"#31688e\"],[0.4444444444444444,\"#26828e\"],[0.5555555555555556,\"#1f9e89\"],[0.6666666666666666,\"#35b779\"],[0.7777777777777778,\"#6ece58\"],[0.8888888888888888,\"#b5de2b\"],[1.0,\"#fde725\"]],\"type\":\"contour\"}],\"heatmapgl\":[{\"colorbar\":{\"outlinewidth\":1,\"tickcolor\":\"rgb(36,36,36)\",\"ticks\":\"outside\"},\"colorscale\":[[0.0,\"#440154\"],[0.1111111111111111,\"#482878\"],[0.2222222222222222,\"#3e4989\"],[0.3333333333333333,\"#31688e\"],[0.4444444444444444,\"#26828e\"],[0.5555555555555556,\"#1f9e89\"],[0.6666666666666666,\"#35b779\"],[0.7777777777777778,\"#6ece58\"],[0.8888888888888888,\"#b5de2b\"],[1.0,\"#fde725\"]],\"type\":\"heatmapgl\"}],\"heatmap\":[{\"colorbar\":{\"outlinewidth\":1,\"tickcolor\":\"rgb(36,36,36)\",\"ticks\":\"outside\"},\"colorscale\":[[0.0,\"#440154\"],[0.1111111111111111,\"#482878\"],[0.2222222222222222,\"#3e4989\"],[0.3333333333333333,\"#31688e\"],[0.4444444444444444,\"#26828e\"],[0.5555555555555556,\"#1f9e89\"],[0.6666666666666666,\"#35b779\"],[0.7777777777777778,\"#6ece58\"],[0.8888888888888888,\"#b5de2b\"],[1.0,\"#fde725\"]],\"type\":\"heatmap\"}],\"histogram2dcontour\":[{\"colorbar\":{\"outlinewidth\":1,\"tickcolor\":\"rgb(36,36,36)\",\"ticks\":\"outside\"},\"colorscale\":[[0.0,\"#440154\"],[0.1111111111111111,\"#482878\"],[0.2222222222222222,\"#3e4989\"],[0.3333333333333333,\"#31688e\"],[0.4444444444444444,\"#26828e\"],[0.5555555555555556,\"#1f9e89\"],[0.6666666666666666,\"#35b779\"],[0.7777777777777778,\"#6ece58\"],[0.8888888888888888,\"#b5de2b\"],[1.0,\"#fde725\"]],\"type\":\"histogram2dcontour\"}],\"histogram2d\":[{\"colorbar\":{\"outlinewidth\":1,\"tickcolor\":\"rgb(36,36,36)\",\"ticks\":\"outside\"},\"colorscale\":[[0.0,\"#440154\"],[0.1111111111111111,\"#482878\"],[0.2222222222222222,\"#3e4989\"],[0.3333333333333333,\"#31688e\"],[0.4444444444444444,\"#26828e\"],[0.5555555555555556,\"#1f9e89\"],[0.6666666666666666,\"#35b779\"],[0.7777777777777778,\"#6ece58\"],[0.8888888888888888,\"#b5de2b\"],[1.0,\"#fde725\"]],\"type\":\"histogram2d\"}],\"histogram\":[{\"marker\":{\"line\":{\"color\":\"white\",\"width\":0.6}},\"type\":\"histogram\"}],\"mesh3d\":[{\"colorbar\":{\"outlinewidth\":1,\"tickcolor\":\"rgb(36,36,36)\",\"ticks\":\"outside\"},\"type\":\"mesh3d\"}],\"parcoords\":[{\"line\":{\"colorbar\":{\"outlinewidth\":1,\"tickcolor\":\"rgb(36,36,36)\",\"ticks\":\"outside\"}},\"type\":\"parcoords\"}],\"pie\":[{\"automargin\":true,\"type\":\"pie\"}],\"scatter3d\":[{\"line\":{\"colorbar\":{\"outlinewidth\":1,\"tickcolor\":\"rgb(36,36,36)\",\"ticks\":\"outside\"}},\"marker\":{\"colorbar\":{\"outlinewidth\":1,\"tickcolor\":\"rgb(36,36,36)\",\"ticks\":\"outside\"}},\"type\":\"scatter3d\"}],\"scattercarpet\":[{\"marker\":{\"colorbar\":{\"outlinewidth\":1,\"tickcolor\":\"rgb(36,36,36)\",\"ticks\":\"outside\"}},\"type\":\"scattercarpet\"}],\"scattergeo\":[{\"marker\":{\"colorbar\":{\"outlinewidth\":1,\"tickcolor\":\"rgb(36,36,36)\",\"ticks\":\"outside\"}},\"type\":\"scattergeo\"}],\"scattergl\":[{\"marker\":{\"colorbar\":{\"outlinewidth\":1,\"tickcolor\":\"rgb(36,36,36)\",\"ticks\":\"outside\"}},\"type\":\"scattergl\"}],\"scattermapbox\":[{\"marker\":{\"colorbar\":{\"outlinewidth\":1,\"tickcolor\":\"rgb(36,36,36)\",\"ticks\":\"outside\"}},\"type\":\"scattermapbox\"}],\"scatterpolargl\":[{\"marker\":{\"colorbar\":{\"outlinewidth\":1,\"tickcolor\":\"rgb(36,36,36)\",\"ticks\":\"outside\"}},\"type\":\"scatterpolargl\"}],\"scatterpolar\":[{\"marker\":{\"colorbar\":{\"outlinewidth\":1,\"tickcolor\":\"rgb(36,36,36)\",\"ticks\":\"outside\"}},\"type\":\"scatterpolar\"}],\"scatter\":[{\"fillpattern\":{\"fillmode\":\"overlay\",\"size\":10,\"solidity\":0.2},\"type\":\"scatter\"}],\"scatterternary\":[{\"marker\":{\"colorbar\":{\"outlinewidth\":1,\"tickcolor\":\"rgb(36,36,36)\",\"ticks\":\"outside\"}},\"type\":\"scatterternary\"}],\"surface\":[{\"colorbar\":{\"outlinewidth\":1,\"tickcolor\":\"rgb(36,36,36)\",\"ticks\":\"outside\"},\"colorscale\":[[0.0,\"#440154\"],[0.1111111111111111,\"#482878\"],[0.2222222222222222,\"#3e4989\"],[0.3333333333333333,\"#31688e\"],[0.4444444444444444,\"#26828e\"],[0.5555555555555556,\"#1f9e89\"],[0.6666666666666666,\"#35b779\"],[0.7777777777777778,\"#6ece58\"],[0.8888888888888888,\"#b5de2b\"],[1.0,\"#fde725\"]],\"type\":\"surface\"}],\"table\":[{\"cells\":{\"fill\":{\"color\":\"rgb(237,237,237)\"},\"line\":{\"color\":\"white\"}},\"header\":{\"fill\":{\"color\":\"rgb(217,217,217)\"},\"line\":{\"color\":\"white\"}},\"type\":\"table\"}]},\"layout\":{\"annotationdefaults\":{\"arrowhead\":0,\"arrowwidth\":1},\"autotypenumbers\":\"strict\",\"coloraxis\":{\"colorbar\":{\"outlinewidth\":1,\"tickcolor\":\"rgb(36,36,36)\",\"ticks\":\"outside\"}},\"colorscale\":{\"diverging\":[[0.0,\"rgb(103,0,31)\"],[0.1,\"rgb(178,24,43)\"],[0.2,\"rgb(214,96,77)\"],[0.3,\"rgb(244,165,130)\"],[0.4,\"rgb(253,219,199)\"],[0.5,\"rgb(247,247,247)\"],[0.6,\"rgb(209,229,240)\"],[0.7,\"rgb(146,197,222)\"],[0.8,\"rgb(67,147,195)\"],[0.9,\"rgb(33,102,172)\"],[1.0,\"rgb(5,48,97)\"]],\"sequential\":[[0.0,\"#440154\"],[0.1111111111111111,\"#482878\"],[0.2222222222222222,\"#3e4989\"],[0.3333333333333333,\"#31688e\"],[0.4444444444444444,\"#26828e\"],[0.5555555555555556,\"#1f9e89\"],[0.6666666666666666,\"#35b779\"],[0.7777777777777778,\"#6ece58\"],[0.8888888888888888,\"#b5de2b\"],[1.0,\"#fde725\"]],\"sequentialminus\":[[0.0,\"#440154\"],[0.1111111111111111,\"#482878\"],[0.2222222222222222,\"#3e4989\"],[0.3333333333333333,\"#31688e\"],[0.4444444444444444,\"#26828e\"],[0.5555555555555556,\"#1f9e89\"],[0.6666666666666666,\"#35b779\"],[0.7777777777777778,\"#6ece58\"],[0.8888888888888888,\"#b5de2b\"],[1.0,\"#fde725\"]]},\"colorway\":[\"#1F77B4\",\"#FF7F0E\",\"#2CA02C\",\"#D62728\",\"#9467BD\",\"#8C564B\",\"#E377C2\",\"#7F7F7F\",\"#BCBD22\",\"#17BECF\"],\"font\":{\"color\":\"rgb(36,36,36)\"},\"geo\":{\"bgcolor\":\"white\",\"lakecolor\":\"white\",\"landcolor\":\"white\",\"showlakes\":true,\"showland\":true,\"subunitcolor\":\"white\"},\"hoverlabel\":{\"align\":\"left\"},\"hovermode\":\"closest\",\"mapbox\":{\"style\":\"light\"},\"paper_bgcolor\":\"white\",\"plot_bgcolor\":\"white\",\"polar\":{\"angularaxis\":{\"gridcolor\":\"rgb(232,232,232)\",\"linecolor\":\"rgb(36,36,36)\",\"showgrid\":false,\"showline\":true,\"ticks\":\"outside\"},\"bgcolor\":\"white\",\"radialaxis\":{\"gridcolor\":\"rgb(232,232,232)\",\"linecolor\":\"rgb(36,36,36)\",\"showgrid\":false,\"showline\":true,\"ticks\":\"outside\"}},\"scene\":{\"xaxis\":{\"backgroundcolor\":\"white\",\"gridcolor\":\"rgb(232,232,232)\",\"gridwidth\":2,\"linecolor\":\"rgb(36,36,36)\",\"showbackground\":true,\"showgrid\":false,\"showline\":true,\"ticks\":\"outside\",\"zeroline\":false,\"zerolinecolor\":\"rgb(36,36,36)\"},\"yaxis\":{\"backgroundcolor\":\"white\",\"gridcolor\":\"rgb(232,232,232)\",\"gridwidth\":2,\"linecolor\":\"rgb(36,36,36)\",\"showbackground\":true,\"showgrid\":false,\"showline\":true,\"ticks\":\"outside\",\"zeroline\":false,\"zerolinecolor\":\"rgb(36,36,36)\"},\"zaxis\":{\"backgroundcolor\":\"white\",\"gridcolor\":\"rgb(232,232,232)\",\"gridwidth\":2,\"linecolor\":\"rgb(36,36,36)\",\"showbackground\":true,\"showgrid\":false,\"showline\":true,\"ticks\":\"outside\",\"zeroline\":false,\"zerolinecolor\":\"rgb(36,36,36)\"}},\"shapedefaults\":{\"fillcolor\":\"black\",\"line\":{\"width\":0},\"opacity\":0.3},\"ternary\":{\"aaxis\":{\"gridcolor\":\"rgb(232,232,232)\",\"linecolor\":\"rgb(36,36,36)\",\"showgrid\":false,\"showline\":true,\"ticks\":\"outside\"},\"baxis\":{\"gridcolor\":\"rgb(232,232,232)\",\"linecolor\":\"rgb(36,36,36)\",\"showgrid\":false,\"showline\":true,\"ticks\":\"outside\"},\"bgcolor\":\"white\",\"caxis\":{\"gridcolor\":\"rgb(232,232,232)\",\"linecolor\":\"rgb(36,36,36)\",\"showgrid\":false,\"showline\":true,\"ticks\":\"outside\"}},\"title\":{\"x\":0.05},\"xaxis\":{\"automargin\":true,\"gridcolor\":\"rgb(232,232,232)\",\"linecolor\":\"rgb(36,36,36)\",\"showgrid\":false,\"showline\":true,\"ticks\":\"outside\",\"title\":{\"standoff\":15},\"zeroline\":false,\"zerolinecolor\":\"rgb(36,36,36)\"},\"yaxis\":{\"automargin\":true,\"gridcolor\":\"rgb(232,232,232)\",\"linecolor\":\"rgb(36,36,36)\",\"showgrid\":false,\"showline\":true,\"ticks\":\"outside\",\"title\":{\"standoff\":15},\"zeroline\":false,\"zerolinecolor\":\"rgb(36,36,36)\"}}},\"scene\":{\"domain\":{\"x\":[0.0,0.2888888888888889],\"y\":[0.0,1.0]},\"xaxis\":{\"title\":{\"text\":\"PC1 (25.5 %)\"}},\"yaxis\":{\"title\":{\"text\":\"PC2 (14.9 %)\"}},\"zaxis\":{\"title\":{\"text\":\"PC2 (14.9 %)\"}}},\"scene2\":{\"domain\":{\"x\":[0.35555555555555557,0.6444444444444445],\"y\":[0.0,1.0]},\"xaxis\":{\"title\":{\"text\":\"PC1 (25.5 %)\"}},\"yaxis\":{\"title\":{\"text\":\"PC2 (14.9 %)\"}},\"zaxis\":{\"title\":{\"text\":\"PC2 (14.9 %)\"}}},\"scene3\":{\"domain\":{\"x\":[0.7111111111111111,1.0],\"y\":[0.0,1.0]},\"xaxis\":{\"title\":{\"text\":\"PC1 (25.5 %)\"}},\"yaxis\":{\"title\":{\"text\":\"PC2 (14.9 %)\"}},\"zaxis\":{\"title\":{\"text\":\"PC2 (14.9 %)\"}}},\"annotations\":[{\"font\":{\"size\":20},\"showarrow\":false,\"text\":\"PCoA MEMO aligned (IF)\",\"x\":0.14444444444444446,\"xanchor\":\"center\",\"xref\":\"paper\",\"y\":1.0,\"yanchor\":\"bottom\",\"yref\":\"paper\"},{\"font\":{\"size\":20},\"showarrow\":false,\"text\":\"PCoA MEMO aligned (LOF)\",\"x\":0.5,\"xanchor\":\"center\",\"xref\":\"paper\",\"y\":1.0,\"yanchor\":\"bottom\",\"yref\":\"paper\"},{\"font\":{\"size\":20},\"showarrow\":false,\"text\":\"PCoA MEMO aligned (OCSVM)\",\"x\":0.8555555555555556,\"xanchor\":\"center\",\"xref\":\"paper\",\"y\":1.0,\"yanchor\":\"bottom\",\"yref\":\"paper\"}],\"title\":{\"text\":\"Multiple outlier detection results\"},\"height\":600,\"width\":1500,\"font\":{\"family\":\"Times New Roman\",\"size\":16,\"color\":\"black\"},\"legend\":{\"orientation\":\"h\",\"y\":-0.15,\"x\":0.0,\"bordercolor\":\"Black\",\"borderwidth\":1}},                        {\"responsive\": true}                    ).then(function(){\n",
       "                            \n",
       "var gd = document.getElementById('abb832fa-cd1e-4f2b-99ba-ce4549d157c6');\n",
       "var x = new MutationObserver(function (mutations, observer) {{\n",
       "        var display = window.getComputedStyle(gd).display;\n",
       "        if (!display || display === 'none') {{\n",
       "            console.log([gd, 'removed!']);\n",
       "            Plotly.purge(gd);\n",
       "            observer.disconnect();\n",
       "        }}\n",
       "}});\n",
       "\n",
       "// Listen for the removal of the full notebook cells\n",
       "var notebookContainer = gd.closest('#notebook-container');\n",
       "if (notebookContainer) {{\n",
       "    x.observe(notebookContainer, {childList: true});\n",
       "}}\n",
       "\n",
       "// Listen for the clearing of the current output cell\n",
       "var outputEl = gd.closest('.output');\n",
       "if (outputEl) {{\n",
       "    x.observe(outputEl, {childList: true});\n",
       "}}\n",
       "\n",
       "                        })                };                });            </script>        </div>"
      ]
     },
     "metadata": {},
     "output_type": "display_data"
    }
   ],
   "source": [
    "pcoa_3d(\n",
    "    matrix= metric_df,\n",
    "    data = SC,\n",
    "    metric= 'braycurtis')"
   ]
  },
  {
   "cell_type": "markdown",
   "metadata": {},
   "source": [
    "# Class component (SC)"
   ]
  },
  {
   "cell_type": "markdown",
   "metadata": {},
   "source": [
    "### CC.1. Retrive and clean the predicted chemical classes from Sirius"
   ]
  },
  {
   "cell_type": "code",
   "execution_count": 69,
   "metadata": {},
   "outputs": [
    {
     "data": {
      "text/html": [
       "<div>\n",
       "<style scoped>\n",
       "    .dataframe tbody tr th:only-of-type {\n",
       "        vertical-align: middle;\n",
       "    }\n",
       "\n",
       "    .dataframe tbody tr th {\n",
       "        vertical-align: top;\n",
       "    }\n",
       "\n",
       "    .dataframe thead th {\n",
       "        text-align: right;\n",
       "    }\n",
       "</style>\n",
       "<table border=\"1\" class=\"dataframe\">\n",
       "  <thead>\n",
       "    <tr style=\"text-align: right;\">\n",
       "      <th></th>\n",
       "      <th>filename</th>\n",
       "      <th>class</th>\n",
       "      <th>ATTRIBUTE_Species</th>\n",
       "      <th>ATTRIBUTE_Genus</th>\n",
       "      <th>ATTRIBUTE_Family</th>\n",
       "      <th>Chemical_class_reported_in_species</th>\n",
       "      <th>Chemical_class_reported_in_genus</th>\n",
       "      <th>New_CC_in_sp</th>\n",
       "      <th>New_CC_in_genus</th>\n",
       "      <th>CC</th>\n",
       "    </tr>\n",
       "  </thead>\n",
       "  <tbody>\n",
       "    <tr>\n",
       "      <th>0</th>\n",
       "      <td>LQ-01-61-01_pos.mzXML</td>\n",
       "      <td>{Agarofuran sesquiterpenoids}</td>\n",
       "      <td>Catha edulis</td>\n",
       "      <td>Catha</td>\n",
       "      <td>Celastraceae</td>\n",
       "      <td>{Agarofuran sesquiterpenoids|Eudesmane sesquit...</td>\n",
       "      <td>{Agarofuran sesquiterpenoids|Eudesmane sesquit...</td>\n",
       "      <td>{}</td>\n",
       "      <td>{}</td>\n",
       "      <td>0.0</td>\n",
       "    </tr>\n",
       "    <tr>\n",
       "      <th>1</th>\n",
       "      <td>LQ-01-61-02_pos.mzXML</td>\n",
       "      <td>{Oleanane triterpenoids}</td>\n",
       "      <td>Catha edulis</td>\n",
       "      <td>Catha</td>\n",
       "      <td>Celastraceae</td>\n",
       "      <td>{Agarofuran sesquiterpenoids|Eudesmane sesquit...</td>\n",
       "      <td>{Agarofuran sesquiterpenoids|Eudesmane sesquit...</td>\n",
       "      <td>{Oleanane triterpenoids}</td>\n",
       "      <td>{Oleanane triterpenoids}</td>\n",
       "      <td>1.0</td>\n",
       "    </tr>\n",
       "    <tr>\n",
       "      <th>2</th>\n",
       "      <td>LQ-01-61-03_pos.mzXML</td>\n",
       "      <td>{Triketide meroterpenoids, Ursane and Taraxast...</td>\n",
       "      <td>Catha edulis</td>\n",
       "      <td>Catha</td>\n",
       "      <td>Celastraceae</td>\n",
       "      <td>{Agarofuran sesquiterpenoids|Eudesmane sesquit...</td>\n",
       "      <td>{Agarofuran sesquiterpenoids|Eudesmane sesquit...</td>\n",
       "      <td>{Ursane and Taraxastane triterpenoids, Tetrake...</td>\n",
       "      <td>{Ursane and Taraxastane triterpenoids, Tetrake...</td>\n",
       "      <td>1.0</td>\n",
       "    </tr>\n",
       "    <tr>\n",
       "      <th>3</th>\n",
       "      <td>LQ-01-61-04_pos.mzXML</td>\n",
       "      <td>{Pyridine alkaloids, Agarofuran sesquiterpenoids}</td>\n",
       "      <td>Catha edulis</td>\n",
       "      <td>Catha</td>\n",
       "      <td>Celastraceae</td>\n",
       "      <td>{Agarofuran sesquiterpenoids|Eudesmane sesquit...</td>\n",
       "      <td>{Agarofuran sesquiterpenoids|Eudesmane sesquit...</td>\n",
       "      <td>{}</td>\n",
       "      <td>{}</td>\n",
       "      <td>0.0</td>\n",
       "    </tr>\n",
       "    <tr>\n",
       "      <th>4</th>\n",
       "      <td>LQ-01-61-05_pos.mzXML</td>\n",
       "      <td>{Oleanane triterpenoids, Pyridine alkaloids}</td>\n",
       "      <td>Celastrus orbiculatus</td>\n",
       "      <td>Celastrus</td>\n",
       "      <td>Celastraceae</td>\n",
       "      <td>{Carotenoids (C40, Ψ-Ψ), Menthane monoterpenoi...</td>\n",
       "      <td>{Carotenoids (C40, Ψ-Ψ), Menthane monoterpenoi...</td>\n",
       "      <td>{Pyridine alkaloids}</td>\n",
       "      <td>{Pyridine alkaloids}</td>\n",
       "      <td>1.0</td>\n",
       "    </tr>\n",
       "    <tr>\n",
       "      <th>...</th>\n",
       "      <td>...</td>\n",
       "      <td>...</td>\n",
       "      <td>...</td>\n",
       "      <td>...</td>\n",
       "      <td>...</td>\n",
       "      <td>...</td>\n",
       "      <td>...</td>\n",
       "      <td>...</td>\n",
       "      <td>...</td>\n",
       "      <td>...</td>\n",
       "    </tr>\n",
       "    <tr>\n",
       "      <th>71</th>\n",
       "      <td>LQ-01-61-72_pos.mzXML</td>\n",
       "      <td>NaN</td>\n",
       "      <td>NaN</td>\n",
       "      <td>NaN</td>\n",
       "      <td>NaN</td>\n",
       "      <td>NaN</td>\n",
       "      <td>NaN</td>\n",
       "      <td>NaN</td>\n",
       "      <td>NaN</td>\n",
       "      <td>NaN</td>\n",
       "    </tr>\n",
       "    <tr>\n",
       "      <th>72</th>\n",
       "      <td>LQ-01-61-73_pos.mzXML</td>\n",
       "      <td>{Pyridine alkaloids}</td>\n",
       "      <td>Tripterygium hypoglaucum</td>\n",
       "      <td>Tripterygium</td>\n",
       "      <td>Celastraceae</td>\n",
       "      <td>{Friedelane triterpenoids|Oleanane triterpenoi...</td>\n",
       "      <td>{Friedelane triterpenoids|Oleanane triterpenoi...</td>\n",
       "      <td>{}</td>\n",
       "      <td>{}</td>\n",
       "      <td>0.0</td>\n",
       "    </tr>\n",
       "    <tr>\n",
       "      <th>73</th>\n",
       "      <td>LQ-01-61-74_pos.mzXML</td>\n",
       "      <td>{Abietane diterpenoids, Oleanane triterpenoids}</td>\n",
       "      <td>Tripterygium wilfordii</td>\n",
       "      <td>Tripterygium</td>\n",
       "      <td>Celastraceae</td>\n",
       "      <td>{Friedelane triterpenoids|Oleanane triterpenoi...</td>\n",
       "      <td>{Friedelane triterpenoids|Oleanane triterpenoi...</td>\n",
       "      <td>{}</td>\n",
       "      <td>{}</td>\n",
       "      <td>0.0</td>\n",
       "    </tr>\n",
       "    <tr>\n",
       "      <th>74</th>\n",
       "      <td>LQ-01-61-75_pos.mzXML</td>\n",
       "      <td>{Ursane and Taraxastane triterpenoids, Vitamin...</td>\n",
       "      <td>Tripterygium wilfordii</td>\n",
       "      <td>Tripterygium</td>\n",
       "      <td>Celastraceae</td>\n",
       "      <td>{Friedelane triterpenoids|Oleanane triterpenoi...</td>\n",
       "      <td>{Friedelane triterpenoids|Oleanane triterpenoi...</td>\n",
       "      <td>{Vitamin D2 and derivatives}</td>\n",
       "      <td>{Vitamin D2 and derivatives}</td>\n",
       "      <td>1.0</td>\n",
       "    </tr>\n",
       "    <tr>\n",
       "      <th>75</th>\n",
       "      <td>LQ-01-61-78_pos.mzXML</td>\n",
       "      <td>{Pyridine alkaloids, Primary amides, Agarofura...</td>\n",
       "      <td>Pristimera indica</td>\n",
       "      <td>Pristimera</td>\n",
       "      <td>Celastraceae</td>\n",
       "      <td>{Cucurbitane triterpenoids}</td>\n",
       "      <td>{Cucurbitane triterpenoids}</td>\n",
       "      <td>{Pyridine alkaloids, Primary amides, Agarofura...</td>\n",
       "      <td>{Pyridine alkaloids, Primary amides, Agarofura...</td>\n",
       "      <td>1.0</td>\n",
       "    </tr>\n",
       "  </tbody>\n",
       "</table>\n",
       "<p>76 rows × 10 columns</p>\n",
       "</div>"
      ],
      "text/plain": [
       "                 filename                                              class  \\\n",
       "0   LQ-01-61-01_pos.mzXML                      {Agarofuran sesquiterpenoids}   \n",
       "1   LQ-01-61-02_pos.mzXML                           {Oleanane triterpenoids}   \n",
       "2   LQ-01-61-03_pos.mzXML  {Triketide meroterpenoids, Ursane and Taraxast...   \n",
       "3   LQ-01-61-04_pos.mzXML  {Pyridine alkaloids, Agarofuran sesquiterpenoids}   \n",
       "4   LQ-01-61-05_pos.mzXML       {Oleanane triterpenoids, Pyridine alkaloids}   \n",
       "..                    ...                                                ...   \n",
       "71  LQ-01-61-72_pos.mzXML                                                NaN   \n",
       "72  LQ-01-61-73_pos.mzXML                               {Pyridine alkaloids}   \n",
       "73  LQ-01-61-74_pos.mzXML    {Abietane diterpenoids, Oleanane triterpenoids}   \n",
       "74  LQ-01-61-75_pos.mzXML  {Ursane and Taraxastane triterpenoids, Vitamin...   \n",
       "75  LQ-01-61-78_pos.mzXML  {Pyridine alkaloids, Primary amides, Agarofura...   \n",
       "\n",
       "           ATTRIBUTE_Species ATTRIBUTE_Genus ATTRIBUTE_Family  \\\n",
       "0               Catha edulis           Catha     Celastraceae   \n",
       "1               Catha edulis           Catha     Celastraceae   \n",
       "2               Catha edulis           Catha     Celastraceae   \n",
       "3               Catha edulis           Catha     Celastraceae   \n",
       "4      Celastrus orbiculatus       Celastrus     Celastraceae   \n",
       "..                       ...             ...              ...   \n",
       "71                       NaN             NaN              NaN   \n",
       "72  Tripterygium hypoglaucum    Tripterygium     Celastraceae   \n",
       "73    Tripterygium wilfordii    Tripterygium     Celastraceae   \n",
       "74    Tripterygium wilfordii    Tripterygium     Celastraceae   \n",
       "75         Pristimera indica      Pristimera     Celastraceae   \n",
       "\n",
       "                   Chemical_class_reported_in_species  \\\n",
       "0   {Agarofuran sesquiterpenoids|Eudesmane sesquit...   \n",
       "1   {Agarofuran sesquiterpenoids|Eudesmane sesquit...   \n",
       "2   {Agarofuran sesquiterpenoids|Eudesmane sesquit...   \n",
       "3   {Agarofuran sesquiterpenoids|Eudesmane sesquit...   \n",
       "4   {Carotenoids (C40, Ψ-Ψ), Menthane monoterpenoi...   \n",
       "..                                                ...   \n",
       "71                                                NaN   \n",
       "72  {Friedelane triterpenoids|Oleanane triterpenoi...   \n",
       "73  {Friedelane triterpenoids|Oleanane triterpenoi...   \n",
       "74  {Friedelane triterpenoids|Oleanane triterpenoi...   \n",
       "75                        {Cucurbitane triterpenoids}   \n",
       "\n",
       "                     Chemical_class_reported_in_genus  \\\n",
       "0   {Agarofuran sesquiterpenoids|Eudesmane sesquit...   \n",
       "1   {Agarofuran sesquiterpenoids|Eudesmane sesquit...   \n",
       "2   {Agarofuran sesquiterpenoids|Eudesmane sesquit...   \n",
       "3   {Agarofuran sesquiterpenoids|Eudesmane sesquit...   \n",
       "4   {Carotenoids (C40, Ψ-Ψ), Menthane monoterpenoi...   \n",
       "..                                                ...   \n",
       "71                                                NaN   \n",
       "72  {Friedelane triterpenoids|Oleanane triterpenoi...   \n",
       "73  {Friedelane triterpenoids|Oleanane triterpenoi...   \n",
       "74  {Friedelane triterpenoids|Oleanane triterpenoi...   \n",
       "75                        {Cucurbitane triterpenoids}   \n",
       "\n",
       "                                         New_CC_in_sp  \\\n",
       "0                                                  {}   \n",
       "1                            {Oleanane triterpenoids}   \n",
       "2   {Ursane and Taraxastane triterpenoids, Tetrake...   \n",
       "3                                                  {}   \n",
       "4                                {Pyridine alkaloids}   \n",
       "..                                                ...   \n",
       "71                                                NaN   \n",
       "72                                                 {}   \n",
       "73                                                 {}   \n",
       "74                       {Vitamin D2 and derivatives}   \n",
       "75  {Pyridine alkaloids, Primary amides, Agarofura...   \n",
       "\n",
       "                                      New_CC_in_genus   CC  \n",
       "0                                                  {}  0.0  \n",
       "1                            {Oleanane triterpenoids}  1.0  \n",
       "2   {Ursane and Taraxastane triterpenoids, Tetrake...  1.0  \n",
       "3                                                  {}  0.0  \n",
       "4                                {Pyridine alkaloids}  1.0  \n",
       "..                                                ...  ...  \n",
       "71                                                NaN  NaN  \n",
       "72                                                 {}  0.0  \n",
       "73                                                 {}  0.0  \n",
       "74                       {Vitamin D2 and derivatives}  1.0  \n",
       "75  {Pyridine alkaloids, Primary amides, Agarofura...  1.0  \n",
       "\n",
       "[76 rows x 10 columns]"
      ]
     },
     "execution_count": 69,
     "metadata": {},
     "output_type": "execute_result"
    }
   ],
   "source": [
    "CC = class_component(canopus_npc_df, filename_header, species_column,genus_column,family_column, min_class_confidence, min_recurrence, CC_component)\n",
    "CC"
   ]
  },
  {
   "cell_type": "markdown",
   "metadata": {},
   "source": [
    "# Priority rank Results"
   ]
  },
  {
   "cell_type": "code",
   "execution_count": 70,
   "metadata": {},
   "outputs": [],
   "source": [
    "PR = priority_rank(LC_component, SC_component, CC_component, w1, w2, w3, w4)\n",
    "#PR.head()"
   ]
  },
  {
   "cell_type": "code",
   "execution_count": 71,
   "metadata": {},
   "outputs": [],
   "source": [
    "Cyt_format_visualization = Cyt_format(col_id_unique)"
   ]
  },
  {
   "cell_type": "markdown",
   "metadata": {},
   "source": [
    "### Display results"
   ]
  },
  {
   "cell_type": "code",
   "execution_count": 72,
   "metadata": {},
   "outputs": [
    {
     "name": "stderr",
     "output_type": "stream",
     "text": [
      "/home/quirosgu/anaconda3/envs/inventa/lib/python3.7/site-packages/jupyter_client/session.py:718: UserWarning:\n",
      "\n",
      "Message serialization failed with:\n",
      "Out of range float values are not JSON compliant\n",
      "Supporting this message is deprecated in jupyter-client 7, please make sure your message is JSON-compliant\n",
      "\n"
     ]
    },
    {
     "data": {
      "application/vnd.jupyter.widget-view+json": {
       "model_id": "ff9b706bcef944ce9a4c4f19ccb5567e",
       "version_major": 2,
       "version_minor": 0
      },
      "text/plain": [
       "interactive(children=(LineUpWidget(value=[], description='selection', layout=Layout(align_self='stretch', heig…"
      ]
     },
     "metadata": {},
     "output_type": "display_data"
    }
   ],
   "source": [
    "#Show the results in an interactive way\n",
    "def selection_changed(selection):\n",
    "    return PR.iloc[selection]\n",
    "interact(selection_changed, selection=lineup_widget.LineUpWidget(PR));"
   ]
  },
  {
   "cell_type": "code",
   "execution_count": null,
   "metadata": {},
   "outputs": [],
   "source": []
  }
 ],
 "metadata": {
  "interpreter": {
   "hash": "2c38b6a57c2d4f85bcd8a646c69c70f453ebfd581092159d4a2b022d1b3585cd"
  },
  "kernelspec": {
   "display_name": "Python 3 (ipykernel)",
   "language": "python",
   "name": "python3"
  },
  "language_info": {
   "codemirror_mode": {
    "name": "ipython",
    "version": 3
   },
   "file_extension": ".py",
   "mimetype": "text/x-python",
   "name": "python",
   "nbconvert_exporter": "python",
   "pygments_lexer": "ipython3",
   "version": "3.7.12"
  }
 },
 "nbformat": 4,
 "nbformat_minor": 4
}
