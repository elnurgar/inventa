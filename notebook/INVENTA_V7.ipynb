{
 "cells": [
  {
   "cell_type": "markdown",
   "metadata": {},
   "source": [
    "# INVENTA - Prioritization of natural extracts for chemical originality discovery\n"
   ]
  },
  {
   "cell_type": "code",
   "execution_count": 1,
   "metadata": {},
   "outputs": [
    {
     "name": "stdout",
     "output_type": "stream",
     "text": [
      "Enabling notebook extension lineup_widget/extension...\n",
      "      - Validating: \u001b[32mOK\u001b[0m\n"
     ]
    }
   ],
   "source": [
    "import sys \n",
    "sys.path.append('../src')\n",
    "\n",
    "import numpy as np\n",
    "import pandas as pd\n",
    "import scipy as sp\n",
    "import matplotlib.pyplot as plt\n",
    "import plotly.express as px\n",
    "import zipfile\n",
    "\n",
    "import lineup_widget\n",
    "from __future__ import print_function\n",
    "from ipywidgets import interact, interactive, interact_manual\n",
    "!jupyter nbextension enable --py --sys-prefix lineup_widget\n",
    "\n",
    "from sklearn.metrics import pairwise_distances\n",
    "from sklearn.neighbors import LocalOutlierFactor\n",
    "from sklearn.svm import OneClassSVM\n",
    "from sklearn.ensemble import IsolationForest\n",
    "from sklearn import preprocessing\n",
    "from skbio.stats.ordination import pcoa\n",
    "from skbio import OrdinationResults\n",
    "\n",
    "from inventa import quant_table\n",
    "from inventa import reduce_df\n",
    "from inventa import full_data\n",
    "from inventa import top_ions\n",
    "from inventa import annotations\n",
    "from inventa import feature_component\n",
    "from inventa import literature_component\n",
    "from inventa import similarity_component\n",
    "from inventa import sirius_classes\n",
    "from inventa import search_reported_class\n",
    "from inventa import class_component\n",
    "from inventa import process_gnps_results\n",
    "from inventa import drop_samples_based_on_string\n",
    "from inventa import process_gnps_results\n",
    "\n",
    "from plot import pcoa_2d"
   ]
  },
  {
   "cell_type": "markdown",
   "metadata": {},
   "source": [
    "![title](../src/Priority_rank.png)"
   ]
  },
  {
   "cell_type": "markdown",
   "metadata": {},
   "source": [
    "### Adapt the filenames accordig to your data"
   ]
  },
  {
   "cell_type": "code",
   "execution_count": 2,
   "metadata": {},
   "outputs": [],
   "source": [
    "#Input filenames: drag them in the data folder\n",
    "\n",
    "metadata_filename = '../data/Celastraceae_Set_metadata_pos.tsv'\n",
    "quantitative_data_filename = '../data/Celastraceae_pos_quant.csv'\n",
    "tima_results_filename = '../data/Celastraceae_pos_spectral_match_results_repond.tsv'\n",
    "vectorized_data_filename = '../data/Celastraceae_memomatrix.csv'\n",
    "sirius_results_filename = '../data/canopus_npc_summary.tsv'"
   ]
  },
  {
   "cell_type": "markdown",
   "metadata": {},
   "source": [
    "### Download GNPS results"
   ]
  },
  {
   "cell_type": "code",
   "execution_count": 3,
   "metadata": {},
   "outputs": [
    {
     "name": "stdout",
     "output_type": "stream",
     "text": [
      "/bin/bash: del: command not found\n",
      "  % Total    % Received % Xferd  Average Speed   Time    Time     Time  Current\n",
      "                                 Dload  Upload   Total   Spent    Left  Speed\n",
      "100 38.9M    0 38.9M    0     0  3534k      0 --:--:--  0:00:11 --:--:-- 5396k12.9M    0     0  2083k      0 --:--:--  0:00:06 --:--:-- 2644k\n",
      "/mnt/c/Users/quirosgu/Documents/GitHub/INVENTA/notebook\n",
      "198a574e172443ad84f43e739ceea2c8.tsv\n",
      "Celastraceae_Set_metadata_pos.tsv\n",
      "Celastraceae_memomatrix.csv\n",
      "Celastraceae_pos_quant.csv\n",
      "Celastraceae_pos_spectral_match_results_repond.tsv\n",
      "all_annotations\n",
      "all_annotations.zip\n",
      "canopus_npc_summary.tsv\n",
      "==================\n",
      "GNPS job results were succesfully downloaded\n",
      "==================\n",
      "==================\n",
      "FBMN job detected\n",
      "==================\n",
      "   Number of spectral library annotations in job = 1836\n",
      "==================\n",
      "   Number of network nodes in the job = 14970\n"
     ]
    }
   ],
   "source": [
    "!del all_annotations.zip\n",
    "\n",
    "# Replace the job ID in the line below <<< ====\n",
    "!curl -d \"\" \"https://gnps.ucsd.edu/ProteoSAFe/DownloadResult?task=4c919fcbc83d487493a487012afb920a&view=view_all_annotations_DB\" -o ../data/all_annotations.zip\n",
    "!pwd\n",
    "!ls ../data\n",
    "!unzip -q -d ../data/all_annotations/ -o ../data/all_annotations.zip\n",
    "\n",
    "print('==================')\n",
    "print('GNPS job results were succesfully downloaded')\n",
    "\n",
    "clusterinfosummary = process_gnps_results('../data/all_annotations')"
   ]
  },
  {
   "cell_type": "markdown",
   "metadata": {},
   "source": [
    "## Prepare input files\n",
    "\n",
    "### Metadata table"
   ]
  },
  {
   "cell_type": "code",
   "execution_count": 4,
   "metadata": {},
   "outputs": [
    {
     "data": {
      "text/html": [
       "<div>\n",
       "<style scoped>\n",
       "    .dataframe tbody tr th:only-of-type {\n",
       "        vertical-align: middle;\n",
       "    }\n",
       "\n",
       "    .dataframe tbody tr th {\n",
       "        vertical-align: top;\n",
       "    }\n",
       "\n",
       "    .dataframe thead th {\n",
       "        text-align: right;\n",
       "    }\n",
       "</style>\n",
       "<table border=\"1\" class=\"dataframe\">\n",
       "  <thead>\n",
       "    <tr style=\"text-align: right;\">\n",
       "      <th></th>\n",
       "      <th>filename</th>\n",
       "      <th>ATTRIBUTE_Code</th>\n",
       "      <th>ATTRIBUTE_Type</th>\n",
       "      <th>ATTRIBUTE_Family</th>\n",
       "      <th>ATTRIBUTE_Genus</th>\n",
       "      <th>ATTRIBUTE_Species</th>\n",
       "      <th>ATTRIBUTE_Organe</th>\n",
       "      <th>ATTRIBUTE_Broad_organ</th>\n",
       "      <th>ATTRIBUTE_Tissue</th>\n",
       "      <th>ATTRIBUTE_Subsystem</th>\n",
       "      <th>ATTRIBUTE_Sppart</th>\n",
       "    </tr>\n",
       "  </thead>\n",
       "  <tbody>\n",
       "    <tr>\n",
       "      <th>0</th>\n",
       "      <td>LQ-01-61-01_pos.mzXML</td>\n",
       "      <td>V107694</td>\n",
       "      <td>Sample</td>\n",
       "      <td>Celastraceae</td>\n",
       "      <td>Catha</td>\n",
       "      <td>Catha edulis</td>\n",
       "      <td>Leaves</td>\n",
       "      <td>photosynthetic</td>\n",
       "      <td>green tissue</td>\n",
       "      <td>aboveground</td>\n",
       "      <td>Catha edulis|Leaves</td>\n",
       "    </tr>\n",
       "    <tr>\n",
       "      <th>1</th>\n",
       "      <td>LQ-01-61-02_pos.mzXML</td>\n",
       "      <td>V107695</td>\n",
       "      <td>Sample</td>\n",
       "      <td>Celastraceae</td>\n",
       "      <td>Catha</td>\n",
       "      <td>Catha edulis</td>\n",
       "      <td>Stems</td>\n",
       "      <td>woody vegetative</td>\n",
       "      <td>woody tissue</td>\n",
       "      <td>aboveground</td>\n",
       "      <td>Catha edulis|Stems</td>\n",
       "    </tr>\n",
       "    <tr>\n",
       "      <th>2</th>\n",
       "      <td>LQ-01-61-03_pos.mzXML</td>\n",
       "      <td>V107696</td>\n",
       "      <td>Sample</td>\n",
       "      <td>Celastraceae</td>\n",
       "      <td>Catha</td>\n",
       "      <td>Catha edulis</td>\n",
       "      <td>Roots</td>\n",
       "      <td>roots</td>\n",
       "      <td>root tissue</td>\n",
       "      <td>belowground</td>\n",
       "      <td>Catha edulis|Roots</td>\n",
       "    </tr>\n",
       "  </tbody>\n",
       "</table>\n",
       "</div>"
      ],
      "text/plain": [
       "                filename ATTRIBUTE_Code ATTRIBUTE_Type ATTRIBUTE_Family  \\\n",
       "0  LQ-01-61-01_pos.mzXML        V107694         Sample     Celastraceae   \n",
       "1  LQ-01-61-02_pos.mzXML        V107695         Sample     Celastraceae   \n",
       "2  LQ-01-61-03_pos.mzXML        V107696         Sample     Celastraceae   \n",
       "\n",
       "  ATTRIBUTE_Genus ATTRIBUTE_Species ATTRIBUTE_Organe ATTRIBUTE_Broad_organ  \\\n",
       "0           Catha      Catha edulis           Leaves        photosynthetic   \n",
       "1           Catha      Catha edulis            Stems      woody vegetative   \n",
       "2           Catha      Catha edulis            Roots                 roots   \n",
       "\n",
       "  ATTRIBUTE_Tissue ATTRIBUTE_Subsystem     ATTRIBUTE_Sppart  \n",
       "0     green tissue         aboveground  Catha edulis|Leaves  \n",
       "1     woody tissue         aboveground   Catha edulis|Stems  \n",
       "2      root tissue         belowground   Catha edulis|Roots  "
      ]
     },
     "execution_count": 4,
     "metadata": {},
     "output_type": "execute_result"
    }
   ],
   "source": [
    "#metadata \n",
    "metadata_df = pd.read_csv(metadata_filename, sep='\\t')\n",
    "\n",
    "#if a column Species\\part is NOT present run the following command, if IS PRESENT don't run.\n",
    "metadata_df['ATTRIBUTE_Sppart'] = metadata_df[\"ATTRIBUTE_Species\"]+ \"|\" + metadata_df[\"ATTRIBUTE_Organe\"].map(str)\n",
    "metadata_df.head(3)"
   ]
  },
  {
   "cell_type": "markdown",
   "metadata": {},
   "source": [
    "### Quantification table"
   ]
  },
  {
   "cell_type": "code",
   "execution_count": 5,
   "metadata": {},
   "outputs": [
    {
     "data": {
      "text/html": [
       "<div>\n",
       "<style scoped>\n",
       "    .dataframe tbody tr th:only-of-type {\n",
       "        vertical-align: middle;\n",
       "    }\n",
       "\n",
       "    .dataframe tbody tr th {\n",
       "        vertical-align: top;\n",
       "    }\n",
       "\n",
       "    .dataframe thead th {\n",
       "        text-align: right;\n",
       "    }\n",
       "</style>\n",
       "<table border=\"1\" class=\"dataframe\">\n",
       "  <thead>\n",
       "    <tr style=\"text-align: right;\">\n",
       "      <th></th>\n",
       "      <th>LQ-01-61-01_pos.mzXML</th>\n",
       "      <th>LQ-01-61-02_pos.mzXML</th>\n",
       "      <th>LQ-01-61-03_pos.mzXML</th>\n",
       "      <th>LQ-01-61-04_pos.mzXML</th>\n",
       "      <th>LQ-01-61-05_pos.mzXML</th>\n",
       "      <th>LQ-01-61-06_pos.mzXML</th>\n",
       "      <th>LQ-01-61-07_pos.mzXML</th>\n",
       "      <th>LQ-01-61-08_pos.mzXML</th>\n",
       "      <th>LQ-01-61-09_pos.mzXML</th>\n",
       "      <th>LQ-01-61-10_pos.mzXML</th>\n",
       "      <th>...</th>\n",
       "      <th>LQ-01-61-69_pos.mzXML</th>\n",
       "      <th>LQ-01-61-70_pos.mzXML</th>\n",
       "      <th>LQ-01-61-71_pos.mzXML</th>\n",
       "      <th>LQ-01-61-72_pos.mzXML</th>\n",
       "      <th>LQ-01-61-73_pos.mzXML</th>\n",
       "      <th>LQ-01-61-74_pos.mzXML</th>\n",
       "      <th>LQ-01-61-75_pos.mzXML</th>\n",
       "      <th>LQ-01-61-76_pos.mzXML</th>\n",
       "      <th>LQ-01-61-77_pos.mzXML</th>\n",
       "      <th>LQ-01-61-78_pos.mzXML</th>\n",
       "    </tr>\n",
       "    <tr>\n",
       "      <th>row ID</th>\n",
       "      <th></th>\n",
       "      <th></th>\n",
       "      <th></th>\n",
       "      <th></th>\n",
       "      <th></th>\n",
       "      <th></th>\n",
       "      <th></th>\n",
       "      <th></th>\n",
       "      <th></th>\n",
       "      <th></th>\n",
       "      <th></th>\n",
       "      <th></th>\n",
       "      <th></th>\n",
       "      <th></th>\n",
       "      <th></th>\n",
       "      <th></th>\n",
       "      <th></th>\n",
       "      <th></th>\n",
       "      <th></th>\n",
       "      <th></th>\n",
       "      <th></th>\n",
       "    </tr>\n",
       "  </thead>\n",
       "  <tbody>\n",
       "    <tr>\n",
       "      <th>1</th>\n",
       "      <td>2.600773e+09</td>\n",
       "      <td>3.134767e+07</td>\n",
       "      <td>8.413720e+07</td>\n",
       "      <td>6.925458e+07</td>\n",
       "      <td>0.0</td>\n",
       "      <td>0.0</td>\n",
       "      <td>0.0</td>\n",
       "      <td>0.0</td>\n",
       "      <td>3.256476e+06</td>\n",
       "      <td>0.0</td>\n",
       "      <td>...</td>\n",
       "      <td>0.0</td>\n",
       "      <td>0.0</td>\n",
       "      <td>0.0</td>\n",
       "      <td>0.0</td>\n",
       "      <td>0.0</td>\n",
       "      <td>0.0</td>\n",
       "      <td>0.0</td>\n",
       "      <td>0.0</td>\n",
       "      <td>0.0</td>\n",
       "      <td>0.0</td>\n",
       "    </tr>\n",
       "    <tr>\n",
       "      <th>2</th>\n",
       "      <td>8.860196e+08</td>\n",
       "      <td>1.964781e+07</td>\n",
       "      <td>8.688867e+06</td>\n",
       "      <td>2.214498e+09</td>\n",
       "      <td>0.0</td>\n",
       "      <td>0.0</td>\n",
       "      <td>0.0</td>\n",
       "      <td>0.0</td>\n",
       "      <td>1.639854e+06</td>\n",
       "      <td>0.0</td>\n",
       "      <td>...</td>\n",
       "      <td>0.0</td>\n",
       "      <td>0.0</td>\n",
       "      <td>0.0</td>\n",
       "      <td>0.0</td>\n",
       "      <td>0.0</td>\n",
       "      <td>0.0</td>\n",
       "      <td>0.0</td>\n",
       "      <td>0.0</td>\n",
       "      <td>0.0</td>\n",
       "      <td>0.0</td>\n",
       "    </tr>\n",
       "    <tr>\n",
       "      <th>3</th>\n",
       "      <td>8.544583e+08</td>\n",
       "      <td>2.594163e+07</td>\n",
       "      <td>0.000000e+00</td>\n",
       "      <td>4.612163e+08</td>\n",
       "      <td>0.0</td>\n",
       "      <td>0.0</td>\n",
       "      <td>0.0</td>\n",
       "      <td>0.0</td>\n",
       "      <td>0.000000e+00</td>\n",
       "      <td>0.0</td>\n",
       "      <td>...</td>\n",
       "      <td>0.0</td>\n",
       "      <td>0.0</td>\n",
       "      <td>0.0</td>\n",
       "      <td>0.0</td>\n",
       "      <td>0.0</td>\n",
       "      <td>0.0</td>\n",
       "      <td>0.0</td>\n",
       "      <td>0.0</td>\n",
       "      <td>0.0</td>\n",
       "      <td>0.0</td>\n",
       "    </tr>\n",
       "  </tbody>\n",
       "</table>\n",
       "<p>3 rows × 78 columns</p>\n",
       "</div>"
      ],
      "text/plain": [
       "        LQ-01-61-01_pos.mzXML  LQ-01-61-02_pos.mzXML  LQ-01-61-03_pos.mzXML  \\\n",
       "row ID                                                                        \n",
       "1                2.600773e+09           3.134767e+07           8.413720e+07   \n",
       "2                8.860196e+08           1.964781e+07           8.688867e+06   \n",
       "3                8.544583e+08           2.594163e+07           0.000000e+00   \n",
       "\n",
       "        LQ-01-61-04_pos.mzXML  LQ-01-61-05_pos.mzXML  LQ-01-61-06_pos.mzXML  \\\n",
       "row ID                                                                        \n",
       "1                6.925458e+07                    0.0                    0.0   \n",
       "2                2.214498e+09                    0.0                    0.0   \n",
       "3                4.612163e+08                    0.0                    0.0   \n",
       "\n",
       "        LQ-01-61-07_pos.mzXML  LQ-01-61-08_pos.mzXML  LQ-01-61-09_pos.mzXML  \\\n",
       "row ID                                                                        \n",
       "1                         0.0                    0.0           3.256476e+06   \n",
       "2                         0.0                    0.0           1.639854e+06   \n",
       "3                         0.0                    0.0           0.000000e+00   \n",
       "\n",
       "        LQ-01-61-10_pos.mzXML  ...  LQ-01-61-69_pos.mzXML  \\\n",
       "row ID                         ...                          \n",
       "1                         0.0  ...                    0.0   \n",
       "2                         0.0  ...                    0.0   \n",
       "3                         0.0  ...                    0.0   \n",
       "\n",
       "        LQ-01-61-70_pos.mzXML  LQ-01-61-71_pos.mzXML  LQ-01-61-72_pos.mzXML  \\\n",
       "row ID                                                                        \n",
       "1                         0.0                    0.0                    0.0   \n",
       "2                         0.0                    0.0                    0.0   \n",
       "3                         0.0                    0.0                    0.0   \n",
       "\n",
       "        LQ-01-61-73_pos.mzXML  LQ-01-61-74_pos.mzXML  LQ-01-61-75_pos.mzXML  \\\n",
       "row ID                                                                        \n",
       "1                         0.0                    0.0                    0.0   \n",
       "2                         0.0                    0.0                    0.0   \n",
       "3                         0.0                    0.0                    0.0   \n",
       "\n",
       "        LQ-01-61-76_pos.mzXML  LQ-01-61-77_pos.mzXML  LQ-01-61-78_pos.mzXML  \n",
       "row ID                                                                       \n",
       "1                         0.0                    0.0                    0.0  \n",
       "2                         0.0                    0.0                    0.0  \n",
       "3                         0.0                    0.0                    0.0  \n",
       "\n",
       "[3 rows x 78 columns]"
      ]
     },
     "execution_count": 5,
     "metadata": {},
     "output_type": "execute_result"
    }
   ],
   "source": [
    "#Quantitative table\n",
    "quant_df = pd.read_csv(quantitative_data_filename, sep=',', index_col='row ID')\n",
    "quant_df = quant_table(quant_df)\n",
    "quant_df.head(3)"
   ]
  },
  {
   "cell_type": "markdown",
   "metadata": {},
   "source": [
    "### Merge tables"
   ]
  },
  {
   "cell_type": "code",
   "execution_count": 6,
   "metadata": {},
   "outputs": [
    {
     "name": "stdout",
     "output_type": "stream",
     "text": [
      "(78, 14981)\n"
     ]
    },
    {
     "data": {
      "text/html": [
       "<div>\n",
       "<style scoped>\n",
       "    .dataframe tbody tr th:only-of-type {\n",
       "        vertical-align: middle;\n",
       "    }\n",
       "\n",
       "    .dataframe tbody tr th {\n",
       "        vertical-align: top;\n",
       "    }\n",
       "\n",
       "    .dataframe thead th {\n",
       "        text-align: right;\n",
       "    }\n",
       "</style>\n",
       "<table border=\"1\" class=\"dataframe\">\n",
       "  <thead>\n",
       "    <tr style=\"text-align: right;\">\n",
       "      <th></th>\n",
       "      <th>filename</th>\n",
       "      <th>ATTRIBUTE_Code</th>\n",
       "      <th>ATTRIBUTE_Type</th>\n",
       "      <th>ATTRIBUTE_Family</th>\n",
       "      <th>ATTRIBUTE_Genus</th>\n",
       "      <th>ATTRIBUTE_Species</th>\n",
       "      <th>ATTRIBUTE_Organe</th>\n",
       "      <th>ATTRIBUTE_Broad_organ</th>\n",
       "      <th>ATTRIBUTE_Tissue</th>\n",
       "      <th>ATTRIBUTE_Subsystem</th>\n",
       "      <th>...</th>\n",
       "      <th>14961</th>\n",
       "      <th>14962</th>\n",
       "      <th>14963</th>\n",
       "      <th>14964</th>\n",
       "      <th>14965</th>\n",
       "      <th>14966</th>\n",
       "      <th>14967</th>\n",
       "      <th>14968</th>\n",
       "      <th>14969</th>\n",
       "      <th>14970</th>\n",
       "    </tr>\n",
       "  </thead>\n",
       "  <tbody>\n",
       "    <tr>\n",
       "      <th>0</th>\n",
       "      <td>LQ-01-61-01_pos.mzXML</td>\n",
       "      <td>V107694</td>\n",
       "      <td>Sample</td>\n",
       "      <td>Celastraceae</td>\n",
       "      <td>Catha</td>\n",
       "      <td>Catha edulis</td>\n",
       "      <td>Leaves</td>\n",
       "      <td>photosynthetic</td>\n",
       "      <td>green tissue</td>\n",
       "      <td>aboveground</td>\n",
       "      <td>...</td>\n",
       "      <td>0.0</td>\n",
       "      <td>0.0</td>\n",
       "      <td>0.0</td>\n",
       "      <td>0.0</td>\n",
       "      <td>0.0</td>\n",
       "      <td>0.0</td>\n",
       "      <td>0.0</td>\n",
       "      <td>0.0</td>\n",
       "      <td>0.0</td>\n",
       "      <td>0.0</td>\n",
       "    </tr>\n",
       "    <tr>\n",
       "      <th>1</th>\n",
       "      <td>LQ-01-61-02_pos.mzXML</td>\n",
       "      <td>V107695</td>\n",
       "      <td>Sample</td>\n",
       "      <td>Celastraceae</td>\n",
       "      <td>Catha</td>\n",
       "      <td>Catha edulis</td>\n",
       "      <td>Stems</td>\n",
       "      <td>woody vegetative</td>\n",
       "      <td>woody tissue</td>\n",
       "      <td>aboveground</td>\n",
       "      <td>...</td>\n",
       "      <td>0.0</td>\n",
       "      <td>0.0</td>\n",
       "      <td>0.0</td>\n",
       "      <td>0.0</td>\n",
       "      <td>0.0</td>\n",
       "      <td>0.0</td>\n",
       "      <td>0.0</td>\n",
       "      <td>0.0</td>\n",
       "      <td>0.0</td>\n",
       "      <td>0.0</td>\n",
       "    </tr>\n",
       "  </tbody>\n",
       "</table>\n",
       "<p>2 rows × 14981 columns</p>\n",
       "</div>"
      ],
      "text/plain": [
       "                filename ATTRIBUTE_Code ATTRIBUTE_Type ATTRIBUTE_Family  \\\n",
       "0  LQ-01-61-01_pos.mzXML        V107694         Sample     Celastraceae   \n",
       "1  LQ-01-61-02_pos.mzXML        V107695         Sample     Celastraceae   \n",
       "\n",
       "  ATTRIBUTE_Genus ATTRIBUTE_Species ATTRIBUTE_Organe ATTRIBUTE_Broad_organ  \\\n",
       "0           Catha      Catha edulis           Leaves        photosynthetic   \n",
       "1           Catha      Catha edulis            Stems      woody vegetative   \n",
       "\n",
       "  ATTRIBUTE_Tissue ATTRIBUTE_Subsystem  ... 14961  14962  14963  14964  14965  \\\n",
       "0     green tissue         aboveground  ...   0.0    0.0    0.0    0.0    0.0   \n",
       "1     woody tissue         aboveground  ...   0.0    0.0    0.0    0.0    0.0   \n",
       "\n",
       "   14966  14967  14968  14969  14970  \n",
       "0    0.0    0.0    0.0    0.0    0.0  \n",
       "1    0.0    0.0    0.0    0.0    0.0  \n",
       "\n",
       "[2 rows x 14981 columns]"
      ]
     },
     "execution_count": 6,
     "metadata": {},
     "output_type": "execute_result"
    }
   ],
   "source": [
    "full_df = full_data(metadata_df,quant_df)\n",
    "print(full_df.shape)\n",
    "full_df.head(2)"
   ]
  },
  {
   "cell_type": "markdown",
   "metadata": {},
   "source": [
    "### Remove experimental controls"
   ]
  },
  {
   "cell_type": "code",
   "execution_count": 7,
   "metadata": {},
   "outputs": [
    {
     "name": "stdout",
     "output_type": "stream",
     "text": [
      "(78, 14981)\n",
      "(76, 14981)\n",
      "(77, 11)\n",
      "(76, 11)\n"
     ]
    }
   ],
   "source": [
    "#erase all the blanks and QC's - Change the string as needed\n",
    "list_of_strings_for_QC_Blank_filter = ['Blank', 'QC']\n",
    "column_to_use_for_filtering = 'ATTRIBUTE_Type' #this information should be included in the metadata table\n",
    "\n",
    "full_df = drop_samples_based_on_string(full_df,list_of_strings_for_QC_Blank_filter, column_to_use_for_filtering)\n",
    "metadata_df = drop_samples_based_on_string(metadata_df,list_of_strings_for_QC_Blank_filter, column_to_use_for_filtering)"
   ]
  },
  {
   "cell_type": "code",
   "execution_count": 8,
   "metadata": {},
   "outputs": [
    {
     "data": {
      "text/html": [
       "<div>\n",
       "<style scoped>\n",
       "    .dataframe tbody tr th:only-of-type {\n",
       "        vertical-align: middle;\n",
       "    }\n",
       "\n",
       "    .dataframe tbody tr th {\n",
       "        vertical-align: top;\n",
       "    }\n",
       "\n",
       "    .dataframe thead th {\n",
       "        text-align: right;\n",
       "    }\n",
       "</style>\n",
       "<table border=\"1\" class=\"dataframe\">\n",
       "  <thead>\n",
       "    <tr style=\"text-align: right;\">\n",
       "      <th></th>\n",
       "      <th>1</th>\n",
       "      <th>2</th>\n",
       "      <th>3</th>\n",
       "      <th>4</th>\n",
       "      <th>5</th>\n",
       "      <th>6</th>\n",
       "      <th>7</th>\n",
       "      <th>8</th>\n",
       "      <th>9</th>\n",
       "      <th>10</th>\n",
       "      <th>...</th>\n",
       "      <th>14961</th>\n",
       "      <th>14962</th>\n",
       "      <th>14963</th>\n",
       "      <th>14964</th>\n",
       "      <th>14965</th>\n",
       "      <th>14966</th>\n",
       "      <th>14967</th>\n",
       "      <th>14968</th>\n",
       "      <th>14969</th>\n",
       "      <th>14970</th>\n",
       "    </tr>\n",
       "    <tr>\n",
       "      <th>ATTRIBUTE_Sppart</th>\n",
       "      <th></th>\n",
       "      <th></th>\n",
       "      <th></th>\n",
       "      <th></th>\n",
       "      <th></th>\n",
       "      <th></th>\n",
       "      <th></th>\n",
       "      <th></th>\n",
       "      <th></th>\n",
       "      <th></th>\n",
       "      <th></th>\n",
       "      <th></th>\n",
       "      <th></th>\n",
       "      <th></th>\n",
       "      <th></th>\n",
       "      <th></th>\n",
       "      <th></th>\n",
       "      <th></th>\n",
       "      <th></th>\n",
       "      <th></th>\n",
       "      <th></th>\n",
       "    </tr>\n",
       "  </thead>\n",
       "  <tbody>\n",
       "    <tr>\n",
       "      <th>Catha edulis|Leaves</th>\n",
       "      <td>2.600773e+09</td>\n",
       "      <td>8.860196e+08</td>\n",
       "      <td>8.544583e+08</td>\n",
       "      <td>6.320161e+08</td>\n",
       "      <td>5.282800e+08</td>\n",
       "      <td>5.227184e+08</td>\n",
       "      <td>5.122110e+08</td>\n",
       "      <td>3.936131e+08</td>\n",
       "      <td>4.722463e+08</td>\n",
       "      <td>2.347275e+08</td>\n",
       "      <td>...</td>\n",
       "      <td>0.0</td>\n",
       "      <td>0.0</td>\n",
       "      <td>0.0</td>\n",
       "      <td>0.0</td>\n",
       "      <td>0.0</td>\n",
       "      <td>0.0</td>\n",
       "      <td>0.0</td>\n",
       "      <td>0.0</td>\n",
       "      <td>0.0</td>\n",
       "      <td>0.0</td>\n",
       "    </tr>\n",
       "    <tr>\n",
       "      <th>Catha edulis|Stems</th>\n",
       "      <td>3.134767e+07</td>\n",
       "      <td>1.964781e+07</td>\n",
       "      <td>2.594163e+07</td>\n",
       "      <td>0.000000e+00</td>\n",
       "      <td>7.494122e+06</td>\n",
       "      <td>2.107071e+08</td>\n",
       "      <td>0.000000e+00</td>\n",
       "      <td>5.018283e+07</td>\n",
       "      <td>1.859377e+07</td>\n",
       "      <td>3.222927e+08</td>\n",
       "      <td>...</td>\n",
       "      <td>0.0</td>\n",
       "      <td>0.0</td>\n",
       "      <td>0.0</td>\n",
       "      <td>0.0</td>\n",
       "      <td>0.0</td>\n",
       "      <td>0.0</td>\n",
       "      <td>0.0</td>\n",
       "      <td>0.0</td>\n",
       "      <td>0.0</td>\n",
       "      <td>0.0</td>\n",
       "    </tr>\n",
       "  </tbody>\n",
       "</table>\n",
       "<p>2 rows × 14970 columns</p>\n",
       "</div>"
      ],
      "text/plain": [
       "                            1             2             3             4      \\\n",
       "ATTRIBUTE_Sppart                                                              \n",
       "Catha edulis|Leaves  2.600773e+09  8.860196e+08  8.544583e+08  6.320161e+08   \n",
       "Catha edulis|Stems   3.134767e+07  1.964781e+07  2.594163e+07  0.000000e+00   \n",
       "\n",
       "                            5             6             7             8      \\\n",
       "ATTRIBUTE_Sppart                                                              \n",
       "Catha edulis|Leaves  5.282800e+08  5.227184e+08  5.122110e+08  3.936131e+08   \n",
       "Catha edulis|Stems   7.494122e+06  2.107071e+08  0.000000e+00  5.018283e+07   \n",
       "\n",
       "                            9             10     ...  14961  14962  14963  \\\n",
       "ATTRIBUTE_Sppart                                 ...                        \n",
       "Catha edulis|Leaves  4.722463e+08  2.347275e+08  ...    0.0    0.0    0.0   \n",
       "Catha edulis|Stems   1.859377e+07  3.222927e+08  ...    0.0    0.0    0.0   \n",
       "\n",
       "                     14964  14965  14966  14967  14968  14969  14970  \n",
       "ATTRIBUTE_Sppart                                                      \n",
       "Catha edulis|Leaves    0.0    0.0    0.0    0.0    0.0    0.0    0.0  \n",
       "Catha edulis|Stems     0.0    0.0    0.0    0.0    0.0    0.0    0.0  \n",
       "\n",
       "[2 rows x 14970 columns]"
      ]
     },
     "execution_count": 8,
     "metadata": {},
     "output_type": "execute_result"
    }
   ],
   "source": [
    "# Make a minimal table for further processing\n",
    "reduced_df = reduce_df(full_df, metadata_df, 'ATTRIBUTE_Sppart')\n",
    "reduced_df.head(2)"
   ]
  },
  {
   "cell_type": "markdown",
   "metadata": {},
   "source": [
    "# Feature component (FC)"
   ]
  },
  {
   "cell_type": "markdown",
   "metadata": {},
   "source": [
    "### FC. Feature Specifificty"
   ]
  },
  {
   "cell_type": "code",
   "execution_count": 9,
   "metadata": {},
   "outputs": [
    {
     "data": {
      "text/html": [
       "<div>\n",
       "<style scoped>\n",
       "    .dataframe tbody tr th:only-of-type {\n",
       "        vertical-align: middle;\n",
       "    }\n",
       "\n",
       "    .dataframe tbody tr th {\n",
       "        vertical-align: top;\n",
       "    }\n",
       "\n",
       "    .dataframe thead th {\n",
       "        text-align: right;\n",
       "    }\n",
       "</style>\n",
       "<table border=\"1\" class=\"dataframe\">\n",
       "  <thead>\n",
       "    <tr style=\"text-align: right;\">\n",
       "      <th></th>\n",
       "      <th>row ID</th>\n",
       "      <th>filename</th>\n",
       "      <th>ATTRIBUTE_Sppart</th>\n",
       "      <th>Feature_specificity</th>\n",
       "    </tr>\n",
       "  </thead>\n",
       "  <tbody>\n",
       "    <tr>\n",
       "      <th>0</th>\n",
       "      <td>1</td>\n",
       "      <td>LQ-01-61-01_pos.mzXML</td>\n",
       "      <td>Catha edulis|Leaves</td>\n",
       "      <td>93.258820</td>\n",
       "    </tr>\n",
       "    <tr>\n",
       "      <th>1</th>\n",
       "      <td>2</td>\n",
       "      <td>LQ-01-61-04_pos.mzXML</td>\n",
       "      <td>Catha edulis|Aerial_parts</td>\n",
       "      <td>69.662011</td>\n",
       "    </tr>\n",
       "  </tbody>\n",
       "</table>\n",
       "</div>"
      ],
      "text/plain": [
       "   row ID               filename           ATTRIBUTE_Sppart  \\\n",
       "0       1  LQ-01-61-01_pos.mzXML        Catha edulis|Leaves   \n",
       "1       2  LQ-01-61-04_pos.mzXML  Catha edulis|Aerial_parts   \n",
       "\n",
       "   Feature_specificity  \n",
       "0            93.258820  \n",
       "1            69.662011  "
      ]
     },
     "execution_count": 9,
     "metadata": {},
     "output_type": "execute_result"
    }
   ],
   "source": [
    "specificity_df = top_ions(reduced_df, quant_df)\n",
    "specificity_df.head(2)"
   ]
  },
  {
   "cell_type": "markdown",
   "metadata": {},
   "source": [
    "### FC. Annotation Rate"
   ]
  },
  {
   "cell_type": "code",
   "execution_count": 10,
   "metadata": {},
   "outputs": [
    {
     "data": {
      "text/html": [
       "<div>\n",
       "<style scoped>\n",
       "    .dataframe tbody tr th:only-of-type {\n",
       "        vertical-align: middle;\n",
       "    }\n",
       "\n",
       "    .dataframe tbody tr th {\n",
       "        vertical-align: top;\n",
       "    }\n",
       "\n",
       "    .dataframe thead th {\n",
       "        text-align: right;\n",
       "    }\n",
       "</style>\n",
       "<table border=\"1\" class=\"dataframe\">\n",
       "  <thead>\n",
       "    <tr style=\"text-align: right;\">\n",
       "      <th></th>\n",
       "      <th>cluster index</th>\n",
       "      <th>componentindex</th>\n",
       "      <th>Annotated_GNPS</th>\n",
       "      <th>annotation</th>\n",
       "    </tr>\n",
       "  </thead>\n",
       "  <tbody>\n",
       "    <tr>\n",
       "      <th>0</th>\n",
       "      <td>1</td>\n",
       "      <td>113</td>\n",
       "      <td>0</td>\n",
       "      <td>0</td>\n",
       "    </tr>\n",
       "    <tr>\n",
       "      <th>1</th>\n",
       "      <td>2</td>\n",
       "      <td>136</td>\n",
       "      <td>0</td>\n",
       "      <td>0</td>\n",
       "    </tr>\n",
       "  </tbody>\n",
       "</table>\n",
       "</div>"
      ],
      "text/plain": [
       "   cluster index  componentindex Annotated_GNPS  annotation\n",
       "0              1             113              0           0\n",
       "1              2             136              0           0"
      ]
     },
     "execution_count": 10,
     "metadata": {},
     "output_type": "execute_result"
    }
   ],
   "source": [
    "annot_gnps_df = pd.read_csv(clusterinfosummary, \n",
    "                                sep='\\t', \n",
    "                                usecols=['cluster index','componentindex', 'SpectrumID'], \n",
    "                                low_memory=False)\n",
    "annot_is_df = pd.read_csv(tima_results_filename,\n",
    "                                sep='\\t', \n",
    "                                usecols =['libname','feature_id','short_inchikey'], \n",
    "                                low_memory=False)\n",
    "\n",
    "annotation_df = annotations(annot_gnps_df, annot_is_df)\n",
    "annotation_df.head(2)"
   ]
  },
  {
   "cell_type": "code",
   "execution_count": 11,
   "metadata": {},
   "outputs": [
    {
     "data": {
      "text/html": [
       "<div>\n",
       "<style scoped>\n",
       "    .dataframe tbody tr th:only-of-type {\n",
       "        vertical-align: middle;\n",
       "    }\n",
       "\n",
       "    .dataframe tbody tr th {\n",
       "        vertical-align: top;\n",
       "    }\n",
       "\n",
       "    .dataframe thead th {\n",
       "        text-align: right;\n",
       "    }\n",
       "</style>\n",
       "<table border=\"1\" class=\"dataframe\">\n",
       "  <thead>\n",
       "    <tr style=\"text-align: right;\">\n",
       "      <th></th>\n",
       "      <th>filename</th>\n",
       "      <th>ATTRIBUTE_Species</th>\n",
       "      <th>ATTRIBUTE_Sppart</th>\n",
       "      <th>Sample_specificity</th>\n",
       "      <th>FC</th>\n",
       "    </tr>\n",
       "  </thead>\n",
       "  <tbody>\n",
       "    <tr>\n",
       "      <th>5</th>\n",
       "      <td>LQ-01-61-06_pos.mzXML</td>\n",
       "      <td>Celastrus orbiculatus</td>\n",
       "      <td>Celastrus orbiculatus|Roots</td>\n",
       "      <td>0.863281</td>\n",
       "      <td>0.824219</td>\n",
       "    </tr>\n",
       "    <tr>\n",
       "      <th>75</th>\n",
       "      <td>LQ-01-61-78_pos.mzXML</td>\n",
       "      <td>Pristimera indica</td>\n",
       "      <td>Pristimera indica|Roots</td>\n",
       "      <td>0.841667</td>\n",
       "      <td>0.813889</td>\n",
       "    </tr>\n",
       "  </tbody>\n",
       "</table>\n",
       "</div>"
      ],
      "text/plain": [
       "                 filename      ATTRIBUTE_Species             ATTRIBUTE_Sppart  \\\n",
       "5   LQ-01-61-06_pos.mzXML  Celastrus orbiculatus  Celastrus orbiculatus|Roots   \n",
       "75  LQ-01-61-78_pos.mzXML      Pristimera indica      Pristimera indica|Roots   \n",
       "\n",
       "    Sample_specificity        FC  \n",
       "5             0.863281  0.824219  \n",
       "75            0.841667  0.813889  "
      ]
     },
     "execution_count": 11,
     "metadata": {},
     "output_type": "execute_result"
    }
   ],
   "source": [
    "FC = feature_component(specificity_df, annotation_df, metadata_df)\n",
    "#FC = FC.sort_values(by=['FC'], ascending=False)\n",
    "FC.head(2)"
   ]
  },
  {
   "cell_type": "markdown",
   "metadata": {},
   "source": [
    "# Literature component (LC)\n"
   ]
  },
  {
   "cell_type": "code",
   "execution_count": 12,
   "metadata": {},
   "outputs": [
    {
     "data": {
      "text/html": [
       "<div>\n",
       "<style scoped>\n",
       "    .dataframe tbody tr th:only-of-type {\n",
       "        vertical-align: middle;\n",
       "    }\n",
       "\n",
       "    .dataframe tbody tr th {\n",
       "        vertical-align: top;\n",
       "    }\n",
       "\n",
       "    .dataframe thead th {\n",
       "        text-align: right;\n",
       "    }\n",
       "</style>\n",
       "<table border=\"1\" class=\"dataframe\">\n",
       "  <thead>\n",
       "    <tr style=\"text-align: right;\">\n",
       "      <th></th>\n",
       "      <th>filename</th>\n",
       "      <th>ATTRIBUTE_Family</th>\n",
       "      <th>ATTRIBUTE_Genus</th>\n",
       "      <th>ATTRIBUTE_Species</th>\n",
       "      <th>Reported_comp_Family</th>\n",
       "      <th>Reported_comp_Genus</th>\n",
       "      <th>Reported_comp_Species</th>\n",
       "      <th>LC</th>\n",
       "    </tr>\n",
       "  </thead>\n",
       "  <tbody>\n",
       "    <tr>\n",
       "      <th>43</th>\n",
       "      <td>LQ-01-61-40_pos.mzXML</td>\n",
       "      <td>Celastraceae</td>\n",
       "      <td>Loeseneriella</td>\n",
       "      <td>Loeseneriella urceolus</td>\n",
       "      <td>0.0</td>\n",
       "      <td>0.0</td>\n",
       "      <td>0</td>\n",
       "      <td>1</td>\n",
       "    </tr>\n",
       "    <tr>\n",
       "      <th>50</th>\n",
       "      <td>LQ-01-61-47_pos.mzXML</td>\n",
       "      <td>Celastraceae</td>\n",
       "      <td>Maytenus</td>\n",
       "      <td>Maytenus inermis</td>\n",
       "      <td>0.0</td>\n",
       "      <td>0.0</td>\n",
       "      <td>0</td>\n",
       "      <td>1</td>\n",
       "    </tr>\n",
       "  </tbody>\n",
       "</table>\n",
       "</div>"
      ],
      "text/plain": [
       "                 filename ATTRIBUTE_Family ATTRIBUTE_Genus  \\\n",
       "43  LQ-01-61-40_pos.mzXML     Celastraceae   Loeseneriella   \n",
       "50  LQ-01-61-47_pos.mzXML     Celastraceae        Maytenus   \n",
       "\n",
       "         ATTRIBUTE_Species  Reported_comp_Family  Reported_comp_Genus  \\\n",
       "43  Loeseneriella urceolus                   0.0                  0.0   \n",
       "50        Maytenus inermis                   0.0                  0.0   \n",
       "\n",
       "    Reported_comp_Species  LC  \n",
       "43                      0   1  \n",
       "50                      0   1  "
      ]
     },
     "execution_count": 12,
     "metadata": {},
     "output_type": "execute_result"
    }
   ],
   "source": [
    "#erase all the blanks and QC's\n",
    "\n",
    "LC = literature_component(metadata_df)\n",
    "LC = LC.sort_values(by=['LC'], ascending=False)\n",
    "LC.head(2)"
   ]
  },
  {
   "cell_type": "markdown",
   "metadata": {},
   "source": [
    "# Similarity component (SC)"
   ]
  },
  {
   "cell_type": "code",
   "execution_count": 13,
   "metadata": {},
   "outputs": [
    {
     "data": {
      "text/html": [
       "<div>\n",
       "<style scoped>\n",
       "    .dataframe tbody tr th:only-of-type {\n",
       "        vertical-align: middle;\n",
       "    }\n",
       "\n",
       "    .dataframe tbody tr th {\n",
       "        vertical-align: top;\n",
       "    }\n",
       "\n",
       "    .dataframe thead th {\n",
       "        text-align: right;\n",
       "    }\n",
       "</style>\n",
       "<table border=\"1\" class=\"dataframe\">\n",
       "  <thead>\n",
       "    <tr style=\"text-align: right;\">\n",
       "      <th></th>\n",
       "      <th>filename</th>\n",
       "      <th>peak@53.04</th>\n",
       "      <th>peak@57.07</th>\n",
       "      <th>peak@77.04</th>\n",
       "      <th>peak@78.03</th>\n",
       "      <th>peak@83.09</th>\n",
       "      <th>peak@85.07</th>\n",
       "      <th>peak@91.05</th>\n",
       "      <th>peak@93.07</th>\n",
       "      <th>peak@95.05</th>\n",
       "      <th>...</th>\n",
       "      <th>peak@470.31</th>\n",
       "      <th>peak@185.87</th>\n",
       "      <th>peak@286.39</th>\n",
       "      <th>peak@655.05</th>\n",
       "      <th>peak@158.75</th>\n",
       "      <th>peak@386.73</th>\n",
       "      <th>peak@411.57</th>\n",
       "      <th>peak@611.62</th>\n",
       "      <th>peak@466.50</th>\n",
       "      <th>peak@123.63</th>\n",
       "    </tr>\n",
       "  </thead>\n",
       "  <tbody>\n",
       "    <tr>\n",
       "      <th>0</th>\n",
       "      <td>LQ-01-61-01_pos.mzXML</td>\n",
       "      <td>45.0</td>\n",
       "      <td>246.0</td>\n",
       "      <td>23.0</td>\n",
       "      <td>66.0</td>\n",
       "      <td>239.0</td>\n",
       "      <td>147.0</td>\n",
       "      <td>230.0</td>\n",
       "      <td>293.0</td>\n",
       "      <td>191.0</td>\n",
       "      <td>...</td>\n",
       "      <td>0.0</td>\n",
       "      <td>0.0</td>\n",
       "      <td>0.0</td>\n",
       "      <td>0.0</td>\n",
       "      <td>0.0</td>\n",
       "      <td>0.0</td>\n",
       "      <td>0.0</td>\n",
       "      <td>0.0</td>\n",
       "      <td>0.0</td>\n",
       "      <td>0.0</td>\n",
       "    </tr>\n",
       "    <tr>\n",
       "      <th>1</th>\n",
       "      <td>LQ-01-61-02_pos.mzXML</td>\n",
       "      <td>32.0</td>\n",
       "      <td>290.0</td>\n",
       "      <td>8.0</td>\n",
       "      <td>16.0</td>\n",
       "      <td>338.0</td>\n",
       "      <td>159.0</td>\n",
       "      <td>285.0</td>\n",
       "      <td>395.0</td>\n",
       "      <td>144.0</td>\n",
       "      <td>...</td>\n",
       "      <td>0.0</td>\n",
       "      <td>0.0</td>\n",
       "      <td>0.0</td>\n",
       "      <td>0.0</td>\n",
       "      <td>0.0</td>\n",
       "      <td>0.0</td>\n",
       "      <td>0.0</td>\n",
       "      <td>0.0</td>\n",
       "      <td>0.0</td>\n",
       "      <td>0.0</td>\n",
       "    </tr>\n",
       "    <tr>\n",
       "      <th>2</th>\n",
       "      <td>LQ-01-61-03_pos.mzXML</td>\n",
       "      <td>31.0</td>\n",
       "      <td>259.0</td>\n",
       "      <td>8.0</td>\n",
       "      <td>35.0</td>\n",
       "      <td>317.0</td>\n",
       "      <td>131.0</td>\n",
       "      <td>301.0</td>\n",
       "      <td>468.0</td>\n",
       "      <td>131.0</td>\n",
       "      <td>...</td>\n",
       "      <td>0.0</td>\n",
       "      <td>0.0</td>\n",
       "      <td>0.0</td>\n",
       "      <td>0.0</td>\n",
       "      <td>0.0</td>\n",
       "      <td>0.0</td>\n",
       "      <td>0.0</td>\n",
       "      <td>0.0</td>\n",
       "      <td>0.0</td>\n",
       "      <td>0.0</td>\n",
       "    </tr>\n",
       "  </tbody>\n",
       "</table>\n",
       "<p>3 rows × 39121 columns</p>\n",
       "</div>"
      ],
      "text/plain": [
       "                filename  peak@53.04  peak@57.07  peak@77.04  peak@78.03  \\\n",
       "0  LQ-01-61-01_pos.mzXML        45.0       246.0        23.0        66.0   \n",
       "1  LQ-01-61-02_pos.mzXML        32.0       290.0         8.0        16.0   \n",
       "2  LQ-01-61-03_pos.mzXML        31.0       259.0         8.0        35.0   \n",
       "\n",
       "   peak@83.09  peak@85.07  peak@91.05  peak@93.07  peak@95.05  ...  \\\n",
       "0       239.0       147.0       230.0       293.0       191.0  ...   \n",
       "1       338.0       159.0       285.0       395.0       144.0  ...   \n",
       "2       317.0       131.0       301.0       468.0       131.0  ...   \n",
       "\n",
       "   peak@470.31  peak@185.87  peak@286.39  peak@655.05  peak@158.75  \\\n",
       "0          0.0          0.0          0.0          0.0          0.0   \n",
       "1          0.0          0.0          0.0          0.0          0.0   \n",
       "2          0.0          0.0          0.0          0.0          0.0   \n",
       "\n",
       "   peak@386.73  peak@411.57  peak@611.62  peak@466.50  peak@123.63  \n",
       "0          0.0          0.0          0.0          0.0          0.0  \n",
       "1          0.0          0.0          0.0          0.0          0.0  \n",
       "2          0.0          0.0          0.0          0.0          0.0  \n",
       "\n",
       "[3 rows x 39121 columns]"
      ]
     },
     "execution_count": 13,
     "metadata": {},
     "output_type": "execute_result"
    }
   ],
   "source": [
    "metric_df = pd.read_csv(vectorized_data_filename, sep=',', encoding= 'unicode_escape')\n",
    "metric_df.head(3)"
   ]
  },
  {
   "cell_type": "code",
   "execution_count": 14,
   "metadata": {},
   "outputs": [
    {
     "name": "stderr",
     "output_type": "stream",
     "text": [
      "/home/quirosgu/anaconda3/envs/inventa/lib/python3.9/site-packages/sklearn/base.py:450: UserWarning: X does not have valid feature names, but IsolationForest was fitted with feature names\n",
      "  warnings.warn(\n"
     ]
    },
    {
     "data": {
      "text/html": [
       "<div>\n",
       "<style scoped>\n",
       "    .dataframe tbody tr th:only-of-type {\n",
       "        vertical-align: middle;\n",
       "    }\n",
       "\n",
       "    .dataframe tbody tr th {\n",
       "        vertical-align: top;\n",
       "    }\n",
       "\n",
       "    .dataframe thead th {\n",
       "        text-align: right;\n",
       "    }\n",
       "</style>\n",
       "<table border=\"1\" class=\"dataframe\">\n",
       "  <thead>\n",
       "    <tr style=\"text-align: right;\">\n",
       "      <th></th>\n",
       "      <th>filename</th>\n",
       "      <th>anomaly_IF</th>\n",
       "      <th>anomaly_LOF</th>\n",
       "      <th>anomaly_OCSVM</th>\n",
       "      <th>SC</th>\n",
       "    </tr>\n",
       "  </thead>\n",
       "  <tbody>\n",
       "    <tr>\n",
       "      <th>0</th>\n",
       "      <td>LQ-01-61-01_pos.mzXML</td>\n",
       "      <td>1</td>\n",
       "      <td>1</td>\n",
       "      <td>1</td>\n",
       "      <td>0</td>\n",
       "    </tr>\n",
       "    <tr>\n",
       "      <th>1</th>\n",
       "      <td>LQ-01-61-02_pos.mzXML</td>\n",
       "      <td>1</td>\n",
       "      <td>1</td>\n",
       "      <td>1</td>\n",
       "      <td>0</td>\n",
       "    </tr>\n",
       "  </tbody>\n",
       "</table>\n",
       "</div>"
      ],
      "text/plain": [
       "                filename  anomaly_IF  anomaly_LOF  anomaly_OCSVM  SC\n",
       "0  LQ-01-61-01_pos.mzXML           1            1              1   0\n",
       "1  LQ-01-61-02_pos.mzXML           1            1              1   0"
      ]
     },
     "execution_count": 14,
     "metadata": {},
     "output_type": "execute_result"
    }
   ],
   "source": [
    "SC = similarity_component(metric_df[:-1])\n",
    "SC.head(2)"
   ]
  },
  {
   "cell_type": "markdown",
   "metadata": {},
   "source": [
    "#### Visualizing the similarity results"
   ]
  },
  {
   "cell_type": "code",
   "execution_count": 19,
   "metadata": {},
   "outputs": [
    {
     "data": {
      "application/vnd.plotly.v1+json": {
       "config": {
        "plotlyServerURL": "https://plot.ly"
       },
       "data": [
        {
         "hovertemplate": "<b>%{hovertext}</b><br><br>anomaly_IF=1<br>PC1 (21.9 %)=%{x}<br>PC2 (14.4 %)=%{y}<extra></extra>",
         "hovertext": [
          "LQ-01-61-01_pos.mzXML",
          "LQ-01-61-02_pos.mzXML",
          "LQ-01-61-06_pos.mzXML",
          "LQ-01-61-07_pos.mzXML",
          "LQ-01-61-08_pos.mzXML",
          "LQ-01-61-09_pos.mzXML",
          "LQ-01-61-10_pos.mzXML",
          "LQ-01-61-11_pos.mzXML",
          "LQ-01-61-12_pos.mzXML",
          "LQ-01-61-13_pos.mzXML",
          "LQ-01-61-15_pos.mzXML",
          "LQ-01-61-16_pos.mzXML",
          "LQ-01-61-17_pos.mzXML",
          "LQ-01-61-18_pos.mzXML",
          "LQ-01-61-20_pos.mzXML",
          "LQ-01-61-21_pos.mzXML",
          "LQ-01-61-24_pos.mzXML",
          "LQ-01-61-25_pos.mzXML",
          "LQ-01-61-26_pos.mzXML",
          "LQ-01-61-27_pos.mzXML",
          "LQ-01-61-28_pos.mzXML",
          "LQ-01-61-29_pos.mzXML",
          "LQ-01-61-30_pos.mzXML",
          "LQ-01-61-33_pos.mzXML",
          "LQ-01-61-34_pos.mzXML",
          "LQ-01-61-35_pos.mzXML",
          "LQ-01-61-36_pos.mzXML",
          "LQ-01-61-38_pos.mzXML",
          "LQ-01-61-39_pos.mzXML",
          "LQ-01-61-40_pos.mzXML",
          "LQ-01-61-41_pos.mzXML",
          "LQ-01-61-42_pos.mzXML",
          "LQ-01-61-43_pos.mzXML",
          "LQ-01-61-44_pos.mzXML",
          "LQ-01-61-45_pos.mzXML",
          "LQ-01-61-46_pos.mzXML",
          "LQ-01-61-47_pos.mzXML",
          "LQ-01-61-48_pos.mzXML",
          "LQ-01-61-49_pos.mzXML",
          "LQ-01-61-50_pos.mzXML",
          "LQ-01-61-51_pos.mzXML",
          "LQ-01-61-52_pos.mzXML",
          "LQ-01-61-53_pos.mzXML",
          "LQ-01-61-54_pos.mzXML",
          "LQ-01-61-55_pos.mzXML",
          "LQ-01-61-56_pos.mzXML",
          "LQ-01-61-57_pos.mzXML",
          "LQ-01-61-58_pos.mzXML",
          "LQ-01-61-59_pos.mzXML",
          "LQ-01-61-60_pos.mzXML",
          "LQ-01-61-61_pos.mzXML",
          "LQ-01-61-62_pos.mzXML",
          "LQ-01-61-63_pos.mzXML",
          "LQ-01-61-64_pos.mzXML",
          "LQ-01-61-65_pos.mzXML",
          "LQ-01-61-66_pos.mzXML",
          "LQ-01-61-67_pos.mzXML",
          "LQ-01-61-68_pos.mzXML",
          "LQ-01-61-69_pos.mzXML",
          "LQ-01-61-70_pos.mzXML",
          "LQ-01-61-71_pos.mzXML",
          "LQ-01-61-72_pos.mzXML",
          "LQ-01-61-75_pos.mzXML",
          "LQ-01-61-77_pos.mzXML"
         ],
         "legendgroup": "1",
         "marker": {
          "color": "#1F77B4",
          "line": {
           "color": "DarkSlateGrey",
           "width": 1
          },
          "size": 10,
          "symbol": "circle"
         },
         "mode": "markers",
         "name": "1",
         "orientation": "v",
         "showlegend": true,
         "type": "scatter",
         "x": [
          0.0785652988043129,
          -0.06840793585704064,
          -0.09375834447498764,
          -0.15426896019016711,
          0.2512059754868466,
          0.2093991727399036,
          -0.013018244840159178,
          -0.10234322911069342,
          0.02859038066690171,
          -0.008982729201551852,
          0.000251565634478195,
          -0.030377784117206364,
          -0.035626119161225794,
          0.010325029198900083,
          -0.08496540609368818,
          0.05328056811610359,
          -0.0731030281685094,
          -0.08870641420140044,
          -0.03706529080118985,
          -0.007787727229932171,
          0.17550310185499715,
          0.10642806225073918,
          0.051846246522917076,
          -0.03113429315515938,
          -0.07163733994601175,
          -0.12331905208119948,
          0.004957152420967254,
          -0.03020397565913343,
          -0.002986585238504027,
          -0.05203746122031432,
          -0.05679883872859535,
          0.04412415841199177,
          0.10367772048741597,
          -0.07540751785233495,
          -0.09998044662142044,
          -0.006400198472932461,
          0.07420239151553974,
          -0.07082200535420957,
          -0.08585666600959654,
          -0.09359608647706602,
          0.021084935228282642,
          0.03102806149753825,
          -0.04615870957090114,
          -0.0781962429908528,
          -0.1425190514048176,
          -0.13968361349948383,
          0.06813306301724223,
          -0.13339071191622073,
          0.05087732850561752,
          0.21699873321911178,
          0.053820065937368204,
          0.15919426425460917,
          -0.003966353558791442,
          0.027984910192284915,
          0.1658666797572829,
          0.11486080912957755,
          0.09371060169083144,
          0.15855123025684303,
          0.09417047426778462,
          -0.015334800490719572,
          0.08028351531841176,
          0.08861583853666993,
          -0.1229013543936793,
          0.5181503741641127
         ],
         "xaxis": "x",
         "y": [
          0.013432633960173095,
          -0.036957459618247666,
          -0.08804177386489744,
          -0.10767976280663495,
          0.05490856358687288,
          0.0365422482589301,
          0.05767803660292827,
          -0.01869293293873224,
          0.07956772878602024,
          0.0341387433506954,
          0.058403914731553055,
          0.020154392720375794,
          -0.03082857045157771,
          0.027720679841291687,
          0.01677043881020269,
          0.05163457049078371,
          -0.003361971091088078,
          0.023287075404002003,
          0.058510177379409715,
          0.05983988635451815,
          0.051737268470680206,
          0.035352814936648436,
          0.0640134919503357,
          0.05649823926353739,
          0.000365778238757491,
          -0.004059376454548449,
          0.06245337191588034,
          0.025073357280296974,
          0.07687777879972181,
          0.047912314755636336,
          -0.05745002998482719,
          0.055009236843012455,
          0.06393807873874284,
          -0.005663489838925447,
          -0.0009556073631121507,
          0.07047127931655729,
          0.06620631071964407,
          0.01243654040535638,
          -0.00903429913492101,
          -0.028512775521664008,
          0.06209117512003915,
          0.07890164632412879,
          0.021179248867433352,
          -0.07907302186836979,
          -0.14461952876373782,
          -0.1429278448633226,
          0.034822838786533555,
          -0.021742717258783496,
          0.08720202036301468,
          0.008768376494595186,
          0.058406170679812505,
          0.07529156890556991,
          0.07247134033722227,
          0.06811256420927876,
          0.09798285847310317,
          0.044102570286696986,
          -0.017036561108416205,
          0.07859235642553283,
          0.02291334193728672,
          -0.06476985632745311,
          0.04397447044929281,
          0.0618581328326238,
          -0.03150640349577618,
          -0.6119563189495109
         ],
         "yaxis": "y"
        },
        {
         "hovertemplate": "<b>%{hovertext}</b><br><br>anomaly_IF=-1<br>PC1 (21.9 %)=%{x}<br>PC2 (14.4 %)=%{y}<extra></extra>",
         "hovertext": [
          "LQ-01-61-03_pos.mzXML",
          "LQ-01-61-04_pos.mzXML",
          "LQ-01-61-05_pos.mzXML",
          "LQ-01-61-14_pos.mzXML",
          "LQ-01-61-19_pos.mzXML",
          "LQ-01-61-22_pos.mzXML",
          "LQ-01-61-23_pos.mzXML",
          "LQ-01-61-31_pos.mzXML",
          "LQ-01-61-32_pos.mzXML",
          "LQ-01-61-37_pos.mzXML",
          "LQ-01-61-73_pos.mzXML",
          "LQ-01-61-74_pos.mzXML"
         ],
         "legendgroup": "-1",
         "marker": {
          "color": "#FF7F0E",
          "line": {
           "color": "DarkSlateGrey",
           "width": 1
          },
          "size": 10,
          "symbol": "circle"
         },
         "mode": "markers",
         "name": "-1",
         "orientation": "v",
         "showlegend": true,
         "type": "scatter",
         "x": [
          -0.11520691782746624,
          -0.10748033360583749,
          -0.06583971556129203,
          -0.04908811063661876,
          -0.14930400874865873,
          0.08715681199643399,
          0.16331208994950125,
          -0.17828690118575216,
          -0.13272926783883213,
          -0.043331194710265725,
          -0.11840993104258353,
          -0.14573771178451686
         ],
         "xaxis": "x",
         "y": [
          -0.10479416055719754,
          -0.07759544673624777,
          0.017930370880069525,
          -0.12777286551100028,
          -0.0627001142651316,
          0.045026653167726645,
          0.06177482499819307,
          -0.14059748987955153,
          -0.05241095044677892,
          -0.06309920769304113,
          -0.08766475477047282,
          -0.10083218988674765
         ],
         "yaxis": "y"
        }
       ],
       "layout": {
        "height": 650,
        "legend": {
         "title": {
          "text": "anomaly_IF"
         },
         "tracegroupgap": 0
        },
        "template": {
         "data": {
          "bar": [
           {
            "error_x": {
             "color": "rgb(36,36,36)"
            },
            "error_y": {
             "color": "rgb(36,36,36)"
            },
            "marker": {
             "line": {
              "color": "white",
              "width": 0.5
             }
            },
            "type": "bar"
           }
          ],
          "barpolar": [
           {
            "marker": {
             "line": {
              "color": "white",
              "width": 0.5
             }
            },
            "type": "barpolar"
           }
          ],
          "carpet": [
           {
            "aaxis": {
             "endlinecolor": "rgb(36,36,36)",
             "gridcolor": "white",
             "linecolor": "white",
             "minorgridcolor": "white",
             "startlinecolor": "rgb(36,36,36)"
            },
            "baxis": {
             "endlinecolor": "rgb(36,36,36)",
             "gridcolor": "white",
             "linecolor": "white",
             "minorgridcolor": "white",
             "startlinecolor": "rgb(36,36,36)"
            },
            "type": "carpet"
           }
          ],
          "choropleth": [
           {
            "colorbar": {
             "outlinewidth": 1,
             "tickcolor": "rgb(36,36,36)",
             "ticks": "outside"
            },
            "type": "choropleth"
           }
          ],
          "contour": [
           {
            "colorbar": {
             "outlinewidth": 1,
             "tickcolor": "rgb(36,36,36)",
             "ticks": "outside"
            },
            "colorscale": [
             [
              0,
              "#440154"
             ],
             [
              0.1111111111111111,
              "#482878"
             ],
             [
              0.2222222222222222,
              "#3e4989"
             ],
             [
              0.3333333333333333,
              "#31688e"
             ],
             [
              0.4444444444444444,
              "#26828e"
             ],
             [
              0.5555555555555556,
              "#1f9e89"
             ],
             [
              0.6666666666666666,
              "#35b779"
             ],
             [
              0.7777777777777778,
              "#6ece58"
             ],
             [
              0.8888888888888888,
              "#b5de2b"
             ],
             [
              1,
              "#fde725"
             ]
            ],
            "type": "contour"
           }
          ],
          "contourcarpet": [
           {
            "colorbar": {
             "outlinewidth": 1,
             "tickcolor": "rgb(36,36,36)",
             "ticks": "outside"
            },
            "type": "contourcarpet"
           }
          ],
          "heatmap": [
           {
            "colorbar": {
             "outlinewidth": 1,
             "tickcolor": "rgb(36,36,36)",
             "ticks": "outside"
            },
            "colorscale": [
             [
              0,
              "#440154"
             ],
             [
              0.1111111111111111,
              "#482878"
             ],
             [
              0.2222222222222222,
              "#3e4989"
             ],
             [
              0.3333333333333333,
              "#31688e"
             ],
             [
              0.4444444444444444,
              "#26828e"
             ],
             [
              0.5555555555555556,
              "#1f9e89"
             ],
             [
              0.6666666666666666,
              "#35b779"
             ],
             [
              0.7777777777777778,
              "#6ece58"
             ],
             [
              0.8888888888888888,
              "#b5de2b"
             ],
             [
              1,
              "#fde725"
             ]
            ],
            "type": "heatmap"
           }
          ],
          "heatmapgl": [
           {
            "colorbar": {
             "outlinewidth": 1,
             "tickcolor": "rgb(36,36,36)",
             "ticks": "outside"
            },
            "colorscale": [
             [
              0,
              "#440154"
             ],
             [
              0.1111111111111111,
              "#482878"
             ],
             [
              0.2222222222222222,
              "#3e4989"
             ],
             [
              0.3333333333333333,
              "#31688e"
             ],
             [
              0.4444444444444444,
              "#26828e"
             ],
             [
              0.5555555555555556,
              "#1f9e89"
             ],
             [
              0.6666666666666666,
              "#35b779"
             ],
             [
              0.7777777777777778,
              "#6ece58"
             ],
             [
              0.8888888888888888,
              "#b5de2b"
             ],
             [
              1,
              "#fde725"
             ]
            ],
            "type": "heatmapgl"
           }
          ],
          "histogram": [
           {
            "marker": {
             "line": {
              "color": "white",
              "width": 0.6
             }
            },
            "type": "histogram"
           }
          ],
          "histogram2d": [
           {
            "colorbar": {
             "outlinewidth": 1,
             "tickcolor": "rgb(36,36,36)",
             "ticks": "outside"
            },
            "colorscale": [
             [
              0,
              "#440154"
             ],
             [
              0.1111111111111111,
              "#482878"
             ],
             [
              0.2222222222222222,
              "#3e4989"
             ],
             [
              0.3333333333333333,
              "#31688e"
             ],
             [
              0.4444444444444444,
              "#26828e"
             ],
             [
              0.5555555555555556,
              "#1f9e89"
             ],
             [
              0.6666666666666666,
              "#35b779"
             ],
             [
              0.7777777777777778,
              "#6ece58"
             ],
             [
              0.8888888888888888,
              "#b5de2b"
             ],
             [
              1,
              "#fde725"
             ]
            ],
            "type": "histogram2d"
           }
          ],
          "histogram2dcontour": [
           {
            "colorbar": {
             "outlinewidth": 1,
             "tickcolor": "rgb(36,36,36)",
             "ticks": "outside"
            },
            "colorscale": [
             [
              0,
              "#440154"
             ],
             [
              0.1111111111111111,
              "#482878"
             ],
             [
              0.2222222222222222,
              "#3e4989"
             ],
             [
              0.3333333333333333,
              "#31688e"
             ],
             [
              0.4444444444444444,
              "#26828e"
             ],
             [
              0.5555555555555556,
              "#1f9e89"
             ],
             [
              0.6666666666666666,
              "#35b779"
             ],
             [
              0.7777777777777778,
              "#6ece58"
             ],
             [
              0.8888888888888888,
              "#b5de2b"
             ],
             [
              1,
              "#fde725"
             ]
            ],
            "type": "histogram2dcontour"
           }
          ],
          "mesh3d": [
           {
            "colorbar": {
             "outlinewidth": 1,
             "tickcolor": "rgb(36,36,36)",
             "ticks": "outside"
            },
            "type": "mesh3d"
           }
          ],
          "parcoords": [
           {
            "line": {
             "colorbar": {
              "outlinewidth": 1,
              "tickcolor": "rgb(36,36,36)",
              "ticks": "outside"
             }
            },
            "type": "parcoords"
           }
          ],
          "pie": [
           {
            "automargin": true,
            "type": "pie"
           }
          ],
          "scatter": [
           {
            "marker": {
             "colorbar": {
              "outlinewidth": 1,
              "tickcolor": "rgb(36,36,36)",
              "ticks": "outside"
             }
            },
            "type": "scatter"
           }
          ],
          "scatter3d": [
           {
            "line": {
             "colorbar": {
              "outlinewidth": 1,
              "tickcolor": "rgb(36,36,36)",
              "ticks": "outside"
             }
            },
            "marker": {
             "colorbar": {
              "outlinewidth": 1,
              "tickcolor": "rgb(36,36,36)",
              "ticks": "outside"
             }
            },
            "type": "scatter3d"
           }
          ],
          "scattercarpet": [
           {
            "marker": {
             "colorbar": {
              "outlinewidth": 1,
              "tickcolor": "rgb(36,36,36)",
              "ticks": "outside"
             }
            },
            "type": "scattercarpet"
           }
          ],
          "scattergeo": [
           {
            "marker": {
             "colorbar": {
              "outlinewidth": 1,
              "tickcolor": "rgb(36,36,36)",
              "ticks": "outside"
             }
            },
            "type": "scattergeo"
           }
          ],
          "scattergl": [
           {
            "marker": {
             "colorbar": {
              "outlinewidth": 1,
              "tickcolor": "rgb(36,36,36)",
              "ticks": "outside"
             }
            },
            "type": "scattergl"
           }
          ],
          "scattermapbox": [
           {
            "marker": {
             "colorbar": {
              "outlinewidth": 1,
              "tickcolor": "rgb(36,36,36)",
              "ticks": "outside"
             }
            },
            "type": "scattermapbox"
           }
          ],
          "scatterpolar": [
           {
            "marker": {
             "colorbar": {
              "outlinewidth": 1,
              "tickcolor": "rgb(36,36,36)",
              "ticks": "outside"
             }
            },
            "type": "scatterpolar"
           }
          ],
          "scatterpolargl": [
           {
            "marker": {
             "colorbar": {
              "outlinewidth": 1,
              "tickcolor": "rgb(36,36,36)",
              "ticks": "outside"
             }
            },
            "type": "scatterpolargl"
           }
          ],
          "scatterternary": [
           {
            "marker": {
             "colorbar": {
              "outlinewidth": 1,
              "tickcolor": "rgb(36,36,36)",
              "ticks": "outside"
             }
            },
            "type": "scatterternary"
           }
          ],
          "surface": [
           {
            "colorbar": {
             "outlinewidth": 1,
             "tickcolor": "rgb(36,36,36)",
             "ticks": "outside"
            },
            "colorscale": [
             [
              0,
              "#440154"
             ],
             [
              0.1111111111111111,
              "#482878"
             ],
             [
              0.2222222222222222,
              "#3e4989"
             ],
             [
              0.3333333333333333,
              "#31688e"
             ],
             [
              0.4444444444444444,
              "#26828e"
             ],
             [
              0.5555555555555556,
              "#1f9e89"
             ],
             [
              0.6666666666666666,
              "#35b779"
             ],
             [
              0.7777777777777778,
              "#6ece58"
             ],
             [
              0.8888888888888888,
              "#b5de2b"
             ],
             [
              1,
              "#fde725"
             ]
            ],
            "type": "surface"
           }
          ],
          "table": [
           {
            "cells": {
             "fill": {
              "color": "rgb(237,237,237)"
             },
             "line": {
              "color": "white"
             }
            },
            "header": {
             "fill": {
              "color": "rgb(217,217,217)"
             },
             "line": {
              "color": "white"
             }
            },
            "type": "table"
           }
          ]
         },
         "layout": {
          "annotationdefaults": {
           "arrowhead": 0,
           "arrowwidth": 1
          },
          "autotypenumbers": "strict",
          "coloraxis": {
           "colorbar": {
            "outlinewidth": 1,
            "tickcolor": "rgb(36,36,36)",
            "ticks": "outside"
           }
          },
          "colorscale": {
           "diverging": [
            [
             0,
             "rgb(103,0,31)"
            ],
            [
             0.1,
             "rgb(178,24,43)"
            ],
            [
             0.2,
             "rgb(214,96,77)"
            ],
            [
             0.3,
             "rgb(244,165,130)"
            ],
            [
             0.4,
             "rgb(253,219,199)"
            ],
            [
             0.5,
             "rgb(247,247,247)"
            ],
            [
             0.6,
             "rgb(209,229,240)"
            ],
            [
             0.7,
             "rgb(146,197,222)"
            ],
            [
             0.8,
             "rgb(67,147,195)"
            ],
            [
             0.9,
             "rgb(33,102,172)"
            ],
            [
             1,
             "rgb(5,48,97)"
            ]
           ],
           "sequential": [
            [
             0,
             "#440154"
            ],
            [
             0.1111111111111111,
             "#482878"
            ],
            [
             0.2222222222222222,
             "#3e4989"
            ],
            [
             0.3333333333333333,
             "#31688e"
            ],
            [
             0.4444444444444444,
             "#26828e"
            ],
            [
             0.5555555555555556,
             "#1f9e89"
            ],
            [
             0.6666666666666666,
             "#35b779"
            ],
            [
             0.7777777777777778,
             "#6ece58"
            ],
            [
             0.8888888888888888,
             "#b5de2b"
            ],
            [
             1,
             "#fde725"
            ]
           ],
           "sequentialminus": [
            [
             0,
             "#440154"
            ],
            [
             0.1111111111111111,
             "#482878"
            ],
            [
             0.2222222222222222,
             "#3e4989"
            ],
            [
             0.3333333333333333,
             "#31688e"
            ],
            [
             0.4444444444444444,
             "#26828e"
            ],
            [
             0.5555555555555556,
             "#1f9e89"
            ],
            [
             0.6666666666666666,
             "#35b779"
            ],
            [
             0.7777777777777778,
             "#6ece58"
            ],
            [
             0.8888888888888888,
             "#b5de2b"
            ],
            [
             1,
             "#fde725"
            ]
           ]
          },
          "colorway": [
           "#1F77B4",
           "#FF7F0E",
           "#2CA02C",
           "#D62728",
           "#9467BD",
           "#8C564B",
           "#E377C2",
           "#7F7F7F",
           "#BCBD22",
           "#17BECF"
          ],
          "font": {
           "color": "rgb(36,36,36)"
          },
          "geo": {
           "bgcolor": "white",
           "lakecolor": "white",
           "landcolor": "white",
           "showlakes": true,
           "showland": true,
           "subunitcolor": "white"
          },
          "hoverlabel": {
           "align": "left"
          },
          "hovermode": "closest",
          "mapbox": {
           "style": "light"
          },
          "paper_bgcolor": "white",
          "plot_bgcolor": "white",
          "polar": {
           "angularaxis": {
            "gridcolor": "rgb(232,232,232)",
            "linecolor": "rgb(36,36,36)",
            "showgrid": false,
            "showline": true,
            "ticks": "outside"
           },
           "bgcolor": "white",
           "radialaxis": {
            "gridcolor": "rgb(232,232,232)",
            "linecolor": "rgb(36,36,36)",
            "showgrid": false,
            "showline": true,
            "ticks": "outside"
           }
          },
          "scene": {
           "xaxis": {
            "backgroundcolor": "white",
            "gridcolor": "rgb(232,232,232)",
            "gridwidth": 2,
            "linecolor": "rgb(36,36,36)",
            "showbackground": true,
            "showgrid": false,
            "showline": true,
            "ticks": "outside",
            "zeroline": false,
            "zerolinecolor": "rgb(36,36,36)"
           },
           "yaxis": {
            "backgroundcolor": "white",
            "gridcolor": "rgb(232,232,232)",
            "gridwidth": 2,
            "linecolor": "rgb(36,36,36)",
            "showbackground": true,
            "showgrid": false,
            "showline": true,
            "ticks": "outside",
            "zeroline": false,
            "zerolinecolor": "rgb(36,36,36)"
           },
           "zaxis": {
            "backgroundcolor": "white",
            "gridcolor": "rgb(232,232,232)",
            "gridwidth": 2,
            "linecolor": "rgb(36,36,36)",
            "showbackground": true,
            "showgrid": false,
            "showline": true,
            "ticks": "outside",
            "zeroline": false,
            "zerolinecolor": "rgb(36,36,36)"
           }
          },
          "shapedefaults": {
           "fillcolor": "black",
           "line": {
            "width": 0
           },
           "opacity": 0.3
          },
          "ternary": {
           "aaxis": {
            "gridcolor": "rgb(232,232,232)",
            "linecolor": "rgb(36,36,36)",
            "showgrid": false,
            "showline": true,
            "ticks": "outside"
           },
           "baxis": {
            "gridcolor": "rgb(232,232,232)",
            "linecolor": "rgb(36,36,36)",
            "showgrid": false,
            "showline": true,
            "ticks": "outside"
           },
           "bgcolor": "white",
           "caxis": {
            "gridcolor": "rgb(232,232,232)",
            "linecolor": "rgb(36,36,36)",
            "showgrid": false,
            "showline": true,
            "ticks": "outside"
           }
          },
          "title": {
           "x": 0.05
          },
          "xaxis": {
           "automargin": true,
           "gridcolor": "rgb(232,232,232)",
           "linecolor": "rgb(36,36,36)",
           "showgrid": false,
           "showline": true,
           "ticks": "outside",
           "title": {
            "standoff": 15
           },
           "zeroline": false,
           "zerolinecolor": "rgb(36,36,36)"
          },
          "yaxis": {
           "automargin": true,
           "gridcolor": "rgb(232,232,232)",
           "linecolor": "rgb(36,36,36)",
           "showgrid": false,
           "showline": true,
           "ticks": "outside",
           "title": {
            "standoff": 15
           },
           "zeroline": false,
           "zerolinecolor": "rgb(36,36,36)"
          }
         }
        },
        "title": {
         "text": "\"Isolation Forest & PCoA (bray-curtis) based on the feature matrix\""
        },
        "width": 700,
        "xaxis": {
         "anchor": "y",
         "domain": [
          0,
          1
         ],
         "title": {
          "text": "PC1 (21.9 %)"
         }
        },
        "yaxis": {
         "anchor": "x",
         "domain": [
          0,
          1
         ],
         "title": {
          "text": "PC2 (14.4 %)"
         }
        }
       }
      },
      "text/html": [
       "<div>                            <div id=\"e75e0947-0ac2-4fbf-baad-8c03836e2801\" class=\"plotly-graph-div\" style=\"height:650px; width:700px;\"></div>            <script type=\"text/javascript\">                require([\"plotly\"], function(Plotly) {                    window.PLOTLYENV=window.PLOTLYENV || {};                                    if (document.getElementById(\"e75e0947-0ac2-4fbf-baad-8c03836e2801\")) {                    Plotly.newPlot(                        \"e75e0947-0ac2-4fbf-baad-8c03836e2801\",                        [{\"hovertemplate\": \"<b>%{hovertext}</b><br><br>anomaly_IF=1<br>PC1 (21.9 %)=%{x}<br>PC2 (14.4 %)=%{y}<extra></extra>\", \"hovertext\": [\"LQ-01-61-01_pos.mzXML\", \"LQ-01-61-02_pos.mzXML\", \"LQ-01-61-06_pos.mzXML\", \"LQ-01-61-07_pos.mzXML\", \"LQ-01-61-08_pos.mzXML\", \"LQ-01-61-09_pos.mzXML\", \"LQ-01-61-10_pos.mzXML\", \"LQ-01-61-11_pos.mzXML\", \"LQ-01-61-12_pos.mzXML\", \"LQ-01-61-13_pos.mzXML\", \"LQ-01-61-15_pos.mzXML\", \"LQ-01-61-16_pos.mzXML\", \"LQ-01-61-17_pos.mzXML\", \"LQ-01-61-18_pos.mzXML\", \"LQ-01-61-20_pos.mzXML\", \"LQ-01-61-21_pos.mzXML\", \"LQ-01-61-24_pos.mzXML\", \"LQ-01-61-25_pos.mzXML\", \"LQ-01-61-26_pos.mzXML\", \"LQ-01-61-27_pos.mzXML\", \"LQ-01-61-28_pos.mzXML\", \"LQ-01-61-29_pos.mzXML\", \"LQ-01-61-30_pos.mzXML\", \"LQ-01-61-33_pos.mzXML\", \"LQ-01-61-34_pos.mzXML\", \"LQ-01-61-35_pos.mzXML\", \"LQ-01-61-36_pos.mzXML\", \"LQ-01-61-38_pos.mzXML\", \"LQ-01-61-39_pos.mzXML\", \"LQ-01-61-40_pos.mzXML\", \"LQ-01-61-41_pos.mzXML\", \"LQ-01-61-42_pos.mzXML\", \"LQ-01-61-43_pos.mzXML\", \"LQ-01-61-44_pos.mzXML\", \"LQ-01-61-45_pos.mzXML\", \"LQ-01-61-46_pos.mzXML\", \"LQ-01-61-47_pos.mzXML\", \"LQ-01-61-48_pos.mzXML\", \"LQ-01-61-49_pos.mzXML\", \"LQ-01-61-50_pos.mzXML\", \"LQ-01-61-51_pos.mzXML\", \"LQ-01-61-52_pos.mzXML\", \"LQ-01-61-53_pos.mzXML\", \"LQ-01-61-54_pos.mzXML\", \"LQ-01-61-55_pos.mzXML\", \"LQ-01-61-56_pos.mzXML\", \"LQ-01-61-57_pos.mzXML\", \"LQ-01-61-58_pos.mzXML\", \"LQ-01-61-59_pos.mzXML\", \"LQ-01-61-60_pos.mzXML\", \"LQ-01-61-61_pos.mzXML\", \"LQ-01-61-62_pos.mzXML\", \"LQ-01-61-63_pos.mzXML\", \"LQ-01-61-64_pos.mzXML\", \"LQ-01-61-65_pos.mzXML\", \"LQ-01-61-66_pos.mzXML\", \"LQ-01-61-67_pos.mzXML\", \"LQ-01-61-68_pos.mzXML\", \"LQ-01-61-69_pos.mzXML\", \"LQ-01-61-70_pos.mzXML\", \"LQ-01-61-71_pos.mzXML\", \"LQ-01-61-72_pos.mzXML\", \"LQ-01-61-75_pos.mzXML\", \"LQ-01-61-77_pos.mzXML\"], \"legendgroup\": \"1\", \"marker\": {\"color\": \"#1F77B4\", \"line\": {\"color\": \"DarkSlateGrey\", \"width\": 1}, \"size\": 10, \"symbol\": \"circle\"}, \"mode\": \"markers\", \"name\": \"1\", \"orientation\": \"v\", \"showlegend\": true, \"type\": \"scatter\", \"x\": [0.0785652988043129, -0.06840793585704064, -0.09375834447498764, -0.15426896019016711, 0.2512059754868466, 0.2093991727399036, -0.013018244840159178, -0.10234322911069342, 0.02859038066690171, -0.008982729201551852, 0.000251565634478195, -0.030377784117206364, -0.035626119161225794, 0.010325029198900083, -0.08496540609368818, 0.05328056811610359, -0.0731030281685094, -0.08870641420140044, -0.03706529080118985, -0.007787727229932171, 0.17550310185499715, 0.10642806225073918, 0.051846246522917076, -0.03113429315515938, -0.07163733994601175, -0.12331905208119948, 0.004957152420967254, -0.03020397565913343, -0.002986585238504027, -0.05203746122031432, -0.05679883872859535, 0.04412415841199177, 0.10367772048741597, -0.07540751785233495, -0.09998044662142044, -0.006400198472932461, 0.07420239151553974, -0.07082200535420957, -0.08585666600959654, -0.09359608647706602, 0.021084935228282642, 0.03102806149753825, -0.04615870957090114, -0.0781962429908528, -0.1425190514048176, -0.13968361349948383, 0.06813306301724223, -0.13339071191622073, 0.05087732850561752, 0.21699873321911178, 0.053820065937368204, 0.15919426425460917, -0.003966353558791442, 0.027984910192284915, 0.1658666797572829, 0.11486080912957755, 0.09371060169083144, 0.15855123025684303, 0.09417047426778462, -0.015334800490719572, 0.08028351531841176, 0.08861583853666993, -0.1229013543936793, 0.5181503741641127], \"xaxis\": \"x\", \"y\": [0.013432633960173095, -0.036957459618247666, -0.08804177386489744, -0.10767976280663495, 0.05490856358687288, 0.0365422482589301, 0.05767803660292827, -0.01869293293873224, 0.07956772878602024, 0.0341387433506954, 0.058403914731553055, 0.020154392720375794, -0.03082857045157771, 0.027720679841291687, 0.01677043881020269, 0.05163457049078371, -0.003361971091088078, 0.023287075404002003, 0.058510177379409715, 0.05983988635451815, 0.051737268470680206, 0.035352814936648436, 0.0640134919503357, 0.05649823926353739, 0.000365778238757491, -0.004059376454548449, 0.06245337191588034, 0.025073357280296974, 0.07687777879972181, 0.047912314755636336, -0.05745002998482719, 0.055009236843012455, 0.06393807873874284, -0.005663489838925447, -0.0009556073631121507, 0.07047127931655729, 0.06620631071964407, 0.01243654040535638, -0.00903429913492101, -0.028512775521664008, 0.06209117512003915, 0.07890164632412879, 0.021179248867433352, -0.07907302186836979, -0.14461952876373782, -0.1429278448633226, 0.034822838786533555, -0.021742717258783496, 0.08720202036301468, 0.008768376494595186, 0.058406170679812505, 0.07529156890556991, 0.07247134033722227, 0.06811256420927876, 0.09798285847310317, 0.044102570286696986, -0.017036561108416205, 0.07859235642553283, 0.02291334193728672, -0.06476985632745311, 0.04397447044929281, 0.0618581328326238, -0.03150640349577618, -0.6119563189495109], \"yaxis\": \"y\"}, {\"hovertemplate\": \"<b>%{hovertext}</b><br><br>anomaly_IF=-1<br>PC1 (21.9 %)=%{x}<br>PC2 (14.4 %)=%{y}<extra></extra>\", \"hovertext\": [\"LQ-01-61-03_pos.mzXML\", \"LQ-01-61-04_pos.mzXML\", \"LQ-01-61-05_pos.mzXML\", \"LQ-01-61-14_pos.mzXML\", \"LQ-01-61-19_pos.mzXML\", \"LQ-01-61-22_pos.mzXML\", \"LQ-01-61-23_pos.mzXML\", \"LQ-01-61-31_pos.mzXML\", \"LQ-01-61-32_pos.mzXML\", \"LQ-01-61-37_pos.mzXML\", \"LQ-01-61-73_pos.mzXML\", \"LQ-01-61-74_pos.mzXML\"], \"legendgroup\": \"-1\", \"marker\": {\"color\": \"#FF7F0E\", \"line\": {\"color\": \"DarkSlateGrey\", \"width\": 1}, \"size\": 10, \"symbol\": \"circle\"}, \"mode\": \"markers\", \"name\": \"-1\", \"orientation\": \"v\", \"showlegend\": true, \"type\": \"scatter\", \"x\": [-0.11520691782746624, -0.10748033360583749, -0.06583971556129203, -0.04908811063661876, -0.14930400874865873, 0.08715681199643399, 0.16331208994950125, -0.17828690118575216, -0.13272926783883213, -0.043331194710265725, -0.11840993104258353, -0.14573771178451686], \"xaxis\": \"x\", \"y\": [-0.10479416055719754, -0.07759544673624777, 0.017930370880069525, -0.12777286551100028, -0.0627001142651316, 0.045026653167726645, 0.06177482499819307, -0.14059748987955153, -0.05241095044677892, -0.06309920769304113, -0.08766475477047282, -0.10083218988674765], \"yaxis\": \"y\"}],                        {\"height\": 650, \"legend\": {\"title\": {\"text\": \"anomaly_IF\"}, \"tracegroupgap\": 0}, \"template\": {\"data\": {\"bar\": [{\"error_x\": {\"color\": \"rgb(36,36,36)\"}, \"error_y\": {\"color\": \"rgb(36,36,36)\"}, \"marker\": {\"line\": {\"color\": \"white\", \"width\": 0.5}}, \"type\": \"bar\"}], \"barpolar\": [{\"marker\": {\"line\": {\"color\": \"white\", \"width\": 0.5}}, \"type\": \"barpolar\"}], \"carpet\": [{\"aaxis\": {\"endlinecolor\": \"rgb(36,36,36)\", \"gridcolor\": \"white\", \"linecolor\": \"white\", \"minorgridcolor\": \"white\", \"startlinecolor\": \"rgb(36,36,36)\"}, \"baxis\": {\"endlinecolor\": \"rgb(36,36,36)\", \"gridcolor\": \"white\", \"linecolor\": \"white\", \"minorgridcolor\": \"white\", \"startlinecolor\": \"rgb(36,36,36)\"}, \"type\": \"carpet\"}], \"choropleth\": [{\"colorbar\": {\"outlinewidth\": 1, \"tickcolor\": \"rgb(36,36,36)\", \"ticks\": \"outside\"}, \"type\": \"choropleth\"}], \"contour\": [{\"colorbar\": {\"outlinewidth\": 1, \"tickcolor\": \"rgb(36,36,36)\", \"ticks\": \"outside\"}, \"colorscale\": [[0.0, \"#440154\"], [0.1111111111111111, \"#482878\"], [0.2222222222222222, \"#3e4989\"], [0.3333333333333333, \"#31688e\"], [0.4444444444444444, \"#26828e\"], [0.5555555555555556, \"#1f9e89\"], [0.6666666666666666, \"#35b779\"], [0.7777777777777778, \"#6ece58\"], [0.8888888888888888, \"#b5de2b\"], [1.0, \"#fde725\"]], \"type\": \"contour\"}], \"contourcarpet\": [{\"colorbar\": {\"outlinewidth\": 1, \"tickcolor\": \"rgb(36,36,36)\", \"ticks\": \"outside\"}, \"type\": \"contourcarpet\"}], \"heatmap\": [{\"colorbar\": {\"outlinewidth\": 1, \"tickcolor\": \"rgb(36,36,36)\", \"ticks\": \"outside\"}, \"colorscale\": [[0.0, \"#440154\"], [0.1111111111111111, \"#482878\"], [0.2222222222222222, \"#3e4989\"], [0.3333333333333333, \"#31688e\"], [0.4444444444444444, \"#26828e\"], [0.5555555555555556, \"#1f9e89\"], [0.6666666666666666, \"#35b779\"], [0.7777777777777778, \"#6ece58\"], [0.8888888888888888, \"#b5de2b\"], [1.0, \"#fde725\"]], \"type\": \"heatmap\"}], \"heatmapgl\": [{\"colorbar\": {\"outlinewidth\": 1, \"tickcolor\": \"rgb(36,36,36)\", \"ticks\": \"outside\"}, \"colorscale\": [[0.0, \"#440154\"], [0.1111111111111111, \"#482878\"], [0.2222222222222222, \"#3e4989\"], [0.3333333333333333, \"#31688e\"], [0.4444444444444444, \"#26828e\"], [0.5555555555555556, \"#1f9e89\"], [0.6666666666666666, \"#35b779\"], [0.7777777777777778, \"#6ece58\"], [0.8888888888888888, \"#b5de2b\"], [1.0, \"#fde725\"]], \"type\": \"heatmapgl\"}], \"histogram\": [{\"marker\": {\"line\": {\"color\": \"white\", \"width\": 0.6}}, \"type\": \"histogram\"}], \"histogram2d\": [{\"colorbar\": {\"outlinewidth\": 1, \"tickcolor\": \"rgb(36,36,36)\", \"ticks\": \"outside\"}, \"colorscale\": [[0.0, \"#440154\"], [0.1111111111111111, \"#482878\"], [0.2222222222222222, \"#3e4989\"], [0.3333333333333333, \"#31688e\"], [0.4444444444444444, \"#26828e\"], [0.5555555555555556, \"#1f9e89\"], [0.6666666666666666, \"#35b779\"], [0.7777777777777778, \"#6ece58\"], [0.8888888888888888, \"#b5de2b\"], [1.0, \"#fde725\"]], \"type\": \"histogram2d\"}], \"histogram2dcontour\": [{\"colorbar\": {\"outlinewidth\": 1, \"tickcolor\": \"rgb(36,36,36)\", \"ticks\": \"outside\"}, \"colorscale\": [[0.0, \"#440154\"], [0.1111111111111111, \"#482878\"], [0.2222222222222222, \"#3e4989\"], [0.3333333333333333, \"#31688e\"], [0.4444444444444444, \"#26828e\"], [0.5555555555555556, \"#1f9e89\"], [0.6666666666666666, \"#35b779\"], [0.7777777777777778, \"#6ece58\"], [0.8888888888888888, \"#b5de2b\"], [1.0, \"#fde725\"]], \"type\": \"histogram2dcontour\"}], \"mesh3d\": [{\"colorbar\": {\"outlinewidth\": 1, \"tickcolor\": \"rgb(36,36,36)\", \"ticks\": \"outside\"}, \"type\": \"mesh3d\"}], \"parcoords\": [{\"line\": {\"colorbar\": {\"outlinewidth\": 1, \"tickcolor\": \"rgb(36,36,36)\", \"ticks\": \"outside\"}}, \"type\": \"parcoords\"}], \"pie\": [{\"automargin\": true, \"type\": \"pie\"}], \"scatter\": [{\"marker\": {\"colorbar\": {\"outlinewidth\": 1, \"tickcolor\": \"rgb(36,36,36)\", \"ticks\": \"outside\"}}, \"type\": \"scatter\"}], \"scatter3d\": [{\"line\": {\"colorbar\": {\"outlinewidth\": 1, \"tickcolor\": \"rgb(36,36,36)\", \"ticks\": \"outside\"}}, \"marker\": {\"colorbar\": {\"outlinewidth\": 1, \"tickcolor\": \"rgb(36,36,36)\", \"ticks\": \"outside\"}}, \"type\": \"scatter3d\"}], \"scattercarpet\": [{\"marker\": {\"colorbar\": {\"outlinewidth\": 1, \"tickcolor\": \"rgb(36,36,36)\", \"ticks\": \"outside\"}}, \"type\": \"scattercarpet\"}], \"scattergeo\": [{\"marker\": {\"colorbar\": {\"outlinewidth\": 1, \"tickcolor\": \"rgb(36,36,36)\", \"ticks\": \"outside\"}}, \"type\": \"scattergeo\"}], \"scattergl\": [{\"marker\": {\"colorbar\": {\"outlinewidth\": 1, \"tickcolor\": \"rgb(36,36,36)\", \"ticks\": \"outside\"}}, \"type\": \"scattergl\"}], \"scattermapbox\": [{\"marker\": {\"colorbar\": {\"outlinewidth\": 1, \"tickcolor\": \"rgb(36,36,36)\", \"ticks\": \"outside\"}}, \"type\": \"scattermapbox\"}], \"scatterpolar\": [{\"marker\": {\"colorbar\": {\"outlinewidth\": 1, \"tickcolor\": \"rgb(36,36,36)\", \"ticks\": \"outside\"}}, \"type\": \"scatterpolar\"}], \"scatterpolargl\": [{\"marker\": {\"colorbar\": {\"outlinewidth\": 1, \"tickcolor\": \"rgb(36,36,36)\", \"ticks\": \"outside\"}}, \"type\": \"scatterpolargl\"}], \"scatterternary\": [{\"marker\": {\"colorbar\": {\"outlinewidth\": 1, \"tickcolor\": \"rgb(36,36,36)\", \"ticks\": \"outside\"}}, \"type\": \"scatterternary\"}], \"surface\": [{\"colorbar\": {\"outlinewidth\": 1, \"tickcolor\": \"rgb(36,36,36)\", \"ticks\": \"outside\"}, \"colorscale\": [[0.0, \"#440154\"], [0.1111111111111111, \"#482878\"], [0.2222222222222222, \"#3e4989\"], [0.3333333333333333, \"#31688e\"], [0.4444444444444444, \"#26828e\"], [0.5555555555555556, \"#1f9e89\"], [0.6666666666666666, \"#35b779\"], [0.7777777777777778, \"#6ece58\"], [0.8888888888888888, \"#b5de2b\"], [1.0, \"#fde725\"]], \"type\": \"surface\"}], \"table\": [{\"cells\": {\"fill\": {\"color\": \"rgb(237,237,237)\"}, \"line\": {\"color\": \"white\"}}, \"header\": {\"fill\": {\"color\": \"rgb(217,217,217)\"}, \"line\": {\"color\": \"white\"}}, \"type\": \"table\"}]}, \"layout\": {\"annotationdefaults\": {\"arrowhead\": 0, \"arrowwidth\": 1}, \"autotypenumbers\": \"strict\", \"coloraxis\": {\"colorbar\": {\"outlinewidth\": 1, \"tickcolor\": \"rgb(36,36,36)\", \"ticks\": \"outside\"}}, \"colorscale\": {\"diverging\": [[0.0, \"rgb(103,0,31)\"], [0.1, \"rgb(178,24,43)\"], [0.2, \"rgb(214,96,77)\"], [0.3, \"rgb(244,165,130)\"], [0.4, \"rgb(253,219,199)\"], [0.5, \"rgb(247,247,247)\"], [0.6, \"rgb(209,229,240)\"], [0.7, \"rgb(146,197,222)\"], [0.8, \"rgb(67,147,195)\"], [0.9, \"rgb(33,102,172)\"], [1.0, \"rgb(5,48,97)\"]], \"sequential\": [[0.0, \"#440154\"], [0.1111111111111111, \"#482878\"], [0.2222222222222222, \"#3e4989\"], [0.3333333333333333, \"#31688e\"], [0.4444444444444444, \"#26828e\"], [0.5555555555555556, \"#1f9e89\"], [0.6666666666666666, \"#35b779\"], [0.7777777777777778, \"#6ece58\"], [0.8888888888888888, \"#b5de2b\"], [1.0, \"#fde725\"]], \"sequentialminus\": [[0.0, \"#440154\"], [0.1111111111111111, \"#482878\"], [0.2222222222222222, \"#3e4989\"], [0.3333333333333333, \"#31688e\"], [0.4444444444444444, \"#26828e\"], [0.5555555555555556, \"#1f9e89\"], [0.6666666666666666, \"#35b779\"], [0.7777777777777778, \"#6ece58\"], [0.8888888888888888, \"#b5de2b\"], [1.0, \"#fde725\"]]}, \"colorway\": [\"#1F77B4\", \"#FF7F0E\", \"#2CA02C\", \"#D62728\", \"#9467BD\", \"#8C564B\", \"#E377C2\", \"#7F7F7F\", \"#BCBD22\", \"#17BECF\"], \"font\": {\"color\": \"rgb(36,36,36)\"}, \"geo\": {\"bgcolor\": \"white\", \"lakecolor\": \"white\", \"landcolor\": \"white\", \"showlakes\": true, \"showland\": true, \"subunitcolor\": \"white\"}, \"hoverlabel\": {\"align\": \"left\"}, \"hovermode\": \"closest\", \"mapbox\": {\"style\": \"light\"}, \"paper_bgcolor\": \"white\", \"plot_bgcolor\": \"white\", \"polar\": {\"angularaxis\": {\"gridcolor\": \"rgb(232,232,232)\", \"linecolor\": \"rgb(36,36,36)\", \"showgrid\": false, \"showline\": true, \"ticks\": \"outside\"}, \"bgcolor\": \"white\", \"radialaxis\": {\"gridcolor\": \"rgb(232,232,232)\", \"linecolor\": \"rgb(36,36,36)\", \"showgrid\": false, \"showline\": true, \"ticks\": \"outside\"}}, \"scene\": {\"xaxis\": {\"backgroundcolor\": \"white\", \"gridcolor\": \"rgb(232,232,232)\", \"gridwidth\": 2, \"linecolor\": \"rgb(36,36,36)\", \"showbackground\": true, \"showgrid\": false, \"showline\": true, \"ticks\": \"outside\", \"zeroline\": false, \"zerolinecolor\": \"rgb(36,36,36)\"}, \"yaxis\": {\"backgroundcolor\": \"white\", \"gridcolor\": \"rgb(232,232,232)\", \"gridwidth\": 2, \"linecolor\": \"rgb(36,36,36)\", \"showbackground\": true, \"showgrid\": false, \"showline\": true, \"ticks\": \"outside\", \"zeroline\": false, \"zerolinecolor\": \"rgb(36,36,36)\"}, \"zaxis\": {\"backgroundcolor\": \"white\", \"gridcolor\": \"rgb(232,232,232)\", \"gridwidth\": 2, \"linecolor\": \"rgb(36,36,36)\", \"showbackground\": true, \"showgrid\": false, \"showline\": true, \"ticks\": \"outside\", \"zeroline\": false, \"zerolinecolor\": \"rgb(36,36,36)\"}}, \"shapedefaults\": {\"fillcolor\": \"black\", \"line\": {\"width\": 0}, \"opacity\": 0.3}, \"ternary\": {\"aaxis\": {\"gridcolor\": \"rgb(232,232,232)\", \"linecolor\": \"rgb(36,36,36)\", \"showgrid\": false, \"showline\": true, \"ticks\": \"outside\"}, \"baxis\": {\"gridcolor\": \"rgb(232,232,232)\", \"linecolor\": \"rgb(36,36,36)\", \"showgrid\": false, \"showline\": true, \"ticks\": \"outside\"}, \"bgcolor\": \"white\", \"caxis\": {\"gridcolor\": \"rgb(232,232,232)\", \"linecolor\": \"rgb(36,36,36)\", \"showgrid\": false, \"showline\": true, \"ticks\": \"outside\"}}, \"title\": {\"x\": 0.05}, \"xaxis\": {\"automargin\": true, \"gridcolor\": \"rgb(232,232,232)\", \"linecolor\": \"rgb(36,36,36)\", \"showgrid\": false, \"showline\": true, \"ticks\": \"outside\", \"title\": {\"standoff\": 15}, \"zeroline\": false, \"zerolinecolor\": \"rgb(36,36,36)\"}, \"yaxis\": {\"automargin\": true, \"gridcolor\": \"rgb(232,232,232)\", \"linecolor\": \"rgb(36,36,36)\", \"showgrid\": false, \"showline\": true, \"ticks\": \"outside\", \"title\": {\"standoff\": 15}, \"zeroline\": false, \"zerolinecolor\": \"rgb(36,36,36)\"}}}, \"title\": {\"text\": \"\\\"Isolation Forest & PCoA (bray-curtis) based on the feature matrix\\\"\"}, \"width\": 700, \"xaxis\": {\"anchor\": \"y\", \"domain\": [0.0, 1.0], \"title\": {\"text\": \"PC1 (21.9 %)\"}}, \"yaxis\": {\"anchor\": \"x\", \"domain\": [0.0, 1.0], \"title\": {\"text\": \"PC2 (14.4 %)\"}}},                        {\"responsive\": true}                    ).then(function(){\n",
       "                            \n",
       "var gd = document.getElementById('e75e0947-0ac2-4fbf-baad-8c03836e2801');\n",
       "var x = new MutationObserver(function (mutations, observer) {{\n",
       "        var display = window.getComputedStyle(gd).display;\n",
       "        if (!display || display === 'none') {{\n",
       "            console.log([gd, 'removed!']);\n",
       "            Plotly.purge(gd);\n",
       "            observer.disconnect();\n",
       "        }}\n",
       "}});\n",
       "\n",
       "// Listen for the removal of the full notebook cells\n",
       "var notebookContainer = gd.closest('#notebook-container');\n",
       "if (notebookContainer) {{\n",
       "    x.observe(notebookContainer, {childList: true});\n",
       "}}\n",
       "\n",
       "// Listen for the clearing of the current output cell\n",
       "var outputEl = gd.closest('.output');\n",
       "if (outputEl) {{\n",
       "    x.observe(outputEl, {childList: true});\n",
       "}}\n",
       "\n",
       "                        })                };                });            </script>        </div>"
      ]
     },
     "metadata": {},
     "output_type": "display_data"
    }
   ],
   "source": [
    "# Isolation forest (IF)\n",
    "trace1 = pcoa_2d(\n",
    "    matrix= metric_df[:-1],\n",
    "    data = SC,\n",
    "    metric= 'braycurtis',\n",
    "    filename_col = 'filename',\n",
    "    group_col='anomaly_IF',\n",
    "    title='\"Isolation Forest & PCoA (bray-curtis) based on the feature matrix\"'\n",
    "    )"
   ]
  },
  {
   "cell_type": "code",
   "execution_count": 17,
   "metadata": {},
   "outputs": [
    {
     "data": {
      "application/vnd.plotly.v1+json": {
       "config": {
        "plotlyServerURL": "https://plot.ly"
       },
       "data": [
        {
         "hovertemplate": "<b>%{hovertext}</b><br><br>anomaly_LOF=1<br>PC1 (21.9 %)=%{x}<br>PC2 (14.4 %)=%{y}<extra></extra>",
         "hovertext": [
          "LQ-01-61-01_pos.mzXML",
          "LQ-01-61-02_pos.mzXML",
          "LQ-01-61-03_pos.mzXML",
          "LQ-01-61-04_pos.mzXML",
          "LQ-01-61-05_pos.mzXML",
          "LQ-01-61-06_pos.mzXML",
          "LQ-01-61-08_pos.mzXML",
          "LQ-01-61-09_pos.mzXML",
          "LQ-01-61-10_pos.mzXML",
          "LQ-01-61-11_pos.mzXML",
          "LQ-01-61-12_pos.mzXML",
          "LQ-01-61-13_pos.mzXML",
          "LQ-01-61-14_pos.mzXML",
          "LQ-01-61-15_pos.mzXML",
          "LQ-01-61-16_pos.mzXML",
          "LQ-01-61-17_pos.mzXML",
          "LQ-01-61-18_pos.mzXML",
          "LQ-01-61-20_pos.mzXML",
          "LQ-01-61-21_pos.mzXML",
          "LQ-01-61-24_pos.mzXML",
          "LQ-01-61-25_pos.mzXML",
          "LQ-01-61-26_pos.mzXML",
          "LQ-01-61-27_pos.mzXML",
          "LQ-01-61-28_pos.mzXML",
          "LQ-01-61-29_pos.mzXML",
          "LQ-01-61-30_pos.mzXML",
          "LQ-01-61-31_pos.mzXML",
          "LQ-01-61-32_pos.mzXML",
          "LQ-01-61-33_pos.mzXML",
          "LQ-01-61-34_pos.mzXML",
          "LQ-01-61-35_pos.mzXML",
          "LQ-01-61-36_pos.mzXML",
          "LQ-01-61-37_pos.mzXML",
          "LQ-01-61-38_pos.mzXML",
          "LQ-01-61-39_pos.mzXML",
          "LQ-01-61-40_pos.mzXML",
          "LQ-01-61-42_pos.mzXML",
          "LQ-01-61-43_pos.mzXML",
          "LQ-01-61-44_pos.mzXML",
          "LQ-01-61-45_pos.mzXML",
          "LQ-01-61-46_pos.mzXML",
          "LQ-01-61-48_pos.mzXML",
          "LQ-01-61-49_pos.mzXML",
          "LQ-01-61-50_pos.mzXML",
          "LQ-01-61-51_pos.mzXML",
          "LQ-01-61-52_pos.mzXML",
          "LQ-01-61-53_pos.mzXML",
          "LQ-01-61-57_pos.mzXML",
          "LQ-01-61-58_pos.mzXML",
          "LQ-01-61-59_pos.mzXML",
          "LQ-01-61-61_pos.mzXML",
          "LQ-01-61-62_pos.mzXML",
          "LQ-01-61-63_pos.mzXML",
          "LQ-01-61-64_pos.mzXML",
          "LQ-01-61-65_pos.mzXML",
          "LQ-01-61-66_pos.mzXML",
          "LQ-01-61-67_pos.mzXML",
          "LQ-01-61-68_pos.mzXML",
          "LQ-01-61-69_pos.mzXML",
          "LQ-01-61-70_pos.mzXML",
          "LQ-01-61-71_pos.mzXML",
          "LQ-01-61-73_pos.mzXML",
          "LQ-01-61-74_pos.mzXML",
          "LQ-01-61-75_pos.mzXML"
         ],
         "legendgroup": "1",
         "marker": {
          "color": "#1F77B4",
          "line": {
           "color": "DarkSlateGrey",
           "width": 1
          },
          "size": 10,
          "symbol": "circle"
         },
         "mode": "markers",
         "name": "1",
         "orientation": "v",
         "showlegend": true,
         "type": "scatter",
         "x": [
          0.0785652988043129,
          -0.06840793585704064,
          -0.11520691782746624,
          -0.10748033360583749,
          -0.06583971556129203,
          -0.09375834447498764,
          0.2512059754868466,
          0.2093991727399036,
          -0.013018244840159178,
          -0.10234322911069342,
          0.02859038066690171,
          -0.008982729201551852,
          -0.04908811063661876,
          0.000251565634478195,
          -0.030377784117206364,
          -0.035626119161225794,
          0.010325029198900083,
          -0.08496540609368818,
          0.05328056811610359,
          -0.0731030281685094,
          -0.08870641420140044,
          -0.03706529080118985,
          -0.007787727229932171,
          0.17550310185499715,
          0.10642806225073918,
          0.051846246522917076,
          -0.17828690118575216,
          -0.13272926783883213,
          -0.03113429315515938,
          -0.07163733994601175,
          -0.12331905208119948,
          0.004957152420967254,
          -0.043331194710265725,
          -0.03020397565913343,
          -0.002986585238504027,
          -0.05203746122031432,
          0.04412415841199177,
          0.10367772048741597,
          -0.07540751785233495,
          -0.09998044662142044,
          -0.006400198472932461,
          -0.07082200535420957,
          -0.08585666600959654,
          -0.09359608647706602,
          0.021084935228282642,
          0.03102806149753825,
          -0.04615870957090114,
          0.06813306301724223,
          -0.13339071191622073,
          0.05087732850561752,
          0.053820065937368204,
          0.15919426425460917,
          -0.003966353558791442,
          0.027984910192284915,
          0.1658666797572829,
          0.11486080912957755,
          0.09371060169083144,
          0.15855123025684303,
          0.09417047426778462,
          -0.015334800490719572,
          0.08028351531841176,
          -0.11840993104258353,
          -0.14573771178451686,
          -0.1229013543936793
         ],
         "xaxis": "x",
         "y": [
          0.013432633960173095,
          -0.036957459618247666,
          -0.10479416055719754,
          -0.07759544673624777,
          0.017930370880069525,
          -0.08804177386489744,
          0.05490856358687288,
          0.0365422482589301,
          0.05767803660292827,
          -0.01869293293873224,
          0.07956772878602024,
          0.0341387433506954,
          -0.12777286551100028,
          0.058403914731553055,
          0.020154392720375794,
          -0.03082857045157771,
          0.027720679841291687,
          0.01677043881020269,
          0.05163457049078371,
          -0.003361971091088078,
          0.023287075404002003,
          0.058510177379409715,
          0.05983988635451815,
          0.051737268470680206,
          0.035352814936648436,
          0.0640134919503357,
          -0.14059748987955153,
          -0.05241095044677892,
          0.05649823926353739,
          0.000365778238757491,
          -0.004059376454548449,
          0.06245337191588034,
          -0.06309920769304113,
          0.025073357280296974,
          0.07687777879972181,
          0.047912314755636336,
          0.055009236843012455,
          0.06393807873874284,
          -0.005663489838925447,
          -0.0009556073631121507,
          0.07047127931655729,
          0.01243654040535638,
          -0.00903429913492101,
          -0.028512775521664008,
          0.06209117512003915,
          0.07890164632412879,
          0.021179248867433352,
          0.034822838786533555,
          -0.021742717258783496,
          0.08720202036301468,
          0.058406170679812505,
          0.07529156890556991,
          0.07247134033722227,
          0.06811256420927876,
          0.09798285847310317,
          0.044102570286696986,
          -0.017036561108416205,
          0.07859235642553283,
          0.02291334193728672,
          -0.06476985632745311,
          0.04397447044929281,
          -0.08766475477047282,
          -0.10083218988674765,
          -0.03150640349577618
         ],
         "yaxis": "y"
        },
        {
         "hovertemplate": "<b>%{hovertext}</b><br><br>anomaly_LOF=-1<br>PC1 (21.9 %)=%{x}<br>PC2 (14.4 %)=%{y}<extra></extra>",
         "hovertext": [
          "LQ-01-61-07_pos.mzXML",
          "LQ-01-61-19_pos.mzXML",
          "LQ-01-61-22_pos.mzXML",
          "LQ-01-61-23_pos.mzXML",
          "LQ-01-61-41_pos.mzXML",
          "LQ-01-61-47_pos.mzXML",
          "LQ-01-61-54_pos.mzXML",
          "LQ-01-61-55_pos.mzXML",
          "LQ-01-61-56_pos.mzXML",
          "LQ-01-61-60_pos.mzXML",
          "LQ-01-61-72_pos.mzXML",
          "LQ-01-61-77_pos.mzXML"
         ],
         "legendgroup": "-1",
         "marker": {
          "color": "#FF7F0E",
          "line": {
           "color": "DarkSlateGrey",
           "width": 1
          },
          "size": 10,
          "symbol": "circle"
         },
         "mode": "markers",
         "name": "-1",
         "orientation": "v",
         "showlegend": true,
         "type": "scatter",
         "x": [
          -0.15426896019016711,
          -0.14930400874865873,
          0.08715681199643399,
          0.16331208994950125,
          -0.05679883872859535,
          0.07420239151553974,
          -0.0781962429908528,
          -0.1425190514048176,
          -0.13968361349948383,
          0.21699873321911178,
          0.08861583853666993,
          0.5181503741641127
         ],
         "xaxis": "x",
         "y": [
          -0.10767976280663495,
          -0.0627001142651316,
          0.045026653167726645,
          0.06177482499819307,
          -0.05745002998482719,
          0.06620631071964407,
          -0.07907302186836979,
          -0.14461952876373782,
          -0.1429278448633226,
          0.008768376494595186,
          0.0618581328326238,
          -0.6119563189495109
         ],
         "yaxis": "y"
        }
       ],
       "layout": {
        "height": 650,
        "legend": {
         "title": {
          "text": "anomaly_LOF"
         },
         "tracegroupgap": 0
        },
        "template": {
         "data": {
          "bar": [
           {
            "error_x": {
             "color": "rgb(36,36,36)"
            },
            "error_y": {
             "color": "rgb(36,36,36)"
            },
            "marker": {
             "line": {
              "color": "white",
              "width": 0.5
             }
            },
            "type": "bar"
           }
          ],
          "barpolar": [
           {
            "marker": {
             "line": {
              "color": "white",
              "width": 0.5
             }
            },
            "type": "barpolar"
           }
          ],
          "carpet": [
           {
            "aaxis": {
             "endlinecolor": "rgb(36,36,36)",
             "gridcolor": "white",
             "linecolor": "white",
             "minorgridcolor": "white",
             "startlinecolor": "rgb(36,36,36)"
            },
            "baxis": {
             "endlinecolor": "rgb(36,36,36)",
             "gridcolor": "white",
             "linecolor": "white",
             "minorgridcolor": "white",
             "startlinecolor": "rgb(36,36,36)"
            },
            "type": "carpet"
           }
          ],
          "choropleth": [
           {
            "colorbar": {
             "outlinewidth": 1,
             "tickcolor": "rgb(36,36,36)",
             "ticks": "outside"
            },
            "type": "choropleth"
           }
          ],
          "contour": [
           {
            "colorbar": {
             "outlinewidth": 1,
             "tickcolor": "rgb(36,36,36)",
             "ticks": "outside"
            },
            "colorscale": [
             [
              0,
              "#440154"
             ],
             [
              0.1111111111111111,
              "#482878"
             ],
             [
              0.2222222222222222,
              "#3e4989"
             ],
             [
              0.3333333333333333,
              "#31688e"
             ],
             [
              0.4444444444444444,
              "#26828e"
             ],
             [
              0.5555555555555556,
              "#1f9e89"
             ],
             [
              0.6666666666666666,
              "#35b779"
             ],
             [
              0.7777777777777778,
              "#6ece58"
             ],
             [
              0.8888888888888888,
              "#b5de2b"
             ],
             [
              1,
              "#fde725"
             ]
            ],
            "type": "contour"
           }
          ],
          "contourcarpet": [
           {
            "colorbar": {
             "outlinewidth": 1,
             "tickcolor": "rgb(36,36,36)",
             "ticks": "outside"
            },
            "type": "contourcarpet"
           }
          ],
          "heatmap": [
           {
            "colorbar": {
             "outlinewidth": 1,
             "tickcolor": "rgb(36,36,36)",
             "ticks": "outside"
            },
            "colorscale": [
             [
              0,
              "#440154"
             ],
             [
              0.1111111111111111,
              "#482878"
             ],
             [
              0.2222222222222222,
              "#3e4989"
             ],
             [
              0.3333333333333333,
              "#31688e"
             ],
             [
              0.4444444444444444,
              "#26828e"
             ],
             [
              0.5555555555555556,
              "#1f9e89"
             ],
             [
              0.6666666666666666,
              "#35b779"
             ],
             [
              0.7777777777777778,
              "#6ece58"
             ],
             [
              0.8888888888888888,
              "#b5de2b"
             ],
             [
              1,
              "#fde725"
             ]
            ],
            "type": "heatmap"
           }
          ],
          "heatmapgl": [
           {
            "colorbar": {
             "outlinewidth": 1,
             "tickcolor": "rgb(36,36,36)",
             "ticks": "outside"
            },
            "colorscale": [
             [
              0,
              "#440154"
             ],
             [
              0.1111111111111111,
              "#482878"
             ],
             [
              0.2222222222222222,
              "#3e4989"
             ],
             [
              0.3333333333333333,
              "#31688e"
             ],
             [
              0.4444444444444444,
              "#26828e"
             ],
             [
              0.5555555555555556,
              "#1f9e89"
             ],
             [
              0.6666666666666666,
              "#35b779"
             ],
             [
              0.7777777777777778,
              "#6ece58"
             ],
             [
              0.8888888888888888,
              "#b5de2b"
             ],
             [
              1,
              "#fde725"
             ]
            ],
            "type": "heatmapgl"
           }
          ],
          "histogram": [
           {
            "marker": {
             "line": {
              "color": "white",
              "width": 0.6
             }
            },
            "type": "histogram"
           }
          ],
          "histogram2d": [
           {
            "colorbar": {
             "outlinewidth": 1,
             "tickcolor": "rgb(36,36,36)",
             "ticks": "outside"
            },
            "colorscale": [
             [
              0,
              "#440154"
             ],
             [
              0.1111111111111111,
              "#482878"
             ],
             [
              0.2222222222222222,
              "#3e4989"
             ],
             [
              0.3333333333333333,
              "#31688e"
             ],
             [
              0.4444444444444444,
              "#26828e"
             ],
             [
              0.5555555555555556,
              "#1f9e89"
             ],
             [
              0.6666666666666666,
              "#35b779"
             ],
             [
              0.7777777777777778,
              "#6ece58"
             ],
             [
              0.8888888888888888,
              "#b5de2b"
             ],
             [
              1,
              "#fde725"
             ]
            ],
            "type": "histogram2d"
           }
          ],
          "histogram2dcontour": [
           {
            "colorbar": {
             "outlinewidth": 1,
             "tickcolor": "rgb(36,36,36)",
             "ticks": "outside"
            },
            "colorscale": [
             [
              0,
              "#440154"
             ],
             [
              0.1111111111111111,
              "#482878"
             ],
             [
              0.2222222222222222,
              "#3e4989"
             ],
             [
              0.3333333333333333,
              "#31688e"
             ],
             [
              0.4444444444444444,
              "#26828e"
             ],
             [
              0.5555555555555556,
              "#1f9e89"
             ],
             [
              0.6666666666666666,
              "#35b779"
             ],
             [
              0.7777777777777778,
              "#6ece58"
             ],
             [
              0.8888888888888888,
              "#b5de2b"
             ],
             [
              1,
              "#fde725"
             ]
            ],
            "type": "histogram2dcontour"
           }
          ],
          "mesh3d": [
           {
            "colorbar": {
             "outlinewidth": 1,
             "tickcolor": "rgb(36,36,36)",
             "ticks": "outside"
            },
            "type": "mesh3d"
           }
          ],
          "parcoords": [
           {
            "line": {
             "colorbar": {
              "outlinewidth": 1,
              "tickcolor": "rgb(36,36,36)",
              "ticks": "outside"
             }
            },
            "type": "parcoords"
           }
          ],
          "pie": [
           {
            "automargin": true,
            "type": "pie"
           }
          ],
          "scatter": [
           {
            "marker": {
             "colorbar": {
              "outlinewidth": 1,
              "tickcolor": "rgb(36,36,36)",
              "ticks": "outside"
             }
            },
            "type": "scatter"
           }
          ],
          "scatter3d": [
           {
            "line": {
             "colorbar": {
              "outlinewidth": 1,
              "tickcolor": "rgb(36,36,36)",
              "ticks": "outside"
             }
            },
            "marker": {
             "colorbar": {
              "outlinewidth": 1,
              "tickcolor": "rgb(36,36,36)",
              "ticks": "outside"
             }
            },
            "type": "scatter3d"
           }
          ],
          "scattercarpet": [
           {
            "marker": {
             "colorbar": {
              "outlinewidth": 1,
              "tickcolor": "rgb(36,36,36)",
              "ticks": "outside"
             }
            },
            "type": "scattercarpet"
           }
          ],
          "scattergeo": [
           {
            "marker": {
             "colorbar": {
              "outlinewidth": 1,
              "tickcolor": "rgb(36,36,36)",
              "ticks": "outside"
             }
            },
            "type": "scattergeo"
           }
          ],
          "scattergl": [
           {
            "marker": {
             "colorbar": {
              "outlinewidth": 1,
              "tickcolor": "rgb(36,36,36)",
              "ticks": "outside"
             }
            },
            "type": "scattergl"
           }
          ],
          "scattermapbox": [
           {
            "marker": {
             "colorbar": {
              "outlinewidth": 1,
              "tickcolor": "rgb(36,36,36)",
              "ticks": "outside"
             }
            },
            "type": "scattermapbox"
           }
          ],
          "scatterpolar": [
           {
            "marker": {
             "colorbar": {
              "outlinewidth": 1,
              "tickcolor": "rgb(36,36,36)",
              "ticks": "outside"
             }
            },
            "type": "scatterpolar"
           }
          ],
          "scatterpolargl": [
           {
            "marker": {
             "colorbar": {
              "outlinewidth": 1,
              "tickcolor": "rgb(36,36,36)",
              "ticks": "outside"
             }
            },
            "type": "scatterpolargl"
           }
          ],
          "scatterternary": [
           {
            "marker": {
             "colorbar": {
              "outlinewidth": 1,
              "tickcolor": "rgb(36,36,36)",
              "ticks": "outside"
             }
            },
            "type": "scatterternary"
           }
          ],
          "surface": [
           {
            "colorbar": {
             "outlinewidth": 1,
             "tickcolor": "rgb(36,36,36)",
             "ticks": "outside"
            },
            "colorscale": [
             [
              0,
              "#440154"
             ],
             [
              0.1111111111111111,
              "#482878"
             ],
             [
              0.2222222222222222,
              "#3e4989"
             ],
             [
              0.3333333333333333,
              "#31688e"
             ],
             [
              0.4444444444444444,
              "#26828e"
             ],
             [
              0.5555555555555556,
              "#1f9e89"
             ],
             [
              0.6666666666666666,
              "#35b779"
             ],
             [
              0.7777777777777778,
              "#6ece58"
             ],
             [
              0.8888888888888888,
              "#b5de2b"
             ],
             [
              1,
              "#fde725"
             ]
            ],
            "type": "surface"
           }
          ],
          "table": [
           {
            "cells": {
             "fill": {
              "color": "rgb(237,237,237)"
             },
             "line": {
              "color": "white"
             }
            },
            "header": {
             "fill": {
              "color": "rgb(217,217,217)"
             },
             "line": {
              "color": "white"
             }
            },
            "type": "table"
           }
          ]
         },
         "layout": {
          "annotationdefaults": {
           "arrowhead": 0,
           "arrowwidth": 1
          },
          "autotypenumbers": "strict",
          "coloraxis": {
           "colorbar": {
            "outlinewidth": 1,
            "tickcolor": "rgb(36,36,36)",
            "ticks": "outside"
           }
          },
          "colorscale": {
           "diverging": [
            [
             0,
             "rgb(103,0,31)"
            ],
            [
             0.1,
             "rgb(178,24,43)"
            ],
            [
             0.2,
             "rgb(214,96,77)"
            ],
            [
             0.3,
             "rgb(244,165,130)"
            ],
            [
             0.4,
             "rgb(253,219,199)"
            ],
            [
             0.5,
             "rgb(247,247,247)"
            ],
            [
             0.6,
             "rgb(209,229,240)"
            ],
            [
             0.7,
             "rgb(146,197,222)"
            ],
            [
             0.8,
             "rgb(67,147,195)"
            ],
            [
             0.9,
             "rgb(33,102,172)"
            ],
            [
             1,
             "rgb(5,48,97)"
            ]
           ],
           "sequential": [
            [
             0,
             "#440154"
            ],
            [
             0.1111111111111111,
             "#482878"
            ],
            [
             0.2222222222222222,
             "#3e4989"
            ],
            [
             0.3333333333333333,
             "#31688e"
            ],
            [
             0.4444444444444444,
             "#26828e"
            ],
            [
             0.5555555555555556,
             "#1f9e89"
            ],
            [
             0.6666666666666666,
             "#35b779"
            ],
            [
             0.7777777777777778,
             "#6ece58"
            ],
            [
             0.8888888888888888,
             "#b5de2b"
            ],
            [
             1,
             "#fde725"
            ]
           ],
           "sequentialminus": [
            [
             0,
             "#440154"
            ],
            [
             0.1111111111111111,
             "#482878"
            ],
            [
             0.2222222222222222,
             "#3e4989"
            ],
            [
             0.3333333333333333,
             "#31688e"
            ],
            [
             0.4444444444444444,
             "#26828e"
            ],
            [
             0.5555555555555556,
             "#1f9e89"
            ],
            [
             0.6666666666666666,
             "#35b779"
            ],
            [
             0.7777777777777778,
             "#6ece58"
            ],
            [
             0.8888888888888888,
             "#b5de2b"
            ],
            [
             1,
             "#fde725"
            ]
           ]
          },
          "colorway": [
           "#1F77B4",
           "#FF7F0E",
           "#2CA02C",
           "#D62728",
           "#9467BD",
           "#8C564B",
           "#E377C2",
           "#7F7F7F",
           "#BCBD22",
           "#17BECF"
          ],
          "font": {
           "color": "rgb(36,36,36)"
          },
          "geo": {
           "bgcolor": "white",
           "lakecolor": "white",
           "landcolor": "white",
           "showlakes": true,
           "showland": true,
           "subunitcolor": "white"
          },
          "hoverlabel": {
           "align": "left"
          },
          "hovermode": "closest",
          "mapbox": {
           "style": "light"
          },
          "paper_bgcolor": "white",
          "plot_bgcolor": "white",
          "polar": {
           "angularaxis": {
            "gridcolor": "rgb(232,232,232)",
            "linecolor": "rgb(36,36,36)",
            "showgrid": false,
            "showline": true,
            "ticks": "outside"
           },
           "bgcolor": "white",
           "radialaxis": {
            "gridcolor": "rgb(232,232,232)",
            "linecolor": "rgb(36,36,36)",
            "showgrid": false,
            "showline": true,
            "ticks": "outside"
           }
          },
          "scene": {
           "xaxis": {
            "backgroundcolor": "white",
            "gridcolor": "rgb(232,232,232)",
            "gridwidth": 2,
            "linecolor": "rgb(36,36,36)",
            "showbackground": true,
            "showgrid": false,
            "showline": true,
            "ticks": "outside",
            "zeroline": false,
            "zerolinecolor": "rgb(36,36,36)"
           },
           "yaxis": {
            "backgroundcolor": "white",
            "gridcolor": "rgb(232,232,232)",
            "gridwidth": 2,
            "linecolor": "rgb(36,36,36)",
            "showbackground": true,
            "showgrid": false,
            "showline": true,
            "ticks": "outside",
            "zeroline": false,
            "zerolinecolor": "rgb(36,36,36)"
           },
           "zaxis": {
            "backgroundcolor": "white",
            "gridcolor": "rgb(232,232,232)",
            "gridwidth": 2,
            "linecolor": "rgb(36,36,36)",
            "showbackground": true,
            "showgrid": false,
            "showline": true,
            "ticks": "outside",
            "zeroline": false,
            "zerolinecolor": "rgb(36,36,36)"
           }
          },
          "shapedefaults": {
           "fillcolor": "black",
           "line": {
            "width": 0
           },
           "opacity": 0.3
          },
          "ternary": {
           "aaxis": {
            "gridcolor": "rgb(232,232,232)",
            "linecolor": "rgb(36,36,36)",
            "showgrid": false,
            "showline": true,
            "ticks": "outside"
           },
           "baxis": {
            "gridcolor": "rgb(232,232,232)",
            "linecolor": "rgb(36,36,36)",
            "showgrid": false,
            "showline": true,
            "ticks": "outside"
           },
           "bgcolor": "white",
           "caxis": {
            "gridcolor": "rgb(232,232,232)",
            "linecolor": "rgb(36,36,36)",
            "showgrid": false,
            "showline": true,
            "ticks": "outside"
           }
          },
          "title": {
           "x": 0.05
          },
          "xaxis": {
           "automargin": true,
           "gridcolor": "rgb(232,232,232)",
           "linecolor": "rgb(36,36,36)",
           "showgrid": false,
           "showline": true,
           "ticks": "outside",
           "title": {
            "standoff": 15
           },
           "zeroline": false,
           "zerolinecolor": "rgb(36,36,36)"
          },
          "yaxis": {
           "automargin": true,
           "gridcolor": "rgb(232,232,232)",
           "linecolor": "rgb(36,36,36)",
           "showgrid": false,
           "showline": true,
           "ticks": "outside",
           "title": {
            "standoff": 15
           },
           "zeroline": false,
           "zerolinecolor": "rgb(36,36,36)"
          }
         }
        },
        "title": {
         "text": "\"Local outlier factor & PCoA (bray-curtis) based on the feature matrix\""
        },
        "width": 700,
        "xaxis": {
         "anchor": "y",
         "domain": [
          0,
          1
         ],
         "title": {
          "text": "PC1 (21.9 %)"
         }
        },
        "yaxis": {
         "anchor": "x",
         "domain": [
          0,
          1
         ],
         "title": {
          "text": "PC2 (14.4 %)"
         }
        }
       }
      },
      "text/html": [
       "<div>                            <div id=\"16d92527-200b-4e12-9b9d-811091afe210\" class=\"plotly-graph-div\" style=\"height:650px; width:700px;\"></div>            <script type=\"text/javascript\">                require([\"plotly\"], function(Plotly) {                    window.PLOTLYENV=window.PLOTLYENV || {};                                    if (document.getElementById(\"16d92527-200b-4e12-9b9d-811091afe210\")) {                    Plotly.newPlot(                        \"16d92527-200b-4e12-9b9d-811091afe210\",                        [{\"hovertemplate\": \"<b>%{hovertext}</b><br><br>anomaly_LOF=1<br>PC1 (21.9 %)=%{x}<br>PC2 (14.4 %)=%{y}<extra></extra>\", \"hovertext\": [\"LQ-01-61-01_pos.mzXML\", \"LQ-01-61-02_pos.mzXML\", \"LQ-01-61-03_pos.mzXML\", \"LQ-01-61-04_pos.mzXML\", \"LQ-01-61-05_pos.mzXML\", \"LQ-01-61-06_pos.mzXML\", \"LQ-01-61-08_pos.mzXML\", \"LQ-01-61-09_pos.mzXML\", \"LQ-01-61-10_pos.mzXML\", \"LQ-01-61-11_pos.mzXML\", \"LQ-01-61-12_pos.mzXML\", \"LQ-01-61-13_pos.mzXML\", \"LQ-01-61-14_pos.mzXML\", \"LQ-01-61-15_pos.mzXML\", \"LQ-01-61-16_pos.mzXML\", \"LQ-01-61-17_pos.mzXML\", \"LQ-01-61-18_pos.mzXML\", \"LQ-01-61-20_pos.mzXML\", \"LQ-01-61-21_pos.mzXML\", \"LQ-01-61-24_pos.mzXML\", \"LQ-01-61-25_pos.mzXML\", \"LQ-01-61-26_pos.mzXML\", \"LQ-01-61-27_pos.mzXML\", \"LQ-01-61-28_pos.mzXML\", \"LQ-01-61-29_pos.mzXML\", \"LQ-01-61-30_pos.mzXML\", \"LQ-01-61-31_pos.mzXML\", \"LQ-01-61-32_pos.mzXML\", \"LQ-01-61-33_pos.mzXML\", \"LQ-01-61-34_pos.mzXML\", \"LQ-01-61-35_pos.mzXML\", \"LQ-01-61-36_pos.mzXML\", \"LQ-01-61-37_pos.mzXML\", \"LQ-01-61-38_pos.mzXML\", \"LQ-01-61-39_pos.mzXML\", \"LQ-01-61-40_pos.mzXML\", \"LQ-01-61-42_pos.mzXML\", \"LQ-01-61-43_pos.mzXML\", \"LQ-01-61-44_pos.mzXML\", \"LQ-01-61-45_pos.mzXML\", \"LQ-01-61-46_pos.mzXML\", \"LQ-01-61-48_pos.mzXML\", \"LQ-01-61-49_pos.mzXML\", \"LQ-01-61-50_pos.mzXML\", \"LQ-01-61-51_pos.mzXML\", \"LQ-01-61-52_pos.mzXML\", \"LQ-01-61-53_pos.mzXML\", \"LQ-01-61-57_pos.mzXML\", \"LQ-01-61-58_pos.mzXML\", \"LQ-01-61-59_pos.mzXML\", \"LQ-01-61-61_pos.mzXML\", \"LQ-01-61-62_pos.mzXML\", \"LQ-01-61-63_pos.mzXML\", \"LQ-01-61-64_pos.mzXML\", \"LQ-01-61-65_pos.mzXML\", \"LQ-01-61-66_pos.mzXML\", \"LQ-01-61-67_pos.mzXML\", \"LQ-01-61-68_pos.mzXML\", \"LQ-01-61-69_pos.mzXML\", \"LQ-01-61-70_pos.mzXML\", \"LQ-01-61-71_pos.mzXML\", \"LQ-01-61-73_pos.mzXML\", \"LQ-01-61-74_pos.mzXML\", \"LQ-01-61-75_pos.mzXML\"], \"legendgroup\": \"1\", \"marker\": {\"color\": \"#1F77B4\", \"line\": {\"color\": \"DarkSlateGrey\", \"width\": 1}, \"size\": 10, \"symbol\": \"circle\"}, \"mode\": \"markers\", \"name\": \"1\", \"orientation\": \"v\", \"showlegend\": true, \"type\": \"scatter\", \"x\": [0.0785652988043129, -0.06840793585704064, -0.11520691782746624, -0.10748033360583749, -0.06583971556129203, -0.09375834447498764, 0.2512059754868466, 0.2093991727399036, -0.013018244840159178, -0.10234322911069342, 0.02859038066690171, -0.008982729201551852, -0.04908811063661876, 0.000251565634478195, -0.030377784117206364, -0.035626119161225794, 0.010325029198900083, -0.08496540609368818, 0.05328056811610359, -0.0731030281685094, -0.08870641420140044, -0.03706529080118985, -0.007787727229932171, 0.17550310185499715, 0.10642806225073918, 0.051846246522917076, -0.17828690118575216, -0.13272926783883213, -0.03113429315515938, -0.07163733994601175, -0.12331905208119948, 0.004957152420967254, -0.043331194710265725, -0.03020397565913343, -0.002986585238504027, -0.05203746122031432, 0.04412415841199177, 0.10367772048741597, -0.07540751785233495, -0.09998044662142044, -0.006400198472932461, -0.07082200535420957, -0.08585666600959654, -0.09359608647706602, 0.021084935228282642, 0.03102806149753825, -0.04615870957090114, 0.06813306301724223, -0.13339071191622073, 0.05087732850561752, 0.053820065937368204, 0.15919426425460917, -0.003966353558791442, 0.027984910192284915, 0.1658666797572829, 0.11486080912957755, 0.09371060169083144, 0.15855123025684303, 0.09417047426778462, -0.015334800490719572, 0.08028351531841176, -0.11840993104258353, -0.14573771178451686, -0.1229013543936793], \"xaxis\": \"x\", \"y\": [0.013432633960173095, -0.036957459618247666, -0.10479416055719754, -0.07759544673624777, 0.017930370880069525, -0.08804177386489744, 0.05490856358687288, 0.0365422482589301, 0.05767803660292827, -0.01869293293873224, 0.07956772878602024, 0.0341387433506954, -0.12777286551100028, 0.058403914731553055, 0.020154392720375794, -0.03082857045157771, 0.027720679841291687, 0.01677043881020269, 0.05163457049078371, -0.003361971091088078, 0.023287075404002003, 0.058510177379409715, 0.05983988635451815, 0.051737268470680206, 0.035352814936648436, 0.0640134919503357, -0.14059748987955153, -0.05241095044677892, 0.05649823926353739, 0.000365778238757491, -0.004059376454548449, 0.06245337191588034, -0.06309920769304113, 0.025073357280296974, 0.07687777879972181, 0.047912314755636336, 0.055009236843012455, 0.06393807873874284, -0.005663489838925447, -0.0009556073631121507, 0.07047127931655729, 0.01243654040535638, -0.00903429913492101, -0.028512775521664008, 0.06209117512003915, 0.07890164632412879, 0.021179248867433352, 0.034822838786533555, -0.021742717258783496, 0.08720202036301468, 0.058406170679812505, 0.07529156890556991, 0.07247134033722227, 0.06811256420927876, 0.09798285847310317, 0.044102570286696986, -0.017036561108416205, 0.07859235642553283, 0.02291334193728672, -0.06476985632745311, 0.04397447044929281, -0.08766475477047282, -0.10083218988674765, -0.03150640349577618], \"yaxis\": \"y\"}, {\"hovertemplate\": \"<b>%{hovertext}</b><br><br>anomaly_LOF=-1<br>PC1 (21.9 %)=%{x}<br>PC2 (14.4 %)=%{y}<extra></extra>\", \"hovertext\": [\"LQ-01-61-07_pos.mzXML\", \"LQ-01-61-19_pos.mzXML\", \"LQ-01-61-22_pos.mzXML\", \"LQ-01-61-23_pos.mzXML\", \"LQ-01-61-41_pos.mzXML\", \"LQ-01-61-47_pos.mzXML\", \"LQ-01-61-54_pos.mzXML\", \"LQ-01-61-55_pos.mzXML\", \"LQ-01-61-56_pos.mzXML\", \"LQ-01-61-60_pos.mzXML\", \"LQ-01-61-72_pos.mzXML\", \"LQ-01-61-77_pos.mzXML\"], \"legendgroup\": \"-1\", \"marker\": {\"color\": \"#FF7F0E\", \"line\": {\"color\": \"DarkSlateGrey\", \"width\": 1}, \"size\": 10, \"symbol\": \"circle\"}, \"mode\": \"markers\", \"name\": \"-1\", \"orientation\": \"v\", \"showlegend\": true, \"type\": \"scatter\", \"x\": [-0.15426896019016711, -0.14930400874865873, 0.08715681199643399, 0.16331208994950125, -0.05679883872859535, 0.07420239151553974, -0.0781962429908528, -0.1425190514048176, -0.13968361349948383, 0.21699873321911178, 0.08861583853666993, 0.5181503741641127], \"xaxis\": \"x\", \"y\": [-0.10767976280663495, -0.0627001142651316, 0.045026653167726645, 0.06177482499819307, -0.05745002998482719, 0.06620631071964407, -0.07907302186836979, -0.14461952876373782, -0.1429278448633226, 0.008768376494595186, 0.0618581328326238, -0.6119563189495109], \"yaxis\": \"y\"}],                        {\"height\": 650, \"legend\": {\"title\": {\"text\": \"anomaly_LOF\"}, \"tracegroupgap\": 0}, \"template\": {\"data\": {\"bar\": [{\"error_x\": {\"color\": \"rgb(36,36,36)\"}, \"error_y\": {\"color\": \"rgb(36,36,36)\"}, \"marker\": {\"line\": {\"color\": \"white\", \"width\": 0.5}}, \"type\": \"bar\"}], \"barpolar\": [{\"marker\": {\"line\": {\"color\": \"white\", \"width\": 0.5}}, \"type\": \"barpolar\"}], \"carpet\": [{\"aaxis\": {\"endlinecolor\": \"rgb(36,36,36)\", \"gridcolor\": \"white\", \"linecolor\": \"white\", \"minorgridcolor\": \"white\", \"startlinecolor\": \"rgb(36,36,36)\"}, \"baxis\": {\"endlinecolor\": \"rgb(36,36,36)\", \"gridcolor\": \"white\", \"linecolor\": \"white\", \"minorgridcolor\": \"white\", \"startlinecolor\": \"rgb(36,36,36)\"}, \"type\": \"carpet\"}], \"choropleth\": [{\"colorbar\": {\"outlinewidth\": 1, \"tickcolor\": \"rgb(36,36,36)\", \"ticks\": \"outside\"}, \"type\": \"choropleth\"}], \"contour\": [{\"colorbar\": {\"outlinewidth\": 1, \"tickcolor\": \"rgb(36,36,36)\", \"ticks\": \"outside\"}, \"colorscale\": [[0.0, \"#440154\"], [0.1111111111111111, \"#482878\"], [0.2222222222222222, \"#3e4989\"], [0.3333333333333333, \"#31688e\"], [0.4444444444444444, \"#26828e\"], [0.5555555555555556, \"#1f9e89\"], [0.6666666666666666, \"#35b779\"], [0.7777777777777778, \"#6ece58\"], [0.8888888888888888, \"#b5de2b\"], [1.0, \"#fde725\"]], \"type\": \"contour\"}], \"contourcarpet\": [{\"colorbar\": {\"outlinewidth\": 1, \"tickcolor\": \"rgb(36,36,36)\", \"ticks\": \"outside\"}, \"type\": \"contourcarpet\"}], \"heatmap\": [{\"colorbar\": {\"outlinewidth\": 1, \"tickcolor\": \"rgb(36,36,36)\", \"ticks\": \"outside\"}, \"colorscale\": [[0.0, \"#440154\"], [0.1111111111111111, \"#482878\"], [0.2222222222222222, \"#3e4989\"], [0.3333333333333333, \"#31688e\"], [0.4444444444444444, \"#26828e\"], [0.5555555555555556, \"#1f9e89\"], [0.6666666666666666, \"#35b779\"], [0.7777777777777778, \"#6ece58\"], [0.8888888888888888, \"#b5de2b\"], [1.0, \"#fde725\"]], \"type\": \"heatmap\"}], \"heatmapgl\": [{\"colorbar\": {\"outlinewidth\": 1, \"tickcolor\": \"rgb(36,36,36)\", \"ticks\": \"outside\"}, \"colorscale\": [[0.0, \"#440154\"], [0.1111111111111111, \"#482878\"], [0.2222222222222222, \"#3e4989\"], [0.3333333333333333, \"#31688e\"], [0.4444444444444444, \"#26828e\"], [0.5555555555555556, \"#1f9e89\"], [0.6666666666666666, \"#35b779\"], [0.7777777777777778, \"#6ece58\"], [0.8888888888888888, \"#b5de2b\"], [1.0, \"#fde725\"]], \"type\": \"heatmapgl\"}], \"histogram\": [{\"marker\": {\"line\": {\"color\": \"white\", \"width\": 0.6}}, \"type\": \"histogram\"}], \"histogram2d\": [{\"colorbar\": {\"outlinewidth\": 1, \"tickcolor\": \"rgb(36,36,36)\", \"ticks\": \"outside\"}, \"colorscale\": [[0.0, \"#440154\"], [0.1111111111111111, \"#482878\"], [0.2222222222222222, \"#3e4989\"], [0.3333333333333333, \"#31688e\"], [0.4444444444444444, \"#26828e\"], [0.5555555555555556, \"#1f9e89\"], [0.6666666666666666, \"#35b779\"], [0.7777777777777778, \"#6ece58\"], [0.8888888888888888, \"#b5de2b\"], [1.0, \"#fde725\"]], \"type\": \"histogram2d\"}], \"histogram2dcontour\": [{\"colorbar\": {\"outlinewidth\": 1, \"tickcolor\": \"rgb(36,36,36)\", \"ticks\": \"outside\"}, \"colorscale\": [[0.0, \"#440154\"], [0.1111111111111111, \"#482878\"], [0.2222222222222222, \"#3e4989\"], [0.3333333333333333, \"#31688e\"], [0.4444444444444444, \"#26828e\"], [0.5555555555555556, \"#1f9e89\"], [0.6666666666666666, \"#35b779\"], [0.7777777777777778, \"#6ece58\"], [0.8888888888888888, \"#b5de2b\"], [1.0, \"#fde725\"]], \"type\": \"histogram2dcontour\"}], \"mesh3d\": [{\"colorbar\": {\"outlinewidth\": 1, \"tickcolor\": \"rgb(36,36,36)\", \"ticks\": \"outside\"}, \"type\": \"mesh3d\"}], \"parcoords\": [{\"line\": {\"colorbar\": {\"outlinewidth\": 1, \"tickcolor\": \"rgb(36,36,36)\", \"ticks\": \"outside\"}}, \"type\": \"parcoords\"}], \"pie\": [{\"automargin\": true, \"type\": \"pie\"}], \"scatter\": [{\"marker\": {\"colorbar\": {\"outlinewidth\": 1, \"tickcolor\": \"rgb(36,36,36)\", \"ticks\": \"outside\"}}, \"type\": \"scatter\"}], \"scatter3d\": [{\"line\": {\"colorbar\": {\"outlinewidth\": 1, \"tickcolor\": \"rgb(36,36,36)\", \"ticks\": \"outside\"}}, \"marker\": {\"colorbar\": {\"outlinewidth\": 1, \"tickcolor\": \"rgb(36,36,36)\", \"ticks\": \"outside\"}}, \"type\": \"scatter3d\"}], \"scattercarpet\": [{\"marker\": {\"colorbar\": {\"outlinewidth\": 1, \"tickcolor\": \"rgb(36,36,36)\", \"ticks\": \"outside\"}}, \"type\": \"scattercarpet\"}], \"scattergeo\": [{\"marker\": {\"colorbar\": {\"outlinewidth\": 1, \"tickcolor\": \"rgb(36,36,36)\", \"ticks\": \"outside\"}}, \"type\": \"scattergeo\"}], \"scattergl\": [{\"marker\": {\"colorbar\": {\"outlinewidth\": 1, \"tickcolor\": \"rgb(36,36,36)\", \"ticks\": \"outside\"}}, \"type\": \"scattergl\"}], \"scattermapbox\": [{\"marker\": {\"colorbar\": {\"outlinewidth\": 1, \"tickcolor\": \"rgb(36,36,36)\", \"ticks\": \"outside\"}}, \"type\": \"scattermapbox\"}], \"scatterpolar\": [{\"marker\": {\"colorbar\": {\"outlinewidth\": 1, \"tickcolor\": \"rgb(36,36,36)\", \"ticks\": \"outside\"}}, \"type\": \"scatterpolar\"}], \"scatterpolargl\": [{\"marker\": {\"colorbar\": {\"outlinewidth\": 1, \"tickcolor\": \"rgb(36,36,36)\", \"ticks\": \"outside\"}}, \"type\": \"scatterpolargl\"}], \"scatterternary\": [{\"marker\": {\"colorbar\": {\"outlinewidth\": 1, \"tickcolor\": \"rgb(36,36,36)\", \"ticks\": \"outside\"}}, \"type\": \"scatterternary\"}], \"surface\": [{\"colorbar\": {\"outlinewidth\": 1, \"tickcolor\": \"rgb(36,36,36)\", \"ticks\": \"outside\"}, \"colorscale\": [[0.0, \"#440154\"], [0.1111111111111111, \"#482878\"], [0.2222222222222222, \"#3e4989\"], [0.3333333333333333, \"#31688e\"], [0.4444444444444444, \"#26828e\"], [0.5555555555555556, \"#1f9e89\"], [0.6666666666666666, \"#35b779\"], [0.7777777777777778, \"#6ece58\"], [0.8888888888888888, \"#b5de2b\"], [1.0, \"#fde725\"]], \"type\": \"surface\"}], \"table\": [{\"cells\": {\"fill\": {\"color\": \"rgb(237,237,237)\"}, \"line\": {\"color\": \"white\"}}, \"header\": {\"fill\": {\"color\": \"rgb(217,217,217)\"}, \"line\": {\"color\": \"white\"}}, \"type\": \"table\"}]}, \"layout\": {\"annotationdefaults\": {\"arrowhead\": 0, \"arrowwidth\": 1}, \"autotypenumbers\": \"strict\", \"coloraxis\": {\"colorbar\": {\"outlinewidth\": 1, \"tickcolor\": \"rgb(36,36,36)\", \"ticks\": \"outside\"}}, \"colorscale\": {\"diverging\": [[0.0, \"rgb(103,0,31)\"], [0.1, \"rgb(178,24,43)\"], [0.2, \"rgb(214,96,77)\"], [0.3, \"rgb(244,165,130)\"], [0.4, \"rgb(253,219,199)\"], [0.5, \"rgb(247,247,247)\"], [0.6, \"rgb(209,229,240)\"], [0.7, \"rgb(146,197,222)\"], [0.8, \"rgb(67,147,195)\"], [0.9, \"rgb(33,102,172)\"], [1.0, \"rgb(5,48,97)\"]], \"sequential\": [[0.0, \"#440154\"], [0.1111111111111111, \"#482878\"], [0.2222222222222222, \"#3e4989\"], [0.3333333333333333, \"#31688e\"], [0.4444444444444444, \"#26828e\"], [0.5555555555555556, \"#1f9e89\"], [0.6666666666666666, \"#35b779\"], [0.7777777777777778, \"#6ece58\"], [0.8888888888888888, \"#b5de2b\"], [1.0, \"#fde725\"]], \"sequentialminus\": [[0.0, \"#440154\"], [0.1111111111111111, \"#482878\"], [0.2222222222222222, \"#3e4989\"], [0.3333333333333333, \"#31688e\"], [0.4444444444444444, \"#26828e\"], [0.5555555555555556, \"#1f9e89\"], [0.6666666666666666, \"#35b779\"], [0.7777777777777778, \"#6ece58\"], [0.8888888888888888, \"#b5de2b\"], [1.0, \"#fde725\"]]}, \"colorway\": [\"#1F77B4\", \"#FF7F0E\", \"#2CA02C\", \"#D62728\", \"#9467BD\", \"#8C564B\", \"#E377C2\", \"#7F7F7F\", \"#BCBD22\", \"#17BECF\"], \"font\": {\"color\": \"rgb(36,36,36)\"}, \"geo\": {\"bgcolor\": \"white\", \"lakecolor\": \"white\", \"landcolor\": \"white\", \"showlakes\": true, \"showland\": true, \"subunitcolor\": \"white\"}, \"hoverlabel\": {\"align\": \"left\"}, \"hovermode\": \"closest\", \"mapbox\": {\"style\": \"light\"}, \"paper_bgcolor\": \"white\", \"plot_bgcolor\": \"white\", \"polar\": {\"angularaxis\": {\"gridcolor\": \"rgb(232,232,232)\", \"linecolor\": \"rgb(36,36,36)\", \"showgrid\": false, \"showline\": true, \"ticks\": \"outside\"}, \"bgcolor\": \"white\", \"radialaxis\": {\"gridcolor\": \"rgb(232,232,232)\", \"linecolor\": \"rgb(36,36,36)\", \"showgrid\": false, \"showline\": true, \"ticks\": \"outside\"}}, \"scene\": {\"xaxis\": {\"backgroundcolor\": \"white\", \"gridcolor\": \"rgb(232,232,232)\", \"gridwidth\": 2, \"linecolor\": \"rgb(36,36,36)\", \"showbackground\": true, \"showgrid\": false, \"showline\": true, \"ticks\": \"outside\", \"zeroline\": false, \"zerolinecolor\": \"rgb(36,36,36)\"}, \"yaxis\": {\"backgroundcolor\": \"white\", \"gridcolor\": \"rgb(232,232,232)\", \"gridwidth\": 2, \"linecolor\": \"rgb(36,36,36)\", \"showbackground\": true, \"showgrid\": false, \"showline\": true, \"ticks\": \"outside\", \"zeroline\": false, \"zerolinecolor\": \"rgb(36,36,36)\"}, \"zaxis\": {\"backgroundcolor\": \"white\", \"gridcolor\": \"rgb(232,232,232)\", \"gridwidth\": 2, \"linecolor\": \"rgb(36,36,36)\", \"showbackground\": true, \"showgrid\": false, \"showline\": true, \"ticks\": \"outside\", \"zeroline\": false, \"zerolinecolor\": \"rgb(36,36,36)\"}}, \"shapedefaults\": {\"fillcolor\": \"black\", \"line\": {\"width\": 0}, \"opacity\": 0.3}, \"ternary\": {\"aaxis\": {\"gridcolor\": \"rgb(232,232,232)\", \"linecolor\": \"rgb(36,36,36)\", \"showgrid\": false, \"showline\": true, \"ticks\": \"outside\"}, \"baxis\": {\"gridcolor\": \"rgb(232,232,232)\", \"linecolor\": \"rgb(36,36,36)\", \"showgrid\": false, \"showline\": true, \"ticks\": \"outside\"}, \"bgcolor\": \"white\", \"caxis\": {\"gridcolor\": \"rgb(232,232,232)\", \"linecolor\": \"rgb(36,36,36)\", \"showgrid\": false, \"showline\": true, \"ticks\": \"outside\"}}, \"title\": {\"x\": 0.05}, \"xaxis\": {\"automargin\": true, \"gridcolor\": \"rgb(232,232,232)\", \"linecolor\": \"rgb(36,36,36)\", \"showgrid\": false, \"showline\": true, \"ticks\": \"outside\", \"title\": {\"standoff\": 15}, \"zeroline\": false, \"zerolinecolor\": \"rgb(36,36,36)\"}, \"yaxis\": {\"automargin\": true, \"gridcolor\": \"rgb(232,232,232)\", \"linecolor\": \"rgb(36,36,36)\", \"showgrid\": false, \"showline\": true, \"ticks\": \"outside\", \"title\": {\"standoff\": 15}, \"zeroline\": false, \"zerolinecolor\": \"rgb(36,36,36)\"}}}, \"title\": {\"text\": \"\\\"Local outlier factor & PCoA (bray-curtis) based on the feature matrix\\\"\"}, \"width\": 700, \"xaxis\": {\"anchor\": \"y\", \"domain\": [0.0, 1.0], \"title\": {\"text\": \"PC1 (21.9 %)\"}}, \"yaxis\": {\"anchor\": \"x\", \"domain\": [0.0, 1.0], \"title\": {\"text\": \"PC2 (14.4 %)\"}}},                        {\"responsive\": true}                    ).then(function(){\n",
       "                            \n",
       "var gd = document.getElementById('16d92527-200b-4e12-9b9d-811091afe210');\n",
       "var x = new MutationObserver(function (mutations, observer) {{\n",
       "        var display = window.getComputedStyle(gd).display;\n",
       "        if (!display || display === 'none') {{\n",
       "            console.log([gd, 'removed!']);\n",
       "            Plotly.purge(gd);\n",
       "            observer.disconnect();\n",
       "        }}\n",
       "}});\n",
       "\n",
       "// Listen for the removal of the full notebook cells\n",
       "var notebookContainer = gd.closest('#notebook-container');\n",
       "if (notebookContainer) {{\n",
       "    x.observe(notebookContainer, {childList: true});\n",
       "}}\n",
       "\n",
       "// Listen for the clearing of the current output cell\n",
       "var outputEl = gd.closest('.output');\n",
       "if (outputEl) {{\n",
       "    x.observe(outputEl, {childList: true});\n",
       "}}\n",
       "\n",
       "                        })                };                });            </script>        </div>"
      ]
     },
     "metadata": {},
     "output_type": "display_data"
    }
   ],
   "source": [
    "# Local outlier factor (LOF)\n",
    "trace2 = pcoa_2d(\n",
    "    matrix= metric_df[:-1],\n",
    "    data = SC,\n",
    "    metric= 'braycurtis',\n",
    "    filename_col = 'filename',\n",
    "    group_col='anomaly_LOF',\n",
    "    title='\"Local outlier factor & PCoA (bray-curtis) based on the feature matrix\"'\n",
    "    )"
   ]
  },
  {
   "cell_type": "code",
   "execution_count": 18,
   "metadata": {},
   "outputs": [
    {
     "data": {
      "application/vnd.plotly.v1+json": {
       "config": {
        "plotlyServerURL": "https://plot.ly"
       },
       "data": [
        {
         "hovertemplate": "<b>%{hovertext}</b><br><br>anomaly_OCSVM=1<br>PC1 (21.9 %)=%{x}<br>PC2 (14.4 %)=%{y}<extra></extra>",
         "hovertext": [
          "LQ-01-61-01_pos.mzXML",
          "LQ-01-61-02_pos.mzXML",
          "LQ-01-61-03_pos.mzXML",
          "LQ-01-61-04_pos.mzXML",
          "LQ-01-61-05_pos.mzXML",
          "LQ-01-61-06_pos.mzXML",
          "LQ-01-61-08_pos.mzXML",
          "LQ-01-61-09_pos.mzXML",
          "LQ-01-61-10_pos.mzXML",
          "LQ-01-61-11_pos.mzXML",
          "LQ-01-61-12_pos.mzXML",
          "LQ-01-61-13_pos.mzXML",
          "LQ-01-61-14_pos.mzXML",
          "LQ-01-61-15_pos.mzXML",
          "LQ-01-61-16_pos.mzXML",
          "LQ-01-61-17_pos.mzXML",
          "LQ-01-61-18_pos.mzXML",
          "LQ-01-61-19_pos.mzXML",
          "LQ-01-61-20_pos.mzXML",
          "LQ-01-61-21_pos.mzXML",
          "LQ-01-61-22_pos.mzXML",
          "LQ-01-61-23_pos.mzXML",
          "LQ-01-61-24_pos.mzXML",
          "LQ-01-61-26_pos.mzXML",
          "LQ-01-61-27_pos.mzXML",
          "LQ-01-61-28_pos.mzXML",
          "LQ-01-61-29_pos.mzXML",
          "LQ-01-61-30_pos.mzXML",
          "LQ-01-61-31_pos.mzXML",
          "LQ-01-61-32_pos.mzXML",
          "LQ-01-61-33_pos.mzXML",
          "LQ-01-61-34_pos.mzXML",
          "LQ-01-61-36_pos.mzXML",
          "LQ-01-61-37_pos.mzXML",
          "LQ-01-61-38_pos.mzXML",
          "LQ-01-61-39_pos.mzXML",
          "LQ-01-61-40_pos.mzXML",
          "LQ-01-61-41_pos.mzXML",
          "LQ-01-61-42_pos.mzXML",
          "LQ-01-61-43_pos.mzXML",
          "LQ-01-61-44_pos.mzXML",
          "LQ-01-61-45_pos.mzXML",
          "LQ-01-61-46_pos.mzXML",
          "LQ-01-61-47_pos.mzXML",
          "LQ-01-61-48_pos.mzXML",
          "LQ-01-61-49_pos.mzXML",
          "LQ-01-61-51_pos.mzXML",
          "LQ-01-61-52_pos.mzXML",
          "LQ-01-61-53_pos.mzXML",
          "LQ-01-61-54_pos.mzXML",
          "LQ-01-61-55_pos.mzXML",
          "LQ-01-61-56_pos.mzXML",
          "LQ-01-61-57_pos.mzXML",
          "LQ-01-61-58_pos.mzXML",
          "LQ-01-61-59_pos.mzXML",
          "LQ-01-61-60_pos.mzXML",
          "LQ-01-61-61_pos.mzXML",
          "LQ-01-61-62_pos.mzXML",
          "LQ-01-61-63_pos.mzXML",
          "LQ-01-61-64_pos.mzXML",
          "LQ-01-61-65_pos.mzXML",
          "LQ-01-61-66_pos.mzXML",
          "LQ-01-61-67_pos.mzXML",
          "LQ-01-61-68_pos.mzXML",
          "LQ-01-61-69_pos.mzXML",
          "LQ-01-61-70_pos.mzXML",
          "LQ-01-61-71_pos.mzXML",
          "LQ-01-61-72_pos.mzXML",
          "LQ-01-61-73_pos.mzXML",
          "LQ-01-61-74_pos.mzXML",
          "LQ-01-61-75_pos.mzXML"
         ],
         "legendgroup": "1",
         "marker": {
          "color": "#1F77B4",
          "line": {
           "color": "DarkSlateGrey",
           "width": 1
          },
          "size": 10,
          "symbol": "circle"
         },
         "mode": "markers",
         "name": "1",
         "orientation": "v",
         "showlegend": true,
         "type": "scatter",
         "x": [
          0.0785652988043129,
          -0.06840793585704064,
          -0.11520691782746624,
          -0.10748033360583749,
          -0.06583971556129203,
          -0.09375834447498764,
          0.2512059754868466,
          0.2093991727399036,
          -0.013018244840159178,
          -0.10234322911069342,
          0.02859038066690171,
          -0.008982729201551852,
          -0.04908811063661876,
          0.000251565634478195,
          -0.030377784117206364,
          -0.035626119161225794,
          0.010325029198900083,
          -0.14930400874865873,
          -0.08496540609368818,
          0.05328056811610359,
          0.08715681199643399,
          0.16331208994950125,
          -0.0731030281685094,
          -0.03706529080118985,
          -0.007787727229932171,
          0.17550310185499715,
          0.10642806225073918,
          0.051846246522917076,
          -0.17828690118575216,
          -0.13272926783883213,
          -0.03113429315515938,
          -0.07163733994601175,
          0.004957152420967254,
          -0.043331194710265725,
          -0.03020397565913343,
          -0.002986585238504027,
          -0.05203746122031432,
          -0.05679883872859535,
          0.04412415841199177,
          0.10367772048741597,
          -0.07540751785233495,
          -0.09998044662142044,
          -0.006400198472932461,
          0.07420239151553974,
          -0.07082200535420957,
          -0.08585666600959654,
          0.021084935228282642,
          0.03102806149753825,
          -0.04615870957090114,
          -0.0781962429908528,
          -0.1425190514048176,
          -0.13968361349948383,
          0.06813306301724223,
          -0.13339071191622073,
          0.05087732850561752,
          0.21699873321911178,
          0.053820065937368204,
          0.15919426425460917,
          -0.003966353558791442,
          0.027984910192284915,
          0.1658666797572829,
          0.11486080912957755,
          0.09371060169083144,
          0.15855123025684303,
          0.09417047426778462,
          -0.015334800490719572,
          0.08028351531841176,
          0.08861583853666993,
          -0.11840993104258353,
          -0.14573771178451686,
          -0.1229013543936793
         ],
         "xaxis": "x",
         "y": [
          0.013432633960173095,
          -0.036957459618247666,
          -0.10479416055719754,
          -0.07759544673624777,
          0.017930370880069525,
          -0.08804177386489744,
          0.05490856358687288,
          0.0365422482589301,
          0.05767803660292827,
          -0.01869293293873224,
          0.07956772878602024,
          0.0341387433506954,
          -0.12777286551100028,
          0.058403914731553055,
          0.020154392720375794,
          -0.03082857045157771,
          0.027720679841291687,
          -0.0627001142651316,
          0.01677043881020269,
          0.05163457049078371,
          0.045026653167726645,
          0.06177482499819307,
          -0.003361971091088078,
          0.058510177379409715,
          0.05983988635451815,
          0.051737268470680206,
          0.035352814936648436,
          0.0640134919503357,
          -0.14059748987955153,
          -0.05241095044677892,
          0.05649823926353739,
          0.000365778238757491,
          0.06245337191588034,
          -0.06309920769304113,
          0.025073357280296974,
          0.07687777879972181,
          0.047912314755636336,
          -0.05745002998482719,
          0.055009236843012455,
          0.06393807873874284,
          -0.005663489838925447,
          -0.0009556073631121507,
          0.07047127931655729,
          0.06620631071964407,
          0.01243654040535638,
          -0.00903429913492101,
          0.06209117512003915,
          0.07890164632412879,
          0.021179248867433352,
          -0.07907302186836979,
          -0.14461952876373782,
          -0.1429278448633226,
          0.034822838786533555,
          -0.021742717258783496,
          0.08720202036301468,
          0.008768376494595186,
          0.058406170679812505,
          0.07529156890556991,
          0.07247134033722227,
          0.06811256420927876,
          0.09798285847310317,
          0.044102570286696986,
          -0.017036561108416205,
          0.07859235642553283,
          0.02291334193728672,
          -0.06476985632745311,
          0.04397447044929281,
          0.0618581328326238,
          -0.08766475477047282,
          -0.10083218988674765,
          -0.03150640349577618
         ],
         "yaxis": "y"
        },
        {
         "hovertemplate": "<b>%{hovertext}</b><br><br>anomaly_OCSVM=-1<br>PC1 (21.9 %)=%{x}<br>PC2 (14.4 %)=%{y}<extra></extra>",
         "hovertext": [
          "LQ-01-61-07_pos.mzXML",
          "LQ-01-61-25_pos.mzXML",
          "LQ-01-61-35_pos.mzXML",
          "LQ-01-61-50_pos.mzXML",
          "LQ-01-61-77_pos.mzXML"
         ],
         "legendgroup": "-1",
         "marker": {
          "color": "#FF7F0E",
          "line": {
           "color": "DarkSlateGrey",
           "width": 1
          },
          "size": 10,
          "symbol": "circle"
         },
         "mode": "markers",
         "name": "-1",
         "orientation": "v",
         "showlegend": true,
         "type": "scatter",
         "x": [
          -0.15426896019016711,
          -0.08870641420140044,
          -0.12331905208119948,
          -0.09359608647706602,
          0.5181503741641127
         ],
         "xaxis": "x",
         "y": [
          -0.10767976280663495,
          0.023287075404002003,
          -0.004059376454548449,
          -0.028512775521664008,
          -0.6119563189495109
         ],
         "yaxis": "y"
        }
       ],
       "layout": {
        "height": 650,
        "legend": {
         "title": {
          "text": "anomaly_OCSVM"
         },
         "tracegroupgap": 0
        },
        "template": {
         "data": {
          "bar": [
           {
            "error_x": {
             "color": "rgb(36,36,36)"
            },
            "error_y": {
             "color": "rgb(36,36,36)"
            },
            "marker": {
             "line": {
              "color": "white",
              "width": 0.5
             }
            },
            "type": "bar"
           }
          ],
          "barpolar": [
           {
            "marker": {
             "line": {
              "color": "white",
              "width": 0.5
             }
            },
            "type": "barpolar"
           }
          ],
          "carpet": [
           {
            "aaxis": {
             "endlinecolor": "rgb(36,36,36)",
             "gridcolor": "white",
             "linecolor": "white",
             "minorgridcolor": "white",
             "startlinecolor": "rgb(36,36,36)"
            },
            "baxis": {
             "endlinecolor": "rgb(36,36,36)",
             "gridcolor": "white",
             "linecolor": "white",
             "minorgridcolor": "white",
             "startlinecolor": "rgb(36,36,36)"
            },
            "type": "carpet"
           }
          ],
          "choropleth": [
           {
            "colorbar": {
             "outlinewidth": 1,
             "tickcolor": "rgb(36,36,36)",
             "ticks": "outside"
            },
            "type": "choropleth"
           }
          ],
          "contour": [
           {
            "colorbar": {
             "outlinewidth": 1,
             "tickcolor": "rgb(36,36,36)",
             "ticks": "outside"
            },
            "colorscale": [
             [
              0,
              "#440154"
             ],
             [
              0.1111111111111111,
              "#482878"
             ],
             [
              0.2222222222222222,
              "#3e4989"
             ],
             [
              0.3333333333333333,
              "#31688e"
             ],
             [
              0.4444444444444444,
              "#26828e"
             ],
             [
              0.5555555555555556,
              "#1f9e89"
             ],
             [
              0.6666666666666666,
              "#35b779"
             ],
             [
              0.7777777777777778,
              "#6ece58"
             ],
             [
              0.8888888888888888,
              "#b5de2b"
             ],
             [
              1,
              "#fde725"
             ]
            ],
            "type": "contour"
           }
          ],
          "contourcarpet": [
           {
            "colorbar": {
             "outlinewidth": 1,
             "tickcolor": "rgb(36,36,36)",
             "ticks": "outside"
            },
            "type": "contourcarpet"
           }
          ],
          "heatmap": [
           {
            "colorbar": {
             "outlinewidth": 1,
             "tickcolor": "rgb(36,36,36)",
             "ticks": "outside"
            },
            "colorscale": [
             [
              0,
              "#440154"
             ],
             [
              0.1111111111111111,
              "#482878"
             ],
             [
              0.2222222222222222,
              "#3e4989"
             ],
             [
              0.3333333333333333,
              "#31688e"
             ],
             [
              0.4444444444444444,
              "#26828e"
             ],
             [
              0.5555555555555556,
              "#1f9e89"
             ],
             [
              0.6666666666666666,
              "#35b779"
             ],
             [
              0.7777777777777778,
              "#6ece58"
             ],
             [
              0.8888888888888888,
              "#b5de2b"
             ],
             [
              1,
              "#fde725"
             ]
            ],
            "type": "heatmap"
           }
          ],
          "heatmapgl": [
           {
            "colorbar": {
             "outlinewidth": 1,
             "tickcolor": "rgb(36,36,36)",
             "ticks": "outside"
            },
            "colorscale": [
             [
              0,
              "#440154"
             ],
             [
              0.1111111111111111,
              "#482878"
             ],
             [
              0.2222222222222222,
              "#3e4989"
             ],
             [
              0.3333333333333333,
              "#31688e"
             ],
             [
              0.4444444444444444,
              "#26828e"
             ],
             [
              0.5555555555555556,
              "#1f9e89"
             ],
             [
              0.6666666666666666,
              "#35b779"
             ],
             [
              0.7777777777777778,
              "#6ece58"
             ],
             [
              0.8888888888888888,
              "#b5de2b"
             ],
             [
              1,
              "#fde725"
             ]
            ],
            "type": "heatmapgl"
           }
          ],
          "histogram": [
           {
            "marker": {
             "line": {
              "color": "white",
              "width": 0.6
             }
            },
            "type": "histogram"
           }
          ],
          "histogram2d": [
           {
            "colorbar": {
             "outlinewidth": 1,
             "tickcolor": "rgb(36,36,36)",
             "ticks": "outside"
            },
            "colorscale": [
             [
              0,
              "#440154"
             ],
             [
              0.1111111111111111,
              "#482878"
             ],
             [
              0.2222222222222222,
              "#3e4989"
             ],
             [
              0.3333333333333333,
              "#31688e"
             ],
             [
              0.4444444444444444,
              "#26828e"
             ],
             [
              0.5555555555555556,
              "#1f9e89"
             ],
             [
              0.6666666666666666,
              "#35b779"
             ],
             [
              0.7777777777777778,
              "#6ece58"
             ],
             [
              0.8888888888888888,
              "#b5de2b"
             ],
             [
              1,
              "#fde725"
             ]
            ],
            "type": "histogram2d"
           }
          ],
          "histogram2dcontour": [
           {
            "colorbar": {
             "outlinewidth": 1,
             "tickcolor": "rgb(36,36,36)",
             "ticks": "outside"
            },
            "colorscale": [
             [
              0,
              "#440154"
             ],
             [
              0.1111111111111111,
              "#482878"
             ],
             [
              0.2222222222222222,
              "#3e4989"
             ],
             [
              0.3333333333333333,
              "#31688e"
             ],
             [
              0.4444444444444444,
              "#26828e"
             ],
             [
              0.5555555555555556,
              "#1f9e89"
             ],
             [
              0.6666666666666666,
              "#35b779"
             ],
             [
              0.7777777777777778,
              "#6ece58"
             ],
             [
              0.8888888888888888,
              "#b5de2b"
             ],
             [
              1,
              "#fde725"
             ]
            ],
            "type": "histogram2dcontour"
           }
          ],
          "mesh3d": [
           {
            "colorbar": {
             "outlinewidth": 1,
             "tickcolor": "rgb(36,36,36)",
             "ticks": "outside"
            },
            "type": "mesh3d"
           }
          ],
          "parcoords": [
           {
            "line": {
             "colorbar": {
              "outlinewidth": 1,
              "tickcolor": "rgb(36,36,36)",
              "ticks": "outside"
             }
            },
            "type": "parcoords"
           }
          ],
          "pie": [
           {
            "automargin": true,
            "type": "pie"
           }
          ],
          "scatter": [
           {
            "marker": {
             "colorbar": {
              "outlinewidth": 1,
              "tickcolor": "rgb(36,36,36)",
              "ticks": "outside"
             }
            },
            "type": "scatter"
           }
          ],
          "scatter3d": [
           {
            "line": {
             "colorbar": {
              "outlinewidth": 1,
              "tickcolor": "rgb(36,36,36)",
              "ticks": "outside"
             }
            },
            "marker": {
             "colorbar": {
              "outlinewidth": 1,
              "tickcolor": "rgb(36,36,36)",
              "ticks": "outside"
             }
            },
            "type": "scatter3d"
           }
          ],
          "scattercarpet": [
           {
            "marker": {
             "colorbar": {
              "outlinewidth": 1,
              "tickcolor": "rgb(36,36,36)",
              "ticks": "outside"
             }
            },
            "type": "scattercarpet"
           }
          ],
          "scattergeo": [
           {
            "marker": {
             "colorbar": {
              "outlinewidth": 1,
              "tickcolor": "rgb(36,36,36)",
              "ticks": "outside"
             }
            },
            "type": "scattergeo"
           }
          ],
          "scattergl": [
           {
            "marker": {
             "colorbar": {
              "outlinewidth": 1,
              "tickcolor": "rgb(36,36,36)",
              "ticks": "outside"
             }
            },
            "type": "scattergl"
           }
          ],
          "scattermapbox": [
           {
            "marker": {
             "colorbar": {
              "outlinewidth": 1,
              "tickcolor": "rgb(36,36,36)",
              "ticks": "outside"
             }
            },
            "type": "scattermapbox"
           }
          ],
          "scatterpolar": [
           {
            "marker": {
             "colorbar": {
              "outlinewidth": 1,
              "tickcolor": "rgb(36,36,36)",
              "ticks": "outside"
             }
            },
            "type": "scatterpolar"
           }
          ],
          "scatterpolargl": [
           {
            "marker": {
             "colorbar": {
              "outlinewidth": 1,
              "tickcolor": "rgb(36,36,36)",
              "ticks": "outside"
             }
            },
            "type": "scatterpolargl"
           }
          ],
          "scatterternary": [
           {
            "marker": {
             "colorbar": {
              "outlinewidth": 1,
              "tickcolor": "rgb(36,36,36)",
              "ticks": "outside"
             }
            },
            "type": "scatterternary"
           }
          ],
          "surface": [
           {
            "colorbar": {
             "outlinewidth": 1,
             "tickcolor": "rgb(36,36,36)",
             "ticks": "outside"
            },
            "colorscale": [
             [
              0,
              "#440154"
             ],
             [
              0.1111111111111111,
              "#482878"
             ],
             [
              0.2222222222222222,
              "#3e4989"
             ],
             [
              0.3333333333333333,
              "#31688e"
             ],
             [
              0.4444444444444444,
              "#26828e"
             ],
             [
              0.5555555555555556,
              "#1f9e89"
             ],
             [
              0.6666666666666666,
              "#35b779"
             ],
             [
              0.7777777777777778,
              "#6ece58"
             ],
             [
              0.8888888888888888,
              "#b5de2b"
             ],
             [
              1,
              "#fde725"
             ]
            ],
            "type": "surface"
           }
          ],
          "table": [
           {
            "cells": {
             "fill": {
              "color": "rgb(237,237,237)"
             },
             "line": {
              "color": "white"
             }
            },
            "header": {
             "fill": {
              "color": "rgb(217,217,217)"
             },
             "line": {
              "color": "white"
             }
            },
            "type": "table"
           }
          ]
         },
         "layout": {
          "annotationdefaults": {
           "arrowhead": 0,
           "arrowwidth": 1
          },
          "autotypenumbers": "strict",
          "coloraxis": {
           "colorbar": {
            "outlinewidth": 1,
            "tickcolor": "rgb(36,36,36)",
            "ticks": "outside"
           }
          },
          "colorscale": {
           "diverging": [
            [
             0,
             "rgb(103,0,31)"
            ],
            [
             0.1,
             "rgb(178,24,43)"
            ],
            [
             0.2,
             "rgb(214,96,77)"
            ],
            [
             0.3,
             "rgb(244,165,130)"
            ],
            [
             0.4,
             "rgb(253,219,199)"
            ],
            [
             0.5,
             "rgb(247,247,247)"
            ],
            [
             0.6,
             "rgb(209,229,240)"
            ],
            [
             0.7,
             "rgb(146,197,222)"
            ],
            [
             0.8,
             "rgb(67,147,195)"
            ],
            [
             0.9,
             "rgb(33,102,172)"
            ],
            [
             1,
             "rgb(5,48,97)"
            ]
           ],
           "sequential": [
            [
             0,
             "#440154"
            ],
            [
             0.1111111111111111,
             "#482878"
            ],
            [
             0.2222222222222222,
             "#3e4989"
            ],
            [
             0.3333333333333333,
             "#31688e"
            ],
            [
             0.4444444444444444,
             "#26828e"
            ],
            [
             0.5555555555555556,
             "#1f9e89"
            ],
            [
             0.6666666666666666,
             "#35b779"
            ],
            [
             0.7777777777777778,
             "#6ece58"
            ],
            [
             0.8888888888888888,
             "#b5de2b"
            ],
            [
             1,
             "#fde725"
            ]
           ],
           "sequentialminus": [
            [
             0,
             "#440154"
            ],
            [
             0.1111111111111111,
             "#482878"
            ],
            [
             0.2222222222222222,
             "#3e4989"
            ],
            [
             0.3333333333333333,
             "#31688e"
            ],
            [
             0.4444444444444444,
             "#26828e"
            ],
            [
             0.5555555555555556,
             "#1f9e89"
            ],
            [
             0.6666666666666666,
             "#35b779"
            ],
            [
             0.7777777777777778,
             "#6ece58"
            ],
            [
             0.8888888888888888,
             "#b5de2b"
            ],
            [
             1,
             "#fde725"
            ]
           ]
          },
          "colorway": [
           "#1F77B4",
           "#FF7F0E",
           "#2CA02C",
           "#D62728",
           "#9467BD",
           "#8C564B",
           "#E377C2",
           "#7F7F7F",
           "#BCBD22",
           "#17BECF"
          ],
          "font": {
           "color": "rgb(36,36,36)"
          },
          "geo": {
           "bgcolor": "white",
           "lakecolor": "white",
           "landcolor": "white",
           "showlakes": true,
           "showland": true,
           "subunitcolor": "white"
          },
          "hoverlabel": {
           "align": "left"
          },
          "hovermode": "closest",
          "mapbox": {
           "style": "light"
          },
          "paper_bgcolor": "white",
          "plot_bgcolor": "white",
          "polar": {
           "angularaxis": {
            "gridcolor": "rgb(232,232,232)",
            "linecolor": "rgb(36,36,36)",
            "showgrid": false,
            "showline": true,
            "ticks": "outside"
           },
           "bgcolor": "white",
           "radialaxis": {
            "gridcolor": "rgb(232,232,232)",
            "linecolor": "rgb(36,36,36)",
            "showgrid": false,
            "showline": true,
            "ticks": "outside"
           }
          },
          "scene": {
           "xaxis": {
            "backgroundcolor": "white",
            "gridcolor": "rgb(232,232,232)",
            "gridwidth": 2,
            "linecolor": "rgb(36,36,36)",
            "showbackground": true,
            "showgrid": false,
            "showline": true,
            "ticks": "outside",
            "zeroline": false,
            "zerolinecolor": "rgb(36,36,36)"
           },
           "yaxis": {
            "backgroundcolor": "white",
            "gridcolor": "rgb(232,232,232)",
            "gridwidth": 2,
            "linecolor": "rgb(36,36,36)",
            "showbackground": true,
            "showgrid": false,
            "showline": true,
            "ticks": "outside",
            "zeroline": false,
            "zerolinecolor": "rgb(36,36,36)"
           },
           "zaxis": {
            "backgroundcolor": "white",
            "gridcolor": "rgb(232,232,232)",
            "gridwidth": 2,
            "linecolor": "rgb(36,36,36)",
            "showbackground": true,
            "showgrid": false,
            "showline": true,
            "ticks": "outside",
            "zeroline": false,
            "zerolinecolor": "rgb(36,36,36)"
           }
          },
          "shapedefaults": {
           "fillcolor": "black",
           "line": {
            "width": 0
           },
           "opacity": 0.3
          },
          "ternary": {
           "aaxis": {
            "gridcolor": "rgb(232,232,232)",
            "linecolor": "rgb(36,36,36)",
            "showgrid": false,
            "showline": true,
            "ticks": "outside"
           },
           "baxis": {
            "gridcolor": "rgb(232,232,232)",
            "linecolor": "rgb(36,36,36)",
            "showgrid": false,
            "showline": true,
            "ticks": "outside"
           },
           "bgcolor": "white",
           "caxis": {
            "gridcolor": "rgb(232,232,232)",
            "linecolor": "rgb(36,36,36)",
            "showgrid": false,
            "showline": true,
            "ticks": "outside"
           }
          },
          "title": {
           "x": 0.05
          },
          "xaxis": {
           "automargin": true,
           "gridcolor": "rgb(232,232,232)",
           "linecolor": "rgb(36,36,36)",
           "showgrid": false,
           "showline": true,
           "ticks": "outside",
           "title": {
            "standoff": 15
           },
           "zeroline": false,
           "zerolinecolor": "rgb(36,36,36)"
          },
          "yaxis": {
           "automargin": true,
           "gridcolor": "rgb(232,232,232)",
           "linecolor": "rgb(36,36,36)",
           "showgrid": false,
           "showline": true,
           "ticks": "outside",
           "title": {
            "standoff": 15
           },
           "zeroline": false,
           "zerolinecolor": "rgb(36,36,36)"
          }
         }
        },
        "title": {
         "text": "\"One-class support vector machine & PCoA (bray-curtis) based on the feature matrix\""
        },
        "width": 700,
        "xaxis": {
         "anchor": "y",
         "domain": [
          0,
          1
         ],
         "title": {
          "text": "PC1 (21.9 %)"
         }
        },
        "yaxis": {
         "anchor": "x",
         "domain": [
          0,
          1
         ],
         "title": {
          "text": "PC2 (14.4 %)"
         }
        }
       }
      },
      "text/html": [
       "<div>                            <div id=\"eab09c4f-8ce5-45a2-8723-20e6e694be0a\" class=\"plotly-graph-div\" style=\"height:650px; width:700px;\"></div>            <script type=\"text/javascript\">                require([\"plotly\"], function(Plotly) {                    window.PLOTLYENV=window.PLOTLYENV || {};                                    if (document.getElementById(\"eab09c4f-8ce5-45a2-8723-20e6e694be0a\")) {                    Plotly.newPlot(                        \"eab09c4f-8ce5-45a2-8723-20e6e694be0a\",                        [{\"hovertemplate\": \"<b>%{hovertext}</b><br><br>anomaly_OCSVM=1<br>PC1 (21.9 %)=%{x}<br>PC2 (14.4 %)=%{y}<extra></extra>\", \"hovertext\": [\"LQ-01-61-01_pos.mzXML\", \"LQ-01-61-02_pos.mzXML\", \"LQ-01-61-03_pos.mzXML\", \"LQ-01-61-04_pos.mzXML\", \"LQ-01-61-05_pos.mzXML\", \"LQ-01-61-06_pos.mzXML\", \"LQ-01-61-08_pos.mzXML\", \"LQ-01-61-09_pos.mzXML\", \"LQ-01-61-10_pos.mzXML\", \"LQ-01-61-11_pos.mzXML\", \"LQ-01-61-12_pos.mzXML\", \"LQ-01-61-13_pos.mzXML\", \"LQ-01-61-14_pos.mzXML\", \"LQ-01-61-15_pos.mzXML\", \"LQ-01-61-16_pos.mzXML\", \"LQ-01-61-17_pos.mzXML\", \"LQ-01-61-18_pos.mzXML\", \"LQ-01-61-19_pos.mzXML\", \"LQ-01-61-20_pos.mzXML\", \"LQ-01-61-21_pos.mzXML\", \"LQ-01-61-22_pos.mzXML\", \"LQ-01-61-23_pos.mzXML\", \"LQ-01-61-24_pos.mzXML\", \"LQ-01-61-26_pos.mzXML\", \"LQ-01-61-27_pos.mzXML\", \"LQ-01-61-28_pos.mzXML\", \"LQ-01-61-29_pos.mzXML\", \"LQ-01-61-30_pos.mzXML\", \"LQ-01-61-31_pos.mzXML\", \"LQ-01-61-32_pos.mzXML\", \"LQ-01-61-33_pos.mzXML\", \"LQ-01-61-34_pos.mzXML\", \"LQ-01-61-36_pos.mzXML\", \"LQ-01-61-37_pos.mzXML\", \"LQ-01-61-38_pos.mzXML\", \"LQ-01-61-39_pos.mzXML\", \"LQ-01-61-40_pos.mzXML\", \"LQ-01-61-41_pos.mzXML\", \"LQ-01-61-42_pos.mzXML\", \"LQ-01-61-43_pos.mzXML\", \"LQ-01-61-44_pos.mzXML\", \"LQ-01-61-45_pos.mzXML\", \"LQ-01-61-46_pos.mzXML\", \"LQ-01-61-47_pos.mzXML\", \"LQ-01-61-48_pos.mzXML\", \"LQ-01-61-49_pos.mzXML\", \"LQ-01-61-51_pos.mzXML\", \"LQ-01-61-52_pos.mzXML\", \"LQ-01-61-53_pos.mzXML\", \"LQ-01-61-54_pos.mzXML\", \"LQ-01-61-55_pos.mzXML\", \"LQ-01-61-56_pos.mzXML\", \"LQ-01-61-57_pos.mzXML\", \"LQ-01-61-58_pos.mzXML\", \"LQ-01-61-59_pos.mzXML\", \"LQ-01-61-60_pos.mzXML\", \"LQ-01-61-61_pos.mzXML\", \"LQ-01-61-62_pos.mzXML\", \"LQ-01-61-63_pos.mzXML\", \"LQ-01-61-64_pos.mzXML\", \"LQ-01-61-65_pos.mzXML\", \"LQ-01-61-66_pos.mzXML\", \"LQ-01-61-67_pos.mzXML\", \"LQ-01-61-68_pos.mzXML\", \"LQ-01-61-69_pos.mzXML\", \"LQ-01-61-70_pos.mzXML\", \"LQ-01-61-71_pos.mzXML\", \"LQ-01-61-72_pos.mzXML\", \"LQ-01-61-73_pos.mzXML\", \"LQ-01-61-74_pos.mzXML\", \"LQ-01-61-75_pos.mzXML\"], \"legendgroup\": \"1\", \"marker\": {\"color\": \"#1F77B4\", \"line\": {\"color\": \"DarkSlateGrey\", \"width\": 1}, \"size\": 10, \"symbol\": \"circle\"}, \"mode\": \"markers\", \"name\": \"1\", \"orientation\": \"v\", \"showlegend\": true, \"type\": \"scatter\", \"x\": [0.0785652988043129, -0.06840793585704064, -0.11520691782746624, -0.10748033360583749, -0.06583971556129203, -0.09375834447498764, 0.2512059754868466, 0.2093991727399036, -0.013018244840159178, -0.10234322911069342, 0.02859038066690171, -0.008982729201551852, -0.04908811063661876, 0.000251565634478195, -0.030377784117206364, -0.035626119161225794, 0.010325029198900083, -0.14930400874865873, -0.08496540609368818, 0.05328056811610359, 0.08715681199643399, 0.16331208994950125, -0.0731030281685094, -0.03706529080118985, -0.007787727229932171, 0.17550310185499715, 0.10642806225073918, 0.051846246522917076, -0.17828690118575216, -0.13272926783883213, -0.03113429315515938, -0.07163733994601175, 0.004957152420967254, -0.043331194710265725, -0.03020397565913343, -0.002986585238504027, -0.05203746122031432, -0.05679883872859535, 0.04412415841199177, 0.10367772048741597, -0.07540751785233495, -0.09998044662142044, -0.006400198472932461, 0.07420239151553974, -0.07082200535420957, -0.08585666600959654, 0.021084935228282642, 0.03102806149753825, -0.04615870957090114, -0.0781962429908528, -0.1425190514048176, -0.13968361349948383, 0.06813306301724223, -0.13339071191622073, 0.05087732850561752, 0.21699873321911178, 0.053820065937368204, 0.15919426425460917, -0.003966353558791442, 0.027984910192284915, 0.1658666797572829, 0.11486080912957755, 0.09371060169083144, 0.15855123025684303, 0.09417047426778462, -0.015334800490719572, 0.08028351531841176, 0.08861583853666993, -0.11840993104258353, -0.14573771178451686, -0.1229013543936793], \"xaxis\": \"x\", \"y\": [0.013432633960173095, -0.036957459618247666, -0.10479416055719754, -0.07759544673624777, 0.017930370880069525, -0.08804177386489744, 0.05490856358687288, 0.0365422482589301, 0.05767803660292827, -0.01869293293873224, 0.07956772878602024, 0.0341387433506954, -0.12777286551100028, 0.058403914731553055, 0.020154392720375794, -0.03082857045157771, 0.027720679841291687, -0.0627001142651316, 0.01677043881020269, 0.05163457049078371, 0.045026653167726645, 0.06177482499819307, -0.003361971091088078, 0.058510177379409715, 0.05983988635451815, 0.051737268470680206, 0.035352814936648436, 0.0640134919503357, -0.14059748987955153, -0.05241095044677892, 0.05649823926353739, 0.000365778238757491, 0.06245337191588034, -0.06309920769304113, 0.025073357280296974, 0.07687777879972181, 0.047912314755636336, -0.05745002998482719, 0.055009236843012455, 0.06393807873874284, -0.005663489838925447, -0.0009556073631121507, 0.07047127931655729, 0.06620631071964407, 0.01243654040535638, -0.00903429913492101, 0.06209117512003915, 0.07890164632412879, 0.021179248867433352, -0.07907302186836979, -0.14461952876373782, -0.1429278448633226, 0.034822838786533555, -0.021742717258783496, 0.08720202036301468, 0.008768376494595186, 0.058406170679812505, 0.07529156890556991, 0.07247134033722227, 0.06811256420927876, 0.09798285847310317, 0.044102570286696986, -0.017036561108416205, 0.07859235642553283, 0.02291334193728672, -0.06476985632745311, 0.04397447044929281, 0.0618581328326238, -0.08766475477047282, -0.10083218988674765, -0.03150640349577618], \"yaxis\": \"y\"}, {\"hovertemplate\": \"<b>%{hovertext}</b><br><br>anomaly_OCSVM=-1<br>PC1 (21.9 %)=%{x}<br>PC2 (14.4 %)=%{y}<extra></extra>\", \"hovertext\": [\"LQ-01-61-07_pos.mzXML\", \"LQ-01-61-25_pos.mzXML\", \"LQ-01-61-35_pos.mzXML\", \"LQ-01-61-50_pos.mzXML\", \"LQ-01-61-77_pos.mzXML\"], \"legendgroup\": \"-1\", \"marker\": {\"color\": \"#FF7F0E\", \"line\": {\"color\": \"DarkSlateGrey\", \"width\": 1}, \"size\": 10, \"symbol\": \"circle\"}, \"mode\": \"markers\", \"name\": \"-1\", \"orientation\": \"v\", \"showlegend\": true, \"type\": \"scatter\", \"x\": [-0.15426896019016711, -0.08870641420140044, -0.12331905208119948, -0.09359608647706602, 0.5181503741641127], \"xaxis\": \"x\", \"y\": [-0.10767976280663495, 0.023287075404002003, -0.004059376454548449, -0.028512775521664008, -0.6119563189495109], \"yaxis\": \"y\"}],                        {\"height\": 650, \"legend\": {\"title\": {\"text\": \"anomaly_OCSVM\"}, \"tracegroupgap\": 0}, \"template\": {\"data\": {\"bar\": [{\"error_x\": {\"color\": \"rgb(36,36,36)\"}, \"error_y\": {\"color\": \"rgb(36,36,36)\"}, \"marker\": {\"line\": {\"color\": \"white\", \"width\": 0.5}}, \"type\": \"bar\"}], \"barpolar\": [{\"marker\": {\"line\": {\"color\": \"white\", \"width\": 0.5}}, \"type\": \"barpolar\"}], \"carpet\": [{\"aaxis\": {\"endlinecolor\": \"rgb(36,36,36)\", \"gridcolor\": \"white\", \"linecolor\": \"white\", \"minorgridcolor\": \"white\", \"startlinecolor\": \"rgb(36,36,36)\"}, \"baxis\": {\"endlinecolor\": \"rgb(36,36,36)\", \"gridcolor\": \"white\", \"linecolor\": \"white\", \"minorgridcolor\": \"white\", \"startlinecolor\": \"rgb(36,36,36)\"}, \"type\": \"carpet\"}], \"choropleth\": [{\"colorbar\": {\"outlinewidth\": 1, \"tickcolor\": \"rgb(36,36,36)\", \"ticks\": \"outside\"}, \"type\": \"choropleth\"}], \"contour\": [{\"colorbar\": {\"outlinewidth\": 1, \"tickcolor\": \"rgb(36,36,36)\", \"ticks\": \"outside\"}, \"colorscale\": [[0.0, \"#440154\"], [0.1111111111111111, \"#482878\"], [0.2222222222222222, \"#3e4989\"], [0.3333333333333333, \"#31688e\"], [0.4444444444444444, \"#26828e\"], [0.5555555555555556, \"#1f9e89\"], [0.6666666666666666, \"#35b779\"], [0.7777777777777778, \"#6ece58\"], [0.8888888888888888, \"#b5de2b\"], [1.0, \"#fde725\"]], \"type\": \"contour\"}], \"contourcarpet\": [{\"colorbar\": {\"outlinewidth\": 1, \"tickcolor\": \"rgb(36,36,36)\", \"ticks\": \"outside\"}, \"type\": \"contourcarpet\"}], \"heatmap\": [{\"colorbar\": {\"outlinewidth\": 1, \"tickcolor\": \"rgb(36,36,36)\", \"ticks\": \"outside\"}, \"colorscale\": [[0.0, \"#440154\"], [0.1111111111111111, \"#482878\"], [0.2222222222222222, \"#3e4989\"], [0.3333333333333333, \"#31688e\"], [0.4444444444444444, \"#26828e\"], [0.5555555555555556, \"#1f9e89\"], [0.6666666666666666, \"#35b779\"], [0.7777777777777778, \"#6ece58\"], [0.8888888888888888, \"#b5de2b\"], [1.0, \"#fde725\"]], \"type\": \"heatmap\"}], \"heatmapgl\": [{\"colorbar\": {\"outlinewidth\": 1, \"tickcolor\": \"rgb(36,36,36)\", \"ticks\": \"outside\"}, \"colorscale\": [[0.0, \"#440154\"], [0.1111111111111111, \"#482878\"], [0.2222222222222222, \"#3e4989\"], [0.3333333333333333, \"#31688e\"], [0.4444444444444444, \"#26828e\"], [0.5555555555555556, \"#1f9e89\"], [0.6666666666666666, \"#35b779\"], [0.7777777777777778, \"#6ece58\"], [0.8888888888888888, \"#b5de2b\"], [1.0, \"#fde725\"]], \"type\": \"heatmapgl\"}], \"histogram\": [{\"marker\": {\"line\": {\"color\": \"white\", \"width\": 0.6}}, \"type\": \"histogram\"}], \"histogram2d\": [{\"colorbar\": {\"outlinewidth\": 1, \"tickcolor\": \"rgb(36,36,36)\", \"ticks\": \"outside\"}, \"colorscale\": [[0.0, \"#440154\"], [0.1111111111111111, \"#482878\"], [0.2222222222222222, \"#3e4989\"], [0.3333333333333333, \"#31688e\"], [0.4444444444444444, \"#26828e\"], [0.5555555555555556, \"#1f9e89\"], [0.6666666666666666, \"#35b779\"], [0.7777777777777778, \"#6ece58\"], [0.8888888888888888, \"#b5de2b\"], [1.0, \"#fde725\"]], \"type\": \"histogram2d\"}], \"histogram2dcontour\": [{\"colorbar\": {\"outlinewidth\": 1, \"tickcolor\": \"rgb(36,36,36)\", \"ticks\": \"outside\"}, \"colorscale\": [[0.0, \"#440154\"], [0.1111111111111111, \"#482878\"], [0.2222222222222222, \"#3e4989\"], [0.3333333333333333, \"#31688e\"], [0.4444444444444444, \"#26828e\"], [0.5555555555555556, \"#1f9e89\"], [0.6666666666666666, \"#35b779\"], [0.7777777777777778, \"#6ece58\"], [0.8888888888888888, \"#b5de2b\"], [1.0, \"#fde725\"]], \"type\": \"histogram2dcontour\"}], \"mesh3d\": [{\"colorbar\": {\"outlinewidth\": 1, \"tickcolor\": \"rgb(36,36,36)\", \"ticks\": \"outside\"}, \"type\": \"mesh3d\"}], \"parcoords\": [{\"line\": {\"colorbar\": {\"outlinewidth\": 1, \"tickcolor\": \"rgb(36,36,36)\", \"ticks\": \"outside\"}}, \"type\": \"parcoords\"}], \"pie\": [{\"automargin\": true, \"type\": \"pie\"}], \"scatter\": [{\"marker\": {\"colorbar\": {\"outlinewidth\": 1, \"tickcolor\": \"rgb(36,36,36)\", \"ticks\": \"outside\"}}, \"type\": \"scatter\"}], \"scatter3d\": [{\"line\": {\"colorbar\": {\"outlinewidth\": 1, \"tickcolor\": \"rgb(36,36,36)\", \"ticks\": \"outside\"}}, \"marker\": {\"colorbar\": {\"outlinewidth\": 1, \"tickcolor\": \"rgb(36,36,36)\", \"ticks\": \"outside\"}}, \"type\": \"scatter3d\"}], \"scattercarpet\": [{\"marker\": {\"colorbar\": {\"outlinewidth\": 1, \"tickcolor\": \"rgb(36,36,36)\", \"ticks\": \"outside\"}}, \"type\": \"scattercarpet\"}], \"scattergeo\": [{\"marker\": {\"colorbar\": {\"outlinewidth\": 1, \"tickcolor\": \"rgb(36,36,36)\", \"ticks\": \"outside\"}}, \"type\": \"scattergeo\"}], \"scattergl\": [{\"marker\": {\"colorbar\": {\"outlinewidth\": 1, \"tickcolor\": \"rgb(36,36,36)\", \"ticks\": \"outside\"}}, \"type\": \"scattergl\"}], \"scattermapbox\": [{\"marker\": {\"colorbar\": {\"outlinewidth\": 1, \"tickcolor\": \"rgb(36,36,36)\", \"ticks\": \"outside\"}}, \"type\": \"scattermapbox\"}], \"scatterpolar\": [{\"marker\": {\"colorbar\": {\"outlinewidth\": 1, \"tickcolor\": \"rgb(36,36,36)\", \"ticks\": \"outside\"}}, \"type\": \"scatterpolar\"}], \"scatterpolargl\": [{\"marker\": {\"colorbar\": {\"outlinewidth\": 1, \"tickcolor\": \"rgb(36,36,36)\", \"ticks\": \"outside\"}}, \"type\": \"scatterpolargl\"}], \"scatterternary\": [{\"marker\": {\"colorbar\": {\"outlinewidth\": 1, \"tickcolor\": \"rgb(36,36,36)\", \"ticks\": \"outside\"}}, \"type\": \"scatterternary\"}], \"surface\": [{\"colorbar\": {\"outlinewidth\": 1, \"tickcolor\": \"rgb(36,36,36)\", \"ticks\": \"outside\"}, \"colorscale\": [[0.0, \"#440154\"], [0.1111111111111111, \"#482878\"], [0.2222222222222222, \"#3e4989\"], [0.3333333333333333, \"#31688e\"], [0.4444444444444444, \"#26828e\"], [0.5555555555555556, \"#1f9e89\"], [0.6666666666666666, \"#35b779\"], [0.7777777777777778, \"#6ece58\"], [0.8888888888888888, \"#b5de2b\"], [1.0, \"#fde725\"]], \"type\": \"surface\"}], \"table\": [{\"cells\": {\"fill\": {\"color\": \"rgb(237,237,237)\"}, \"line\": {\"color\": \"white\"}}, \"header\": {\"fill\": {\"color\": \"rgb(217,217,217)\"}, \"line\": {\"color\": \"white\"}}, \"type\": \"table\"}]}, \"layout\": {\"annotationdefaults\": {\"arrowhead\": 0, \"arrowwidth\": 1}, \"autotypenumbers\": \"strict\", \"coloraxis\": {\"colorbar\": {\"outlinewidth\": 1, \"tickcolor\": \"rgb(36,36,36)\", \"ticks\": \"outside\"}}, \"colorscale\": {\"diverging\": [[0.0, \"rgb(103,0,31)\"], [0.1, \"rgb(178,24,43)\"], [0.2, \"rgb(214,96,77)\"], [0.3, \"rgb(244,165,130)\"], [0.4, \"rgb(253,219,199)\"], [0.5, \"rgb(247,247,247)\"], [0.6, \"rgb(209,229,240)\"], [0.7, \"rgb(146,197,222)\"], [0.8, \"rgb(67,147,195)\"], [0.9, \"rgb(33,102,172)\"], [1.0, \"rgb(5,48,97)\"]], \"sequential\": [[0.0, \"#440154\"], [0.1111111111111111, \"#482878\"], [0.2222222222222222, \"#3e4989\"], [0.3333333333333333, \"#31688e\"], [0.4444444444444444, \"#26828e\"], [0.5555555555555556, \"#1f9e89\"], [0.6666666666666666, \"#35b779\"], [0.7777777777777778, \"#6ece58\"], [0.8888888888888888, \"#b5de2b\"], [1.0, \"#fde725\"]], \"sequentialminus\": [[0.0, \"#440154\"], [0.1111111111111111, \"#482878\"], [0.2222222222222222, \"#3e4989\"], [0.3333333333333333, \"#31688e\"], [0.4444444444444444, \"#26828e\"], [0.5555555555555556, \"#1f9e89\"], [0.6666666666666666, \"#35b779\"], [0.7777777777777778, \"#6ece58\"], [0.8888888888888888, \"#b5de2b\"], [1.0, \"#fde725\"]]}, \"colorway\": [\"#1F77B4\", \"#FF7F0E\", \"#2CA02C\", \"#D62728\", \"#9467BD\", \"#8C564B\", \"#E377C2\", \"#7F7F7F\", \"#BCBD22\", \"#17BECF\"], \"font\": {\"color\": \"rgb(36,36,36)\"}, \"geo\": {\"bgcolor\": \"white\", \"lakecolor\": \"white\", \"landcolor\": \"white\", \"showlakes\": true, \"showland\": true, \"subunitcolor\": \"white\"}, \"hoverlabel\": {\"align\": \"left\"}, \"hovermode\": \"closest\", \"mapbox\": {\"style\": \"light\"}, \"paper_bgcolor\": \"white\", \"plot_bgcolor\": \"white\", \"polar\": {\"angularaxis\": {\"gridcolor\": \"rgb(232,232,232)\", \"linecolor\": \"rgb(36,36,36)\", \"showgrid\": false, \"showline\": true, \"ticks\": \"outside\"}, \"bgcolor\": \"white\", \"radialaxis\": {\"gridcolor\": \"rgb(232,232,232)\", \"linecolor\": \"rgb(36,36,36)\", \"showgrid\": false, \"showline\": true, \"ticks\": \"outside\"}}, \"scene\": {\"xaxis\": {\"backgroundcolor\": \"white\", \"gridcolor\": \"rgb(232,232,232)\", \"gridwidth\": 2, \"linecolor\": \"rgb(36,36,36)\", \"showbackground\": true, \"showgrid\": false, \"showline\": true, \"ticks\": \"outside\", \"zeroline\": false, \"zerolinecolor\": \"rgb(36,36,36)\"}, \"yaxis\": {\"backgroundcolor\": \"white\", \"gridcolor\": \"rgb(232,232,232)\", \"gridwidth\": 2, \"linecolor\": \"rgb(36,36,36)\", \"showbackground\": true, \"showgrid\": false, \"showline\": true, \"ticks\": \"outside\", \"zeroline\": false, \"zerolinecolor\": \"rgb(36,36,36)\"}, \"zaxis\": {\"backgroundcolor\": \"white\", \"gridcolor\": \"rgb(232,232,232)\", \"gridwidth\": 2, \"linecolor\": \"rgb(36,36,36)\", \"showbackground\": true, \"showgrid\": false, \"showline\": true, \"ticks\": \"outside\", \"zeroline\": false, \"zerolinecolor\": \"rgb(36,36,36)\"}}, \"shapedefaults\": {\"fillcolor\": \"black\", \"line\": {\"width\": 0}, \"opacity\": 0.3}, \"ternary\": {\"aaxis\": {\"gridcolor\": \"rgb(232,232,232)\", \"linecolor\": \"rgb(36,36,36)\", \"showgrid\": false, \"showline\": true, \"ticks\": \"outside\"}, \"baxis\": {\"gridcolor\": \"rgb(232,232,232)\", \"linecolor\": \"rgb(36,36,36)\", \"showgrid\": false, \"showline\": true, \"ticks\": \"outside\"}, \"bgcolor\": \"white\", \"caxis\": {\"gridcolor\": \"rgb(232,232,232)\", \"linecolor\": \"rgb(36,36,36)\", \"showgrid\": false, \"showline\": true, \"ticks\": \"outside\"}}, \"title\": {\"x\": 0.05}, \"xaxis\": {\"automargin\": true, \"gridcolor\": \"rgb(232,232,232)\", \"linecolor\": \"rgb(36,36,36)\", \"showgrid\": false, \"showline\": true, \"ticks\": \"outside\", \"title\": {\"standoff\": 15}, \"zeroline\": false, \"zerolinecolor\": \"rgb(36,36,36)\"}, \"yaxis\": {\"automargin\": true, \"gridcolor\": \"rgb(232,232,232)\", \"linecolor\": \"rgb(36,36,36)\", \"showgrid\": false, \"showline\": true, \"ticks\": \"outside\", \"title\": {\"standoff\": 15}, \"zeroline\": false, \"zerolinecolor\": \"rgb(36,36,36)\"}}}, \"title\": {\"text\": \"\\\"One-class support vector machine & PCoA (bray-curtis) based on the feature matrix\\\"\"}, \"width\": 700, \"xaxis\": {\"anchor\": \"y\", \"domain\": [0.0, 1.0], \"title\": {\"text\": \"PC1 (21.9 %)\"}}, \"yaxis\": {\"anchor\": \"x\", \"domain\": [0.0, 1.0], \"title\": {\"text\": \"PC2 (14.4 %)\"}}},                        {\"responsive\": true}                    ).then(function(){\n",
       "                            \n",
       "var gd = document.getElementById('eab09c4f-8ce5-45a2-8723-20e6e694be0a');\n",
       "var x = new MutationObserver(function (mutations, observer) {{\n",
       "        var display = window.getComputedStyle(gd).display;\n",
       "        if (!display || display === 'none') {{\n",
       "            console.log([gd, 'removed!']);\n",
       "            Plotly.purge(gd);\n",
       "            observer.disconnect();\n",
       "        }}\n",
       "}});\n",
       "\n",
       "// Listen for the removal of the full notebook cells\n",
       "var notebookContainer = gd.closest('#notebook-container');\n",
       "if (notebookContainer) {{\n",
       "    x.observe(notebookContainer, {childList: true});\n",
       "}}\n",
       "\n",
       "// Listen for the clearing of the current output cell\n",
       "var outputEl = gd.closest('.output');\n",
       "if (outputEl) {{\n",
       "    x.observe(outputEl, {childList: true});\n",
       "}}\n",
       "\n",
       "                        })                };                });            </script>        </div>"
      ]
     },
     "metadata": {},
     "output_type": "display_data"
    }
   ],
   "source": [
    "# One-class support vector machine (OCSVM)\n",
    "trace3 = pcoa_2d(\n",
    "    matrix= metric_df[:-1],\n",
    "    data = SC,\n",
    "    metric= 'braycurtis',\n",
    "    filename_col = 'filename',\n",
    "    group_col='anomaly_OCSVM',\n",
    "    title='\"One-class support vector machine & PCoA (bray-curtis) based on the feature matrix\"'\n",
    "    )"
   ]
  },
  {
   "cell_type": "markdown",
   "metadata": {},
   "source": [
    "## Chemical classes from Sirius\n",
    "\n",
    "### CC. Chemical class"
   ]
  },
  {
   "cell_type": "code",
   "execution_count": 15,
   "metadata": {},
   "outputs": [
    {
     "data": {
      "text/html": [
       "<div>\n",
       "<style scoped>\n",
       "    .dataframe tbody tr th:only-of-type {\n",
       "        vertical-align: middle;\n",
       "    }\n",
       "\n",
       "    .dataframe tbody tr th {\n",
       "        vertical-align: top;\n",
       "    }\n",
       "\n",
       "    .dataframe thead th {\n",
       "        text-align: right;\n",
       "    }\n",
       "</style>\n",
       "<table border=\"1\" class=\"dataframe\">\n",
       "  <thead>\n",
       "    <tr style=\"text-align: right;\">\n",
       "      <th></th>\n",
       "      <th>filename</th>\n",
       "      <th>classe</th>\n",
       "    </tr>\n",
       "  </thead>\n",
       "  <tbody>\n",
       "    <tr>\n",
       "      <th>0</th>\n",
       "      <td>LQ-01-61-01_pos.mzXML</td>\n",
       "      <td>{Pyridine alkaloids, Aminoacids, Piperidine al...</td>\n",
       "    </tr>\n",
       "    <tr>\n",
       "      <th>1</th>\n",
       "      <td>LQ-01-61-02_pos.mzXML</td>\n",
       "      <td>{Pyridine alkaloids, Cholane steroids, Labdane...</td>\n",
       "    </tr>\n",
       "  </tbody>\n",
       "</table>\n",
       "</div>"
      ],
      "text/plain": [
       "                filename                                             classe\n",
       "0  LQ-01-61-01_pos.mzXML  {Pyridine alkaloids, Aminoacids, Piperidine al...\n",
       "1  LQ-01-61-02_pos.mzXML  {Pyridine alkaloids, Cholane steroids, Labdane..."
      ]
     },
     "execution_count": 15,
     "metadata": {},
     "output_type": "execute_result"
    }
   ],
   "source": [
    "#Upload sirius results \n",
    "sirius_df            = pd.read_csv(sirius_results_filename ,\n",
    "                                sep='\\t').dropna()\n",
    "#SIRIUS.head(2)\n",
    "\n",
    "sirus_classes_df = sirius_classes(specificity_df, metadata_df,sirius_df)\n",
    "sirus_classes_df.head(2)"
   ]
  },
  {
   "cell_type": "markdown",
   "metadata": {},
   "source": [
    "### CC. Search for reported chemical classes according to the species in the set"
   ]
  },
  {
   "cell_type": "code",
   "execution_count": 16,
   "metadata": {},
   "outputs": [
    {
     "data": {
      "text/html": [
       "<div>\n",
       "<style scoped>\n",
       "    .dataframe tbody tr th:only-of-type {\n",
       "        vertical-align: middle;\n",
       "    }\n",
       "\n",
       "    .dataframe tbody tr th {\n",
       "        vertical-align: top;\n",
       "    }\n",
       "\n",
       "    .dataframe thead th {\n",
       "        text-align: right;\n",
       "    }\n",
       "</style>\n",
       "<table border=\"1\" class=\"dataframe\">\n",
       "  <thead>\n",
       "    <tr style=\"text-align: right;\">\n",
       "      <th></th>\n",
       "      <th>filename</th>\n",
       "      <th>ATTRIBUTE_Species</th>\n",
       "      <th>ATTRIBUTE_Genus</th>\n",
       "      <th>ATTRIBUTE_Family</th>\n",
       "      <th>ATTRIBUTE_Family</th>\n",
       "      <th>ATTRIBUTE_Sppart</th>\n",
       "      <th>Chemical_class_reported_in_species</th>\n",
       "      <th>Chemical_class_reported_in_genus</th>\n",
       "    </tr>\n",
       "  </thead>\n",
       "  <tbody>\n",
       "    <tr>\n",
       "      <th>0</th>\n",
       "      <td>LQ-01-61-01_pos.mzXML</td>\n",
       "      <td>Catha edulis</td>\n",
       "      <td>Catha</td>\n",
       "      <td>Celastraceae</td>\n",
       "      <td>Celastraceae</td>\n",
       "      <td>Catha edulis|Leaves</td>\n",
       "      <td>{Pyridine alkaloids, Aminoacids, Thujane monot...</td>\n",
       "      <td>{Pyridine alkaloids, Aminoacids, Thujane monot...</td>\n",
       "    </tr>\n",
       "    <tr>\n",
       "      <th>1</th>\n",
       "      <td>LQ-01-61-02_pos.mzXML</td>\n",
       "      <td>Catha edulis</td>\n",
       "      <td>Catha</td>\n",
       "      <td>Celastraceae</td>\n",
       "      <td>Celastraceae</td>\n",
       "      <td>Catha edulis|Stems</td>\n",
       "      <td>{Pyridine alkaloids, Aminoacids, Thujane monot...</td>\n",
       "      <td>{Pyridine alkaloids, Aminoacids, Thujane monot...</td>\n",
       "    </tr>\n",
       "  </tbody>\n",
       "</table>\n",
       "</div>"
      ],
      "text/plain": [
       "                filename ATTRIBUTE_Species ATTRIBUTE_Genus ATTRIBUTE_Family  \\\n",
       "0  LQ-01-61-01_pos.mzXML      Catha edulis           Catha     Celastraceae   \n",
       "1  LQ-01-61-02_pos.mzXML      Catha edulis           Catha     Celastraceae   \n",
       "\n",
       "  ATTRIBUTE_Family     ATTRIBUTE_Sppart  \\\n",
       "0     Celastraceae  Catha edulis|Leaves   \n",
       "1     Celastraceae   Catha edulis|Stems   \n",
       "\n",
       "                  Chemical_class_reported_in_species  \\\n",
       "0  {Pyridine alkaloids, Aminoacids, Thujane monot...   \n",
       "1  {Pyridine alkaloids, Aminoacids, Thujane monot...   \n",
       "\n",
       "                    Chemical_class_reported_in_genus  \n",
       "0  {Pyridine alkaloids, Aminoacids, Thujane monot...  \n",
       "1  {Pyridine alkaloids, Aminoacids, Thujane monot...  "
      ]
     },
     "execution_count": 16,
     "metadata": {},
     "output_type": "execute_result"
    }
   ],
   "source": [
    "reported_classes_df = search_reported_class(metadata_df)\n",
    "reported_classes_df.head(2)"
   ]
  },
  {
   "cell_type": "markdown",
   "metadata": {},
   "source": [
    "### CC. Computation of CC"
   ]
  },
  {
   "cell_type": "code",
   "execution_count": 17,
   "metadata": {},
   "outputs": [
    {
     "data": {
      "text/html": [
       "<div>\n",
       "<style scoped>\n",
       "    .dataframe tbody tr th:only-of-type {\n",
       "        vertical-align: middle;\n",
       "    }\n",
       "\n",
       "    .dataframe tbody tr th {\n",
       "        vertical-align: top;\n",
       "    }\n",
       "\n",
       "    .dataframe thead th {\n",
       "        text-align: right;\n",
       "    }\n",
       "</style>\n",
       "<table border=\"1\" class=\"dataframe\">\n",
       "  <thead>\n",
       "    <tr style=\"text-align: right;\">\n",
       "      <th></th>\n",
       "      <th>filename</th>\n",
       "      <th>ATTRIBUTE_Species</th>\n",
       "      <th>ATTRIBUTE_Genus</th>\n",
       "      <th>ATTRIBUTE_Family</th>\n",
       "      <th>ATTRIBUTE_Family</th>\n",
       "      <th>ATTRIBUTE_Sppart</th>\n",
       "      <th>Chemical_class_reported_in_species</th>\n",
       "      <th>Chemical_class_reported_in_genus</th>\n",
       "      <th>classe</th>\n",
       "      <th>New_in_species</th>\n",
       "      <th>New_in_genus</th>\n",
       "      <th>CC</th>\n",
       "    </tr>\n",
       "  </thead>\n",
       "  <tbody>\n",
       "    <tr>\n",
       "      <th>0</th>\n",
       "      <td>LQ-01-61-01_pos.mzXML</td>\n",
       "      <td>Catha edulis</td>\n",
       "      <td>Catha</td>\n",
       "      <td>Celastraceae</td>\n",
       "      <td>Celastraceae</td>\n",
       "      <td>Catha edulis|Leaves</td>\n",
       "      <td>{Pyridine alkaloids, Aminoacids, Thujane monot...</td>\n",
       "      <td>{Pyridine alkaloids, Aminoacids, Thujane monot...</td>\n",
       "      <td>{Pyridine alkaloids, Aminoacids, Piperidine al...</td>\n",
       "      <td>{Caryophyllane sesquiterpenoids, Polyether ion...</td>\n",
       "      <td>{Caryophyllane sesquiterpenoids, Polyether ion...</td>\n",
       "      <td>1</td>\n",
       "    </tr>\n",
       "    <tr>\n",
       "      <th>1</th>\n",
       "      <td>LQ-01-61-02_pos.mzXML</td>\n",
       "      <td>Catha edulis</td>\n",
       "      <td>Catha</td>\n",
       "      <td>Celastraceae</td>\n",
       "      <td>Celastraceae</td>\n",
       "      <td>Catha edulis|Stems</td>\n",
       "      <td>{Pyridine alkaloids, Aminoacids, Thujane monot...</td>\n",
       "      <td>{Pyridine alkaloids, Aminoacids, Thujane monot...</td>\n",
       "      <td>{Pyridine alkaloids, Cholane steroids, Labdane...</td>\n",
       "      <td>{Cholane steroids, Androstane steroids, Labdan...</td>\n",
       "      <td>{Cholane steroids, Androstane steroids, Labdan...</td>\n",
       "      <td>1</td>\n",
       "    </tr>\n",
       "  </tbody>\n",
       "</table>\n",
       "</div>"
      ],
      "text/plain": [
       "                filename ATTRIBUTE_Species ATTRIBUTE_Genus ATTRIBUTE_Family  \\\n",
       "0  LQ-01-61-01_pos.mzXML      Catha edulis           Catha     Celastraceae   \n",
       "1  LQ-01-61-02_pos.mzXML      Catha edulis           Catha     Celastraceae   \n",
       "\n",
       "  ATTRIBUTE_Family     ATTRIBUTE_Sppart  \\\n",
       "0     Celastraceae  Catha edulis|Leaves   \n",
       "1     Celastraceae   Catha edulis|Stems   \n",
       "\n",
       "                  Chemical_class_reported_in_species  \\\n",
       "0  {Pyridine alkaloids, Aminoacids, Thujane monot...   \n",
       "1  {Pyridine alkaloids, Aminoacids, Thujane monot...   \n",
       "\n",
       "                    Chemical_class_reported_in_genus  \\\n",
       "0  {Pyridine alkaloids, Aminoacids, Thujane monot...   \n",
       "1  {Pyridine alkaloids, Aminoacids, Thujane monot...   \n",
       "\n",
       "                                              classe  \\\n",
       "0  {Pyridine alkaloids, Aminoacids, Piperidine al...   \n",
       "1  {Pyridine alkaloids, Cholane steroids, Labdane...   \n",
       "\n",
       "                                      New_in_species  \\\n",
       "0  {Caryophyllane sesquiterpenoids, Polyether ion...   \n",
       "1  {Cholane steroids, Androstane steroids, Labdan...   \n",
       "\n",
       "                                        New_in_genus  CC  \n",
       "0  {Caryophyllane sesquiterpenoids, Polyether ion...   1  \n",
       "1  {Cholane steroids, Androstane steroids, Labdan...   1  "
      ]
     },
     "execution_count": 17,
     "metadata": {},
     "output_type": "execute_result"
    }
   ],
   "source": [
    "CC = class_component(reported_classes_df, sirus_classes_df)\n",
    "CC.head(2)"
   ]
  },
  {
   "cell_type": "markdown",
   "metadata": {},
   "source": [
    "# Priority rank Results"
   ]
  },
  {
   "cell_type": "code",
   "execution_count": 18,
   "metadata": {},
   "outputs": [],
   "source": [
    "PR =pd.merge(\n",
    "                left=FC,\n",
    "                right=LC[['filename', 'Reported_comp_Species', 'Reported_comp_Genus', 'LC', 'ATTRIBUTE_Family']], \n",
    "                how='left', \n",
    "                left_on='filename', \n",
    "                right_on='filename')\n",
    "PR =pd.merge(\n",
    "                    left=PR,\n",
    "                    right=SC[['filename', 'SC']], \n",
    "                    how='left', \n",
    "                    left_on='filename', \n",
    "                    right_on='filename')\n",
    "PR =pd.merge(\n",
    "                    left=PR,\n",
    "                    right=CC[['filename', 'New_in_species', 'New_in_genus', 'CC']], \n",
    "                    how='left', \n",
    "                    left_on='filename', \n",
    "                    right_on='filename')\n",
    "PR['CC'] = PR['CC'].fillna(0)"
   ]
  },
  {
   "cell_type": "code",
   "execution_count": 19,
   "metadata": {},
   "outputs": [
    {
     "data": {
      "text/html": [
       "<div>\n",
       "<style scoped>\n",
       "    .dataframe tbody tr th:only-of-type {\n",
       "        vertical-align: middle;\n",
       "    }\n",
       "\n",
       "    .dataframe tbody tr th {\n",
       "        vertical-align: top;\n",
       "    }\n",
       "\n",
       "    .dataframe thead th {\n",
       "        text-align: right;\n",
       "    }\n",
       "</style>\n",
       "<table border=\"1\" class=\"dataframe\">\n",
       "  <thead>\n",
       "    <tr style=\"text-align: right;\">\n",
       "      <th></th>\n",
       "      <th>filename</th>\n",
       "      <th>ATTRIBUTE_Species</th>\n",
       "      <th>ATTRIBUTE_Sppart</th>\n",
       "      <th>Sample_specificity</th>\n",
       "      <th>FC</th>\n",
       "      <th>Reported_comp_Species</th>\n",
       "      <th>Reported_comp_Genus</th>\n",
       "      <th>LC</th>\n",
       "      <th>ATTRIBUTE_Family</th>\n",
       "      <th>SC</th>\n",
       "      <th>New_in_species</th>\n",
       "      <th>New_in_genus</th>\n",
       "      <th>CC</th>\n",
       "      <th>PR</th>\n",
       "    </tr>\n",
       "  </thead>\n",
       "  <tbody>\n",
       "    <tr>\n",
       "      <th>7</th>\n",
       "      <td>LQ-01-61-37_pos.mzXML</td>\n",
       "      <td>Euonymus sanguineus</td>\n",
       "      <td>Euonymus sanguineus|Roots</td>\n",
       "      <td>0.838532</td>\n",
       "      <td>0.739450</td>\n",
       "      <td>1</td>\n",
       "      <td>515.0</td>\n",
       "      <td>1</td>\n",
       "      <td>Celastraceae</td>\n",
       "      <td>1.0</td>\n",
       "      <td>{Phenethylisoquinoline alkaloids, Aminoacids, ...</td>\n",
       "      <td>{Phenethylisoquinoline alkaloids, Aminoacids, ...</td>\n",
       "      <td>1.0</td>\n",
       "      <td>3.739450</td>\n",
       "    </tr>\n",
       "    <tr>\n",
       "      <th>15</th>\n",
       "      <td>LQ-01-61-07_pos.mzXML</td>\n",
       "      <td>Celastrus paniculatus</td>\n",
       "      <td>Celastrus paniculatus|Seeds</td>\n",
       "      <td>0.713450</td>\n",
       "      <td>0.670565</td>\n",
       "      <td>2</td>\n",
       "      <td>910.0</td>\n",
       "      <td>1</td>\n",
       "      <td>Celastraceae</td>\n",
       "      <td>1.0</td>\n",
       "      <td>{Polyamines, Diacylglycerols, Prenyl quinone m...</td>\n",
       "      <td>{Polyamines, Diacylglycerols, Prenyl quinone m...</td>\n",
       "      <td>1.0</td>\n",
       "      <td>3.670565</td>\n",
       "    </tr>\n",
       "    <tr>\n",
       "      <th>0</th>\n",
       "      <td>LQ-01-61-06_pos.mzXML</td>\n",
       "      <td>Celastrus orbiculatus</td>\n",
       "      <td>Celastrus orbiculatus|Roots</td>\n",
       "      <td>0.863281</td>\n",
       "      <td>0.824219</td>\n",
       "      <td>253</td>\n",
       "      <td>910.0</td>\n",
       "      <td>0</td>\n",
       "      <td>Celastraceae</td>\n",
       "      <td>1.0</td>\n",
       "      <td>{Aminoacids, Polyamines, Phenylalanine-derived...</td>\n",
       "      <td>{Aminoacids, Polyamines, Phenylalanine-derived...</td>\n",
       "      <td>1.0</td>\n",
       "      <td>2.824219</td>\n",
       "    </tr>\n",
       "    <tr>\n",
       "      <th>4</th>\n",
       "      <td>LQ-01-61-27_pos.mzXML</td>\n",
       "      <td>Euonymus fortunei</td>\n",
       "      <td>Euonymus fortunei|Aerial_parts</td>\n",
       "      <td>0.903226</td>\n",
       "      <td>0.790323</td>\n",
       "      <td>1</td>\n",
       "      <td>515.0</td>\n",
       "      <td>1</td>\n",
       "      <td>Celastraceae</td>\n",
       "      <td>0.0</td>\n",
       "      <td>{Flavanones, Phenylalanine-derived alkaloids, ...</td>\n",
       "      <td>{Phenylalanine-derived alkaloids, Piperidine a...</td>\n",
       "      <td>1.0</td>\n",
       "      <td>2.790323</td>\n",
       "    </tr>\n",
       "    <tr>\n",
       "      <th>6</th>\n",
       "      <td>LQ-01-61-23_pos.mzXML</td>\n",
       "      <td>Euonymus cochinchinensis</td>\n",
       "      <td>Euonymus cochinchinensis|Leaves</td>\n",
       "      <td>0.805031</td>\n",
       "      <td>0.764151</td>\n",
       "      <td>0</td>\n",
       "      <td>0.0</td>\n",
       "      <td>1</td>\n",
       "      <td>Celastraceae</td>\n",
       "      <td>1.0</td>\n",
       "      <td>NaN</td>\n",
       "      <td>NaN</td>\n",
       "      <td>0.0</td>\n",
       "      <td>2.764151</td>\n",
       "    </tr>\n",
       "  </tbody>\n",
       "</table>\n",
       "</div>"
      ],
      "text/plain": [
       "                 filename         ATTRIBUTE_Species  \\\n",
       "7   LQ-01-61-37_pos.mzXML       Euonymus sanguineus   \n",
       "15  LQ-01-61-07_pos.mzXML     Celastrus paniculatus   \n",
       "0   LQ-01-61-06_pos.mzXML     Celastrus orbiculatus   \n",
       "4   LQ-01-61-27_pos.mzXML         Euonymus fortunei   \n",
       "6   LQ-01-61-23_pos.mzXML  Euonymus cochinchinensis   \n",
       "\n",
       "                   ATTRIBUTE_Sppart  Sample_specificity        FC  \\\n",
       "7         Euonymus sanguineus|Roots            0.838532  0.739450   \n",
       "15      Celastrus paniculatus|Seeds            0.713450  0.670565   \n",
       "0       Celastrus orbiculatus|Roots            0.863281  0.824219   \n",
       "4    Euonymus fortunei|Aerial_parts            0.903226  0.790323   \n",
       "6   Euonymus cochinchinensis|Leaves            0.805031  0.764151   \n",
       "\n",
       "    Reported_comp_Species  Reported_comp_Genus  LC ATTRIBUTE_Family   SC  \\\n",
       "7                       1                515.0   1     Celastraceae  1.0   \n",
       "15                      2                910.0   1     Celastraceae  1.0   \n",
       "0                     253                910.0   0     Celastraceae  1.0   \n",
       "4                       1                515.0   1     Celastraceae  0.0   \n",
       "6                       0                  0.0   1     Celastraceae  1.0   \n",
       "\n",
       "                                       New_in_species  \\\n",
       "7   {Phenethylisoquinoline alkaloids, Aminoacids, ...   \n",
       "15  {Polyamines, Diacylglycerols, Prenyl quinone m...   \n",
       "0   {Aminoacids, Polyamines, Phenylalanine-derived...   \n",
       "4   {Flavanones, Phenylalanine-derived alkaloids, ...   \n",
       "6                                                 NaN   \n",
       "\n",
       "                                         New_in_genus   CC        PR  \n",
       "7   {Phenethylisoquinoline alkaloids, Aminoacids, ...  1.0  3.739450  \n",
       "15  {Polyamines, Diacylglycerols, Prenyl quinone m...  1.0  3.670565  \n",
       "0   {Aminoacids, Polyamines, Phenylalanine-derived...  1.0  2.824219  \n",
       "4   {Phenylalanine-derived alkaloids, Piperidine a...  1.0  2.790323  \n",
       "6                                                 NaN  0.0  2.764151  "
      ]
     },
     "execution_count": 19,
     "metadata": {},
     "output_type": "execute_result"
    }
   ],
   "source": [
    "#specify the weight to modulate each component \n",
    "w1 = 1\n",
    "w2 = 1\n",
    "w3 = 1\n",
    "w4 = 1\n",
    "\n",
    "PR['PR'] = w1*PR['FC'] + w2*PR['LC'] + w3*PR['SC'] + w4*PR['CC']\n",
    "PR = PR.sort_values(by=['PR'], ascending=False)\n",
    "PR.head()"
   ]
  },
  {
   "cell_type": "markdown",
   "metadata": {},
   "source": [
    "### Display results"
   ]
  },
  {
   "cell_type": "code",
   "execution_count": 21,
   "metadata": {},
   "outputs": [
    {
     "data": {
      "application/vnd.jupyter.widget-view+json": {
       "model_id": "72afc85749f54a088e43330ac2d8821a",
       "version_major": 2,
       "version_minor": 0
      },
      "text/plain": [
       "interactive(children=(LineUpWidget(value=[], description='selection', layout=Layout(align_self='stretch', heig…"
      ]
     },
     "metadata": {},
     "output_type": "display_data"
    }
   ],
   "source": [
    "#Show the results in an interactive way\n",
    "def selection_changed(selection):\n",
    "    return PR.iloc[selection]\n",
    "interact(selection_changed, selection=lineup_widget.LineUpWidget(PR));"
   ]
  },
  {
   "cell_type": "code",
   "execution_count": 22,
   "metadata": {},
   "outputs": [],
   "source": [
    "#Save it as .csv \n",
    "PR.to_csv('../results/INVENTA_results.tsv', sep='\\t')"
   ]
  },
  {
   "cell_type": "code",
   "execution_count": null,
   "metadata": {},
   "outputs": [],
   "source": []
  }
 ],
 "metadata": {
  "interpreter": {
   "hash": "2c38b6a57c2d4f85bcd8a646c69c70f453ebfd581092159d4a2b022d1b3585cd"
  },
  "kernelspec": {
   "display_name": "Python 3 (ipykernel)",
   "language": "python",
   "name": "python3"
  },
  "language_info": {
   "codemirror_mode": {
    "name": "ipython",
    "version": 3
   },
   "file_extension": ".py",
   "mimetype": "text/x-python",
   "name": "python",
   "nbconvert_exporter": "python",
   "pygments_lexer": "ipython3",
   "version": "3.9.7"
  }
 },
 "nbformat": 4,
 "nbformat_minor": 4
}
