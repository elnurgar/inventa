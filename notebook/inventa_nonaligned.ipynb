{
 "cells": [
  {
   "cell_type": "markdown",
   "metadata": {},
   "source": [
    "# Inventa: a computational tool to discover structural novelty in natural  extracts libraries\n"
   ]
  },
  {
   "cell_type": "code",
   "execution_count": 1,
   "metadata": {},
   "outputs": [
    {
     "name": "stdout",
     "output_type": "stream",
     "text": [
      "Enabling notebook extension lineup_widget/extension...\n",
      "      - Validating: \u001b[32mOK\u001b[0m\n"
     ]
    }
   ],
   "source": [
    "from __future__ import print_function\n",
    "from IPython.core.display import HTML\n",
    "HTML(\"<script>Jupyter.notebook.kernel.restart()</script>\")\n",
    "import numpy as np\n",
    "import pandas as pd\n",
    "import os\n",
    "from tqdm import tqdm\n",
    "import sys \n",
    "import lineup_widget\n",
    "from ipywidgets import *\n",
    "!jupyter nbextension enable --py --sys-prefix lineup_widget\n",
    "\n",
    "sys.path.append('../src')\n",
    "sys.path.append('../gnps_postprocessing/src') \n",
    "\n",
    "from import_data import*\n",
    "from process_data import *\n",
    "from AC import *\n",
    "from LC import *\n",
    "from SC import *\n",
    "from CC import *\n",
    "from plot import *"
   ]
  },
  {
   "cell_type": "markdown",
   "metadata": {},
   "source": [
    "# Paths and parameters to define"
   ]
  },
  {
   "cell_type": "code",
   "execution_count": 2,
   "metadata": {},
   "outputs": [],
   "source": [
    "# Suffixes necessary for the job: \n",
    "\n",
    "repository_path= '/mnt/c/Users/quirosgu/Desktop/underexplored_collection/pos/'#'/mnt/c/Users/quirosgu/Desktop/Indiv_PF1600/'  # The path were you want your folder to be placed\n",
    "#quant_table_suffix ='_quant_pos.csv'\n",
    "spectra_suffix= '_features_ms2_pos.mgf'\n",
    "#metadata_sample_suffix ='_metadata.tsv'\n",
    "#isdb_sample_suffix = '_isdb_matched_pos_repond.tsv'\n",
    "#sirius_sample_suffix = 'compound_identifications_adducts.tsv'\n",
    "canopus_sample_suffix = 'npc_summary.csv' #'_summary_adducts.tsv' #'canopus_summary.tsv'\n",
    "#memo_sample_suffix= '_memo_pos.csv'\n",
    "file_extention = '.mzML'\n",
    "ionization_mode = 'pos'\n",
    "\n",
    "# metadata headers\n",
    "\n",
    "sampletype_header = 'sample_type'\n",
    "species_column = 'organism_species'\n",
    "genus_column = 'organism_genus'\n",
    "family_column = 'organism_family'\n",
    "filename_header = 'sample_id'#'ms_filename'\n",
    "organe_column = 'organism_organ'\n",
    "\n",
    "\n",
    "#quantitative table\n",
    "data_process_origin = 'MZMine2' #'MZMine2'\n",
    "use_ion_identity= False  #False\n",
    "\n",
    "#Annotation component \n",
    "\n",
    "intensity_filter  = True\n",
    "quantile_filter = True\n",
    "\n",
    "min_threshold = 0.002\n",
    "quantile_threshold = 0.75\n",
    "\n",
    "\n",
    "## cut-offs: \n",
    "min_score_final = 0.3             #cut-off filter for considering an isdb annotation valable. You must be extremenly carefull with this parameter, '0.0' as default.\n",
    "min_ZodiacScore = 0.9             #cut-off filter for considering a sirius annotation valable. It is used in combination with min_ConfidenceScore.\n",
    "min_ConfidenceScore= 0.05         #cut-off filter for considering a sirius annotation valable. '0.0' as default.\n",
    "\n",
    "#Literature_component\n",
    "\n",
    "LC_component = True               # LC will be calculated\n",
    "\n",
    "max_comp_reported_sp = 10          # max number of compounds reported at species level, more than this value, the plant is considered less interesting\n",
    "max_comp_reported_g = 50         # max number of compounds reported at genus level,more than this value, the plant is considered less interesting\n",
    "max_comp_reported_f = 500           # max number of compounds reported at genus level,more than this value, the plant is considered less interesting\n",
    "\n",
    "#weight for each taxonomic level \n",
    "ws = 1\n",
    "wg = 1\n",
    "wf = 1 \n",
    "\n",
    "#Similarity_component\n",
    "\n",
    "SC_component = True                # SC will be calculated\n",
    "\n",
    "#Class_component\n",
    "\n",
    "CC_component =  True              # CC will be calculated\n",
    "min_class_confidence = 0.8       #cut-off filter for considering a sirius class valable. It is used in combination with min_recurrence.\n",
    "min_recurrence = 5              # minimum recurrence of a chemical class to consider it acceptable\n",
    "\n",
    "#specify the weight to modulate each component \n",
    "w1 = 1           # 1 means the value itself is taken into account. A 0.5 means onle half of the calculated value is taken into account\n",
    "w2 = 1\n",
    "w3 = 1\n",
    "w4 = 1\n"
   ]
  },
  {
   "cell_type": "markdown",
   "metadata": {},
   "source": [
    "### Load Metadata from individual files"
   ]
  },
  {
   "cell_type": "code",
   "execution_count": 3,
   "metadata": {},
   "outputs": [
    {
     "name": "stderr",
     "output_type": "stream",
     "text": [
      "  0%|          | 0/240 [00:00<?, ?it/s]\r  5%|▌         | 12/240 [00:00<00:02, 83.74it/s]\r 18%|█▊        | 44/240 [00:00<00:00, 200.12it/s]\r 30%|██▉       | 71/240 [00:00<00:00, 216.76it/s]\r 41%|████      | 98/240 [00:00<00:00, 235.20it/s]\r 53%|█████▎    | 128/240 [00:00<00:00, 256.09it/s]\r 67%|██████▋   | 160/240 [00:00<00:00, 274.19it/s]\r 80%|████████  | 192/240 [00:00<00:00, 286.81it/s]\r 93%|█████████▎| 224/240 [00:00<00:00, 296.30it/s]\r100%|██████████| 240/240 [00:00<00:00, 261.80it/s]\n"
     ]
    },
    {
     "data": {
      "text/html": [
       "<div>\n",
       "<style scoped>\n",
       "    .dataframe tbody tr th:only-of-type {\n",
       "        vertical-align: middle;\n",
       "    }\n",
       "\n",
       "    .dataframe tbody tr th {\n",
       "        vertical-align: top;\n",
       "    }\n",
       "\n",
       "    .dataframe thead th {\n",
       "        text-align: right;\n",
       "    }\n",
       "</style>\n",
       "<table border=\"1\" class=\"dataframe\">\n",
       "  <thead>\n",
       "    <tr style=\"text-align: right;\">\n",
       "      <th></th>\n",
       "      <th>sample_filename_pos</th>\n",
       "      <th>sample_id</th>\n",
       "      <th>sample_type</th>\n",
       "      <th>organism_family</th>\n",
       "      <th>organism_genus</th>\n",
       "      <th>organism_species</th>\n",
       "      <th>organism_organ</th>\n",
       "    </tr>\n",
       "  </thead>\n",
       "  <tbody>\n",
       "    <tr>\n",
       "      <th>0</th>\n",
       "      <td>Blank-01_pos.mzML</td>\n",
       "      <td>Blank-01</td>\n",
       "      <td>blank</td>\n",
       "      <td>NaN</td>\n",
       "      <td>NaN</td>\n",
       "      <td>NaN</td>\n",
       "      <td>NaN</td>\n",
       "    </tr>\n",
       "    <tr>\n",
       "      <th>0</th>\n",
       "      <td>Blank-02_pos.mzML</td>\n",
       "      <td>Blank-02</td>\n",
       "      <td>blank</td>\n",
       "      <td>NaN</td>\n",
       "      <td>NaN</td>\n",
       "      <td>NaN</td>\n",
       "      <td>NaN</td>\n",
       "    </tr>\n",
       "    <tr>\n",
       "      <th>0</th>\n",
       "      <td>Blank-03_pos.mzML</td>\n",
       "      <td>Blank-03</td>\n",
       "      <td>blank</td>\n",
       "      <td>NaN</td>\n",
       "      <td>NaN</td>\n",
       "      <td>NaN</td>\n",
       "      <td>NaN</td>\n",
       "    </tr>\n",
       "    <tr>\n",
       "      <th>0</th>\n",
       "      <td>Blank-04_pos.mzML</td>\n",
       "      <td>Blank-04</td>\n",
       "      <td>blank</td>\n",
       "      <td>NaN</td>\n",
       "      <td>NaN</td>\n",
       "      <td>NaN</td>\n",
       "      <td>NaN</td>\n",
       "    </tr>\n",
       "    <tr>\n",
       "      <th>0</th>\n",
       "      <td>Blank-05_pos.mzML</td>\n",
       "      <td>Blank-05</td>\n",
       "      <td>blank</td>\n",
       "      <td>NaN</td>\n",
       "      <td>NaN</td>\n",
       "      <td>NaN</td>\n",
       "      <td>NaN</td>\n",
       "    </tr>\n",
       "  </tbody>\n",
       "</table>\n",
       "</div>"
      ],
      "text/plain": [
       "  sample_filename_pos sample_id sample_type organism_family organism_genus  \\\n",
       "0   Blank-01_pos.mzML  Blank-01       blank             NaN            NaN   \n",
       "0   Blank-02_pos.mzML  Blank-02       blank             NaN            NaN   \n",
       "0   Blank-03_pos.mzML  Blank-03       blank             NaN            NaN   \n",
       "0   Blank-04_pos.mzML  Blank-04       blank             NaN            NaN   \n",
       "0   Blank-05_pos.mzML  Blank-05       blank             NaN            NaN   \n",
       "\n",
       "  organism_species organism_organ  \n",
       "0              NaN            NaN  \n",
       "0              NaN            NaN  \n",
       "0              NaN            NaN  \n",
       "0              NaN            NaN  \n",
       "0              NaN            NaN  "
      ]
     },
     "execution_count": 3,
     "metadata": {},
     "output_type": "execute_result"
    }
   ],
   "source": [
    "metadata_df = get_metadata_ind_files(repository_path)\n",
    "metadata_df.head()"
   ]
  },
  {
   "cell_type": "code",
   "execution_count": 4,
   "metadata": {},
   "outputs": [
    {
     "data": {
      "text/html": [
       "<div>\n",
       "<style scoped>\n",
       "    .dataframe tbody tr th:only-of-type {\n",
       "        vertical-align: middle;\n",
       "    }\n",
       "\n",
       "    .dataframe tbody tr th {\n",
       "        vertical-align: top;\n",
       "    }\n",
       "\n",
       "    .dataframe thead th {\n",
       "        text-align: right;\n",
       "    }\n",
       "</style>\n",
       "<table border=\"1\" class=\"dataframe\">\n",
       "  <thead>\n",
       "    <tr style=\"text-align: right;\">\n",
       "      <th></th>\n",
       "      <th>sample_filename_pos</th>\n",
       "      <th>sample_id</th>\n",
       "      <th>sample_type</th>\n",
       "      <th>organism_family</th>\n",
       "      <th>organism_genus</th>\n",
       "      <th>organism_species</th>\n",
       "      <th>organism_organ</th>\n",
       "      <th>organism_sppart</th>\n",
       "    </tr>\n",
       "  </thead>\n",
       "  <tbody>\n",
       "    <tr>\n",
       "      <th>0</th>\n",
       "      <td>Blank-01_pos.mzML</td>\n",
       "      <td>Blank-01</td>\n",
       "      <td>blank</td>\n",
       "      <td>NaN</td>\n",
       "      <td>NaN</td>\n",
       "      <td>NaN</td>\n",
       "      <td>NaN</td>\n",
       "      <td>NaN</td>\n",
       "    </tr>\n",
       "    <tr>\n",
       "      <th>0</th>\n",
       "      <td>Blank-02_pos.mzML</td>\n",
       "      <td>Blank-02</td>\n",
       "      <td>blank</td>\n",
       "      <td>NaN</td>\n",
       "      <td>NaN</td>\n",
       "      <td>NaN</td>\n",
       "      <td>NaN</td>\n",
       "      <td>NaN</td>\n",
       "    </tr>\n",
       "    <tr>\n",
       "      <th>0</th>\n",
       "      <td>Blank-03_pos.mzML</td>\n",
       "      <td>Blank-03</td>\n",
       "      <td>blank</td>\n",
       "      <td>NaN</td>\n",
       "      <td>NaN</td>\n",
       "      <td>NaN</td>\n",
       "      <td>NaN</td>\n",
       "      <td>NaN</td>\n",
       "    </tr>\n",
       "    <tr>\n",
       "      <th>0</th>\n",
       "      <td>Blank-04_pos.mzML</td>\n",
       "      <td>Blank-04</td>\n",
       "      <td>blank</td>\n",
       "      <td>NaN</td>\n",
       "      <td>NaN</td>\n",
       "      <td>NaN</td>\n",
       "      <td>NaN</td>\n",
       "      <td>NaN</td>\n",
       "    </tr>\n",
       "    <tr>\n",
       "      <th>0</th>\n",
       "      <td>Blank-05_pos.mzML</td>\n",
       "      <td>Blank-05</td>\n",
       "      <td>blank</td>\n",
       "      <td>NaN</td>\n",
       "      <td>NaN</td>\n",
       "      <td>NaN</td>\n",
       "      <td>NaN</td>\n",
       "      <td>NaN</td>\n",
       "    </tr>\n",
       "  </tbody>\n",
       "</table>\n",
       "</div>"
      ],
      "text/plain": [
       "  sample_filename_pos sample_id sample_type organism_family organism_genus  \\\n",
       "0   Blank-01_pos.mzML  Blank-01       blank             NaN            NaN   \n",
       "0   Blank-02_pos.mzML  Blank-02       blank             NaN            NaN   \n",
       "0   Blank-03_pos.mzML  Blank-03       blank             NaN            NaN   \n",
       "0   Blank-04_pos.mzML  Blank-04       blank             NaN            NaN   \n",
       "0   Blank-05_pos.mzML  Blank-05       blank             NaN            NaN   \n",
       "\n",
       "  organism_species organism_organ organism_sppart  \n",
       "0              NaN            NaN             NaN  \n",
       "0              NaN            NaN             NaN  \n",
       "0              NaN            NaN             NaN  \n",
       "0              NaN            NaN             NaN  \n",
       "0              NaN            NaN             NaN  "
      ]
     },
     "execution_count": 4,
     "metadata": {},
     "output_type": "execute_result"
    }
   ],
   "source": [
    "#if you need to create an unique identifier column like Species|part, use as model the followin line. IF the colum is PRESENT, then don't run it.\n",
    "metadata_df['organism_sppart'] = metadata_df[species_column]+ \"|\" + metadata_df[organe_column].map(str)\n",
    "metadata_df.head(5)"
   ]
  },
  {
   "cell_type": "code",
   "execution_count": 5,
   "metadata": {},
   "outputs": [],
   "source": [
    "sppart_column = 'organism_sppart'\n",
    "col_id_unique = filename_header #'organism_sppart'  #column containing an unique identifier for each sample, like Species_plantpart, Species_solvent. It could be the filename"
   ]
  },
  {
   "cell_type": "markdown",
   "metadata": {},
   "source": [
    "# Start calculation the diferent components"
   ]
  },
  {
   "cell_type": "markdown",
   "metadata": {},
   "source": [
    "# Annotation Component (FC)"
   ]
  },
  {
   "cell_type": "markdown",
   "metadata": {},
   "source": [
    "#### AC.1. Process, clean and merge the quant tables, sirius and isdb annotations"
   ]
  },
  {
   "cell_type": "code",
   "execution_count": 6,
   "metadata": {},
   "outputs": [
    {
     "name": "stderr",
     "output_type": "stream",
     "text": [
      "  0%|          | 0/240 [00:00<?, ?it/s]\r 20%|█▉        | 47/240 [00:00<00:00, 462.69it/s]\r 39%|███▉      | 94/240 [00:02<00:04, 34.65it/s] \r 48%|████▊     | 115/240 [00:03<00:04, 26.16it/s]\r 53%|█████▎    | 127/240 [00:04<00:04, 23.98it/s]\r 56%|█████▋    | 135/240 [00:04<00:04, 22.77it/s]\r 59%|█████▉    | 141/240 [00:05<00:04, 21.88it/s]\r 61%|██████    | 146/240 [00:05<00:04, 20.32it/s]\r 62%|██████▎   | 150/240 [00:05<00:04, 19.04it/s]\r 64%|██████▍   | 153/240 [00:05<00:04, 18.58it/s]\r 65%|██████▌   | 156/240 [00:06<00:04, 18.36it/s]\r 66%|██████▋   | 159/240 [00:06<00:04, 18.38it/s]\r 68%|██████▊   | 162/240 [00:06<00:04, 18.12it/s]\r 68%|██████▊   | 164/240 [00:06<00:04, 17.89it/s]\r 69%|██████▉   | 166/240 [00:06<00:04, 17.75it/s]\r 70%|███████   | 169/240 [00:06<00:03, 18.28it/s]\r 72%|███████▏  | 172/240 [00:07<00:03, 18.94it/s]\r 73%|███████▎  | 175/240 [00:07<00:03, 19.29it/s]\r 74%|███████▍  | 177/240 [00:07<00:03, 19.10it/s]\r 75%|███████▍  | 179/240 [00:07<00:03, 17.85it/s]\r 75%|███████▌  | 181/240 [00:07<00:03, 17.69it/s]\r 77%|███████▋  | 184/240 [00:07<00:03, 17.64it/s]\r 78%|███████▊  | 186/240 [00:07<00:02, 18.02it/s]\r 79%|███████▉  | 189/240 [00:07<00:02, 18.94it/s]\r 80%|███████▉  | 191/240 [00:08<00:02, 18.70it/s]\r 80%|████████  | 193/240 [00:08<00:02, 18.79it/s]\r 82%|████████▏ | 196/240 [00:08<00:02, 19.05it/s]\r 82%|████████▎ | 198/240 [00:08<00:02, 18.96it/s]\r 83%|████████▎ | 200/240 [00:08<00:02, 19.11it/s]\r 84%|████████▍ | 202/240 [00:08<00:02, 18.22it/s]\r 85%|████████▌ | 204/240 [00:08<00:01, 18.33it/s]\r 86%|████████▌ | 206/240 [00:08<00:01, 17.79it/s]\r 87%|████████▋ | 209/240 [00:09<00:01, 19.51it/s]\r 88%|████████▊ | 211/240 [00:09<00:01, 18.04it/s]\r 89%|████████▉ | 213/240 [00:09<00:01, 17.00it/s]\r 90%|████████▉ | 215/240 [00:09<00:01, 16.98it/s]\r 90%|█████████ | 217/240 [00:09<00:01, 17.48it/s]\r 91%|█████████▏| 219/240 [00:09<00:01, 17.67it/s]\r 92%|█████████▏| 221/240 [00:09<00:01, 17.77it/s]\r 93%|█████████▎| 223/240 [00:09<00:00, 17.51it/s]\r 94%|█████████▍| 225/240 [00:09<00:00, 17.00it/s]\r 95%|█████████▍| 227/240 [00:10<00:00, 17.44it/s]\r 95%|█████████▌| 229/240 [00:10<00:00, 16.76it/s]\r 96%|█████████▋| 231/240 [00:10<00:00, 15.90it/s]\r 97%|█████████▋| 233/240 [00:10<00:00, 16.42it/s]\r 98%|█████████▊| 235/240 [00:10<00:00, 16.64it/s]\r 99%|█████████▉| 237/240 [00:10<00:00, 16.68it/s]\r100%|██████████| 240/240 [00:10<00:00, 22.23it/s]"
     ]
    },
    {
     "name": "stdout",
     "output_type": "stream",
     "text": [
      "Result are in : /mnt/c/Users/quirosgu/Desktop/underexplored_collection/pos/results/V116331_pos_quant_annotations.tsv\n"
     ]
    },
    {
     "name": "stderr",
     "output_type": "stream",
     "text": [
      "\n"
     ]
    }
   ],
   "source": [
    "ind_quant_table_full(repository_path, ionization_mode, data_process_origin, file_extention, use_ion_identity, min_score_final, min_ConfidenceScore, min_ZodiacScore)"
   ]
  },
  {
   "cell_type": "markdown",
   "metadata": {},
   "source": [
    "#### AC.2. Calculate the annotation rate of each sample"
   ]
  },
  {
   "cell_type": "code",
   "execution_count": 7,
   "metadata": {},
   "outputs": [
    {
     "name": "stderr",
     "output_type": "stream",
     "text": [
      "  0%|          | 0/240 [00:00<?, ?it/s]\r 28%|██▊       | 67/240 [00:00<00:00, 641.69it/s]\r 55%|█████▌    | 132/240 [00:00<00:00, 175.26it/s]\r 69%|██████▉   | 166/240 [00:00<00:00, 146.02it/s]\r 79%|███████▉  | 189/240 [00:01<00:00, 130.38it/s]\r 86%|████████▋ | 207/240 [00:01<00:00, 124.86it/s]\r 93%|█████████▎| 223/240 [00:01<00:00, 121.19it/s]\r 99%|█████████▉| 237/240 [00:01<00:00, 115.91it/s]\r100%|██████████| 240/240 [00:01<00:00, 140.51it/s]\n"
     ]
    },
    {
     "data": {
      "text/html": [
       "<div>\n",
       "<style scoped>\n",
       "    .dataframe tbody tr th:only-of-type {\n",
       "        vertical-align: middle;\n",
       "    }\n",
       "\n",
       "    .dataframe tbody tr th {\n",
       "        vertical-align: top;\n",
       "    }\n",
       "\n",
       "    .dataframe thead th {\n",
       "        text-align: right;\n",
       "    }\n",
       "</style>\n",
       "<table border=\"1\" class=\"dataframe\">\n",
       "  <thead>\n",
       "    <tr style=\"text-align: right;\">\n",
       "      <th></th>\n",
       "      <th>sample_id</th>\n",
       "      <th>organism_species</th>\n",
       "      <th>organism_genus</th>\n",
       "      <th>organism_family</th>\n",
       "      <th>organism_sppart</th>\n",
       "      <th>initial_features</th>\n",
       "      <th>features_after_filtering</th>\n",
       "      <th>Annot_features_after_filtering</th>\n",
       "      <th>AC</th>\n",
       "    </tr>\n",
       "  </thead>\n",
       "  <tbody>\n",
       "    <tr>\n",
       "      <th>0</th>\n",
       "      <td>V100448</td>\n",
       "      <td>Manotes expansa</td>\n",
       "      <td>Manotes</td>\n",
       "      <td>Connaraceae</td>\n",
       "      <td>Manotes expansa|fruits</td>\n",
       "      <td>348</td>\n",
       "      <td>66</td>\n",
       "      <td>60</td>\n",
       "      <td>0.09</td>\n",
       "    </tr>\n",
       "    <tr>\n",
       "      <th>1</th>\n",
       "      <td>V100921</td>\n",
       "      <td>Manotes griffoniana</td>\n",
       "      <td>Manotes</td>\n",
       "      <td>Connaraceae</td>\n",
       "      <td>Manotes griffoniana|leaves</td>\n",
       "      <td>404</td>\n",
       "      <td>78</td>\n",
       "      <td>75</td>\n",
       "      <td>0.04</td>\n",
       "    </tr>\n",
       "    <tr>\n",
       "      <th>2</th>\n",
       "      <td>V100958</td>\n",
       "      <td>Calyptrotheca taitense</td>\n",
       "      <td>Calyptrotheca</td>\n",
       "      <td>Didiereaceae</td>\n",
       "      <td>Calyptrotheca taitense|roots</td>\n",
       "      <td>589</td>\n",
       "      <td>69</td>\n",
       "      <td>63</td>\n",
       "      <td>0.09</td>\n",
       "    </tr>\n",
       "    <tr>\n",
       "      <th>3</th>\n",
       "      <td>V101033</td>\n",
       "      <td>Calyptrotheca taitense</td>\n",
       "      <td>Calyptrotheca</td>\n",
       "      <td>Didiereaceae</td>\n",
       "      <td>Calyptrotheca taitense|stems</td>\n",
       "      <td>627</td>\n",
       "      <td>76</td>\n",
       "      <td>74</td>\n",
       "      <td>0.03</td>\n",
       "    </tr>\n",
       "    <tr>\n",
       "      <th>4</th>\n",
       "      <td>V101063</td>\n",
       "      <td>Odontosoria chusana</td>\n",
       "      <td>Odontosoria</td>\n",
       "      <td>Lindsaeaceae</td>\n",
       "      <td>Odontosoria chusana|multiple</td>\n",
       "      <td>314</td>\n",
       "      <td>93</td>\n",
       "      <td>82</td>\n",
       "      <td>0.12</td>\n",
       "    </tr>\n",
       "  </tbody>\n",
       "</table>\n",
       "</div>"
      ],
      "text/plain": [
       "  sample_id        organism_species organism_genus organism_family  \\\n",
       "0   V100448         Manotes expansa        Manotes     Connaraceae   \n",
       "1   V100921     Manotes griffoniana        Manotes     Connaraceae   \n",
       "2   V100958  Calyptrotheca taitense  Calyptrotheca    Didiereaceae   \n",
       "3   V101033  Calyptrotheca taitense  Calyptrotheca    Didiereaceae   \n",
       "4   V101063     Odontosoria chusana    Odontosoria    Lindsaeaceae   \n",
       "\n",
       "                organism_sppart  initial_features  features_after_filtering  \\\n",
       "0        Manotes expansa|fruits               348                        66   \n",
       "1    Manotes griffoniana|leaves               404                        78   \n",
       "2  Calyptrotheca taitense|roots               589                        69   \n",
       "3  Calyptrotheca taitense|stems               627                        76   \n",
       "4  Odontosoria chusana|multiple               314                        93   \n",
       "\n",
       "   Annot_features_after_filtering    AC  \n",
       "0                              60  0.09  \n",
       "1                              75  0.04  \n",
       "2                              63  0.09  \n",
       "3                              74  0.03  \n",
       "4                              82  0.12  "
      ]
     },
     "execution_count": 7,
     "metadata": {},
     "output_type": "execute_result"
    }
   ],
   "source": [
    "AC = annotation_component(repository_path, ionization_mode, file_extention, intensity_filter, quantile_filter, min_threshold, quantile_threshold, filename_header, metadata_df, species_column, genus_column, family_column, sppart_column)\n",
    "AC.head()"
   ]
  },
  {
   "cell_type": "markdown",
   "metadata": {},
   "source": [
    "# Literature Component (LC)\n"
   ]
  },
  {
   "cell_type": "markdown",
   "metadata": {},
   "source": [
    "#### LC.1. LC computation"
   ]
  },
  {
   "cell_type": "code",
   "execution_count": 8,
   "metadata": {},
   "outputs": [
    {
     "data": {
      "text/html": [
       "<div>\n",
       "<style scoped>\n",
       "    .dataframe tbody tr th:only-of-type {\n",
       "        vertical-align: middle;\n",
       "    }\n",
       "\n",
       "    .dataframe tbody tr th {\n",
       "        vertical-align: top;\n",
       "    }\n",
       "\n",
       "    .dataframe thead th {\n",
       "        text-align: right;\n",
       "    }\n",
       "</style>\n",
       "<table border=\"1\" class=\"dataframe\">\n",
       "  <thead>\n",
       "    <tr style=\"text-align: right;\">\n",
       "      <th></th>\n",
       "      <th>sample_id</th>\n",
       "      <th>organism_family</th>\n",
       "      <th>organism_genus</th>\n",
       "      <th>organism_species</th>\n",
       "      <th>Reported_comp_Species</th>\n",
       "      <th>Reported_comp_Genus</th>\n",
       "      <th>Reported_comp_Family</th>\n",
       "      <th>LC</th>\n",
       "    </tr>\n",
       "  </thead>\n",
       "  <tbody>\n",
       "    <tr>\n",
       "      <th>0</th>\n",
       "      <td>V100448</td>\n",
       "      <td>Connaraceae</td>\n",
       "      <td>Manotes</td>\n",
       "      <td>Manotes expansa</td>\n",
       "      <td>0.0</td>\n",
       "      <td>0.0</td>\n",
       "      <td>25.0</td>\n",
       "      <td>1.0</td>\n",
       "    </tr>\n",
       "    <tr>\n",
       "      <th>1</th>\n",
       "      <td>V100921</td>\n",
       "      <td>Connaraceae</td>\n",
       "      <td>Manotes</td>\n",
       "      <td>Manotes griffoniana</td>\n",
       "      <td>0.0</td>\n",
       "      <td>0.0</td>\n",
       "      <td>25.0</td>\n",
       "      <td>1.0</td>\n",
       "    </tr>\n",
       "    <tr>\n",
       "      <th>2</th>\n",
       "      <td>V100958</td>\n",
       "      <td>Didiereaceae</td>\n",
       "      <td>Calyptrotheca</td>\n",
       "      <td>Calyptrotheca taitense</td>\n",
       "      <td>0.0</td>\n",
       "      <td>0.0</td>\n",
       "      <td>25.0</td>\n",
       "      <td>1.0</td>\n",
       "    </tr>\n",
       "    <tr>\n",
       "      <th>3</th>\n",
       "      <td>V101033</td>\n",
       "      <td>Didiereaceae</td>\n",
       "      <td>Calyptrotheca</td>\n",
       "      <td>Calyptrotheca taitense</td>\n",
       "      <td>0.0</td>\n",
       "      <td>0.0</td>\n",
       "      <td>25.0</td>\n",
       "      <td>1.0</td>\n",
       "    </tr>\n",
       "    <tr>\n",
       "      <th>4</th>\n",
       "      <td>V101063</td>\n",
       "      <td>Lindsaeaceae</td>\n",
       "      <td>Odontosoria</td>\n",
       "      <td>Odontosoria chusana</td>\n",
       "      <td>0.0</td>\n",
       "      <td>4.0</td>\n",
       "      <td>8.0</td>\n",
       "      <td>1.0</td>\n",
       "    </tr>\n",
       "  </tbody>\n",
       "</table>\n",
       "</div>"
      ],
      "text/plain": [
       "  sample_id organism_family organism_genus        organism_species  \\\n",
       "0   V100448     Connaraceae        Manotes         Manotes expansa   \n",
       "1   V100921     Connaraceae        Manotes     Manotes griffoniana   \n",
       "2   V100958    Didiereaceae  Calyptrotheca  Calyptrotheca taitense   \n",
       "3   V101033    Didiereaceae  Calyptrotheca  Calyptrotheca taitense   \n",
       "4   V101063    Lindsaeaceae    Odontosoria     Odontosoria chusana   \n",
       "\n",
       "   Reported_comp_Species  Reported_comp_Genus  Reported_comp_Family   LC  \n",
       "0                    0.0                  0.0                  25.0  1.0  \n",
       "1                    0.0                  0.0                  25.0  1.0  \n",
       "2                    0.0                  0.0                  25.0  1.0  \n",
       "3                    0.0                  0.0                  25.0  1.0  \n",
       "4                    0.0                  4.0                   8.0  1.0  "
      ]
     },
     "execution_count": 8,
     "metadata": {},
     "output_type": "execute_result"
    }
   ],
   "source": [
    "LC = literature_component_ind(LC_component, repository_path, metadata_df, filename_header, species_column, genus_column, family_column, max_comp_reported_sp, max_comp_reported_g, max_comp_reported_f, ws, wg, wf)\n",
    "LC.head()"
   ]
  },
  {
   "cell_type": "markdown",
   "metadata": {},
   "source": [
    "# Class component (CC)"
   ]
  },
  {
   "cell_type": "code",
   "execution_count": 9,
   "metadata": {},
   "outputs": [
    {
     "name": "stderr",
     "output_type": "stream",
     "text": [
      "  0%|          | 0/240 [00:00<?, ?it/s]\r 26%|██▋       | 63/240 [00:00<00:00, 581.04it/s]\r 51%|█████     | 122/240 [00:01<00:01, 95.27it/s]\r 62%|██████▎   | 150/240 [00:01<00:01, 80.47it/s]\r 70%|███████   | 168/240 [00:01<00:00, 74.70it/s]\r 75%|███████▌  | 181/240 [00:02<00:00, 73.01it/s]\r 80%|████████  | 192/240 [00:02<00:00, 72.34it/s]\r 84%|████████▍ | 202/240 [00:02<00:00, 71.15it/s]\r 88%|████████▊ | 211/240 [00:02<00:00, 70.08it/s]\r 91%|█████████▏| 219/240 [00:02<00:00, 69.09it/s]\r 95%|█████████▍| 227/240 [00:02<00:00, 68.28it/s]\r 98%|█████████▊| 235/240 [00:02<00:00, 65.36it/s]\r100%|██████████| 240/240 [00:03<00:00, 79.61it/s]\n"
     ]
    },
    {
     "data": {
      "text/html": [
       "<div>\n",
       "<style scoped>\n",
       "    .dataframe tbody tr th:only-of-type {\n",
       "        vertical-align: middle;\n",
       "    }\n",
       "\n",
       "    .dataframe tbody tr th {\n",
       "        vertical-align: top;\n",
       "    }\n",
       "\n",
       "    .dataframe thead th {\n",
       "        text-align: right;\n",
       "    }\n",
       "</style>\n",
       "<table border=\"1\" class=\"dataframe\">\n",
       "  <thead>\n",
       "    <tr style=\"text-align: right;\">\n",
       "      <th></th>\n",
       "      <th>sample_id</th>\n",
       "      <th>NPC#class</th>\n",
       "      <th>organism_species</th>\n",
       "      <th>organism_genus</th>\n",
       "      <th>organism_family</th>\n",
       "      <th>Chemical_class_reported_in_species</th>\n",
       "      <th>Chemical_class_reported_in_genus</th>\n",
       "      <th>New_CC_in_sp</th>\n",
       "      <th>New_CC_in_genus</th>\n",
       "      <th>CCs</th>\n",
       "      <th>CCg</th>\n",
       "      <th>CC</th>\n",
       "    </tr>\n",
       "  </thead>\n",
       "  <tbody>\n",
       "    <tr>\n",
       "      <th>0</th>\n",
       "      <td>V100448</td>\n",
       "      <td>{Carotenoids (C40, β-Ψ), Flavanones, Dihydrofl...</td>\n",
       "      <td>Manotes expansa</td>\n",
       "      <td>Manotes</td>\n",
       "      <td>Connaraceae</td>\n",
       "      <td>nothing in DB</td>\n",
       "      <td>nothing in DB</td>\n",
       "      <td>nothing in DB</td>\n",
       "      <td>nothing in DB</td>\n",
       "      <td>0.0</td>\n",
       "      <td>0.0</td>\n",
       "      <td>1.0</td>\n",
       "    </tr>\n",
       "    <tr>\n",
       "      <th>1</th>\n",
       "      <td>V100921</td>\n",
       "      <td>{Macrolide lactones, Pyridine alkaloids, Amino...</td>\n",
       "      <td>Manotes griffoniana</td>\n",
       "      <td>Manotes</td>\n",
       "      <td>Connaraceae</td>\n",
       "      <td>nothing in DB</td>\n",
       "      <td>nothing in DB</td>\n",
       "      <td>nothing in DB</td>\n",
       "      <td>nothing in DB</td>\n",
       "      <td>0.0</td>\n",
       "      <td>0.0</td>\n",
       "      <td>1.0</td>\n",
       "    </tr>\n",
       "    <tr>\n",
       "      <th>2</th>\n",
       "      <td>V100958</td>\n",
       "      <td>{Macrolide lactones, Depsipeptides, Tripeptide...</td>\n",
       "      <td>Calyptrotheca taitense</td>\n",
       "      <td>Calyptrotheca</td>\n",
       "      <td>Didiereaceae</td>\n",
       "      <td>nothing in DB</td>\n",
       "      <td>nothing in DB</td>\n",
       "      <td>nothing in DB</td>\n",
       "      <td>nothing in DB</td>\n",
       "      <td>0.0</td>\n",
       "      <td>0.0</td>\n",
       "      <td>1.0</td>\n",
       "    </tr>\n",
       "    <tr>\n",
       "      <th>3</th>\n",
       "      <td>V101033</td>\n",
       "      <td>{Macrolide lactones, Purine alkaloids, Apocaro...</td>\n",
       "      <td>Calyptrotheca taitense</td>\n",
       "      <td>Calyptrotheca</td>\n",
       "      <td>Didiereaceae</td>\n",
       "      <td>nothing in DB</td>\n",
       "      <td>nothing in DB</td>\n",
       "      <td>nothing in DB</td>\n",
       "      <td>nothing in DB</td>\n",
       "      <td>0.0</td>\n",
       "      <td>0.0</td>\n",
       "      <td>1.0</td>\n",
       "    </tr>\n",
       "    <tr>\n",
       "      <th>4</th>\n",
       "      <td>V101063</td>\n",
       "      <td>{Miscellaneous polyketides, Pyridine alkaloids...</td>\n",
       "      <td>Odontosoria chusana</td>\n",
       "      <td>Odontosoria</td>\n",
       "      <td>Lindsaeaceae</td>\n",
       "      <td>nothing in DB</td>\n",
       "      <td>nothing in DB</td>\n",
       "      <td>nothing in DB</td>\n",
       "      <td>nothing in DB</td>\n",
       "      <td>0.0</td>\n",
       "      <td>0.0</td>\n",
       "      <td>1.0</td>\n",
       "    </tr>\n",
       "  </tbody>\n",
       "</table>\n",
       "</div>"
      ],
      "text/plain": [
       "  sample_id                                          NPC#class  \\\n",
       "0   V100448  {Carotenoids (C40, β-Ψ), Flavanones, Dihydrofl...   \n",
       "1   V100921  {Macrolide lactones, Pyridine alkaloids, Amino...   \n",
       "2   V100958  {Macrolide lactones, Depsipeptides, Tripeptide...   \n",
       "3   V101033  {Macrolide lactones, Purine alkaloids, Apocaro...   \n",
       "4   V101063  {Miscellaneous polyketides, Pyridine alkaloids...   \n",
       "\n",
       "         organism_species organism_genus organism_family  \\\n",
       "0         Manotes expansa        Manotes     Connaraceae   \n",
       "1     Manotes griffoniana        Manotes     Connaraceae   \n",
       "2  Calyptrotheca taitense  Calyptrotheca    Didiereaceae   \n",
       "3  Calyptrotheca taitense  Calyptrotheca    Didiereaceae   \n",
       "4     Odontosoria chusana    Odontosoria    Lindsaeaceae   \n",
       "\n",
       "  Chemical_class_reported_in_species Chemical_class_reported_in_genus  \\\n",
       "0                      nothing in DB                    nothing in DB   \n",
       "1                      nothing in DB                    nothing in DB   \n",
       "2                      nothing in DB                    nothing in DB   \n",
       "3                      nothing in DB                    nothing in DB   \n",
       "4                      nothing in DB                    nothing in DB   \n",
       "\n",
       "    New_CC_in_sp New_CC_in_genus  CCs  CCg   CC  \n",
       "0  nothing in DB   nothing in DB  0.0  0.0  1.0  \n",
       "1  nothing in DB   nothing in DB  0.0  0.0  1.0  \n",
       "2  nothing in DB   nothing in DB  0.0  0.0  1.0  \n",
       "3  nothing in DB   nothing in DB  0.0  0.0  1.0  \n",
       "4  nothing in DB   nothing in DB  0.0  0.0  1.0  "
      ]
     },
     "execution_count": 9,
     "metadata": {},
     "output_type": "execute_result"
    }
   ],
   "source": [
    "CC= class_component_ind_files(CC_component, repository_path, ionization_mode, min_class_confidence, metadata_df, filename_header, species_column, genus_column, family_column)\n",
    "CC.head()"
   ]
  },
  {
   "cell_type": "markdown",
   "metadata": {},
   "source": [
    "# Similarity component (SC)"
   ]
  },
  {
   "cell_type": "markdown",
   "metadata": {},
   "source": [
    "#### SC.1. Calculate MEMO matrix from individual files"
   ]
  },
  {
   "cell_type": "code",
   "execution_count": 10,
   "metadata": {},
   "outputs": [
    {
     "name": "stderr",
     "output_type": "stream",
     "text": [
      "  0%|          | 0/239 [00:00<?, ?it/s]\r  1%|▏         | 3/239 [00:00<00:11, 21.43it/s]\r  3%|▎         | 6/239 [00:00<00:09, 23.32it/s]\r  4%|▍         | 9/239 [00:00<00:09, 24.40it/s]\r  5%|▌         | 12/239 [00:00<00:09, 24.08it/s]\r  6%|▋         | 15/239 [00:00<00:09, 23.67it/s]\r  8%|▊         | 18/239 [00:00<00:09, 23.09it/s]\r  9%|▉         | 21/239 [00:02<00:56,  3.83it/s]\r 10%|▉         | 23/239 [00:04<01:36,  2.23it/s]\r 10%|█         | 25/239 [00:07<02:06,  1.70it/s]\r 11%|█         | 26/239 [00:08<02:20,  1.52it/s]\r 11%|█▏        | 27/239 [00:09<02:34,  1.37it/s]\r 12%|█▏        | 28/239 [00:10<02:47,  1.26it/s]\r 12%|█▏        | 29/239 [00:11<02:58,  1.18it/s]\r 13%|█▎        | 30/239 [00:12<03:09,  1.11it/s]\r 13%|█▎        | 31/239 [00:13<03:11,  1.09it/s]\r 13%|█▎        | 32/239 [00:14<03:16,  1.05it/s]\r 14%|█▍        | 33/239 [00:15<03:20,  1.03it/s]\r 14%|█▍        | 34/239 [00:16<03:22,  1.01it/s]\r 15%|█▍        | 35/239 [00:17<03:23,  1.00it/s]\r 15%|█▌        | 36/239 [00:18<03:24,  1.01s/it]\r 15%|█▌        | 37/239 [00:19<03:23,  1.01s/it]\r 16%|█▌        | 38/239 [00:20<03:22,  1.01s/it]\r 16%|█▋        | 39/239 [00:21<03:06,  1.07it/s]\r 17%|█▋        | 40/239 [00:21<02:58,  1.11it/s]\r 17%|█▋        | 41/239 [00:22<02:50,  1.16it/s]\r 18%|█▊        | 42/239 [00:23<02:43,  1.20it/s]\r 18%|█▊        | 43/239 [00:24<02:39,  1.23it/s]\r 18%|█▊        | 44/239 [00:25<02:35,  1.25it/s]\r 19%|█▉        | 45/239 [00:25<02:33,  1.26it/s]\r 19%|█▉        | 46/239 [00:26<02:30,  1.29it/s]\r 20%|█▉        | 47/239 [00:27<02:29,  1.29it/s]\r 20%|██        | 48/239 [00:28<02:29,  1.27it/s]\r 21%|██        | 49/239 [00:28<02:32,  1.25it/s]\r 21%|██        | 50/239 [00:29<02:28,  1.27it/s]\r 21%|██▏       | 51/239 [00:30<02:24,  1.30it/s]\r 22%|██▏       | 52/239 [00:31<02:23,  1.30it/s]\r 22%|██▏       | 53/239 [00:31<02:22,  1.31it/s]\r 23%|██▎       | 54/239 [00:32<02:20,  1.32it/s]\r 23%|██▎       | 55/239 [00:33<02:19,  1.32it/s]\r 23%|██▎       | 56/239 [00:34<02:17,  1.33it/s]\r 24%|██▍       | 57/239 [00:34<02:18,  1.32it/s]\r 24%|██▍       | 58/239 [00:35<02:00,  1.51it/s]\r 25%|██▍       | 59/239 [00:35<01:52,  1.60it/s]\r 25%|██▌       | 60/239 [00:36<01:59,  1.50it/s]\r 26%|██▌       | 61/239 [00:37<02:05,  1.42it/s]\r 26%|██▌       | 62/239 [00:37<01:48,  1.64it/s]\r 26%|██▋       | 63/239 [00:38<01:48,  1.63it/s]\r 27%|██▋       | 64/239 [00:39<02:01,  1.44it/s]\r 27%|██▋       | 65/239 [00:40<01:58,  1.47it/s]\r 28%|██▊       | 66/239 [00:40<01:47,  1.61it/s]\r 28%|██▊       | 67/239 [00:41<01:47,  1.60it/s]\r 28%|██▊       | 68/239 [00:41<01:46,  1.61it/s]\r 29%|██▉       | 69/239 [00:42<01:39,  1.71it/s]\r 29%|██▉       | 70/239 [00:42<01:32,  1.83it/s]\r 30%|██▉       | 71/239 [00:43<01:44,  1.61it/s]\r 30%|███       | 72/239 [00:44<01:38,  1.70it/s]\r 31%|███       | 73/239 [00:44<01:26,  1.91it/s]\r 31%|███       | 74/239 [00:44<01:27,  1.89it/s]\r 31%|███▏      | 75/239 [00:45<01:27,  1.88it/s]\r 32%|███▏      | 76/239 [00:45<01:13,  2.21it/s]\r 32%|███▏      | 77/239 [00:46<01:11,  2.27it/s]\r 33%|███▎      | 78/239 [00:46<01:21,  1.98it/s]\r 33%|███▎      | 79/239 [00:47<01:23,  1.92it/s]\r 33%|███▎      | 80/239 [00:47<01:17,  2.06it/s]\r 34%|███▍      | 81/239 [00:48<01:13,  2.15it/s]\r 34%|███▍      | 82/239 [00:48<01:15,  2.09it/s]\r 35%|███▍      | 83/239 [00:49<01:10,  2.22it/s]\r 35%|███▌      | 84/239 [00:49<01:25,  1.82it/s]\r 36%|███▌      | 85/239 [00:50<01:27,  1.76it/s]\r 36%|███▌      | 86/239 [00:50<01:19,  1.93it/s]\r 36%|███▋      | 87/239 [00:51<01:11,  2.12it/s]\r 37%|███▋      | 88/239 [00:51<01:17,  1.94it/s]\r 37%|███▋      | 89/239 [00:52<01:10,  2.11it/s]\r 38%|███▊      | 90/239 [00:52<01:04,  2.32it/s]\r 38%|███▊      | 92/239 [00:53<00:55,  2.65it/s]\r 39%|███▉      | 93/239 [00:53<01:07,  2.16it/s]\r 39%|███▉      | 94/239 [00:54<01:09,  2.10it/s]\r 40%|███▉      | 95/239 [00:54<00:57,  2.48it/s]\r 40%|████      | 96/239 [00:55<00:59,  2.42it/s]\r 41%|████      | 97/239 [00:55<01:00,  2.33it/s]\r 41%|████      | 98/239 [00:56<01:15,  1.87it/s]\r 41%|████▏     | 99/239 [00:56<01:14,  1.87it/s]\r 42%|████▏     | 100/239 [00:57<01:14,  1.88it/s]\r 42%|████▏     | 101/239 [00:58<01:22,  1.67it/s]\r 43%|████▎     | 102/239 [00:58<01:19,  1.72it/s]\r 43%|████▎     | 103/239 [00:59<01:40,  1.35it/s]\r 44%|████▎     | 104/239 [01:00<01:47,  1.26it/s]\r 44%|████▍     | 105/239 [01:01<01:35,  1.40it/s]\r 44%|████▍     | 106/239 [01:02<01:42,  1.30it/s]\r 45%|████▍     | 107/239 [01:03<01:45,  1.25it/s]\r 45%|████▌     | 108/239 [01:03<01:30,  1.46it/s]\r 46%|████▌     | 109/239 [01:04<01:22,  1.57it/s]\r 46%|████▌     | 110/239 [01:04<01:20,  1.61it/s]\r 46%|████▋     | 111/239 [01:05<01:15,  1.69it/s]\r 47%|████▋     | 112/239 [01:05<01:10,  1.81it/s]\r 47%|████▋     | 113/239 [01:06<01:11,  1.76it/s]\r 48%|████▊     | 114/239 [01:06<01:05,  1.91it/s]\r 48%|████▊     | 115/239 [01:07<01:07,  1.82it/s]\r 49%|████▊     | 116/239 [01:07<01:07,  1.83it/s]\r 49%|████▉     | 117/239 [01:08<01:28,  1.38it/s]\r 49%|████▉     | 118/239 [01:09<01:21,  1.49it/s]\r 50%|████▉     | 119/239 [01:10<01:20,  1.49it/s]\r 50%|█████     | 120/239 [01:10<01:21,  1.46it/s]\r 51%|█████     | 121/239 [01:12<01:39,  1.19it/s]\r 51%|█████     | 122/239 [01:12<01:25,  1.36it/s]\r 51%|█████▏    | 123/239 [01:13<01:17,  1.50it/s]\r 52%|█████▏    | 124/239 [01:13<01:00,  1.90it/s]\r 52%|█████▏    | 125/239 [01:14<01:11,  1.59it/s]\r 53%|█████▎    | 126/239 [01:14<01:11,  1.57it/s]\r 53%|█████▎    | 127/239 [01:15<01:09,  1.61it/s]\r 54%|█████▎    | 128/239 [01:15<01:06,  1.67it/s]\r 54%|█████▍    | 129/239 [01:16<00:52,  2.09it/s]\r 54%|█████▍    | 130/239 [01:16<00:49,  2.20it/s]\r 55%|█████▍    | 131/239 [01:17<00:54,  1.97it/s]\r 55%|█████▌    | 132/239 [01:18<01:07,  1.58it/s]\r 56%|█████▌    | 133/239 [01:18<01:04,  1.65it/s]\r 56%|█████▌    | 134/239 [01:19<00:59,  1.76it/s]\r 56%|█████▋    | 135/239 [01:19<00:57,  1.80it/s]\r 57%|█████▋    | 136/239 [01:20<00:57,  1.78it/s]\r 57%|█████▋    | 137/239 [01:20<01:02,  1.63it/s]\r 58%|█████▊    | 138/239 [01:21<01:01,  1.64it/s]\r 58%|█████▊    | 139/239 [01:21<00:56,  1.77it/s]\r 59%|█████▊    | 140/239 [01:22<00:44,  2.22it/s]\r 59%|█████▉    | 141/239 [01:22<00:52,  1.85it/s]\r 59%|█████▉    | 142/239 [01:23<00:53,  1.82it/s]\r 60%|█████▉    | 143/239 [01:23<00:52,  1.81it/s]\r 60%|██████    | 144/239 [01:24<00:50,  1.87it/s]\r 61%|██████    | 145/239 [01:25<00:53,  1.76it/s]\r 61%|██████    | 146/239 [01:26<01:01,  1.51it/s]\r 62%|██████▏   | 147/239 [01:26<01:04,  1.42it/s]\r 62%|██████▏   | 148/239 [01:27<01:06,  1.37it/s]\r 62%|██████▏   | 149/239 [01:27<00:55,  1.63it/s]\r 63%|██████▎   | 150/239 [01:28<00:50,  1.75it/s]\r 63%|██████▎   | 151/239 [01:28<00:46,  1.88it/s]\r 64%|██████▎   | 152/239 [01:29<00:50,  1.73it/s]\r 64%|██████▍   | 153/239 [01:30<00:47,  1.80it/s]\r 64%|██████▍   | 154/239 [01:30<00:45,  1.86it/s]\r 65%|██████▍   | 155/239 [01:31<00:44,  1.87it/s]\r 65%|██████▌   | 156/239 [01:31<00:46,  1.78it/s]\r 66%|██████▌   | 157/239 [01:32<00:45,  1.80it/s]\r 66%|██████▌   | 158/239 [01:32<00:37,  2.19it/s]\r 67%|██████▋   | 159/239 [01:32<00:36,  2.18it/s]\r 67%|██████▋   | 160/239 [01:33<00:35,  2.23it/s]\r 67%|██████▋   | 161/239 [01:34<00:39,  1.98it/s]\r 68%|██████▊   | 162/239 [01:34<00:36,  2.11it/s]\r 68%|██████▊   | 163/239 [01:35<00:40,  1.88it/s]\r 69%|██████▊   | 164/239 [01:35<00:43,  1.73it/s]\r 69%|██████▉   | 165/239 [01:36<00:39,  1.86it/s]\r 69%|██████▉   | 166/239 [01:36<00:35,  2.05it/s]\r 70%|██████▉   | 167/239 [01:36<00:30,  2.34it/s]\r 70%|███████   | 168/239 [01:37<00:32,  2.18it/s]\r 71%|███████   | 169/239 [01:37<00:31,  2.26it/s]\r 71%|███████   | 170/239 [01:38<00:29,  2.38it/s]\r 72%|███████▏  | 171/239 [01:38<00:29,  2.34it/s]\r 72%|███████▏  | 172/239 [01:38<00:26,  2.51it/s]\r 72%|███████▏  | 173/239 [01:39<00:23,  2.82it/s]\r 73%|███████▎  | 174/239 [01:39<00:25,  2.50it/s]\r 73%|███████▎  | 175/239 [01:40<00:26,  2.43it/s]\r 74%|███████▎  | 176/239 [01:40<00:24,  2.58it/s]\r 74%|███████▍  | 177/239 [01:41<00:36,  1.72it/s]\r 74%|███████▍  | 178/239 [01:42<00:38,  1.60it/s]\r 75%|███████▍  | 179/239 [01:42<00:34,  1.75it/s]\r 75%|███████▌  | 180/239 [01:43<00:29,  1.99it/s]\r 76%|███████▌  | 182/239 [01:43<00:20,  2.75it/s]\r 77%|███████▋  | 183/239 [01:44<00:25,  2.16it/s]\r 77%|███████▋  | 184/239 [01:44<00:22,  2.45it/s]\r 77%|███████▋  | 185/239 [01:44<00:21,  2.57it/s]\r 78%|███████▊  | 186/239 [01:45<00:18,  2.86it/s]\r 78%|███████▊  | 187/239 [01:45<00:17,  2.92it/s]\r 79%|███████▊  | 188/239 [01:45<00:16,  3.01it/s]\r 79%|███████▉  | 189/239 [01:45<00:16,  3.12it/s]\r 79%|███████▉  | 190/239 [01:46<00:17,  2.87it/s]\r 80%|███████▉  | 191/239 [01:46<00:15,  3.18it/s]\r 80%|████████  | 192/239 [01:46<00:15,  2.95it/s]\r 81%|████████  | 193/239 [01:47<00:15,  3.06it/s]\r 81%|████████  | 194/239 [01:47<00:13,  3.36it/s]\r 82%|████████▏ | 195/239 [01:48<00:18,  2.42it/s]\r 82%|████████▏ | 196/239 [01:48<00:20,  2.09it/s]\r 82%|████████▏ | 197/239 [01:49<00:18,  2.28it/s]\r 83%|████████▎ | 198/239 [01:49<00:16,  2.54it/s]\r 83%|████████▎ | 199/239 [01:49<00:17,  2.32it/s]\r 84%|████████▎ | 200/239 [01:50<00:16,  2.31it/s]\r 84%|████████▍ | 201/239 [01:50<00:13,  2.87it/s]\r 85%|████████▍ | 202/239 [01:50<00:10,  3.40it/s]\r 85%|████████▍ | 203/239 [01:51<00:12,  2.80it/s]\r 85%|████████▌ | 204/239 [01:51<00:10,  3.45it/s]\r 86%|████████▌ | 205/239 [01:52<00:15,  2.21it/s]\r 86%|████████▌ | 206/239 [01:52<00:12,  2.72it/s]\r 87%|████████▋ | 207/239 [01:52<00:10,  3.16it/s]\r 87%|████████▋ | 208/239 [01:52<00:10,  2.99it/s]\r 87%|████████▋ | 209/239 [01:53<00:12,  2.32it/s]\r 88%|████████▊ | 210/239 [01:54<00:12,  2.33it/s]\r 88%|████████▊ | 211/239 [01:54<00:14,  1.88it/s]\r 89%|████████▊ | 212/239 [01:55<00:12,  2.10it/s]\r 89%|████████▉ | 213/239 [01:55<00:10,  2.37it/s]\r 90%|████████▉ | 214/239 [01:55<00:11,  2.21it/s]\r 90%|████████▉ | 215/239 [01:56<00:10,  2.36it/s]\r 90%|█████████ | 216/239 [01:56<00:08,  2.73it/s]\r 91%|█████████ | 217/239 [01:56<00:07,  3.11it/s]\r 91%|█████████ | 218/239 [01:57<00:08,  2.46it/s]\r 92%|█████████▏| 219/239 [01:57<00:08,  2.38it/s]\r 92%|█████████▏| 220/239 [01:58<00:07,  2.71it/s]\r 92%|█████████▏| 221/239 [01:58<00:06,  2.76it/s]\r 93%|█████████▎| 222/239 [01:58<00:06,  2.61it/s]\r 93%|█████████▎| 223/239 [01:59<00:06,  2.56it/s]\r 94%|█████████▎| 224/239 [01:59<00:07,  2.10it/s]\r 94%|█████████▍| 225/239 [02:00<00:05,  2.54it/s]\r 95%|█████████▍| 226/239 [02:00<00:05,  2.36it/s]\r 95%|█████████▍| 227/239 [02:01<00:05,  2.18it/s]\r 95%|█████████▌| 228/239 [02:01<00:05,  1.98it/s]\r 96%|█████████▌| 229/239 [02:03<00:08,  1.22it/s]\r 97%|█████████▋| 231/239 [02:04<00:04,  1.68it/s]\r 97%|█████████▋| 232/239 [02:04<00:04,  1.74it/s]\r 97%|█████████▋| 233/239 [02:05<00:03,  1.79it/s]\r 98%|█████████▊| 234/239 [02:05<00:02,  1.75it/s]\r 98%|█████████▊| 235/239 [02:06<00:02,  1.64it/s]\r 99%|█████████▊| 236/239 [02:06<00:01,  1.78it/s]\r 99%|█████████▉| 237/239 [02:06<00:00,  2.30it/s]\r100%|█████████▉| 238/239 [02:07<00:00,  2.73it/s]\r100%|██████████| 239/239 [02:07<00:00,  2.53it/s]\r100%|██████████| 239/239 [02:07<00:00,  1.87it/s]\n"
     ]
    },
    {
     "name": "stdout",
     "output_type": "stream",
     "text": [
      "Computing MEMO matrix from unaligned samples took: 131.84375 seconds\n"
     ]
    },
    {
     "name": "stderr",
     "output_type": "stream",
     "text": [
      "../src/SC.py:101: FutureWarning: The default value of regex will change from True to False in a future version.\n",
      "  memo_unaligned.memo_matrix.index = memo_unaligned.memo_matrix.index.str.replace(spectra_suffix, \"\")\n"
     ]
    }
   ],
   "source": [
    "#calculate MEMO matrix from individual files\n",
    "metric_df = calculate_memo_matrix_ind_files(repository_path, ionization_mode, spectra_suffix, filename_header)\n",
    "metric_df.head()"
   ]
  },
  {
   "cell_type": "code",
   "execution_count": null,
   "metadata": {},
   "outputs": [
    {
     "name": "stdout",
     "output_type": "stream",
     "text": [
      "(239, 68558)\n",
      "(182, 68558)\n"
     ]
    }
   ],
   "source": [
    "#remove experimental controls and blancks\n",
    "list_of_strings_for_QC_Blank_filter = ['blank', 'QC'] #erase all the blanks and QC's - Change the string as needed\n",
    "column_to_use_for_filtering = sampletype_header #this information should be included in the metadata table\n",
    "metric_df= drop_samples_based_on_string_ind(repository_path, ionization_mode, filename_header, sampletype_header, metric_df, metadata_df, list_of_strings_for_QC_Blank_filter, column_to_use_for_filtering)\n",
    "#metric_df.head()"
   ]
  },
  {
   "cell_type": "code",
   "execution_count": null,
   "metadata": {},
   "outputs": [],
   "source": [
    "#if metric_df was previously calculated: \n",
    "#metric_df = load_metric_df(repository_path, ionization_mode)\n",
    "#metric_df.head()"
   ]
  },
  {
   "cell_type": "markdown",
   "metadata": {},
   "source": [
    "#### SC.2. SC calculation"
   ]
  },
  {
   "cell_type": "code",
   "execution_count": null,
   "metadata": {},
   "outputs": [
    {
     "data": {
      "text/html": [
       "<div>\n",
       "<style scoped>\n",
       "    .dataframe tbody tr th:only-of-type {\n",
       "        vertical-align: middle;\n",
       "    }\n",
       "\n",
       "    .dataframe tbody tr th {\n",
       "        vertical-align: top;\n",
       "    }\n",
       "\n",
       "    .dataframe thead th {\n",
       "        text-align: right;\n",
       "    }\n",
       "</style>\n",
       "<table border=\"1\" class=\"dataframe\">\n",
       "  <thead>\n",
       "    <tr style=\"text-align: right;\">\n",
       "      <th></th>\n",
       "      <th>sample_id</th>\n",
       "      <th>anomaly_IF</th>\n",
       "      <th>anomaly_LOF</th>\n",
       "      <th>anomaly_OCSVM</th>\n",
       "      <th>SC</th>\n",
       "    </tr>\n",
       "  </thead>\n",
       "  <tbody>\n",
       "    <tr>\n",
       "      <th>0</th>\n",
       "      <td>V100448</td>\n",
       "      <td>1</td>\n",
       "      <td>-1</td>\n",
       "      <td>1</td>\n",
       "      <td>1</td>\n",
       "    </tr>\n",
       "    <tr>\n",
       "      <th>1</th>\n",
       "      <td>V100921</td>\n",
       "      <td>1</td>\n",
       "      <td>1</td>\n",
       "      <td>-1</td>\n",
       "      <td>1</td>\n",
       "    </tr>\n",
       "    <tr>\n",
       "      <th>2</th>\n",
       "      <td>V100958</td>\n",
       "      <td>1</td>\n",
       "      <td>1</td>\n",
       "      <td>1</td>\n",
       "      <td>0</td>\n",
       "    </tr>\n",
       "    <tr>\n",
       "      <th>3</th>\n",
       "      <td>V101033</td>\n",
       "      <td>1</td>\n",
       "      <td>1</td>\n",
       "      <td>1</td>\n",
       "      <td>0</td>\n",
       "    </tr>\n",
       "    <tr>\n",
       "      <th>4</th>\n",
       "      <td>V101063</td>\n",
       "      <td>1</td>\n",
       "      <td>1</td>\n",
       "      <td>1</td>\n",
       "      <td>0</td>\n",
       "    </tr>\n",
       "    <tr>\n",
       "      <th>5</th>\n",
       "      <td>V101091</td>\n",
       "      <td>1</td>\n",
       "      <td>1</td>\n",
       "      <td>1</td>\n",
       "      <td>0</td>\n",
       "    </tr>\n",
       "    <tr>\n",
       "      <th>6</th>\n",
       "      <td>V101093</td>\n",
       "      <td>1</td>\n",
       "      <td>1</td>\n",
       "      <td>1</td>\n",
       "      <td>0</td>\n",
       "    </tr>\n",
       "    <tr>\n",
       "      <th>7</th>\n",
       "      <td>V101156</td>\n",
       "      <td>1</td>\n",
       "      <td>1</td>\n",
       "      <td>1</td>\n",
       "      <td>0</td>\n",
       "    </tr>\n",
       "    <tr>\n",
       "      <th>8</th>\n",
       "      <td>V101157</td>\n",
       "      <td>1</td>\n",
       "      <td>1</td>\n",
       "      <td>1</td>\n",
       "      <td>0</td>\n",
       "    </tr>\n",
       "    <tr>\n",
       "      <th>9</th>\n",
       "      <td>V101288</td>\n",
       "      <td>1</td>\n",
       "      <td>1</td>\n",
       "      <td>1</td>\n",
       "      <td>0</td>\n",
       "    </tr>\n",
       "  </tbody>\n",
       "</table>\n",
       "</div>"
      ],
      "text/plain": [
       "  sample_id  anomaly_IF  anomaly_LOF  anomaly_OCSVM  SC\n",
       "0   V100448           1           -1              1   1\n",
       "1   V100921           1            1             -1   1\n",
       "2   V100958           1            1              1   0\n",
       "3   V101033           1            1              1   0\n",
       "4   V101063           1            1              1   0\n",
       "5   V101091           1            1              1   0\n",
       "6   V101093           1            1              1   0\n",
       "7   V101156           1            1              1   0\n",
       "8   V101157           1            1              1   0\n",
       "9   V101288           1            1              1   0"
      ]
     },
     "execution_count": 24,
     "metadata": {},
     "output_type": "execute_result"
    }
   ],
   "source": [
    "SC = similarity_component_ind(repository_path, ionization_mode, filename_header, metric_df)\n",
    "SC.head(10)"
   ]
  },
  {
   "cell_type": "markdown",
   "metadata": {},
   "source": [
    "# Priority rank Results"
   ]
  },
  {
   "cell_type": "code",
   "execution_count": null,
   "metadata": {},
   "outputs": [
    {
     "name": "stderr",
     "output_type": "stream",
     "text": [
      "  0%|          | 0/240 [00:00<?, ?it/s]\r  5%|▍         | 11/240 [00:00<00:02, 109.07it/s]\r 13%|█▎        | 31/240 [00:00<00:01, 158.14it/s]\r 21%|██        | 50/240 [00:00<00:01, 168.21it/s]\r 29%|██▉       | 69/240 [00:00<00:00, 173.79it/s]\r 37%|███▋      | 88/240 [00:00<00:00, 176.68it/s]\r 44%|████▍     | 106/240 [00:00<00:00, 174.52it/s]\r 52%|█████▏    | 125/240 [00:00<00:00, 177.68it/s]\r 60%|█████▉    | 143/240 [00:00<00:00, 176.19it/s]\r 68%|██████▊   | 162/240 [00:00<00:00, 179.60it/s]\r 76%|███████▌  | 182/240 [00:01<00:00, 182.77it/s]\r 84%|████████▍ | 202/240 [00:01<00:00, 185.77it/s]\r 92%|█████████▎| 222/240 [00:01<00:00, 187.84it/s]\r100%|██████████| 240/240 [00:01<00:00, 178.86it/s]\n"
     ]
    },
    {
     "ename": "KeyError",
     "evalue": "'CC'",
     "output_type": "error",
     "traceback": [
      "\u001b[0;31m---------------------------------------------------------------------------\u001b[0m",
      "\u001b[0;31mKeyError\u001b[0m                                  Traceback (most recent call last)",
      "\u001b[0;32m~/anaconda3/envs/inventa/lib/python3.7/site-packages/pandas/core/indexes/base.py\u001b[0m in \u001b[0;36mget_loc\u001b[0;34m(self, key, method, tolerance)\u001b[0m\n\u001b[1;32m   3360\u001b[0m             \u001b[0;32mtry\u001b[0m\u001b[0;34m:\u001b[0m\u001b[0;34m\u001b[0m\u001b[0;34m\u001b[0m\u001b[0m\n\u001b[0;32m-> 3361\u001b[0;31m                 \u001b[0;32mreturn\u001b[0m \u001b[0mself\u001b[0m\u001b[0;34m.\u001b[0m\u001b[0m_engine\u001b[0m\u001b[0;34m.\u001b[0m\u001b[0mget_loc\u001b[0m\u001b[0;34m(\u001b[0m\u001b[0mcasted_key\u001b[0m\u001b[0;34m)\u001b[0m\u001b[0;34m\u001b[0m\u001b[0;34m\u001b[0m\u001b[0m\n\u001b[0m\u001b[1;32m   3362\u001b[0m             \u001b[0;32mexcept\u001b[0m \u001b[0mKeyError\u001b[0m \u001b[0;32mas\u001b[0m \u001b[0merr\u001b[0m\u001b[0;34m:\u001b[0m\u001b[0;34m\u001b[0m\u001b[0;34m\u001b[0m\u001b[0m\n",
      "\u001b[0;32m~/anaconda3/envs/inventa/lib/python3.7/site-packages/pandas/_libs/index.pyx\u001b[0m in \u001b[0;36mpandas._libs.index.IndexEngine.get_loc\u001b[0;34m()\u001b[0m\n",
      "\u001b[0;32m~/anaconda3/envs/inventa/lib/python3.7/site-packages/pandas/_libs/index.pyx\u001b[0m in \u001b[0;36mpandas._libs.index.IndexEngine.get_loc\u001b[0;34m()\u001b[0m\n",
      "\u001b[0;32mpandas/_libs/hashtable_class_helper.pxi\u001b[0m in \u001b[0;36mpandas._libs.hashtable.PyObjectHashTable.get_item\u001b[0;34m()\u001b[0m\n",
      "\u001b[0;32mpandas/_libs/hashtable_class_helper.pxi\u001b[0m in \u001b[0;36mpandas._libs.hashtable.PyObjectHashTable.get_item\u001b[0;34m()\u001b[0m\n",
      "\u001b[0;31mKeyError\u001b[0m: 'CC'",
      "\nThe above exception was the direct cause of the following exception:\n",
      "\u001b[0;31mKeyError\u001b[0m                                  Traceback (most recent call last)",
      "\u001b[0;32m/tmp/ipykernel_13093/1643117073.py\u001b[0m in \u001b[0;36m<module>\u001b[0;34m\u001b[0m\n\u001b[0;32m----> 1\u001b[0;31m \u001b[0mPS\u001b[0m \u001b[0;34m=\u001b[0m \u001b[0mpriority_score_ind\u001b[0m\u001b[0;34m(\u001b[0m\u001b[0mrepository_path\u001b[0m\u001b[0;34m,\u001b[0m \u001b[0mfilename_header\u001b[0m\u001b[0;34m,\u001b[0m \u001b[0mionization_mode\u001b[0m\u001b[0;34m,\u001b[0m \u001b[0mspecies_column\u001b[0m\u001b[0;34m,\u001b[0m \u001b[0mgenus_column\u001b[0m\u001b[0;34m,\u001b[0m \u001b[0mfamily_column\u001b[0m\u001b[0;34m,\u001b[0m \u001b[0msppart_column\u001b[0m\u001b[0;34m,\u001b[0m \u001b[0mw1\u001b[0m\u001b[0;34m,\u001b[0m \u001b[0mw2\u001b[0m\u001b[0;34m,\u001b[0m \u001b[0mw3\u001b[0m\u001b[0;34m,\u001b[0m \u001b[0mw4\u001b[0m\u001b[0;34m)\u001b[0m\u001b[0;34m\u001b[0m\u001b[0;34m\u001b[0m\u001b[0m\n\u001b[0m\u001b[1;32m      2\u001b[0m \u001b[0mPS\u001b[0m\u001b[0;34m.\u001b[0m\u001b[0mhead\u001b[0m\u001b[0;34m(\u001b[0m\u001b[0;34m)\u001b[0m\u001b[0;34m\u001b[0m\u001b[0;34m\u001b[0m\u001b[0m\n",
      "\u001b[0;32m/mnt/c/Users/quirosgu/Documents/GitHub/inventa/src/process_data.py\u001b[0m in \u001b[0;36mpriority_score_ind\u001b[0;34m(repository_path, filename_header, ionization_mode, species_column, genus_column, family_column, sppart_column, w1, w2, w3, w4)\u001b[0m\n\u001b[1;32m    294\u001b[0m                     \u001b[0mhow\u001b[0m\u001b[0;34m=\u001b[0m\u001b[0;34m'left'\u001b[0m\u001b[0;34m,\u001b[0m\u001b[0;34m\u001b[0m\u001b[0;34m\u001b[0m\u001b[0m\n\u001b[1;32m    295\u001b[0m                     on=filename_header)\n\u001b[0;32m--> 296\u001b[0;31m         \u001b[0mdf\u001b[0m\u001b[0;34m[\u001b[0m\u001b[0;34m'PS'\u001b[0m\u001b[0;34m]\u001b[0m \u001b[0;34m=\u001b[0m \u001b[0mw1\u001b[0m\u001b[0;34m*\u001b[0m\u001b[0mdf\u001b[0m\u001b[0;34m[\u001b[0m\u001b[0;34m'AC'\u001b[0m\u001b[0;34m]\u001b[0m \u001b[0;34m+\u001b[0m \u001b[0mw2\u001b[0m\u001b[0;34m*\u001b[0m\u001b[0mdf\u001b[0m\u001b[0;34m[\u001b[0m\u001b[0;34m'LC'\u001b[0m\u001b[0;34m]\u001b[0m \u001b[0;34m+\u001b[0m \u001b[0mw3\u001b[0m\u001b[0;34m*\u001b[0m\u001b[0mdf\u001b[0m\u001b[0;34m[\u001b[0m\u001b[0;34m'CC'\u001b[0m\u001b[0;34m]\u001b[0m \u001b[0;34m+\u001b[0m \u001b[0mw4\u001b[0m\u001b[0;34m*\u001b[0m\u001b[0mdf\u001b[0m\u001b[0;34m[\u001b[0m\u001b[0;34m'SC'\u001b[0m\u001b[0;34m]\u001b[0m\u001b[0;34m\u001b[0m\u001b[0;34m\u001b[0m\u001b[0m\n\u001b[0m\u001b[1;32m    297\u001b[0m     \u001b[0;32melse\u001b[0m\u001b[0;34m:\u001b[0m\u001b[0;34m\u001b[0m\u001b[0;34m\u001b[0m\u001b[0m\n\u001b[1;32m    298\u001b[0m         \u001b[0mdf\u001b[0m\u001b[0;34m\u001b[0m\u001b[0;34m\u001b[0m\u001b[0m\n",
      "\u001b[0;32m~/anaconda3/envs/inventa/lib/python3.7/site-packages/pandas/core/frame.py\u001b[0m in \u001b[0;36m__getitem__\u001b[0;34m(self, key)\u001b[0m\n\u001b[1;32m   3456\u001b[0m             \u001b[0;32mif\u001b[0m \u001b[0mself\u001b[0m\u001b[0;34m.\u001b[0m\u001b[0mcolumns\u001b[0m\u001b[0;34m.\u001b[0m\u001b[0mnlevels\u001b[0m \u001b[0;34m>\u001b[0m \u001b[0;36m1\u001b[0m\u001b[0;34m:\u001b[0m\u001b[0;34m\u001b[0m\u001b[0;34m\u001b[0m\u001b[0m\n\u001b[1;32m   3457\u001b[0m                 \u001b[0;32mreturn\u001b[0m \u001b[0mself\u001b[0m\u001b[0;34m.\u001b[0m\u001b[0m_getitem_multilevel\u001b[0m\u001b[0;34m(\u001b[0m\u001b[0mkey\u001b[0m\u001b[0;34m)\u001b[0m\u001b[0;34m\u001b[0m\u001b[0;34m\u001b[0m\u001b[0m\n\u001b[0;32m-> 3458\u001b[0;31m             \u001b[0mindexer\u001b[0m \u001b[0;34m=\u001b[0m \u001b[0mself\u001b[0m\u001b[0;34m.\u001b[0m\u001b[0mcolumns\u001b[0m\u001b[0;34m.\u001b[0m\u001b[0mget_loc\u001b[0m\u001b[0;34m(\u001b[0m\u001b[0mkey\u001b[0m\u001b[0;34m)\u001b[0m\u001b[0;34m\u001b[0m\u001b[0;34m\u001b[0m\u001b[0m\n\u001b[0m\u001b[1;32m   3459\u001b[0m             \u001b[0;32mif\u001b[0m \u001b[0mis_integer\u001b[0m\u001b[0;34m(\u001b[0m\u001b[0mindexer\u001b[0m\u001b[0;34m)\u001b[0m\u001b[0;34m:\u001b[0m\u001b[0;34m\u001b[0m\u001b[0;34m\u001b[0m\u001b[0m\n\u001b[1;32m   3460\u001b[0m                 \u001b[0mindexer\u001b[0m \u001b[0;34m=\u001b[0m \u001b[0;34m[\u001b[0m\u001b[0mindexer\u001b[0m\u001b[0;34m]\u001b[0m\u001b[0;34m\u001b[0m\u001b[0;34m\u001b[0m\u001b[0m\n",
      "\u001b[0;32m~/anaconda3/envs/inventa/lib/python3.7/site-packages/pandas/core/indexes/base.py\u001b[0m in \u001b[0;36mget_loc\u001b[0;34m(self, key, method, tolerance)\u001b[0m\n\u001b[1;32m   3361\u001b[0m                 \u001b[0;32mreturn\u001b[0m \u001b[0mself\u001b[0m\u001b[0;34m.\u001b[0m\u001b[0m_engine\u001b[0m\u001b[0;34m.\u001b[0m\u001b[0mget_loc\u001b[0m\u001b[0;34m(\u001b[0m\u001b[0mcasted_key\u001b[0m\u001b[0;34m)\u001b[0m\u001b[0;34m\u001b[0m\u001b[0;34m\u001b[0m\u001b[0m\n\u001b[1;32m   3362\u001b[0m             \u001b[0;32mexcept\u001b[0m \u001b[0mKeyError\u001b[0m \u001b[0;32mas\u001b[0m \u001b[0merr\u001b[0m\u001b[0;34m:\u001b[0m\u001b[0;34m\u001b[0m\u001b[0;34m\u001b[0m\u001b[0m\n\u001b[0;32m-> 3363\u001b[0;31m                 \u001b[0;32mraise\u001b[0m \u001b[0mKeyError\u001b[0m\u001b[0;34m(\u001b[0m\u001b[0mkey\u001b[0m\u001b[0;34m)\u001b[0m \u001b[0;32mfrom\u001b[0m \u001b[0merr\u001b[0m\u001b[0;34m\u001b[0m\u001b[0;34m\u001b[0m\u001b[0m\n\u001b[0m\u001b[1;32m   3364\u001b[0m \u001b[0;34m\u001b[0m\u001b[0m\n\u001b[1;32m   3365\u001b[0m         \u001b[0;32mif\u001b[0m \u001b[0mis_scalar\u001b[0m\u001b[0;34m(\u001b[0m\u001b[0mkey\u001b[0m\u001b[0;34m)\u001b[0m \u001b[0;32mand\u001b[0m \u001b[0misna\u001b[0m\u001b[0;34m(\u001b[0m\u001b[0mkey\u001b[0m\u001b[0;34m)\u001b[0m \u001b[0;32mand\u001b[0m \u001b[0;32mnot\u001b[0m \u001b[0mself\u001b[0m\u001b[0;34m.\u001b[0m\u001b[0mhasnans\u001b[0m\u001b[0;34m:\u001b[0m\u001b[0;34m\u001b[0m\u001b[0;34m\u001b[0m\u001b[0m\n",
      "\u001b[0;31mKeyError\u001b[0m: 'CC'"
     ]
    }
   ],
   "source": [
    "PS = priority_score_ind(repository_path, filename_header, ionization_mode, species_column, genus_column, family_column, sppart_column, w1, w2, w3, w4)\n",
    "PS.head()"
   ]
  },
  {
   "cell_type": "markdown",
   "metadata": {},
   "source": [
    "### Display results"
   ]
  },
  {
   "cell_type": "code",
   "execution_count": null,
   "metadata": {},
   "outputs": [
    {
     "data": {
      "application/vnd.jupyter.widget-view+json": {
       "model_id": "9983516a3e5f449cbcb70d3c6e933b35",
       "version_major": 2,
       "version_minor": 0
      },
      "text/plain": [
       "interactive(children=(LineUpWidget(value=[], description='selection', layout=Layout(align_self='stretch', heig…"
      ]
     },
     "metadata": {},
     "output_type": "display_data"
    }
   ],
   "source": [
    "#Show the results in an interactive way\n",
    "def selection_changed(selection):\n",
    "    return PS.iloc[selection]\n",
    "interact(selection_changed, selection=lineup_widget.LineUpWidget(PS));"
   ]
  }
 ],
 "metadata": {
  "kernelspec": {
   "display_name": "Python 3.7.12 ('inventa')",
   "language": "python",
   "name": "python3"
  },
  "language_info": {
   "codemirror_mode": {
    "name": "ipython",
    "version": 3
   },
   "file_extension": ".py",
   "mimetype": "text/x-python",
   "name": "python",
   "nbconvert_exporter": "python",
   "pygments_lexer": "ipython3",
   "version": "3.7.12"
  },
  "vscode": {
   "interpreter": {
    "hash": "f40ac8c71e223d85162b29606d9c88efd87008676606c08744cb976fdeb3b12b"
   }
  }
 },
 "nbformat": 4,
 "nbformat_minor": 4
}
