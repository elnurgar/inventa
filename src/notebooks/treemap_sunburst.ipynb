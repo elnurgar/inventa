{
 "cells": [
  {
   "cell_type": "code",
   "execution_count": 1,
   "metadata": {},
   "outputs": [],
   "source": [
    "import numpy as np\n",
    "import pandas as pd\n",
    "import plotly.express as px\n",
    "import plotly.graph_objects as go\n",
    "import os\n",
    "from tqdm import tqdm"
   ]
  },
  {
   "cell_type": "code",
   "execution_count": null,
   "metadata": {},
   "outputs": [],
   "source": [
    "repository_path = 'c:/Users/bory/Documents/PhD-UniGe/PROJECTS/Thilo_Side_project_Eflux_pumps/Extracted_supernatant_MARCH-MAY_2022/220913_CANOPUS'\n",
    "organism = ''"
   ]
  },
  {
   "cell_type": "code",
   "execution_count": 1,
   "metadata": {},
   "outputs": [],
   "source": [
    "def sunburst_count_plotter(repository_path, organism):\n",
    "        \n",
    "    path = os.path.normpath(repository_path)\n",
    "    samples_dir = [directory for directory in os.listdir(path)]\n",
    "\n",
    "    for directory in tqdm(samples_dir):\n",
    "        \n",
    "        canopus_path = os.path.join(path, directory,  directory + '-B_WORKSPACE_SIRIUS', 'canopus_formula_summary_adducts.tsv')\n",
    "        \n",
    "        try:\n",
    "            canopus_df = pd.read_csv(canopus_path, sep='\\t')\n",
    "        except FileNotFoundError:\n",
    "            continue\n",
    "        except NotADirectoryError:\n",
    "            continue\n",
    "\n",
    "        #read and format SIrius files\n",
    "        canopus_df = pd.read_csv(canopus_path, sep='\\t')\n",
    "        canopus_df['shared name'] = canopus_df['id'].str.split('_').str[-1].astype(int)\n",
    "        canopus_df = canopus_df[['shared name','NPC#pathway', 'NPC#superclass', 'NPC#class']]\n",
    "\n",
    "        #generate treemap\n",
    "    \n",
    "        \"\"\"Plot a NPClassifer treemap from annotation table using the annotation count\n",
    "\n",
    "        Args:\n",
    "            df_input (DataFrame): An annotation table\n",
    "            treemap_chemo_counted_results_path (str): Path to save the generated treemap\n",
    "        \"\"\"\n",
    "        canopus_df = canopus_df.replace({np.nan:'None'})\n",
    "        fig1 = px.treemap(canopus_df, path=['NPC#pathway', 'NPC#superclass', 'NPC#class'],\n",
    "                        color='NPC#pathway',\n",
    "                        color_discrete_map={\n",
    "                            'Terpenoids':'#44AA99',\n",
    "                            'Alkaloids': '#88CCEE',\n",
    "                            'Amino acids and Peptides': '#DDCC77',\n",
    "                            'Polyketides': '#CC6677',\n",
    "                            'Shikimates and Phenylpropanoids': '#AA4499',\n",
    "                            'Fatty acids': '#882255',\n",
    "                            'Carbohydrates': '#F4A261',})\n",
    "        fig1.update_layout(margin = dict(t=50, l=25, r=25, b=25),\n",
    "        title_text= directory + \" (\"  +  organism + \") \" + \"- metabolite annotation overview (size proportional to number of annotations)\")\n",
    "        fig1.update_annotations(font_size=14, font_family=\"Arial\")\n",
    "        \n",
    "        pathout = os.path.join(samples_dir, directory)\n",
    "        os.makedirs(pathout, exist_ok=True)\n",
    "        pathout1 = os.path.join(pathout, directory + '_treemap_pos.html')\n",
    "        fig1.write_html(pathout1)\n",
    "\n",
    "        #generate sunburst\n",
    "\n",
    "        fig2 = px.treemap(canopus_df, path=['NPC#pathway', 'NPC#superclass', 'NPC#class'],\n",
    "                        color='NPC#pathway',\n",
    "                        color_discrete_map={\n",
    "                            'Terpenoids':'#44AA99',\n",
    "                            'Alkaloids': '#88CCEE',\n",
    "                            'Amino acids and Peptides': '#DDCC77',\n",
    "                            'Polyketides': '#CC6677',\n",
    "                            'Shikimates and Phenylpropanoids': '#AA4499',\n",
    "                            'Fatty acids': '#882255',\n",
    "                            'Carbohydrates': '#F4A261',})\n",
    "        fig2.update_layout(margin = dict(t=50, l=25, r=25, b=25),\n",
    "        title_text= directory + \" (\"  +  organism + \") \" + \"- metabolite annotation overview (size proportional to number of annotations)\")\n",
    "        fig2.update_annotations(font_size=14, font_family=\"Arial\")\n",
    "        \n",
    "        pathout = os.path.join(samples_dir, directory)\n",
    "        os.makedirs(pathout, exist_ok=True)\n",
    "        pathout2 = os.path.join(pathout, directory + '_sunburst_pos.html')\n",
    "        fig2.write_html(pathout2)"
   ]
  },
  {
   "cell_type": "code",
   "execution_count": 2,
   "metadata": {},
   "outputs": [
    {
     "ename": "NameError",
     "evalue": "name 'repository_path' is not defined",
     "output_type": "error",
     "traceback": [
      "\u001b[0;31m---------------------------------------------------------------------------\u001b[0m",
      "\u001b[0;31mNameError\u001b[0m                                 Traceback (most recent call last)",
      "\u001b[1;32m/mnt/c/Users/quirosgu/Documents/GitHub/inventa/src/notebooks/treemap_sunburst.ipynb Cell 4\u001b[0m in \u001b[0;36m<cell line: 1>\u001b[0;34m()\u001b[0m\n\u001b[0;32m----> <a href='vscode-notebook-cell://wsl%2Bubuntu-20.04/mnt/c/Users/quirosgu/Documents/GitHub/inventa/src/notebooks/treemap_sunburst.ipynb#X21sdnNjb2RlLXJlbW90ZQ%3D%3D?line=0'>1</a>\u001b[0m sunburst_count_plotter(repository_path, organism)\n",
      "\u001b[0;31mNameError\u001b[0m: name 'repository_path' is not defined"
     ]
    }
   ],
   "source": [
    "sunburst_count_plotter(repository_path, organism)"
   ]
  },
  {
   "cell_type": "code",
   "execution_count": null,
   "metadata": {},
   "outputs": [],
   "source": [
    "#create TREEMAP\n",
    "df_input= dfp\n",
    "sample_dir='ABM' #name of your data\n",
    "organism='positive ionization mode' #species organism, conditions, etc... it will appear in parenthesis\n",
    "treemap_chemo_counted_results_path = 'c:/Users/bory/Documents/PhD-UniGe/PROJECTS/Thilo_Side_project_Eflux_pumps/Extracted_supernatant_MARCH-MAY_2022/220913_CANOPUS/ABM/ABM-B_treemap_pos.html' #path to save the html\n",
    "#plot the treemap\n",
    "plotter_count(df_input, sample_dir, organism, treemap_chemo_counted_results_path)"
   ]
  },
  {
   "cell_type": "code",
   "execution_count": 3,
   "metadata": {},
   "outputs": [],
   "source": [
    "#treemap\n",
    "def plotter_count(df_input, sample_dir, organism, treemap_chemo_counted_results_path):\n",
    "    \"\"\"Plot a NPClassifer treemap from annotation table using the annotation count\n",
    "\n",
    "    Args:\n",
    "        df_input (DataFrame): An annotation table\n",
    "        treemap_chemo_counted_results_path (str): Path to save the generated treemap\n",
    "    \"\"\"\n",
    "    df_input = df_input.replace({np.nan:'None'})\n",
    "    fig = px.treemap(df_input, path=['NPC#pathway', 'NPC#superclass', 'NPC#class'],\n",
    "                     color='NPC#pathway',\n",
    "                     color_discrete_map={\n",
    "                         'Terpenoids':'#44AA99',\n",
    "                         'Alkaloids': '#88CCEE',\n",
    "                         'Amino acids and Peptides': '#DDCC77',\n",
    "                         'Polyketides': '#CC6677',\n",
    "                         'Shikimates and Phenylpropanoids': '#AA4499',\n",
    "                         'Fatty acids': '#882255',\n",
    "                         'Carbohydrates': '#F4A261',})\n",
    "    fig.update_layout(margin = dict(t=50, l=25, r=25, b=25),\n",
    "    title_text= sample_dir + \" (\"  +  organism + \") \" + \"- metabolite annotation overview (size proportional to number of annotations)\")\n",
    "    fig.update_annotations(font_size=14, font_family=\"Arial\")\n",
    "    fig.write_html(treemap_chemo_counted_results_path)"
   ]
  },
  {
   "cell_type": "code",
   "execution_count": 4,
   "metadata": {},
   "outputs": [],
   "source": [
    "#sunburst\n",
    "def plotter_sunburst(df_input, sample_dir, organism, treemap_chemo_counted_results_path):\n",
    "    \"\"\"Plot a NPClassifer treemap from annotation table using the annotation count\n",
    "\n",
    "    Args:\n",
    "        df_input (DataFrame): An annotation table\n",
    "        treemap_chemo_counted_results_path (str): Path to save the generated treemap\n",
    "    \"\"\"\n",
    "    df_input = df_input.replace({np.nan:'None'})\n",
    "    fig = px.sunburst(df_input, path=['NPC#pathway', 'NPC#superclass', 'NPC#class'],\n",
    "                     color='NPC#pathway',\n",
    "                     color_discrete_map={\n",
    "                         'Terpenoids':'#44AA99',\n",
    "                         'Alkaloids': '#88CCEE',\n",
    "                         'Amino acids and Peptides': '#DDCC77',\n",
    "                         'Polyketides': '#CC6677',\n",
    "                         'Shikimates and Phenylpropanoids': '#AA4499',\n",
    "                         'Fatty acids': '#882255',\n",
    "                         'Carbohydrates': '#F4A261',})\n",
    "    fig.update_layout(margin = dict(t=50, l=25, r=25, b=25),\n",
    "    title_text= sample_dir + \" (\"  +  organism + \") \" + \"- metabolite annotation overview (size proportional to number of annotations)\")\n",
    "    fig.update_annotations(font_size=14, font_family=\"Arial\")\n",
    "    fig.write_html(treemap_chemo_counted_results_path)"
   ]
  },
  {
   "cell_type": "code",
   "execution_count": 5,
   "metadata": {},
   "outputs": [
    {
     "data": {
      "text/html": [
       "<div>\n",
       "<style scoped>\n",
       "    .dataframe tbody tr th:only-of-type {\n",
       "        vertical-align: middle;\n",
       "    }\n",
       "\n",
       "    .dataframe tbody tr th {\n",
       "        vertical-align: top;\n",
       "    }\n",
       "\n",
       "    .dataframe thead th {\n",
       "        text-align: right;\n",
       "    }\n",
       "</style>\n",
       "<table border=\"1\" class=\"dataframe\">\n",
       "  <thead>\n",
       "    <tr style=\"text-align: right;\">\n",
       "      <th></th>\n",
       "      <th>shared name</th>\n",
       "      <th>NPC#pathway</th>\n",
       "      <th>NPC#superclass</th>\n",
       "      <th>NPC#class</th>\n",
       "    </tr>\n",
       "  </thead>\n",
       "  <tbody>\n",
       "    <tr>\n",
       "      <th>0</th>\n",
       "      <td>805</td>\n",
       "      <td>Alkaloids</td>\n",
       "      <td>Anthranilic acid alkaloids</td>\n",
       "      <td>Quinoline alkaloids</td>\n",
       "    </tr>\n",
       "    <tr>\n",
       "      <th>1</th>\n",
       "      <td>981</td>\n",
       "      <td>Alkaloids</td>\n",
       "      <td>Ornithine alkaloids</td>\n",
       "      <td>Dipeptides</td>\n",
       "    </tr>\n",
       "  </tbody>\n",
       "</table>\n",
       "</div>"
      ],
      "text/plain": [
       "   shared name NPC#pathway              NPC#superclass            NPC#class\n",
       "0          805   Alkaloids  Anthranilic acid alkaloids  Quinoline alkaloids\n",
       "1          981   Alkaloids         Ornithine alkaloids           Dipeptides"
      ]
     },
     "execution_count": 5,
     "metadata": {},
     "output_type": "execute_result"
    }
   ],
   "source": [
    "#read and format SIrius files\n",
    "dfp = pd.read_csv(canopus_pos_path, sep='\\t')\n",
    "dfp['shared name'] = dfp['id'].str.split('_').str[-1].astype(int)\n",
    "dfp = dfp[['shared name','NPC#pathway', 'NPC#superclass', 'NPC#class']]\n",
    "dfp.head(2)"
   ]
  },
  {
   "cell_type": "code",
   "execution_count": 6,
   "metadata": {},
   "outputs": [
    {
     "name": "stderr",
     "output_type": "stream",
     "text": [
      "c:\\Users\\bory\\Anaconda3\\lib\\site-packages\\plotly\\express\\_core.py:1637: FutureWarning: The frame.append method is deprecated and will be removed from pandas in a future version. Use pandas.concat instead.\n",
      "  df_all_trees = df_all_trees.append(df_tree, ignore_index=True)\n",
      "c:\\Users\\bory\\Anaconda3\\lib\\site-packages\\plotly\\express\\_core.py:1637: FutureWarning: The frame.append method is deprecated and will be removed from pandas in a future version. Use pandas.concat instead.\n",
      "  df_all_trees = df_all_trees.append(df_tree, ignore_index=True)\n",
      "c:\\Users\\bory\\Anaconda3\\lib\\site-packages\\plotly\\express\\_core.py:1637: FutureWarning: The frame.append method is deprecated and will be removed from pandas in a future version. Use pandas.concat instead.\n",
      "  df_all_trees = df_all_trees.append(df_tree, ignore_index=True)\n"
     ]
    }
   ],
   "source": [
    "#create TREEMAP\n",
    "df_input= dfp\n",
    "sample_dir='ABM' #name of your data\n",
    "organism='positive ionization mode' #species organism, conditions, etc... it will appear in parenthesis\n",
    "treemap_chemo_counted_results_path = 'c:/Users/bory/Documents/PhD-UniGe/PROJECTS/Thilo_Side_project_Eflux_pumps/Extracted_supernatant_MARCH-MAY_2022/220913_CANOPUS/ABM/ABM-B_treemap_pos.html' #path to save the html\n",
    "#plot the treemap\n",
    "plotter_count(df_input, sample_dir, organism, treemap_chemo_counted_results_path)"
   ]
  },
  {
   "cell_type": "code",
   "execution_count": 7,
   "metadata": {},
   "outputs": [
    {
     "name": "stderr",
     "output_type": "stream",
     "text": [
      "c:\\Users\\bory\\Anaconda3\\lib\\site-packages\\plotly\\express\\_core.py:1637: FutureWarning:\n",
      "\n",
      "The frame.append method is deprecated and will be removed from pandas in a future version. Use pandas.concat instead.\n",
      "\n",
      "c:\\Users\\bory\\Anaconda3\\lib\\site-packages\\plotly\\express\\_core.py:1637: FutureWarning:\n",
      "\n",
      "The frame.append method is deprecated and will be removed from pandas in a future version. Use pandas.concat instead.\n",
      "\n",
      "c:\\Users\\bory\\Anaconda3\\lib\\site-packages\\plotly\\express\\_core.py:1637: FutureWarning:\n",
      "\n",
      "The frame.append method is deprecated and will be removed from pandas in a future version. Use pandas.concat instead.\n",
      "\n"
     ]
    }
   ],
   "source": [
    "#create TREEMAP\n",
    "df_input= dfp\n",
    "sample_dir='Set_LLE_ABM'\n",
    "organism='positive ionization mode'\n",
    "treemap_chemo_counted_results_path = 'c:/Users/bory/Documents/PhD-UniGe/PROJECTS/Thilo_Side_project_Eflux_pumps/Extracted_supernatant_MARCH-MAY_2022/220913_CANOPUS/ABM/ABM-B_sunburst_pos.html'\n",
    "\n",
    "#plot the sunbusrt\n",
    "plotter_sunburst(df_input, sample_dir, organism, treemap_chemo_counted_results_path)"
   ]
  }
 ],
 "metadata": {
  "kernelspec": {
   "display_name": "Python 3.8.5 ('base')",
   "language": "python",
   "name": "python3"
  },
  "language_info": {
   "codemirror_mode": {
    "name": "ipython",
    "version": 3
   },
   "file_extension": ".py",
   "mimetype": "text/x-python",
   "name": "python",
   "nbconvert_exporter": "python",
   "pygments_lexer": "ipython3",
   "version": "3.8.5"
  },
  "orig_nbformat": 4,
  "vscode": {
   "interpreter": {
    "hash": "2c38b6a57c2d4f85bcd8a646c69c70f453ebfd581092159d4a2b022d1b3585cd"
   }
  }
 },
 "nbformat": 4,
 "nbformat_minor": 2
}
