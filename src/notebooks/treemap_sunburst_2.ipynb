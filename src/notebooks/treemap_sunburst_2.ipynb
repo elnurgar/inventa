{
 "cells": [
  {
   "cell_type": "code",
   "execution_count": 2,
   "metadata": {},
   "outputs": [],
   "source": [
    "import numpy as np\n",
    "import pandas as pd\n",
    "import plotly.express as px\n",
    "import plotly.graph_objects as go\n",
    "import os\n",
    "from tqdm import tqdm"
   ]
  },
  {
   "cell_type": "code",
   "execution_count": 6,
   "metadata": {},
   "outputs": [],
   "source": [
    "repository_path = '/mnt/c/Users/quirosgu/Desktop/summaries'\n",
    "organism = 'Ophaga'"
   ]
  },
  {
   "cell_type": "code",
   "execution_count": 4,
   "metadata": {},
   "outputs": [],
   "source": [
    "def sunburst_count_plotter(repository_path, organism):\n",
    "        \n",
    "    path = os.path.normpath(repository_path)\n",
    "    samples_dir = [directory for directory in os.listdir(path)]\n",
    "\n",
    "    for directory in tqdm(samples_dir):\n",
    "            \n",
    "            canopus_path = os.path.join(path,'canopus_formula_summary_adducts.tsv')\n",
    "            \n",
    "            try:\n",
    "                canopus_df = pd.read_csv(canopus_path, sep='\\t')\n",
    "            \n",
    "            except FileNotFoundError:\n",
    "                continue\n",
    "            except NotADirectoryError:\n",
    "                continue\n",
    "\n",
    "            #read and format SIrius files\n",
    "            canopus_df = pd.read_csv(canopus_path, sep='\\t')\n",
    "            min_class_confidence = 0.8       #cut-off filter for considering a sirius class valable. It is used in combination with min_recurrence.\n",
    "\n",
    "            canopus_df = canopus_df[['id', 'molecularFormula', 'adduct', 'NPC#pathway',\n",
    "                'NPC#pathway Probability', 'NPC#superclass',\n",
    "                'NPC#superclass Probability', 'NPC#class', 'NPC#class Probability']]\n",
    "            canopus_df.rename(columns={'NPC#class Probability': 'classProbability'}, inplace=True) \n",
    "            canopus_df['shared name'] = canopus_df['id'].str.split('_').str[-1].astype(int)\n",
    "            canopus_df.drop('id', axis=1, inplace=True)\n",
    "            canopus_df.rename(columns={'shared name': 'row ID', 'adduct': 'adduct (sirius)', 'molecularFormula': 'MF (sirius)', 'name': 'Compound name (sirius)'}, inplace=True) \n",
    "            canopus_df.drop(canopus_df[canopus_df.classProbability > min_class_confidence].index, inplace=True)\n",
    "           #canopus_df.drop(['MF (sirius)','adduct (sirius)', 'classProbability', 'NPC#superclass Probability', 'NPC#pathway Probability'], axis=1, inplace=True)\n",
    "            canopus_df = canopus_df[['row ID','NPC#pathway', 'NPC#superclass', 'NPC#class']]\n",
    "            canopus_df = canopus_df.replace({np.nan:'None'})\n",
    "\n",
    "            #generate treemap        \n",
    "            fig1 = px.treemap(canopus_df, path=['NPC#pathway', 'NPC#superclass', 'NPC#class'],\n",
    "                            color='NPC#pathway',\n",
    "                            color_discrete_map={\n",
    "                                'Terpenoids':'#44AA99',\n",
    "                                'Alkaloids': '#88CCEE',\n",
    "                                'Amino acids and Peptides': '#DDCC77',\n",
    "                                'Polyketides': '#CC6677',\n",
    "                                'Shikimates and Phenylpropanoids': '#AA4499',\n",
    "                                'Fatty acids': '#882255',\n",
    "                                'Carbohydrates': '#F4A261',})\n",
    "            fig1.update_layout(margin = dict(t=50, l=25, r=25, b=25),\n",
    "            title_text=\" (\"  +  organism + \") \" + \"- metabolite annotation overview (size proportional to number of annotations)\")\n",
    "            fig1.update_annotations(font_size=14, font_family=\"Arial\")\n",
    "            \n",
    "    \n",
    "            #generate sunburst\n",
    "\n",
    "            fig2 = px.sunburst(canopus_df, path=['NPC#pathway', 'NPC#superclass', 'NPC#class'],\n",
    "                            color='NPC#pathway',\n",
    "                            color_discrete_map={\n",
    "                                'Terpenoids':'#44AA99',\n",
    "                                'Alkaloids': '#88CCEE',\n",
    "                                'Amino acids and Peptides': '#DDCC77',\n",
    "                                'Polyketides': '#CC6677',\n",
    "                                'Shikimates and Phenylpropanoids': '#AA4499',\n",
    "                                'Fatty acids': '#882255',\n",
    "                                'Carbohydrates': '#F4A261',})\n",
    "            fig2.update_layout(margin = dict(t=50, l=25, r=25, b=25),\n",
    "            title_text= \" (\"  +  organism + \") \" + \"- metabolite annotation overview (size proportional to number of annotations)\")\n",
    "            fig2.update_annotations(font_size=14, font_family=\"Arial\")\n",
    "            \n",
    "\n",
    "            pathout = os.path.join(path, 'results/')\n",
    "            os.makedirs(pathout, exist_ok=True)\n",
    "            pathout_treemap = os.path.join(pathout, directory + '_treemap_pos.html')\n",
    "            pathout_sunburst = os.path.join(pathout, directory + '_sunburst_pos.html')\n",
    "            fig1.write_html(pathout_treemap)\n",
    "            fig2.write_html(pathout_sunburst)"
   ]
  },
  {
   "cell_type": "code",
   "execution_count": 8,
   "metadata": {},
   "outputs": [
    {
     "name": "stderr",
     "output_type": "stream",
     "text": [
      "100%|██████████| 1/1 [00:00<00:00,  1.12it/s]\n"
     ]
    }
   ],
   "source": [
    "sunburst_count_plotter(repository_path, organism)"
   ]
  }
 ],
 "metadata": {
  "kernelspec": {
   "display_name": "inventa",
   "language": "python",
   "name": "python3"
  },
  "language_info": {
   "codemirror_mode": {
    "name": "ipython",
    "version": 3
   },
   "file_extension": ".py",
   "mimetype": "text/x-python",
   "name": "python",
   "nbconvert_exporter": "python",
   "pygments_lexer": "ipython3",
   "version": "3.7.12 | packaged by conda-forge | (default, Oct 26 2021, 06:08:21) \n[GCC 9.4.0]"
  },
  "orig_nbformat": 4,
  "vscode": {
   "interpreter": {
    "hash": "f40ac8c71e223d85162b29606d9c88efd87008676606c08744cb976fdeb3b12b"
   }
  }
 },
 "nbformat": 4,
 "nbformat_minor": 2
}
